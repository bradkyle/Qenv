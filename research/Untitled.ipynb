{
 "cells": [
  {
   "cell_type": "code",
   "execution_count": 1,
   "metadata": {},
   "outputs": [],
   "source": [
    "instrument:([iId:`long$()] cntTyp:`long$();state:`long$();faceValue:`long$();markPrice:`long$();plmts:`long$();plmtb:`long$();\n",
    "    lotSize:`long$();tickSize:`long$();mnSize:`long$();mxSize:`long$();mnPrice:`long$();mxPrice:`long$();bestBid:`long$();bestAsk:`long$();\n",
    "    liqb:`boolean$();liqs:`boolean$());"
   ]
  }
 ],
 "metadata": {
  "kernelspec": {
   "display_name": "Q (kdb+)",
   "language": "q",
   "name": "qpk"
  },
  "language_info": {
   "file_extension": ".q",
   "mimetype": "text/x-q",
   "name": "q",
   "version": "4.0"
  }
 },
 "nbformat": 4,
 "nbformat_minor": 4
}
