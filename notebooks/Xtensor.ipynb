{
 "cells": [
  {
   "cell_type": "code",
   "execution_count": 1,
   "metadata": {},
   "outputs": [],
   "source": [
    "#pragma cling add_include_path(\"./thirdparty/kdb/include\")\n",
    "#pragma cling add_include_path(\"./thirdparty/kdb/include/internal\")\n",
    "#pragma cling load(\"./thirdparty/kdb/build/libkdb.so\") \n",
    "\n",
    "#include </home/thorad/Core/Projects/Qenv/notebooks/thirdparty/kdb/include/kdb_cpp.h>\n",
    "#include <string>\n",
    "#include <iostream>\n",
    "#include <typeinfo>"
   ]
  },
  {
   "cell_type": "code",
   "execution_count": 2,
   "metadata": {},
   "outputs": [],
   "source": [
    "kdb::Connector kcon;\n",
    "#define HOST_ADDR \"127.0.0.1\"\n",
    "#define HOST_PORT 5050"
   ]
  },
  {
   "cell_type": "code",
   "execution_count": 3,
   "metadata": {},
   "outputs": [],
   "source": [
    "if (!kcon.connect(HOST_ADDR, HOST_PORT))\n",
    "        return -1;"
   ]
  },
  {
   "cell_type": "code",
   "execution_count": 4,
   "metadata": {},
   "outputs": [],
   "source": [
    "kdb::Result r = kcon.sync(\".server.DumStep[((0;1);(1;5);(2;4);(3;5));0]\");"
   ]
  },
  {
   "cell_type": "code",
   "execution_count": 5,
   "metadata": {},
   "outputs": [],
   "source": [
    "K rks = r.get_res();"
   ]
  },
  {
   "cell_type": "code",
   "execution_count": 5,
   "metadata": {},
   "outputs": [
    {
     "name": "stdout",
     "output_type": "stream",
     "text": [
      "agentId 0 1 2 3  observation reward done episode_step episode_return 66.7869 117.868 237.344 93.0949 170.731 224.676 195.164 43.2747 207.06 202.177 52.7731 204.235 70.3016 21.8704 104.485 81.5792 50.3089 116.653 228.082 59.9554 48.6616 202.574 100.718 170.537 176.672 111.283 181.808 234.654 37.6921 249.094 197.954 174.667 251.035 0.555999 167.751 146.396 38.5652 35.8246 197.376 185.149 28.1304 77.5687 111.956 21.271 160.689 197.493 235.965 72.6605 144.321 69.9803 177.697 146.074 89.9543 60.4808 9.96417 60.0166 187.157 114.053 96.112 35.7214 170.994 28.8433 128.413 143.748 232.212 94.7474 102.41 207.745 52.4408 220.463 148.158 205.564 215.613 12.3508 239.006 0.840094 206.725 47.4791 161.166 55.3448 148.341 243.186 38.2108 5.43433 145.65 123.561 98.6075 191.402 246.869 114.714 103.626 107.825 16.4597 99.6354 111.347 144.887 39.4815 178.798 37.2997 224.134 15.2927 106.428 90.9009 57.7065 213.258 112.081 110.888 8.07665 193.117 248.064 161.421 83.4877 186.997 205.762 178.67 229.18 3.36995 4.96538 204.468 4.09595 226.393 42.2718 231.24 30.9936 149.266 150.965 93.4047 154.688 22.5684 34.3755 83.7756 49.9368 78.6704 32.6883 50.0804 17.1564 60.502 66.9749 117.413 237.46 73.22 60.1516 157.456 23.3573 22.8393 195.67 14.4007 44.6234 39.6726 174.539 4.82524 222.566 167.016 114.729 235.119 176.38 69.2626 104.262 69.0887 109.352 29.6318 224.386 180.961 50.0133 205.416 49.1001 75.3846 6.15002 114.292 98.6163 218.865 102.324 173.147 53.2817 161.693 97.8326 147.55 247.559 50.7275 190.656 141.419 182.386 120.869 27.8623 60.9305 86.0781 51.7786 178.001 135.796 142.694 157.945 89.5206 165.265 78.9522 143.508 99.7051 222.244 11.3145 85.8487 206.875 206.582 196.401 131.113 107.427 149.669 109.072 173.172 155.162 21.7845 47.7404 4.52544 39.8925 47.3027 80.1363 201.164 66.1981 131.397 79.7441 0.153852 44.982 5.47233 57.9274 204.293 190.898 221.499 128.161 82.4338 200.954 60.9605 59.4878 32.8651 137.331 126.173 224.617 52.3365 171.134 116.674 250.469 20.1613 42.6966 239.127 142.184 98.5522 228.065 239.36 207.513 168.934 132.342 157.287 253.7 95.296 251.823 86.5308 15.604 61.4894 137.996  172.699 121.883 81.218 197.444 106.135 115.197 122.305 29.1514 133.632 6.48014 134.06 150.601 222.145 13.8731 131.498 220.224 88.1448 23.8923 199.495 34.5132 7.03823 248.139 239.528 29.2154 206.295 161.574 203.766 66.3048 191.709 228.639 161.124 105.23 238.577 40.1661 48.5528 243.723 197.676 158.566 185.906 6.22151 215.867 69.8956 113.44 252.291 18.2905 213.775 207.53 219.881 222.584 98.7118 51.1061 34.761 60.6296 233.822 185.128 94.4588 141.24 141.201 4.13205 210.316 219.245 93.3998 49.3597 214.887 55.0248 113.269 34.6761 246.083 39.4014 163.962 57.2553 143.332 100.546 182.889 182.796 91.9408 146.527 41.571 160.052 222.038 71.5132 31.88 216.065 25.5174 219.306 250.693 6.12593 115.11 216.275 190.154 38.6626 86.6631 196.129 194.24 105.655 126.479 95.5869 3.50991 8.06559 211.007 182.215 205.895 221.737 241.227 145.051 34.2828 15.5626 234.71 61.6035 98.1299 58.39 34.2418 58.2145 155.133 81.1687 131.199 147.037 37.5445 88.5232 103.91 138.81 2.75033 143.617 4.40785 224.748 29.4157 139.105 183.027 139.161 243.524 52.6404 181.792 136.186 249.442 50.8089 152.485 181.676 212.126 142.813 181.385 128.219 177.493 93.9286 208.872 54.1693 83.744 185.333 238.642 91.8882 204.187 7.366 75.7638 165.676 18.8737 66.8215 93.935 35.2862 124.006 3.64963 213.707 48.8857 73.5287 241.46 22.2068 220.639 118.025 212.976 100.347 26.0271 127.863 4.86757 104.696 78.521 207.432 117.434 159.769 219.073 110.662 140.356 137.289 134.502 158.994 163.334 170.501 192.382 182.784 175.76 229.37 165.188 85.9242 221.748 95.0881 4.9585 223.517 75.5278 182.997 227.529 71.2398 21.9065 13.4744 247.397 197.409 180.263 41.3522 28.7073 120.669 0.0206799 22.3026 221.749 59.2003 188.956 15.4716 73.5046 235.69 133.493 188.375 44.3189 137.82 152.237 204.608 165.628 150.403 43.8083 253.723 129.358 35.1933 6.68506 52.3739 211.662 148.347 220.208 32.2672 5.7005 122.673 117.765 210.024 204.89 100.144 191.472 31.9668 133.347 217.305 69.6455 88.104 30.4916 127.382 20.4727 5.94812 253.321 81.8559 147.337 120.861 230.401 114.574 15.8775 201.535  138.584 35.8335 31.4891 202.487 97.5699 79.0273 33.3978 220.262 196.267 93.0624 16.7927 78.2216 46.6982 245.62 13.5039 249.366 164.685 156.059 206.588 200.425 91.7828 123.785 251.293 174.535 235.357 59.7277 124.696 233.187 234.36 243.224 250.196 222.324 56.973 19.3392 182.029 222.01 96.9895 76.9802 105.046 60.3473 227.71 132.819 144.662 123.522 189.59 38.6627 86.344 130.751 182.662 127.92 67.066 37.7482 128.405 116.078 147.919 153.226 27.205 249.199 250.877 153.754 13.35 53.6996 51.924 127.039 124.11 225.402 38.0741 60.7906 13.382 20.8723 222.786 71.4461 248.073 125.48 182.491 170.72 98.5646 165.7 129.814 240.529 210.906 143.349 141.451 31.4684 52.8341 114.476 0.712901 123.404 128.009 27.1007 176.131 180.771 114.335 249.426 228.099 89.0833 15.2338 167.558 102.375 229.202 169.562 242.636 167.89 106.413 111.594 174.858 110.774 206.954 37.5671 76.5475 169.615 241.524 82.9457 127.579 246.213 248.73 54.049 237.001 148.64 201.803 235.599 68.5644 144.223 152.673 253.98 249.609 182.636 96.8926 28.6188 47.3878 178.392 126.77 215.074 118.304 111.751 70.408 172.387 35.2972 89.8037 252.996 31.0922 187.689 25.8036 249.059 171.63 136.092 106.404 60.9663 150.001 69.7764 207.059 73.2793 49.5399 190.455 55.7511 223.697 234.946 139.776 194.335 211.174 97.6687 253.926 133.583 192.123 103.121 66.5025 76.084 9.41095 42.6791 23.8305 167.31 224.919 75.5352 216.482 141.674 111.945 135.895 131.589 27.5161 14.6786 217.838 74.6151 179.814 4.78635 62.0812 66.4958 20.2398 10.8376 17.679 188.737 96.6692 247.835 35.099 191.214 47.5886 100.106 194.277 214.95 143.311 235.269 192.499 88.5479 178.244 38.8437 66.8627 13.6588 37.3652 26.3643 223.095 107.224 116.559 122.883 42.9855 231.678 220.998 210.023 119.282 4.26445 243.718 28.8469 58.2802 47.4737 44.7365 149.864 126.009 55.1547 220.054 90.8531 180.648 197.005 227.623 216.446 207.85 175.614 21.206 190.063 46.3188 125.643 245.217 143.047 160.812 24.2611 135.865 206.356 228.271 19.0141 180.59 38.7863 94.3379 189.461 120.281 241.098 185.896 20.084 189.352 130.705  240.863 74.5325 232.037 212.634 1.20738 87.228 122.676 52.5966 61.3179 60.792 26.4919 138.23 201.013 98.975 241.624 213.097 39.2964 86.512 196.49 56.8371 70.1509 82.5728 246.686 177.559 56.1409 66.0329 239.208 116.113 230.036 249.216 175.682 194.925 166.027 27.2396 21.0382 152.136 223.733 53.9275 98.6717 47.5087 87.1386 155.333 182.479 11.0204 239.962 196.216 19.1784 84.0442 21.7393 210.314 85.3316 57.6047 40.1204 149.16 97.2681 192.801 121.848 72.942 236.866 224.689 154.009 168.569 95.6303 79.5607 104.213 133.748 29.2038 225.084 174.162 181.349 126.288 229.832 26.1161 50.5204 203.053 199.827 122.495 240.352 108.703 217.796 75.3518 81.6958 14.2583 13.0273 164.633 192.742 42.1572 231.88 161.68 22.0413 110.256 114.22 118.114 146.405 43.259 114.171 250.323 162.598 65.1128 11.5925 154.126 172.586 23.672 207.907 40.7128 168.543 188.644 44.469 249.123 188.697 174.921 160.803 9.54942 168.929 131.825 150.758 109.728 3.77013 74.881 150.589 12.2216 45.4062 136.501 94.0365 244.589 171.003 179.356 170.325 103.345 237.278 189.519 63.6039 59.5112 132.43 89.019 209.73 221.376 125.71 239.349 228.235 18.0092 43.2877 172.514 33.0704 174.929 105.708 89.4291 253.494 83.1747 206.248 250.862 64.1412 54.8703 139.393 131.993 199.477 141.265 43.5182 58.9593 94.9606 11.2066 210.203 131.7 160.969 161.704 80.1162 56.4714 252.979 201.904 209.449 128.139 121.406 213.02 154.56 188.125 141.21 63.2709 156.499 83.9856 236.511 145.927 11.9836 49.3216 5.49701 158.45 97.115 54.2015 151.472 124.767 69.1666 192.838 14.4564 16.875 249.65 212.346 76.5354 202.825 142.589 248.063 132.918 71.1426 197.389 126.609 49.2544 174.775 225.993 1.25376 35.9166 169.791 61.675 100.737 45.2847 62.2017 213.566 3.4558 100.769 32.0615 219.486 241.301 71.8526 62.3556 228.551 94.6985 15.3431 118.411 201.772 87.7734 118.108 242.639 27.7114 129.626 143.078 226.376 55.2878 211.284 221.925 8.87816 53.0382 75.5722 27.9827 159.605 247.078 70.6202 111.412 23.9039 134.159 186.582 31.6613 130.596 7.97342 34.2336 252.083 254.77 181.436 21.3714 114.878   0.37677 0.650834 0.137452 0.424732  false false true true  0 0 0 0  0 0 0 0   "
     ]
    }
   ],
   "source": [
    "std::cout << r << ' ';"
   ]
  },
  {
   "cell_type": "code",
   "execution_count": 9,
   "metadata": {},
   "outputs": [
    {
     "name": "stderr",
     "output_type": "stream",
     "text": [
      "\u001b[1minput_line_17:2:5: \u001b[0m\u001b[0;1;31merror: \u001b[0m\u001b[1muse of undeclared identifier 'r'\u001b[0m\n",
      " kF(r.res_)\n",
      "\u001b[0;1;32m    ^\n",
      "\u001b[0m"
     ]
    },
    {
     "ename": "Interpreter Error",
     "evalue": "",
     "output_type": "error",
     "traceback": [
      "Interpreter Error: "
     ]
    }
   ],
   "source": []
  },
  {
   "cell_type": "code",
   "execution_count": 8,
   "metadata": {},
   "outputs": [
    {
     "name": "stdout",
     "output_type": "stream",
     "text": [
      "139954981177984 139954981178016 139954981178048 139954981178112 "
     ]
    }
   ],
   "source": [
    "for (auto const it : column) {\n",
    "    std::cout << it << ' ';\n",
    "}"
   ]
  },
  {
   "cell_type": "code",
   "execution_count": 1,
   "metadata": {
    "run_control": {
     "marked": false
    }
   },
   "outputs": [
    {
     "name": "stderr",
     "output_type": "stream",
     "text": [
      "\u001b[1minput_line_7:2:22: \u001b[0m\u001b[0;1;31merror: \u001b[0m\u001b[1muse of undeclared identifier 'column'\u001b[0m\n",
      " std::cout << typeid(column).name() << std::endl;\n",
      "\u001b[0;1;32m                     ^\n",
      "\u001b[0m\u001b[1minput_line_7:2:7: \u001b[0m\u001b[0;1;31merror: \u001b[0m\u001b[1mno member named 'cout' in namespace 'std'; did you mean 'count'?\u001b[0m\n",
      " std::cout << typeid(column).name() << std::endl;\n",
      "\u001b[0;1;32m ~~~~~^~~~\n",
      "\u001b[0m\u001b[0;32m      count\n",
      "\u001b[0m\u001b[1m/opt/anaconda3/envs/cling/bin/../lib/gcc/x86_64-conda-linux-gnu/7.5.0/../../../../x86_64-conda-linux-gnu/include/c++/7.5.0/bits/stl_algo.h:4076:5: \u001b[0m\u001b[0;1;30mnote: \u001b[0m'count' declared here\u001b[0m\n",
      "    count(_InputIterator __first, _InputIterator __last, const _Tp& __value)\n",
      "\u001b[0;1;32m    ^\n",
      "\u001b[0m"
     ]
    },
    {
     "ename": "Interpreter Error",
     "evalue": "",
     "output_type": "error",
     "traceback": [
      "Interpreter Error: "
     ]
    }
   ],
   "source": [
    "std::cout << typeid(column).name() << std::endl;"
   ]
  },
  {
   "cell_type": "code",
   "execution_count": 10,
   "metadata": {},
   "outputs": [],
   "source": []
  },
  {
   "cell_type": "code",
   "execution_count": null,
   "metadata": {},
   "outputs": [],
   "source": []
  },
  {
   "cell_type": "code",
   "execution_count": 9,
   "metadata": {},
   "outputs": [],
   "source": [
    "kdb::Result res = kcon.sync(\"select from tbl_test\");"
   ]
  },
  {
   "cell_type": "code",
   "execution_count": 10,
   "metadata": {},
   "outputs": [],
   "source": [
    "kdb::Table tbl = res.get_table();"
   ]
  },
  {
   "cell_type": "code",
   "execution_count": null,
   "metadata": {},
   "outputs": [],
   "source": []
  },
  {
   "cell_type": "code",
   "execution_count": 11,
   "metadata": {},
   "outputs": [
    {
     "name": "stdout",
     "output_type": "stream",
     "text": [
      "=======================================\n",
      "Column 0: 1 2 3 4 \n"
     ]
    }
   ],
   "source": [
    "// Traverse a column\n",
    "kdb::Vector<kdb::Type::Long> column = tbl.get_column<kdb::Type::Long>(0);\n",
    "std::cout << \"=======================================\\nColumn 0: \";\n",
    "for (auto const &it : column) {\n",
    "    std::cout << it << ' ';\n",
    "}\n",
    "std::cout << '\\n';"
   ]
  },
  {
   "cell_type": "code",
   "execution_count": 5,
   "metadata": {},
   "outputs": [
    {
     "name": "stderr",
     "output_type": "stream",
     "text": [
      "In file included from input_line_14:1:\n",
      "In file included from ./thirdparty/libtorch/include/torch/csrc/api/include/torch/torch.h:3:\n",
      "In file included from ./thirdparty/libtorch/include/torch/csrc/api/include/torch/all.h:8:\n",
      "In file included from ./thirdparty/libtorch/include/torch/csrc/api/include/torch/data.h:3:\n",
      "In file included from ./thirdparty/libtorch/include/torch/csrc/api/include/torch/data/dataloader.h:3:\n",
      "In file included from ./thirdparty/libtorch/include/torch/csrc/api/include/torch/data/dataloader/stateful.h:3:\n",
      "In file included from ./thirdparty/libtorch/include/torch/csrc/api/include/torch/data/dataloader/base.h:3:\n",
      "In file included from ./thirdparty/libtorch/include/torch/csrc/api/include/torch/data/dataloader_options.h:4:\n",
      "In file included from ./thirdparty/libtorch/include/torch/csrc/api/include/torch/types.h:3:\n",
      "In file included from ./thirdparty/libtorch/include/ATen/ATen.h:9:\n",
      "In file included from ./thirdparty/libtorch/include/ATen/Context.h:4:\n",
      "In file included from ./thirdparty/libtorch/include/ATen/Tensor.h:3:\n",
      "In file included from ./thirdparty/libtorch/include/ATen/core/TensorBody.h:4:\n",
      "In file included from ./thirdparty/libtorch/include/c10/core/Layout.h:3:\n",
      "In file included from ./thirdparty/libtorch/include/c10/core/Backend.h:5:\n",
      "In file included from ./thirdparty/libtorch/include/c10/core/DispatchKeySet.h:4:\n",
      "\u001b[1m./thirdparty/libtorch/include/c10/util/llvmMathExtras.h:790:8: \u001b[0m\u001b[0;1;31merror: \u001b[0m\u001b[1mexpected unqualified-id\u001b[0m\n",
      "   T Z = X + Y;\n",
      "\u001b[0;1;32m       ^\n",
      "\u001b[0m\u001b[1m./thirdparty/libtorch/include/c10/util/llvmMathExtras.h:791:18: \u001b[0m\u001b[0;1;31merror: \u001b[0m\u001b[1mtype name does not allow storage class to be specified\u001b[0m\n",
      "   Overflowed = (Z < X || Z < Y);\n",
      "\u001b[0;1;32m                 ^\n",
      "\u001b[0m\u001b[1m./thirdparty/kdb-cpp/include/internal/../external/k.h:101:11: \u001b[0m\u001b[0;1;30mnote: \u001b[0mexpanded from macro 'Z'\u001b[0m\n",
      "#define Z static\n",
      "\u001b[0;1;32m          ^\n",
      "\u001b[0mIn file included from input_line_14:1:\n",
      "In file included from ./thirdparty/libtorch/include/torch/csrc/api/include/torch/torch.h:3:\n",
      "In file included from ./thirdparty/libtorch/include/torch/csrc/api/include/torch/all.h:8:\n",
      "In file included from ./thirdparty/libtorch/include/torch/csrc/api/include/torch/data.h:3:\n",
      "In file included from ./thirdparty/libtorch/include/torch/csrc/api/include/torch/data/dataloader.h:3:\n",
      "In file included from ./thirdparty/libtorch/include/torch/csrc/api/include/torch/data/dataloader/stateful.h:3:\n",
      "In file included from ./thirdparty/libtorch/include/torch/csrc/api/include/torch/data/dataloader/base.h:3:\n",
      "In file included from ./thirdparty/libtorch/include/torch/csrc/api/include/torch/data/dataloader_options.h:4:\n",
      "In file included from ./thirdparty/libtorch/include/torch/csrc/api/include/torch/types.h:3:\n",
      "In file included from ./thirdparty/libtorch/include/ATen/ATen.h:9:\n",
      "In file included from ./thirdparty/libtorch/include/ATen/Context.h:4:\n",
      "In file included from ./thirdparty/libtorch/include/ATen/Tensor.h:3:\n",
      "In file included from ./thirdparty/libtorch/include/ATen/core/TensorBody.h:4:\n",
      "In file included from ./thirdparty/libtorch/include/c10/core/Layout.h:3:\n",
      "In file included from ./thirdparty/libtorch/include/c10/core/Backend.h:5:\n",
      "In file included from ./thirdparty/libtorch/include/c10/core/DispatchKeySet.h:4:\n",
      "\u001b[1m./thirdparty/libtorch/include/c10/util/llvmMathExtras.h:791:20: \u001b[0m\u001b[0;1;31merror: \u001b[0m\u001b[1mexpected ')'\u001b[0m\n",
      "   Overflowed = (Z < X || Z < Y);\n",
      "\u001b[0;1;32m                   ^\n",
      "\u001b[0m\u001b[1m./thirdparty/libtorch/include/c10/util/llvmMathExtras.h:791:17: \u001b[0m\u001b[0;1;30mnote: \u001b[0mto match this '('\u001b[0m\n",
      "   Overflowed = (Z < X || Z < Y);\n",
      "\u001b[0;1;32m                ^\n",
      "\u001b[0m\u001b[1m./thirdparty/libtorch/include/c10/util/llvmMathExtras.h:791:33: \u001b[0m\u001b[0;1;31merror: \u001b[0m\u001b[1mexpected expression\u001b[0m\n",
      "   Overflowed = (Z < X || Z < Y);\n",
      "\u001b[0;1;32m                                ^\n",
      "\u001b[0m\u001b[1m./thirdparty/libtorch/include/c10/util/llvmMathExtras.h:795:13: \u001b[0m\u001b[0;1;31merror: \u001b[0m\u001b[1mexpected expression\u001b[0m\n",
      "     return Z;\n",
      "\u001b[0;1;32m            ^\n",
      "\u001b[0m\u001b[1m./thirdparty/kdb-cpp/include/internal/../external/k.h:101:11: \u001b[0m\u001b[0;1;30mnote: \u001b[0mexpanded from macro 'Z'\u001b[0m\n",
      "#define Z static\n",
      "\u001b[0;1;32m          ^\n",
      "\u001b[0mIn file included from input_line_14:1:\n",
      "In file included from ./thirdparty/libtorch/include/torch/csrc/api/include/torch/torch.h:3:\n",
      "In file included from ./thirdparty/libtorch/include/torch/csrc/api/include/torch/all.h:8:\n",
      "In file included from ./thirdparty/libtorch/include/torch/csrc/api/include/torch/data.h:3:\n",
      "In file included from ./thirdparty/libtorch/include/torch/csrc/api/include/torch/data/dataloader.h:3:\n",
      "In file included from ./thirdparty/libtorch/include/torch/csrc/api/include/torch/data/dataloader/stateful.h:3:\n",
      "In file included from ./thirdparty/libtorch/include/torch/csrc/api/include/torch/data/dataloader/base.h:3:\n",
      "In file included from ./thirdparty/libtorch/include/torch/csrc/api/include/torch/data/dataloader_options.h:4:\n",
      "In file included from ./thirdparty/libtorch/include/torch/csrc/api/include/torch/types.h:3:\n",
      "In file included from ./thirdparty/libtorch/include/ATen/ATen.h:9:\n",
      "In file included from ./thirdparty/libtorch/include/ATen/Context.h:4:\n",
      "In file included from ./thirdparty/libtorch/include/ATen/Tensor.h:3:\n",
      "In file included from ./thirdparty/libtorch/include/ATen/core/TensorBody.h:4:\n",
      "In file included from ./thirdparty/libtorch/include/c10/core/Layout.h:3:\n",
      "In file included from ./thirdparty/libtorch/include/c10/core/Backend.h:5:\n",
      "In file included from ./thirdparty/libtorch/include/c10/core/DispatchKeySet.h:4:\n",
      "\u001b[1m./thirdparty/libtorch/include/c10/util/llvmMathExtras.h:831:8: \u001b[0m\u001b[0;1;31merror: \u001b[0m\u001b[1mexpected unqualified-id\u001b[0m\n",
      "   T Z = (X >> 1) * Y;\n",
      "\u001b[0;1;32m       ^\n",
      "\u001b[0m\u001b[1m./thirdparty/libtorch/include/c10/util/llvmMathExtras.h:832:8: \u001b[0m\u001b[0;1;31merror: \u001b[0m\u001b[1mtype name does not allow storage class to be specified\u001b[0m\n",
      "   if (Z & ~(Max >> 1)) {\n",
      "\u001b[0;1;32m       ^\n",
      "\u001b[0m\u001b[1m./thirdparty/kdb-cpp/include/internal/../external/k.h:101:11: \u001b[0m\u001b[0;1;30mnote: \u001b[0mexpanded from macro 'Z'\u001b[0m\n",
      "#define Z static\n",
      "\u001b[0;1;32m          ^\n",
      "\u001b[0mIn file included from input_line_14:1:\n",
      "In file included from ./thirdparty/libtorch/include/torch/csrc/api/include/torch/torch.h:3:\n",
      "In file included from ./thirdparty/libtorch/include/torch/csrc/api/include/torch/all.h:8:\n",
      "In file included from ./thirdparty/libtorch/include/torch/csrc/api/include/torch/data.h:3:\n",
      "In file included from ./thirdparty/libtorch/include/torch/csrc/api/include/torch/data/dataloader.h:3:\n",
      "In file included from ./thirdparty/libtorch/include/torch/csrc/api/include/torch/data/dataloader/stateful.h:3:\n",
      "In file included from ./thirdparty/libtorch/include/torch/csrc/api/include/torch/data/dataloader/base.h:3:\n",
      "In file included from ./thirdparty/libtorch/include/torch/csrc/api/include/torch/data/dataloader_options.h:4:\n",
      "In file included from ./thirdparty/libtorch/include/torch/csrc/api/include/torch/types.h:3:\n",
      "In file included from ./thirdparty/libtorch/include/ATen/ATen.h:9:\n",
      "In file included from ./thirdparty/libtorch/include/ATen/Context.h:4:\n",
      "In file included from ./thirdparty/libtorch/include/ATen/Tensor.h:3:\n",
      "In file included from ./thirdparty/libtorch/include/ATen/core/TensorBody.h:4:\n",
      "In file included from ./thirdparty/libtorch/include/c10/core/Layout.h:3:\n",
      "In file included from ./thirdparty/libtorch/include/c10/core/Backend.h:5:\n",
      "In file included from ./thirdparty/libtorch/include/c10/core/DispatchKeySet.h:4:\n",
      "\u001b[1m./thirdparty/libtorch/include/c10/util/llvmMathExtras.h:832:13: \u001b[0m\u001b[0;1;31merror: \u001b[0m\u001b[1mexpected a class name after '~' to name a destructor\u001b[0m\n",
      "   if (Z & ~(Max >> 1)) {\n",
      "\u001b[0;1;32m            ^\n",
      "\u001b[0m\u001b[1m./thirdparty/libtorch/include/c10/util/llvmMathExtras.h:836:6: \u001b[0m\u001b[0;1;31merror: \u001b[0m\u001b[1mexpected unqualified-id\u001b[0m\n",
      "   Z <<= 1;\n",
      "\u001b[0;1;32m     ^\n",
      "\u001b[0m\u001b[1m./thirdparty/libtorch/include/c10/util/llvmMathExtras.h:838:27: \u001b[0m\u001b[0;1;31merror: \u001b[0m\u001b[1mexpected expression\u001b[0m\n",
      "     return SaturatingAdd(Z, Y, ResultOverflowed);\n",
      "\u001b[0;1;32m                          ^\n",
      "\u001b[0m\u001b[1m./thirdparty/kdb-cpp/include/internal/../external/k.h:101:11: \u001b[0m\u001b[0;1;30mnote: \u001b[0mexpanded from macro 'Z'\u001b[0m\n",
      "#define Z static\n",
      "\u001b[0;1;32m          ^\n",
      "\u001b[0mIn file included from input_line_14:1:\n",
      "In file included from ./thirdparty/libtorch/include/torch/csrc/api/include/torch/torch.h:3:\n",
      "In file included from ./thirdparty/libtorch/include/torch/csrc/api/include/torch/all.h:8:\n",
      "In file included from ./thirdparty/libtorch/include/torch/csrc/api/include/torch/data.h:3:\n",
      "In file included from ./thirdparty/libtorch/include/torch/csrc/api/include/torch/data/dataloader.h:3:\n",
      "In file included from ./thirdparty/libtorch/include/torch/csrc/api/include/torch/data/dataloader/stateful.h:3:\n",
      "In file included from ./thirdparty/libtorch/include/torch/csrc/api/include/torch/data/dataloader/base.h:3:\n",
      "In file included from ./thirdparty/libtorch/include/torch/csrc/api/include/torch/data/dataloader_options.h:4:\n",
      "In file included from ./thirdparty/libtorch/include/torch/csrc/api/include/torch/types.h:3:\n",
      "In file included from ./thirdparty/libtorch/include/ATen/ATen.h:9:\n",
      "In file included from ./thirdparty/libtorch/include/ATen/Context.h:4:\n",
      "In file included from ./thirdparty/libtorch/include/ATen/Tensor.h:3:\n",
      "In file included from ./thirdparty/libtorch/include/ATen/core/TensorBody.h:4:\n",
      "In file included from ./thirdparty/libtorch/include/c10/core/Layout.h:3:\n",
      "In file included from ./thirdparty/libtorch/include/c10/core/Backend.h:5:\n",
      "In file included from ./thirdparty/libtorch/include/c10/core/DispatchKeySet.h:4:\n",
      "\u001b[1m./thirdparty/libtorch/include/c10/util/llvmMathExtras.h:840:11: \u001b[0m\u001b[0;1;31merror: \u001b[0m\u001b[1mexpected expression\u001b[0m\n",
      "   return Z;\n",
      "\u001b[0;1;32m          ^\n",
      "\u001b[0m\u001b[1m./thirdparty/kdb-cpp/include/internal/../external/k.h:101:11: \u001b[0m\u001b[0;1;30mnote: \u001b[0mexpanded from macro 'Z'\u001b[0m\n",
      "#define Z static\n",
      "\u001b[0;1;32m          ^\n",
      "\u001b[0mIn file included from input_line_14:1:\n",
      "In file included from ./thirdparty/libtorch/include/torch/csrc/api/include/torch/torch.h:3:\n",
      "In file included from ./thirdparty/libtorch/include/torch/csrc/api/include/torch/all.h:8:\n",
      "In file included from ./thirdparty/libtorch/include/torch/csrc/api/include/torch/data.h:3:\n",
      "In file included from ./thirdparty/libtorch/include/torch/csrc/api/include/torch/data/dataloader.h:3:\n",
      "In file included from ./thirdparty/libtorch/include/torch/csrc/api/include/torch/data/dataloader/stateful.h:3:\n",
      "In file included from ./thirdparty/libtorch/include/torch/csrc/api/include/torch/data/dataloader/base.h:3:\n",
      "In file included from ./thirdparty/libtorch/include/torch/csrc/api/include/torch/data/dataloader_options.h:4:\n",
      "In file included from ./thirdparty/libtorch/include/torch/csrc/api/include/torch/types.h:3:\n",
      "In file included from ./thirdparty/libtorch/include/ATen/ATen.h:9:\n",
      "In file included from ./thirdparty/libtorch/include/ATen/Context.h:4:\n",
      "In file included from ./thirdparty/libtorch/include/ATen/Tensor.h:3:\n",
      "In file included from ./thirdparty/libtorch/include/ATen/core/TensorBody.h:7:\n",
      "In file included from ./thirdparty/libtorch/include/c10/core/Scalar.h:10:\n",
      "In file included from ./thirdparty/libtorch/include/c10/core/ScalarType.h:4:\n",
      "In file included from ./thirdparty/libtorch/include/c10/util/complex.h:570:\n",
      "\u001b[1m./thirdparty/libtorch/include/c10/util/complex_math.h:83:52: \u001b[0m\u001b[0;1;31merror: \u001b[0m\u001b[1mexpected expression\u001b[0m\n",
      "C10_HOST_DEVICE inline c10::complex<decltype(T() * U())> pow(const c10::complex<T> &x, const c10::complex<U> &y) {\n",
      "\u001b[0;1;32m                                                   ^\n",
      "\u001b[0m\u001b[1m./thirdparty/kdb-cpp/include/internal/../external/k.h:103:14: \u001b[0m\u001b[0;1;30mnote: \u001b[0mexpanded from macro 'U'\u001b[0m\n",
      "#define U(x) P(!(x),0)\n",
      "\u001b[0;1;32m             ^\n",
      "\u001b[0m\u001b[1m./thirdparty/kdb-cpp/include/internal/../external/k.h:102:17: \u001b[0m\u001b[0;1;30mnote: \u001b[0mexpanded from macro 'P'\u001b[0m\n",
      "#define P(x,y) {if(x)R(y);}\n",
      "\u001b[0;1;32m                ^\n",
      "\u001b[0mIn file included from input_line_14:1:\n",
      "In file included from ./thirdparty/libtorch/include/torch/csrc/api/include/torch/torch.h:3:\n",
      "In file included from ./thirdparty/libtorch/include/torch/csrc/api/include/torch/all.h:8:\n",
      "In file included from ./thirdparty/libtorch/include/torch/csrc/api/include/torch/data.h:3:\n",
      "In file included from ./thirdparty/libtorch/include/torch/csrc/api/include/torch/data/dataloader.h:3:\n",
      "In file included from ./thirdparty/libtorch/include/torch/csrc/api/include/torch/data/dataloader/stateful.h:3:\n",
      "In file included from ./thirdparty/libtorch/include/torch/csrc/api/include/torch/data/dataloader/base.h:3:\n",
      "In file included from ./thirdparty/libtorch/include/torch/csrc/api/include/torch/data/dataloader_options.h:4:\n",
      "In file included from ./thirdparty/libtorch/include/torch/csrc/api/include/torch/types.h:3:\n",
      "In file included from ./thirdparty/libtorch/include/ATen/ATen.h:9:\n",
      "In file included from ./thirdparty/libtorch/include/ATen/Context.h:4:\n",
      "In file included from ./thirdparty/libtorch/include/ATen/Tensor.h:3:\n",
      "In file included from ./thirdparty/libtorch/include/ATen/core/TensorBody.h:7:\n",
      "In file included from ./thirdparty/libtorch/include/c10/core/Scalar.h:10:\n",
      "In file included from ./thirdparty/libtorch/include/c10/core/ScalarType.h:4:\n",
      "In file included from ./thirdparty/libtorch/include/c10/util/complex.h:570:\n",
      "\u001b[1m./thirdparty/libtorch/include/c10/util/complex_math.h:93:52: \u001b[0m\u001b[0;1;31merror: \u001b[0m\u001b[1mexpected expression\u001b[0m\n",
      "C10_HOST_DEVICE inline c10::complex<decltype(T() * U())> pow(const c10::complex<T> &x, const U &y) {\n",
      "\u001b[0;1;32m                                                   ^\n",
      "\u001b[0m\u001b[1m./thirdparty/kdb-cpp/include/internal/../external/k.h:103:14: \u001b[0m\u001b[0;1;30mnote: \u001b[0mexpanded from macro 'U'\u001b[0m\n",
      "#define U(x) P(!(x),0)\n",
      "\u001b[0;1;32m             ^\n",
      "\u001b[0m\u001b[1m./thirdparty/kdb-cpp/include/internal/../external/k.h:102:17: \u001b[0m\u001b[0;1;30mnote: \u001b[0mexpanded from macro 'P'\u001b[0m\n",
      "#define P(x,y) {if(x)R(y);}\n",
      "\u001b[0;1;32m                ^\n",
      "\u001b[0mIn file included from input_line_14:1:\n",
      "In file included from ./thirdparty/libtorch/include/torch/csrc/api/include/torch/torch.h:3:\n",
      "In file included from ./thirdparty/libtorch/include/torch/csrc/api/include/torch/all.h:8:\n",
      "In file included from ./thirdparty/libtorch/include/torch/csrc/api/include/torch/data.h:3:\n",
      "In file included from ./thirdparty/libtorch/include/torch/csrc/api/include/torch/data/dataloader.h:3:\n",
      "In file included from ./thirdparty/libtorch/include/torch/csrc/api/include/torch/data/dataloader/stateful.h:3:\n",
      "In file included from ./thirdparty/libtorch/include/torch/csrc/api/include/torch/data/dataloader/base.h:3:\n",
      "In file included from ./thirdparty/libtorch/include/torch/csrc/api/include/torch/data/dataloader_options.h:4:\n",
      "In file included from ./thirdparty/libtorch/include/torch/csrc/api/include/torch/types.h:3:\n",
      "In file included from ./thirdparty/libtorch/include/ATen/ATen.h:9:\n",
      "In file included from ./thirdparty/libtorch/include/ATen/Context.h:4:\n",
      "In file included from ./thirdparty/libtorch/include/ATen/Tensor.h:3:\n",
      "In file included from ./thirdparty/libtorch/include/ATen/core/TensorBody.h:7:\n",
      "In file included from ./thirdparty/libtorch/include/c10/core/Scalar.h:10:\n",
      "In file included from ./thirdparty/libtorch/include/c10/core/ScalarType.h:4:\n",
      "In file included from ./thirdparty/libtorch/include/c10/util/complex.h:570:\n",
      "\u001b[1m./thirdparty/libtorch/include/c10/util/complex_math.h:102:52: \u001b[0m\u001b[0;1;31merror: \u001b[0m\u001b[1mexpected expression\u001b[0m\n",
      "C10_HOST_DEVICE inline c10::complex<decltype(T() * U())> pow(const T &x, const c10::complex<U> &y) {\n",
      "\u001b[0;1;32m                                                   ^\n",
      "\u001b[0m\u001b[1m./thirdparty/kdb-cpp/include/internal/../external/k.h:103:14: \u001b[0m\u001b[0;1;30mnote: \u001b[0mexpanded from macro 'U'\u001b[0m\n",
      "#define U(x) P(!(x),0)\n",
      "\u001b[0;1;32m             ^\n",
      "\u001b[0m\u001b[1m./thirdparty/kdb-cpp/include/internal/../external/k.h:102:17: \u001b[0m\u001b[0;1;30mnote: \u001b[0mexpanded from macro 'P'\u001b[0m\n",
      "#define P(x,y) {if(x)R(y);}\n",
      "\u001b[0;1;32m                ^\n",
      "\u001b[0mIn file included from input_line_14:1:\n",
      "In file included from ./thirdparty/libtorch/include/torch/csrc/api/include/torch/torch.h:3:\n",
      "In file included from ./thirdparty/libtorch/include/torch/csrc/api/include/torch/all.h:8:\n",
      "In file included from ./thirdparty/libtorch/include/torch/csrc/api/include/torch/data.h:3:\n",
      "In file included from ./thirdparty/libtorch/include/torch/csrc/api/include/torch/data/dataloader.h:3:\n",
      "In file included from ./thirdparty/libtorch/include/torch/csrc/api/include/torch/data/dataloader/stateful.h:3:\n",
      "In file included from ./thirdparty/libtorch/include/torch/csrc/api/include/torch/data/dataloader/base.h:3:\n"
     ]
    },
    {
     "name": "stderr",
     "output_type": "stream",
     "text": [
      "In file included from ./thirdparty/libtorch/include/torch/csrc/api/include/torch/data/dataloader_options.h:4:\n",
      "In file included from ./thirdparty/libtorch/include/torch/csrc/api/include/torch/types.h:3:\n",
      "In file included from ./thirdparty/libtorch/include/ATen/ATen.h:9:\n",
      "In file included from ./thirdparty/libtorch/include/ATen/Context.h:4:\n",
      "In file included from ./thirdparty/libtorch/include/ATen/Tensor.h:3:\n",
      "In file included from ./thirdparty/libtorch/include/ATen/core/TensorBody.h:7:\n",
      "In file included from ./thirdparty/libtorch/include/c10/core/Scalar.h:10:\n",
      "In file included from ./thirdparty/libtorch/include/c10/core/ScalarType.h:8:\n",
      "In file included from ./thirdparty/libtorch/include/c10/util/typeid.h:33:\n",
      "\u001b[1m./thirdparty/libtorch/include/c10/util/flat_hash_map.h:924:35: \u001b[0m\u001b[0;1;31merror: \u001b[0m\u001b[1mexpected a qualified name after 'typename'\u001b[0m\n",
      "    template<typename L, typename R>\n",
      "\u001b[0;1;32m                                  ^\n",
      "\u001b[0m\u001b[1m./thirdparty/kdb-cpp/include/internal/../external/k.h:100:11: \u001b[0m\u001b[0;1;30mnote: \u001b[0mexpanded from macro 'R'\u001b[0m\n",
      "#define R return\n",
      "\u001b[0;1;32m          ^\n",
      "\u001b[0mIn file included from input_line_14:1:\n",
      "In file included from ./thirdparty/libtorch/include/torch/csrc/api/include/torch/torch.h:3:\n",
      "In file included from ./thirdparty/libtorch/include/torch/csrc/api/include/torch/all.h:8:\n",
      "In file included from ./thirdparty/libtorch/include/torch/csrc/api/include/torch/data.h:3:\n",
      "In file included from ./thirdparty/libtorch/include/torch/csrc/api/include/torch/data/dataloader.h:3:\n",
      "In file included from ./thirdparty/libtorch/include/torch/csrc/api/include/torch/data/dataloader/stateful.h:3:\n",
      "In file included from ./thirdparty/libtorch/include/torch/csrc/api/include/torch/data/dataloader/base.h:3:\n",
      "In file included from ./thirdparty/libtorch/include/torch/csrc/api/include/torch/data/dataloader_options.h:4:\n",
      "In file included from ./thirdparty/libtorch/include/torch/csrc/api/include/torch/types.h:3:\n",
      "In file included from ./thirdparty/libtorch/include/ATen/ATen.h:9:\n",
      "In file included from ./thirdparty/libtorch/include/ATen/Context.h:4:\n",
      "In file included from ./thirdparty/libtorch/include/ATen/Tensor.h:3:\n",
      "In file included from ./thirdparty/libtorch/include/ATen/core/TensorBody.h:7:\n",
      "In file included from ./thirdparty/libtorch/include/c10/core/Scalar.h:10:\n",
      "In file included from ./thirdparty/libtorch/include/c10/core/ScalarType.h:8:\n",
      "In file included from ./thirdparty/libtorch/include/c10/util/typeid.h:33:\n",
      "\u001b[1m./thirdparty/libtorch/include/c10/util/flat_hash_map.h:924:35: \u001b[0m\u001b[0;1;31merror: \u001b[0m\u001b[1mexpected ',' or '>' in template-parameter-list\u001b[0m\n",
      "\u001b[1m./thirdparty/kdb-cpp/include/internal/../external/k.h:100:11: \u001b[0m\u001b[0;1;30mnote: \u001b[0mexpanded from macro 'R'\u001b[0m\n",
      "#define R return\n",
      "\u001b[0;1;32m          ^\n",
      "\u001b[0mIn file included from input_line_14:1:\n",
      "In file included from ./thirdparty/libtorch/include/torch/csrc/api/include/torch/torch.h:3:\n",
      "In file included from ./thirdparty/libtorch/include/torch/csrc/api/include/torch/all.h:8:\n",
      "In file included from ./thirdparty/libtorch/include/torch/csrc/api/include/torch/data.h:3:\n",
      "In file included from ./thirdparty/libtorch/include/torch/csrc/api/include/torch/data/dataloader.h:3:\n",
      "In file included from ./thirdparty/libtorch/include/torch/csrc/api/include/torch/data/dataloader/stateful.h:3:\n",
      "In file included from ./thirdparty/libtorch/include/torch/csrc/api/include/torch/data/dataloader/base.h:3:\n",
      "In file included from ./thirdparty/libtorch/include/torch/csrc/api/include/torch/data/dataloader_options.h:4:\n",
      "In file included from ./thirdparty/libtorch/include/torch/csrc/api/include/torch/types.h:3:\n",
      "In file included from ./thirdparty/libtorch/include/ATen/ATen.h:9:\n",
      "In file included from ./thirdparty/libtorch/include/ATen/Context.h:4:\n",
      "In file included from ./thirdparty/libtorch/include/ATen/Tensor.h:3:\n",
      "In file included from ./thirdparty/libtorch/include/ATen/core/TensorBody.h:7:\n",
      "In file included from ./thirdparty/libtorch/include/c10/core/Scalar.h:10:\n",
      "In file included from ./thirdparty/libtorch/include/c10/core/ScalarType.h:8:\n",
      "In file included from ./thirdparty/libtorch/include/c10/util/typeid.h:33:\n",
      "\u001b[1m./thirdparty/libtorch/include/c10/util/flat_hash_map.h:925:46: \u001b[0m\u001b[0;1;31merror: \u001b[0m\u001b[1mC++ requires a type specifier for all declarations\u001b[0m\n",
      "    bool compares_equal(const L & lhs, const R & rhs)\n",
      "\u001b[0;1;32m                                       ~~~~~ ^\n",
      "\u001b[0m\u001b[1m./thirdparty/kdb-cpp/include/internal/../external/k.h:100:11: \u001b[0m\u001b[0;1;30mnote: \u001b[0mexpanded from macro 'R'\u001b[0m\n",
      "#define R return\n",
      "\u001b[0;1;32m          ^\n",
      "\u001b[0mIn file included from input_line_14:1:\n",
      "In file included from ./thirdparty/libtorch/include/torch/csrc/api/include/torch/torch.h:3:\n",
      "In file included from ./thirdparty/libtorch/include/torch/csrc/api/include/torch/all.h:8:\n",
      "In file included from ./thirdparty/libtorch/include/torch/csrc/api/include/torch/data.h:3:\n",
      "In file included from ./thirdparty/libtorch/include/torch/csrc/api/include/torch/data/dataloader.h:3:\n",
      "In file included from ./thirdparty/libtorch/include/torch/csrc/api/include/torch/data/dataloader/stateful.h:3:\n",
      "In file included from ./thirdparty/libtorch/include/torch/csrc/api/include/torch/data/dataloader/base.h:3:\n",
      "In file included from ./thirdparty/libtorch/include/torch/csrc/api/include/torch/data/dataloader_options.h:4:\n",
      "In file included from ./thirdparty/libtorch/include/torch/csrc/api/include/torch/types.h:3:\n",
      "In file included from ./thirdparty/libtorch/include/ATen/ATen.h:9:\n",
      "In file included from ./thirdparty/libtorch/include/ATen/Context.h:4:\n",
      "In file included from ./thirdparty/libtorch/include/ATen/Tensor.h:3:\n",
      "In file included from ./thirdparty/libtorch/include/ATen/core/TensorBody.h:7:\n",
      "In file included from ./thirdparty/libtorch/include/c10/core/Scalar.h:10:\n",
      "In file included from ./thirdparty/libtorch/include/c10/core/ScalarType.h:8:\n",
      "In file included from ./thirdparty/libtorch/include/c10/util/typeid.h:33:\n",
      "\u001b[1m./thirdparty/libtorch/include/c10/util/flat_hash_map.h:925:46: \u001b[0m\u001b[0;1;31merror: \u001b[0m\u001b[1mexpected ')'\u001b[0m\n",
      "\u001b[1m./thirdparty/kdb-cpp/include/internal/../external/k.h:100:11: \u001b[0m\u001b[0;1;30mnote: \u001b[0mexpanded from macro 'R'\u001b[0m\n",
      "#define R return\n",
      "\u001b[0;1;32m          ^\n",
      "\u001b[0m\u001b[1m./thirdparty/libtorch/include/c10/util/flat_hash_map.h:925:24: \u001b[0m\u001b[0;1;30mnote: \u001b[0mto match this '('\u001b[0m\n",
      "    bool compares_equal(const L & lhs, const R & rhs)\n",
      "\u001b[0;1;32m                       ^\n",
      "\u001b[0m\u001b[1m./thirdparty/libtorch/include/c10/util/flat_hash_map.h:927:49: \u001b[0m\u001b[0;1;31merror: \u001b[0m\u001b[1muse of undeclared identifier 'rhs'; did you mean 'lhs'?\u001b[0m\n",
      "        return static_cast<Equal &>(*this)(lhs, rhs);\n",
      "\u001b[0;1;32m                                                ^~~\n",
      "\u001b[0m\u001b[0;32m                                                lhs\n",
      "\u001b[0m\u001b[1m./thirdparty/libtorch/include/c10/util/flat_hash_map.h:925:35: \u001b[0m\u001b[0;1;30mnote: \u001b[0m'lhs' declared here\u001b[0m\n",
      "    bool compares_equal(const L & lhs, const R & rhs)\n",
      "\u001b[0;1;32m                                  ^\n",
      "\u001b[0m\u001b[0;1;31mfatal error: \u001b[0mtoo many errors emitted, stopping now [-ferror-limit=]\u001b[0m\n"
     ]
    },
    {
     "ename": "Interpreter Error",
     "evalue": "",
     "output_type": "error",
     "traceback": [
      "Interpreter Error: "
     ]
    }
   ],
   "source": [
    "#pragma cling add_include_path(\"./thirdparty/libtorch/include\")\n",
    "#pragma cling add_include_path(\"./thirdparty/libtorch/include/torch/csrc/api/include\")\n",
    "#pragma cling add_library_path(\"./thirdparty/libtorch/lib\")\n",
    "#pragma cling load(\"libtorch\")\n",
    "\n",
    "#pragma cling add_include_path(\"./thirdparty/nest/include\")\n",
    "\n",
    "#include <torch/torch.h>\n",
    "#include <torch/csrc/autograd/variable.h>\n",
    "#include <torch/csrc/autograd/function.h>\n",
    "\n",
    "#include \"xtensor/xbuilder.hpp\"\n",
    "#include \"xtensor/xarray.hpp\"\n",
    "#include \"xtensor/xtensor.hpp\"\n",
    "#include \"nest.h\"\n",
    "#include <vector>\n",
    "#include <array>"
   ]
  },
  {
   "cell_type": "code",
   "execution_count": 3,
   "metadata": {},
   "outputs": [],
   "source": [
    "#define HOST_ADDR \"127.0.0.1\"\n",
    "#define HOST_PORT 5050"
   ]
  },
  {
   "cell_type": "code",
   "execution_count": 8,
   "metadata": {},
   "outputs": [
    {
     "name": "stderr",
     "output_type": "stream",
     "text": [
      "IncrementalExecutor::executeFunction: symbol '_ZN3kdb9ConnectorD1Ev' unresolved while linking function '_GLOBAL__sub_I_cling_module_10'!\n",
      "You are probably missing the definition of kdb::Connector::~Connector()\n",
      "Maybe you need to load the corresponding shared library?\n"
     ]
    }
   ],
   "source": []
  },
  {
   "cell_type": "code",
   "execution_count": 2,
   "metadata": {},
   "outputs": [],
   "source": [
    "typedef nest::Nest<torch::Tensor> TensorNest;"
   ]
  },
  {
   "cell_type": "code",
   "execution_count": 3,
   "metadata": {},
   "outputs": [],
   "source": [
    "torch::Tensor x = torch::ones({2, 2}, torch::requires_grad());\n",
    "torch::Tensor y = torch::randn({2, 2});"
   ]
  },
  {
   "cell_type": "code",
   "execution_count": 5,
   "metadata": {},
   "outputs": [],
   "source": []
  },
  {
   "cell_type": "code",
   "execution_count": 2,
   "metadata": {},
   "outputs": [],
   "source": [
    "std::vector<size_t> shape = { 3, 2, 4 };\n",
    "std::vector<size_t> strides = { 8, 4, 1 };"
   ]
  },
  {
   "cell_type": "code",
   "execution_count": 4,
   "metadata": {},
   "outputs": [],
   "source": [
    "std::vector<size_t> shape = { 3, 2, 4 };\n",
    "xt::xarray<double, xt::layout_type::row_major> a(shape);"
   ]
  },
  {
   "cell_type": "code",
   "execution_count": null,
   "metadata": {},
   "outputs": [],
   "source": []
  },
  {
   "cell_type": "code",
   "execution_count": 7,
   "metadata": {},
   "outputs": [],
   "source": [
    "std::array<size_t, 3> shape = { 3, 2, 4 };\n",
    "xt::xtensor<double, 3> b(shape);"
   ]
  },
  {
   "cell_type": "code",
   "execution_count": null,
   "metadata": {},
   "outputs": [],
   "source": []
  },
  {
   "cell_type": "code",
   "execution_count": null,
   "metadata": {},
   "outputs": [],
   "source": [
    "// typedef int  I;          // Already defined within k.h\n",
    "// typedef char *S;         // Already defined within k.h\n",
    "// I khpu(S hostname, I portNumber, S usernamePassword)\n",
    "khpu (\"localhost\", 12345, \"username:password\");"
   ]
  },
  {
   "cell_type": "code",
   "execution_count": null,
   "metadata": {},
   "outputs": [],
   "source": []
  },
  {
   "cell_type": "code",
   "execution_count": null,
   "metadata": {},
   "outputs": [],
   "source": []
  },
  {
   "cell_type": "code",
   "execution_count": null,
   "metadata": {},
   "outputs": [],
   "source": []
  },
  {
   "cell_type": "code",
   "execution_count": null,
   "metadata": {},
   "outputs": [],
   "source": []
  },
  {
   "cell_type": "code",
   "execution_count": null,
   "metadata": {},
   "outputs": [],
   "source": []
  },
  {
   "cell_type": "code",
   "execution_count": null,
   "metadata": {},
   "outputs": [],
   "source": []
  },
  {
   "cell_type": "code",
   "execution_count": null,
   "metadata": {},
   "outputs": [],
   "source": []
  }
 ],
 "metadata": {
  "kernelspec": {
   "display_name": "C++17",
   "language": "C++17",
   "name": "xcpp17"
  },
  "language_info": {
   "codemirror_mode": "text/x-c++src",
   "file_extension": ".cpp",
   "mimetype": "text/x-c++src",
   "name": "c++",
   "version": "17"
  },
  "latex_envs": {
   "LaTeX_envs_menu_present": true,
   "autoclose": false,
   "autocomplete": true,
   "bibliofile": "biblio.bib",
   "cite_by": "apalike",
   "current_citInitial": 1,
   "eqLabelWithNumbers": true,
   "eqNumInitial": 1,
   "hotkeys": {
    "equation": "Ctrl-E",
    "itemize": "Ctrl-I"
   },
   "labels_anchors": false,
   "latex_user_defs": false,
   "report_style_numbering": false,
   "user_envs_cfg": false
  },
  "varInspector": {
   "cols": {
    "lenName": 16,
    "lenType": 16,
    "lenVar": 40
   },
   "kernels_config": {
    "python": {
     "delete_cmd_postfix": "",
     "delete_cmd_prefix": "del ",
     "library": "var_list.py",
     "varRefreshCmd": "print(var_dic_list())"
    },
    "r": {
     "delete_cmd_postfix": ") ",
     "delete_cmd_prefix": "rm(",
     "library": "var_list.r",
     "varRefreshCmd": "cat(var_dic_list()) "
    }
   },
   "types_to_exclude": [
    "module",
    "function",
    "builtin_function_or_method",
    "instance",
    "_Feature"
   ],
   "window_display": false
  }
 },
 "nbformat": 4,
 "nbformat_minor": 4
}
