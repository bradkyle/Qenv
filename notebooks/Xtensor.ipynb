{
 "cells": [
  {
   "cell_type": "code",
   "execution_count": 1,
   "metadata": {},
   "outputs": [],
   "source": [
    "#pragma cling add_include_path(\"./thirdparty/kdb/include\")\n",
    "#pragma cling add_include_path(\"./thirdparty/kdb/include/internal\")\n",
    "#pragma cling load(\"./thirdparty/kdb/build/libkdb.so\") \n",
    "\n",
    "#include </home/thorad/Core/Projects/Qenv/notebooks/thirdparty/kdb/include/kdb_cpp.h>\n",
    "#include <string>\n",
    "#include <iostream>\n",
    "#include <typeinfo>\n",
    "\n",
    "kdb::Connector kcon;\n",
    "#define HOST_ADDR \"127.0.0.1\"\n",
    "#define HOST_PORT 5050\n",
    "\n",
    "if (!kcon.connect(HOST_ADDR, HOST_PORT))\n",
    "        return -1;\n",
    "\n",
    "kdb::Result r0 = kcon.sync(\".server.DumStep[((0;1);(1;5);(2;4);(3;5));0]\");\n",
    "kdb::Result r1 = kcon.sync(\".server.DumStep[((0;1);(1;5);(2;4);(3;5));1]\");\n",
    "\n",
    "K rks0 = r0.get_res();\n",
    "K rks1 = r1.get_res();"
   ]
  },
  {
   "cell_type": "code",
   "execution_count": 2,
   "metadata": {},
   "outputs": [],
   "source": [
    "std::vector<kdb::Result> responses = {};"
   ]
  },
  {
   "cell_type": "code",
   "execution_count": 3,
   "metadata": {},
   "outputs": [
    {
     "name": "stdout",
     "output_type": "stream",
     "text": [
      "339 us +- 29.8 us per loop (mean +- std. dev. of 7 runs 1000 loops each)\n"
     ]
    }
   ],
   "source": [
    "%timeit -n 1000 responses.push_back(kcon.sync(\".server.DumStep[((0;1);(1;5);(2;4);(3;5));0]\"));"
   ]
  },
  {
   "cell_type": "code",
   "execution_count": 3,
   "metadata": {},
   "outputs": [
    {
     "name": "stderr",
     "output_type": "stream",
     "text": [
      "\u001b[1minput_line_11:2:12: \u001b[0m\u001b[0;1;31merror: \u001b[0m\u001b[1minvalid operands to binary expression ('std::ostream' (aka 'basic_ostream<char>') and 'k0')\u001b[0m\n",
      " std::cout << x[0] << std::endl;\n",
      "\u001b[0;1;32m ~~~~~~~~~ ^  ~~~~\n",
      "\u001b[0m\u001b[1m/opt/anaconda3/envs/cling/bin/../lib/gcc/x86_64-conda-linux-gnu/7.5.0/../../../../x86_64-conda-linux-gnu/include/c++/7.5.0/ostream:245:7: \u001b[0m\u001b[0;1;30mnote: \u001b[0mcandidate function not viable: no known conversion from 'k0' to 'const void *' for 1st argument; take the address of the argument with &\u001b[0m\n",
      "      operator<<(const void* __p)\n",
      "\u001b[0;1;32m      ^\n",
      "\u001b[0m\u001b[1m/opt/anaconda3/envs/cling/bin/../lib/gcc/x86_64-conda-linux-gnu/7.5.0/../../../../x86_64-conda-linux-gnu/include/c++/7.5.0/cstddef:124:5: \u001b[0m\u001b[0;1;30mnote: \u001b[0mcandidate function not viable: no known conversion from 'std::ostream' (aka 'basic_ostream<char>') to 'std::byte' for 1st argument\u001b[0m\n",
      "    operator<<(byte __b, _IntegerType __shift) noexcept\n",
      "\u001b[0;1;32m    ^\n",
      "\u001b[0m\u001b[1m/opt/anaconda3/envs/cling/bin/../lib/gcc/x86_64-conda-linux-gnu/7.5.0/../../../../x86_64-conda-linux-gnu/include/c++/7.5.0/system_error:217:5: \u001b[0m\u001b[0;1;30mnote: \u001b[0mcandidate function not viable: no known conversion from 'k0' to 'const std::error_code' for 2nd argument\u001b[0m\n",
      "    operator<<(basic_ostream<_CharT, _Traits>& __os, const error_code& __e)\n",
      "\u001b[0;1;32m    ^\n",
      "\u001b[0m\u001b[1m/opt/anaconda3/envs/cling/bin/../lib/gcc/x86_64-conda-linux-gnu/7.5.0/../../../../x86_64-conda-linux-gnu/include/c++/7.5.0/ostream:108:7: \u001b[0m\u001b[0;1;30mnote: \u001b[0mcandidate function not viable: no known conversion from 'k0' to 'std::basic_ostream<char, std::char_traits<char> >::__ostream_type\n",
      "      &(*)(std::basic_ostream<char, std::char_traits<char> >::__ostream_type &)' (aka 'basic_ostream<char, std::char_traits<char> >\n",
      "      &(*)(basic_ostream<char, std::char_traits<char> > &)') for 1st argument\u001b[0m\n",
      "      operator<<(__ostream_type& (*__pf)(__ostream_type&))\n",
      "\u001b[0;1;32m      ^\n",
      "\u001b[0m\u001b[1m/opt/anaconda3/envs/cling/bin/../lib/gcc/x86_64-conda-linux-gnu/7.5.0/../../../../x86_64-conda-linux-gnu/include/c++/7.5.0/ostream:117:7: \u001b[0m\u001b[0;1;30mnote: \u001b[0mcandidate function not viable: no known conversion from 'k0' to 'std::basic_ostream<char, std::char_traits<char> >::__ios_type\n",
      "      &(*)(std::basic_ostream<char, std::char_traits<char> >::__ios_type &)' (aka 'basic_ios<char, std::char_traits<char> >\n",
      "      &(*)(basic_ios<char, std::char_traits<char> > &)') for 1st argument\u001b[0m\n",
      "      operator<<(__ios_type& (*__pf)(__ios_type&))\n",
      "\u001b[0;1;32m      ^\n",
      "\u001b[0m\u001b[1m/opt/anaconda3/envs/cling/bin/../lib/gcc/x86_64-conda-linux-gnu/7.5.0/../../../../x86_64-conda-linux-gnu/include/c++/7.5.0/ostream:127:7: \u001b[0m\u001b[0;1;30mnote: \u001b[0mcandidate function not viable: no known conversion from 'k0' to 'std::ios_base &(*)(std::ios_base &)' for 1st argument\u001b[0m\n",
      "      operator<<(ios_base& (*__pf) (ios_base&))\n",
      "\u001b[0;1;32m      ^\n",
      "\u001b[0m\u001b[1m/opt/anaconda3/envs/cling/bin/../lib/gcc/x86_64-conda-linux-gnu/7.5.0/../../../../x86_64-conda-linux-gnu/include/c++/7.5.0/ostream:166:7: \u001b[0m\u001b[0;1;30mnote: \u001b[0mcandidate function not viable: no known conversion from 'k0' to 'long' for 1st argument\u001b[0m\n",
      "      operator<<(long __n)\n",
      "\u001b[0;1;32m      ^\n",
      "\u001b[0m\u001b[1m/opt/anaconda3/envs/cling/bin/../lib/gcc/x86_64-conda-linux-gnu/7.5.0/../../../../x86_64-conda-linux-gnu/include/c++/7.5.0/ostream:170:7: \u001b[0m\u001b[0;1;30mnote: \u001b[0mcandidate function not viable: no known conversion from 'k0' to 'unsigned long' for 1st argument\u001b[0m\n",
      "      operator<<(unsigned long __n)\n",
      "\u001b[0;1;32m      ^\n",
      "\u001b[0m\u001b[1m/opt/anaconda3/envs/cling/bin/../lib/gcc/x86_64-conda-linux-gnu/7.5.0/../../../../x86_64-conda-linux-gnu/include/c++/7.5.0/ostream:174:7: \u001b[0m\u001b[0;1;30mnote: \u001b[0mcandidate function not viable: no known conversion from 'k0' to 'bool' for 1st argument\u001b[0m\n",
      "      operator<<(bool __n)\n",
      "\u001b[0;1;32m      ^\n",
      "\u001b[0m\u001b[1m/opt/anaconda3/envs/cling/bin/../lib/gcc/x86_64-conda-linux-gnu/7.5.0/../../../../x86_64-conda-linux-gnu/include/c++/7.5.0/ostream:178:7: \u001b[0m\u001b[0;1;30mnote: \u001b[0mcandidate function not viable: no known conversion from 'k0' to 'short' for 1st argument\u001b[0m\n",
      "      operator<<(short __n);\n",
      "\u001b[0;1;32m      ^\n",
      "\u001b[0m\u001b[1m/opt/anaconda3/envs/cling/bin/../lib/gcc/x86_64-conda-linux-gnu/7.5.0/../../../../x86_64-conda-linux-gnu/include/c++/7.5.0/ostream:181:7: \u001b[0m\u001b[0;1;30mnote: \u001b[0mcandidate function not viable: no known conversion from 'k0' to 'unsigned short' for 1st argument\u001b[0m\n",
      "      operator<<(unsigned short __n)\n",
      "\u001b[0;1;32m      ^\n",
      "\u001b[0m\u001b[1m/opt/anaconda3/envs/cling/bin/../lib/gcc/x86_64-conda-linux-gnu/7.5.0/../../../../x86_64-conda-linux-gnu/include/c++/7.5.0/ostream:189:7: \u001b[0m\u001b[0;1;30mnote: \u001b[0mcandidate function not viable: no known conversion from 'k0' to 'int' for 1st argument\u001b[0m\n",
      "      operator<<(int __n);\n",
      "\u001b[0;1;32m      ^\n",
      "\u001b[0m\u001b[1m/opt/anaconda3/envs/cling/bin/../lib/gcc/x86_64-conda-linux-gnu/7.5.0/../../../../x86_64-conda-linux-gnu/include/c++/7.5.0/ostream:192:7: \u001b[0m\u001b[0;1;30mnote: \u001b[0mcandidate function not viable: no known conversion from 'k0' to 'unsigned int' for 1st argument\u001b[0m\n",
      "      operator<<(unsigned int __n)\n",
      "\u001b[0;1;32m      ^\n",
      "\u001b[0m\u001b[1m/opt/anaconda3/envs/cling/bin/../lib/gcc/x86_64-conda-linux-gnu/7.5.0/../../../../x86_64-conda-linux-gnu/include/c++/7.5.0/ostream:201:7: \u001b[0m\u001b[0;1;30mnote: \u001b[0mcandidate function not viable: no known conversion from 'k0' to 'long long' for 1st argument\u001b[0m\n",
      "      operator<<(long long __n)\n",
      "\u001b[0;1;32m      ^\n",
      "\u001b[0m\u001b[1m/opt/anaconda3/envs/cling/bin/../lib/gcc/x86_64-conda-linux-gnu/7.5.0/../../../../x86_64-conda-linux-gnu/include/c++/7.5.0/ostream:205:7: \u001b[0m\u001b[0;1;30mnote: \u001b[0mcandidate function not viable: no known conversion from 'k0' to 'unsigned long long' for 1st argument\u001b[0m\n",
      "      operator<<(unsigned long long __n)\n",
      "\u001b[0;1;32m      ^\n",
      "\u001b[0m\u001b[1m/opt/anaconda3/envs/cling/bin/../lib/gcc/x86_64-conda-linux-gnu/7.5.0/../../../../x86_64-conda-linux-gnu/include/c++/7.5.0/ostream:220:7: \u001b[0m\u001b[0;1;30mnote: \u001b[0mcandidate function not viable: no known conversion from 'k0' to 'double' for 1st argument\u001b[0m\n",
      "      operator<<(double __f)\n",
      "\u001b[0;1;32m      ^\n",
      "\u001b[0m\u001b[1m/opt/anaconda3/envs/cling/bin/../lib/gcc/x86_64-conda-linux-gnu/7.5.0/../../../../x86_64-conda-linux-gnu/include/c++/7.5.0/ostream:224:7: \u001b[0m\u001b[0;1;30mnote: \u001b[0mcandidate function not viable: no known conversion from 'k0' to 'float' for 1st argument\u001b[0m\n",
      "      operator<<(float __f)\n",
      "\u001b[0;1;32m      ^\n",
      "\u001b[0m\u001b[1m/opt/anaconda3/envs/cling/bin/../lib/gcc/x86_64-conda-linux-gnu/7.5.0/../../../../x86_64-conda-linux-gnu/include/c++/7.5.0/ostream:232:7: \u001b[0m\u001b[0;1;30mnote: \u001b[0mcandidate function not viable: no known conversion from 'k0' to 'long double' for 1st argument\u001b[0m\n",
      "      operator<<(long double __f)\n",
      "\u001b[0;1;32m      ^\n",
      "\u001b[0m\u001b[1m/opt/anaconda3/envs/cling/bin/../lib/gcc/x86_64-conda-linux-gnu/7.5.0/../../../../x86_64-conda-linux-gnu/include/c++/7.5.0/ostream:270:7: \u001b[0m\u001b[0;1;30mnote: \u001b[0mcandidate function not viable: no known conversion from 'k0' to 'std::basic_ostream<char, std::char_traits<char> >::__streambuf_type *'\n",
      "      (aka 'basic_streambuf<char, std::char_traits<char> > *') for 1st argument\u001b[0m\n",
      "      operator<<(__streambuf_type* __sb);\n",
      "\u001b[0;1;32m      ^\n",
      "\u001b[0m\u001b[1m/opt/anaconda3/envs/cling/bin/../lib/gcc/x86_64-conda-linux-gnu/7.5.0/../../../../x86_64-conda-linux-gnu/include/c++/7.5.0/ostream:502:5: \u001b[0m\u001b[0;1;30mnote: \u001b[0mcandidate function not viable: no known conversion from 'k0' to 'char' for 2nd argument\u001b[0m\n",
      "    operator<<(basic_ostream<_CharT, _Traits>& __out, char __c)\n",
      "\u001b[0;1;32m    ^\n",
      "\u001b[0m\u001b[1m/opt/anaconda3/envs/cling/bin/../lib/gcc/x86_64-conda-linux-gnu/7.5.0/../../../../x86_64-conda-linux-gnu/include/c++/7.5.0/ostream:508:5: \u001b[0m\u001b[0;1;30mnote: \u001b[0mcandidate function not viable: no known conversion from 'k0' to 'char' for 2nd argument\u001b[0m\n",
      "    operator<<(basic_ostream<char, _Traits>& __out, char __c)\n",
      "\u001b[0;1;32m    ^\n",
      "\u001b[0m\u001b[1m/opt/anaconda3/envs/cling/bin/../lib/gcc/x86_64-conda-linux-gnu/7.5.0/../../../../x86_64-conda-linux-gnu/include/c++/7.5.0/ostream:514:5: \u001b[0m\u001b[0;1;30mnote: \u001b[0mcandidate function not viable: no known conversion from 'k0' to 'signed char' for 2nd argument\u001b[0m\n",
      "    operator<<(basic_ostream<char, _Traits>& __out, signed char __c)\n",
      "\u001b[0;1;32m    ^\n"
     ]
    },
    {
     "name": "stderr",
     "output_type": "stream",
     "text": [
      "\u001b[0m\u001b[1m/opt/anaconda3/envs/cling/bin/../lib/gcc/x86_64-conda-linux-gnu/7.5.0/../../../../x86_64-conda-linux-gnu/include/c++/7.5.0/ostream:519:5: \u001b[0m\u001b[0;1;30mnote: \u001b[0mcandidate function not viable: no known conversion from 'k0' to 'unsigned char' for 2nd argument\u001b[0m\n",
      "    operator<<(basic_ostream<char, _Traits>& __out, unsigned char __c)\n",
      "\u001b[0;1;32m    ^\n",
      "\u001b[0m\u001b[1m/opt/anaconda3/envs/cling/bin/../lib/gcc/x86_64-conda-linux-gnu/7.5.0/../../../../x86_64-conda-linux-gnu/include/c++/7.5.0/ostream:556:5: \u001b[0m\u001b[0;1;30mnote: \u001b[0mcandidate function not viable: no known conversion from 'k0' to 'const char *' for 2nd argument\u001b[0m\n",
      "    operator<<(basic_ostream<char, _Traits>& __out, const char* __s)\n",
      "\u001b[0;1;32m    ^\n",
      "\u001b[0m\u001b[1m/opt/anaconda3/envs/cling/bin/../lib/gcc/x86_64-conda-linux-gnu/7.5.0/../../../../x86_64-conda-linux-gnu/include/c++/7.5.0/ostream:569:5: \u001b[0m\u001b[0;1;30mnote: \u001b[0mcandidate function not viable: no known conversion from 'k0' to 'const signed char *' for 2nd argument\u001b[0m\n",
      "    operator<<(basic_ostream<char, _Traits>& __out, const signed char* __s)\n",
      "\u001b[0;1;32m    ^\n",
      "\u001b[0m\u001b[1m/opt/anaconda3/envs/cling/bin/../lib/gcc/x86_64-conda-linux-gnu/7.5.0/../../../../x86_64-conda-linux-gnu/include/c++/7.5.0/ostream:574:5: \u001b[0m\u001b[0;1;30mnote: \u001b[0mcandidate function not viable: no known conversion from 'k0' to 'const unsigned char *' for 2nd argument\u001b[0m\n",
      "    operator<<(basic_ostream<char, _Traits>& __out, const unsigned char* __s)\n",
      "\u001b[0;1;32m    ^\n",
      "\u001b[0m\u001b[1m/opt/anaconda3/envs/cling/bin/../lib/gcc/x86_64-conda-linux-gnu/7.5.0/../../../../x86_64-conda-linux-gnu/include/c++/7.5.0/bits/ostream.tcc:321:5: \u001b[0m\u001b[0;1;30mnote: \u001b[0mcandidate function not viable: no known conversion from 'k0' to 'const char *' for 2nd argument\u001b[0m\n",
      "    operator<<(basic_ostream<_CharT, _Traits>& __out, const char* __s)\n",
      "\u001b[0;1;32m    ^\n",
      "\u001b[0m\u001b[1m/opt/anaconda3/envs/cling/bin/../lib/gcc/x86_64-conda-linux-gnu/7.5.0/../../../../x86_64-conda-linux-gnu/include/c++/7.5.0/iomanip:79:5: \u001b[0m\u001b[0;1;30mnote: \u001b[0mcandidate function not viable: no known conversion from 'k0' to 'std::_Resetiosflags' for 2nd argument\u001b[0m\n",
      "    operator<<(basic_ostream<_CharT, _Traits>& __os, _Resetiosflags __f)\n",
      "\u001b[0;1;32m    ^\n",
      "\u001b[0m\u001b[1m/opt/anaconda3/envs/cling/bin/../lib/gcc/x86_64-conda-linux-gnu/7.5.0/../../../../x86_64-conda-linux-gnu/include/c++/7.5.0/iomanip:109:5: \u001b[0m\u001b[0;1;30mnote: \u001b[0mcandidate function not viable: no known conversion from 'k0' to 'std::_Setiosflags' for 2nd argument\u001b[0m\n",
      "    operator<<(basic_ostream<_CharT, _Traits>& __os, _Setiosflags __f)\n",
      "\u001b[0;1;32m    ^\n",
      "\u001b[0m\u001b[1m/opt/anaconda3/envs/cling/bin/../lib/gcc/x86_64-conda-linux-gnu/7.5.0/../../../../x86_64-conda-linux-gnu/include/c++/7.5.0/iomanip:143:5: \u001b[0m\u001b[0;1;30mnote: \u001b[0mcandidate function not viable: no known conversion from 'k0' to 'std::_Setbase' for 2nd argument\u001b[0m\n",
      "    operator<<(basic_ostream<_CharT, _Traits>& __os, _Setbase __f)\n",
      "\u001b[0;1;32m    ^\n",
      "\u001b[0m\u001b[1m/opt/anaconda3/envs/cling/bin/../lib/gcc/x86_64-conda-linux-gnu/7.5.0/../../../../x86_64-conda-linux-gnu/include/c++/7.5.0/iomanip:208:5: \u001b[0m\u001b[0;1;30mnote: \u001b[0mcandidate function not viable: no known conversion from 'k0' to 'std::_Setprecision' for 2nd argument\u001b[0m\n",
      "    operator<<(basic_ostream<_CharT, _Traits>& __os, _Setprecision __f)\n",
      "\u001b[0;1;32m    ^\n",
      "\u001b[0m\u001b[1m/opt/anaconda3/envs/cling/bin/../lib/gcc/x86_64-conda-linux-gnu/7.5.0/../../../../x86_64-conda-linux-gnu/include/c++/7.5.0/iomanip:238:5: \u001b[0m\u001b[0;1;30mnote: \u001b[0mcandidate function not viable: no known conversion from 'k0' to 'std::_Setw' for 2nd argument\u001b[0m\n",
      "    operator<<(basic_ostream<_CharT, _Traits>& __os, _Setw __f)\n",
      "\u001b[0;1;32m    ^\n",
      "\u001b[0m\u001b[1m/opt/anaconda3/envs/cling/bin/../lib/gcc/x86_64-conda-linux-gnu/7.5.0/../../../../x86_64-conda-linux-gnu/include/c++/7.5.0/ostream:497:5: \u001b[0m\u001b[0;1;30mnote: \u001b[0mcandidate template ignored: deduced conflicting types for parameter '_CharT' ('char' vs. 'k0')\u001b[0m\n",
      "    operator<<(basic_ostream<_CharT, _Traits>& __out, _CharT __c)\n",
      "\u001b[0;1;32m    ^\n",
      "\u001b[0m\u001b[1m/opt/anaconda3/envs/cling/bin/../lib/gcc/x86_64-conda-linux-gnu/7.5.0/../../../../x86_64-conda-linux-gnu/include/c++/7.5.0/string_view:559:5: \u001b[0m\u001b[0;1;30mnote: \u001b[0mcandidate template ignored: could not match 'basic_string_view<type-parameter-0-0, type-parameter-0-1>' against 'k0'\u001b[0m\n",
      "    operator<<(basic_ostream<_CharT, _Traits>& __os,\n",
      "\u001b[0;1;32m    ^\n",
      "\u001b[0m\u001b[1m/opt/anaconda3/envs/cling/bin/../lib/gcc/x86_64-conda-linux-gnu/7.5.0/../../../../x86_64-conda-linux-gnu/include/c++/7.5.0/bits/basic_string.h:6284:5: \u001b[0m\u001b[0;1;30mnote: \u001b[0mcandidate template ignored: could not match 'basic_string<type-parameter-0-0, type-parameter-0-1, type-parameter-0-2>' against 'k0'\u001b[0m\n",
      "    operator<<(basic_ostream<_CharT, _Traits>& __os,\n",
      "\u001b[0;1;32m    ^\n",
      "\u001b[0m\u001b[1m/opt/anaconda3/envs/cling/bin/../lib/gcc/x86_64-conda-linux-gnu/7.5.0/../../../../x86_64-conda-linux-gnu/include/c++/7.5.0/ostream:539:5: \u001b[0m\u001b[0;1;30mnote: \u001b[0mcandidate template ignored: could not match 'const _CharT *' against 'k0'\u001b[0m\n",
      "    operator<<(basic_ostream<_CharT, _Traits>& __out, const _CharT* __s)\n",
      "\u001b[0;1;32m    ^\n",
      "\u001b[0m\u001b[1m/opt/anaconda3/envs/cling/bin/../lib/gcc/x86_64-conda-linux-gnu/7.5.0/../../../../x86_64-conda-linux-gnu/include/c++/7.5.0/bits/shared_ptr.h:66:5: \u001b[0m\u001b[0;1;30mnote: \u001b[0mcandidate template ignored: could not match '__shared_ptr<type-parameter-0-2, _Lp>' against 'k0'\u001b[0m\n",
      "    operator<<(std::basic_ostream<_Ch, _Tr>& __os,\n",
      "\u001b[0;1;32m    ^\n",
      "\u001b[0m\u001b[1m/opt/anaconda3/envs/cling/bin/../lib/gcc/x86_64-conda-linux-gnu/7.5.0/../../../../x86_64-conda-linux-gnu/include/c++/7.5.0/bits/valarray_after.h:410:5: \u001b[0m\u001b[0;1;30mnote: \u001b[0mcandidate template ignored: could not match '_Expr' against 'basic_ostream'\u001b[0m\n",
      "    _DEFINE_EXPR_BINARY_OPERATOR(<<, __shift_left)\n",
      "\u001b[0;1;32m    ^\n",
      "\u001b[0m\u001b[1m/opt/anaconda3/envs/cling/bin/../lib/gcc/x86_64-conda-linux-gnu/7.5.0/../../../../x86_64-conda-linux-gnu/include/c++/7.5.0/bits/valarray_after.h:341:5: \u001b[0m\u001b[0;1;30mnote: \u001b[0mexpanded from macro '_DEFINE_EXPR_BINARY_OPERATOR'\u001b[0m\n",
      "    operator _Op(const _Expr<_Dom1, typename _Dom1::value_type>& __v,   \\\n",
      "\u001b[0;1;32m    ^\n",
      "\u001b[0m\u001b[1m/opt/anaconda3/envs/cling/bin/../lib/gcc/x86_64-conda-linux-gnu/7.5.0/../../../../x86_64-conda-linux-gnu/include/c++/7.5.0/bits/valarray_after.h:410:5: \u001b[0m\u001b[0;1;30mnote: \u001b[0mcandidate template ignored: could not match '_Expr' against 'basic_ostream'\u001b[0m\n",
      "\u001b[1m/opt/anaconda3/envs/cling/bin/../lib/gcc/x86_64-conda-linux-gnu/7.5.0/../../../../x86_64-conda-linux-gnu/include/c++/7.5.0/bits/valarray_after.h:354:5: \u001b[0m\u001b[0;1;30mnote: \u001b[0mexpanded from macro '_DEFINE_EXPR_BINARY_OPERATOR'\u001b[0m\n",
      "    operator _Op(const _Expr<_Dom, typename _Dom::value_type>& __v,     \\\n",
      "\u001b[0;1;32m    ^\n",
      "\u001b[0m\u001b[1m/opt/anaconda3/envs/cling/bin/../lib/gcc/x86_64-conda-linux-gnu/7.5.0/../../../../x86_64-conda-linux-gnu/include/c++/7.5.0/bits/valarray_after.h:410:5: \u001b[0m\u001b[0;1;30mnote: \u001b[0mcandidate template ignored: could not match '_Expr<type-parameter-0-0, typename type-parameter-0-0::value_type>' against 'k0'\u001b[0m\n",
      "\u001b[1m/opt/anaconda3/envs/cling/bin/../lib/gcc/x86_64-conda-linux-gnu/7.5.0/../../../../x86_64-conda-linux-gnu/include/c++/7.5.0/bits/valarray_after.h:367:5: \u001b[0m\u001b[0;1;30mnote: \u001b[0mexpanded from macro '_DEFINE_EXPR_BINARY_OPERATOR'\u001b[0m\n",
      "    operator _Op(const typename _Dom::value_type& __t,                  \\\n",
      "\u001b[0;1;32m    ^\n",
      "\u001b[0m\u001b[1m/opt/anaconda3/envs/cling/bin/../lib/gcc/x86_64-conda-linux-gnu/7.5.0/../../../../x86_64-conda-linux-gnu/include/c++/7.5.0/bits/valarray_after.h:410:5: \u001b[0m\u001b[0;1;30mnote: \u001b[0mcandidate template ignored: could not match '_Expr' against 'basic_ostream'\u001b[0m\n",
      "\u001b[1m/opt/anaconda3/envs/cling/bin/../lib/gcc/x86_64-conda-linux-gnu/7.5.0/../../../../x86_64-conda-linux-gnu/include/c++/7.5.0/bits/valarray_after.h:380:5: \u001b[0m\u001b[0;1;30mnote: \u001b[0mexpanded from macro '_DEFINE_EXPR_BINARY_OPERATOR'\u001b[0m\n",
      "    operator _Op(const _Expr<_Dom,typename _Dom::value_type>& __e,      \\\n",
      "\u001b[0;1;32m    ^\n",
      "\u001b[0m\u001b[1m/opt/anaconda3/envs/cling/bin/../lib/gcc/x86_64-conda-linux-gnu/7.5.0/../../../../x86_64-conda-linux-gnu/include/c++/7.5.0/bits/valarray_after.h:410:5: \u001b[0m\u001b[0;1;30mnote: \u001b[0mcandidate template ignored: could not match '_Expr<type-parameter-0-0, typename type-parameter-0-0::value_type>' against 'k0'\u001b[0m\n"
     ]
    },
    {
     "name": "stderr",
     "output_type": "stream",
     "text": [
      "\u001b[1m/opt/anaconda3/envs/cling/bin/../lib/gcc/x86_64-conda-linux-gnu/7.5.0/../../../../x86_64-conda-linux-gnu/include/c++/7.5.0/bits/valarray_after.h:393:5: \u001b[0m\u001b[0;1;30mnote: \u001b[0mexpanded from macro '_DEFINE_EXPR_BINARY_OPERATOR'\u001b[0m\n",
      "    operator _Op(const valarray<typename _Dom::value_type>& __v,        \\\n",
      "\u001b[0;1;32m    ^\n",
      "\u001b[0m\u001b[1m/opt/anaconda3/envs/cling/bin/../lib/gcc/x86_64-conda-linux-gnu/7.5.0/../../../../x86_64-conda-linux-gnu/include/c++/7.5.0/valarray:1180:1: \u001b[0m\u001b[0;1;30mnote: \u001b[0mcandidate template ignored: could not match 'valarray' against 'basic_ostream'\u001b[0m\n",
      "_DEFINE_BINARY_OPERATOR(<<, __shift_left)\n",
      "\u001b[0;1;32m^\n",
      "\u001b[0m\u001b[1m/opt/anaconda3/envs/cling/bin/../lib/gcc/x86_64-conda-linux-gnu/7.5.0/../../../../x86_64-conda-linux-gnu/include/c++/7.5.0/valarray:1144:5: \u001b[0m\u001b[0;1;30mnote: \u001b[0mexpanded from macro '_DEFINE_BINARY_OPERATOR'\u001b[0m\n",
      "    operator _Op(const valarray<_Tp>& __v, const valarray<_Tp>& __w)    \\\n",
      "\u001b[0;1;32m    ^\n",
      "\u001b[0m\u001b[1m/opt/anaconda3/envs/cling/bin/../lib/gcc/x86_64-conda-linux-gnu/7.5.0/../../../../x86_64-conda-linux-gnu/include/c++/7.5.0/valarray:1180:1: \u001b[0m\u001b[0;1;30mnote: \u001b[0mcandidate template ignored: could not match 'valarray' against 'basic_ostream'\u001b[0m\n",
      "\u001b[1m/opt/anaconda3/envs/cling/bin/../lib/gcc/x86_64-conda-linux-gnu/7.5.0/../../../../x86_64-conda-linux-gnu/include/c++/7.5.0/valarray:1155:5: \u001b[0m\u001b[0;1;30mnote: \u001b[0mexpanded from macro '_DEFINE_BINARY_OPERATOR'\u001b[0m\n",
      "    operator _Op(const valarray<_Tp>& __v, const _Tp& __t)              \\\n",
      "\u001b[0;1;32m    ^\n",
      "\u001b[0m\u001b[1m/opt/anaconda3/envs/cling/bin/../lib/gcc/x86_64-conda-linux-gnu/7.5.0/../../../../x86_64-conda-linux-gnu/include/c++/7.5.0/valarray:1180:1: \u001b[0m\u001b[0;1;30mnote: \u001b[0mcandidate template ignored: could not match 'valarray<type-parameter-0-0>' against 'k0'\u001b[0m\n",
      "\u001b[1m/opt/anaconda3/envs/cling/bin/../lib/gcc/x86_64-conda-linux-gnu/7.5.0/../../../../x86_64-conda-linux-gnu/include/c++/7.5.0/valarray:1165:5: \u001b[0m\u001b[0;1;30mnote: \u001b[0mexpanded from macro '_DEFINE_BINARY_OPERATOR'\u001b[0m\n",
      "    operator _Op(const _Tp& __t, const valarray<_Tp>& __v)              \\\n",
      "\u001b[0;1;32m    ^\n",
      "\u001b[0m\u001b[1m/opt/anaconda3/envs/cling/bin/../lib/gcc/x86_64-conda-linux-gnu/7.5.0/../../../../x86_64-conda-linux-gnu/include/c++/7.5.0/iomanip:178:5: \u001b[0m\u001b[0;1;30mnote: \u001b[0mcandidate template ignored: could not match '_Setfill<type-parameter-0-0>' against 'k0'\u001b[0m\n",
      "    operator<<(basic_ostream<_CharT, _Traits>& __os, _Setfill<_CharT> __f)\n",
      "\u001b[0;1;32m    ^\n",
      "\u001b[0m\u001b[1m/opt/anaconda3/envs/cling/bin/../lib/gcc/x86_64-conda-linux-gnu/7.5.0/../../../../x86_64-conda-linux-gnu/include/c++/7.5.0/ostream:682:5: \u001b[0m\u001b[0;1;30mnote: \u001b[0mcandidate template ignored: requirement '__and_<__not_<is_lvalue_reference<basic_ostream<char> &> >,\n",
      "      __is_convertible_to_basic_ostream<basic_ostream<char> &>, __is_insertable<__rvalue_ostream_type<basic_ostream<char> &>, const k0\n",
      "      &> >::value' was not satisfied [with _Ostream = std::basic_ostream<char> &, _Tp = k0]\u001b[0m\n",
      "    operator<<(_Ostream&& __os, const _Tp& __x)\n",
      "\u001b[0;1;32m    ^\n",
      "\u001b[0m\u001b[1m/opt/anaconda3/envs/cling/bin/../lib/gcc/x86_64-conda-linux-gnu/7.5.0/../../../../x86_64-conda-linux-gnu/include/c++/7.5.0/iomanip:311:5: \u001b[0m\u001b[0;1;30mnote: \u001b[0mcandidate template ignored: could not match '_Put_money<type-parameter-0-2>' against 'k0'\u001b[0m\n",
      "    operator<<(basic_ostream<_CharT, _Traits>& __os, _Put_money<_MoneyT> __f)\n",
      "\u001b[0;1;32m    ^\n",
      "\u001b[0m\u001b[1m/opt/anaconda3/envs/cling/bin/../lib/gcc/x86_64-conda-linux-gnu/7.5.0/../../../../x86_64-conda-linux-gnu/include/c++/7.5.0/iomanip:363:5: \u001b[0m\u001b[0;1;30mnote: \u001b[0mcandidate template ignored: could not match '_Put_time<type-parameter-0-0>' against 'k0'\u001b[0m\n",
      "    operator<<(basic_ostream<_CharT, _Traits>& __os, _Put_time<_CharT> __f)\n",
      "\u001b[0;1;32m    ^\n",
      "\u001b[0m"
     ]
    },
    {
     "ename": "Interpreter Error",
     "evalue": "",
     "output_type": "error",
     "traceback": [
      "Interpreter Error: "
     ]
    }
   ],
   "source": [
    "t"
   ]
  },
  {
   "cell_type": "code",
   "execution_count": 5,
   "metadata": {},
   "outputs": [],
   "source": []
  },
  {
   "cell_type": "code",
   "execution_count": null,
   "metadata": {},
   "outputs": [],
   "source": []
  },
  {
   "cell_type": "code",
   "execution_count": null,
   "metadata": {},
   "outputs": [],
   "source": []
  },
  {
   "cell_type": "code",
   "execution_count": 9,
   "metadata": {},
   "outputs": [
    {
     "name": "stderr",
     "output_type": "stream",
     "text": [
      "\u001b[1minput_line_17:2:5: \u001b[0m\u001b[0;1;31merror: \u001b[0m\u001b[1muse of undeclared identifier 'r'\u001b[0m\n",
      " kF(r.res_)\n",
      "\u001b[0;1;32m    ^\n",
      "\u001b[0m"
     ]
    },
    {
     "ename": "Interpreter Error",
     "evalue": "",
     "output_type": "error",
     "traceback": [
      "Interpreter Error: "
     ]
    }
   ],
   "source": []
  },
  {
   "cell_type": "code",
   "execution_count": 8,
   "metadata": {},
   "outputs": [
    {
     "name": "stdout",
     "output_type": "stream",
     "text": [
      "139954981177984 139954981178016 139954981178048 139954981178112 "
     ]
    }
   ],
   "source": [
    "for (auto const it : column) {\n",
    "    std::cout << it << ' ';\n",
    "}"
   ]
  },
  {
   "cell_type": "code",
   "execution_count": 1,
   "metadata": {
    "run_control": {
     "marked": false
    }
   },
   "outputs": [
    {
     "name": "stderr",
     "output_type": "stream",
     "text": [
      "\u001b[1minput_line_7:2:22: \u001b[0m\u001b[0;1;31merror: \u001b[0m\u001b[1muse of undeclared identifier 'column'\u001b[0m\n",
      " std::cout << typeid(column).name() << std::endl;\n",
      "\u001b[0;1;32m                     ^\n",
      "\u001b[0m\u001b[1minput_line_7:2:7: \u001b[0m\u001b[0;1;31merror: \u001b[0m\u001b[1mno member named 'cout' in namespace 'std'; did you mean 'count'?\u001b[0m\n",
      " std::cout << typeid(column).name() << std::endl;\n",
      "\u001b[0;1;32m ~~~~~^~~~\n",
      "\u001b[0m\u001b[0;32m      count\n",
      "\u001b[0m\u001b[1m/opt/anaconda3/envs/cling/bin/../lib/gcc/x86_64-conda-linux-gnu/7.5.0/../../../../x86_64-conda-linux-gnu/include/c++/7.5.0/bits/stl_algo.h:4076:5: \u001b[0m\u001b[0;1;30mnote: \u001b[0m'count' declared here\u001b[0m\n",
      "    count(_InputIterator __first, _InputIterator __last, const _Tp& __value)\n",
      "\u001b[0;1;32m    ^\n",
      "\u001b[0m"
     ]
    },
    {
     "ename": "Interpreter Error",
     "evalue": "",
     "output_type": "error",
     "traceback": [
      "Interpreter Error: "
     ]
    }
   ],
   "source": [
    "std::cout << typeid(column).name() << std::endl;"
   ]
  },
  {
   "cell_type": "code",
   "execution_count": 10,
   "metadata": {},
   "outputs": [],
   "source": []
  },
  {
   "cell_type": "code",
   "execution_count": null,
   "metadata": {},
   "outputs": [],
   "source": []
  },
  {
   "cell_type": "code",
   "execution_count": 9,
   "metadata": {},
   "outputs": [],
   "source": [
    "kdb::Result res = kcon.sync(\"select from tbl_test\");"
   ]
  },
  {
   "cell_type": "code",
   "execution_count": 10,
   "metadata": {},
   "outputs": [],
   "source": [
    "kdb::Table tbl = res.get_table();"
   ]
  },
  {
   "cell_type": "code",
   "execution_count": null,
   "metadata": {},
   "outputs": [],
   "source": []
  },
  {
   "cell_type": "code",
   "execution_count": 11,
   "metadata": {},
   "outputs": [
    {
     "name": "stdout",
     "output_type": "stream",
     "text": [
      "=======================================\n",
      "Column 0: 1 2 3 4 \n"
     ]
    }
   ],
   "source": [
    "// Traverse a column\n",
    "kdb::Vector<kdb::Type::Long> column = tbl.get_column<kdb::Type::Long>(0);\n",
    "std::cout << \"=======================================\\nColumn 0: \";\n",
    "for (auto const &it : column) {\n",
    "    std::cout << it << ' ';\n",
    "}\n",
    "std::cout << '\\n';"
   ]
  },
  {
   "cell_type": "code",
   "execution_count": 5,
   "metadata": {},
   "outputs": [
    {
     "name": "stderr",
     "output_type": "stream",
     "text": [
      "In file included from input_line_14:1:\n",
      "In file included from ./thirdparty/libtorch/include/torch/csrc/api/include/torch/torch.h:3:\n",
      "In file included from ./thirdparty/libtorch/include/torch/csrc/api/include/torch/all.h:8:\n",
      "In file included from ./thirdparty/libtorch/include/torch/csrc/api/include/torch/data.h:3:\n",
      "In file included from ./thirdparty/libtorch/include/torch/csrc/api/include/torch/data/dataloader.h:3:\n",
      "In file included from ./thirdparty/libtorch/include/torch/csrc/api/include/torch/data/dataloader/stateful.h:3:\n",
      "In file included from ./thirdparty/libtorch/include/torch/csrc/api/include/torch/data/dataloader/base.h:3:\n",
      "In file included from ./thirdparty/libtorch/include/torch/csrc/api/include/torch/data/dataloader_options.h:4:\n",
      "In file included from ./thirdparty/libtorch/include/torch/csrc/api/include/torch/types.h:3:\n",
      "In file included from ./thirdparty/libtorch/include/ATen/ATen.h:9:\n",
      "In file included from ./thirdparty/libtorch/include/ATen/Context.h:4:\n",
      "In file included from ./thirdparty/libtorch/include/ATen/Tensor.h:3:\n",
      "In file included from ./thirdparty/libtorch/include/ATen/core/TensorBody.h:4:\n",
      "In file included from ./thirdparty/libtorch/include/c10/core/Layout.h:3:\n",
      "In file included from ./thirdparty/libtorch/include/c10/core/Backend.h:5:\n",
      "In file included from ./thirdparty/libtorch/include/c10/core/DispatchKeySet.h:4:\n",
      "\u001b[1m./thirdparty/libtorch/include/c10/util/llvmMathExtras.h:790:8: \u001b[0m\u001b[0;1;31merror: \u001b[0m\u001b[1mexpected unqualified-id\u001b[0m\n",
      "   T Z = X + Y;\n",
      "\u001b[0;1;32m       ^\n",
      "\u001b[0m\u001b[1m./thirdparty/libtorch/include/c10/util/llvmMathExtras.h:791:18: \u001b[0m\u001b[0;1;31merror: \u001b[0m\u001b[1mtype name does not allow storage class to be specified\u001b[0m\n",
      "   Overflowed = (Z < X || Z < Y);\n",
      "\u001b[0;1;32m                 ^\n",
      "\u001b[0m\u001b[1m./thirdparty/kdb-cpp/include/internal/../external/k.h:101:11: \u001b[0m\u001b[0;1;30mnote: \u001b[0mexpanded from macro 'Z'\u001b[0m\n",
      "#define Z static\n",
      "\u001b[0;1;32m          ^\n",
      "\u001b[0mIn file included from input_line_14:1:\n",
      "In file included from ./thirdparty/libtorch/include/torch/csrc/api/include/torch/torch.h:3:\n",
      "In file included from ./thirdparty/libtorch/include/torch/csrc/api/include/torch/all.h:8:\n",
      "In file included from ./thirdparty/libtorch/include/torch/csrc/api/include/torch/data.h:3:\n",
      "In file included from ./thirdparty/libtorch/include/torch/csrc/api/include/torch/data/dataloader.h:3:\n",
      "In file included from ./thirdparty/libtorch/include/torch/csrc/api/include/torch/data/dataloader/stateful.h:3:\n",
      "In file included from ./thirdparty/libtorch/include/torch/csrc/api/include/torch/data/dataloader/base.h:3:\n",
      "In file included from ./thirdparty/libtorch/include/torch/csrc/api/include/torch/data/dataloader_options.h:4:\n",
      "In file included from ./thirdparty/libtorch/include/torch/csrc/api/include/torch/types.h:3:\n",
      "In file included from ./thirdparty/libtorch/include/ATen/ATen.h:9:\n",
      "In file included from ./thirdparty/libtorch/include/ATen/Context.h:4:\n",
      "In file included from ./thirdparty/libtorch/include/ATen/Tensor.h:3:\n",
      "In file included from ./thirdparty/libtorch/include/ATen/core/TensorBody.h:4:\n",
      "In file included from ./thirdparty/libtorch/include/c10/core/Layout.h:3:\n",
      "In file included from ./thirdparty/libtorch/include/c10/core/Backend.h:5:\n",
      "In file included from ./thirdparty/libtorch/include/c10/core/DispatchKeySet.h:4:\n",
      "\u001b[1m./thirdparty/libtorch/include/c10/util/llvmMathExtras.h:791:20: \u001b[0m\u001b[0;1;31merror: \u001b[0m\u001b[1mexpected ')'\u001b[0m\n",
      "   Overflowed = (Z < X || Z < Y);\n",
      "\u001b[0;1;32m                   ^\n",
      "\u001b[0m\u001b[1m./thirdparty/libtorch/include/c10/util/llvmMathExtras.h:791:17: \u001b[0m\u001b[0;1;30mnote: \u001b[0mto match this '('\u001b[0m\n",
      "   Overflowed = (Z < X || Z < Y);\n",
      "\u001b[0;1;32m                ^\n",
      "\u001b[0m\u001b[1m./thirdparty/libtorch/include/c10/util/llvmMathExtras.h:791:33: \u001b[0m\u001b[0;1;31merror: \u001b[0m\u001b[1mexpected expression\u001b[0m\n",
      "   Overflowed = (Z < X || Z < Y);\n",
      "\u001b[0;1;32m                                ^\n",
      "\u001b[0m\u001b[1m./thirdparty/libtorch/include/c10/util/llvmMathExtras.h:795:13: \u001b[0m\u001b[0;1;31merror: \u001b[0m\u001b[1mexpected expression\u001b[0m\n",
      "     return Z;\n",
      "\u001b[0;1;32m            ^\n",
      "\u001b[0m\u001b[1m./thirdparty/kdb-cpp/include/internal/../external/k.h:101:11: \u001b[0m\u001b[0;1;30mnote: \u001b[0mexpanded from macro 'Z'\u001b[0m\n",
      "#define Z static\n",
      "\u001b[0;1;32m          ^\n",
      "\u001b[0mIn file included from input_line_14:1:\n",
      "In file included from ./thirdparty/libtorch/include/torch/csrc/api/include/torch/torch.h:3:\n",
      "In file included from ./thirdparty/libtorch/include/torch/csrc/api/include/torch/all.h:8:\n",
      "In file included from ./thirdparty/libtorch/include/torch/csrc/api/include/torch/data.h:3:\n",
      "In file included from ./thirdparty/libtorch/include/torch/csrc/api/include/torch/data/dataloader.h:3:\n",
      "In file included from ./thirdparty/libtorch/include/torch/csrc/api/include/torch/data/dataloader/stateful.h:3:\n",
      "In file included from ./thirdparty/libtorch/include/torch/csrc/api/include/torch/data/dataloader/base.h:3:\n",
      "In file included from ./thirdparty/libtorch/include/torch/csrc/api/include/torch/data/dataloader_options.h:4:\n",
      "In file included from ./thirdparty/libtorch/include/torch/csrc/api/include/torch/types.h:3:\n",
      "In file included from ./thirdparty/libtorch/include/ATen/ATen.h:9:\n",
      "In file included from ./thirdparty/libtorch/include/ATen/Context.h:4:\n",
      "In file included from ./thirdparty/libtorch/include/ATen/Tensor.h:3:\n",
      "In file included from ./thirdparty/libtorch/include/ATen/core/TensorBody.h:4:\n",
      "In file included from ./thirdparty/libtorch/include/c10/core/Layout.h:3:\n",
      "In file included from ./thirdparty/libtorch/include/c10/core/Backend.h:5:\n",
      "In file included from ./thirdparty/libtorch/include/c10/core/DispatchKeySet.h:4:\n",
      "\u001b[1m./thirdparty/libtorch/include/c10/util/llvmMathExtras.h:831:8: \u001b[0m\u001b[0;1;31merror: \u001b[0m\u001b[1mexpected unqualified-id\u001b[0m\n",
      "   T Z = (X >> 1) * Y;\n",
      "\u001b[0;1;32m       ^\n",
      "\u001b[0m\u001b[1m./thirdparty/libtorch/include/c10/util/llvmMathExtras.h:832:8: \u001b[0m\u001b[0;1;31merror: \u001b[0m\u001b[1mtype name does not allow storage class to be specified\u001b[0m\n",
      "   if (Z & ~(Max >> 1)) {\n",
      "\u001b[0;1;32m       ^\n",
      "\u001b[0m\u001b[1m./thirdparty/kdb-cpp/include/internal/../external/k.h:101:11: \u001b[0m\u001b[0;1;30mnote: \u001b[0mexpanded from macro 'Z'\u001b[0m\n",
      "#define Z static\n",
      "\u001b[0;1;32m          ^\n",
      "\u001b[0mIn file included from input_line_14:1:\n",
      "In file included from ./thirdparty/libtorch/include/torch/csrc/api/include/torch/torch.h:3:\n",
      "In file included from ./thirdparty/libtorch/include/torch/csrc/api/include/torch/all.h:8:\n",
      "In file included from ./thirdparty/libtorch/include/torch/csrc/api/include/torch/data.h:3:\n",
      "In file included from ./thirdparty/libtorch/include/torch/csrc/api/include/torch/data/dataloader.h:3:\n",
      "In file included from ./thirdparty/libtorch/include/torch/csrc/api/include/torch/data/dataloader/stateful.h:3:\n",
      "In file included from ./thirdparty/libtorch/include/torch/csrc/api/include/torch/data/dataloader/base.h:3:\n",
      "In file included from ./thirdparty/libtorch/include/torch/csrc/api/include/torch/data/dataloader_options.h:4:\n",
      "In file included from ./thirdparty/libtorch/include/torch/csrc/api/include/torch/types.h:3:\n",
      "In file included from ./thirdparty/libtorch/include/ATen/ATen.h:9:\n",
      "In file included from ./thirdparty/libtorch/include/ATen/Context.h:4:\n",
      "In file included from ./thirdparty/libtorch/include/ATen/Tensor.h:3:\n",
      "In file included from ./thirdparty/libtorch/include/ATen/core/TensorBody.h:4:\n",
      "In file included from ./thirdparty/libtorch/include/c10/core/Layout.h:3:\n",
      "In file included from ./thirdparty/libtorch/include/c10/core/Backend.h:5:\n",
      "In file included from ./thirdparty/libtorch/include/c10/core/DispatchKeySet.h:4:\n",
      "\u001b[1m./thirdparty/libtorch/include/c10/util/llvmMathExtras.h:832:13: \u001b[0m\u001b[0;1;31merror: \u001b[0m\u001b[1mexpected a class name after '~' to name a destructor\u001b[0m\n",
      "   if (Z & ~(Max >> 1)) {\n",
      "\u001b[0;1;32m            ^\n",
      "\u001b[0m\u001b[1m./thirdparty/libtorch/include/c10/util/llvmMathExtras.h:836:6: \u001b[0m\u001b[0;1;31merror: \u001b[0m\u001b[1mexpected unqualified-id\u001b[0m\n",
      "   Z <<= 1;\n",
      "\u001b[0;1;32m     ^\n",
      "\u001b[0m\u001b[1m./thirdparty/libtorch/include/c10/util/llvmMathExtras.h:838:27: \u001b[0m\u001b[0;1;31merror: \u001b[0m\u001b[1mexpected expression\u001b[0m\n",
      "     return SaturatingAdd(Z, Y, ResultOverflowed);\n",
      "\u001b[0;1;32m                          ^\n",
      "\u001b[0m\u001b[1m./thirdparty/kdb-cpp/include/internal/../external/k.h:101:11: \u001b[0m\u001b[0;1;30mnote: \u001b[0mexpanded from macro 'Z'\u001b[0m\n",
      "#define Z static\n",
      "\u001b[0;1;32m          ^\n",
      "\u001b[0mIn file included from input_line_14:1:\n",
      "In file included from ./thirdparty/libtorch/include/torch/csrc/api/include/torch/torch.h:3:\n",
      "In file included from ./thirdparty/libtorch/include/torch/csrc/api/include/torch/all.h:8:\n",
      "In file included from ./thirdparty/libtorch/include/torch/csrc/api/include/torch/data.h:3:\n",
      "In file included from ./thirdparty/libtorch/include/torch/csrc/api/include/torch/data/dataloader.h:3:\n",
      "In file included from ./thirdparty/libtorch/include/torch/csrc/api/include/torch/data/dataloader/stateful.h:3:\n",
      "In file included from ./thirdparty/libtorch/include/torch/csrc/api/include/torch/data/dataloader/base.h:3:\n",
      "In file included from ./thirdparty/libtorch/include/torch/csrc/api/include/torch/data/dataloader_options.h:4:\n",
      "In file included from ./thirdparty/libtorch/include/torch/csrc/api/include/torch/types.h:3:\n",
      "In file included from ./thirdparty/libtorch/include/ATen/ATen.h:9:\n",
      "In file included from ./thirdparty/libtorch/include/ATen/Context.h:4:\n",
      "In file included from ./thirdparty/libtorch/include/ATen/Tensor.h:3:\n",
      "In file included from ./thirdparty/libtorch/include/ATen/core/TensorBody.h:4:\n",
      "In file included from ./thirdparty/libtorch/include/c10/core/Layout.h:3:\n",
      "In file included from ./thirdparty/libtorch/include/c10/core/Backend.h:5:\n",
      "In file included from ./thirdparty/libtorch/include/c10/core/DispatchKeySet.h:4:\n",
      "\u001b[1m./thirdparty/libtorch/include/c10/util/llvmMathExtras.h:840:11: \u001b[0m\u001b[0;1;31merror: \u001b[0m\u001b[1mexpected expression\u001b[0m\n",
      "   return Z;\n",
      "\u001b[0;1;32m          ^\n",
      "\u001b[0m\u001b[1m./thirdparty/kdb-cpp/include/internal/../external/k.h:101:11: \u001b[0m\u001b[0;1;30mnote: \u001b[0mexpanded from macro 'Z'\u001b[0m\n",
      "#define Z static\n",
      "\u001b[0;1;32m          ^\n",
      "\u001b[0mIn file included from input_line_14:1:\n",
      "In file included from ./thirdparty/libtorch/include/torch/csrc/api/include/torch/torch.h:3:\n",
      "In file included from ./thirdparty/libtorch/include/torch/csrc/api/include/torch/all.h:8:\n",
      "In file included from ./thirdparty/libtorch/include/torch/csrc/api/include/torch/data.h:3:\n",
      "In file included from ./thirdparty/libtorch/include/torch/csrc/api/include/torch/data/dataloader.h:3:\n",
      "In file included from ./thirdparty/libtorch/include/torch/csrc/api/include/torch/data/dataloader/stateful.h:3:\n",
      "In file included from ./thirdparty/libtorch/include/torch/csrc/api/include/torch/data/dataloader/base.h:3:\n",
      "In file included from ./thirdparty/libtorch/include/torch/csrc/api/include/torch/data/dataloader_options.h:4:\n",
      "In file included from ./thirdparty/libtorch/include/torch/csrc/api/include/torch/types.h:3:\n",
      "In file included from ./thirdparty/libtorch/include/ATen/ATen.h:9:\n",
      "In file included from ./thirdparty/libtorch/include/ATen/Context.h:4:\n",
      "In file included from ./thirdparty/libtorch/include/ATen/Tensor.h:3:\n",
      "In file included from ./thirdparty/libtorch/include/ATen/core/TensorBody.h:7:\n",
      "In file included from ./thirdparty/libtorch/include/c10/core/Scalar.h:10:\n",
      "In file included from ./thirdparty/libtorch/include/c10/core/ScalarType.h:4:\n",
      "In file included from ./thirdparty/libtorch/include/c10/util/complex.h:570:\n",
      "\u001b[1m./thirdparty/libtorch/include/c10/util/complex_math.h:83:52: \u001b[0m\u001b[0;1;31merror: \u001b[0m\u001b[1mexpected expression\u001b[0m\n",
      "C10_HOST_DEVICE inline c10::complex<decltype(T() * U())> pow(const c10::complex<T> &x, const c10::complex<U> &y) {\n",
      "\u001b[0;1;32m                                                   ^\n",
      "\u001b[0m\u001b[1m./thirdparty/kdb-cpp/include/internal/../external/k.h:103:14: \u001b[0m\u001b[0;1;30mnote: \u001b[0mexpanded from macro 'U'\u001b[0m\n",
      "#define U(x) P(!(x),0)\n",
      "\u001b[0;1;32m             ^\n",
      "\u001b[0m\u001b[1m./thirdparty/kdb-cpp/include/internal/../external/k.h:102:17: \u001b[0m\u001b[0;1;30mnote: \u001b[0mexpanded from macro 'P'\u001b[0m\n",
      "#define P(x,y) {if(x)R(y);}\n",
      "\u001b[0;1;32m                ^\n",
      "\u001b[0mIn file included from input_line_14:1:\n",
      "In file included from ./thirdparty/libtorch/include/torch/csrc/api/include/torch/torch.h:3:\n",
      "In file included from ./thirdparty/libtorch/include/torch/csrc/api/include/torch/all.h:8:\n",
      "In file included from ./thirdparty/libtorch/include/torch/csrc/api/include/torch/data.h:3:\n",
      "In file included from ./thirdparty/libtorch/include/torch/csrc/api/include/torch/data/dataloader.h:3:\n",
      "In file included from ./thirdparty/libtorch/include/torch/csrc/api/include/torch/data/dataloader/stateful.h:3:\n",
      "In file included from ./thirdparty/libtorch/include/torch/csrc/api/include/torch/data/dataloader/base.h:3:\n",
      "In file included from ./thirdparty/libtorch/include/torch/csrc/api/include/torch/data/dataloader_options.h:4:\n",
      "In file included from ./thirdparty/libtorch/include/torch/csrc/api/include/torch/types.h:3:\n",
      "In file included from ./thirdparty/libtorch/include/ATen/ATen.h:9:\n",
      "In file included from ./thirdparty/libtorch/include/ATen/Context.h:4:\n",
      "In file included from ./thirdparty/libtorch/include/ATen/Tensor.h:3:\n",
      "In file included from ./thirdparty/libtorch/include/ATen/core/TensorBody.h:7:\n",
      "In file included from ./thirdparty/libtorch/include/c10/core/Scalar.h:10:\n",
      "In file included from ./thirdparty/libtorch/include/c10/core/ScalarType.h:4:\n",
      "In file included from ./thirdparty/libtorch/include/c10/util/complex.h:570:\n",
      "\u001b[1m./thirdparty/libtorch/include/c10/util/complex_math.h:93:52: \u001b[0m\u001b[0;1;31merror: \u001b[0m\u001b[1mexpected expression\u001b[0m\n",
      "C10_HOST_DEVICE inline c10::complex<decltype(T() * U())> pow(const c10::complex<T> &x, const U &y) {\n",
      "\u001b[0;1;32m                                                   ^\n",
      "\u001b[0m\u001b[1m./thirdparty/kdb-cpp/include/internal/../external/k.h:103:14: \u001b[0m\u001b[0;1;30mnote: \u001b[0mexpanded from macro 'U'\u001b[0m\n",
      "#define U(x) P(!(x),0)\n",
      "\u001b[0;1;32m             ^\n",
      "\u001b[0m\u001b[1m./thirdparty/kdb-cpp/include/internal/../external/k.h:102:17: \u001b[0m\u001b[0;1;30mnote: \u001b[0mexpanded from macro 'P'\u001b[0m\n",
      "#define P(x,y) {if(x)R(y);}\n",
      "\u001b[0;1;32m                ^\n",
      "\u001b[0mIn file included from input_line_14:1:\n",
      "In file included from ./thirdparty/libtorch/include/torch/csrc/api/include/torch/torch.h:3:\n",
      "In file included from ./thirdparty/libtorch/include/torch/csrc/api/include/torch/all.h:8:\n",
      "In file included from ./thirdparty/libtorch/include/torch/csrc/api/include/torch/data.h:3:\n",
      "In file included from ./thirdparty/libtorch/include/torch/csrc/api/include/torch/data/dataloader.h:3:\n",
      "In file included from ./thirdparty/libtorch/include/torch/csrc/api/include/torch/data/dataloader/stateful.h:3:\n",
      "In file included from ./thirdparty/libtorch/include/torch/csrc/api/include/torch/data/dataloader/base.h:3:\n",
      "In file included from ./thirdparty/libtorch/include/torch/csrc/api/include/torch/data/dataloader_options.h:4:\n",
      "In file included from ./thirdparty/libtorch/include/torch/csrc/api/include/torch/types.h:3:\n",
      "In file included from ./thirdparty/libtorch/include/ATen/ATen.h:9:\n",
      "In file included from ./thirdparty/libtorch/include/ATen/Context.h:4:\n",
      "In file included from ./thirdparty/libtorch/include/ATen/Tensor.h:3:\n",
      "In file included from ./thirdparty/libtorch/include/ATen/core/TensorBody.h:7:\n",
      "In file included from ./thirdparty/libtorch/include/c10/core/Scalar.h:10:\n",
      "In file included from ./thirdparty/libtorch/include/c10/core/ScalarType.h:4:\n",
      "In file included from ./thirdparty/libtorch/include/c10/util/complex.h:570:\n",
      "\u001b[1m./thirdparty/libtorch/include/c10/util/complex_math.h:102:52: \u001b[0m\u001b[0;1;31merror: \u001b[0m\u001b[1mexpected expression\u001b[0m\n",
      "C10_HOST_DEVICE inline c10::complex<decltype(T() * U())> pow(const T &x, const c10::complex<U> &y) {\n",
      "\u001b[0;1;32m                                                   ^\n",
      "\u001b[0m\u001b[1m./thirdparty/kdb-cpp/include/internal/../external/k.h:103:14: \u001b[0m\u001b[0;1;30mnote: \u001b[0mexpanded from macro 'U'\u001b[0m\n",
      "#define U(x) P(!(x),0)\n",
      "\u001b[0;1;32m             ^\n",
      "\u001b[0m\u001b[1m./thirdparty/kdb-cpp/include/internal/../external/k.h:102:17: \u001b[0m\u001b[0;1;30mnote: \u001b[0mexpanded from macro 'P'\u001b[0m\n",
      "#define P(x,y) {if(x)R(y);}\n",
      "\u001b[0;1;32m                ^\n",
      "\u001b[0mIn file included from input_line_14:1:\n",
      "In file included from ./thirdparty/libtorch/include/torch/csrc/api/include/torch/torch.h:3:\n",
      "In file included from ./thirdparty/libtorch/include/torch/csrc/api/include/torch/all.h:8:\n",
      "In file included from ./thirdparty/libtorch/include/torch/csrc/api/include/torch/data.h:3:\n",
      "In file included from ./thirdparty/libtorch/include/torch/csrc/api/include/torch/data/dataloader.h:3:\n",
      "In file included from ./thirdparty/libtorch/include/torch/csrc/api/include/torch/data/dataloader/stateful.h:3:\n",
      "In file included from ./thirdparty/libtorch/include/torch/csrc/api/include/torch/data/dataloader/base.h:3:\n"
     ]
    },
    {
     "name": "stderr",
     "output_type": "stream",
     "text": [
      "In file included from ./thirdparty/libtorch/include/torch/csrc/api/include/torch/data/dataloader_options.h:4:\n",
      "In file included from ./thirdparty/libtorch/include/torch/csrc/api/include/torch/types.h:3:\n",
      "In file included from ./thirdparty/libtorch/include/ATen/ATen.h:9:\n",
      "In file included from ./thirdparty/libtorch/include/ATen/Context.h:4:\n",
      "In file included from ./thirdparty/libtorch/include/ATen/Tensor.h:3:\n",
      "In file included from ./thirdparty/libtorch/include/ATen/core/TensorBody.h:7:\n",
      "In file included from ./thirdparty/libtorch/include/c10/core/Scalar.h:10:\n",
      "In file included from ./thirdparty/libtorch/include/c10/core/ScalarType.h:8:\n",
      "In file included from ./thirdparty/libtorch/include/c10/util/typeid.h:33:\n",
      "\u001b[1m./thirdparty/libtorch/include/c10/util/flat_hash_map.h:924:35: \u001b[0m\u001b[0;1;31merror: \u001b[0m\u001b[1mexpected a qualified name after 'typename'\u001b[0m\n",
      "    template<typename L, typename R>\n",
      "\u001b[0;1;32m                                  ^\n",
      "\u001b[0m\u001b[1m./thirdparty/kdb-cpp/include/internal/../external/k.h:100:11: \u001b[0m\u001b[0;1;30mnote: \u001b[0mexpanded from macro 'R'\u001b[0m\n",
      "#define R return\n",
      "\u001b[0;1;32m          ^\n",
      "\u001b[0mIn file included from input_line_14:1:\n",
      "In file included from ./thirdparty/libtorch/include/torch/csrc/api/include/torch/torch.h:3:\n",
      "In file included from ./thirdparty/libtorch/include/torch/csrc/api/include/torch/all.h:8:\n",
      "In file included from ./thirdparty/libtorch/include/torch/csrc/api/include/torch/data.h:3:\n",
      "In file included from ./thirdparty/libtorch/include/torch/csrc/api/include/torch/data/dataloader.h:3:\n",
      "In file included from ./thirdparty/libtorch/include/torch/csrc/api/include/torch/data/dataloader/stateful.h:3:\n",
      "In file included from ./thirdparty/libtorch/include/torch/csrc/api/include/torch/data/dataloader/base.h:3:\n",
      "In file included from ./thirdparty/libtorch/include/torch/csrc/api/include/torch/data/dataloader_options.h:4:\n",
      "In file included from ./thirdparty/libtorch/include/torch/csrc/api/include/torch/types.h:3:\n",
      "In file included from ./thirdparty/libtorch/include/ATen/ATen.h:9:\n",
      "In file included from ./thirdparty/libtorch/include/ATen/Context.h:4:\n",
      "In file included from ./thirdparty/libtorch/include/ATen/Tensor.h:3:\n",
      "In file included from ./thirdparty/libtorch/include/ATen/core/TensorBody.h:7:\n",
      "In file included from ./thirdparty/libtorch/include/c10/core/Scalar.h:10:\n",
      "In file included from ./thirdparty/libtorch/include/c10/core/ScalarType.h:8:\n",
      "In file included from ./thirdparty/libtorch/include/c10/util/typeid.h:33:\n",
      "\u001b[1m./thirdparty/libtorch/include/c10/util/flat_hash_map.h:924:35: \u001b[0m\u001b[0;1;31merror: \u001b[0m\u001b[1mexpected ',' or '>' in template-parameter-list\u001b[0m\n",
      "\u001b[1m./thirdparty/kdb-cpp/include/internal/../external/k.h:100:11: \u001b[0m\u001b[0;1;30mnote: \u001b[0mexpanded from macro 'R'\u001b[0m\n",
      "#define R return\n",
      "\u001b[0;1;32m          ^\n",
      "\u001b[0mIn file included from input_line_14:1:\n",
      "In file included from ./thirdparty/libtorch/include/torch/csrc/api/include/torch/torch.h:3:\n",
      "In file included from ./thirdparty/libtorch/include/torch/csrc/api/include/torch/all.h:8:\n",
      "In file included from ./thirdparty/libtorch/include/torch/csrc/api/include/torch/data.h:3:\n",
      "In file included from ./thirdparty/libtorch/include/torch/csrc/api/include/torch/data/dataloader.h:3:\n",
      "In file included from ./thirdparty/libtorch/include/torch/csrc/api/include/torch/data/dataloader/stateful.h:3:\n",
      "In file included from ./thirdparty/libtorch/include/torch/csrc/api/include/torch/data/dataloader/base.h:3:\n",
      "In file included from ./thirdparty/libtorch/include/torch/csrc/api/include/torch/data/dataloader_options.h:4:\n",
      "In file included from ./thirdparty/libtorch/include/torch/csrc/api/include/torch/types.h:3:\n",
      "In file included from ./thirdparty/libtorch/include/ATen/ATen.h:9:\n",
      "In file included from ./thirdparty/libtorch/include/ATen/Context.h:4:\n",
      "In file included from ./thirdparty/libtorch/include/ATen/Tensor.h:3:\n",
      "In file included from ./thirdparty/libtorch/include/ATen/core/TensorBody.h:7:\n",
      "In file included from ./thirdparty/libtorch/include/c10/core/Scalar.h:10:\n",
      "In file included from ./thirdparty/libtorch/include/c10/core/ScalarType.h:8:\n",
      "In file included from ./thirdparty/libtorch/include/c10/util/typeid.h:33:\n",
      "\u001b[1m./thirdparty/libtorch/include/c10/util/flat_hash_map.h:925:46: \u001b[0m\u001b[0;1;31merror: \u001b[0m\u001b[1mC++ requires a type specifier for all declarations\u001b[0m\n",
      "    bool compares_equal(const L & lhs, const R & rhs)\n",
      "\u001b[0;1;32m                                       ~~~~~ ^\n",
      "\u001b[0m\u001b[1m./thirdparty/kdb-cpp/include/internal/../external/k.h:100:11: \u001b[0m\u001b[0;1;30mnote: \u001b[0mexpanded from macro 'R'\u001b[0m\n",
      "#define R return\n",
      "\u001b[0;1;32m          ^\n",
      "\u001b[0mIn file included from input_line_14:1:\n",
      "In file included from ./thirdparty/libtorch/include/torch/csrc/api/include/torch/torch.h:3:\n",
      "In file included from ./thirdparty/libtorch/include/torch/csrc/api/include/torch/all.h:8:\n",
      "In file included from ./thirdparty/libtorch/include/torch/csrc/api/include/torch/data.h:3:\n",
      "In file included from ./thirdparty/libtorch/include/torch/csrc/api/include/torch/data/dataloader.h:3:\n",
      "In file included from ./thirdparty/libtorch/include/torch/csrc/api/include/torch/data/dataloader/stateful.h:3:\n",
      "In file included from ./thirdparty/libtorch/include/torch/csrc/api/include/torch/data/dataloader/base.h:3:\n",
      "In file included from ./thirdparty/libtorch/include/torch/csrc/api/include/torch/data/dataloader_options.h:4:\n",
      "In file included from ./thirdparty/libtorch/include/torch/csrc/api/include/torch/types.h:3:\n",
      "In file included from ./thirdparty/libtorch/include/ATen/ATen.h:9:\n",
      "In file included from ./thirdparty/libtorch/include/ATen/Context.h:4:\n",
      "In file included from ./thirdparty/libtorch/include/ATen/Tensor.h:3:\n",
      "In file included from ./thirdparty/libtorch/include/ATen/core/TensorBody.h:7:\n",
      "In file included from ./thirdparty/libtorch/include/c10/core/Scalar.h:10:\n",
      "In file included from ./thirdparty/libtorch/include/c10/core/ScalarType.h:8:\n",
      "In file included from ./thirdparty/libtorch/include/c10/util/typeid.h:33:\n",
      "\u001b[1m./thirdparty/libtorch/include/c10/util/flat_hash_map.h:925:46: \u001b[0m\u001b[0;1;31merror: \u001b[0m\u001b[1mexpected ')'\u001b[0m\n",
      "\u001b[1m./thirdparty/kdb-cpp/include/internal/../external/k.h:100:11: \u001b[0m\u001b[0;1;30mnote: \u001b[0mexpanded from macro 'R'\u001b[0m\n",
      "#define R return\n",
      "\u001b[0;1;32m          ^\n",
      "\u001b[0m\u001b[1m./thirdparty/libtorch/include/c10/util/flat_hash_map.h:925:24: \u001b[0m\u001b[0;1;30mnote: \u001b[0mto match this '('\u001b[0m\n",
      "    bool compares_equal(const L & lhs, const R & rhs)\n",
      "\u001b[0;1;32m                       ^\n",
      "\u001b[0m\u001b[1m./thirdparty/libtorch/include/c10/util/flat_hash_map.h:927:49: \u001b[0m\u001b[0;1;31merror: \u001b[0m\u001b[1muse of undeclared identifier 'rhs'; did you mean 'lhs'?\u001b[0m\n",
      "        return static_cast<Equal &>(*this)(lhs, rhs);\n",
      "\u001b[0;1;32m                                                ^~~\n",
      "\u001b[0m\u001b[0;32m                                                lhs\n",
      "\u001b[0m\u001b[1m./thirdparty/libtorch/include/c10/util/flat_hash_map.h:925:35: \u001b[0m\u001b[0;1;30mnote: \u001b[0m'lhs' declared here\u001b[0m\n",
      "    bool compares_equal(const L & lhs, const R & rhs)\n",
      "\u001b[0;1;32m                                  ^\n",
      "\u001b[0m\u001b[0;1;31mfatal error: \u001b[0mtoo many errors emitted, stopping now [-ferror-limit=]\u001b[0m\n"
     ]
    },
    {
     "ename": "Interpreter Error",
     "evalue": "",
     "output_type": "error",
     "traceback": [
      "Interpreter Error: "
     ]
    }
   ],
   "source": [
    "#pragma cling add_include_path(\"./thirdparty/libtorch/include\")\n",
    "#pragma cling add_include_path(\"./thirdparty/libtorch/include/torch/csrc/api/include\")\n",
    "#pragma cling add_library_path(\"./thirdparty/libtorch/lib\")\n",
    "#pragma cling load(\"libtorch\")\n",
    "\n",
    "#pragma cling add_include_path(\"./thirdparty/nest/include\")\n",
    "\n",
    "#include <torch/torch.h>\n",
    "#include <torch/csrc/autograd/variable.h>\n",
    "#include <torch/csrc/autograd/function.h>\n",
    "\n",
    "#include \"xtensor/xbuilder.hpp\"\n",
    "#include \"xtensor/xarray.hpp\"\n",
    "#include \"xtensor/xtensor.hpp\"\n",
    "#include \"nest.h\"\n",
    "#include <vector>\n",
    "#include <array>"
   ]
  },
  {
   "cell_type": "code",
   "execution_count": 3,
   "metadata": {},
   "outputs": [],
   "source": [
    "#define HOST_ADDR \"127.0.0.1\"\n",
    "#define HOST_PORT 5050"
   ]
  },
  {
   "cell_type": "code",
   "execution_count": 8,
   "metadata": {},
   "outputs": [
    {
     "name": "stderr",
     "output_type": "stream",
     "text": [
      "IncrementalExecutor::executeFunction: symbol '_ZN3kdb9ConnectorD1Ev' unresolved while linking function '_GLOBAL__sub_I_cling_module_10'!\n",
      "You are probably missing the definition of kdb::Connector::~Connector()\n",
      "Maybe you need to load the corresponding shared library?\n"
     ]
    }
   ],
   "source": []
  },
  {
   "cell_type": "code",
   "execution_count": 2,
   "metadata": {},
   "outputs": [],
   "source": [
    "typedef nest::Nest<torch::Tensor> TensorNest;"
   ]
  },
  {
   "cell_type": "code",
   "execution_count": 3,
   "metadata": {},
   "outputs": [],
   "source": [
    "torch::Tensor x = torch::ones({2, 2}, torch::requires_grad());\n",
    "torch::Tensor y = torch::randn({2, 2});"
   ]
  },
  {
   "cell_type": "code",
   "execution_count": 5,
   "metadata": {},
   "outputs": [],
   "source": []
  },
  {
   "cell_type": "code",
   "execution_count": 2,
   "metadata": {},
   "outputs": [],
   "source": [
    "std::vector<size_t> shape = { 3, 2, 4 };\n",
    "std::vector<size_t> strides = { 8, 4, 1 };"
   ]
  },
  {
   "cell_type": "code",
   "execution_count": 4,
   "metadata": {},
   "outputs": [],
   "source": [
    "std::vector<size_t> shape = { 3, 2, 4 };\n",
    "xt::xarray<double, xt::layout_type::row_major> a(shape);"
   ]
  },
  {
   "cell_type": "code",
   "execution_count": null,
   "metadata": {},
   "outputs": [],
   "source": []
  },
  {
   "cell_type": "code",
   "execution_count": 7,
   "metadata": {},
   "outputs": [],
   "source": [
    "std::array<size_t, 3> shape = { 3, 2, 4 };\n",
    "xt::xtensor<double, 3> b(shape);"
   ]
  },
  {
   "cell_type": "code",
   "execution_count": null,
   "metadata": {},
   "outputs": [],
   "source": []
  },
  {
   "cell_type": "code",
   "execution_count": null,
   "metadata": {},
   "outputs": [],
   "source": [
    "// typedef int  I;          // Already defined within k.h\n",
    "// typedef char *S;         // Already defined within k.h\n",
    "// I khpu(S hostname, I portNumber, S usernamePassword)\n",
    "khpu (\"localhost\", 12345, \"username:password\");"
   ]
  },
  {
   "cell_type": "code",
   "execution_count": null,
   "metadata": {},
   "outputs": [],
   "source": []
  },
  {
   "cell_type": "code",
   "execution_count": null,
   "metadata": {},
   "outputs": [],
   "source": []
  },
  {
   "cell_type": "code",
   "execution_count": null,
   "metadata": {},
   "outputs": [],
   "source": []
  },
  {
   "cell_type": "code",
   "execution_count": null,
   "metadata": {},
   "outputs": [],
   "source": []
  },
  {
   "cell_type": "code",
   "execution_count": null,
   "metadata": {},
   "outputs": [],
   "source": []
  },
  {
   "cell_type": "code",
   "execution_count": null,
   "metadata": {},
   "outputs": [],
   "source": []
  },
  {
   "cell_type": "code",
   "execution_count": null,
   "metadata": {},
   "outputs": [],
   "source": []
  }
 ],
 "metadata": {
  "kernelspec": {
   "display_name": "C++17",
   "language": "C++17",
   "name": "xcpp17"
  },
  "language_info": {
   "codemirror_mode": "text/x-c++src",
   "file_extension": ".cpp",
   "mimetype": "text/x-c++src",
   "name": "c++",
   "version": "17"
  },
  "latex_envs": {
   "LaTeX_envs_menu_present": true,
   "autoclose": false,
   "autocomplete": true,
   "bibliofile": "biblio.bib",
   "cite_by": "apalike",
   "current_citInitial": 1,
   "eqLabelWithNumbers": true,
   "eqNumInitial": 1,
   "hotkeys": {
    "equation": "Ctrl-E",
    "itemize": "Ctrl-I"
   },
   "labels_anchors": false,
   "latex_user_defs": false,
   "report_style_numbering": false,
   "user_envs_cfg": false
  },
  "varInspector": {
   "cols": {
    "lenName": 16,
    "lenType": 16,
    "lenVar": 40
   },
   "kernels_config": {
    "python": {
     "delete_cmd_postfix": "",
     "delete_cmd_prefix": "del ",
     "library": "var_list.py",
     "varRefreshCmd": "print(var_dic_list())"
    },
    "r": {
     "delete_cmd_postfix": ") ",
     "delete_cmd_prefix": "rm(",
     "library": "var_list.r",
     "varRefreshCmd": "cat(var_dic_list()) "
    }
   },
   "types_to_exclude": [
    "module",
    "function",
    "builtin_function_or_method",
    "instance",
    "_Feature"
   ],
   "window_display": false
  }
 },
 "nbformat": 4,
 "nbformat_minor": 4
}
