{
 "cells": [
  {
   "cell_type": "code",
   "execution_count": 1,
   "metadata": {},
   "outputs": [],
   "source": [
    "#pragma cling add_include_path(\"./thirdparty/kdb/include\")\n",
    "#pragma cling add_include_path(\"./thirdparty/kdb/include/internal\")\n",
    "#pragma cling load(\"./thirdparty/kdb/build/libkdb.so\")\n",
    "#pragma cling add_include_path(\"./thirdparty/libtorch/include\")\n",
    "#pragma cling add_include_path(\"./thirdparty/libtorch/include/torch/csrc/api/include\")\n",
    "#pragma cling add_library_path(\"./thirdparty/libtorch/lib\")\n",
    "#pragma cling load(\"libtorch\")\n",
    "\n",
    "#pragma cling add_include_path(\"./thirdparty/nest/include\")\n",
    "\n",
    "#include <torch/torch.h>\n",
    "#include <torch/csrc/autograd/variable.h>\n",
    "#include <torch/csrc/autograd/function.h>\n",
    "\n",
    "#include \"xtensor/xbuilder.hpp\"\n",
    "#include \"xtensor/xarray.hpp\"\n",
    "#include \"xtensor/xtensor.hpp\"\n",
    "#include \"nest.h\"\n",
    "#include <vector>\n",
    "#include <array>\n",
    "\n",
    "#include </home/thorad/Core/Projects/Qenv/notebooks/thirdparty/kdb/include/kdb_cpp.h>\n",
    "#include <string>\n",
    "#include <iostream>\n",
    "#include <typeinfo>\n",
    "\n",
    "kdb::Connector kcon;\n",
    "#define HOST_ADDR \"127.0.0.1\"\n",
    "#define HOST_PORT 5050\n",
    "\n",
    "if (!kcon.connect(HOST_ADDR, HOST_PORT))\n",
    "        return -1;\n",
    "\n",
    "kdb::Result rs0 = kcon.sync(\".server.DumStep[((0;1);(1;5);(2;4);(3;5));0]\");\n",
    "kdb::Result rs1 = kcon.sync(\".server.DumStep[((0;1);(1;5);(2;4);(3;5));1]\");\n",
    "\n",
    "K rks0 = rs0.get_res();\n",
    "K rks1 = rs1.get_res();\n",
    "\n",
    "// std::cout << rs1 << std::endl;\n",
    "typedef nest::Nest<torch::Tensor> TensorNest;"
   ]
  },
  {
   "cell_type": "code",
   "execution_count": null,
   "metadata": {},
   "outputs": [],
   "source": [
    "std::vector<kdb::Result> responses = {};"
   ]
  },
  {
   "cell_type": "code",
   "execution_count": null,
   "metadata": {},
   "outputs": [],
   "source": [
    "%timeit -n 1000 responses.push_back(kcon.sync(\".server.DumStep[((0;1);(1;5);(2;4);(3;5));0]\"));"
   ]
  },
  {
   "cell_type": "code",
   "execution_count": null,
   "metadata": {},
   "outputs": [],
   "source": []
  },
  {
   "cell_type": "code",
   "execution_count": null,
   "metadata": {},
   "outputs": [],
   "source": []
  },
  {
   "cell_type": "code",
   "execution_count": 2,
   "metadata": {
    "run_control": {
     "marked": false
    }
   },
   "outputs": [
    {
     "name": "stdout",
     "output_type": "stream",
     "text": [
      "219.702\n",
      "126.037\n",
      "81.4733\n",
      "114.779\n",
      "16.8625\n",
      "129.7\n",
      "65.0318\n",
      "32.2658\n",
      "173.166\n",
      "222.992\n",
      "131.195\n",
      "83.1956\n",
      "91.49\n",
      "234.199\n",
      "130.605\n",
      "154.92\n",
      "115.472\n",
      "162.892\n",
      "67.5007\n",
      "214.389\n",
      "12.9624\n",
      "127.145\n",
      "160.975\n",
      "191.822\n",
      "7.42523\n",
      "186.482\n",
      "45.1753\n",
      "162.884\n",
      "250.153\n",
      "124.698\n",
      "85.6072\n",
      "22.3788\n",
      "86.9495\n",
      "121.548\n",
      "157.086\n",
      "162.614\n",
      "77.903\n",
      "63.5826\n",
      "153.47\n",
      "116.931\n",
      "44.3456\n",
      "195.593\n",
      "98.4595\n",
      "120.886\n",
      "189.75\n",
      "69.8638\n",
      "222.939\n",
      "242.926\n",
      "132.608\n",
      "35.5573\n",
      "15.0482\n",
      "117.752\n",
      "227.777\n",
      "60.58\n",
      "2.70725\n",
      "47.1829\n",
      "78.7791\n",
      "233.828\n",
      "84.2124\n",
      "208.205\n",
      "186.012\n",
      "93.0623\n",
      "11.0049\n",
      "124.138\n",
      "35.7167\n",
      "42.958\n",
      "195.586\n",
      "64.9862\n",
      "128.281\n",
      "118.37\n",
      "213.173\n",
      "41.6905\n",
      "66.8762\n",
      "80.6493\n",
      "74.8896\n",
      "226.652\n",
      "29.8936\n",
      "238.242\n",
      "121.907\n",
      "216.266\n",
      "161.298\n",
      "196.324\n",
      "33.6456\n",
      "57.578\n",
      "24.0449\n",
      "182.25\n",
      "120.042\n",
      "132.42\n",
      "201.631\n",
      "128.372\n",
      "77.7556\n",
      "188.117\n",
      "65.1919\n",
      "97.9065\n",
      "21.1895\n",
      "191.997\n",
      "137.796\n",
      "137.465\n",
      "231.131\n",
      "137\n",
      "251.1\n",
      "129.687\n",
      "20.6267\n",
      "151.092\n",
      "177.763\n",
      "87.2117\n",
      "156.885\n",
      "202.096\n",
      "63.7003\n",
      "92.7538\n",
      "53.1719\n",
      "168.654\n",
      "143.363\n",
      "39.155\n",
      "79.8686\n",
      "216.195\n",
      "209.51\n",
      "253.889\n",
      "33.2118\n",
      "44.2919\n",
      "63.3695\n",
      "16.8233\n",
      "192.242\n",
      "17.6348\n",
      "238.762\n",
      "121.518\n",
      "111.952\n",
      "157.219\n",
      "202.967\n",
      "155.404\n",
      "32.0492\n",
      "73.7678\n",
      "81.5718\n",
      "0.288521\n",
      "235.625\n",
      "196.813\n",
      "95.1752\n",
      "95.5078\n",
      "25.0871\n",
      "249.388\n",
      "14.2948\n",
      "127.236\n",
      "44.0336\n",
      "168.724\n",
      "177.433\n",
      "254.086\n",
      "211.265\n",
      "13.6834\n",
      "216.905\n",
      "231.002\n",
      "24.8927\n",
      "18.5185\n",
      "157.417\n",
      "91.4088\n",
      "60.3025\n",
      "23.8662\n",
      "196.866\n",
      "204.568\n",
      "138.499\n",
      "26.8475\n",
      "12.0578\n",
      "165.22\n",
      "237.949\n",
      "230.942\n",
      "174.075\n",
      "191.198\n",
      "60.6006\n",
      "191.303\n",
      "55.4346\n",
      "158.802\n",
      "66.4276\n",
      "179.416\n",
      "229.026\n",
      "114.948\n",
      "54.3245\n",
      "174.604\n",
      "163.473\n",
      "2.76334\n",
      "222.919\n",
      "106.997\n",
      "44.5408\n",
      "131.14\n",
      "8.68854\n",
      "93.3711\n",
      "54.8131\n",
      "182.035\n",
      "130.867\n",
      "217.022\n",
      "22.4867\n",
      "108.769\n",
      "245.282\n",
      "28.9136\n",
      "209.546\n",
      "56.7042\n",
      "31.7524\n",
      "50.7924\n",
      "75.4555\n",
      "46.3304\n",
      "237.533\n",
      "72.3498\n",
      "112.522\n",
      "221.008\n",
      "175.495\n",
      "48.248\n",
      "176.226\n",
      "75.0052\n",
      "5.94698\n",
      "29.082\n",
      "28.7625\n",
      "231.438\n",
      "219.519\n",
      "118.386\n",
      "75.0274\n",
      "71.3966\n",
      "223.571\n",
      "86.8483\n",
      "65.0429\n",
      "184.634\n",
      "90.8024\n",
      "75.6689\n",
      "75.4371\n",
      "106.137\n",
      "46.3714\n",
      "163.297\n",
      "87.3554\n",
      "116.032\n",
      "183.612\n",
      "28.0507\n",
      "4.78025\n",
      "198.78\n",
      "76.0576\n",
      "240.951\n",
      "49.8039\n",
      "121.567\n",
      "90.3611\n",
      "105.492\n",
      "146.345\n",
      "173.448\n",
      "189.261\n",
      "79.9107\n",
      "98.1738\n",
      "9.87034\n",
      "198.975\n",
      "131.234\n",
      "233.109\n",
      "22.2832\n",
      "144.003\n",
      "231.185\n",
      "114.534\n",
      "219.015\n",
      "222.455\n",
      "196.304\n",
      "113.914\n",
      "22.8138\n",
      "148.675\n",
      "100.598\n"
     ]
    }
   ],
   "source": [
    "K w = kK(kK(rks1)[0])[1];\n",
    "F* x = kF(w);\n",
    "std::vector<double> y = {};\n",
    "for (int i=0;i<256;i++){\n",
    "    std::cout << x[i] << std::endl;\n",
    "    y.push_back(double(x[i]));\n",
    "}"
   ]
  },
  {
   "cell_type": "code",
   "execution_count": null,
   "metadata": {},
   "outputs": [],
   "source": []
  },
  {
   "cell_type": "code",
   "execution_count": 4,
   "metadata": {},
   "outputs": [
    {
     "name": "stdout",
     "output_type": "stream",
     "text": [
      "121 ns +- 17.1 ns per loop (mean +- std. dev. of 10 runs 1000 loops each)\n"
     ]
    }
   ],
   "source": [
    "%timeit -n 1000 -r 10 std::vector({x}).data();"
   ]
  },
  {
   "cell_type": "code",
   "execution_count": null,
   "metadata": {},
   "outputs": [],
   "source": [
    "torch::CPU(torch::kFloat32)"
   ]
  },
  {
   "cell_type": "code",
   "execution_count": 2,
   "metadata": {},
   "outputs": [
    {
     "name": "stderr",
     "output_type": "stream",
     "text": [
      "IncrementalExecutor::executeFunction: symbol '__emutls_v._ZSt11__once_call' unresolved while linking function '_GLOBAL__sub_I_cling_module_7'!\n",
      "IncrementalExecutor::executeFunction: symbol '__emutls_v._ZSt15__once_callable' unresolved while linking function '_GLOBAL__sub_I_cling_module_7'!\n"
     ]
    }
   ],
   "source": [
    "double array[] = { 1, 2, 3, 4, 5};\n",
    "auto options = torch::TensorOptions().dtype(torch::kFloat64).device(torch::kCUDA, 1);\n",
    "torch::Tensor tharray = torch::from_blob(array, {5}, options);"
   ]
  },
  {
   "cell_type": "code",
   "execution_count": 3,
   "metadata": {},
   "outputs": [],
   "source": [
    "torch::Tensor tharray = torch::tensor({1, 2, 3, 4, 5}, {torch::kFloat64});"
   ]
  },
  {
   "cell_type": "code",
   "execution_count": null,
   "metadata": {},
   "outputs": [],
   "source": [
    "torch::from_blob(std::vector({0, 1, 1, 1, 0}).data(), {5}, torch::kI32)"
   ]
  },
  {
   "cell_type": "code",
   "execution_count": null,
   "metadata": {
    "run_control": {
     "marked": false
    }
   },
   "outputs": [],
   "source": [
    "// `agentId`observation`reward`done`episode_step`episode_return\n",
    "std::vector<TensorNest> derive_multistep_from_result(kdb::Result& result){\n",
    "    K kres  = result.get_res();\n",
    "    std::vector<TensorNest> tensors;\n",
    "    for (int i=0; i< kres->n; i++) {\n",
    "        K step = kK(kres)[0]; // TODO\n",
    "        tensors.push_back(TensorNest(std::vector({ // omits agentId\n",
    "            std::move(TensorNest(torch::tensor(kF(kK(step)[1]), {torch::kFloat64}))), // observation // TODO\n",
    "            std::move(TensorNest(torch::tensor(kK(step)[2]->f, {torch::kFloat64}))), // reward\n",
    "            std::move(TensorNest(torch::tensor(kK(step)[3]->g, {torch::kBool}))), // done\n",
    "            std::move(TensorNest(torch::tensor(kK(step)[4]->f, {torch::kFloat64}))), // episode_step TODO change\n",
    "            std::move(TensorNest(torch::tensor(kK(step)[5]->f, {torch::kFloat64})))  // episode_return\n",
    "            })));\n",
    "    };\n",
    "    return tensors;\n",
    "};"
   ]
  },
  {
   "cell_type": "code",
   "execution_count": 3,
   "metadata": {},
   "outputs": [
    {
     "name": "stdout",
     "output_type": "stream",
     "text": [
      "82.8 us +- 466 ns per loop (mean +- std. dev. of 10 runs 10000 loops each)\n"
     ]
    }
   ],
   "source": [
    "%timeit -n 10000 -r 10 std::vector<TensorNest> res = derive_multistep_from_result(rs1);"
   ]
  },
  {
   "cell_type": "code",
   "execution_count": null,
   "metadata": {},
   "outputs": [],
   "source": [
    "std::cout << res.size() << std::endl;"
   ]
  },
  {
   "cell_type": "code",
   "execution_count": null,
   "metadata": {},
   "outputs": [],
   "source": [
    "torch::tensor({}, {torch::kFloat64})"
   ]
  },
  {
   "cell_type": "code",
   "execution_count": null,
   "metadata": {
    "run_control": {
     "marked": false
    }
   },
   "outputs": [],
   "source": []
  },
  {
   "cell_type": "code",
   "execution_count": null,
   "metadata": {},
   "outputs": [],
   "source": []
  },
  {
   "cell_type": "code",
   "execution_count": 4,
   "metadata": {},
   "outputs": [],
   "source": [
    "// `agentId`observation`reward`done`episode_step`episode_return\n",
    "std::vector<TensorNest> derive_multistep_from_resultx(kdb::Result& result){\n",
    "    K kres  = result.get_res();\n",
    "    std::vector<TensorNest> tensors;\n",
    "    for (int i=0; i< kres->n; i++) {\n",
    "        K step = kK(kres)[0]; // TODO\n",
    "        tensors.push_back(TensorNest(std::vector({ // omits agentId\n",
    "            std::move(TensorNest(torch::tensor(kF(kK(step)[1]), {torch::kFloat64}))), // observation // TODO\n",
    "            std::move(TensorNest(torch::full({1,1},kK(step)[2]->f,torch::dtype(torch::kFloat64)))), // reward\n",
    "            std::move(TensorNest(torch::full({1,1},kK(step)[3]->g,torch::dtype(torch::kBool)))), // done\n",
    "            std::move(TensorNest(torch::full({1,1},kK(step)[4]->f,torch::dtype(torch::kFloat64)))), // episode_step TODO change\n",
    "            std::move(TensorNest(torch::full({1,1},kK(step)[5]->f,torch::dtype(torch::kFloat64))))  // episode_return\n",
    "            })));\n",
    "    };\n",
    "    return tensors;\n",
    "};"
   ]
  },
  {
   "cell_type": "code",
   "execution_count": 5,
   "metadata": {},
   "outputs": [
    {
     "name": "stdout",
     "output_type": "stream",
     "text": [
      "91.8 us +- 385 ns per loop (mean +- std. dev. of 10 runs 10000 loops each)\n"
     ]
    }
   ],
   "source": [
    "%timeit -n 10000 -r 10 std::vector<TensorNest> res = derive_multistep_from_resultx(rs1);"
   ]
  },
  {
   "cell_type": "code",
   "execution_count": null,
   "metadata": {},
   "outputs": [],
   "source": [
    "kdb::Table tbl = res.get_table();"
   ]
  },
  {
   "cell_type": "code",
   "execution_count": null,
   "metadata": {},
   "outputs": [],
   "source": []
  },
  {
   "cell_type": "code",
   "execution_count": null,
   "metadata": {},
   "outputs": [],
   "source": [
    "// Traverse a column\n",
    "kdb::Vector<kdb::Type::Long> column = tbl.get_column<kdb::Type::Long>(0);\n",
    "std::cout << \"=======================================\\nColumn 0: \";\n",
    "for (auto const &it : column) {\n",
    "    std::cout << it << ' ';\n",
    "}\n",
    "std::cout << '\\n';"
   ]
  },
  {
   "cell_type": "code",
   "execution_count": null,
   "metadata": {},
   "outputs": [],
   "source": []
  },
  {
   "cell_type": "code",
   "execution_count": null,
   "metadata": {},
   "outputs": [],
   "source": [
    "std::cout << torch::full({1,1},1) << std::endl;"
   ]
  },
  {
   "cell_type": "code",
   "execution_count": null,
   "metadata": {},
   "outputs": [],
   "source": []
  },
  {
   "cell_type": "code",
   "execution_count": null,
   "metadata": {},
   "outputs": [],
   "source": [
    "typedef nest::Nest<torch::Tensor> TensorNest;"
   ]
  },
  {
   "cell_type": "code",
   "execution_count": null,
   "metadata": {},
   "outputs": [],
   "source": [
    "torch::Tensor x = torch::ones({2, 2}, torch::requires_grad());\n",
    "torch::Tensor y = torch::randn({2, 2});"
   ]
  },
  {
   "cell_type": "code",
   "execution_count": null,
   "metadata": {},
   "outputs": [],
   "source": []
  },
  {
   "cell_type": "code",
   "execution_count": null,
   "metadata": {},
   "outputs": [],
   "source": [
    "std::vector<size_t> shape = { 3, 2, 4 };\n",
    "std::vector<size_t> strides = { 8, 4, 1 };"
   ]
  },
  {
   "cell_type": "code",
   "execution_count": null,
   "metadata": {},
   "outputs": [],
   "source": [
    "std::vector<size_t> shape = { 3, 2, 4 };\n",
    "xt::xarray<double, xt::layout_type::row_major> a(shape);"
   ]
  },
  {
   "cell_type": "code",
   "execution_count": null,
   "metadata": {},
   "outputs": [],
   "source": []
  },
  {
   "cell_type": "code",
   "execution_count": null,
   "metadata": {},
   "outputs": [],
   "source": [
    "std::array<size_t, 3> shape = { 3, 2, 4 };\n",
    "xt::xtensor<double, 3> b(shape);"
   ]
  },
  {
   "cell_type": "code",
   "execution_count": null,
   "metadata": {},
   "outputs": [],
   "source": []
  },
  {
   "cell_type": "code",
   "execution_count": null,
   "metadata": {},
   "outputs": [],
   "source": [
    "// typedef int  I;          // Already defined within k.h\n",
    "// typedef char *S;         // Already defined within k.h\n",
    "// I khpu(S hostname, I portNumber, S usernamePassword)\n",
    "khpu (\"localhost\", 12345, \"username:password\");"
   ]
  },
  {
   "cell_type": "code",
   "execution_count": null,
   "metadata": {},
   "outputs": [],
   "source": []
  },
  {
   "cell_type": "code",
   "execution_count": null,
   "metadata": {},
   "outputs": [],
   "source": []
  },
  {
   "cell_type": "code",
   "execution_count": null,
   "metadata": {},
   "outputs": [],
   "source": []
  },
  {
   "cell_type": "code",
   "execution_count": null,
   "metadata": {},
   "outputs": [],
   "source": []
  },
  {
   "cell_type": "code",
   "execution_count": null,
   "metadata": {},
   "outputs": [],
   "source": []
  },
  {
   "cell_type": "code",
   "execution_count": null,
   "metadata": {},
   "outputs": [],
   "source": []
  },
  {
   "cell_type": "code",
   "execution_count": null,
   "metadata": {},
   "outputs": [],
   "source": []
  }
 ],
 "metadata": {
  "kernelspec": {
   "display_name": "C++17",
   "language": "C++17",
   "name": "xcpp17"
  },
  "language_info": {
   "codemirror_mode": "text/x-c++src",
   "file_extension": ".cpp",
   "mimetype": "text/x-c++src",
   "name": "c++",
   "version": "17"
  },
  "latex_envs": {
   "LaTeX_envs_menu_present": true,
   "autoclose": false,
   "autocomplete": true,
   "bibliofile": "biblio.bib",
   "cite_by": "apalike",
   "current_citInitial": 1,
   "eqLabelWithNumbers": true,
   "eqNumInitial": 1,
   "hotkeys": {
    "equation": "Ctrl-E",
    "itemize": "Ctrl-I"
   },
   "labels_anchors": false,
   "latex_user_defs": false,
   "report_style_numbering": false,
   "user_envs_cfg": false
  },
  "varInspector": {
   "cols": {
    "lenName": 16,
    "lenType": 16,
    "lenVar": 40
   },
   "kernels_config": {
    "python": {
     "delete_cmd_postfix": "",
     "delete_cmd_prefix": "del ",
     "library": "var_list.py",
     "varRefreshCmd": "print(var_dic_list())"
    },
    "r": {
     "delete_cmd_postfix": ") ",
     "delete_cmd_prefix": "rm(",
     "library": "var_list.r",
     "varRefreshCmd": "cat(var_dic_list()) "
    }
   },
   "types_to_exclude": [
    "module",
    "function",
    "builtin_function_or_method",
    "instance",
    "_Feature"
   ],
   "window_display": false
  }
 },
 "nbformat": 4,
 "nbformat_minor": 4
}
