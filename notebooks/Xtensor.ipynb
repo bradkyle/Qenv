{
 "cells": [
  {
   "cell_type": "code",
   "execution_count": 1,
   "metadata": {},
   "outputs": [],
   "source": [
    "#pragma cling add_include_path(\"./thirdparty/kdb/include\")\n",
    "#pragma cling add_include_path(\"./thirdparty/kdb/include/internal\")\n",
    "#pragma cling load(\"./thirdparty/kdb/build/libkdb.so\") \n",
    "\n",
    "#include </home/thorad/Core/Projects/Qenv/notebooks/thirdparty/kdb/include/kdb_cpp.h>\n",
    "#include <string>\n",
    "#include <iostream>"
   ]
  },
  {
   "cell_type": "code",
   "execution_count": 2,
   "metadata": {},
   "outputs": [],
   "source": [
    "kdb::Connector kcon;\n",
    "#define HOST_ADDR \"127.0.0.1\"\n",
    "#define HOST_PORT 5050"
   ]
  },
  {
   "cell_type": "code",
   "execution_count": 3,
   "metadata": {},
   "outputs": [],
   "source": [
    "if (!kcon.connect(HOST_ADDR, HOST_PORT))\n",
    "        return -1;"
   ]
  },
  {
   "cell_type": "code",
   "execution_count": 4,
   "metadata": {},
   "outputs": [],
   "source": [
    "kdb::Result rs = kcon.sync(\".server.DumStep[((0;1);(1;5);(2;4);(3;5))]\");"
   ]
  },
  {
   "cell_type": "code",
   "execution_count": 5,
   "metadata": {},
   "outputs": [],
   "source": [
    "kdb::Type st = rs.type();"
   ]
  },
  {
   "cell_type": "code",
   "execution_count": 8,
   "metadata": {},
   "outputs": [
    {
     "name": "stderr",
     "output_type": "stream",
     "text": [
      "\u001b[1minput_line_15:2:4: \u001b[0m\u001b[0;1;31merror: \u001b[0m\u001b[1mexpected ';' after expression\u001b[0m\n",
      " st colvla = rs.get();\n",
      "\u001b[0;1;32m   ^\n",
      "\u001b[0m\u001b[0;32m   ;\n",
      "\u001b[0m\u001b[1minput_line_15:2:5: \u001b[0m\u001b[0;1;31merror: \u001b[0m\u001b[1muse of undeclared identifier 'colvla'\u001b[0m\n",
      " st colvla = rs.get();\n",
      "\u001b[0;1;32m    ^\n",
      "\u001b[0m\u001b[1minput_line_15:2:17: \u001b[0m\u001b[0;1;31merror: \u001b[0m\u001b[1mno matching member function for call to 'get'\u001b[0m\n",
      " st colvla = rs.get();\n",
      "\u001b[0;1;32m             ~~~^~~\n",
      "\u001b[0m\u001b[1m./thirdparty/kdb/include/internal/kdb_result.h:60:11: \u001b[0m\u001b[0;1;30mnote: \u001b[0mcandidate template ignored: couldn't infer template argument 'T'\u001b[0m\n",
      "        T get() const {\n",
      "\u001b[0;1;32m          ^\n",
      "\u001b[0m\u001b[1m./thirdparty/kdb/include/internal/kdb_result.h:71:11: \u001b[0m\u001b[0;1;30mnote: \u001b[0mcandidate template ignored: couldn't infer template argument 'T'\u001b[0m\n",
      "        U get() const {\n",
      "\u001b[0;1;32m          ^\n",
      "\u001b[0m"
     ]
    },
    {
     "ename": "Interpreter Error",
     "evalue": "",
     "output_type": "error",
     "traceback": [
      "Interpreter Error: "
     ]
    }
   ],
   "source": [
    "st colvla = rs.get();"
   ]
  },
  {
   "cell_type": "code",
   "execution_count": null,
   "metadata": {},
   "outputs": [],
   "source": []
  },
  {
   "cell_type": "code",
   "execution_count": 8,
   "metadata": {
    "run_control": {
     "marked": false
    }
   },
   "outputs": [],
   "source": []
  },
  {
   "cell_type": "code",
   "execution_count": 10,
   "metadata": {},
   "outputs": [],
   "source": []
  },
  {
   "cell_type": "code",
   "execution_count": null,
   "metadata": {},
   "outputs": [],
   "source": []
  },
  {
   "cell_type": "code",
   "execution_count": 9,
   "metadata": {},
   "outputs": [],
   "source": [
    "kdb::Result res = kcon.sync(\"select from tbl_test\");"
   ]
  },
  {
   "cell_type": "code",
   "execution_count": 10,
   "metadata": {},
   "outputs": [],
   "source": [
    "kdb::Table tbl = res.get_table();"
   ]
  },
  {
   "cell_type": "code",
   "execution_count": null,
   "metadata": {},
   "outputs": [],
   "source": []
  },
  {
   "cell_type": "code",
   "execution_count": 11,
   "metadata": {},
   "outputs": [
    {
     "name": "stdout",
     "output_type": "stream",
     "text": [
      "=======================================\n",
      "Column 0: 1 2 3 4 \n"
     ]
    }
   ],
   "source": [
    "// Traverse a column\n",
    "kdb::Vector<kdb::Type::Long> column = tbl.get_column<kdb::Type::Long>(0);\n",
    "std::cout << \"=======================================\\nColumn 0: \";\n",
    "for (auto const &it : column) {\n",
    "    std::cout << it << ' ';\n",
    "}\n",
    "std::cout << '\\n';"
   ]
  },
  {
   "cell_type": "code",
   "execution_count": 5,
   "metadata": {},
   "outputs": [
    {
     "name": "stderr",
     "output_type": "stream",
     "text": [
      "In file included from input_line_14:1:\n",
      "In file included from ./thirdparty/libtorch/include/torch/csrc/api/include/torch/torch.h:3:\n",
      "In file included from ./thirdparty/libtorch/include/torch/csrc/api/include/torch/all.h:8:\n",
      "In file included from ./thirdparty/libtorch/include/torch/csrc/api/include/torch/data.h:3:\n",
      "In file included from ./thirdparty/libtorch/include/torch/csrc/api/include/torch/data/dataloader.h:3:\n",
      "In file included from ./thirdparty/libtorch/include/torch/csrc/api/include/torch/data/dataloader/stateful.h:3:\n",
      "In file included from ./thirdparty/libtorch/include/torch/csrc/api/include/torch/data/dataloader/base.h:3:\n",
      "In file included from ./thirdparty/libtorch/include/torch/csrc/api/include/torch/data/dataloader_options.h:4:\n",
      "In file included from ./thirdparty/libtorch/include/torch/csrc/api/include/torch/types.h:3:\n",
      "In file included from ./thirdparty/libtorch/include/ATen/ATen.h:9:\n",
      "In file included from ./thirdparty/libtorch/include/ATen/Context.h:4:\n",
      "In file included from ./thirdparty/libtorch/include/ATen/Tensor.h:3:\n",
      "In file included from ./thirdparty/libtorch/include/ATen/core/TensorBody.h:4:\n",
      "In file included from ./thirdparty/libtorch/include/c10/core/Layout.h:3:\n",
      "In file included from ./thirdparty/libtorch/include/c10/core/Backend.h:5:\n",
      "In file included from ./thirdparty/libtorch/include/c10/core/DispatchKeySet.h:4:\n",
      "\u001b[1m./thirdparty/libtorch/include/c10/util/llvmMathExtras.h:790:8: \u001b[0m\u001b[0;1;31merror: \u001b[0m\u001b[1mexpected unqualified-id\u001b[0m\n",
      "   T Z = X + Y;\n",
      "\u001b[0;1;32m       ^\n",
      "\u001b[0m\u001b[1m./thirdparty/libtorch/include/c10/util/llvmMathExtras.h:791:18: \u001b[0m\u001b[0;1;31merror: \u001b[0m\u001b[1mtype name does not allow storage class to be specified\u001b[0m\n",
      "   Overflowed = (Z < X || Z < Y);\n",
      "\u001b[0;1;32m                 ^\n",
      "\u001b[0m\u001b[1m./thirdparty/kdb-cpp/include/internal/../external/k.h:101:11: \u001b[0m\u001b[0;1;30mnote: \u001b[0mexpanded from macro 'Z'\u001b[0m\n",
      "#define Z static\n",
      "\u001b[0;1;32m          ^\n",
      "\u001b[0mIn file included from input_line_14:1:\n",
      "In file included from ./thirdparty/libtorch/include/torch/csrc/api/include/torch/torch.h:3:\n",
      "In file included from ./thirdparty/libtorch/include/torch/csrc/api/include/torch/all.h:8:\n",
      "In file included from ./thirdparty/libtorch/include/torch/csrc/api/include/torch/data.h:3:\n",
      "In file included from ./thirdparty/libtorch/include/torch/csrc/api/include/torch/data/dataloader.h:3:\n",
      "In file included from ./thirdparty/libtorch/include/torch/csrc/api/include/torch/data/dataloader/stateful.h:3:\n",
      "In file included from ./thirdparty/libtorch/include/torch/csrc/api/include/torch/data/dataloader/base.h:3:\n",
      "In file included from ./thirdparty/libtorch/include/torch/csrc/api/include/torch/data/dataloader_options.h:4:\n",
      "In file included from ./thirdparty/libtorch/include/torch/csrc/api/include/torch/types.h:3:\n",
      "In file included from ./thirdparty/libtorch/include/ATen/ATen.h:9:\n",
      "In file included from ./thirdparty/libtorch/include/ATen/Context.h:4:\n",
      "In file included from ./thirdparty/libtorch/include/ATen/Tensor.h:3:\n",
      "In file included from ./thirdparty/libtorch/include/ATen/core/TensorBody.h:4:\n",
      "In file included from ./thirdparty/libtorch/include/c10/core/Layout.h:3:\n",
      "In file included from ./thirdparty/libtorch/include/c10/core/Backend.h:5:\n",
      "In file included from ./thirdparty/libtorch/include/c10/core/DispatchKeySet.h:4:\n",
      "\u001b[1m./thirdparty/libtorch/include/c10/util/llvmMathExtras.h:791:20: \u001b[0m\u001b[0;1;31merror: \u001b[0m\u001b[1mexpected ')'\u001b[0m\n",
      "   Overflowed = (Z < X || Z < Y);\n",
      "\u001b[0;1;32m                   ^\n",
      "\u001b[0m\u001b[1m./thirdparty/libtorch/include/c10/util/llvmMathExtras.h:791:17: \u001b[0m\u001b[0;1;30mnote: \u001b[0mto match this '('\u001b[0m\n",
      "   Overflowed = (Z < X || Z < Y);\n",
      "\u001b[0;1;32m                ^\n",
      "\u001b[0m\u001b[1m./thirdparty/libtorch/include/c10/util/llvmMathExtras.h:791:33: \u001b[0m\u001b[0;1;31merror: \u001b[0m\u001b[1mexpected expression\u001b[0m\n",
      "   Overflowed = (Z < X || Z < Y);\n",
      "\u001b[0;1;32m                                ^\n",
      "\u001b[0m\u001b[1m./thirdparty/libtorch/include/c10/util/llvmMathExtras.h:795:13: \u001b[0m\u001b[0;1;31merror: \u001b[0m\u001b[1mexpected expression\u001b[0m\n",
      "     return Z;\n",
      "\u001b[0;1;32m            ^\n",
      "\u001b[0m\u001b[1m./thirdparty/kdb-cpp/include/internal/../external/k.h:101:11: \u001b[0m\u001b[0;1;30mnote: \u001b[0mexpanded from macro 'Z'\u001b[0m\n",
      "#define Z static\n",
      "\u001b[0;1;32m          ^\n",
      "\u001b[0mIn file included from input_line_14:1:\n",
      "In file included from ./thirdparty/libtorch/include/torch/csrc/api/include/torch/torch.h:3:\n",
      "In file included from ./thirdparty/libtorch/include/torch/csrc/api/include/torch/all.h:8:\n",
      "In file included from ./thirdparty/libtorch/include/torch/csrc/api/include/torch/data.h:3:\n",
      "In file included from ./thirdparty/libtorch/include/torch/csrc/api/include/torch/data/dataloader.h:3:\n",
      "In file included from ./thirdparty/libtorch/include/torch/csrc/api/include/torch/data/dataloader/stateful.h:3:\n",
      "In file included from ./thirdparty/libtorch/include/torch/csrc/api/include/torch/data/dataloader/base.h:3:\n",
      "In file included from ./thirdparty/libtorch/include/torch/csrc/api/include/torch/data/dataloader_options.h:4:\n",
      "In file included from ./thirdparty/libtorch/include/torch/csrc/api/include/torch/types.h:3:\n",
      "In file included from ./thirdparty/libtorch/include/ATen/ATen.h:9:\n",
      "In file included from ./thirdparty/libtorch/include/ATen/Context.h:4:\n",
      "In file included from ./thirdparty/libtorch/include/ATen/Tensor.h:3:\n",
      "In file included from ./thirdparty/libtorch/include/ATen/core/TensorBody.h:4:\n",
      "In file included from ./thirdparty/libtorch/include/c10/core/Layout.h:3:\n",
      "In file included from ./thirdparty/libtorch/include/c10/core/Backend.h:5:\n",
      "In file included from ./thirdparty/libtorch/include/c10/core/DispatchKeySet.h:4:\n",
      "\u001b[1m./thirdparty/libtorch/include/c10/util/llvmMathExtras.h:831:8: \u001b[0m\u001b[0;1;31merror: \u001b[0m\u001b[1mexpected unqualified-id\u001b[0m\n",
      "   T Z = (X >> 1) * Y;\n",
      "\u001b[0;1;32m       ^\n",
      "\u001b[0m\u001b[1m./thirdparty/libtorch/include/c10/util/llvmMathExtras.h:832:8: \u001b[0m\u001b[0;1;31merror: \u001b[0m\u001b[1mtype name does not allow storage class to be specified\u001b[0m\n",
      "   if (Z & ~(Max >> 1)) {\n",
      "\u001b[0;1;32m       ^\n",
      "\u001b[0m\u001b[1m./thirdparty/kdb-cpp/include/internal/../external/k.h:101:11: \u001b[0m\u001b[0;1;30mnote: \u001b[0mexpanded from macro 'Z'\u001b[0m\n",
      "#define Z static\n",
      "\u001b[0;1;32m          ^\n",
      "\u001b[0mIn file included from input_line_14:1:\n",
      "In file included from ./thirdparty/libtorch/include/torch/csrc/api/include/torch/torch.h:3:\n",
      "In file included from ./thirdparty/libtorch/include/torch/csrc/api/include/torch/all.h:8:\n",
      "In file included from ./thirdparty/libtorch/include/torch/csrc/api/include/torch/data.h:3:\n",
      "In file included from ./thirdparty/libtorch/include/torch/csrc/api/include/torch/data/dataloader.h:3:\n",
      "In file included from ./thirdparty/libtorch/include/torch/csrc/api/include/torch/data/dataloader/stateful.h:3:\n",
      "In file included from ./thirdparty/libtorch/include/torch/csrc/api/include/torch/data/dataloader/base.h:3:\n",
      "In file included from ./thirdparty/libtorch/include/torch/csrc/api/include/torch/data/dataloader_options.h:4:\n",
      "In file included from ./thirdparty/libtorch/include/torch/csrc/api/include/torch/types.h:3:\n",
      "In file included from ./thirdparty/libtorch/include/ATen/ATen.h:9:\n",
      "In file included from ./thirdparty/libtorch/include/ATen/Context.h:4:\n",
      "In file included from ./thirdparty/libtorch/include/ATen/Tensor.h:3:\n",
      "In file included from ./thirdparty/libtorch/include/ATen/core/TensorBody.h:4:\n",
      "In file included from ./thirdparty/libtorch/include/c10/core/Layout.h:3:\n",
      "In file included from ./thirdparty/libtorch/include/c10/core/Backend.h:5:\n",
      "In file included from ./thirdparty/libtorch/include/c10/core/DispatchKeySet.h:4:\n",
      "\u001b[1m./thirdparty/libtorch/include/c10/util/llvmMathExtras.h:832:13: \u001b[0m\u001b[0;1;31merror: \u001b[0m\u001b[1mexpected a class name after '~' to name a destructor\u001b[0m\n",
      "   if (Z & ~(Max >> 1)) {\n",
      "\u001b[0;1;32m            ^\n",
      "\u001b[0m\u001b[1m./thirdparty/libtorch/include/c10/util/llvmMathExtras.h:836:6: \u001b[0m\u001b[0;1;31merror: \u001b[0m\u001b[1mexpected unqualified-id\u001b[0m\n",
      "   Z <<= 1;\n",
      "\u001b[0;1;32m     ^\n",
      "\u001b[0m\u001b[1m./thirdparty/libtorch/include/c10/util/llvmMathExtras.h:838:27: \u001b[0m\u001b[0;1;31merror: \u001b[0m\u001b[1mexpected expression\u001b[0m\n",
      "     return SaturatingAdd(Z, Y, ResultOverflowed);\n",
      "\u001b[0;1;32m                          ^\n",
      "\u001b[0m\u001b[1m./thirdparty/kdb-cpp/include/internal/../external/k.h:101:11: \u001b[0m\u001b[0;1;30mnote: \u001b[0mexpanded from macro 'Z'\u001b[0m\n",
      "#define Z static\n",
      "\u001b[0;1;32m          ^\n",
      "\u001b[0mIn file included from input_line_14:1:\n",
      "In file included from ./thirdparty/libtorch/include/torch/csrc/api/include/torch/torch.h:3:\n",
      "In file included from ./thirdparty/libtorch/include/torch/csrc/api/include/torch/all.h:8:\n",
      "In file included from ./thirdparty/libtorch/include/torch/csrc/api/include/torch/data.h:3:\n",
      "In file included from ./thirdparty/libtorch/include/torch/csrc/api/include/torch/data/dataloader.h:3:\n",
      "In file included from ./thirdparty/libtorch/include/torch/csrc/api/include/torch/data/dataloader/stateful.h:3:\n",
      "In file included from ./thirdparty/libtorch/include/torch/csrc/api/include/torch/data/dataloader/base.h:3:\n",
      "In file included from ./thirdparty/libtorch/include/torch/csrc/api/include/torch/data/dataloader_options.h:4:\n",
      "In file included from ./thirdparty/libtorch/include/torch/csrc/api/include/torch/types.h:3:\n",
      "In file included from ./thirdparty/libtorch/include/ATen/ATen.h:9:\n",
      "In file included from ./thirdparty/libtorch/include/ATen/Context.h:4:\n",
      "In file included from ./thirdparty/libtorch/include/ATen/Tensor.h:3:\n",
      "In file included from ./thirdparty/libtorch/include/ATen/core/TensorBody.h:4:\n",
      "In file included from ./thirdparty/libtorch/include/c10/core/Layout.h:3:\n",
      "In file included from ./thirdparty/libtorch/include/c10/core/Backend.h:5:\n",
      "In file included from ./thirdparty/libtorch/include/c10/core/DispatchKeySet.h:4:\n",
      "\u001b[1m./thirdparty/libtorch/include/c10/util/llvmMathExtras.h:840:11: \u001b[0m\u001b[0;1;31merror: \u001b[0m\u001b[1mexpected expression\u001b[0m\n",
      "   return Z;\n",
      "\u001b[0;1;32m          ^\n",
      "\u001b[0m\u001b[1m./thirdparty/kdb-cpp/include/internal/../external/k.h:101:11: \u001b[0m\u001b[0;1;30mnote: \u001b[0mexpanded from macro 'Z'\u001b[0m\n",
      "#define Z static\n",
      "\u001b[0;1;32m          ^\n",
      "\u001b[0mIn file included from input_line_14:1:\n",
      "In file included from ./thirdparty/libtorch/include/torch/csrc/api/include/torch/torch.h:3:\n",
      "In file included from ./thirdparty/libtorch/include/torch/csrc/api/include/torch/all.h:8:\n",
      "In file included from ./thirdparty/libtorch/include/torch/csrc/api/include/torch/data.h:3:\n",
      "In file included from ./thirdparty/libtorch/include/torch/csrc/api/include/torch/data/dataloader.h:3:\n",
      "In file included from ./thirdparty/libtorch/include/torch/csrc/api/include/torch/data/dataloader/stateful.h:3:\n",
      "In file included from ./thirdparty/libtorch/include/torch/csrc/api/include/torch/data/dataloader/base.h:3:\n",
      "In file included from ./thirdparty/libtorch/include/torch/csrc/api/include/torch/data/dataloader_options.h:4:\n",
      "In file included from ./thirdparty/libtorch/include/torch/csrc/api/include/torch/types.h:3:\n",
      "In file included from ./thirdparty/libtorch/include/ATen/ATen.h:9:\n",
      "In file included from ./thirdparty/libtorch/include/ATen/Context.h:4:\n",
      "In file included from ./thirdparty/libtorch/include/ATen/Tensor.h:3:\n",
      "In file included from ./thirdparty/libtorch/include/ATen/core/TensorBody.h:7:\n",
      "In file included from ./thirdparty/libtorch/include/c10/core/Scalar.h:10:\n",
      "In file included from ./thirdparty/libtorch/include/c10/core/ScalarType.h:4:\n",
      "In file included from ./thirdparty/libtorch/include/c10/util/complex.h:570:\n",
      "\u001b[1m./thirdparty/libtorch/include/c10/util/complex_math.h:83:52: \u001b[0m\u001b[0;1;31merror: \u001b[0m\u001b[1mexpected expression\u001b[0m\n",
      "C10_HOST_DEVICE inline c10::complex<decltype(T() * U())> pow(const c10::complex<T> &x, const c10::complex<U> &y) {\n",
      "\u001b[0;1;32m                                                   ^\n",
      "\u001b[0m\u001b[1m./thirdparty/kdb-cpp/include/internal/../external/k.h:103:14: \u001b[0m\u001b[0;1;30mnote: \u001b[0mexpanded from macro 'U'\u001b[0m\n",
      "#define U(x) P(!(x),0)\n",
      "\u001b[0;1;32m             ^\n",
      "\u001b[0m\u001b[1m./thirdparty/kdb-cpp/include/internal/../external/k.h:102:17: \u001b[0m\u001b[0;1;30mnote: \u001b[0mexpanded from macro 'P'\u001b[0m\n",
      "#define P(x,y) {if(x)R(y);}\n",
      "\u001b[0;1;32m                ^\n",
      "\u001b[0mIn file included from input_line_14:1:\n",
      "In file included from ./thirdparty/libtorch/include/torch/csrc/api/include/torch/torch.h:3:\n",
      "In file included from ./thirdparty/libtorch/include/torch/csrc/api/include/torch/all.h:8:\n",
      "In file included from ./thirdparty/libtorch/include/torch/csrc/api/include/torch/data.h:3:\n",
      "In file included from ./thirdparty/libtorch/include/torch/csrc/api/include/torch/data/dataloader.h:3:\n",
      "In file included from ./thirdparty/libtorch/include/torch/csrc/api/include/torch/data/dataloader/stateful.h:3:\n",
      "In file included from ./thirdparty/libtorch/include/torch/csrc/api/include/torch/data/dataloader/base.h:3:\n",
      "In file included from ./thirdparty/libtorch/include/torch/csrc/api/include/torch/data/dataloader_options.h:4:\n",
      "In file included from ./thirdparty/libtorch/include/torch/csrc/api/include/torch/types.h:3:\n",
      "In file included from ./thirdparty/libtorch/include/ATen/ATen.h:9:\n",
      "In file included from ./thirdparty/libtorch/include/ATen/Context.h:4:\n",
      "In file included from ./thirdparty/libtorch/include/ATen/Tensor.h:3:\n",
      "In file included from ./thirdparty/libtorch/include/ATen/core/TensorBody.h:7:\n",
      "In file included from ./thirdparty/libtorch/include/c10/core/Scalar.h:10:\n",
      "In file included from ./thirdparty/libtorch/include/c10/core/ScalarType.h:4:\n",
      "In file included from ./thirdparty/libtorch/include/c10/util/complex.h:570:\n",
      "\u001b[1m./thirdparty/libtorch/include/c10/util/complex_math.h:93:52: \u001b[0m\u001b[0;1;31merror: \u001b[0m\u001b[1mexpected expression\u001b[0m\n",
      "C10_HOST_DEVICE inline c10::complex<decltype(T() * U())> pow(const c10::complex<T> &x, const U &y) {\n",
      "\u001b[0;1;32m                                                   ^\n",
      "\u001b[0m\u001b[1m./thirdparty/kdb-cpp/include/internal/../external/k.h:103:14: \u001b[0m\u001b[0;1;30mnote: \u001b[0mexpanded from macro 'U'\u001b[0m\n",
      "#define U(x) P(!(x),0)\n",
      "\u001b[0;1;32m             ^\n",
      "\u001b[0m\u001b[1m./thirdparty/kdb-cpp/include/internal/../external/k.h:102:17: \u001b[0m\u001b[0;1;30mnote: \u001b[0mexpanded from macro 'P'\u001b[0m\n",
      "#define P(x,y) {if(x)R(y);}\n",
      "\u001b[0;1;32m                ^\n",
      "\u001b[0mIn file included from input_line_14:1:\n",
      "In file included from ./thirdparty/libtorch/include/torch/csrc/api/include/torch/torch.h:3:\n",
      "In file included from ./thirdparty/libtorch/include/torch/csrc/api/include/torch/all.h:8:\n",
      "In file included from ./thirdparty/libtorch/include/torch/csrc/api/include/torch/data.h:3:\n",
      "In file included from ./thirdparty/libtorch/include/torch/csrc/api/include/torch/data/dataloader.h:3:\n",
      "In file included from ./thirdparty/libtorch/include/torch/csrc/api/include/torch/data/dataloader/stateful.h:3:\n",
      "In file included from ./thirdparty/libtorch/include/torch/csrc/api/include/torch/data/dataloader/base.h:3:\n",
      "In file included from ./thirdparty/libtorch/include/torch/csrc/api/include/torch/data/dataloader_options.h:4:\n",
      "In file included from ./thirdparty/libtorch/include/torch/csrc/api/include/torch/types.h:3:\n",
      "In file included from ./thirdparty/libtorch/include/ATen/ATen.h:9:\n",
      "In file included from ./thirdparty/libtorch/include/ATen/Context.h:4:\n",
      "In file included from ./thirdparty/libtorch/include/ATen/Tensor.h:3:\n",
      "In file included from ./thirdparty/libtorch/include/ATen/core/TensorBody.h:7:\n",
      "In file included from ./thirdparty/libtorch/include/c10/core/Scalar.h:10:\n",
      "In file included from ./thirdparty/libtorch/include/c10/core/ScalarType.h:4:\n",
      "In file included from ./thirdparty/libtorch/include/c10/util/complex.h:570:\n",
      "\u001b[1m./thirdparty/libtorch/include/c10/util/complex_math.h:102:52: \u001b[0m\u001b[0;1;31merror: \u001b[0m\u001b[1mexpected expression\u001b[0m\n",
      "C10_HOST_DEVICE inline c10::complex<decltype(T() * U())> pow(const T &x, const c10::complex<U> &y) {\n",
      "\u001b[0;1;32m                                                   ^\n",
      "\u001b[0m\u001b[1m./thirdparty/kdb-cpp/include/internal/../external/k.h:103:14: \u001b[0m\u001b[0;1;30mnote: \u001b[0mexpanded from macro 'U'\u001b[0m\n",
      "#define U(x) P(!(x),0)\n",
      "\u001b[0;1;32m             ^\n",
      "\u001b[0m\u001b[1m./thirdparty/kdb-cpp/include/internal/../external/k.h:102:17: \u001b[0m\u001b[0;1;30mnote: \u001b[0mexpanded from macro 'P'\u001b[0m\n",
      "#define P(x,y) {if(x)R(y);}\n",
      "\u001b[0;1;32m                ^\n",
      "\u001b[0mIn file included from input_line_14:1:\n",
      "In file included from ./thirdparty/libtorch/include/torch/csrc/api/include/torch/torch.h:3:\n",
      "In file included from ./thirdparty/libtorch/include/torch/csrc/api/include/torch/all.h:8:\n",
      "In file included from ./thirdparty/libtorch/include/torch/csrc/api/include/torch/data.h:3:\n",
      "In file included from ./thirdparty/libtorch/include/torch/csrc/api/include/torch/data/dataloader.h:3:\n",
      "In file included from ./thirdparty/libtorch/include/torch/csrc/api/include/torch/data/dataloader/stateful.h:3:\n",
      "In file included from ./thirdparty/libtorch/include/torch/csrc/api/include/torch/data/dataloader/base.h:3:\n"
     ]
    },
    {
     "name": "stderr",
     "output_type": "stream",
     "text": [
      "In file included from ./thirdparty/libtorch/include/torch/csrc/api/include/torch/data/dataloader_options.h:4:\n",
      "In file included from ./thirdparty/libtorch/include/torch/csrc/api/include/torch/types.h:3:\n",
      "In file included from ./thirdparty/libtorch/include/ATen/ATen.h:9:\n",
      "In file included from ./thirdparty/libtorch/include/ATen/Context.h:4:\n",
      "In file included from ./thirdparty/libtorch/include/ATen/Tensor.h:3:\n",
      "In file included from ./thirdparty/libtorch/include/ATen/core/TensorBody.h:7:\n",
      "In file included from ./thirdparty/libtorch/include/c10/core/Scalar.h:10:\n",
      "In file included from ./thirdparty/libtorch/include/c10/core/ScalarType.h:8:\n",
      "In file included from ./thirdparty/libtorch/include/c10/util/typeid.h:33:\n",
      "\u001b[1m./thirdparty/libtorch/include/c10/util/flat_hash_map.h:924:35: \u001b[0m\u001b[0;1;31merror: \u001b[0m\u001b[1mexpected a qualified name after 'typename'\u001b[0m\n",
      "    template<typename L, typename R>\n",
      "\u001b[0;1;32m                                  ^\n",
      "\u001b[0m\u001b[1m./thirdparty/kdb-cpp/include/internal/../external/k.h:100:11: \u001b[0m\u001b[0;1;30mnote: \u001b[0mexpanded from macro 'R'\u001b[0m\n",
      "#define R return\n",
      "\u001b[0;1;32m          ^\n",
      "\u001b[0mIn file included from input_line_14:1:\n",
      "In file included from ./thirdparty/libtorch/include/torch/csrc/api/include/torch/torch.h:3:\n",
      "In file included from ./thirdparty/libtorch/include/torch/csrc/api/include/torch/all.h:8:\n",
      "In file included from ./thirdparty/libtorch/include/torch/csrc/api/include/torch/data.h:3:\n",
      "In file included from ./thirdparty/libtorch/include/torch/csrc/api/include/torch/data/dataloader.h:3:\n",
      "In file included from ./thirdparty/libtorch/include/torch/csrc/api/include/torch/data/dataloader/stateful.h:3:\n",
      "In file included from ./thirdparty/libtorch/include/torch/csrc/api/include/torch/data/dataloader/base.h:3:\n",
      "In file included from ./thirdparty/libtorch/include/torch/csrc/api/include/torch/data/dataloader_options.h:4:\n",
      "In file included from ./thirdparty/libtorch/include/torch/csrc/api/include/torch/types.h:3:\n",
      "In file included from ./thirdparty/libtorch/include/ATen/ATen.h:9:\n",
      "In file included from ./thirdparty/libtorch/include/ATen/Context.h:4:\n",
      "In file included from ./thirdparty/libtorch/include/ATen/Tensor.h:3:\n",
      "In file included from ./thirdparty/libtorch/include/ATen/core/TensorBody.h:7:\n",
      "In file included from ./thirdparty/libtorch/include/c10/core/Scalar.h:10:\n",
      "In file included from ./thirdparty/libtorch/include/c10/core/ScalarType.h:8:\n",
      "In file included from ./thirdparty/libtorch/include/c10/util/typeid.h:33:\n",
      "\u001b[1m./thirdparty/libtorch/include/c10/util/flat_hash_map.h:924:35: \u001b[0m\u001b[0;1;31merror: \u001b[0m\u001b[1mexpected ',' or '>' in template-parameter-list\u001b[0m\n",
      "\u001b[1m./thirdparty/kdb-cpp/include/internal/../external/k.h:100:11: \u001b[0m\u001b[0;1;30mnote: \u001b[0mexpanded from macro 'R'\u001b[0m\n",
      "#define R return\n",
      "\u001b[0;1;32m          ^\n",
      "\u001b[0mIn file included from input_line_14:1:\n",
      "In file included from ./thirdparty/libtorch/include/torch/csrc/api/include/torch/torch.h:3:\n",
      "In file included from ./thirdparty/libtorch/include/torch/csrc/api/include/torch/all.h:8:\n",
      "In file included from ./thirdparty/libtorch/include/torch/csrc/api/include/torch/data.h:3:\n",
      "In file included from ./thirdparty/libtorch/include/torch/csrc/api/include/torch/data/dataloader.h:3:\n",
      "In file included from ./thirdparty/libtorch/include/torch/csrc/api/include/torch/data/dataloader/stateful.h:3:\n",
      "In file included from ./thirdparty/libtorch/include/torch/csrc/api/include/torch/data/dataloader/base.h:3:\n",
      "In file included from ./thirdparty/libtorch/include/torch/csrc/api/include/torch/data/dataloader_options.h:4:\n",
      "In file included from ./thirdparty/libtorch/include/torch/csrc/api/include/torch/types.h:3:\n",
      "In file included from ./thirdparty/libtorch/include/ATen/ATen.h:9:\n",
      "In file included from ./thirdparty/libtorch/include/ATen/Context.h:4:\n",
      "In file included from ./thirdparty/libtorch/include/ATen/Tensor.h:3:\n",
      "In file included from ./thirdparty/libtorch/include/ATen/core/TensorBody.h:7:\n",
      "In file included from ./thirdparty/libtorch/include/c10/core/Scalar.h:10:\n",
      "In file included from ./thirdparty/libtorch/include/c10/core/ScalarType.h:8:\n",
      "In file included from ./thirdparty/libtorch/include/c10/util/typeid.h:33:\n",
      "\u001b[1m./thirdparty/libtorch/include/c10/util/flat_hash_map.h:925:46: \u001b[0m\u001b[0;1;31merror: \u001b[0m\u001b[1mC++ requires a type specifier for all declarations\u001b[0m\n",
      "    bool compares_equal(const L & lhs, const R & rhs)\n",
      "\u001b[0;1;32m                                       ~~~~~ ^\n",
      "\u001b[0m\u001b[1m./thirdparty/kdb-cpp/include/internal/../external/k.h:100:11: \u001b[0m\u001b[0;1;30mnote: \u001b[0mexpanded from macro 'R'\u001b[0m\n",
      "#define R return\n",
      "\u001b[0;1;32m          ^\n",
      "\u001b[0mIn file included from input_line_14:1:\n",
      "In file included from ./thirdparty/libtorch/include/torch/csrc/api/include/torch/torch.h:3:\n",
      "In file included from ./thirdparty/libtorch/include/torch/csrc/api/include/torch/all.h:8:\n",
      "In file included from ./thirdparty/libtorch/include/torch/csrc/api/include/torch/data.h:3:\n",
      "In file included from ./thirdparty/libtorch/include/torch/csrc/api/include/torch/data/dataloader.h:3:\n",
      "In file included from ./thirdparty/libtorch/include/torch/csrc/api/include/torch/data/dataloader/stateful.h:3:\n",
      "In file included from ./thirdparty/libtorch/include/torch/csrc/api/include/torch/data/dataloader/base.h:3:\n",
      "In file included from ./thirdparty/libtorch/include/torch/csrc/api/include/torch/data/dataloader_options.h:4:\n",
      "In file included from ./thirdparty/libtorch/include/torch/csrc/api/include/torch/types.h:3:\n",
      "In file included from ./thirdparty/libtorch/include/ATen/ATen.h:9:\n",
      "In file included from ./thirdparty/libtorch/include/ATen/Context.h:4:\n",
      "In file included from ./thirdparty/libtorch/include/ATen/Tensor.h:3:\n",
      "In file included from ./thirdparty/libtorch/include/ATen/core/TensorBody.h:7:\n",
      "In file included from ./thirdparty/libtorch/include/c10/core/Scalar.h:10:\n",
      "In file included from ./thirdparty/libtorch/include/c10/core/ScalarType.h:8:\n",
      "In file included from ./thirdparty/libtorch/include/c10/util/typeid.h:33:\n",
      "\u001b[1m./thirdparty/libtorch/include/c10/util/flat_hash_map.h:925:46: \u001b[0m\u001b[0;1;31merror: \u001b[0m\u001b[1mexpected ')'\u001b[0m\n",
      "\u001b[1m./thirdparty/kdb-cpp/include/internal/../external/k.h:100:11: \u001b[0m\u001b[0;1;30mnote: \u001b[0mexpanded from macro 'R'\u001b[0m\n",
      "#define R return\n",
      "\u001b[0;1;32m          ^\n",
      "\u001b[0m\u001b[1m./thirdparty/libtorch/include/c10/util/flat_hash_map.h:925:24: \u001b[0m\u001b[0;1;30mnote: \u001b[0mto match this '('\u001b[0m\n",
      "    bool compares_equal(const L & lhs, const R & rhs)\n",
      "\u001b[0;1;32m                       ^\n",
      "\u001b[0m\u001b[1m./thirdparty/libtorch/include/c10/util/flat_hash_map.h:927:49: \u001b[0m\u001b[0;1;31merror: \u001b[0m\u001b[1muse of undeclared identifier 'rhs'; did you mean 'lhs'?\u001b[0m\n",
      "        return static_cast<Equal &>(*this)(lhs, rhs);\n",
      "\u001b[0;1;32m                                                ^~~\n",
      "\u001b[0m\u001b[0;32m                                                lhs\n",
      "\u001b[0m\u001b[1m./thirdparty/libtorch/include/c10/util/flat_hash_map.h:925:35: \u001b[0m\u001b[0;1;30mnote: \u001b[0m'lhs' declared here\u001b[0m\n",
      "    bool compares_equal(const L & lhs, const R & rhs)\n",
      "\u001b[0;1;32m                                  ^\n",
      "\u001b[0m\u001b[0;1;31mfatal error: \u001b[0mtoo many errors emitted, stopping now [-ferror-limit=]\u001b[0m\n"
     ]
    },
    {
     "ename": "Interpreter Error",
     "evalue": "",
     "output_type": "error",
     "traceback": [
      "Interpreter Error: "
     ]
    }
   ],
   "source": [
    "#pragma cling add_include_path(\"./thirdparty/libtorch/include\")\n",
    "#pragma cling add_include_path(\"./thirdparty/libtorch/include/torch/csrc/api/include\")\n",
    "#pragma cling add_library_path(\"./thirdparty/libtorch/lib\")\n",
    "#pragma cling load(\"libtorch\")\n",
    "\n",
    "#pragma cling add_include_path(\"./thirdparty/nest/include\")\n",
    "\n",
    "#include <torch/torch.h>\n",
    "#include <torch/csrc/autograd/variable.h>\n",
    "#include <torch/csrc/autograd/function.h>\n",
    "\n",
    "#include \"xtensor/xbuilder.hpp\"\n",
    "#include \"xtensor/xarray.hpp\"\n",
    "#include \"xtensor/xtensor.hpp\"\n",
    "#include \"nest.h\"\n",
    "#include <vector>\n",
    "#include <array>"
   ]
  },
  {
   "cell_type": "code",
   "execution_count": 3,
   "metadata": {},
   "outputs": [],
   "source": [
    "#define HOST_ADDR \"127.0.0.1\"\n",
    "#define HOST_PORT 5050"
   ]
  },
  {
   "cell_type": "code",
   "execution_count": 8,
   "metadata": {},
   "outputs": [
    {
     "name": "stderr",
     "output_type": "stream",
     "text": [
      "IncrementalExecutor::executeFunction: symbol '_ZN3kdb9ConnectorD1Ev' unresolved while linking function '_GLOBAL__sub_I_cling_module_10'!\n",
      "You are probably missing the definition of kdb::Connector::~Connector()\n",
      "Maybe you need to load the corresponding shared library?\n"
     ]
    }
   ],
   "source": []
  },
  {
   "cell_type": "code",
   "execution_count": 2,
   "metadata": {},
   "outputs": [],
   "source": [
    "typedef nest::Nest<torch::Tensor> TensorNest;"
   ]
  },
  {
   "cell_type": "code",
   "execution_count": 3,
   "metadata": {},
   "outputs": [],
   "source": [
    "torch::Tensor x = torch::ones({2, 2}, torch::requires_grad());\n",
    "torch::Tensor y = torch::randn({2, 2});"
   ]
  },
  {
   "cell_type": "code",
   "execution_count": 5,
   "metadata": {},
   "outputs": [],
   "source": []
  },
  {
   "cell_type": "code",
   "execution_count": 2,
   "metadata": {},
   "outputs": [],
   "source": [
    "std::vector<size_t> shape = { 3, 2, 4 };\n",
    "std::vector<size_t> strides = { 8, 4, 1 };"
   ]
  },
  {
   "cell_type": "code",
   "execution_count": 4,
   "metadata": {},
   "outputs": [],
   "source": [
    "std::vector<size_t> shape = { 3, 2, 4 };\n",
    "xt::xarray<double, xt::layout_type::row_major> a(shape);"
   ]
  },
  {
   "cell_type": "code",
   "execution_count": null,
   "metadata": {},
   "outputs": [],
   "source": []
  },
  {
   "cell_type": "code",
   "execution_count": 7,
   "metadata": {},
   "outputs": [],
   "source": [
    "std::array<size_t, 3> shape = { 3, 2, 4 };\n",
    "xt::xtensor<double, 3> b(shape);"
   ]
  },
  {
   "cell_type": "code",
   "execution_count": null,
   "metadata": {},
   "outputs": [],
   "source": []
  },
  {
   "cell_type": "code",
   "execution_count": null,
   "metadata": {},
   "outputs": [],
   "source": [
    "// typedef int  I;          // Already defined within k.h\n",
    "// typedef char *S;         // Already defined within k.h\n",
    "// I khpu(S hostname, I portNumber, S usernamePassword)\n",
    "khpu (\"localhost\", 12345, \"username:password\");"
   ]
  },
  {
   "cell_type": "code",
   "execution_count": null,
   "metadata": {},
   "outputs": [],
   "source": []
  },
  {
   "cell_type": "code",
   "execution_count": null,
   "metadata": {},
   "outputs": [],
   "source": []
  },
  {
   "cell_type": "code",
   "execution_count": null,
   "metadata": {},
   "outputs": [],
   "source": []
  },
  {
   "cell_type": "code",
   "execution_count": null,
   "metadata": {},
   "outputs": [],
   "source": []
  },
  {
   "cell_type": "code",
   "execution_count": null,
   "metadata": {},
   "outputs": [],
   "source": []
  },
  {
   "cell_type": "code",
   "execution_count": null,
   "metadata": {},
   "outputs": [],
   "source": []
  },
  {
   "cell_type": "code",
   "execution_count": null,
   "metadata": {},
   "outputs": [],
   "source": []
  }
 ],
 "metadata": {
  "kernelspec": {
   "display_name": "C++17",
   "language": "C++17",
   "name": "xcpp17"
  },
  "language_info": {
   "codemirror_mode": "text/x-c++src",
   "file_extension": ".cpp",
   "mimetype": "text/x-c++src",
   "name": "c++",
   "version": "17"
  },
  "latex_envs": {
   "LaTeX_envs_menu_present": true,
   "autoclose": false,
   "autocomplete": true,
   "bibliofile": "biblio.bib",
   "cite_by": "apalike",
   "current_citInitial": 1,
   "eqLabelWithNumbers": true,
   "eqNumInitial": 1,
   "hotkeys": {
    "equation": "Ctrl-E",
    "itemize": "Ctrl-I"
   },
   "labels_anchors": false,
   "latex_user_defs": false,
   "report_style_numbering": false,
   "user_envs_cfg": false
  },
  "varInspector": {
   "cols": {
    "lenName": 16,
    "lenType": 16,
    "lenVar": 40
   },
   "kernels_config": {
    "python": {
     "delete_cmd_postfix": "",
     "delete_cmd_prefix": "del ",
     "library": "var_list.py",
     "varRefreshCmd": "print(var_dic_list())"
    },
    "r": {
     "delete_cmd_postfix": ") ",
     "delete_cmd_prefix": "rm(",
     "library": "var_list.r",
     "varRefreshCmd": "cat(var_dic_list()) "
    }
   },
   "types_to_exclude": [
    "module",
    "function",
    "builtin_function_or_method",
    "instance",
    "_Feature"
   ],
   "window_display": false
  }
 },
 "nbformat": 4,
 "nbformat_minor": 4
}
