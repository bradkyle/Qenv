{
 "cells": [
  {
   "cell_type": "code",
   "execution_count": 1,
   "metadata": {},
   "outputs": [],
   "source": [
    "\\cd ../qenv"
   ]
  },
  {
   "cell_type": "code",
   "execution_count": 3,
   "metadata": {},
   "outputs": [],
   "source": [
    "//\\l test.q"
   ]
  },
  {
   "cell_type": "code",
   "execution_count": 10,
   "metadata": {},
   "outputs": [],
   "source": [
    "setup:((!) . flip(\n",
    "                (`instrument;(`iId`cntTyp`faceValue`mkprice`smul;enlist(0;`inverse;1;1000;1))); \n",
    "                (`account;(`aId`iId`avail`bal`lng`srt`ft`rt`wit`time`froz;enlist(0;0;0;0;(0 1);(0 -1);0;0;0;z;0))); \n",
    "                (`inventory;(`aId`side`mm`upnl`ordQty`ordLoss`amt;flip(0 0;-1 1;0 0;0 0;0 0;0 0;10 10))); \n",
    "                (`feetier;(`ftId`vol`bal`ref;flip(0 1;0 0;0 0;0 0))); // Update Account\n",
    "                (`orderbook;(\n",
    "                        `iId`price`side`qty`hqty`iqty`vqty`time;\n",
    "                        flip(0 0;1000 1001;2#1;2#1000;2#0;2#0;2#400;2#z)));\n",
    "                (`order;(\n",
    "                        `oId`aId`iId`ivId`side`lqty`oqty`price`reduce`dqty`okind`state`offset;\n",
    "                        flip(til 4;4#0;4#0;4#enlist(0 1);4#1;4#100;4#100;4#1000;4#1b;4#1;4#1;4#0;0 110 220 330))\n",
    "                );\n",
    "                (`risktier;(`rtId`amt`lev;flip(0 1;50000 250000;125 100))) // Update Account\n",
    "            ));"
   ]
  },
  {
   "cell_type": "code",
   "execution_count": 11,
   "metadata": {},
   "outputs": [],
   "source": [
    ".engine.testutils.SwitchSetupModels[setup];"
   ]
  },
  {
   "cell_type": "code",
   "execution_count": null,
   "metadata": {},
   "outputs": [],
   "source": [
    "\n",
    "/ https://www.bitmex.com/app/liquidationExamples\n",
    "/ https://www.bitmex.com/app/liquidation\n",
    "/ https://www.bitmex.com/app/wsAPI#Deleverage\n",
    "/ https://www.bitmex.com/app/wsAPI#Liquidation\n",
    "/ https://huobiglobal.zendesk.com/hc/en-us/articles/360000143042-Partial-Liquidation-of-Futures\n",
    "/ https://www.okex.com/academy/en/full-liquidation\n",
    "/ https://www.binance.com/en/support/faq/360033525271\n",
    "/ https://binance.zendesk.com/hc/en-us/articles/360033525271-Liquidation\n",
    "/ https://help.ftx.com/hc/en-us/articles/360027668712-Liquidations\n",
    "/ https://help.bybit.com/hc/en-us/articles/360039261334-How-to-calculate-Liquidation-Price-Inverse-Contract-\n",
    "/ https://help.bybit.com/hc/en-us/articles/360039261474-Liquidation-process-Inverse-Contract-\n",
    "/ https://help.bybit.com/hc/en-us/articles/900000389743-Introduction-to-Mutual-Insurance\n",
    "\n",
    ".engine.logic.liquidation.ForceCancel        :{[a;time]\n",
    "    .engine.services.order.CancelAllOrders[a]; // TODO make requests\n",
    "    :(exec from .account.Account where accountId=a[`accountId])\n",
    "    };\n",
    "\n",
    "// Trades the given opposing positions with eachother\n",
    "// to reduce exposure as seen with huobi.\n",
    ".engine.logic.liquidation.SelfTrade          :{[a;iB;iL;iS]\n",
    "\n",
    "    };\n",
    "\n",
    "// Takes over the inventory and returns the resultant\n",
    "// inventory with the fee being removed.\n",
    ".engine.logic.liquidation.TakeOverWithFee    :{[a;iB;iL;iS]\n",
    "\n",
    "    };\n",
    "\n",
    "// Takes over the inventory completely without returning\n",
    "// it, essentially the entire inventory has been lost.\n",
    ".engine.logic.liquidation.TakeOverTotally    :{[a;iB;iL;iS]\n",
    "\n",
    "    };\n",
    "\n",
    ".engine.logic.liquidation.IsAccountInsolvent :{[]\n",
    "\n",
    "    };\n",
    "\n",
    "// Enacts liquidation of a specified account/inventory pair \n",
    "// Considering the current implementation only supports cross margin\n",
    "// mode, all positions will be liquidated.\n",
    "/  @param price     (Long) The price at which the fill is occuring\n",
    "/  @param qty       (Long) The quantity that is being filled.\n",
    "/  @param account   (Account) The account to which the inventory belongs.\n",
    "/  @param inventory (Inventory) The inventory that is going to be added to.\n",
    "/  @return (Inventory) The new updated inventory\n",
    ".engine.logic.liquidation.Liquidate    :{[a]\n",
    "    a:.engine.model.account.SetAccountStateLiquidating[a];\n",
    "    a:.engine.logic.liquidation.ForceCancel[a;time];\n",
    "    // TODO branch\n",
    "    if[.engine.logic.liquidation.IsAccountInsolvent[a];[\n",
    "\n",
    "        ]];\n",
    "    };\n"
   ]
  },
  {
   "cell_type": "code",
   "execution_count": 6,
   "metadata": {},
   "outputs": [],
   "source": [
    ".engine.logic.liquidation.LiquidateAccount:{\n",
    "    ivn:?[`.engine.model.inventory.Inventory;();0b;()];\n",
    "\n",
    "    // if swap position\n",
    "    \n",
    "    // if place order\n",
    "\n",
    "    // if \n",
    "    \n",
    "    nord:?[];\n",
    "    / x[`status]:1;\n",
    "    / // derive bankruptch price\n",
    "    / .engine.logic.order.New[];\n",
    "    / .engine.model.account.Update x;\n",
    "    x\n",
    "    };\n"
   ]
  },
  {
   "cell_type": "code",
   "execution_count": 12,
   "metadata": {},
   "outputs": [
    {
     "data": {
      "text/plain": [
       "aId   | 0\n",
       "iId   | `.engine.model.instrument.Instrument$0\n",
       "lng   | `.engine.model.inventory.Inventory!0\n",
       "srt   | `.engine.model.inventory.Inventory!1\n",
       "rt    | 0\n",
       "ft    | 0\n",
       "froz  | 0\n",
       "vol   | 0N\n",
       "dep   | 0N\n",
       "wit   | 0\n",
       "mrgTyp| 0N\n",
       "avail | 0\n",
       "done  | 0b\n",
       "bal   | 0\n",
       "time  | 2020.12.30T17:24:56.211\n"
      ]
     },
     "execution_count": 12,
     "metadata": {},
     "output_type": "execute_result"
    }
   ],
   "source": [
    ".engine.logic.liquidation.Liquidate[.model.Account . setup`account]"
   ]
  },
  {
   "cell_type": "code",
   "execution_count": null,
   "metadata": {},
   "outputs": [],
   "source": []
  },
  {
   "cell_type": "code",
   "execution_count": null,
   "metadata": {},
   "outputs": [],
   "source": []
  },
  {
   "cell_type": "code",
   "execution_count": null,
   "metadata": {},
   "outputs": [],
   "source": []
  },
  {
   "cell_type": "code",
   "execution_count": null,
   "metadata": {},
   "outputs": [],
   "source": []
  },
  {
   "cell_type": "code",
   "execution_count": null,
   "metadata": {},
   "outputs": [],
   "source": []
  }
 ],
 "metadata": {
  "kernelspec": {
   "display_name": "Q (kdb+)",
   "language": "q",
   "name": "qpk"
  },
  "language_info": {
   "file_extension": ".q",
   "mimetype": "text/x-q",
   "name": "q",
   "version": "4.0"
  }
 },
 "nbformat": 4,
 "nbformat_minor": 4
}
