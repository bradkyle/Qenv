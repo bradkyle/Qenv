{
 "cells": [
  {
   "cell_type": "code",
   "execution_count": 1,
   "metadata": {},
   "outputs": [],
   "source": [
    "#pragma cling add_include_path(\"./thirdparty/kdb/include\")\n",
    "#pragma cling add_include_path(\"./thirdparty/kdb/include/internal\")\n",
    "#pragma cling load(\"./thirdparty/kdb/build/libkdb.so\")\n",
    "#pragma cling add_include_path(\"./thirdparty/libtorch/include\")\n",
    "#pragma cling add_include_path(\"./thirdparty/libtorch/include/torch/csrc/api/include\")\n",
    "#pragma cling add_library_path(\"./thirdparty/libtorch/lib\")\n",
    "#pragma cling load(\"libtorch\")\n",
    "\n",
    "#pragma cling add_include_path(\"./thirdparty/nest/include\")\n",
    "\n",
    "#include <torch/torch.h>\n",
    "#include <torch/csrc/autograd/variable.h>\n",
    "#include <torch/csrc/autograd/function.h>\n",
    "\n",
    "#include \"xtensor/xbuilder.hpp\"\n",
    "#include \"xtensor/xarray.hpp\"\n",
    "#include \"xtensor/xtensor.hpp\"\n",
    "#include \"nest.h\"\n",
    "#include <vector>\n",
    "#include <array>\n",
    "\n",
    "#include </home/thorad/Core/Projects/Qenv/notebooks/thirdparty/kdb/include/kdb_cpp.h>\n",
    "#include <string>\n",
    "#include <iostream>\n",
    "#include <typeinfo>\n",
    "\n",
    "kdb::Connector kcon;\n",
    "#define HOST_ADDR \"127.0.0.1\"\n",
    "#define HOST_PORT 5050\n",
    "\n",
    "if (!kcon.connect(HOST_ADDR, HOST_PORT))\n",
    "        return -1;\n",
    "\n",
    "kdb::Result rs0 = kcon.sync(\".server.DumStep[((0;1);(1;5);(2;4);(3;5));0]\");\n",
    "kdb::Result rs1 = kcon.sync(\".server.DumStep[((0;1);(1;5);(2;4);(3;5));1]\");\n",
    "\n",
    "K rks0 = rs0.get_res();\n",
    "K rks1 = rs1.get_res();\n",
    "\n",
    "// std::cout << rs1 << std::endl;\n",
    "\n",
    "typedef nest::Nest<torch::Tensor> TensorNest;"
   ]
  },
  {
   "cell_type": "code",
   "execution_count": null,
   "metadata": {},
   "outputs": [],
   "source": [
    "std::vector<kdb::Result> responses = {};"
   ]
  },
  {
   "cell_type": "code",
   "execution_count": null,
   "metadata": {},
   "outputs": [],
   "source": [
    "%timeit -n 1000 responses.push_back(kcon.sync(\".server.DumStep[((0;1);(1;5);(2;4);(3;5));0]\"));"
   ]
  },
  {
   "cell_type": "code",
   "execution_count": 10,
   "metadata": {},
   "outputs": [
    {
     "data": {
      "text/plain": [
       "256"
      ]
     },
     "execution_count": 10,
     "metadata": {},
     "output_type": "execute_result"
    }
   ],
   "source": []
  },
  {
   "cell_type": "code",
   "execution_count": 3,
   "metadata": {},
   "outputs": [
    {
     "name": "stderr",
     "output_type": "stream",
     "text": [
      "\u001b[1minput_line_11:2:5: \u001b[0m\u001b[0;1;31merror: \u001b[0m\u001b[1mcannot initialize a variable of type 'F *' (aka 'double *') with an lvalue of type 'K' (aka 'k0 *')\u001b[0m\n",
      " F* elementOne = kK(rks1)[0]; \n",
      "\u001b[0;1;32m    ^            ~~~~~~~~~~~\n",
      "\u001b[0m"
     ]
    },
    {
     "ename": "Interpreter Error",
     "evalue": "",
     "output_type": "error",
     "traceback": [
      "Interpreter Error: "
     ]
    }
   ],
   "source": []
  },
  {
   "cell_type": "code",
   "execution_count": 2,
   "metadata": {
    "run_control": {
     "marked": false
    }
   },
   "outputs": [
    {
     "name": "stdout",
     "output_type": "stream",
     "text": [
      "192.327\n",
      "127.669\n",
      "46.3717\n",
      "175.447\n",
      "119.736\n",
      "239.745\n",
      "107.164\n",
      "119.416\n",
      "135.852\n",
      "83.4935\n",
      "205.264\n",
      "67.9894\n",
      "2.89396\n",
      "70.9743\n",
      "58.6597\n",
      "254.302\n",
      "150.798\n",
      "87.275\n",
      "37.0613\n",
      "179.052\n",
      "94.7732\n",
      "59.3448\n",
      "84.6354\n",
      "233.999\n",
      "41.739\n",
      "163.622\n",
      "38.9673\n",
      "71.6842\n",
      "137.837\n",
      "233.059\n",
      "196.005\n",
      "152.594\n",
      "211.271\n",
      "100.275\n",
      "240.837\n",
      "226.928\n",
      "136.577\n",
      "124.511\n",
      "1.92799\n",
      "129.034\n",
      "193.932\n",
      "178.967\n",
      "78.6543\n",
      "40.0932\n",
      "174.113\n",
      "246.999\n",
      "6.88298\n",
      "224.156\n",
      "96.2124\n",
      "123.982\n",
      "51.093\n",
      "127.474\n",
      "169.4\n",
      "8.71789\n",
      "245.723\n",
      "162.077\n",
      "167.148\n",
      "126.373\n",
      "71.4318\n",
      "17.1487\n",
      "39.8568\n",
      "34.8077\n",
      "250.438\n",
      "98.2103\n",
      "125.677\n",
      "39.1029\n",
      "239.892\n",
      "172.829\n",
      "65.5056\n",
      "10.8146\n",
      "200.137\n",
      "46.7354\n",
      "222.856\n",
      "125.264\n",
      "161.73\n",
      "46.9012\n",
      "122.722\n",
      "226.001\n",
      "4.58617\n",
      "3.1414\n",
      "61.3568\n",
      "196.354\n",
      "108.035\n",
      "186.453\n",
      "115.01\n",
      "148\n",
      "113.391\n",
      "211.348\n",
      "150.081\n",
      "115.374\n",
      "134.012\n",
      "127.032\n",
      "137.723\n",
      "172.742\n",
      "158.26\n",
      "27.9996\n",
      "160.483\n",
      "227.45\n",
      "241.616\n",
      "252.876\n",
      "136.348\n",
      "211.077\n",
      "38.8107\n",
      "209.615\n",
      "212.671\n",
      "152.019\n",
      "96.4574\n",
      "220.59\n",
      "74.9077\n",
      "4.82394\n",
      "22.5186\n",
      "119.836\n",
      "68.4766\n",
      "85.4595\n",
      "134.512\n",
      "51.2956\n",
      "218.412\n",
      "75.6411\n",
      "160.498\n",
      "64.7094\n",
      "95.4175\n",
      "14.4431\n",
      "151.533\n",
      "108.876\n",
      "121.919\n",
      "64.8307\n",
      "197.881\n",
      "31.4964\n",
      "71.5893\n",
      "107.472\n",
      "168.396\n",
      "115.154\n",
      "105.118\n",
      "121.107\n",
      "232.731\n",
      "88.5036\n",
      "4.78259\n",
      "121.727\n",
      "97.6553\n",
      "138.087\n",
      "18.8543\n",
      "97.0281\n",
      "125.841\n",
      "214.966\n",
      "58.9342\n",
      "93.6006\n",
      "155.076\n",
      "127.284\n",
      "64.5987\n",
      "128.991\n",
      "176.978\n",
      "231.686\n",
      "74.2787\n",
      "168.024\n",
      "57.206\n",
      "204.468\n",
      "33.566\n",
      "101.404\n",
      "35.9524\n",
      "245.896\n",
      "20.51\n",
      "236.262\n",
      "83.9719\n",
      "104.971\n",
      "247.37\n",
      "7.09989\n",
      "119.746\n",
      "66.3218\n",
      "209.696\n",
      "188.958\n",
      "100.367\n",
      "221.71\n",
      "194.778\n",
      "80.8401\n",
      "55.4962\n",
      "103.028\n",
      "107.126\n",
      "133.833\n",
      "135.461\n",
      "98.1743\n",
      "41.204\n",
      "126.251\n",
      "242.314\n",
      "189.232\n",
      "131.836\n",
      "83.7521\n",
      "6.83903\n",
      "79.7621\n",
      "139.12\n",
      "21.8115\n",
      "25.6143\n",
      "247.032\n",
      "197.727\n",
      "245.435\n",
      "79.0894\n",
      "123.345\n",
      "54.5316\n",
      "153.184\n",
      "177.217\n",
      "94.9406\n",
      "123.689\n",
      "226.924\n",
      "181.644\n",
      "123.35\n",
      "1.22572\n",
      "246.093\n",
      "53.2265\n",
      "228.994\n",
      "168\n",
      "46.4044\n",
      "217.812\n",
      "105.592\n",
      "133.236\n",
      "56.1507\n",
      "73.7211\n",
      "154.015\n",
      "116.096\n",
      "116.595\n",
      "147.5\n",
      "61.9911\n",
      "9.69502\n",
      "80.4898\n",
      "9.94317\n",
      "117.076\n",
      "185.683\n",
      "198.585\n",
      "125.806\n",
      "252.644\n",
      "110.257\n",
      "244.307\n",
      "134.391\n",
      "16.6734\n",
      "121.156\n",
      "123.991\n",
      "241.704\n",
      "44.1315\n",
      "4.44356\n",
      "77.0909\n",
      "0.533052\n",
      "226.552\n",
      "72.949\n",
      "73.6188\n",
      "248.498\n",
      "250.924\n",
      "94.5108\n",
      "8.35745\n",
      "85.7944\n",
      "231.361\n",
      "179.77\n",
      "152.053\n",
      "97.5097\n",
      "187.889\n",
      "148.262\n",
      "246.032\n",
      "18.4792\n",
      "118.7\n"
     ]
    }
   ],
   "source": [
    "F* x = kF(kK(kK(rks1)[0])[1]);\n",
    "for (int i=0;i<256;i++){\n",
    "    std::cout << x[i] << std::endl;    \n",
    "}\n"
   ]
  },
  {
   "cell_type": "code",
   "execution_count": 2,
   "metadata": {},
   "outputs": [],
   "source": []
  },
  {
   "cell_type": "code",
   "execution_count": 2,
   "metadata": {
    "run_control": {
     "marked": false
    }
   },
   "outputs": [],
   "source": [
    "// `agentId`observation`reward`done`episode_step`episode_return\n",
    "std::vector<TensorNest> derive_multistep_from_result(kdb::Result& result){\n",
    "    K kres  = result.get_res();\n",
    "    std::vector<TensorNest> tensors;\n",
    "    for (int i=0; i< kres->n; i++) {\n",
    "        std::cout << i << std::endl;\n",
    "        std::cout << kK(step)[1]->n << std::endl;\n",
    "        K step = kK(kres)[0]; // TODO\n",
    "        tensors.push_back(TensorNest(std::vector({ // omits agentId\n",
    "            std::move(TensorNest(torch::from_blob(kF(kK(step)[1]), {1, kK(step)[1]->n}, {torch::kFloat64}))), // observation // TODO\n",
    "            std::move(TensorNest(torch::full({1,1},kK(step)[2]->f,torch::dtype(torch::kFloat64)))), // reward\n",
    "            std::move(TensorNest(torch::full({1,1},kK(step)[3]->g,torch::dtype(torch::kBool)))), // done\n",
    "            std::move(TensorNest(torch::full({1,1},kK(step)[4]->f,torch::dtype(torch::kFloat64)))), // episode_step TODO change\n",
    "            std::move(TensorNest(torch::full({1,1},kK(step)[5]->f,torch::dtype(torch::kFloat64))))  // episode_return\n",
    "            })));\n",
    "    };\n",
    "    return tensors;\n",
    "};"
   ]
  },
  {
   "cell_type": "code",
   "execution_count": 3,
   "metadata": {},
   "outputs": [
    {
     "name": "stderr",
     "output_type": "stream",
     "text": [
      "IncrementalExecutor::executeFunction: symbol '__emutls_v._ZSt11__once_call' unresolved while linking function '_GLOBAL__sub_I_cling_module_8'!\n",
      "IncrementalExecutor::executeFunction: symbol '__emutls_v._ZSt15__once_callable' unresolved while linking function '_GLOBAL__sub_I_cling_module_8'!\n"
     ]
    }
   ],
   "source": [
    "std::vector<TensorNest> res = derive_multistep_from_result(rs1);"
   ]
  },
  {
   "cell_type": "code",
   "execution_count": null,
   "metadata": {},
   "outputs": [],
   "source": [
    "std::cout << res.size() << std::endl;"
   ]
  },
  {
   "cell_type": "code",
   "execution_count": null,
   "metadata": {},
   "outputs": [],
   "source": [
    "for (auto const it : column) {\n",
    "    std::cout << it << ' ';\n",
    "}"
   ]
  },
  {
   "cell_type": "code",
   "execution_count": null,
   "metadata": {
    "run_control": {
     "marked": false
    }
   },
   "outputs": [],
   "source": []
  },
  {
   "cell_type": "code",
   "execution_count": null,
   "metadata": {},
   "outputs": [],
   "source": []
  },
  {
   "cell_type": "code",
   "execution_count": null,
   "metadata": {},
   "outputs": [],
   "source": []
  },
  {
   "cell_type": "code",
   "execution_count": null,
   "metadata": {},
   "outputs": [],
   "source": [
    "kdb::Result res = kcon.sync(\"select from tbl_test\");"
   ]
  },
  {
   "cell_type": "code",
   "execution_count": null,
   "metadata": {},
   "outputs": [],
   "source": [
    "kdb::Table tbl = res.get_table();"
   ]
  },
  {
   "cell_type": "code",
   "execution_count": null,
   "metadata": {},
   "outputs": [],
   "source": []
  },
  {
   "cell_type": "code",
   "execution_count": null,
   "metadata": {},
   "outputs": [],
   "source": [
    "// Traverse a column\n",
    "kdb::Vector<kdb::Type::Long> column = tbl.get_column<kdb::Type::Long>(0);\n",
    "std::cout << \"=======================================\\nColumn 0: \";\n",
    "for (auto const &it : column) {\n",
    "    std::cout << it << ' ';\n",
    "}\n",
    "std::cout << '\\n';"
   ]
  },
  {
   "cell_type": "code",
   "execution_count": null,
   "metadata": {},
   "outputs": [],
   "source": []
  },
  {
   "cell_type": "code",
   "execution_count": null,
   "metadata": {},
   "outputs": [],
   "source": [
    "std::cout << torch::full({1,1},1) << std::endl;"
   ]
  },
  {
   "cell_type": "code",
   "execution_count": null,
   "metadata": {},
   "outputs": [],
   "source": []
  },
  {
   "cell_type": "code",
   "execution_count": null,
   "metadata": {},
   "outputs": [],
   "source": [
    "typedef nest::Nest<torch::Tensor> TensorNest;"
   ]
  },
  {
   "cell_type": "code",
   "execution_count": null,
   "metadata": {},
   "outputs": [],
   "source": [
    "torch::Tensor x = torch::ones({2, 2}, torch::requires_grad());\n",
    "torch::Tensor y = torch::randn({2, 2});"
   ]
  },
  {
   "cell_type": "code",
   "execution_count": null,
   "metadata": {},
   "outputs": [],
   "source": []
  },
  {
   "cell_type": "code",
   "execution_count": null,
   "metadata": {},
   "outputs": [],
   "source": [
    "std::vector<size_t> shape = { 3, 2, 4 };\n",
    "std::vector<size_t> strides = { 8, 4, 1 };"
   ]
  },
  {
   "cell_type": "code",
   "execution_count": null,
   "metadata": {},
   "outputs": [],
   "source": [
    "std::vector<size_t> shape = { 3, 2, 4 };\n",
    "xt::xarray<double, xt::layout_type::row_major> a(shape);"
   ]
  },
  {
   "cell_type": "code",
   "execution_count": null,
   "metadata": {},
   "outputs": [],
   "source": []
  },
  {
   "cell_type": "code",
   "execution_count": null,
   "metadata": {},
   "outputs": [],
   "source": [
    "std::array<size_t, 3> shape = { 3, 2, 4 };\n",
    "xt::xtensor<double, 3> b(shape);"
   ]
  },
  {
   "cell_type": "code",
   "execution_count": null,
   "metadata": {},
   "outputs": [],
   "source": []
  },
  {
   "cell_type": "code",
   "execution_count": null,
   "metadata": {},
   "outputs": [],
   "source": [
    "// typedef int  I;          // Already defined within k.h\n",
    "// typedef char *S;         // Already defined within k.h\n",
    "// I khpu(S hostname, I portNumber, S usernamePassword)\n",
    "khpu (\"localhost\", 12345, \"username:password\");"
   ]
  },
  {
   "cell_type": "code",
   "execution_count": null,
   "metadata": {},
   "outputs": [],
   "source": []
  },
  {
   "cell_type": "code",
   "execution_count": null,
   "metadata": {},
   "outputs": [],
   "source": []
  },
  {
   "cell_type": "code",
   "execution_count": null,
   "metadata": {},
   "outputs": [],
   "source": []
  },
  {
   "cell_type": "code",
   "execution_count": null,
   "metadata": {},
   "outputs": [],
   "source": []
  },
  {
   "cell_type": "code",
   "execution_count": null,
   "metadata": {},
   "outputs": [],
   "source": []
  },
  {
   "cell_type": "code",
   "execution_count": null,
   "metadata": {},
   "outputs": [],
   "source": []
  },
  {
   "cell_type": "code",
   "execution_count": null,
   "metadata": {},
   "outputs": [],
   "source": []
  }
 ],
 "metadata": {
  "kernelspec": {
   "display_name": "C++17",
   "language": "C++17",
   "name": "xcpp17"
  },
  "language_info": {
   "codemirror_mode": "text/x-c++src",
   "file_extension": ".cpp",
   "mimetype": "text/x-c++src",
   "name": "c++",
   "version": "17"
  },
  "latex_envs": {
   "LaTeX_envs_menu_present": true,
   "autoclose": false,
   "autocomplete": true,
   "bibliofile": "biblio.bib",
   "cite_by": "apalike",
   "current_citInitial": 1,
   "eqLabelWithNumbers": true,
   "eqNumInitial": 1,
   "hotkeys": {
    "equation": "Ctrl-E",
    "itemize": "Ctrl-I"
   },
   "labels_anchors": false,
   "latex_user_defs": false,
   "report_style_numbering": false,
   "user_envs_cfg": false
  },
  "varInspector": {
   "cols": {
    "lenName": 16,
    "lenType": 16,
    "lenVar": 40
   },
   "kernels_config": {
    "python": {
     "delete_cmd_postfix": "",
     "delete_cmd_prefix": "del ",
     "library": "var_list.py",
     "varRefreshCmd": "print(var_dic_list())"
    },
    "r": {
     "delete_cmd_postfix": ") ",
     "delete_cmd_prefix": "rm(",
     "library": "var_list.r",
     "varRefreshCmd": "cat(var_dic_list()) "
    }
   },
   "types_to_exclude": [
    "module",
    "function",
    "builtin_function_or_method",
    "instance",
    "_Feature"
   ],
   "window_display": false
  }
 },
 "nbformat": 4,
 "nbformat_minor": 4
}
