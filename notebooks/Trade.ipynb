{
 "cells": [
  {
   "cell_type": "code",
   "execution_count": null,
   "metadata": {},
   "outputs": [],
   "source": []
  },
  {
   "cell_type": "code",
   "execution_count": 958,
   "metadata": {},
   "outputs": [],
   "source": [
    "\\cd /home/qenv\n",
    "\\c 5000 5000\n",
    "\\l /home/qenv/init.q"
   ]
  },
  {
   "cell_type": "code",
   "execution_count": 957,
   "metadata": {},
   "outputs": [],
   "source": [
    "\\l /home/qenv/ingest/client.q"
   ]
  },
  {
   "cell_type": "code",
   "execution_count": 958,
   "metadata": {},
   "outputs": [
    {
     "ename": "\u001b[0;31mrank\u001b[0m",
     "evalue": "\u001b[0;31mrank\u001b[0m",
     "output_type": "error",
     "traceback": [
      "\u001b[0;31mevaluation error:\n\u001b[0m",
      "\u001b[0;31mrank\u001b[0m",
      "\u001b[0;31m\u001b[0m",
      "\u001b[0;31m  [5]  /home/qenv/engine/engine.q:67: .engine.multiplex:{.Q.sbt[.engine.map[first x[`kind]];x;{show x;show[.Q.sbt y]}]}\n                                                         ^\n\u001b[0m",
      "\u001b[0;31m  [4]  /home/qenv/engine/engine.q:78: .engine.process:\n            $[count[distinct[x`kind]]>1;\n                .engine.multiplex'[0!(`f xgroup update f:{sums((<>) prior x)}kind from `time xasc x)];\n                                 ^\n                .engine.multiplex[first 0!(`f xgroup update f:first'[kind] from x)]];\n\u001b[0m",
      "\u001b[0;31m  [3]  /home/qenv/engine/engine.q:96: .engine.Advance:\n      .engine.ingress.Events:events;::];\n    .engine.process[.engine.GetIngressEvents[.engine.watermark;`second$5;950]];\n    ^\n    .engine.GetEgressEvents[.engine.watermark;`second$5;950]\n\u001b[0m",
      "\u001b[0;31m  [2]  /home/qenv/engine/engine.q:187: .engine.Reset:\n    // TODO recreate all models etc to config\n    .engine.Advance[events]\n    ^\n    }\n\u001b[0m",
      "\u001b[0;31m  [1]  /home/qenv/env.q:49: .env.Reset:\n    xevents: .ingest.Reset[];\n    nevents: .engine.Reset[aIds;xevents];\n             ^\n\n\u001b[0m",
      "\u001b[0;31m  [0]  .env.Reset[til 2]\n       ^\n\u001b[0m"
     ]
    }
   ],
   "source": [
    ".env.Reset[til 2]"
   ]
  },
  {
   "cell_type": "code",
   "execution_count": null,
   "metadata": {},
   "outputs": [],
   "source": []
  },
  {
   "cell_type": "code",
   "execution_count": 956,
   "metadata": {},
   "outputs": [
    {
     "name": "stdout",
     "output_type": "stream",
     "text": [
      "0 2\n",
      "1 3\n",
      "\"xevent count:3\"\n",
      "time | 0Nv\n",
      "kind | `neworder\n",
      "datum| (`long$();`long$();`long$();`long$();`long$();`long$();`long$();`long$();`long$();`long$();`long$();`long$();`long$();`long$();0000000000b)\n"
     ]
    },
    {
     "ename": "\u001b[0;31mtype\u001b[0m",
     "evalue": "\u001b[0;31mtype\u001b[0m",
     "output_type": "error",
     "traceback": [
      "\u001b[0;31mevaluation error:\n\u001b[0m",
      "\u001b[0;31mtype\u001b[0m",
      "\u001b[0;31m\u001b[0m",
      "\u001b[0;31m  [3]  /home/qenv/engine/engine.q:10: .engine.GetIngressEvents:{[watermark;frq;per] // TODO should select next batch according to config\n                                                               ^\n    e:select[per] i, time, kind, datum from .engine.ingress.Events where (time>watermark) and (time < ((watermark | first time)+frq));\n\u001b[0m",
      "\u001b[0;31m  [2]  /home/qenv/engine/engine.q:96: .engine.Advance:\n      .engine.ingress.Events:events;::];\n    .engine.process[.engine.GetIngressEvents[.engine.watermark;`second$5;950]];\n                    ^\n    .engine.GetEgressEvents[.engine.watermark;`second$5;950]\n\u001b[0m",
      "\u001b[0;31m  [1]  /home/qenv/env.q:133: .env.Step:\n    // them to the engine for further processing.\n    nevents:.engine.Advance[xevents];\n            ^\n\n\u001b[0m",
      "\u001b[0;31m  [0]  .env.Step[((0;2);(1;3))]\n       ^\n\u001b[0m"
     ]
    }
   ],
   "source": [
    ".env.Step[((0;2);(1;3))]"
   ]
  },
  {
   "cell_type": "code",
   "execution_count": 82,
   "metadata": {},
   "outputs": [
    {
     "data": {
      "text/plain": [
       "1 76\n",
       "1 76\n",
       "1 2 \n",
       "1 1 \n"
      ]
     },
     "execution_count": 82,
     "metadata": {},
     "output_type": "execute_result"
    }
   ],
   "source": [
    ".bam.x"
   ]
  },
  {
   "cell_type": "code",
   "execution_count": 34,
   "metadata": {},
   "outputs": [
    {
     "ename": "\u001b[0;31mtype\u001b[0m",
     "evalue": "\u001b[0;31mtype\u001b[0m",
     "output_type": "error",
     "traceback": [
      "\u001b[0;31mevaluation error:\n\u001b[0m",
      "\u001b[0;31mtype\u001b[0m",
      "\u001b[0;31m\u001b[0m",
      "\u001b[0;31m  [1]  /home/qenv/engine/logic/trade.q:183: .engine.logic.trade.Trade:\n        a:x where not s;\n        if[count[b]>0;.engine.logic.trade.Take[1;t where b;i;x where b]];\n                                                               ^\n        if[count[a]>0;.engine.logic.trade.Take[-1;t where a;i;x where a]];\n\u001b[0m",
      "\u001b[0;31m  [0]  .engine.logic.trade.Trade[.bam.t;.bam.i;.bam.x]\n       ^\n\u001b[0m"
     ]
    }
   ],
   "source": [
    ".engine.logic.trade.Trade[.bam.t;.bam.i;.bam.x]"
   ]
  },
  {
   "cell_type": "code",
   "execution_count": 35,
   "metadata": {},
   "outputs": [],
   "source": [
    "s:(.bam.x[;0]>0)"
   ]
  },
  {
   "cell_type": "code",
   "execution_count": 44,
   "metadata": {},
   "outputs": [],
   "source": [
    "o:.engine.model.orderbook.GetLevel[()]"
   ]
  },
  {
   "cell_type": "code",
   "execution_count": 136,
   "metadata": {},
   "outputs": [],
   "source": [
    "o,: flip`price`side`qty`hqty`iqty`vqty!(1000 1001;1 1;10 10;10 10;10 10;10 10)"
   ]
  },
  {
   "cell_type": "code",
   "execution_count": 137,
   "metadata": {},
   "outputs": [],
   "source": [
    ".engine.model.orderbook.GetLevel:{[x;y] x}[o]"
   ]
  },
  {
   "cell_type": "code",
   "execution_count": 948,
   "metadata": {},
   "outputs": [],
   "source": [
    "\\l /home/qenv/engine/logic/trade.q\n",
    "//\\l /home/qenv/engine/model/order.q"
   ]
  },
  {
   "cell_type": "code",
   "execution_count": null,
   "metadata": {},
   "outputs": [],
   "source": []
  },
  {
   "cell_type": "code",
   "execution_count": 953,
   "metadata": {},
   "outputs": [],
   "source": [
    "s:(.bam.x[;0]>0);\n",
    "b:where s;\n",
    "a:where not s;\n",
    "if[count[b]>0;.engine.logic.trade.Take[1;.bam.t b;.bam.i;.bam.x b]];\n",
    "if[count[a]>0;.engine.logic.trade.Take[-1;.bam.t a;.bam.i;.bam.x a]];"
   ]
  },
  {
   "cell_type": "code",
   "execution_count": 952,
   "metadata": {},
   "outputs": [],
   "source": [
    ".engine.model.order.Order,:(\n",
    "    (1;1;0;1538060;0;0;0;0;1;0;0b;0;100;100;100;0;0);\n",
    "    (2;1;0;1538150;0;0;0;0;1;0;0b;0;100;100;100;0;0);\n",
    "    (3;1;0;1538150;0;0;0;0;1;0;0b;0;100;100;100;110;0))"
   ]
  },
  {
   "cell_type": "code",
   "execution_count": 176,
   "metadata": {},
   "outputs": [],
   "source": [
    ".engine.model.order.Order,:flip`oId`price`offset`lqty`dqty`state!.bam.o"
   ]
  },
  {
   "cell_type": "code",
   "execution_count": 954,
   "metadata": {},
   "outputs": [],
   "source": [
    ".engine.logic.trade.Take[1;.bam.t b;.bam.i;.bam.x b]"
   ]
  },
  {
   "cell_type": "code",
   "execution_count": null,
   "metadata": {},
   "outputs": [],
   "source": [
    "o:raze'[(s`oId;s`oprice;noffset;nlqty;ndqty;nstatus)][;where[msk]]"
   ]
  },
  {
   "cell_type": "code",
   "execution_count": null,
   "metadata": {},
   "outputs": [],
   "source": []
  },
  {
   "cell_type": "code",
   "execution_count": 955,
   "metadata": {},
   "outputs": [
    {
     "data": {
      "text/plain": [
       "price  | side qty  hqty iqty vqty\n",
       "-------| ------------------------\n",
       "1538060| -1   3443           0   \n",
       "1538070| -1   1445               \n",
       "1538080| -1   70                 \n",
       "1538150| -1   0              0   \n",
       "1538180| -1   50                 \n",
       "1538350| -1   0                  \n",
       "1538490| -1   1783               \n",
       "1537670| 1    200                \n",
       "1537750| 1    16                 \n",
       "1537830| 1    761                \n",
       "1537850| 1    762                \n",
       "1538050| 1    336                \n",
       "1538280| -1   40                 \n",
       "1538550| -1   1783               \n",
       "1538560| -1   0                  \n",
       "1538600| -1   2113               \n",
       "1538640| -1   45                 \n",
       "1538660| -1   0                  \n",
       "1539480| -1   300                \n",
       "1601710| -1   10                 \n",
       "1468460| 1    0                  \n",
       "1536950| 1    70                 \n",
       "1537000| 1    1582               \n",
       "1537030| 1    49                 \n",
       "1537190| 1    10                 \n",
       "1537280| 1    4300               \n",
       "1537430| 1    141                \n",
       "1537650| 1    0                  \n",
       "1537690| 1    40                 \n"
      ]
     },
     "execution_count": 955,
     "metadata": {},
     "output_type": "execute_result"
    }
   ],
   "source": [
    ".engine.model.orderbook.Orderbook"
   ]
  },
  {
   "cell_type": "code",
   "execution_count": null,
   "metadata": {},
   "outputs": [],
   "source": []
  },
  {
   "cell_type": "code",
   "execution_count": null,
   "metadata": {},
   "outputs": [],
   "source": []
  },
  {
   "cell_type": "code",
   "execution_count": null,
   "metadata": {},
   "outputs": [],
   "source": []
  },
  {
   "cell_type": "code",
   "execution_count": null,
   "metadata": {},
   "outputs": [],
   "source": []
  },
  {
   "cell_type": "code",
   "execution_count": null,
   "metadata": {},
   "outputs": [],
   "source": []
  },
  {
   "cell_type": "code",
   "execution_count": null,
   "metadata": {},
   "outputs": [],
   "source": []
  },
  {
   "cell_type": "code",
   "execution_count": null,
   "metadata": {},
   "outputs": [],
   "source": []
  },
  {
   "cell_type": "code",
   "execution_count": 152,
   "metadata": {},
   "outputs": [
    {
     "data": {
      "text/plain": [
       "oId| side acc price lprice sprice trig tif okind oskind reduce state oqty dqty lqty offset einst\n",
       "---| -------------------------------------------------------------------------------------------\n",
       "1  | 1    0   1001  0      0      0    0   1     0      0      0     100  100  100  0      0    \n",
       "2  | 1    0   1001  0      0      0    0   1     0      0      0     100  100  100  0      0    \n",
       "3  | 1    0   1001  0      0      0    0   1     0      0      0     100  100  100  0      0    \n"
      ]
     },
     "execution_count": 152,
     "metadata": {},
     "output_type": "execute_result"
    }
   ],
   "source": [
    ".engine.model.order.Order"
   ]
  },
  {
   "cell_type": "code",
   "execution_count": 326,
   "metadata": {},
   "outputs": [],
   "source": []
  },
  {
   "cell_type": "code",
   "execution_count": 153,
   "metadata": {},
   "outputs": [
    {
     "data": {
      "text/plain": [
       "oId| side acc price lprice sprice trig tif okind oskind reduce state oqty dqty lqty offset einst\n",
       "---| -------------------------------------------------------------------------------------------\n",
       "1  | 1    0   1001  0      0      0    0   1     0      0      0     100  100  100  0      0    \n",
       "2  | 1    0   1001  0      0      0    0   1     0      0      0     100  100  100  0      0    \n",
       "3  | 1    0   1001  0      0      0    0   1     0      0      0     100  100  100  0      0    \n"
      ]
     },
     "execution_count": 153,
     "metadata": {},
     "output_type": "execute_result"
    }
   ],
   "source": [
    ".engine.model.order.GetOrder[(\n",
    "        (=;`okind;1);\n",
    "        (in;`price;.bam.s[`price] where (.bam.s[`rp]>0));\n",
    "        (in;`state;(0 1));(>;`oqty;0))]"
   ]
  },
  {
   "cell_type": "code",
   "execution_count": 145,
   "metadata": {},
   "outputs": [
    {
     "data": {
      "text/plain": [
       "1000 1001\n"
      ]
     },
     "execution_count": 145,
     "metadata": {},
     "output_type": "execute_result"
    }
   ],
   "source": [
    ".bam.s[`price] where (.bam.s[`rp]>0)"
   ]
  },
  {
   "cell_type": "code",
   "execution_count": 161,
   "metadata": {},
   "outputs": [
    {
     "ename": "\u001b[0;31m.bam.o\u001b[0m",
     "evalue": "\u001b[0;31m.bam.o\u001b[0m",
     "output_type": "error",
     "traceback": [
      "\u001b[0;31mevaluation error:\n\u001b[0m",
      "\u001b[0;31m.bam.o\u001b[0m",
      "\u001b[0;31m\u001b[0m",
      "\u001b[0;31m  [0]  .bam.o\n       ^\n\u001b[0m"
     ]
    }
   ],
   "source": [
    ".bam.o"
   ]
  },
  {
   "cell_type": "code",
   "execution_count": null,
   "metadata": {},
   "outputs": [],
   "source": []
  },
  {
   "cell_type": "code",
   "execution_count": null,
   "metadata": {},
   "outputs": [],
   "source": []
  },
  {
   "cell_type": "code",
   "execution_count": null,
   "metadata": {},
   "outputs": [],
   "source": []
  },
  {
   "cell_type": "code",
   "execution_count": 196,
   "metadata": {},
   "outputs": [
    {
     "data": {
      "text/plain": [
       "2020.11.11T07:00:04.969 2020.11.11T07:00:04.969 2020.11.11T07:00:04.969 2020.11.11T07:00:04.969 2020.11.11T07:00:04.969 2020.11.11T07:00:04.969 2020.11.11T07:00:04.969 2020.11.11T07:00:04.969 2020.11.11T07:00:04.969 2020.11.11T07:00:04.969 2020.11.11T07:00:04.969 2020.11.11T07:00:04.969 2020.11.11T07:00:05.079 2020.11.11T07:00:05.079 2020.11.11T07:00:05.079 2020.11.11T07:00:05.079 2020.11.11T07:00:05.079 2020.11.11T07:00:05.079 2020.11.11T07:00:05.079 2020.11.11T07:00:05.079 2020.11.11T07:00:05.079 2020.11.11T07:00:05.079 2020.11.11T07:00:05.079 2020.11.11T07:00:05.079 2020.11.11T07:00:05.079 2020.11.11T07:00:05.079 2020.11.11T07:00:05.079 2020.11.11T07:00:05.079 2020.11.11T07:00:05.079 2020.11.11T07:00:05.079 2020.11.11T07:00:05.079 2020.11.11T07:00:05.079 2020.11.11T07:00:05.079 2020.11.11T07:00:05.079 2020.11.11T07:00:05.079 2020.11.11T07:00:05.079 2020.11.11T07:00:05.079 2020.11.11T07:00:05.079\n"
      ]
     },
     "execution_count": 196,
     "metadata": {},
     "output_type": "execute_result"
    }
   ],
   "source": [
    ".bam.ot"
   ]
  },
  {
   "cell_type": "code",
   "execution_count": 195,
   "metadata": {},
   "outputs": [
    {
     "data": {
      "text/plain": [
       "-1 1538060 4837\n",
       "-1 1538070 14  \n",
       "-1 1538080 70  \n",
       "-1 1538150 762 \n",
       "-1 1538180 50  \n",
       "-1 1538350 0   \n",
       "-1 1538490 1783\n",
       "1  1537670 200 \n",
       "1  1537750 1   \n",
       "1  1537830 761 \n",
       "1  1537850 762 \n",
       "1  1538050 335 \n",
       "-1 1538060 3443\n",
       "-1 1538070 1445\n",
       "-1 1538080 70  \n",
       "-1 1538150 0   \n",
       "-1 1538180 50  \n",
       "-1 1538280 40  \n",
       "-1 1538550 1783\n",
       "-1 1538560 0   \n",
       "-1 1538600 2113\n",
       "-1 1538640 45  \n",
       "-1 1538660 0   \n",
       "-1 1539480 300 \n",
       "-1 1601710 10  \n",
       "1  1468460 0   \n",
       "1  1536950 70  \n",
       "1  1537000 1582\n",
       "1  1537030 49  \n",
       "1  1537190 10  \n",
       "1  1537280 4300\n",
       "1  1537430 141 \n",
       "1  1537650 0   \n",
       "1  1537690 40  \n",
       "1  1537750 16  \n",
       "1  1537830 761 \n",
       "1  1537850 762 \n",
       "1  1538050 336 \n"
      ]
     },
     "execution_count": 195,
     "metadata": {},
     "output_type": "execute_result"
    }
   ],
   "source": [
    ".bam.ol"
   ]
  },
  {
   "cell_type": "code",
   "execution_count": 752,
   "metadata": {},
   "outputs": [],
   "source": [
    "//zol:.bam.ol"
   ]
  },
  {
   "cell_type": "code",
   "execution_count": 935,
   "metadata": {},
   "outputs": [],
   "source": [
    ".bam.ol:zol"
   ]
  },
  {
   "cell_type": "code",
   "execution_count": 936,
   "metadata": {},
   "outputs": [],
   "source": [
    "\\l /home/qenv/engine/model/common.q\n",
    "\\l /home/qenv/engine/logic/orderbook.q\n",
    "\\l /home/qenv/engine/model/orderbook.q\n",
    "\\l /home/qenv/engine/model/order.q"
   ]
  },
  {
   "cell_type": "code",
   "execution_count": 939,
   "metadata": {},
   "outputs": [],
   "source": [
    ".engine.model.order.Order,:(\n",
    "    (1;-1;0;1538060;0;0;0;0;1;0;0b;0;100;100;100;0;0);\n",
    "    (2;-1;0;1538150;0;0;0;0;1;0;0b;0;100;100;100;0;0);\n",
    "    (3;-1;0;1538150;0;0;0;0;1;0;0b;0;100;100;100;110;0))"
   ]
  },
  {
   "cell_type": "code",
   "execution_count": 938,
   "metadata": {},
   "outputs": [],
   "source": [
    ".bam.ol:flip (.bam.ol[;0];.bam.ol[;1];.util.Clip[.bam.ol[;2]-10])"
   ]
  },
  {
   "cell_type": "code",
   "execution_count": null,
   "metadata": {},
   "outputs": [],
   "source": []
  },
  {
   "cell_type": "code",
   "execution_count": 940,
   "metadata": {},
   "outputs": [
    {
     "name": "stdout",
     "output_type": "stream",
     "text": [
      "0 0  \n",
      "0 10 \n",
      "-1384 -752\n"
     ]
    }
   ],
   "source": [
    ".engine.logic.orderbook.Level[.bam.ot;.bam.i;.bam.ol]"
   ]
  },
  {
   "cell_type": "code",
   "execution_count": 931,
   "metadata": {},
   "outputs": [
    {
     "data": {
      "text/plain": [
       "side price   oId acc lprice sprice trig tif okind oskind reduce state oqty    dqty    lqty    offset einst qty  time                    nqty      hqty iqty vqty iId\n",
       "--------------------------------------------------------------------------------------------------------------------------------------------------------------------\n",
       "-1   1538060 1 0 0 0 ,0     ,0     ,0   ,0  ,1    ,0     0b 0   0 0   100 0   ,100    100 0   0 0    ,0    3433 2020.11.11T07:00:05.079 4817 3423                0  \n",
       "-1   1538150 2 3 0 0 0 0    0 0    0 0  0 0 1 1   0 0    0  0   0 0   100 100 100 100 100 100 0 110  0 0   0    2020.11.11T07:00:05.079 742  0                   0  \n"
      ]
     },
     "execution_count": 931,
     "metadata": {},
     "output_type": "execute_result"
    }
   ],
   "source": [
    ".bam.sfc"
   ]
  },
  {
   "cell_type": "code",
   "execution_count": 934,
   "metadata": {},
   "outputs": [
    {
     "data": {
      "text/plain": [
       "::\n",
       "::\n"
      ]
     },
     "execution_count": 934,
     "metadata": {},
     "output_type": "execute_result"
    }
   ],
   "source": [
    ".engine.Emit[`depth]'[.bam.sfc[`time];flip .bam.sfc[`price`side`qty]]"
   ]
  },
  {
   "cell_type": "code",
   "execution_count": 918,
   "metadata": {},
   "outputs": [
    {
     "data": {
      "text/plain": [
       "side price   oId acc                                lprice sprice trig tif okind oskind reduce state oqty    dqty    lqty    offset einst qty  time                    nqty      hqty iqty vqty iId\n",
       "---------------------------------------------------------------------------------------------------------------------------------------------------------------------------------------------------\n",
       "-1   1538060 ,1  `.engine.model.account.Account$,0  ,0     ,0     ,0   ,0  ,1    ,0     ,0b    ,0    ,100    ,100    ,100    ,0     ,0    3443 2020.11.11T07:00:05.079 4827 3433                0  \n",
       "-1   1538150 2 3 `.engine.model.account.Account$0 0 0 0    0 0    0 0  0 0 1 1   0 0    00b    0 0   100 100 100 100 100 100 0 110  0 0   0    2020.11.11T07:00:05.079 752  0                   0  \n"
      ]
     },
     "execution_count": 918,
     "metadata": {},
     "output_type": "execute_result"
    }
   ],
   "source": [
    "`time xasc 0!uj[`side`price xgroup .bam.o;`side`price xkey .bam.se]"
   ]
  },
  {
   "cell_type": "code",
   "execution_count": null,
   "metadata": {},
   "outputs": [],
   "source": []
  },
  {
   "cell_type": "code",
   "execution_count": 884,
   "metadata": {},
   "outputs": [
    {
     "data": {
      "text/plain": [
       "side price   qty  time                    nqty    hqty iqty vqty iId\n",
       "--------------------------------------------------------------------\n",
       "-1   1538350 0    2020.11.11T07:00:04.969 ,0                     0  \n",
       "-1   1538490 1783 2020.11.11T07:00:04.969 ,1773                  0  \n",
       "1    1537670 200  2020.11.11T07:00:04.969 ,190                   0  \n",
       "-1   1538070 1445 2020.11.11T07:00:05.079 4 1435                 0  \n",
       "-1   1538080 70   2020.11.11T07:00:05.079 60 60                  0  \n",
       "-1   1538180 50   2020.11.11T07:00:05.079 40 40                  0  \n",
       "1    1537750 16   2020.11.11T07:00:05.079 0 6                    0  \n",
       "1    1537830 761  2020.11.11T07:00:05.079 751 751                0  \n",
       "1    1537850 762  2020.11.11T07:00:05.079 752 752                0  \n",
       "1    1538050 336  2020.11.11T07:00:05.079 325 326                0  \n",
       "-1   1538280 40   2020.11.11T07:00:05.079 ,30                    0  \n",
       "-1   1538550 1783 2020.11.11T07:00:05.079 ,1773                  0  \n",
       "-1   1538560 0    2020.11.11T07:00:05.079 ,0                     0  \n",
       "-1   1538600 2113 2020.11.11T07:00:05.079 ,2103                  0  \n",
       "-1   1538640 45   2020.11.11T07:00:05.079 ,35                    0  \n",
       "-1   1538660 0    2020.11.11T07:00:05.079 ,0                     0  \n",
       "-1   1539480 300  2020.11.11T07:00:05.079 ,290                   0  \n",
       "-1   1601710 10   2020.11.11T07:00:05.079 ,0                     0  \n",
       "1    1468460 0    2020.11.11T07:00:05.079 ,0                     0  \n",
       "1    1536950 70   2020.11.11T07:00:05.079 ,60                    0  \n",
       "1    1537000 1582 2020.11.11T07:00:05.079 ,1572                  0  \n",
       "1    1537030 49   2020.11.11T07:00:05.079 ,39                    0  \n",
       "1    1537190 10   2020.11.11T07:00:05.079 ,0                     0  \n",
       "1    1537280 4300 2020.11.11T07:00:05.079 ,4290                  0  \n",
       "1    1537430 141  2020.11.11T07:00:05.079 ,131                   0  \n",
       "1    1537650 0    2020.11.11T07:00:05.079 ,0                     0  \n",
       "1    1537690 40   2020.11.11T07:00:05.079 ,30                    0  \n"
      ]
     },
     "execution_count": 884,
     "metadata": {},
     "output_type": "execute_result"
    }
   ],
   "source": [
    "`time xasc .bam.se"
   ]
  },
  {
   "cell_type": "code",
   "execution_count": null,
   "metadata": {},
   "outputs": [],
   "source": []
  },
  {
   "cell_type": "code",
   "execution_count": null,
   "metadata": {},
   "outputs": [],
   "source": []
  },
  {
   "cell_type": "code",
   "execution_count": 611,
   "metadata": {},
   "outputs": [],
   "source": [
    "s:.bam.ss;\n",
    "msk:.bam.msk;\n",
    "ocols:`oId`price`offset`lqty`dqty`state;\n",
    ".engine.model.order.Update[flip ocols!(0^raze'[.util.PadM'[(\n",
    "    s`oId;\n",
    "    raze[{x#y}'[4;s`price]]; // TODO make faster/fix\n",
    "    .bam.noffset;\n",
    "    s`lqty;\n",
    "    s`dqty;\n",
    "    s`state;\n",
    "    )]][;where[msk]])];"
   ]
  },
  {
   "cell_type": "code",
   "execution_count": 585,
   "metadata": {},
   "outputs": [
    {
     "data": {
      "text/plain": [
       "1 0 1 1\n"
      ]
     },
     "execution_count": 585,
     "metadata": {},
     "output_type": "execute_result"
    }
   ],
   "source": [
    ".bam.msk"
   ]
  },
  {
   "cell_type": "code",
   "execution_count": 681,
   "metadata": {},
   "outputs": [
    {
     "data": {
      "text/plain": [
       "0 0  \n",
       "0 108\n"
      ]
     },
     "execution_count": 681,
     "metadata": {},
     "output_type": "execute_result"
    }
   ],
   "source": [
    ".bam.noffset"
   ]
  },
  {
   "cell_type": "code",
   "execution_count": 599,
   "metadata": {},
   "outputs": [],
   "source": [
    "cl:`oId`lqty`dqty`state"
   ]
  },
  {
   "cell_type": "code",
   "execution_count": 602,
   "metadata": {},
   "outputs": [
    {
     "data": {
      "text/plain": [
       "oId lqty dqty state\n",
       "-------------------\n",
       "1   100  100  0    \n",
       "0   0    0    0    \n",
       "2   100  100  0    \n",
       "3   100  100  0    \n"
      ]
     },
     "execution_count": 602,
     "metadata": {},
     "output_type": "execute_result"
    }
   ],
   "source": []
  },
  {
   "cell_type": "code",
   "execution_count": 597,
   "metadata": {},
   "outputs": [
    {
     "data": {
      "text/plain": [
       "0 0\n",
       "0 8\n"
      ]
     },
     "execution_count": 597,
     "metadata": {},
     "output_type": "execute_result"
    }
   ],
   "source": [
    ".bam.noffset"
   ]
  },
  {
   "cell_type": "code",
   "execution_count": 598,
   "metadata": {},
   "outputs": [
    {
     "data": {
      "text/plain": [
       "1 0 1 1\n"
      ]
     },
     "execution_count": 598,
     "metadata": {},
     "output_type": "execute_result"
    }
   ],
   "source": [
    ".bam.msk"
   ]
  },
  {
   "cell_type": "code",
   "execution_count": 544,
   "metadata": {},
   "outputs": [
    {
     "ename": "\u001b[0;31mlength\u001b[0m",
     "evalue": "\u001b[0;31mlength\u001b[0m",
     "output_type": "error",
     "traceback": [
      "\u001b[0;31mevaluation error:\n\u001b[0m",
      "\u001b[0;31mlength\u001b[0m",
      "\u001b[0;31m\u001b[0m",
      "\u001b[0;31m  [1]  (.q.ungroup)\n\n\u001b[0m",
      "\u001b[0;31m  [0]  ungroup .bam.ss\n       ^\n\u001b[0m"
     ]
    }
   ],
   "source": [
    "ungroup .bam.ss"
   ]
  },
  {
   "cell_type": "code",
   "execution_count": null,
   "metadata": {},
   "outputs": [],
   "source": []
  },
  {
   "cell_type": "code",
   "execution_count": null,
   "metadata": {},
   "outputs": [],
   "source": []
  },
  {
   "cell_type": "code",
   "execution_count": 445,
   "metadata": {},
   "outputs": [
    {
     "data": {
      "text/plain": [
       "side price   qty  time                                            nqty      hqty iqty vqty\n",
       "------------------------------------------------------------------------------------------\n",
       "-1   1538060 3083 2020.11.11T07:00:04.969 2020.11.11T07:00:05.079 4467 3073               \n",
       "-1   1538150 0    2020.11.11T07:00:04.969 2020.11.11T07:00:05.079 392  0                  \n"
      ]
     },
     "execution_count": 445,
     "metadata": {},
     "output_type": "execute_result"
    }
   ],
   "source": [
    "(0!.bam.s) where in[.bam.p;.bam.op]"
   ]
  },
  {
   "cell_type": "code",
   "execution_count": 444,
   "metadata": {},
   "outputs": [
    {
     "data": {
      "text/plain": [
       "side price  | qty  time                                            nqty      hqty iqty vqty\n",
       "------------| -----------------------------------------------------------------------------\n",
       "-1   1538060| 3083 2020.11.11T07:00:04.969 2020.11.11T07:00:05.079 4467 3073               \n",
       "-1   1538070| 1085 2020.11.11T07:00:04.969 2020.11.11T07:00:05.079 0 1075                  \n",
       "-1   1538080| 0    2020.11.11T07:00:04.969 2020.11.11T07:00:05.079 0 0                     \n",
       "-1   1538150| 0    2020.11.11T07:00:04.969 2020.11.11T07:00:05.079 392 0                   \n",
       "-1   1538180| 0    2020.11.11T07:00:04.969 2020.11.11T07:00:05.079 0 0                     \n",
       "-1   1538350| 0    ,2020.11.11T07:00:04.969                        ,0                      \n",
       "-1   1538490| 1423 ,2020.11.11T07:00:04.969                        ,1413                   \n",
       "1    1537670| 0    ,2020.11.11T07:00:04.969                        ,0                      \n",
       "1    1537750| 0    2020.11.11T07:00:04.969 2020.11.11T07:00:05.079 0 0                     \n",
       "1    1537830| 401  2020.11.11T07:00:04.969 2020.11.11T07:00:05.079 391 391                 \n",
       "1    1537850| 402  2020.11.11T07:00:04.969 2020.11.11T07:00:05.079 392 392                 \n",
       "1    1538050| 0    2020.11.11T07:00:04.969 2020.11.11T07:00:05.079 0 0                     \n",
       "-1   1538280| 0    ,2020.11.11T07:00:05.079                        ,0                      \n",
       "-1   1538550| 1423 ,2020.11.11T07:00:05.079                        ,1413                   \n",
       "-1   1538560| 0    ,2020.11.11T07:00:05.079                        ,0                      \n",
       "-1   1538600| 1753 ,2020.11.11T07:00:05.079                        ,1743                   \n",
       "-1   1538640| 0    ,2020.11.11T07:00:05.079                        ,0                      \n",
       "-1   1538660| 0    ,2020.11.11T07:00:05.079                        ,0                      \n",
       "-1   1539480| 0    ,2020.11.11T07:00:05.079                        ,0                      \n",
       "-1   1601710| 0    ,2020.11.11T07:00:05.079                        ,0                      \n",
       "1    1468460| 0    ,2020.11.11T07:00:05.079                        ,0                      \n",
       "1    1536950| 0    ,2020.11.11T07:00:05.079                        ,0                      \n",
       "1    1537000| 1222 ,2020.11.11T07:00:05.079                        ,1212                   \n",
       "1    1537030| 0    ,2020.11.11T07:00:05.079                        ,0                      \n",
       "1    1537190| 0    ,2020.11.11T07:00:05.079                        ,0                      \n",
       "1    1537280| 3940 ,2020.11.11T07:00:05.079                        ,3930                   \n",
       "1    1537430| 0    ,2020.11.11T07:00:05.079                        ,0                      \n",
       "1    1537650| 0    ,2020.11.11T07:00:05.079                        ,0                      \n",
       "1    1537690| 0    ,2020.11.11T07:00:05.079                        ,0                      \n"
      ]
     },
     "execution_count": 444,
     "metadata": {},
     "output_type": "execute_result"
    }
   ],
   "source": [
    ".bam.s"
   ]
  },
  {
   "cell_type": "code",
   "execution_count": 415,
   "metadata": {},
   "outputs": [
    {
     "data": {
      "text/plain": [
       "1538060 1538070 1538080 1538150 1538180 1538350 1538490 1537670 1537750 1537830 1537850 1538050 1538280 1538550 1538560 1538600 1538640 1538660 1539480 1601710 1468460 1536950 1537000 1537030 1537190 1537280 1537430 1537650 1537690\n"
      ]
     },
     "execution_count": 415,
     "metadata": {},
     "output_type": "execute_result"
    }
   ],
   "source": [
    ".bam.p"
   ]
  },
  {
   "cell_type": "code",
   "execution_count": 429,
   "metadata": {},
   "outputs": [],
   "source": [
    "op:distinct (0!.bam.o)`price;"
   ]
  },
  {
   "cell_type": "code",
   "execution_count": 432,
   "metadata": {},
   "outputs": [
    {
     "data": {
      "text/plain": [
       "qty | 0N\n",
       "time| `datetime$()\n",
       "nqty| `long$()\n",
       "hqty| 0N\n",
       "iqty| 0N\n",
       "vqty| 0N\n"
      ]
     },
     "execution_count": 432,
     "metadata": {},
     "output_type": "execute_result"
    }
   ],
   "source": [
    ".bam.s where in[.bam.p;op]"
   ]
  },
  {
   "cell_type": "code",
   "execution_count": 398,
   "metadata": {},
   "outputs": [
    {
     "data": {
      "text/plain": [
       "1538060 1538150 1538150\n"
      ]
     },
     "execution_count": 398,
     "metadata": {},
     "output_type": "execute_result"
    }
   ],
   "source": [
    "inter[(0!.bam.o)[`price];.bam.ss`price]"
   ]
  },
  {
   "cell_type": "code",
   "execution_count": 395,
   "metadata": {},
   "outputs": [
    {
     "data": {
      "text/plain": [
       "1538060 1538150\n"
      ]
     },
     "execution_count": 395,
     "metadata": {},
     "output_type": "execute_result"
    }
   ],
   "source": [
    ".bam.p"
   ]
  },
  {
   "cell_type": "code",
   "execution_count": null,
   "metadata": {},
   "outputs": [],
   "source": []
  },
  {
   "cell_type": "code",
   "execution_count": null,
   "metadata": {},
   "outputs": [],
   "source": []
  },
  {
   "cell_type": "code",
   "execution_count": null,
   "metadata": {},
   "outputs": [],
   "source": []
  },
  {
   "cell_type": "code",
   "execution_count": null,
   "metadata": {},
   "outputs": [],
   "source": []
  },
  {
   "cell_type": "code",
   "execution_count": null,
   "metadata": {},
   "outputs": [],
   "source": []
  },
  {
   "cell_type": "code",
   "execution_count": null,
   "metadata": {},
   "outputs": [],
   "source": []
  },
  {
   "cell_type": "code",
   "execution_count": 315,
   "metadata": {},
   "outputs": [],
   "source": [
    "dlts:(-/)(0!.bam.ss)[`qty`nqty]"
   ]
  },
  {
   "cell_type": "code",
   "execution_count": 316,
   "metadata": {},
   "outputs": [],
   "source": [
    "dneg:sum'[{x where[x<0]}'[dlts]]"
   ]
  },
  {
   "cell_type": "code",
   "execution_count": 347,
   "metadata": {},
   "outputs": [
    {
     "data": {
      "text/plain": [
       "side price  \n",
       "------------\n",
       "-1   1538060\n",
       "-1   1538150\n"
      ]
     },
     "execution_count": 347,
     "metadata": {},
     "output_type": "execute_result"
    }
   ],
   "source": [
    "key[.bam.ss] where dneg<0"
   ]
  },
  {
   "cell_type": "code",
   "execution_count": 273,
   "metadata": {},
   "outputs": [
    {
     "data": {
      "text/plain": [
       "side | -1      -1      -1      -1      -1      -1      -1      1       1       1       1       1       -1      -1      -1      -1      -1      -1      -1      -1      -1      -1      -1      -1      -1      1       1       1       1       1       1       1       1       1       1       1       1       1      \n",
       "price| 1538060 1538070 1538080 1538150 1538180 1538350 1538490 1537670 1537750 1537830 1537850 1538050 1538060 1538070 1538080 1538150 1538180 1538280 1538550 1538560 1538600 1538640 1538660 1539480 1601710 1468460 1536950 1537000 1537030 1537190 1537280 1537430 1537650 1537690 1537750 1537830 1537850 1538050\n",
       "qty  | 4797    0       30      722     10      0       1743    160     0       721     722     295     3403    1405    30      0       10      0       1743    0       2073    5       0       260     0       0       30      1542    9       0       4260    101     0       0       0       721     722     296    \n"
      ]
     },
     "execution_count": 273,
     "metadata": {},
     "output_type": "execute_result"
    }
   ],
   "source": [
    "ej[price.bam.s"
   ]
  },
  {
   "cell_type": "code",
   "execution_count": null,
   "metadata": {},
   "outputs": [],
   "source": []
  },
  {
   "cell_type": "code",
   "execution_count": null,
   "metadata": {},
   "outputs": [],
   "source": []
  },
  {
   "cell_type": "code",
   "execution_count": 243,
   "metadata": {},
   "outputs": [],
   "source": [
    ".engine.model.orderbook.Update[flip .bam.scl]"
   ]
  },
  {
   "cell_type": "code",
   "execution_count": 238,
   "metadata": {},
   "outputs": [],
   "source": []
  },
  {
   "cell_type": "code",
   "execution_count": null,
   "metadata": {},
   "outputs": [],
   "source": [
    "parse\"delete from o where qt\""
   ]
  },
  {
   "cell_type": "code",
   "execution_count": 214,
   "metadata": {},
   "outputs": [
    {
     "ename": "\u001b[0;31mparse error\u001b[0m",
     "evalue": "\u001b[0;31massign\u001b[0m",
     "output_type": "error",
     "traceback": [
      "\u001b[0;31mparse error\u001b[0m",
      "\u001b[0;31massign\u001b[0m"
     ]
    }
   ],
   "source": [
    "parse[`.engine.model.orderbook.Orderbook],:(1000;1;100;100;100;100)"
   ]
  },
  {
   "cell_type": "code",
   "execution_count": 229,
   "metadata": {},
   "outputs": [
    {
     "data": {
      "text/plain": [
       "`.engine.model.orderbook.Orderbook\n"
      ]
     },
     "execution_count": 229,
     "metadata": {},
     "output_type": "execute_result"
    }
   ],
   "source": [
    "`.engine.model.orderbook.Orderbook upsert (1000;1;100;100;100;100)"
   ]
  },
  {
   "cell_type": "code",
   "execution_count": 220,
   "metadata": {},
   "outputs": [
    {
     "data": {
      "text/plain": [
       "price| side qty hqty iqty vqty\n",
       "-----| -----------------------\n",
       "1000 | 1    100 100  100  100 \n"
      ]
     },
     "execution_count": 220,
     "metadata": {},
     "output_type": "execute_result"
    }
   ],
   "source": [
    ".engine.model.orderbook.Orderbook"
   ]
  },
  {
   "cell_type": "code",
   "execution_count": null,
   "metadata": {},
   "outputs": [],
   "source": []
  },
  {
   "cell_type": "code",
   "execution_count": null,
   "metadata": {},
   "outputs": [],
   "source": []
  },
  {
   "cell_type": "code",
   "execution_count": null,
   "metadata": {},
   "outputs": [],
   "source": []
  },
  {
   "cell_type": "code",
   "execution_count": null,
   "metadata": {},
   "outputs": [],
   "source": []
  },
  {
   "cell_type": "code",
   "execution_count": null,
   "metadata": {},
   "outputs": [],
   "source": []
  },
  {
   "cell_type": "code",
   "execution_count": null,
   "metadata": {},
   "outputs": [],
   "source": []
  },
  {
   "cell_type": "code",
   "execution_count": null,
   "metadata": {},
   "outputs": [],
   "source": []
  },
  {
   "cell_type": "code",
   "execution_count": null,
   "metadata": {},
   "outputs": [],
   "source": []
  },
  {
   "cell_type": "code",
   "execution_count": null,
   "metadata": {},
   "outputs": [],
   "source": []
  },
  {
   "cell_type": "code",
   "execution_count": null,
   "metadata": {},
   "outputs": [],
   "source": []
  },
  {
   "cell_type": "code",
   "execution_count": null,
   "metadata": {},
   "outputs": [],
   "source": []
  },
  {
   "cell_type": "code",
   "execution_count": null,
   "metadata": {},
   "outputs": [],
   "source": []
  },
  {
   "cell_type": "code",
   "execution_count": null,
   "metadata": {},
   "outputs": [],
   "source": []
  },
  {
   "cell_type": "code",
   "execution_count": null,
   "metadata": {},
   "outputs": [],
   "source": []
  },
  {
   "cell_type": "code",
   "execution_count": null,
   "metadata": {},
   "outputs": [],
   "source": []
  },
  {
   "cell_type": "code",
   "execution_count": null,
   "metadata": {},
   "outputs": [],
   "source": []
  },
  {
   "cell_type": "code",
   "execution_count": null,
   "metadata": {},
   "outputs": [],
   "source": []
  },
  {
   "cell_type": "code",
   "execution_count": null,
   "metadata": {},
   "outputs": [],
   "source": []
  },
  {
   "cell_type": "code",
   "execution_count": null,
   "metadata": {},
   "outputs": [],
   "source": []
  },
  {
   "cell_type": "code",
   "execution_count": null,
   "metadata": {},
   "outputs": [],
   "source": []
  },
  {
   "cell_type": "code",
   "execution_count": null,
   "metadata": {},
   "outputs": [],
   "source": []
  },
  {
   "cell_type": "code",
   "execution_count": null,
   "metadata": {},
   "outputs": [],
   "source": []
  },
  {
   "cell_type": "code",
   "execution_count": null,
   "metadata": {},
   "outputs": [],
   "source": []
  },
  {
   "cell_type": "code",
   "execution_count": null,
   "metadata": {},
   "outputs": [],
   "source": []
  },
  {
   "cell_type": "code",
   "execution_count": null,
   "metadata": {},
   "outputs": [],
   "source": []
  },
  {
   "cell_type": "code",
   "execution_count": null,
   "metadata": {},
   "outputs": [],
   "source": []
  },
  {
   "cell_type": "code",
   "execution_count": null,
   "metadata": {},
   "outputs": [],
   "source": []
  },
  {
   "cell_type": "code",
   "execution_count": null,
   "metadata": {},
   "outputs": [],
   "source": []
  }
 ],
 "metadata": {
  "kernelspec": {
   "display_name": "Q (kdb+)",
   "language": "q",
   "name": "qpk"
  },
  "language_info": {
   "file_extension": ".q",
   "mimetype": "text/x-q",
   "name": "q",
   "version": "4.0"
  }
 },
 "nbformat": 4,
 "nbformat_minor": 4
}
