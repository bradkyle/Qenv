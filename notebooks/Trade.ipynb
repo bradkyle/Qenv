{
 "cells": [
  {
   "cell_type": "code",
   "execution_count": 987,
   "metadata": {},
   "outputs": [
    {
     "data": {
      "text/plain": [
       "price| side qty hqty iqty vqty\n",
       "-----| -----------------------\n"
      ]
     },
     "execution_count": 987,
     "metadata": {},
     "output_type": "execute_result"
    }
   ],
   "source": [
    ".engine.model.orderbook.Get[enlist(in;`price;1999)]"
   ]
  },
  {
   "cell_type": "code",
   "execution_count": null,
   "metadata": {},
   "outputs": [],
   "source": []
  },
  {
   "cell_type": "code",
   "execution_count": 1004,
   "metadata": {},
   "outputs": [],
   "source": [
    "\\cd /home/qenv\n",
    "\\c 5000 5000\n",
    "\\l /home/qenv/init.q"
   ]
  },
  {
   "cell_type": "code",
   "execution_count": 1005,
   "metadata": {},
   "outputs": [],
   "source": [
    "\\l /home/qenv/ingest/client.q"
   ]
  },
  {
   "cell_type": "code",
   "execution_count": 1006,
   "metadata": {},
   "outputs": [
    {
     "name": "stdout",
     "output_type": "stream",
     "text": [
      "\"type\"\n",
      "\"mismatch\"\n"
     ]
    },
    {
     "name": "stderr",
     "output_type": "stream",
     "text": [
      "ERROR\t[2020.12.07D04:36:32.082638000]:H=a8433e047805:PID[129]:2020.12.07:04:36:32.082:jupyterq_server.q:   [17] /home/qenv/engine/model/common.q:7: .engine.model.common.Update:{[tbl;val]\n",
      " tbl upsert val;\n",
      "     ^\n",
      " }\n",
      "  [16] /home/qenv/engine/logic/orderbook.q:25: .engine.logic.orderbook.Level:\n",
      "                        cl:`price`side`qty;\n",
      "                        .engine.model.orderbook.Update[flip cl!crs[cl]];\n",
      "                        ^\n",
      "                        .engine.Emit[`depth]'[last'[crs`time];flip crs[cl]];\n",
      "  [15] /home/qenv/engine/engine.q:40: .engine.publicWrapper:\n",
      "    i:?[`.engine.model.instrument.Instrument;enlist(=;`iId;0);();()];\n",
      "    x[y`time;i;y`datum]}\n",
      "    ^\n",
      "  [14] (.Q.trp)\n",
      "\n",
      "  [13] /home/qenv/engine/engine.q:68: .engine.multiplex:{.Q.trp[.engine.map[first x[`kind]];x;{show x;ERROR .Q.sbt[y]}]}\n",
      "                                                         ^\n",
      "  [12] /home/qenv/engine/engine.q:79: .engine.process:\n",
      "            $[count[distinct[x`kind]]>1;\n",
      "                .engine.multiplex'[0!(`f xgroup update f:{sums((<>) prior x)}kind from `time xasc x)];\n",
      "                                 ^\n",
      "                .engine.multiplex[first 0!(`f xgroup update f:first'[kind] from x)]];\n",
      "  [11] /home/qenv/engine/engine.q:97: .engine.Advance:\n",
      "      .engine.ingress.Events:events;::];\n",
      "    .engine.process[.engine.GetIngressEvents[.engine.watermark;`second$5;950]];\n",
      "    ^\n",
      "    .engine.GetEgressEvents[.engine.watermark;`second$5;950]\n",
      "  [10] /home/qenv/engine/engine.q:187: .engine.Reset:\n",
      "    // TODO recreate all models etc to config\n",
      "    .engine.Advance[events]\n",
      "    ^\n",
      "    }\n",
      "  [9]  /home/qenv/env.q:49: .env.Reset:\n",
      "    xevents: .ingest.Reset[];\n",
      "    nevents: .engine.Reset[aIds;xevents];\n",
      "             ^\n",
      "\n",
      "  [8]  .env.Reset[til 2]\n",
      "       ^\n",
      "  [7]  (.Q.trp)\n",
      "\n",
      "  [6]  /home/kx/.conda/envs/kx/q/jupyterq_execution.q:39: {krnsnd[`.qpk.srvres].Q.trp[(0;)@\"q\"@;x;ef]}\n",
      "                                                                               ^\n",
      "  [5]  /home/kx/.conda/envs/kx/q/jupyterq_execution.q:36: .qpk.l@:k){x y}\n",
      "                                                                     ^\n",
      "  [4]  /home/kx/.conda/envs/kx/q/jupyterq_execution.q:36: .qpk.l:k){r@&~(::)~'r:y{x y}'\"\\n\"/:'x(&|1^\\|0N 0 1\"/ \"?*:'x[i],'\"/\")_i:&~|':(b?-1)#b:+\\-/(x:$[@x;`\\:;]x)~\\:/:+,\"/\\\\\"}\n",
      "                                                                                      ^\n",
      "  [3]  (.Q.trp)\n",
      "\n",
      "  [2]  /home/kx/.conda/envs/kx/q/jupyterq_execution.q:38: .qpk.trp:{.Q.trp[(0;)@ev@;` vs x;ef]}\n",
      "                                                                    ^\n",
      "  [1]  /home/kx/.conda/envs/kx/q/jupyterq_execution.q:55: .qpk.h.execute:\n",
      " mcn:u 1; / updated commands if any\n",
      " err:first res:trp mcn .`content`code;\n",
      "               ^\n",
      " if[not[err]and mcn .`content`store_history;exn+:1];\n",
      "  [0]  /home/kx/.conda/envs/kx/q/jupyterq_server.q:53: .qpk.execmsg:{[f;z;s;mc]setstate[f;z;s;mc];                 / handle a request from kernel, only handle locally if not a remote request\n",
      " if[not remote[f;z;s;mc];df[h;f][z;s]mc]}\n",
      "                         ^\n",
      "\r\n",
      "ERROR\t[2020.12.07D04:36:32.083057000]:H=a8433e047805:PID[129]:2020.12.07:04:36:32.083:jupyterq_server.q:   [17] /home/qenv/engine/model/common.q:7: .engine.model.common.Update:{[tbl;val]\n",
      " tbl upsert val;\n",
      "     ^\n",
      " }\n",
      "  [16] /home/qenv/engine/logic/instrument.q:92: .engine.logic.instrument.PriceLimit:\n",
      "\n",
      " \t\t\t.engine.model.instrument.Update i;\n",
      " \t\t\t^\n",
      " \t\t\t.engine.Emit[`pricelimit;t;x];\n",
      "  [15] /home/qenv/engine/engine.q:40: .engine.publicWrapper:\n",
      "    i:?[`.engine.model.instrument.Instrument;enlist(=;`iId;0);();()];\n",
      "    x[y`time;i;y`datum]}\n",
      "    ^\n",
      "  [14] (.Q.trp)\n",
      "\n",
      "  [13] /home/qenv/engine/engine.q:68: .engine.multiplex:{.Q.trp[.engine.map[first x[`kind]];x;{show x;ERROR .Q.sbt[y]}]}\n",
      "                                                         ^\n",
      "  [12] /home/qenv/engine/engine.q:79: .engine.process:\n",
      "            $[count[distinct[x`kind]]>1;\n",
      "                .engine.multiplex'[0!(`f xgroup update f:{sums((<>) prior x)}kind from `time xasc x)];\n",
      "                                 ^\n",
      "                .engine.multiplex[first 0!(`f xgroup update f:first'[kind] from x)]];\n",
      "  [11] /home/qenv/engine/engine.q:97: .engine.Advance:\n",
      "      .engine.ingress.Events:events;::];\n",
      "    .engine.process[.engine.GetIngressEvents[.engine.watermark;`second$5;950]];\n",
      "    ^\n",
      "    .engine.GetEgressEvents[.engine.watermark;`second$5;950]\n",
      "  [10] /home/qenv/engine/engine.q:187: .engine.Reset:\n",
      "    // TODO recreate all models etc to config\n",
      "    .engine.Advance[events]\n",
      "    ^\n",
      "    }\n",
      "  [9]  /home/qenv/env.q:49: .env.Reset:\n",
      "    xevents: .ingest.Reset[];\n",
      "    nevents: .engine.Reset[aIds;xevents];\n",
      "             ^\n",
      "\n",
      "  [8]  .env.Reset[til 2]\n",
      "       ^\n",
      "  [7]  (.Q.trp)\n",
      "\n",
      "  [6]  /home/kx/.conda/envs/kx/q/jupyterq_execution.q:39: {krnsnd[`.qpk.srvres].Q.trp[(0;)@\"q\"@;x;ef]}\n",
      "                                                                               ^\n",
      "  [5]  /home/kx/.conda/envs/kx/q/jupyterq_execution.q:36: .qpk.l@:k){x y}\n",
      "                                                                     ^\n",
      "  [4]  /home/kx/.conda/envs/kx/q/jupyterq_execution.q:36: .qpk.l:k){r@&~(::)~'r:y{x y}'\"\\n\"/:'x(&|1^\\|0N 0 1\"/ \"?*:'x[i],'\"/\")_i:&~|':(b?-1)#b:+\\-/(x:$[@x;`\\:;]x)~\\:/:+,\"/\\\\\"}\n",
      "                                                                                      ^\n",
      "  [3]  (.Q.trp)\n",
      "\n",
      "  [2]  /home/kx/.conda/envs/kx/q/jupyterq_execution.q:38: .qpk.trp:{.Q.trp[(0;)@ev@;` vs x;ef]}\n",
      "                                                                    ^\n",
      "  [1]  /home/kx/.conda/envs/kx/q/jupyterq_execution.q:55: .qpk.h.execute:\n",
      " mcn:u 1; / updated commands if any\n",
      " err:first res:trp mcn .`content`code;\n",
      "               ^\n",
      " if[not[err]and mcn .`content`store_history;exn+:1];\n",
      "  [0]  /home/kx/.conda/envs/kx/q/jupyterq_server.q:53: .qpk.execmsg:{[f;z;s;mc]setstate[f;z;s;mc];                 / handle a request from kernel, only handle locally if not a remote request\n",
      " if[not remote[f;z;s;mc];df[h;f][z;s]mc]}\n",
      "                         ^\n",
      "\r\n"
     ]
    },
    {
     "name": "stdout",
     "output_type": "stream",
     "text": [
      "\"type\"\n",
      "\"mismatch\"\n"
     ]
    },
    {
     "name": "stderr",
     "output_type": "stream",
     "text": [
      "ERROR\t[2020.12.07D04:36:32.083754000]:H=a8433e047805:PID[129]:2020.12.07:04:36:32.083:jupyterq_server.q:   [17] /home/qenv/engine/model/common.q:7: .engine.model.common.Update:{[tbl;val]\n",
      " tbl upsert val;\n",
      "     ^\n",
      " }\n",
      "  [16] /home/qenv/engine/logic/orderbook.q:25: .engine.logic.orderbook.Level:\n",
      "                        cl:`price`side`qty;\n",
      "                        .engine.model.orderbook.Update[flip cl!crs[cl]];\n",
      "                        ^\n",
      "                        .engine.Emit[`depth]'[last'[crs`time];flip crs[cl]];\n",
      "  [15] /home/qenv/engine/engine.q:40: .engine.publicWrapper:\n",
      "    i:?[`.engine.model.instrument.Instrument;enlist(=;`iId;0);();()];\n",
      "    x[y`time;i;y`datum]}\n",
      "    ^\n",
      "  [14] (.Q.trp)\n",
      "\n",
      "  [13] /home/qenv/engine/engine.q:68: .engine.multiplex:{.Q.trp[.engine.map[first x[`kind]];x;{show x;ERROR .Q.sbt[y]}]}\n",
      "                                                         ^\n",
      "  [12] /home/qenv/engine/engine.q:79: .engine.process:\n",
      "            $[count[distinct[x`kind]]>1;\n",
      "                .engine.multiplex'[0!(`f xgroup update f:{sums((<>) prior x)}kind from `time xasc x)];\n",
      "                                 ^\n",
      "                .engine.multiplex[first 0!(`f xgroup update f:first'[kind] from x)]];\n",
      "  [11] /home/qenv/engine/engine.q:97: .engine.Advance:\n",
      "      .engine.ingress.Events:events;::];\n",
      "    .engine.process[.engine.GetIngressEvents[.engine.watermark;`second$5;950]];\n",
      "    ^\n",
      "    .engine.GetEgressEvents[.engine.watermark;`second$5;950]\n",
      "  [10] /home/qenv/engine/engine.q:187: .engine.Reset:\n",
      "    // TODO recreate all models etc to config\n",
      "    .engine.Advance[events]\n",
      "    ^\n",
      "    }\n",
      "  [9]  /home/qenv/env.q:49: .env.Reset:\n",
      "    xevents: .ingest.Reset[];\n",
      "    nevents: .engine.Reset[aIds;xevents];\n",
      "             ^\n",
      "\n",
      "  [8]  .env.Reset[til 2]\n",
      "       ^\n",
      "  [7]  (.Q.trp)\n",
      "\n",
      "  [6]  /home/kx/.conda/envs/kx/q/jupyterq_execution.q:39: {krnsnd[`.qpk.srvres].Q.trp[(0;)@\"q\"@;x;ef]}\n",
      "                                                                               ^\n",
      "  [5]  /home/kx/.conda/envs/kx/q/jupyterq_execution.q:36: .qpk.l@:k){x y}\n",
      "                                                                     ^\n",
      "  [4]  /home/kx/.conda/envs/kx/q/jupyterq_execution.q:36: .qpk.l:k){r@&~(::)~'r:y{x y}'\"\\n\"/:'x(&|1^\\|0N 0 1\"/ \"?*:'x[i],'\"/\")_i:&~|':(b?-1)#b:+\\-/(x:$[@x;`\\:;]x)~\\:/:+,\"/\\\\\"}\n",
      "                                                                                      ^\n",
      "  [3]  (.Q.trp)\n",
      "\n",
      "  [2]  /home/kx/.conda/envs/kx/q/jupyterq_execution.q:38: .qpk.trp:{.Q.trp[(0;)@ev@;` vs x;ef]}\n",
      "                                                                    ^\n",
      "  [1]  /home/kx/.conda/envs/kx/q/jupyterq_execution.q:55: .qpk.h.execute:\n",
      " mcn:u 1; / updated commands if any\n",
      " err:first res:trp mcn .`content`code;\n",
      "               ^\n",
      " if[not[err]and mcn .`content`store_history;exn+:1];\n",
      "  [0]  /home/kx/.conda/envs/kx/q/jupyterq_server.q:53: .qpk.execmsg:{[f;z;s;mc]setstate[f;z;s;mc];                 / handle a request from kernel, only handle locally if not a remote request\n",
      " if[not remote[f;z;s;mc];df[h;f][z;s]mc]}\n",
      "                         ^\n",
      "\r\n",
      "ERROR\t[2020.12.07D04:36:32.084122000]:H=a8433e047805:PID[129]:2020.12.07:04:36:32.084:jupyterq_server.q:   [17] /home/qenv/engine/model/common.q:7: .engine.model.common.Update:{[tbl;val]\n",
      " tbl upsert val;\n",
      "     ^\n",
      " }\n",
      "  [16] /home/qenv/engine/logic/instrument.q:92: .engine.logic.instrument.PriceLimit:\n",
      "\n",
      " \t\t\t.engine.model.instrument.Update i;\n",
      " \t\t\t^\n",
      " \t\t\t.engine.Emit[`pricelimit;t;x];\n",
      "  [15] /home/qenv/engine/engine.q:40: .engine.publicWrapper:\n",
      "    i:?[`.engine.model.instrument.Instrument;enlist(=;`iId;0);();()];\n",
      "    x[y`time;i;y`datum]}\n",
      "    ^\n",
      "  [14] (.Q.trp)\n",
      "\n",
      "  [13] /home/qenv/engine/engine.q:68: .engine.multiplex:{.Q.trp[.engine.map[first x[`kind]];x;{show x;ERROR .Q.sbt[y]}]}\n",
      "                                                         ^\n",
      "  [12] /home/qenv/engine/engine.q:79: .engine.process:\n",
      "            $[count[distinct[x`kind]]>1;\n",
      "                .engine.multiplex'[0!(`f xgroup update f:{sums((<>) prior x)}kind from `time xasc x)];\n",
      "                                 ^\n",
      "                .engine.multiplex[first 0!(`f xgroup update f:first'[kind] from x)]];\n",
      "  [11] /home/qenv/engine/engine.q:97: .engine.Advance:\n",
      "      .engine.ingress.Events:events;::];\n",
      "    .engine.process[.engine.GetIngressEvents[.engine.watermark;`second$5;950]];\n",
      "    ^\n",
      "    .engine.GetEgressEvents[.engine.watermark;`second$5;950]\n",
      "  [10] /home/qenv/engine/engine.q:187: .engine.Reset:\n",
      "    // TODO recreate all models etc to config\n",
      "    .engine.Advance[events]\n",
      "    ^\n",
      "    }\n",
      "  [9]  /home/qenv/env.q:49: .env.Reset:\n",
      "    xevents: .ingest.Reset[];\n",
      "    nevents: .engine.Reset[aIds;xevents];\n",
      "             ^\n",
      "\n",
      "  [8]  .env.Reset[til 2]\n",
      "       ^\n",
      "  [7]  (.Q.trp)\n",
      "\n",
      "  [6]  /home/kx/.conda/envs/kx/q/jupyterq_execution.q:39: {krnsnd[`.qpk.srvres].Q.trp[(0;)@\"q\"@;x;ef]}\n",
      "                                                                               ^\n",
      "  [5]  /home/kx/.conda/envs/kx/q/jupyterq_execution.q:36: .qpk.l@:k){x y}\n",
      "                                                                     ^\n",
      "  [4]  /home/kx/.conda/envs/kx/q/jupyterq_execution.q:36: .qpk.l:k){r@&~(::)~'r:y{x y}'\"\\n\"/:'x(&|1^\\|0N 0 1\"/ \"?*:'x[i],'\"/\")_i:&~|':(b?-1)#b:+\\-/(x:$[@x;`\\:;]x)~\\:/:+,\"/\\\\\"}\n",
      "                                                                                      ^\n",
      "  [3]  (.Q.trp)\n",
      "\n",
      "  [2]  /home/kx/.conda/envs/kx/q/jupyterq_execution.q:38: .qpk.trp:{.Q.trp[(0;)@ev@;` vs x;ef]}\n",
      "                                                                    ^\n",
      "  [1]  /home/kx/.conda/envs/kx/q/jupyterq_execution.q:55: .qpk.h.execute:\n",
      " mcn:u 1; / updated commands if any\n",
      " err:first res:trp mcn .`content`code;\n",
      "               ^\n",
      " if[not[err]and mcn .`content`store_history;exn+:1];\n",
      "  [0]  /home/kx/.conda/envs/kx/q/jupyterq_server.q:53: .qpk.execmsg:{[f;z;s;mc]setstate[f;z;s;mc];                 / handle a request from kernel, only handle locally if not a remote request\n",
      " if[not remote[f;z;s;mc];df[h;f][z;s]mc]}\n",
      "                         ^\n",
      "\r\n",
      "ERROR\t[2020.12.07D04:36:32.084722000]:H=a8433e047805:PID[129]:2020.12.07:04:36:32.084:jupyterq_server.q:   [17] /home/qenv/engine/model/common.q:7: .engine.model.common.Update:{[tbl;val]\n",
      " tbl upsert val;\n",
      "     ^\n",
      " }\n",
      "  [16] /home/qenv/engine/logic/orderbook.q:25: .engine.logic.orderbook.Level:\n",
      "                        cl:`price`side`qty;\n",
      "                        .engine.model.orderbook.Update[flip cl!crs[cl]];\n",
      "                        ^\n",
      "                        .engine.Emit[`depth]'[last'[crs`time];flip crs[cl]];\n",
      "  [15] /home/qenv/engine/engine.q:40: .engine.publicWrapper:\n",
      "    i:?[`.engine.model.instrument.Instrument;enlist(=;`iId;0);();()];\n",
      "    x[y`time;i;y`datum]}\n",
      "    ^\n",
      "  [14] (.Q.trp)\n",
      "\n",
      "  [13] /home/qenv/engine/engine.q:68: .engine.multiplex:{.Q.trp[.engine.map[first x[`kind]];x;{show x;ERROR .Q.sbt[y]}]}\n",
      "                                                         ^\n",
      "  [12] /home/qenv/engine/engine.q:79: .engine.process:\n",
      "            $[count[distinct[x`kind]]>1;\n",
      "                .engine.multiplex'[0!(`f xgroup update f:{sums((<>) prior x)}kind from `time xasc x)];\n",
      "                                 ^\n",
      "                .engine.multiplex[first 0!(`f xgroup update f:first'[kind] from x)]];\n",
      "  [11] /home/qenv/engine/engine.q:97: .engine.Advance:\n",
      "      .engine.ingress.Events:events;::];\n",
      "    .engine.process[.engine.GetIngressEvents[.engine.watermark;`second$5;950]];\n",
      "    ^\n",
      "    .engine.GetEgressEvents[.engine.watermark;`second$5;950]\n",
      "  [10] /home/qenv/engine/engine.q:187: .engine.Reset:\n",
      "    // TODO recreate all models etc to config\n",
      "    .engine.Advance[events]\n",
      "    ^\n",
      "    }\n",
      "  [9]  /home/qenv/env.q:49: .env.Reset:\n",
      "    xevents: .ingest.Reset[];\n",
      "    nevents: .engine.Reset[aIds;xevents];\n",
      "             ^\n",
      "\n",
      "  [8]  .env.Reset[til 2]\n",
      "       ^\n",
      "  [7]  (.Q.trp)\n",
      "\n",
      "  [6]  /home/kx/.conda/envs/kx/q/jupyterq_execution.q:39: {krnsnd[`.qpk.srvres].Q.trp[(0;)@\"q\"@;x;ef]}\n",
      "                                                                               ^\n",
      "  [5]  /home/kx/.conda/envs/kx/q/jupyterq_execution.q:36: .qpk.l@:k){x y}\n",
      "                                                                     ^\n",
      "  [4]  /home/kx/.conda/envs/kx/q/jupyterq_execution.q:36: .qpk.l:k){r@&~(::)~'r:y{x y}'\"\\n\"/:'x(&|1^\\|0N 0 1\"/ \"?*:'x[i],'\"/\")_i:&~|':(b?-1)#b:+\\-/(x:$[@x;`\\:;]x)~\\:/:+,\"/\\\\\"}\n",
      "                                                                                      ^\n",
      "  [3]  (.Q.trp)\n",
      "\n",
      "  [2]  /home/kx/.conda/envs/kx/q/jupyterq_execution.q:38: .qpk.trp:{.Q.trp[(0;)@ev@;` vs x;ef]}\n",
      "                                                                    ^\n",
      "  [1]  /home/kx/.conda/envs/kx/q/jupyterq_execution.q:55: .qpk.h.execute:\n",
      " mcn:u 1; / updated commands if any\n",
      " err:first res:trp mcn .`content`code;\n",
      "               ^\n",
      " if[not[err]and mcn .`content`store_history;exn+:1];\n",
      "  [0]  /home/kx/.conda/envs/kx/q/jupyterq_server.q:53: .qpk.execmsg:{[f;z;s;mc]setstate[f;z;s;mc];                 / handle a request from kernel, only handle locally if not a remote request\n",
      " if[not remote[f;z;s;mc];df[h;f][z;s]mc]}\n",
      "                         ^\n",
      "\r\n"
     ]
    },
    {
     "name": "stdout",
     "output_type": "stream",
     "text": [
      "\"type\"\n",
      "\"length\"\n",
      "0 1\n"
     ]
    },
    {
     "data": {
      "text/plain": [
       "accountId| balance available frozen maintMargin 1_amt -1_amt 1_realizedPnl -1_realizedPnl 1_avgPrice -1_avgPrice 1_unrealizedPnl -1_unrealizedPnl 0_-1_0_leaves 1_-1_0_leaves 2_-1_0_leaves 3_-1_0_leaves 4_-1_0_leaves 5_-1_0_leaves 6_-1_0_leaves 7_-1_0_leaves 8_-1_0_leaves 9_-1_0_leaves 10_-1_0_leaves 0_1_0_leaves 1_1_0_leaves 2_1_0_leaves 3_1_0_leaves 4_1_0_leaves 5_1_0_leaves 6_1_0_leaves 7_1_0_leaves 8_1_0_leaves 9_1_0_leaves 10_1_0_leaves 0_-1_1_leaves 1_-1_1_leaves 2_-1_1_leaves 3_-1_1_leaves 4_-1_1_leaves 5_-1_1_leaves 6_-1_1_leaves 7_-1_1_leaves 8_-1_1_leaves 9_-1_1_leaves 10_-1_1_leaves 0_1_1_leaves 1_1_1_leaves 2_1_1_leaves 3_1_1_leaves 4_1_1_leaves 5_1_1_leaves 6_1_1_leaves 7_1_1_leaves 8_1_1_leaves 9_1_1_leaves 10_1_1_leaves 0 1 2 3 4 5 6 7 8 9 10 11 12 13 14 15 16 17 18 19 20 21 22 23 24 25 26 27 28            29            30            31            32           33           34           35           36 37 38 39 40 41            42            43            44            45           46           47           48           49 50 51 52 53 54            55            56            57            58           59           60           61           62 63 64 65 66 67 68            69            70            71            72           73           74           75           76 77 78 79 80 81      \n",
       "---------| --------------------------------------------------------------------------------------------------------------------------------------------------------------------------------------------------------------------------------------------------------------------------------------------------------------------------------------------------------------------------------------------------------------------------------------------------------------------------------------------------------------------------------------------------------------------------------------------------------------------------------------------------------------------------------------------------------------------------------------------------------------------------------------------------------------------------------------------------------------------------------------------------------------------------------------------------------------------------------------------------------------------------------------------------------------------------------------------------------------------------------------------------------------------------------------------------------------------------------------------------------------------------------------------------------------------------------------------------------------\n",
       "0        | 9       1         0      0           0     0      0             0              0          0           0               0                0             0             0             0             0             0             0             0             0             0             0              0            0            0            0            0            0            0            0            0            0            0             0             0             0             0             0             0             0             0             0             0             0              0            0            0            0            0            0            0            0            0            0            0             0 0 0 0 0 0 0 0 0 0 0  0  0  0  0  0  0  0  0  0  0  0  0  0  0  0  0  0  -9.223372e+18 -9.223372e+18 -9.223372e+18 -9.223372e+18 9.223372e+18 9.223372e+18 9.223372e+18 9.223372e+18 0  0  0  0  0  -9.223372e+18 -9.223372e+18 -9.223372e+18 -9.223372e+18 9.223372e+18 9.223372e+18 9.223372e+18 9.223372e+18 0  0  0  0  0  -9.223372e+18 -9.223372e+18 -9.223372e+18 -9.223372e+18 9.223372e+18 9.223372e+18 9.223372e+18 9.223372e+18 0  0  0  0  0  0  -9.223372e+18 -9.223372e+18 -9.223372e+18 -9.223372e+18 9.223372e+18 9.223372e+18 9.223372e+18 9.223372e+18 0  0  0  0  0  7646.192\n",
       "1        | 0       9         0      0           0     0      0             0              0          0           0               0                0             0             0             0             0             0             0             0             0             0             0              0            0            0            0            0            0            0            0            0            0            0             0             0             0             0             0             0             0             0             0             0             0              0            0            0            0            0            0            0            0            0            0            0             0 0 0 0 0 0 0 0 0 0 0  0  0  0  0  0  0  0  0  0  0  0  0  0  0  0  0  0  -9.223372e+18 -9.223372e+18 -9.223372e+18 -9.223372e+18 9.223372e+18 9.223372e+18 9.223372e+18 9.223372e+18 0  0  0  0  0  -9.223372e+18 -9.223372e+18 -9.223372e+18 -9.223372e+18 9.223372e+18 9.223372e+18 9.223372e+18 9.223372e+18 0  0  0  0  0  -9.223372e+18 -9.223372e+18 -9.223372e+18 -9.223372e+18 9.223372e+18 9.223372e+18 9.223372e+18 9.223372e+18 0  0  0  0  0  0  -9.223372e+18 -9.223372e+18 -9.223372e+18 -9.223372e+18 9.223372e+18 9.223372e+18 9.223372e+18 9.223372e+18 0  0  0  0  0  7646.192\n"
      ]
     },
     "execution_count": 1006,
     "metadata": {},
     "output_type": "execute_result"
    }
   ],
   "source": [
    ".env.Reset[til 2]"
   ]
  },
  {
   "cell_type": "code",
   "execution_count": 981,
   "metadata": {},
   "outputs": [],
   "source": [
    ".engine.Emit[`mark;first .bam.t;first .bam.x];"
   ]
  },
  {
   "cell_type": "code",
   "execution_count": 1003,
   "metadata": {},
   "outputs": [
    {
     "data": {
      "text/plain": [
       ",2020.11.11T07:00:04.903\n"
      ]
     },
     "execution_count": 1003,
     "metadata": {},
     "output_type": "execute_result"
    }
   ],
   "source": [
    ".bam.t"
   ]
  },
  {
   "cell_type": "code",
   "execution_count": 993,
   "metadata": {},
   "outputs": [
    {
     "data": {
      "text/plain": [
       ",1538250\n"
      ]
     },
     "execution_count": 993,
     "metadata": {},
     "output_type": "execute_result"
    }
   ],
   "source": [
    ".bam.x"
   ]
  },
  {
   "cell_type": "code",
   "execution_count": 965,
   "metadata": {},
   "outputs": [
    {
     "ename": "\u001b[0;31mmismatch\u001b[0m",
     "evalue": "\u001b[0;31mmismatch\u001b[0m",
     "output_type": "error",
     "traceback": [
      "\u001b[0;31mevaluation error:\n\u001b[0m",
      "\u001b[0;31mmismatch\u001b[0m",
      "\u001b[0;31m\u001b[0m",
      "\u001b[0;31m  [1]  /home/qenv/engine/model/common.q:7: .engine.model.common.Update:{[tbl;val]\n tbl upsert val;\n     ^\n }\n\u001b[0m",
      "\u001b[0;31m  [0]  .engine.model.instrument.Update .bam.i\n       ^\n\u001b[0m"
     ]
    }
   ],
   "source": [
    ".engine.model.instrument.Update .bam.i"
   ]
  },
  {
   "cell_type": "code",
   "execution_count": 969,
   "metadata": {},
   "outputs": [
    {
     "data": {
      "text/plain": [
       "iId      | -7\n",
       "cntTyp   | -7\n",
       "state    | -7\n",
       "faceValue| -7\n",
       "markPrice| -7\n",
       "plmts    | -7\n",
       "plmtb    | -7\n",
       "lotSize  | -7\n",
       "tickSize | -7\n",
       "mnSize   | -7\n",
       "mxSize   | -7\n",
       "mnPrice  | -7\n",
       "mxPrice  | -7\n",
       "bestBid  | -7\n",
       "bestAsk  | -7\n",
       "liqb     | -1\n",
       "liqs     | -1\n",
       "mkprice  | -7\n"
      ]
     },
     "execution_count": 969,
     "metadata": {},
     "output_type": "execute_result"
    }
   ],
   "source": [
    "type each .bam.i"
   ]
  },
  {
   "cell_type": "code",
   "execution_count": 968,
   "metadata": {},
   "outputs": [
    {
     "data": {
      "text/plain": [
       "cntTyp   | -7\n",
       "state    | -7\n",
       "faceValue| -7\n",
       "markPrice| -7\n",
       "plmts    | -7\n",
       "plmtb    | -7\n",
       "lotSize  | -7\n",
       "tickSize | -7\n",
       "mnSize   | -7\n",
       "mxSize   | -7\n",
       "mnPrice  | -7\n",
       "mxPrice  | -7\n",
       "bestBid  | -7\n",
       "bestAsk  | -7\n",
       "liqb     | -1\n",
       "liqs     | -1\n"
      ]
     },
     "execution_count": 968,
     "metadata": {},
     "output_type": "execute_result"
    }
   ],
   "source": [
    "type each first .engine.model.instrument.Instrument"
   ]
  },
  {
   "cell_type": "code",
   "execution_count": 1008,
   "metadata": {},
   "outputs": [
    {
     "name": "stdout",
     "output_type": "stream",
     "text": [
      "\"type\"\n",
      "\"mismatch\"\n"
     ]
    },
    {
     "name": "stderr",
     "output_type": "stream",
     "text": [
      "ERROR\t[2020.12.07D04:37:38.562562000]:H=a8433e047805:PID[129]:2020.12.07:04:37:38.562:jupyterq_server.q:   [16] /home/qenv/engine/model/common.q:7: .engine.model.common.Update:{[tbl;val]\n",
      " tbl upsert val;\n",
      "     ^\n",
      " }\n",
      "  [15] /home/qenv/engine/logic/orderbook.q:25: .engine.logic.orderbook.Level:\n",
      "                        cl:`price`side`qty;\n",
      "                        .engine.model.orderbook.Update[flip cl!crs[cl]];\n",
      "                        ^\n",
      "                        .engine.Emit[`depth]'[last'[crs`time];flip crs[cl]];\n",
      "  [14] /home/qenv/engine/engine.q:40: .engine.publicWrapper:\n",
      "    i:?[`.engine.model.instrument.Instrument;enlist(=;`iId;0);();()];\n",
      "    x[y`time;i;y`datum]}\n",
      "    ^\n",
      "  [13] (.Q.trp)\n",
      "\n",
      "  [12] /home/qenv/engine/engine.q:68: .engine.multiplex:{.Q.trp[.engine.map[first x[`kind]];x;{show x;ERROR .Q.sbt[y]}]}\n",
      "                                                         ^\n",
      "  [11] /home/qenv/engine/engine.q:79: .engine.process:\n",
      "            $[count[distinct[x`kind]]>1;\n",
      "                .engine.multiplex'[0!(`f xgroup update f:{sums((<>) prior x)}kind from `time xasc x)];\n",
      "                                 ^\n",
      "                .engine.multiplex[first 0!(`f xgroup update f:first'[kind] from x)]];\n",
      "  [10] /home/qenv/engine/engine.q:97: .engine.Advance:\n",
      "      .engine.ingress.Events:events;::];\n",
      "    .engine.process[.engine.GetIngressEvents[.engine.watermark;`second$5;950]];\n",
      "    ^\n",
      "    .engine.GetEgressEvents[.engine.watermark;`second$5;950]\n",
      "  [9]  /home/qenv/env.q:128: .env.Step:\n",
      "    // them to the engine for further processing.\n",
      "    nevents:.engine.Advance[xevents];\n",
      "            ^\n",
      "\n",
      "  [8]  .env.Step[((0;2);(1;3))]\n",
      "       ^\n",
      "  [7]  (.Q.trp)\n",
      "\n",
      "  [6]  /home/kx/.conda/envs/kx/q/jupyterq_execution.q:39: {krnsnd[`.qpk.srvres].Q.trp[(0;)@\"q\"@;x;ef]}\n",
      "                                                                               ^\n",
      "  [5]  /home/kx/.conda/envs/kx/q/jupyterq_execution.q:36: .qpk.l@:k){x y}\n",
      "                                                                     ^\n",
      "  [4]  /home/kx/.conda/envs/kx/q/jupyterq_execution.q:36: .qpk.l:k){r@&~(::)~'r:y{x y}'\"\\n\"/:'x(&|1^\\|0N 0 1\"/ \"?*:'x[i],'\"/\")_i:&~|':(b?-1)#b:+\\-/(x:$[@x;`\\:;]x)~\\:/:+,\"/\\\\\"}\n",
      "                                                                                      ^\n",
      "  [3]  (.Q.trp)\n",
      "\n",
      "  [2]  /home/kx/.conda/envs/kx/q/jupyterq_execution.q:38: .qpk.trp:{.Q.trp[(0;)@ev@;` vs x;ef]}\n",
      "                                                                    ^\n",
      "  [1]  /home/kx/.conda/envs/kx/q/jupyterq_execution.q:55: .qpk.h.execute:\n",
      " mcn:u 1; / updated commands if any\n",
      " err:first res:trp mcn .`content`code;\n",
      "               ^\n",
      " if[not[err]and mcn .`content`store_history;exn+:1];\n",
      "  [0]  /home/kx/.conda/envs/kx/q/jupyterq_server.q:53: .qpk.execmsg:{[f;z;s;mc]setstate[f;z;s;mc];                 / handle a request from kernel, only handle locally if not a remote request\n",
      " if[not remote[f;z;s;mc];df[h;f][z;s]mc]}\n",
      "                         ^\n",
      "\r\n",
      "ERROR\t[2020.12.07D04:37:38.562910000]:H=a8433e047805:PID[129]:2020.12.07:04:37:38.562:jupyterq_server.q:   [16] /home/qenv/engine/model/common.q:7: .engine.model.common.Update:{[tbl;val]\n",
      " tbl upsert val;\n",
      "     ^\n",
      " }\n",
      "  [15] /home/qenv/engine/logic/instrument.q:92: .engine.logic.instrument.PriceLimit:\n",
      "\n",
      " \t\t\t.engine.model.instrument.Update i;\n",
      " \t\t\t^\n",
      " \t\t\t.engine.Emit[`pricelimit;t;x];\n",
      "  [14] /home/qenv/engine/engine.q:40: .engine.publicWrapper:\n",
      "    i:?[`.engine.model.instrument.Instrument;enlist(=;`iId;0);();()];\n",
      "    x[y`time;i;y`datum]}\n",
      "    ^\n",
      "  [13] (.Q.trp)\n",
      "\n",
      "  [12] /home/qenv/engine/engine.q:68: .engine.multiplex:{.Q.trp[.engine.map[first x[`kind]];x;{show x;ERROR .Q.sbt[y]}]}\n",
      "                                                         ^\n",
      "  [11] /home/qenv/engine/engine.q:79: .engine.process:\n",
      "            $[count[distinct[x`kind]]>1;\n",
      "                .engine.multiplex'[0!(`f xgroup update f:{sums((<>) prior x)}kind from `time xasc x)];\n",
      "                                 ^\n",
      "                .engine.multiplex[first 0!(`f xgroup update f:first'[kind] from x)]];\n",
      "  [10] /home/qenv/engine/engine.q:97: .engine.Advance:\n",
      "      .engine.ingress.Events:events;::];\n",
      "    .engine.process[.engine.GetIngressEvents[.engine.watermark;`second$5;950]];\n",
      "    ^\n",
      "    .engine.GetEgressEvents[.engine.watermark;`second$5;950]\n",
      "  [9]  /home/qenv/env.q:128: .env.Step:\n",
      "    // them to the engine for further processing.\n",
      "    nevents:.engine.Advance[xevents];\n",
      "            ^\n",
      "\n",
      "  [8]  .env.Step[((0;2);(1;3))]\n",
      "       ^\n",
      "  [7]  (.Q.trp)\n",
      "\n",
      "  [6]  /home/kx/.conda/envs/kx/q/jupyterq_execution.q:39: {krnsnd[`.qpk.srvres].Q.trp[(0;)@\"q\"@;x;ef]}\n",
      "                                                                               ^\n",
      "  [5]  /home/kx/.conda/envs/kx/q/jupyterq_execution.q:36: .qpk.l@:k){x y}\n",
      "                                                                     ^\n",
      "  [4]  /home/kx/.conda/envs/kx/q/jupyterq_execution.q:36: .qpk.l:k){r@&~(::)~'r:y{x y}'\"\\n\"/:'x(&|1^\\|0N 0 1\"/ \"?*:'x[i],'\"/\")_i:&~|':(b?-1)#b:+\\-/(x:$[@x;`\\:;]x)~\\:/:+,\"/\\\\\"}\n",
      "                                                                                      ^\n",
      "  [3]  (.Q.trp)\n",
      "\n",
      "  [2]  /home/kx/.conda/envs/kx/q/jupyterq_execution.q:38: .qpk.trp:{.Q.trp[(0;)@ev@;` vs x;ef]}\n",
      "                                                                    ^\n",
      "  [1]  /home/kx/.conda/envs/kx/q/jupyterq_execution.q:55: .qpk.h.execute:\n",
      " mcn:u 1; / updated commands if any\n",
      " err:first res:trp mcn .`content`code;\n",
      "               ^\n",
      " if[not[err]and mcn .`content`store_history;exn+:1];\n",
      "  [0]  /home/kx/.conda/envs/kx/q/jupyterq_server.q:53: .qpk.execmsg:{[f;z;s;mc]setstate[f;z;s;mc];                 / handle a request from kernel, only handle locally if not a remote request\n",
      " if[not remote[f;z;s;mc];df[h;f][z;s]mc]}\n",
      "                         ^\n",
      "\r\n"
     ]
    },
    {
     "name": "stdout",
     "output_type": "stream",
     "text": [
      "\"type\"\n",
      "\"BAMBAMBAMBAMBAMBAMBAMBAMBAMBAMBAMBAMBAMBAMBAMBAMBAMBAMBAMBAMBAMBAMBAMBAMBAMBAMBAMBAMBAMBAM\"\n",
      "\"type\"\n"
     ]
    },
    {
     "name": "stderr",
     "output_type": "stream",
     "text": [
      "ERROR\t[2020.12.07D04:37:38.563477000]:H=a8433e047805:PID[129]:2020.12.07:04:37:38.563:jupyterq_server.q:   [16] /home/qenv/engine/model/common.q:7: .engine.model.common.Update:{[tbl;val]\n",
      " tbl upsert val;\n",
      "     ^\n",
      " }\n",
      "  [15] /home/qenv/engine/logic/orderbook.q:25: .engine.logic.orderbook.Level:\n",
      "                        cl:`price`side`qty;\n",
      "                        .engine.model.orderbook.Update[flip cl!crs[cl]];\n",
      "                        ^\n",
      "                        .engine.Emit[`depth]'[last'[crs`time];flip crs[cl]];\n",
      "  [14] /home/qenv/engine/engine.q:40: .engine.publicWrapper:\n",
      "    i:?[`.engine.model.instrument.Instrument;enlist(=;`iId;0);();()];\n",
      "    x[y`time;i;y`datum]}\n",
      "    ^\n",
      "  [13] (.Q.trp)\n",
      "\n",
      "  [12] /home/qenv/engine/engine.q:68: .engine.multiplex:{.Q.trp[.engine.map[first x[`kind]];x;{show x;ERROR .Q.sbt[y]}]}\n",
      "                                                         ^\n",
      "  [11] /home/qenv/engine/engine.q:79: .engine.process:\n",
      "            $[count[distinct[x`kind]]>1;\n",
      "                .engine.multiplex'[0!(`f xgroup update f:{sums((<>) prior x)}kind from `time xasc x)];\n",
      "                                 ^\n",
      "                .engine.multiplex[first 0!(`f xgroup update f:first'[kind] from x)]];\n",
      "  [10] /home/qenv/engine/engine.q:97: .engine.Advance:\n",
      "      .engine.ingress.Events:events;::];\n",
      "    .engine.process[.engine.GetIngressEvents[.engine.watermark;`second$5;950]];\n",
      "    ^\n",
      "    .engine.GetEgressEvents[.engine.watermark;`second$5;950]\n",
      "  [9]  /home/qenv/env.q:128: .env.Step:\n",
      "    // them to the engine for further processing.\n",
      "    nevents:.engine.Advance[xevents];\n",
      "            ^\n",
      "\n",
      "  [8]  .env.Step[((0;2);(1;3))]\n",
      "       ^\n",
      "  [7]  (.Q.trp)\n",
      "\n",
      "  [6]  /home/kx/.conda/envs/kx/q/jupyterq_execution.q:39: {krnsnd[`.qpk.srvres].Q.trp[(0;)@\"q\"@;x;ef]}\n",
      "                                                                               ^\n",
      "  [5]  /home/kx/.conda/envs/kx/q/jupyterq_execution.q:36: .qpk.l@:k){x y}\n",
      "                                                                     ^\n",
      "  [4]  /home/kx/.conda/envs/kx/q/jupyterq_execution.q:36: .qpk.l:k){r@&~(::)~'r:y{x y}'\"\\n\"/:'x(&|1^\\|0N 0 1\"/ \"?*:'x[i],'\"/\")_i:&~|':(b?-1)#b:+\\-/(x:$[@x;`\\:;]x)~\\:/:+,\"/\\\\\"}\n",
      "                                                                                      ^\n",
      "  [3]  (.Q.trp)\n",
      "\n",
      "  [2]  /home/kx/.conda/envs/kx/q/jupyterq_execution.q:38: .qpk.trp:{.Q.trp[(0;)@ev@;` vs x;ef]}\n",
      "                                                                    ^\n",
      "  [1]  /home/kx/.conda/envs/kx/q/jupyterq_execution.q:55: .qpk.h.execute:\n",
      " mcn:u 1; / updated commands if any\n",
      " err:first res:trp mcn .`content`code;\n",
      "               ^\n",
      " if[not[err]and mcn .`content`store_history;exn+:1];\n",
      "  [0]  /home/kx/.conda/envs/kx/q/jupyterq_server.q:53: .qpk.execmsg:{[f;z;s;mc]setstate[f;z;s;mc];                 / handle a request from kernel, only handle locally if not a remote request\n",
      " if[not remote[f;z;s;mc];df[h;f][z;s]mc]}\n",
      "                         ^\n",
      "\r\n",
      "ERROR\t[2020.12.07D04:37:38.564298000]:H=a8433e047805:PID[129]:2020.12.07:04:37:38.564:jupyterq_server.q:   [16] /home/qenv/engine/model/common.q:7: .engine.model.common.Update:{[tbl;val]\n",
      " tbl upsert val;\n",
      "     ^\n",
      " }\n",
      "  [15] /home/qenv/engine/logic/orderbook.q:25: .engine.logic.orderbook.Level:\n",
      "                        cl:`price`side`qty;\n",
      "                        .engine.model.orderbook.Update[flip cl!crs[cl]];\n",
      "                        ^\n",
      "                        .engine.Emit[`depth]'[last'[crs`time];flip crs[cl]];\n",
      "  [14] /home/qenv/engine/engine.q:40: .engine.publicWrapper:\n",
      "    i:?[`.engine.model.instrument.Instrument;enlist(=;`iId;0);();()];\n",
      "    x[y`time;i;y`datum]}\n",
      "    ^\n",
      "  [13] (.Q.trp)\n",
      "\n",
      "  [12] /home/qenv/engine/engine.q:68: .engine.multiplex:{.Q.trp[.engine.map[first x[`kind]];x;{show x;ERROR .Q.sbt[y]}]}\n",
      "                                                         ^\n",
      "  [11] /home/qenv/engine/engine.q:79: .engine.process:\n",
      "            $[count[distinct[x`kind]]>1;\n",
      "                .engine.multiplex'[0!(`f xgroup update f:{sums((<>) prior x)}kind from `time xasc x)];\n",
      "                                 ^\n",
      "                .engine.multiplex[first 0!(`f xgroup update f:first'[kind] from x)]];\n",
      "  [10] /home/qenv/engine/engine.q:97: .engine.Advance:\n",
      "      .engine.ingress.Events:events;::];\n",
      "    .engine.process[.engine.GetIngressEvents[.engine.watermark;`second$5;950]];\n",
      "    ^\n",
      "    .engine.GetEgressEvents[.engine.watermark;`second$5;950]\n",
      "  [9]  /home/qenv/env.q:128: .env.Step:\n",
      "    // them to the engine for further processing.\n",
      "    nevents:.engine.Advance[xevents];\n",
      "            ^\n",
      "\n",
      "  [8]  .env.Step[((0;2);(1;3))]\n",
      "       ^\n",
      "  [7]  (.Q.trp)\n",
      "\n",
      "  [6]  /home/kx/.conda/envs/kx/q/jupyterq_execution.q:39: {krnsnd[`.qpk.srvres].Q.trp[(0;)@\"q\"@;x;ef]}\n",
      "                                                                               ^\n",
      "  [5]  /home/kx/.conda/envs/kx/q/jupyterq_execution.q:36: .qpk.l@:k){x y}\n",
      "                                                                     ^\n",
      "  [4]  /home/kx/.conda/envs/kx/q/jupyterq_execution.q:36: .qpk.l:k){r@&~(::)~'r:y{x y}'\"\\n\"/:'x(&|1^\\|0N 0 1\"/ \"?*:'x[i],'\"/\")_i:&~|':(b?-1)#b:+\\-/(x:$[@x;`\\:;]x)~\\:/:+,\"/\\\\\"}\n",
      "                                                                                      ^\n",
      "  [3]  (.Q.trp)\n",
      "\n",
      "  [2]  /home/kx/.conda/envs/kx/q/jupyterq_execution.q:38: .qpk.trp:{.Q.trp[(0;)@ev@;` vs x;ef]}\n",
      "                                                                    ^\n",
      "  [1]  /home/kx/.conda/envs/kx/q/jupyterq_execution.q:55: .qpk.h.execute:\n",
      " mcn:u 1; / updated commands if any\n",
      " err:first res:trp mcn .`content`code;\n",
      "               ^\n",
      " if[not[err]and mcn .`content`store_history;exn+:1];\n",
      "  [0]  /home/kx/.conda/envs/kx/q/jupyterq_server.q:53: .qpk.execmsg:{[f;z;s;mc]setstate[f;z;s;mc];                 / handle a request from kernel, only handle locally if not a remote request\n",
      " if[not remote[f;z;s;mc];df[h;f][z;s]mc]}\n",
      "                         ^\n",
      "\r\n"
     ]
    },
    {
     "name": "stdout",
     "output_type": "stream",
     "text": [
      "\"type\"\n",
      "\"length\"\n",
      "0 1\n"
     ]
    },
    {
     "name": "stderr",
     "output_type": "stream",
     "text": [
      "ERROR\t[2020.12.07D04:37:38.564937000]:H=a8433e047805:PID[129]:2020.12.07:04:37:38.564:jupyterq_server.q:   [16] /home/qenv/engine/model/common.q:7: .engine.model.common.Update:{[tbl;val]\n",
      " tbl upsert val;\n",
      "     ^\n",
      " }\n",
      "  [15] /home/qenv/engine/logic/orderbook.q:25: .engine.logic.orderbook.Level:\n",
      "                        cl:`price`side`qty;\n",
      "                        .engine.model.orderbook.Update[flip cl!crs[cl]];\n",
      "                        ^\n",
      "                        .engine.Emit[`depth]'[last'[crs`time];flip crs[cl]];\n",
      "  [14] /home/qenv/engine/engine.q:40: .engine.publicWrapper:\n",
      "    i:?[`.engine.model.instrument.Instrument;enlist(=;`iId;0);();()];\n",
      "    x[y`time;i;y`datum]}\n",
      "    ^\n",
      "  [13] (.Q.trp)\n",
      "\n",
      "  [12] /home/qenv/engine/engine.q:68: .engine.multiplex:{.Q.trp[.engine.map[first x[`kind]];x;{show x;ERROR .Q.sbt[y]}]}\n",
      "                                                         ^\n",
      "  [11] /home/qenv/engine/engine.q:79: .engine.process:\n",
      "            $[count[distinct[x`kind]]>1;\n",
      "                .engine.multiplex'[0!(`f xgroup update f:{sums((<>) prior x)}kind from `time xasc x)];\n",
      "                                 ^\n",
      "                .engine.multiplex[first 0!(`f xgroup update f:first'[kind] from x)]];\n",
      "  [10] /home/qenv/engine/engine.q:97: .engine.Advance:\n",
      "      .engine.ingress.Events:events;::];\n",
      "    .engine.process[.engine.GetIngressEvents[.engine.watermark;`second$5;950]];\n",
      "    ^\n",
      "    .engine.GetEgressEvents[.engine.watermark;`second$5;950]\n",
      "  [9]  /home/qenv/env.q:128: .env.Step:\n",
      "    // them to the engine for further processing.\n",
      "    nevents:.engine.Advance[xevents];\n",
      "            ^\n",
      "\n",
      "  [8]  .env.Step[((0;2);(1;3))]\n",
      "       ^\n",
      "  [7]  (.Q.trp)\n",
      "\n",
      "  [6]  /home/kx/.conda/envs/kx/q/jupyterq_execution.q:39: {krnsnd[`.qpk.srvres].Q.trp[(0;)@\"q\"@;x;ef]}\n",
      "                                                                               ^\n",
      "  [5]  /home/kx/.conda/envs/kx/q/jupyterq_execution.q:36: .qpk.l@:k){x y}\n",
      "                                                                     ^\n",
      "  [4]  /home/kx/.conda/envs/kx/q/jupyterq_execution.q:36: .qpk.l:k){r@&~(::)~'r:y{x y}'\"\\n\"/:'x(&|1^\\|0N 0 1\"/ \"?*:'x[i],'\"/\")_i:&~|':(b?-1)#b:+\\-/(x:$[@x;`\\:;]x)~\\:/:+,\"/\\\\\"}\n",
      "                                                                                      ^\n",
      "  [3]  (.Q.trp)\n",
      "\n",
      "  [2]  /home/kx/.conda/envs/kx/q/jupyterq_execution.q:38: .qpk.trp:{.Q.trp[(0;)@ev@;` vs x;ef]}\n",
      "                                                                    ^\n",
      "  [1]  /home/kx/.conda/envs/kx/q/jupyterq_execution.q:55: .qpk.h.execute:\n",
      " mcn:u 1; / updated commands if any\n",
      " err:first res:trp mcn .`content`code;\n",
      "               ^\n",
      " if[not[err]and mcn .`content`store_history;exn+:1];\n",
      "  [0]  /home/kx/.conda/envs/kx/q/jupyterq_server.q:53: .qpk.execmsg:{[f;z;s;mc]setstate[f;z;s;mc];                 / handle a request from kernel, only handle locally if not a remote request\n",
      " if[not remote[f;z;s;mc];df[h;f][z;s]mc]}\n",
      "                         ^\n",
      "\r\n"
     ]
    },
    {
     "data": {
      "text/plain": [
       "(+(,`accountId)!,0 1)!+`balance`available`frozen`maintMargin`1_amt`-1_amt`1_realizedPnl`-1_realizedPnl`1_avgPrice`-1_avgPrice`1_unrealizedPnl`-1_unrealizedPnl`0_-1_0_leaves`1_-1_0_leaves`2_-1_0_leaves`3_-1_0_leaves`4_-1_0_leaves`5_-1_0_leaves`6_-1_0_leaves`7_-1_0_leaves`8_-1_0_leaves`9_-1_0_leaves`10_-1_0_leaves`0_1_0_leaves`1_1_0_leaves`2_1_0_leaves`3_1_0_leaves`4_1_0_leaves`5_1_0_leaves`6_1_0_leaves`7_1_0_leaves`8_1_0_leaves`9_1_0_leaves`10_1_0_leaves`0_-1_1_leaves`1_-1_1_leaves`2_-1_1_leaves`3_-1_1_leaves`4_-1_1_leaves`5_-1_1_leaves`6_-1_1_leaves`7_-1_1_leaves`8_-1_1_leaves`9_-1_1_leaves`10_-1_1_leaves`0_1_1_leaves`1_1_1_leaves`2_1_1_leaves`3_1_1_leaves`4_1_1_leaves`5_1_1_leaves`6_1_1_leaves`7_1_1_leaves`8_1_1_leaves`9_1_1_leaves`10_1_1_leaves`0`1`2`3`4`5`6`7`8`9`10`11`12`13`14`15`16`17`18`19`20`21`22`23`24`25`26`27`28`29`30`31`32`33`34`35`36`37`38`39`40`41`42`43`44`45`46`47`48`49`50`51`52`53`54`55`56`57`58`59`60`61`62`63`64`65`66`67`68`69`70`71`72`73`74`75`76`77`78`79`80`81!(9 0f;1 9f;0 0f;0 0f;0 0f;0 0f;0 0f;0 0f;0 0f;0 0f;0 0f;0 0f;0 0f;0 0f;0 0f;0 0f;0 0f;0 0f;0 0f;0 0f;0 0f;0 0f;0 0f;0 0f;0 0f;0 0f;0 0f;0 0f;0 0f;0 0f;0 0f;0 0f;0 0f;0 0f;0 0f;0 0f;0 0f;0 0f;0 0f;0 0f;0 0f;0 0f;0 0f;0 0f;0 0f;0 0f;0 0f;0 0f;0 0f;0 0f;0 0f;0 0f;0 0f;0 0f;0 0f;0 0f;0 0f;0 0f;0 0f;0 0f;0 0f;0 0f;0 0f;0 0f;0 0f;0 0f;0 0f;0 0f;0 0f;0 0f;0 0f;0 0f;0 0f;0 0f;0 0f;0 0f;0 0f;0 0f;0 0f;0 0f;0 0f;0 0f;0 0f;0 0f;-9.223372e+18 -9.223372e+18;-9.223372e+18 -9.223372e+18;-9.223372e+18 -9.223372e+18;-9.223372e+18 -9.223372e+18;9.223372e+18 9.223372e+18;9.223372e+18 9.223372e+18;9.223372e+18 9.223372e+18;9.223372e+18 9.223372e+18;0 0f;0 0f;0 0f;0 0f;0 0f;-9.223372e+18 -9.223372e+18;-9.223372e+18 -9.223372e+18;-9.223372e+18 -9.223372e+18;-9.223372e+18 -9.223372e+18;9.223372e+18 9.223372e+18;9.223372e+18 9.223372e+18;9.223372e+18 9.223372e+18;9.223372e+18 9.223372e+18;0 0f;0 0f;0 0f;0 0f;0 0f;-9.223372e+18 -9.223372e+18;-9.223372e+18 -9.223372e+18;-9.223372e+18 -9.223372e+18;-9.223372e+18 -9...\n",
       "(+(,`accountId)!,0 1)!+(,`reward)!,0 0f\n",
       "00b\n"
      ]
     },
     "execution_count": 1008,
     "metadata": {},
     "output_type": "execute_result"
    }
   ],
   "source": [
    ".env.Step[((0;2);(1;3))]"
   ]
  },
  {
   "cell_type": "code",
   "execution_count": 1013,
   "metadata": {},
   "outputs": [
    {
     "data": {
      "text/plain": [
       "1b\n"
      ]
     },
     "execution_count": 1013,
     "metadata": {},
     "output_type": "execute_result"
    }
   ],
   "source": [
    "((1 76);(1 76);(1 2);(1 1)) ~ .bam.x"
   ]
  },
  {
   "cell_type": "code",
   "execution_count": 1011,
   "metadata": {},
   "outputs": [
    {
     "data": {
      "text/plain": [
       "2020.12.07T04:36:30.052 2020.12.07T04:36:30.052 2020.12.07T04:36:30.052 2020.12.07T04:36:30.052\n"
      ]
     },
     "execution_count": 1011,
     "metadata": {},
     "output_type": "execute_result"
    }
   ],
   "source": [
    "4#z"
   ]
  },
  {
   "cell_type": "code",
   "execution_count": 1010,
   "metadata": {},
   "outputs": [
    {
     "data": {
      "text/plain": [
       "2020.11.11T07:00:06.996 2020.11.11T07:00:06.998 2020.11.11T07:00:06.998 2020.11.11T07:00:06.998\n"
      ]
     },
     "execution_count": 1010,
     "metadata": {},
     "output_type": "execute_result"
    }
   ],
   "source": [
    ".bam.t"
   ]
  },
  {
   "cell_type": "code",
   "execution_count": 34,
   "metadata": {},
   "outputs": [
    {
     "ename": "\u001b[0;31mtype\u001b[0m",
     "evalue": "\u001b[0;31mtype\u001b[0m",
     "output_type": "error",
     "traceback": [
      "\u001b[0;31mevaluation error:\n\u001b[0m",
      "\u001b[0;31mtype\u001b[0m",
      "\u001b[0;31m\u001b[0m",
      "\u001b[0;31m  [1]  /home/qenv/engine/logic/trade.q:183: .engine.logic.trade.Trade:\n        a:x where not s;\n        if[count[b]>0;.engine.logic.trade.Take[1;t where b;i;x where b]];\n                                                               ^\n        if[count[a]>0;.engine.logic.trade.Take[-1;t where a;i;x where a]];\n\u001b[0m",
      "\u001b[0;31m  [0]  .engine.logic.trade.Trade[.bam.t;.bam.i;.bam.x]\n       ^\n\u001b[0m"
     ]
    }
   ],
   "source": [
    ".engine.logic.trade.Trade[.bam.t;.bam.i;.bam.x]"
   ]
  },
  {
   "cell_type": "code",
   "execution_count": 35,
   "metadata": {},
   "outputs": [],
   "source": [
    "s:(.bam.x[;0]>0)"
   ]
  },
  {
   "cell_type": "code",
   "execution_count": 44,
   "metadata": {},
   "outputs": [],
   "source": [
    "o:.engine.model.orderbook.GetLevel[()]"
   ]
  },
  {
   "cell_type": "code",
   "execution_count": 136,
   "metadata": {},
   "outputs": [],
   "source": [
    "o,: flip`price`side`qty`hqty`iqty`vqty!(1000 1001;1 1;10 10;10 10;10 10;10 10)"
   ]
  },
  {
   "cell_type": "code",
   "execution_count": 137,
   "metadata": {},
   "outputs": [],
   "source": [
    ".engine.model.orderbook.GetLevel:{[x;y] x}[o]"
   ]
  },
  {
   "cell_type": "code",
   "execution_count": 948,
   "metadata": {},
   "outputs": [],
   "source": [
    "\\l /home/qenv/engine/logic/trade.q\n",
    "//\\l /home/qenv/engine/model/order.q"
   ]
  },
  {
   "cell_type": "code",
   "execution_count": null,
   "metadata": {},
   "outputs": [],
   "source": []
  },
  {
   "cell_type": "code",
   "execution_count": 953,
   "metadata": {},
   "outputs": [],
   "source": [
    "s:(.bam.x[;0]>0);\n",
    "b:where s;\n",
    "a:where not s;\n",
    "if[count[b]>0;.engine.logic.trade.Take[1;.bam.t b;.bam.i;.bam.x b]];\n",
    "if[count[a]>0;.engine.logic.trade.Take[-1;.bam.t a;.bam.i;.bam.x a]];"
   ]
  },
  {
   "cell_type": "code",
   "execution_count": 1014,
   "metadata": {},
   "outputs": [],
   "source": [
    ".engine.model.order.Order,:(\n",
    "    (1;1;0;1538060;0;0;0;0;1;0;0b;0;100;100;100;0;0);\n",
    "    (2;1;0;1538150;0;0;0;0;1;0;0b;0;100;100;100;0;0);\n",
    "    (3;1;0;1538150;0;0;0;0;1;0;0b;0;100;100;100;110;0))"
   ]
  },
  {
   "cell_type": "code",
   "execution_count": 1014,
   "metadata": {},
   "outputs": [
    {
     "ename": "\u001b[0;31mtype\u001b[0m",
     "evalue": "\u001b[0;31mtype\u001b[0m",
     "output_type": "error",
     "traceback": [
      "\u001b[0;31mevaluation error:\n\u001b[0m",
      "\u001b[0;31mtype\u001b[0m",
      "\u001b[0;31m\u001b[0m",
      "\u001b[0;31m  [0]  \n        (=;`okind;1);\n        (in;`price;s[`price] where (s[`rp]>0));\n                                    ^\n        (in;`state;(0 1));(>;`oqty;0))];\n\u001b[0m"
     ]
    }
   ],
   "source": [
    "o:.engine.model.order.Get[(\n",
    "        (=;`okind;1);\n",
    "        (in;`price;1538150);\n",
    "        (in;`state;(0 1));(>;`oqty;0))];"
   ]
  },
  {
   "cell_type": "code",
   "execution_count": 176,
   "metadata": {},
   "outputs": [],
   "source": [
    ".engine.model.order.Order,:flip`oId`price`offset`lqty`dqty`state!.bam.o"
   ]
  },
  {
   "cell_type": "code",
   "execution_count": 954,
   "metadata": {},
   "outputs": [],
   "source": [
    ".engine.logic.trade.Take[1;.bam.t b;.bam.i;.bam.x b]"
   ]
  },
  {
   "cell_type": "code",
   "execution_count": null,
   "metadata": {},
   "outputs": [],
   "source": [
    "o:raze'[(s`oId;s`oprice;noffset;nlqty;ndqty;nstatus)][;where[msk]]"
   ]
  },
  {
   "cell_type": "code",
   "execution_count": null,
   "metadata": {},
   "outputs": [],
   "source": []
  },
  {
   "cell_type": "code",
   "execution_count": 955,
   "metadata": {},
   "outputs": [
    {
     "data": {
      "text/plain": [
       "price  | side qty  hqty iqty vqty\n",
       "-------| ------------------------\n",
       "1538060| -1   3443           0   \n",
       "1538070| -1   1445               \n",
       "1538080| -1   70                 \n",
       "1538150| -1   0              0   \n",
       "1538180| -1   50                 \n",
       "1538350| -1   0                  \n",
       "1538490| -1   1783               \n",
       "1537670| 1    200                \n",
       "1537750| 1    16                 \n",
       "1537830| 1    761                \n",
       "1537850| 1    762                \n",
       "1538050| 1    336                \n",
       "1538280| -1   40                 \n",
       "1538550| -1   1783               \n",
       "1538560| -1   0                  \n",
       "1538600| -1   2113               \n",
       "1538640| -1   45                 \n",
       "1538660| -1   0                  \n",
       "1539480| -1   300                \n",
       "1601710| -1   10                 \n",
       "1468460| 1    0                  \n",
       "1536950| 1    70                 \n",
       "1537000| 1    1582               \n",
       "1537030| 1    49                 \n",
       "1537190| 1    10                 \n",
       "1537280| 1    4300               \n",
       "1537430| 1    141                \n",
       "1537650| 1    0                  \n",
       "1537690| 1    40                 \n"
      ]
     },
     "execution_count": 955,
     "metadata": {},
     "output_type": "execute_result"
    }
   ],
   "source": [
    ".engine.model.orderbook.Orderbook"
   ]
  },
  {
   "cell_type": "code",
   "execution_count": null,
   "metadata": {},
   "outputs": [],
   "source": []
  },
  {
   "cell_type": "code",
   "execution_count": null,
   "metadata": {},
   "outputs": [],
   "source": []
  },
  {
   "cell_type": "code",
   "execution_count": null,
   "metadata": {},
   "outputs": [],
   "source": []
  },
  {
   "cell_type": "code",
   "execution_count": null,
   "metadata": {},
   "outputs": [],
   "source": []
  },
  {
   "cell_type": "code",
   "execution_count": null,
   "metadata": {},
   "outputs": [],
   "source": []
  },
  {
   "cell_type": "code",
   "execution_count": null,
   "metadata": {},
   "outputs": [],
   "source": []
  },
  {
   "cell_type": "code",
   "execution_count": null,
   "metadata": {},
   "outputs": [],
   "source": []
  },
  {
   "cell_type": "code",
   "execution_count": 152,
   "metadata": {},
   "outputs": [
    {
     "data": {
      "text/plain": [
       "oId| side acc price lprice sprice trig tif okind oskind reduce state oqty dqty lqty offset einst\n",
       "---| -------------------------------------------------------------------------------------------\n",
       "1  | 1    0   1001  0      0      0    0   1     0      0      0     100  100  100  0      0    \n",
       "2  | 1    0   1001  0      0      0    0   1     0      0      0     100  100  100  0      0    \n",
       "3  | 1    0   1001  0      0      0    0   1     0      0      0     100  100  100  0      0    \n"
      ]
     },
     "execution_count": 152,
     "metadata": {},
     "output_type": "execute_result"
    }
   ],
   "source": [
    ".engine.model.order.Order"
   ]
  },
  {
   "cell_type": "code",
   "execution_count": 326,
   "metadata": {},
   "outputs": [],
   "source": []
  },
  {
   "cell_type": "code",
   "execution_count": 153,
   "metadata": {},
   "outputs": [
    {
     "data": {
      "text/plain": [
       "oId| side acc price lprice sprice trig tif okind oskind reduce state oqty dqty lqty offset einst\n",
       "---| -------------------------------------------------------------------------------------------\n",
       "1  | 1    0   1001  0      0      0    0   1     0      0      0     100  100  100  0      0    \n",
       "2  | 1    0   1001  0      0      0    0   1     0      0      0     100  100  100  0      0    \n",
       "3  | 1    0   1001  0      0      0    0   1     0      0      0     100  100  100  0      0    \n"
      ]
     },
     "execution_count": 153,
     "metadata": {},
     "output_type": "execute_result"
    }
   ],
   "source": [
    ".engine.model.order.GetOrder[(\n",
    "        (=;`okind;1);\n",
    "        (in;`price;.bam.s[`price] where (.bam.s[`rp]>0));\n",
    "        (in;`state;(0 1));(>;`oqty;0))]"
   ]
  },
  {
   "cell_type": "code",
   "execution_count": 145,
   "metadata": {},
   "outputs": [
    {
     "data": {
      "text/plain": [
       "1000 1001\n"
      ]
     },
     "execution_count": 145,
     "metadata": {},
     "output_type": "execute_result"
    }
   ],
   "source": [
    ".bam.s[`price] where (.bam.s[`rp]>0)"
   ]
  },
  {
   "cell_type": "code",
   "execution_count": 161,
   "metadata": {},
   "outputs": [
    {
     "ename": "\u001b[0;31m.bam.o\u001b[0m",
     "evalue": "\u001b[0;31m.bam.o\u001b[0m",
     "output_type": "error",
     "traceback": [
      "\u001b[0;31mevaluation error:\n\u001b[0m",
      "\u001b[0;31m.bam.o\u001b[0m",
      "\u001b[0;31m\u001b[0m",
      "\u001b[0;31m  [0]  .bam.o\n       ^\n\u001b[0m"
     ]
    }
   ],
   "source": [
    ".bam.o"
   ]
  },
  {
   "cell_type": "code",
   "execution_count": null,
   "metadata": {},
   "outputs": [],
   "source": []
  },
  {
   "cell_type": "code",
   "execution_count": null,
   "metadata": {},
   "outputs": [],
   "source": []
  },
  {
   "cell_type": "code",
   "execution_count": null,
   "metadata": {},
   "outputs": [],
   "source": []
  },
  {
   "cell_type": "code",
   "execution_count": 196,
   "metadata": {},
   "outputs": [
    {
     "data": {
      "text/plain": [
       "2020.11.11T07:00:04.969 2020.11.11T07:00:04.969 2020.11.11T07:00:04.969 2020.11.11T07:00:04.969 2020.11.11T07:00:04.969 2020.11.11T07:00:04.969 2020.11.11T07:00:04.969 2020.11.11T07:00:04.969 2020.11.11T07:00:04.969 2020.11.11T07:00:04.969 2020.11.11T07:00:04.969 2020.11.11T07:00:04.969 2020.11.11T07:00:05.079 2020.11.11T07:00:05.079 2020.11.11T07:00:05.079 2020.11.11T07:00:05.079 2020.11.11T07:00:05.079 2020.11.11T07:00:05.079 2020.11.11T07:00:05.079 2020.11.11T07:00:05.079 2020.11.11T07:00:05.079 2020.11.11T07:00:05.079 2020.11.11T07:00:05.079 2020.11.11T07:00:05.079 2020.11.11T07:00:05.079 2020.11.11T07:00:05.079 2020.11.11T07:00:05.079 2020.11.11T07:00:05.079 2020.11.11T07:00:05.079 2020.11.11T07:00:05.079 2020.11.11T07:00:05.079 2020.11.11T07:00:05.079 2020.11.11T07:00:05.079 2020.11.11T07:00:05.079 2020.11.11T07:00:05.079 2020.11.11T07:00:05.079 2020.11.11T07:00:05.079 2020.11.11T07:00:05.079\n"
      ]
     },
     "execution_count": 196,
     "metadata": {},
     "output_type": "execute_result"
    }
   ],
   "source": [
    ".bam.ot"
   ]
  },
  {
   "cell_type": "code",
   "execution_count": 195,
   "metadata": {},
   "outputs": [
    {
     "data": {
      "text/plain": [
       "-1 1538060 4837\n",
       "-1 1538070 14  \n",
       "-1 1538080 70  \n",
       "-1 1538150 762 \n",
       "-1 1538180 50  \n",
       "-1 1538350 0   \n",
       "-1 1538490 1783\n",
       "1  1537670 200 \n",
       "1  1537750 1   \n",
       "1  1537830 761 \n",
       "1  1537850 762 \n",
       "1  1538050 335 \n",
       "-1 1538060 3443\n",
       "-1 1538070 1445\n",
       "-1 1538080 70  \n",
       "-1 1538150 0   \n",
       "-1 1538180 50  \n",
       "-1 1538280 40  \n",
       "-1 1538550 1783\n",
       "-1 1538560 0   \n",
       "-1 1538600 2113\n",
       "-1 1538640 45  \n",
       "-1 1538660 0   \n",
       "-1 1539480 300 \n",
       "-1 1601710 10  \n",
       "1  1468460 0   \n",
       "1  1536950 70  \n",
       "1  1537000 1582\n",
       "1  1537030 49  \n",
       "1  1537190 10  \n",
       "1  1537280 4300\n",
       "1  1537430 141 \n",
       "1  1537650 0   \n",
       "1  1537690 40  \n",
       "1  1537750 16  \n",
       "1  1537830 761 \n",
       "1  1537850 762 \n",
       "1  1538050 336 \n"
      ]
     },
     "execution_count": 195,
     "metadata": {},
     "output_type": "execute_result"
    }
   ],
   "source": [
    ".bam.ol"
   ]
  },
  {
   "cell_type": "code",
   "execution_count": 752,
   "metadata": {},
   "outputs": [],
   "source": [
    "//zol:.bam.ol"
   ]
  },
  {
   "cell_type": "code",
   "execution_count": 935,
   "metadata": {},
   "outputs": [],
   "source": [
    ".bam.ol:zol"
   ]
  },
  {
   "cell_type": "code",
   "execution_count": 936,
   "metadata": {},
   "outputs": [],
   "source": [
    "\\l /home/qenv/engine/model/common.q\n",
    "\\l /home/qenv/engine/logic/orderbook.q\n",
    "\\l /home/qenv/engine/model/orderbook.q\n",
    "\\l /home/qenv/engine/model/order.q"
   ]
  },
  {
   "cell_type": "code",
   "execution_count": 939,
   "metadata": {},
   "outputs": [],
   "source": [
    ".engine.model.order.Order,:(\n",
    "    (1;-1;0;1538060;0;0;0;0;1;0;0b;0;100;100;100;0;0);\n",
    "    (2;-1;0;1538150;0;0;0;0;1;0;0b;0;100;100;100;0;0);\n",
    "    (3;-1;0;1538150;0;0;0;0;1;0;0b;0;100;100;100;110;0))"
   ]
  },
  {
   "cell_type": "code",
   "execution_count": 938,
   "metadata": {},
   "outputs": [],
   "source": [
    ".bam.ol:flip (.bam.ol[;0];.bam.ol[;1];.util.Clip[.bam.ol[;2]-10])"
   ]
  },
  {
   "cell_type": "code",
   "execution_count": null,
   "metadata": {},
   "outputs": [],
   "source": []
  },
  {
   "cell_type": "code",
   "execution_count": 940,
   "metadata": {},
   "outputs": [
    {
     "name": "stdout",
     "output_type": "stream",
     "text": [
      "0 0  \n",
      "0 10 \n",
      "-1384 -752\n"
     ]
    }
   ],
   "source": [
    ".engine.logic.orderbook.Level[.bam.ot;.bam.i;.bam.ol]"
   ]
  },
  {
   "cell_type": "code",
   "execution_count": 931,
   "metadata": {},
   "outputs": [
    {
     "data": {
      "text/plain": [
       "side price   oId acc lprice sprice trig tif okind oskind reduce state oqty    dqty    lqty    offset einst qty  time                    nqty      hqty iqty vqty iId\n",
       "--------------------------------------------------------------------------------------------------------------------------------------------------------------------\n",
       "-1   1538060 1 0 0 0 ,0     ,0     ,0   ,0  ,1    ,0     0b 0   0 0   100 0   ,100    100 0   0 0    ,0    3433 2020.11.11T07:00:05.079 4817 3423                0  \n",
       "-1   1538150 2 3 0 0 0 0    0 0    0 0  0 0 1 1   0 0    0  0   0 0   100 100 100 100 100 100 0 110  0 0   0    2020.11.11T07:00:05.079 742  0                   0  \n"
      ]
     },
     "execution_count": 931,
     "metadata": {},
     "output_type": "execute_result"
    }
   ],
   "source": [
    ".bam.sfc"
   ]
  },
  {
   "cell_type": "code",
   "execution_count": 934,
   "metadata": {},
   "outputs": [
    {
     "data": {
      "text/plain": [
       "::\n",
       "::\n"
      ]
     },
     "execution_count": 934,
     "metadata": {},
     "output_type": "execute_result"
    }
   ],
   "source": [
    ".engine.Emit[`depth]'[.bam.sfc[`time];flip .bam.sfc[`price`side`qty]]"
   ]
  },
  {
   "cell_type": "code",
   "execution_count": 918,
   "metadata": {},
   "outputs": [
    {
     "data": {
      "text/plain": [
       "side price   oId acc                                lprice sprice trig tif okind oskind reduce state oqty    dqty    lqty    offset einst qty  time                    nqty      hqty iqty vqty iId\n",
       "---------------------------------------------------------------------------------------------------------------------------------------------------------------------------------------------------\n",
       "-1   1538060 ,1  `.engine.model.account.Account$,0  ,0     ,0     ,0   ,0  ,1    ,0     ,0b    ,0    ,100    ,100    ,100    ,0     ,0    3443 2020.11.11T07:00:05.079 4827 3433                0  \n",
       "-1   1538150 2 3 `.engine.model.account.Account$0 0 0 0    0 0    0 0  0 0 1 1   0 0    00b    0 0   100 100 100 100 100 100 0 110  0 0   0    2020.11.11T07:00:05.079 752  0                   0  \n"
      ]
     },
     "execution_count": 918,
     "metadata": {},
     "output_type": "execute_result"
    }
   ],
   "source": [
    "`time xasc 0!uj[`side`price xgroup .bam.o;`side`price xkey .bam.se]"
   ]
  },
  {
   "cell_type": "code",
   "execution_count": null,
   "metadata": {},
   "outputs": [],
   "source": []
  },
  {
   "cell_type": "code",
   "execution_count": 884,
   "metadata": {},
   "outputs": [
    {
     "data": {
      "text/plain": [
       "side price   qty  time                    nqty    hqty iqty vqty iId\n",
       "--------------------------------------------------------------------\n",
       "-1   1538350 0    2020.11.11T07:00:04.969 ,0                     0  \n",
       "-1   1538490 1783 2020.11.11T07:00:04.969 ,1773                  0  \n",
       "1    1537670 200  2020.11.11T07:00:04.969 ,190                   0  \n",
       "-1   1538070 1445 2020.11.11T07:00:05.079 4 1435                 0  \n",
       "-1   1538080 70   2020.11.11T07:00:05.079 60 60                  0  \n",
       "-1   1538180 50   2020.11.11T07:00:05.079 40 40                  0  \n",
       "1    1537750 16   2020.11.11T07:00:05.079 0 6                    0  \n",
       "1    1537830 761  2020.11.11T07:00:05.079 751 751                0  \n",
       "1    1537850 762  2020.11.11T07:00:05.079 752 752                0  \n",
       "1    1538050 336  2020.11.11T07:00:05.079 325 326                0  \n",
       "-1   1538280 40   2020.11.11T07:00:05.079 ,30                    0  \n",
       "-1   1538550 1783 2020.11.11T07:00:05.079 ,1773                  0  \n",
       "-1   1538560 0    2020.11.11T07:00:05.079 ,0                     0  \n",
       "-1   1538600 2113 2020.11.11T07:00:05.079 ,2103                  0  \n",
       "-1   1538640 45   2020.11.11T07:00:05.079 ,35                    0  \n",
       "-1   1538660 0    2020.11.11T07:00:05.079 ,0                     0  \n",
       "-1   1539480 300  2020.11.11T07:00:05.079 ,290                   0  \n",
       "-1   1601710 10   2020.11.11T07:00:05.079 ,0                     0  \n",
       "1    1468460 0    2020.11.11T07:00:05.079 ,0                     0  \n",
       "1    1536950 70   2020.11.11T07:00:05.079 ,60                    0  \n",
       "1    1537000 1582 2020.11.11T07:00:05.079 ,1572                  0  \n",
       "1    1537030 49   2020.11.11T07:00:05.079 ,39                    0  \n",
       "1    1537190 10   2020.11.11T07:00:05.079 ,0                     0  \n",
       "1    1537280 4300 2020.11.11T07:00:05.079 ,4290                  0  \n",
       "1    1537430 141  2020.11.11T07:00:05.079 ,131                   0  \n",
       "1    1537650 0    2020.11.11T07:00:05.079 ,0                     0  \n",
       "1    1537690 40   2020.11.11T07:00:05.079 ,30                    0  \n"
      ]
     },
     "execution_count": 884,
     "metadata": {},
     "output_type": "execute_result"
    }
   ],
   "source": [
    "`time xasc .bam.se"
   ]
  },
  {
   "cell_type": "code",
   "execution_count": null,
   "metadata": {},
   "outputs": [],
   "source": []
  },
  {
   "cell_type": "code",
   "execution_count": null,
   "metadata": {},
   "outputs": [],
   "source": []
  },
  {
   "cell_type": "code",
   "execution_count": 611,
   "metadata": {},
   "outputs": [],
   "source": [
    "s:.bam.ss;\n",
    "msk:.bam.msk;\n",
    "ocols:`oId`price`offset`lqty`dqty`state;\n",
    ".engine.model.order.Update[flip ocols!(0^raze'[.util.PadM'[(\n",
    "    s`oId;\n",
    "    raze[{x#y}'[4;s`price]]; // TODO make faster/fix\n",
    "    .bam.noffset;\n",
    "    s`lqty;\n",
    "    s`dqty;\n",
    "    s`state;\n",
    "    )]][;where[msk]])];"
   ]
  },
  {
   "cell_type": "code",
   "execution_count": 585,
   "metadata": {},
   "outputs": [
    {
     "data": {
      "text/plain": [
       "1 0 1 1\n"
      ]
     },
     "execution_count": 585,
     "metadata": {},
     "output_type": "execute_result"
    }
   ],
   "source": [
    ".bam.msk"
   ]
  },
  {
   "cell_type": "code",
   "execution_count": 681,
   "metadata": {},
   "outputs": [
    {
     "data": {
      "text/plain": [
       "0 0  \n",
       "0 108\n"
      ]
     },
     "execution_count": 681,
     "metadata": {},
     "output_type": "execute_result"
    }
   ],
   "source": [
    ".bam.noffset"
   ]
  },
  {
   "cell_type": "code",
   "execution_count": 599,
   "metadata": {},
   "outputs": [],
   "source": [
    "cl:`oId`lqty`dqty`state"
   ]
  },
  {
   "cell_type": "code",
   "execution_count": 602,
   "metadata": {},
   "outputs": [
    {
     "data": {
      "text/plain": [
       "oId lqty dqty state\n",
       "-------------------\n",
       "1   100  100  0    \n",
       "0   0    0    0    \n",
       "2   100  100  0    \n",
       "3   100  100  0    \n"
      ]
     },
     "execution_count": 602,
     "metadata": {},
     "output_type": "execute_result"
    }
   ],
   "source": []
  },
  {
   "cell_type": "code",
   "execution_count": 597,
   "metadata": {},
   "outputs": [
    {
     "data": {
      "text/plain": [
       "0 0\n",
       "0 8\n"
      ]
     },
     "execution_count": 597,
     "metadata": {},
     "output_type": "execute_result"
    }
   ],
   "source": [
    ".bam.noffset"
   ]
  },
  {
   "cell_type": "code",
   "execution_count": 598,
   "metadata": {},
   "outputs": [
    {
     "data": {
      "text/plain": [
       "1 0 1 1\n"
      ]
     },
     "execution_count": 598,
     "metadata": {},
     "output_type": "execute_result"
    }
   ],
   "source": [
    ".bam.msk"
   ]
  },
  {
   "cell_type": "code",
   "execution_count": 544,
   "metadata": {},
   "outputs": [
    {
     "ename": "\u001b[0;31mlength\u001b[0m",
     "evalue": "\u001b[0;31mlength\u001b[0m",
     "output_type": "error",
     "traceback": [
      "\u001b[0;31mevaluation error:\n\u001b[0m",
      "\u001b[0;31mlength\u001b[0m",
      "\u001b[0;31m\u001b[0m",
      "\u001b[0;31m  [1]  (.q.ungroup)\n\n\u001b[0m",
      "\u001b[0;31m  [0]  ungroup .bam.ss\n       ^\n\u001b[0m"
     ]
    }
   ],
   "source": [
    "ungroup .bam.ss"
   ]
  },
  {
   "cell_type": "code",
   "execution_count": null,
   "metadata": {},
   "outputs": [],
   "source": []
  },
  {
   "cell_type": "code",
   "execution_count": null,
   "metadata": {},
   "outputs": [],
   "source": []
  },
  {
   "cell_type": "code",
   "execution_count": 445,
   "metadata": {},
   "outputs": [
    {
     "data": {
      "text/plain": [
       "side price   qty  time                                            nqty      hqty iqty vqty\n",
       "------------------------------------------------------------------------------------------\n",
       "-1   1538060 3083 2020.11.11T07:00:04.969 2020.11.11T07:00:05.079 4467 3073               \n",
       "-1   1538150 0    2020.11.11T07:00:04.969 2020.11.11T07:00:05.079 392  0                  \n"
      ]
     },
     "execution_count": 445,
     "metadata": {},
     "output_type": "execute_result"
    }
   ],
   "source": [
    "(0!.bam.s) where in[.bam.p;.bam.op]"
   ]
  },
  {
   "cell_type": "code",
   "execution_count": 444,
   "metadata": {},
   "outputs": [
    {
     "data": {
      "text/plain": [
       "side price  | qty  time                                            nqty      hqty iqty vqty\n",
       "------------| -----------------------------------------------------------------------------\n",
       "-1   1538060| 3083 2020.11.11T07:00:04.969 2020.11.11T07:00:05.079 4467 3073               \n",
       "-1   1538070| 1085 2020.11.11T07:00:04.969 2020.11.11T07:00:05.079 0 1075                  \n",
       "-1   1538080| 0    2020.11.11T07:00:04.969 2020.11.11T07:00:05.079 0 0                     \n",
       "-1   1538150| 0    2020.11.11T07:00:04.969 2020.11.11T07:00:05.079 392 0                   \n",
       "-1   1538180| 0    2020.11.11T07:00:04.969 2020.11.11T07:00:05.079 0 0                     \n",
       "-1   1538350| 0    ,2020.11.11T07:00:04.969                        ,0                      \n",
       "-1   1538490| 1423 ,2020.11.11T07:00:04.969                        ,1413                   \n",
       "1    1537670| 0    ,2020.11.11T07:00:04.969                        ,0                      \n",
       "1    1537750| 0    2020.11.11T07:00:04.969 2020.11.11T07:00:05.079 0 0                     \n",
       "1    1537830| 401  2020.11.11T07:00:04.969 2020.11.11T07:00:05.079 391 391                 \n",
       "1    1537850| 402  2020.11.11T07:00:04.969 2020.11.11T07:00:05.079 392 392                 \n",
       "1    1538050| 0    2020.11.11T07:00:04.969 2020.11.11T07:00:05.079 0 0                     \n",
       "-1   1538280| 0    ,2020.11.11T07:00:05.079                        ,0                      \n",
       "-1   1538550| 1423 ,2020.11.11T07:00:05.079                        ,1413                   \n",
       "-1   1538560| 0    ,2020.11.11T07:00:05.079                        ,0                      \n",
       "-1   1538600| 1753 ,2020.11.11T07:00:05.079                        ,1743                   \n",
       "-1   1538640| 0    ,2020.11.11T07:00:05.079                        ,0                      \n",
       "-1   1538660| 0    ,2020.11.11T07:00:05.079                        ,0                      \n",
       "-1   1539480| 0    ,2020.11.11T07:00:05.079                        ,0                      \n",
       "-1   1601710| 0    ,2020.11.11T07:00:05.079                        ,0                      \n",
       "1    1468460| 0    ,2020.11.11T07:00:05.079                        ,0                      \n",
       "1    1536950| 0    ,2020.11.11T07:00:05.079                        ,0                      \n",
       "1    1537000| 1222 ,2020.11.11T07:00:05.079                        ,1212                   \n",
       "1    1537030| 0    ,2020.11.11T07:00:05.079                        ,0                      \n",
       "1    1537190| 0    ,2020.11.11T07:00:05.079                        ,0                      \n",
       "1    1537280| 3940 ,2020.11.11T07:00:05.079                        ,3930                   \n",
       "1    1537430| 0    ,2020.11.11T07:00:05.079                        ,0                      \n",
       "1    1537650| 0    ,2020.11.11T07:00:05.079                        ,0                      \n",
       "1    1537690| 0    ,2020.11.11T07:00:05.079                        ,0                      \n"
      ]
     },
     "execution_count": 444,
     "metadata": {},
     "output_type": "execute_result"
    }
   ],
   "source": [
    ".bam.s"
   ]
  },
  {
   "cell_type": "code",
   "execution_count": 415,
   "metadata": {},
   "outputs": [
    {
     "data": {
      "text/plain": [
       "1538060 1538070 1538080 1538150 1538180 1538350 1538490 1537670 1537750 1537830 1537850 1538050 1538280 1538550 1538560 1538600 1538640 1538660 1539480 1601710 1468460 1536950 1537000 1537030 1537190 1537280 1537430 1537650 1537690\n"
      ]
     },
     "execution_count": 415,
     "metadata": {},
     "output_type": "execute_result"
    }
   ],
   "source": [
    ".bam.p"
   ]
  },
  {
   "cell_type": "code",
   "execution_count": 429,
   "metadata": {},
   "outputs": [],
   "source": [
    "op:distinct (0!.bam.o)`price;"
   ]
  },
  {
   "cell_type": "code",
   "execution_count": 432,
   "metadata": {},
   "outputs": [
    {
     "data": {
      "text/plain": [
       "qty | 0N\n",
       "time| `datetime$()\n",
       "nqty| `long$()\n",
       "hqty| 0N\n",
       "iqty| 0N\n",
       "vqty| 0N\n"
      ]
     },
     "execution_count": 432,
     "metadata": {},
     "output_type": "execute_result"
    }
   ],
   "source": [
    ".bam.s where in[.bam.p;op]"
   ]
  },
  {
   "cell_type": "code",
   "execution_count": 398,
   "metadata": {},
   "outputs": [
    {
     "data": {
      "text/plain": [
       "1538060 1538150 1538150\n"
      ]
     },
     "execution_count": 398,
     "metadata": {},
     "output_type": "execute_result"
    }
   ],
   "source": [
    "inter[(0!.bam.o)[`price];.bam.ss`price]"
   ]
  },
  {
   "cell_type": "code",
   "execution_count": 395,
   "metadata": {},
   "outputs": [
    {
     "data": {
      "text/plain": [
       "1538060 1538150\n"
      ]
     },
     "execution_count": 395,
     "metadata": {},
     "output_type": "execute_result"
    }
   ],
   "source": [
    ".bam.p"
   ]
  },
  {
   "cell_type": "code",
   "execution_count": null,
   "metadata": {},
   "outputs": [],
   "source": []
  },
  {
   "cell_type": "code",
   "execution_count": null,
   "metadata": {},
   "outputs": [],
   "source": []
  },
  {
   "cell_type": "code",
   "execution_count": null,
   "metadata": {},
   "outputs": [],
   "source": []
  },
  {
   "cell_type": "code",
   "execution_count": null,
   "metadata": {},
   "outputs": [],
   "source": []
  },
  {
   "cell_type": "code",
   "execution_count": null,
   "metadata": {},
   "outputs": [],
   "source": []
  },
  {
   "cell_type": "code",
   "execution_count": null,
   "metadata": {},
   "outputs": [],
   "source": []
  },
  {
   "cell_type": "code",
   "execution_count": 315,
   "metadata": {},
   "outputs": [],
   "source": [
    "dlts:(-/)(0!.bam.ss)[`qty`nqty]"
   ]
  },
  {
   "cell_type": "code",
   "execution_count": 316,
   "metadata": {},
   "outputs": [],
   "source": [
    "dneg:sum'[{x where[x<0]}'[dlts]]"
   ]
  },
  {
   "cell_type": "code",
   "execution_count": 347,
   "metadata": {},
   "outputs": [
    {
     "data": {
      "text/plain": [
       "side price  \n",
       "------------\n",
       "-1   1538060\n",
       "-1   1538150\n"
      ]
     },
     "execution_count": 347,
     "metadata": {},
     "output_type": "execute_result"
    }
   ],
   "source": [
    "key[.bam.ss] where dneg<0"
   ]
  },
  {
   "cell_type": "code",
   "execution_count": 273,
   "metadata": {},
   "outputs": [
    {
     "data": {
      "text/plain": [
       "side | -1      -1      -1      -1      -1      -1      -1      1       1       1       1       1       -1      -1      -1      -1      -1      -1      -1      -1      -1      -1      -1      -1      -1      1       1       1       1       1       1       1       1       1       1       1       1       1      \n",
       "price| 1538060 1538070 1538080 1538150 1538180 1538350 1538490 1537670 1537750 1537830 1537850 1538050 1538060 1538070 1538080 1538150 1538180 1538280 1538550 1538560 1538600 1538640 1538660 1539480 1601710 1468460 1536950 1537000 1537030 1537190 1537280 1537430 1537650 1537690 1537750 1537830 1537850 1538050\n",
       "qty  | 4797    0       30      722     10      0       1743    160     0       721     722     295     3403    1405    30      0       10      0       1743    0       2073    5       0       260     0       0       30      1542    9       0       4260    101     0       0       0       721     722     296    \n"
      ]
     },
     "execution_count": 273,
     "metadata": {},
     "output_type": "execute_result"
    }
   ],
   "source": [
    "ej[price.bam.s"
   ]
  },
  {
   "cell_type": "code",
   "execution_count": null,
   "metadata": {},
   "outputs": [],
   "source": []
  },
  {
   "cell_type": "code",
   "execution_count": null,
   "metadata": {},
   "outputs": [],
   "source": []
  },
  {
   "cell_type": "code",
   "execution_count": 243,
   "metadata": {},
   "outputs": [],
   "source": [
    ".engine.model.orderbook.Update[flip .bam.scl]"
   ]
  },
  {
   "cell_type": "code",
   "execution_count": 238,
   "metadata": {},
   "outputs": [],
   "source": []
  },
  {
   "cell_type": "code",
   "execution_count": null,
   "metadata": {},
   "outputs": [],
   "source": [
    "parse\"delete from o where qt\""
   ]
  },
  {
   "cell_type": "code",
   "execution_count": 214,
   "metadata": {},
   "outputs": [
    {
     "ename": "\u001b[0;31mparse error\u001b[0m",
     "evalue": "\u001b[0;31massign\u001b[0m",
     "output_type": "error",
     "traceback": [
      "\u001b[0;31mparse error\u001b[0m",
      "\u001b[0;31massign\u001b[0m"
     ]
    }
   ],
   "source": [
    "parse[`.engine.model.orderbook.Orderbook],:(1000;1;100;100;100;100)"
   ]
  },
  {
   "cell_type": "code",
   "execution_count": 229,
   "metadata": {},
   "outputs": [
    {
     "data": {
      "text/plain": [
       "`.engine.model.orderbook.Orderbook\n"
      ]
     },
     "execution_count": 229,
     "metadata": {},
     "output_type": "execute_result"
    }
   ],
   "source": [
    "`.engine.model.orderbook.Orderbook upsert (1000;1;100;100;100;100)"
   ]
  },
  {
   "cell_type": "code",
   "execution_count": 220,
   "metadata": {},
   "outputs": [
    {
     "data": {
      "text/plain": [
       "price| side qty hqty iqty vqty\n",
       "-----| -----------------------\n",
       "1000 | 1    100 100  100  100 \n"
      ]
     },
     "execution_count": 220,
     "metadata": {},
     "output_type": "execute_result"
    }
   ],
   "source": [
    ".engine.model.orderbook.Orderbook"
   ]
  },
  {
   "cell_type": "code",
   "execution_count": null,
   "metadata": {},
   "outputs": [],
   "source": []
  },
  {
   "cell_type": "code",
   "execution_count": null,
   "metadata": {},
   "outputs": [],
   "source": []
  },
  {
   "cell_type": "code",
   "execution_count": null,
   "metadata": {},
   "outputs": [],
   "source": []
  },
  {
   "cell_type": "code",
   "execution_count": null,
   "metadata": {},
   "outputs": [],
   "source": []
  },
  {
   "cell_type": "code",
   "execution_count": null,
   "metadata": {},
   "outputs": [],
   "source": []
  },
  {
   "cell_type": "code",
   "execution_count": null,
   "metadata": {},
   "outputs": [],
   "source": []
  },
  {
   "cell_type": "code",
   "execution_count": null,
   "metadata": {},
   "outputs": [],
   "source": []
  },
  {
   "cell_type": "code",
   "execution_count": null,
   "metadata": {},
   "outputs": [],
   "source": []
  },
  {
   "cell_type": "code",
   "execution_count": null,
   "metadata": {},
   "outputs": [],
   "source": []
  },
  {
   "cell_type": "code",
   "execution_count": null,
   "metadata": {},
   "outputs": [],
   "source": []
  },
  {
   "cell_type": "code",
   "execution_count": null,
   "metadata": {},
   "outputs": [],
   "source": []
  },
  {
   "cell_type": "code",
   "execution_count": null,
   "metadata": {},
   "outputs": [],
   "source": []
  },
  {
   "cell_type": "code",
   "execution_count": null,
   "metadata": {},
   "outputs": [],
   "source": []
  },
  {
   "cell_type": "code",
   "execution_count": null,
   "metadata": {},
   "outputs": [],
   "source": []
  },
  {
   "cell_type": "code",
   "execution_count": null,
   "metadata": {},
   "outputs": [],
   "source": []
  },
  {
   "cell_type": "code",
   "execution_count": null,
   "metadata": {},
   "outputs": [],
   "source": []
  },
  {
   "cell_type": "code",
   "execution_count": null,
   "metadata": {},
   "outputs": [],
   "source": []
  },
  {
   "cell_type": "code",
   "execution_count": null,
   "metadata": {},
   "outputs": [],
   "source": []
  },
  {
   "cell_type": "code",
   "execution_count": null,
   "metadata": {},
   "outputs": [],
   "source": []
  },
  {
   "cell_type": "code",
   "execution_count": null,
   "metadata": {},
   "outputs": [],
   "source": []
  },
  {
   "cell_type": "code",
   "execution_count": null,
   "metadata": {},
   "outputs": [],
   "source": []
  },
  {
   "cell_type": "code",
   "execution_count": null,
   "metadata": {},
   "outputs": [],
   "source": []
  },
  {
   "cell_type": "code",
   "execution_count": null,
   "metadata": {},
   "outputs": [],
   "source": []
  },
  {
   "cell_type": "code",
   "execution_count": null,
   "metadata": {},
   "outputs": [],
   "source": []
  },
  {
   "cell_type": "code",
   "execution_count": null,
   "metadata": {},
   "outputs": [],
   "source": []
  },
  {
   "cell_type": "code",
   "execution_count": null,
   "metadata": {},
   "outputs": [],
   "source": []
  },
  {
   "cell_type": "code",
   "execution_count": null,
   "metadata": {},
   "outputs": [],
   "source": []
  },
  {
   "cell_type": "code",
   "execution_count": null,
   "metadata": {},
   "outputs": [],
   "source": []
  }
 ],
 "metadata": {
  "kernelspec": {
   "display_name": "Q (kdb+)",
   "language": "q",
   "name": "qpk"
  },
  "language_info": {
   "file_extension": ".q",
   "mimetype": "text/x-q",
   "name": "q",
   "version": "4.0"
  }
 },
 "nbformat": 4,
 "nbformat_minor": 4
}
