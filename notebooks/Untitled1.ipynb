{
 "cells": [
  {
   "cell_type": "code",
   "execution_count": 2,
   "metadata": {},
   "outputs": [],
   "source": [
    "db:(\n",
    "        (`state                   ; 0);                                            \n",
    "        (`quoteAsset              ; `BTC);                                         \n",
    "        (`baseAsset               ; `USDT);                                        \n",
    "        (`underlyingAsset         ; `BTCUSDT);                                     \n",
    "        (`faceValue               ; 1);                                            \n",
    "        (`maxLeverage             ; 125);                                          \n",
    "        (`minLeverage             ; 1);                                            \n",
    "        (`tickSize                ; 0.01f);                                        \n",
    "        (`lotSize                 ; 0.001);                                        \n",
    "        (`priceMultiplier         ; 100);                                          \n",
    "        (`sizeMultiplier          ; 1000);                                         \n",
    "        (`fundingInterval         ; 480);                          \n",
    "        (`taxed                   ; 0b);                                           \n",
    "        (`deleverage              ; 0b);                                           \n",
    "        (`capped                  ; 0b);                                           \n",
    "        (`usePriceLimits          ; 0b);                                           \n",
    "        (`maxPrice                ; 1e6);                                          \n",
    "        (`minPrice                ; 0);                                            \n",
    "        (`upricelimit             ; 0);                                            \n",
    "        (`lpricelimit             ; 0);                                            \n",
    "        (`maxOrderSize            ; 1e6);                                          \n",
    "        (`minOrderSize            ; 0.001);                                        \n",
    "        (`junkOrderSize           ; 0.001);                                        \n",
    "        (`contractType            ; 0);                                            \n",
    "        (`maxOpenOrders           ; 25);                                           \n",
    "        (`maxDepthLevels          ; 100);                                          \n",
    "        (`takeOverFee             ; 0)\n",
    "        );\n",
    "\n"
   ]
  },
  {
   "cell_type": "code",
   "execution_count": 8,
   "metadata": {},
   "outputs": [
    {
     "name": "stdout",
     "output_type": "stream",
     "text": [
      "state          | 0\n",
      "quoteAsset     | `BTC\n",
      "baseAsset      | `USDT\n",
      "underlyingAsset| `BTCUSDT\n",
      "faceValue      | 1\n",
      "maxLeverage    | 125\n",
      "minLeverage    | 1\n",
      "tickSize       | 0.01\n",
      "lotSize        | 0.001\n",
      "priceMultiplier| 100\n",
      "sizeMultiplier | 1000\n",
      "fundingInterval| 480\n",
      "taxed          | 0b\n",
      "deleverage     | 0b\n",
      "capped         | 0b\n",
      "usePriceLimits | 0b\n",
      "maxPrice       | 1000000f\n",
      "minPrice       | 0\n",
      "upricelimit    | 0\n",
      "lpricelimit    | 0\n",
      "maxOrderSize   | 1000000f\n",
      "minOrderSize   | 0.001\n",
      "..\n"
     ]
    }
   ],
   "source": [
    "show(!) . flip db;\n"
   ]
  }
 ],
 "metadata": {
  "kernelspec": {
   "display_name": "Q (kdb+)",
   "language": "q",
   "name": "qpk"
  },
  "language_info": {
   "file_extension": ".q",
   "mimetype": "text/x-q",
   "name": "q",
   "version": "4.0"
  }
 },
 "nbformat": 4,
 "nbformat_minor": 4
}
