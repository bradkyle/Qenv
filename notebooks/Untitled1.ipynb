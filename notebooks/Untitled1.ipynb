{
 "cells": [
  {
   "cell_type": "code",
   "execution_count": 9,
   "metadata": {},
   "outputs": [],
   "source": [
    "db:(\n",
    "        (`state                   ; 2#0);                                            \n",
    "        (`quoteAsset              ; 2#`BTC);                                         \n",
    "        (`baseAsset               ; 2#`USDT);                                        \n",
    "        (`underlyingAsset         ; 2#`BTCUSDT);                                     \n",
    "        (`faceValue               ; 2#1);                                            \n",
    "        (`maxLeverage             ; 2#125);                                          \n",
    "        (`minLeverage             ; 2#1);                                            \n",
    "        (`tickSize                ; 2#0.01f);                                        \n",
    "        (`lotSize                 ; 2#0.001);                                        \n",
    "        (`priceMultiplier         ; 2#100);                                          \n",
    "        (`sizeMultiplier          ; 2#1000);                                         \n",
    "        (`fundingInterval         ; 2#480);                          \n",
    "        (`taxed                   ; 2#0b);                                           \n",
    "        (`deleverage              ; 2#0b);                                           \n",
    "        (`capped                  ; 2#0b);                                           \n",
    "        (`usePriceLimits          ; 2#0b);                                           \n",
    "        (`maxPrice                ; 2#1e6);                                          \n",
    "        (`minPrice                ; 2#0);                                            \n",
    "        (`upricelimit             ; 2#0);                                            \n",
    "        (`lpricelimit             ; 2#0);                                            \n",
    "        (`maxOrderSize            ; 2#1e6);                                          \n",
    "        (`minOrderSize            ; 2#0.001);                                        \n",
    "        (`junkOrderSize           ; 2#0.001);                                        \n",
    "        (`contractType            ; 2#0);                                            \n",
    "        (`maxOpenOrders           ; 2#25);                                           \n",
    "        (`maxDepthLevels          ; 2#100);                                          \n",
    "        (`takeOverFee             ; 2#0)\n",
    "        );\n",
    "\n"
   ]
  },
  {
   "cell_type": "code",
   "execution_count": 18,
   "metadata": {},
   "outputs": [
    {
     "data": {
      "text/plain": [
       "state quoteAsset baseAsset underlyingAsset faceValue maxLeverage minLeverage ..\n",
       "-----------------------------------------------------------------------------..\n",
       "0     BTC        USDT      BTCUSDT         1         125         1           ..\n",
       "0     BTC        USDT      BTCUSDT         1         125         1           ..\n"
      ]
     },
     "execution_count": 18,
     "metadata": {},
     "output_type": "execute_result"
    }
   ],
   "source": [
    "select from flip((!) . flip db) where not capped"
   ]
  }
 ],
 "metadata": {
  "kernelspec": {
   "display_name": "Q (kdb+)",
   "language": "q",
   "name": "qpk"
  },
  "language_info": {
   "file_extension": ".q",
   "mimetype": "text/x-q",
   "name": "q",
   "version": "4.0"
  }
 },
 "nbformat": 4,
 "nbformat_minor": 4
}
