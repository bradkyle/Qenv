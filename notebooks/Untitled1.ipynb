{
 "cells": [
  {
   "cell_type": "code",
   "execution_count": 9,
   "metadata": {},
   "outputs": [],
   "source": [
    "db:(\n",
    "        (`state                   ; 2#0);                                            \n",
    "        (`quoteAsset              ; 2#`BTC);                                         \n",
    "        (`baseAsset               ; 2#`USDT);                                        \n",
    "        (`underlyingAsset         ; 2#`BTCUSDT);                                     \n",
    "        (`faceValue               ; 2#1);                                            \n",
    "        (`maxLeverage             ; 2#125);                                          \n",
    "        (`minLeverage             ; 2#1);                                            \n",
    "        (`tickSize                ; 2#0.01f);                                        \n",
    "        (`lotSize                 ; 2#0.001);                                        \n",
    "        (`priceMultiplier         ; 2#100);                                          \n",
    "        (`sizeMultiplier          ; 2#1000);                                         \n",
    "        (`fundingInterval         ; 2#480);                          \n",
    "        (`taxed                   ; 2#0b);                                           \n",
    "        (`deleverage              ; 2#0b);                                           \n",
    "        (`capped                  ; 2#0b);                                           \n",
    "        (`usePriceLimits          ; 2#0b);                                           \n",
    "        (`maxPrice                ; 2#1e6);                                          \n",
    "        (`minPrice                ; 2#0);                                            \n",
    "        (`upricelimit             ; 2#0);                                            \n",
    "        (`lpricelimit             ; 2#0);                                            \n",
    "        (`maxOrderSize            ; 2#1e6);                                          \n",
    "        (`minOrderSize            ; 2#0.001);                                        \n",
    "        (`junkOrderSize           ; 2#0.001);                                        \n",
    "        (`contractType            ; 2#0);                                            \n",
    "        (`maxOpenOrders           ; 2#25);                                           \n",
    "        (`maxDepthLevels          ; 2#100);                                          \n",
    "        (`takeOverFee             ; 2#0)\n",
    "        );\n",
    "\n"
   ]
  },
  {
   "cell_type": "code",
   "execution_count": 18,
   "metadata": {},
   "outputs": [
    {
     "data": {
      "text/plain": [
       "state quoteAsset baseAsset underlyingAsset faceValue maxLeverage minLeverage ..\n",
       "-----------------------------------------------------------------------------..\n",
       "0     BTC        USDT      BTCUSDT         1         125         1           ..\n",
       "0     BTC        USDT      BTCUSDT         1         125         1           ..\n"
      ]
     },
     "execution_count": 18,
     "metadata": {},
     "output_type": "execute_result"
    }
   ],
   "source": [
    "select from flip((!) . flip db) where not capped"
   ]
  },
  {
   "cell_type": "code",
   "execution_count": 40,
   "metadata": {},
   "outputs": [],
   "source": [
    ".engine.model.risktier.RiskTier:([rtid:`long$()] mxamt:`long$();mmr:`float$();imr:`float$();maxlev:`long$());"
   ]
  },
  {
   "cell_type": "code",
   "execution_count": 51,
   "metadata": {},
   "outputs": [],
   "source": [
    ".engine.model.risktier.RiskTier,:flip `rtid`mxamt`mmr`imr`maxlev!flip[(\n",
    "        (0; 50000;       0.004;    0.008;    125);\n",
    "        (1; 250000;      0.005;    0.01;     100);\n",
    "        (2; 1000000;     0.01;     0.02;     50);\n",
    "        (3; 5000000;     0.025;    0.05;     20);\n",
    "        (4; 20000000;    0.05;     0.1;      10);\n",
    "        (5; 50000000;    0.1;      0.20;     5);\n",
    "        (6; 100000000;   0.125;    0.25;     4);\n",
    "        (7; 200000000;   0.15;     0.333;    3);\n",
    "        (8; 500000000;   0.25;     0.50;     2);\n",
    "        (9; 500000000;   0.25;     1.0;      1))]"
   ]
  },
  {
   "cell_type": "code",
   "execution_count": null,
   "metadata": {},
   "outputs": [],
   "source": []
  },
  {
   "cell_type": "code",
   "execution_count": 49,
   "metadata": {},
   "outputs": [],
   "source": [
    ".engine.model.feetier.FeeTier:([ftid:`long$()] vol:`long$();mkrfee:`float$();tkrfee:`float$();wdrawfee:`float$();\n",
    "    dpstfee:`float$();wdlim:`long$());"
   ]
  },
  {
   "cell_type": "code",
   "execution_count": 52,
   "metadata": {},
   "outputs": [],
   "source": [
    ".engine.model.feetier.FeeTier,:flip `ftid`vol`mkrfee`tkrfee`wdrawfee`dpstfee`wdlim!flip[(\n",
    "        (0; 50;      0.0006;    0.0006;    0f;  0f; 600);\n",
    "        (1; 500;     0.00054;   0.0006;    0f;  0f; 600);\n",
    "        (2; 1500;    0.00048;   0.0006;    0f;  0f; 600);\n",
    "        (3; 4500;    0.00042;   0.0006;    0f;  0f; 600);\n",
    "        (4; 10000;   0.00042;   0.00054;   0f;  0f; 600);\n",
    "        (5; 20000;   0.00036;   0.00048;   0f;  0f; 600);\n",
    "        (6; 40000;   0.00024;   0.00036;   0f;  0f; 600);\n",
    "        (7; 80000;   0.00018;   0.000300;  0f;  0f; 600);\n",
    "        (8; 150000;  0.00012;   0.00024;   0f;  0f; 600))];                             // "
   ]
  },
  {
   "cell_type": "code",
   "execution_count": 30,
   "metadata": {},
   "outputs": [
    {
     "data": {
      "text/plain": [
       "ftid| vol mkrfee tkrfee wdrawfee dpstfee wdlim\n",
       "----| ----------------------------------------\n"
      ]
     },
     "execution_count": 30,
     "metadata": {},
     "output_type": "execute_result"
    }
   ],
   "source": [
    ".engine.model.feetier.FeeTier"
   ]
  }
 ],
 "metadata": {
  "kernelspec": {
   "display_name": "Q (kdb+)",
   "language": "q",
   "name": "qpk"
  },
  "language_info": {
   "file_extension": ".q",
   "mimetype": "text/x-q",
   "name": "q",
   "version": "4.0"
  }
 },
 "nbformat": 4,
 "nbformat_minor": 4
}
