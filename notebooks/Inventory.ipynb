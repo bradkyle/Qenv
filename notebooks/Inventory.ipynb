{
 "cells": [
  {
   "cell_type": "code",
   "execution_count": 1,
   "metadata": {},
   "outputs": [],
   "source": [
    "\\cd ../qenv/"
   ]
  },
  {
   "cell_type": "code",
   "execution_count": 37,
   "metadata": {},
   "outputs": [
    {
     "name": "stdout",
     "output_type": "stream",
     "text": [
      "\"###################################################################################################\"\n",
      "\"                                             TEST\"\n",
      "\"###################################################################################################\"\n",
      "\"===================================================================================================\"\n",
      "\"37) .engine.logic.inventory.Fill (UNIT) :READY\"\n",
      "`Function for deriving the exec cost from the qty and the price\n",
      "\"---------------------------------------------------------------------------------------------------\"\n",
      "caseId state dscr                                            \n",
      "-------------------------------------------------------------\n",
      "256    ERROR INVERSE:flat to long: UPL: 0, RPL:0 ONE POSITION\n",
      "\"                                                                                                                                                                                                                                                                                                                                                                                                                \"\n",
      "\"###################################################################################################\"\n",
      "\"                                      TESTS COMPLETED\"\n",
      "\"###################################################################################################\"\n",
      "state| x  \n",
      "-----| ---\n",
      "ERROR| 1  \n",
      "SKIP | 407\n",
      "\"                                                                                                                                                                                                                                                                                                                                                                                                                \"\n"
     ]
    }
   ],
   "source": [
    "\\l test.q"
   ]
  },
  {
   "cell_type": "code",
   "execution_count": 13,
   "metadata": {},
   "outputs": [],
   "source": [
    "iv:first flip .bam.x"
   ]
  },
  {
   "cell_type": "code",
   "execution_count": 27,
   "metadata": {},
   "outputs": [
    {
     "data": {
      "text/plain": [
       "aId side| ordQty ordVal ordLoss amt iw mm posVal rpnl avgPrice execCost totEnt upnl lev\n",
       "--------| -----------------------------------------------------------------------------\n",
       "0   -1  | 0             0       10     0                                10     0       \n",
       "0   1   | 0             0       10     0                                10     0       \n"
      ]
     },
     "execution_count": 27,
     "metadata": {},
     "output_type": "execute_result"
    }
   ],
   "source": [
    ".engine.model.inventory.Inventory"
   ]
  },
  {
   "cell_type": "code",
   "execution_count": 17,
   "metadata": {},
   "outputs": [],
   "source": [
    ".engine.logic.contract.UnrealizedPnl    :{[contractType;markPrice;faceValue;multiplier;amt;isignum;avgPrice] \n",
    "      7h$($[contractType=0;.engine.logic.contract.inverse.UnrealizedPnl[amt;isignum;avgPrice;markPrice;faceValue;multiplier]; \n",
    "            contractType=0;.engine.logic.contract.inverse.UnrealizedPnl[amt;isignum;avgPrice;markPrice;faceValue;multiplier]; \n",
    "          contractType=0;.engine.logic.contract.inverse.UnrealizedPnl[amt;isignum;avgPrice;markPrice;faceValue;multiplier]; \n",
    "      'nyi] | 0)\n",
    "    };"
   ]
  },
  {
   "cell_type": "code",
   "execution_count": 16,
   "metadata": {},
   "outputs": [],
   "source": [
    ".engine.logic.contract.RealizedPnl    :{[contractType;fillQty;fillPrice;isignum;avgPrice;faceValue;multiplier]\n",
    "    7h$($[contractType=0;.engine.logic.contract.inverse.RealizedPnl[fillQty;fillPrice;isignum;avgPrice;faceValue;multiplier];\n",
    "      contractType=1;.engine.logic.contract.linear.RealizedPnl[fillQty;fillPrice;isignum;avgPrice;faceValue;multiplier];\n",
    "      contractType=2;.engine.logic.contract.quanto.RealizedPnl[fillQty;fillPrice;isignum;avgPrice;faceValue;multiplier];\n",
    "      'nyi] | 0)\n",
    "    };"
   ]
  },
  {
   "cell_type": "code",
   "execution_count": null,
   "metadata": {},
   "outputs": [],
   "source": []
  },
  {
   "cell_type": "code",
   "execution_count": 47,
   "metadata": {},
   "outputs": [
    {
     "data": {
      "text/plain": [
       "ordVal|  \n"
      ]
     },
     "execution_count": 47,
     "metadata": {},
     "output_type": "execute_result"
    }
   ],
   "source": [
    "select ivId.ordVal from .bam.x"
   ]
  },
  {
   "cell_type": "code",
   "execution_count": null,
   "metadata": {},
   "outputs": [],
   "source": [
    ".engine.logic.contract.ExecCost    :{[contractType;price;qty;multiplier]"
   ]
  },
  {
   "cell_type": "code",
   "execution_count": 54,
   "metadata": {},
   "outputs": [
    {
     "data": {
      "text/plain": [
       "fId     | 0          1         \n",
       "price   | 1000       1000      \n",
       "qty     | 100        100       \n",
       "reduce  | 0          1         \n",
       "ismaker | 0          1         \n",
       "side    | 1          -1        \n",
       "iId     | 0          0         \n",
       "oId     | 0          1         \n",
       "ivId    | 1          0         \n",
       "aId     | 0          0         \n",
       "avgPrice| 0          0         \n",
       "execCost| 10000000   10000000  \n",
       "ordLoss | 0          0         \n",
       "ordVal  | -100000000 -100000000\n",
       "ordQty  | -100       -100      \n",
       "amt     | 110        110       \n",
       "totEnt  | 210        210       \n"
      ]
     },
     "execution_count": 54,
     "metadata": {},
     "output_type": "execute_result"
    }
   ],
   "source": []
  },
  {
   "cell_type": "code",
   "execution_count": 39,
   "metadata": {},
   "outputs": [],
   "source": [
    "iviv:![![.bam.x;();0b;`avgPrice`execCost`ordLoss`ordVal`ordQty`amt`totEnt!(\n",
    "        ((';`.engine.logic.contract.AvgPrice);`iId.cntTyp;`side;`ivId.execCost;`ivId.totEnt;`iId.smul); // TODO dependent\n",
    "        ((';`.engine.logic.contract.ExecCost);`iId.cntTyp;`price;`qty;`iId.smul);\n",
    "        (-;`ivId.ordLoss;(`.engine.logic.contract.Loss;`iId.mkprice;`qty;((+/);`qty;`price)));\n",
    "        (-;`ivId.ordVal;((*/);`qty;`price));\n",
    "        (-;`ivId.ordQty;`qty);\n",
    "        (+;`ivId.amt;`qty);\n",
    "        ((+/);`ivId.totEnt;`qty)\n",
    "    )];\n",
    "    ();0b;`upnl`rpnl!(\n",
    "    ((';`.engine.logic.contract.UnrealizedPnl);`iId.cntTyp;`iId.mkprice;`iId.faceValue;`iId.smul;`ivId.amt;`side;`ivId.avgPrice);\n",
    "    ((';`.engine.logic.contract.RealizedPnl);`iId.cntTyp;`qty;`price;`side;`ivId.avgPrice;`iId.faceValue;`iId.smul))]"
   ]
  },
  {
   "cell_type": "code",
   "execution_count": 59,
   "metadata": {},
   "outputs": [],
   "source": [
    ".q.cl:{x!y[x]}"
   ]
  },
  {
   "cell_type": "code",
   "execution_count": 67,
   "metadata": {},
   "outputs": [
    {
     "data": {
      "text/plain": [
       "aId side| ordQty ordVal     ordLoss amt iw mm posVal rpnl avgPrice execCost totEnt upnl lev\n",
       "--------| ---------------------------------------------------------------------------------\n",
       "0   -1  | -100   -100000000 0       110    0         0    0        10000000 210    0       \n",
       "0   1   | -100   -100000000 0       110    0         0    0        10000000 210    0       \n"
      ]
     },
     "execution_count": 67,
     "metadata": {},
     "output_type": "execute_result"
    }
   ],
   "source": [
    ".engine.model.inventory.Inventory upsert flip "
   ]
  },
  {
   "cell_type": "code",
   "execution_count": 68,
   "metadata": {},
   "outputs": [
    {
     "data": {
      "text/plain": [
       "fId    | 0    1   \n",
       "price  | 1000 1000\n",
       "qty    | 100  100 \n",
       "reduce | 0    1   \n",
       "ismaker| 0    1   \n",
       "side   | 1    -1  \n",
       "iId    | 0    0   \n",
       "oId    | 0    1   \n",
       "ivId   | 1    0   \n",
       "aId    | 0    0   \n"
      ]
     },
     "execution_count": 68,
     "metadata": {},
     "output_type": "execute_result"
    }
   ],
   "source": [
    ".bam.x"
   ]
  },
  {
   "cell_type": "code",
   "execution_count": null,
   "metadata": {},
   "outputs": [],
   "source": [
    ".engine.logic.inventory.Fill:{ // TODO simple select\n",
    "\n",
    "    iv:?[?[x;();0b;(\n",
    "                (`.engine.logic.contract.UnrealizedPnl;`cntTyp;`mkprice;`faceValue;`smul;`amt;`side;`avgPrice);\n",
    "                (`.engine.logic.contract.RealizedPnl;`iId.cntTyp;`qty;`price;`side;`ivId.avgPrice;`iId.faceValue;`iId.smul)\n",
    "        )];();0b;(\n",
    "        (`.engine.logic.contract.AvgPrice);\n",
    "        (`.engine.logic.contract.ExecCost);\n",
    "        (-;`ivId.ordLoss;(`.engine.logic.contract.Loss;));\n",
    "        (-;`ivId.ordVal;(`.engine.logic.contract.Value;));\n",
    "        (-;`ivId.ordQty;qty);\n",
    "        (+;`amt;`dlt);\n",
    "        (sum;`ivId.totalEntry;(max;`dlt;0))\n",
    "        )];\n",
    "\n",
    "    .engine.model.inventory.Update iv;\n",
    "    .engine.EmitA[`inventory;];\n",
    "\n",
    "    \t\t/if[abs[iv[`amt]]=0;iv[`avgPrice`execCost`totalEntry]:0];\n",
    "\n",
    "    };\n",
    "\n"
   ]
  },
  {
   "cell_type": "code",
   "execution_count": 40,
   "metadata": {},
   "outputs": [],
   "source": [
    "e:flip(iv`kind;iv`time;flip iv`aId`side`time`amt`rpnl`avgPrice`upnl;7h$iv`aId)"
   ]
  },
  {
   "cell_type": "code",
   "execution_count": 44,
   "metadata": {},
   "outputs": [],
   "source": [
    "x:.bam.x"
   ]
  },
  {
   "cell_type": "code",
   "execution_count": 46,
   "metadata": {},
   "outputs": [],
   "source": [
    "x[`kind]:`fill"
   ]
  },
  {
   "cell_type": "code",
   "execution_count": 47,
   "metadata": {},
   "outputs": [],
   "source": [
    "e:flip(x`kind;x`time;flip x`time`price`qty`side;7h$x`aId)"
   ]
  },
  {
   "cell_type": "code",
   "execution_count": 50,
   "metadata": {},
   "outputs": [
    {
     "data": {
      "text/plain": [
       "time                    kind      datum                                                                 aId\n",
       "-----------------------------------------------------------------------------------------------------------\n",
       "2020.12.13T14:00:29.774 inventory `.engine.model.account.Account$0 1  2020.12.13T14:00:29.774 110 0 0 0 0  \n",
       "2020.12.13T14:00:29.774 inventory `.engine.model.account.Account$0 -1 2020.12.13T14:00:29.774 110 0 0 0 0  \n"
      ]
     },
     "execution_count": 50,
     "metadata": {},
     "output_type": "execute_result"
    }
   ],
   "source": [
    ".engine.egress.Events"
   ]
  },
  {
   "cell_type": "code",
   "execution_count": 58,
   "metadata": {},
   "outputs": [
    {
     "data": {
      "text/plain": [
       "`fill 2020.12.13T14:00:29.774 (2020.12.13T14:00:29.774;1000;100;1)  0\n",
       "`fill 2020.12.13T14:00:29.774 (2020.12.13T14:00:29.774;1000;100;-1) 0\n"
      ]
     },
     "execution_count": 58,
     "metadata": {},
     "output_type": "execute_result"
    }
   ],
   "source": [
    "e"
   ]
  },
  {
   "cell_type": "code",
   "execution_count": 66,
   "metadata": {},
   "outputs": [],
   "source": [
    "m:x"
   ]
  },
  {
   "cell_type": "code",
   "execution_count": 71,
   "metadata": {},
   "outputs": [],
   "source": [
    "x:m"
   ]
  },
  {
   "cell_type": "code",
   "execution_count": 67,
   "metadata": {},
   "outputs": [],
   "source": [
    "x:first flip x"
   ]
  },
  {
   "cell_type": "code",
   "execution_count": 73,
   "metadata": {},
   "outputs": [],
   "source": [
    "x:flip x"
   ]
  },
  {
   "cell_type": "code",
   "execution_count": 80,
   "metadata": {},
   "outputs": [
    {
     "data": {
      "text/plain": [
       "2020.12.13T14:00:29.774 2020.12.13T14:00:29.774\n",
       "1000                    1000                   \n",
       "100                     100                    \n",
       "1                       -1                     \n"
      ]
     },
     "execution_count": 80,
     "metadata": {},
     "output_type": "execute_result"
    }
   ],
   "source": [
    "x`time;x`time`price`qty`side"
   ]
  },
  {
   "cell_type": "code",
   "execution_count": 86,
   "metadata": {},
   "outputs": [],
   "source": [
    ".engine.EmitA'[x`kind;scl[`time`price`qty`side;flip x];7h$x`aId];"
   ]
  },
  {
   "cell_type": "code",
   "execution_count": 83,
   "metadata": {},
   "outputs": [
    {
     "data": {
      "text/plain": [
       "`.engine.egress.Events\n"
      ]
     },
     "execution_count": 83,
     "metadata": {},
     "output_type": "execute_result"
    }
   ],
   "source": [
    "delete from `.engine.egress.Events"
   ]
  },
  {
   "cell_type": "code",
   "execution_count": 87,
   "metadata": {},
   "outputs": [
    {
     "data": {
      "text/plain": [
       "time kind datum aId\n",
       "-------------------\n"
      ]
     },
     "execution_count": 87,
     "metadata": {},
     "output_type": "execute_result"
    }
   ],
   "source": [
    ".engine.egress.Events"
   ]
  },
  {
   "cell_type": "code",
   "execution_count": 4,
   "metadata": {},
   "outputs": [
    {
     "ename": "\u001b[0;31ms\u001b[0m",
     "evalue": "\u001b[0;31ms\u001b[0m",
     "output_type": "error",
     "traceback": [
      "\u001b[0;31mevaluation error:\n\u001b[0m",
      "\u001b[0;31ms\u001b[0m",
      "\u001b[0;31m\u001b[0m",
      "\u001b[0;31m  [0]  .engine.EmitA[iv`kind;s`time;flip s`aId`side`time`amt`rpnl`avgPrice`upnl;iv`aId];\n                                         ^\n\u001b[0m"
     ]
    }
   ],
   "source": [
    "iv[`kind]:`inventory;\n",
    "show ;\n",
    ".engine.EmitA[iv`kind;s`time;flip s`aId`side`time`amt`rpnl`avgPrice`upnl;iv`aId];"
   ]
  },
  {
   "cell_type": "code",
   "execution_count": null,
   "metadata": {},
   "outputs": [],
   "source": [
    ".event.Event:{\n",
    "\n",
    "    }"
   ]
  },
  {
   "cell_type": "code",
   "execution_count": null,
   "metadata": {},
   "outputs": [],
   "source": [
    ".model.Account: {\n",
    "\n",
    "    }"
   ]
  },
  {
   "cell_type": "code",
   "execution_count": null,
   "metadata": {},
   "outputs": [],
   "source": [
    ".state.AccountEventHistory: (\n",
    "    [aId : `long$(); time : `datetime$()]\n",
    "    balance             : `long$();\n",
    "    available           : `long$();\n",
    "    frozen              : `long$();\n",
    "    maintMargin         : `long$());"
   ]
  },
  {
   "cell_type": "code",
   "execution_count": null,
   "metadata": {},
   "outputs": [],
   "source": [
    ".state.InventoryEventHistory: ( // TODO change side to long 1,2,3\n",
    "    [accountId:  `long$();side: `long$();time : `datetime$()]\n",
    "    amt                 :  `long$();\n",
    "    realizedPnl         :  `long$();\n",
    "    avgPrice            :  `long$(); // TODO check all exchanges have\n",
    "    unrealizedPnl       :  `long$());"
   ]
  },
  {
   "cell_type": "code",
   "execution_count": 144,
   "metadata": {},
   "outputs": [
    {
     "ename": "\u001b[0;31mlength\u001b[0m",
     "evalue": "\u001b[0;31mlength\u001b[0m",
     "output_type": "error",
     "traceback": [
      "\u001b[0;31mevaluation error:\n\u001b[0m",
      "\u001b[0;31mlength\u001b[0m",
      "\u001b[0;31m\u001b[0m",
      "\u001b[0;31m  [1]  .event.Inventory:{.event.Event[`inventory;(x`time;flip(.event.RmFk[x]`aId`side`time`amt`rpnl`avgPrice`upnl);7h$x`aId)]}\n                                                         ^\n\u001b[0m",
      "\u001b[0;31m  [0]  e:.event.Inventory[iv]\n         ^\n\u001b[0m"
     ]
    }
   ],
   "source": [
    "e:.event.Inventory[iv]"
   ]
  },
  {
   "cell_type": "code",
   "execution_count": 158,
   "metadata": {},
   "outputs": [
    {
     "data": {
      "text/plain": [
       "time                    datum                                                                    aId kind     \n",
       "--------------------------------------------------------------------------------------------------------------\n",
       "2020.12.13T13:51:26.944 `.engine.model.account.Account$0 1  2020.12.13T13:51:26.944 210 0 2100 0 0   inventory\n",
       "2020.12.13T13:51:26.944 `.engine.model.account.Account$0 -1 2020.12.13T13:51:26.944 210 0 2100 0 0   inventory\n"
      ]
     },
     "execution_count": 158,
     "metadata": {},
     "output_type": "execute_result"
    }
   ],
   "source": [
    ".event.RmFk[flip iv]"
   ]
  },
  {
   "cell_type": "code",
   "execution_count": 159,
   "metadata": {},
   "outputs": [
    {
     "data": {
      "text/plain": [
       "fId time                    price qty reduce ismaker side iId oId ivId aId avgPrice execCost ordLoss ordVal     ordQty amt totEnt upnl rpnl kind     \n",
       "-----------------------------------------------------------------------------------------------------------------------------------------------------\n",
       "0   2020.12.13T13:51:26.944 1000  100 0      0       1    0   0   1    0   2100     10000000 0       -200000000 -200   210 410    0    0    inventory\n",
       "1   2020.12.13T13:51:26.944 1000  100 1      1       -1   0   1   0    0   2100     10000000 0       -200000000 -200   210 410    0    0    inventory\n"
      ]
     },
     "execution_count": 159,
     "metadata": {},
     "output_type": "execute_result"
    }
   ],
   "source": []
  },
  {
   "cell_type": "code",
   "execution_count": 130,
   "metadata": {},
   "outputs": [],
   "source": [
    ".state.OrderEventHistory: (\n",
    "    [orderId:`long$();time:`datetime$()]\n",
    "    accountId       :   `long$();\n",
    "    side            :   `long$(); // TODO change to long\n",
    "    otype           :   `long$(); // TODO change to long\n",
    "    price           :   `long$();\n",
    "    leaves          :   `long$();\n",
    "    limitprice      :   `long$(); / multiply by 100\n",
    "    stopprice       :   `long$(); / multiply by 100\n",
    "    status          :   `long$();\n",
    "    reduce          :   `boolean$();\n",
    "    trigger         :   `long$(); // TODO change to long\n",
    "    execInst        :   `long$()); // TODO change to long\n",
    ".state.ordCols:cols .state.OrderEventHistory;\n",
    ".state.CurrentOrders: `orderId xkey .state.OrderEventHistory;"
   ]
  },
  {
   "cell_type": "code",
   "execution_count": 131,
   "metadata": {},
   "outputs": [
    {
     "data": {
      "text/plain": []
     },
     "execution_count": 131,
     "metadata": {},
     "output_type": "execute_result"
    }
   ],
   "source": [
    "fkeys .state.CurrentOrders"
   ]
  },
  {
   "cell_type": "code",
   "execution_count": 169,
   "metadata": {},
   "outputs": [],
   "source": [
    "t"
   ]
  },
  {
   "cell_type": "code",
   "execution_count": 167,
   "metadata": {},
   "outputs": [],
   "source": [
    ".event.RmFk : {fk:key fkeys x;x[fk]:7h$x[fk];x};\n",
    ".event.Event: {e:flip `time`datum`aId!y;e[`kind]:x;e};\n",
    ".event.Failure :{()}\n",
    ".event.Account : {.event.Event[`account;((flip .event.RmFk[flip x]`time;flipx`aId`time`bal`avail`froz);7h$x`aId)]}\n",
    ".event.Inventory :{.event.Event[`inventory;(x`time;(flip .event.RmFk[flip x]`aId`side`time`amt`rpnl`avgPrice`upnl);7h$x`aId)]}\n",
    ".event.Order     :{.event.Event[`order;(x`time;(flip .event.RmFk[flip x]`oId`time`aId`amt`rpnl`avgPrice`upnl);7h$x`aId)]}\n",
    ".event.Deposit :{}\n",
    ".event.Withdraw :{}\n",
    ".event.Funding :{}\n",
    ".event.Mark:{}\n",
    ".event.Settlement:{}\n",
    ".event.PriceLimit :{}\n",
    ".event.Level:{}\n",
    ".event.Trade:{}\n",
    ".event.Order:{}\n",
    ".event.Instrument:{}\n",
    ".event.Fill:{}\n",
    ".event.Liquidation:{}"
   ]
  },
  {
   "cell_type": "code",
   "execution_count": null,
   "metadata": {},
   "outputs": [],
   "source": [
    ".util.testutils.makeDefaultsRecords  :{[tab;cl;vl] // TODO inter with actual cols\n",
    "    r:.util.NullRowDict[tab];\n",
    "    cvl:count[vl]; \n",
    "    :$[cvl>1;[rx:(cvl#enlist[r]);rx[cl]:flip[vl];:rx];[r[cl]:first[vl];:r]]};"
   ]
  },
  {
   "cell_type": "code",
   "execution_count": 173,
   "metadata": {},
   "outputs": [],
   "source": [
    ".model.Fill:{\n",
    "    c:x!y;\n",
    "    c[`time]:x`time;\n",
    "    c[`price`qty`reduce`ismaker`side`iId`oId`ivId`aId]:x`datum;\n",
    "    c[`aId]\n",
    "    };"
   ]
  },
  {
   "cell_type": "code",
   "execution_count": 174,
   "metadata": {},
   "outputs": [],
   "source": [
    ".fill.r:.util.NullRowDict[`.engine.model.fill.Fill]"
   ]
  },
  {
   "cell_type": "code",
   "execution_count": 187,
   "metadata": {},
   "outputs": [],
   "source": [
    ".model.Fill  :{[cl;vl] // TODO inter with actual cols\n",
    "    };"
   ]
  },
  {
   "cell_type": "code",
   "execution_count": 178,
   "metadata": {},
   "outputs": [],
   "source": [
    "x:.util.testutils.makeDefaultsRecords[`fId`price`side`qty`reduce`ismaker`oId`aId`iId`time;flip(0 1;1000 1000;1 -1;100 100;01b;01b;0 1;0 0;0 0;2#z)]"
   ]
  },
  {
   "cell_type": "code",
   "execution_count": 184,
   "metadata": {},
   "outputs": [
    {
     "data": {
      "text/plain": [
       "aId side| ordQty ordVal     ordLoss amt iw mm posVal rpnl avgPrice execCost totEnt upnl lev\n",
       "--------| ---------------------------------------------------------------------------------\n",
       "0   -1  | -100   -100000000 0       110    0         0    0        10000000 210    0       \n",
       "0   1   | -100   -100000000 0       110    0         0    0        10000000 210    0       \n"
      ]
     },
     "execution_count": 184,
     "metadata": {},
     "output_type": "execute_result"
    }
   ],
   "source": [
    ".engine.model.inventory.Inventory"
   ]
  },
  {
   "cell_type": "code",
   "execution_count": 232,
   "metadata": {},
   "outputs": [
    {
     "ename": "\u001b[0;31m.model.Order\u001b[0m",
     "evalue": "\u001b[0;31m.model.Order\u001b[0m",
     "output_type": "error",
     "traceback": [
      "\u001b[0;31mevaluation error:\n\u001b[0m",
      "\u001b[0;31m.model.Order\u001b[0m",
      "\u001b[0;31m\u001b[0m",
      "\u001b[0;31m  [0]  \n  (`risktier;.model.Risktier[`rtId`amt`lev;flip(0 1;50000 250000;125 100)]);\n  (`order;.model.Order[])))\n          ^\n\u001b[0m"
     ]
    }
   ],
   "source": [
    "c:((!) . flip(\n",
    "  (`account;.model.Account[`aId`avail`bal;enlist(0;0;0)]); \n",
    "  (`instrument;.model.Instrument[`iId`cntTyp`faceValue`mkprice`smul;enlist(0;0;1;1000;1)]); \n",
    "  (`inventory;.model.Inventory[`aId`side`mm`upnl`ordQty`ordLoss`ordVal`amt`totEnt;flip(0 0;-1 1;0 0;0 0;0 0;0 0;0 0;10 10;10 10)]); \n",
    "  (`feetier;.model.Feetier[`ftId`vol`bal`ref;flip(0 1;0 0;0 0;0 0)]); // Update Account\n",
    "  (`risktier;.model.Risktier[`rtId`amt`lev;flip(0 1;50000 250000;125 100)]);\n",
    "  (`order;.model.Order[])))"
   ]
  },
  {
   "cell_type": "code",
   "execution_count": null,
   "metadata": {},
   "outputs": [],
   "source": [
    ".engine.model.instrument.Instrument,:s[`instrument];\n",
    ".engine.model.account.Account,:s[`account];\n",
    ".engine.model.inventory.Inventory,:s[`inventory];\n",
    ".engine.model.feetier.Feetier,:s[`feetier];\n",
    ".engine.model.risktier.Risktier,:s[`risktier];"
   ]
  },
  {
   "cell_type": "code",
   "execution_count": 187,
   "metadata": {},
   "outputs": [
    {
     "ename": "\u001b[0;31m.model.Order\u001b[0m",
     "evalue": "\u001b[0;31m.model.Order\u001b[0m",
     "output_type": "error",
     "traceback": [
      "\u001b[0;31mevaluation error:\n\u001b[0m",
      "\u001b[0;31m.model.Order\u001b[0m",
      "\u001b[0;31m\u001b[0m",
      "\u001b[0;31m  [0]  .model.Order[`oqty`price`dlt`reduce`dqty;enlist(1;1000;1;1b;1)];\n       ^\n\u001b[0m"
     ]
    }
   ],
   "source": [
    ".model.Order[`oqty`price`dlt`reduce`dqty;enlist(1;1000;1;1b;1)];"
   ]
  },
  {
   "cell_type": "code",
   "execution_count": 218,
   "metadata": {},
   "outputs": [],
   "source": [
    ".model.Model:{[tb;cl;vl]\n",
    "    cvl:count[vl]; \n",
    "    $[cvl>1;[rx:(cvl#enlist[tb]);rx[cl]:flip[vl];:flip rx];[r[cl]:first[vl];:tb]]\n",
    "    };"
   ]
  },
  {
   "cell_type": "code",
   "execution_count": 231,
   "metadata": {},
   "outputs": [],
   "source": [
    ".model.Fill:{[cl;vl]\n",
    "    //if[null cl;cl:key .fill.r]; // TODO check\n",
    "    x:.model.Model[.fill.r;cl;vl];\n",
    "    x[`aId]:`.engine.model.account.Account$x[`aId];\n",
    "    x[`ivId]:`.engine.model.inventory.Inventory$x[`aId];\n",
    "    x\n",
    "    };"
   ]
  },
  {
   "cell_type": "code",
   "execution_count": 232,
   "metadata": {},
   "outputs": [
    {
     "ename": "\u001b[0;31mcast\u001b[0m",
     "evalue": "\u001b[0;31mcast\u001b[0m",
     "output_type": "error",
     "traceback": [
      "\u001b[0;31mevaluation error:\n\u001b[0m",
      "\u001b[0;31mcast\u001b[0m",
      "\u001b[0;31m\u001b[0m",
      "\u001b[0;31m  [1]  .model.Fill:\n    x[`aId]:`.engine.model.account.Account$x[`aId];\n    x[`ivId]:`.engine.model.inventory.Inventory$x[`aId];\n                                               ^\n    x\n\u001b[0m",
      "\u001b[0;31m  [0]  x:.model.Fill[`fId`price`side`qty`reduce`ismaker`oId`aId`iId`ivId`time;flip(0 1;1000 1000;1 -1;100 100;01b;01b;0 1;0 0;0 0;0 0;2#z)]\n         ^\n\u001b[0m"
     ]
    }
   ],
   "source": [
    "x:.model.Fill[`fId`price`side`qty`reduce`ismaker`oId`aId`iId`ivId`time;flip(0 1;1000 1000;1 -1;100 100;01b;01b;0 1;0 0;0 0;0 0;2#z)]"
   ]
  },
  {
   "cell_type": "code",
   "execution_count": 232,
   "metadata": {},
   "outputs": [
    {
     "data": {
      "text/plain": [
       "fId    | -7\n",
       "time   | -15\n",
       "price  | -7\n",
       "qty    | -7\n",
       "reduce | -1\n",
       "ismaker| -1\n",
       "side   | -7\n",
       "iId    | -7\n",
       "oId    | -7\n",
       "ivId   | -7\n",
       "aId    | -20\n"
      ]
     },
     "execution_count": 232,
     "metadata": {},
     "output_type": "execute_result"
    }
   ],
   "source": [
    "type each first flip x"
   ]
  },
  {
   "cell_type": "code",
   "execution_count": null,
   "metadata": {},
   "outputs": [],
   "source": []
  },
  {
   "cell_type": "code",
   "execution_count": null,
   "metadata": {},
   "outputs": [],
   "source": []
  }
 ],
 "metadata": {
  "kernelspec": {
   "display_name": "Q (kdb+)",
   "language": "q",
   "name": "qpk"
  },
  "language_info": {
   "file_extension": ".q",
   "mimetype": "text/x-q",
   "name": "q",
   "version": "4.0"
  }
 },
 "nbformat": 4,
 "nbformat_minor": 4
}
