{
 "cells": [
  {
   "cell_type": "code",
   "execution_count": 2,
   "metadata": {},
   "outputs": [],
   "source": [
    "\\cd ../qenv/"
   ]
  },
  {
   "cell_type": "code",
   "execution_count": 73,
   "metadata": {},
   "outputs": [
    {
     "name": "stdout",
     "output_type": "stream",
     "text": [
      "`type\n",
      "`[23] /home/qenv/qenv/engine/logic/testutils.q:67: .util.testutils.makeDefaultsRecords  :{[tab;cl;vl] // TODO inter with actual cols\n",
      "                                                    ^\n",
      "    r:.util.NullRowDict[tab];\n",
      "  [20] \\l /home/qenv/qenv/engine/logic/testutils.q\n",
      "       ^\n",
      "  [19] /home/qenv/qenv/engine/logic/init.q:14: .logic.loadTests:{\n",
      "    system[sv[\"\";(\"l \";x;\"/testutils.q\")]];\n",
      "    ^\n",
      "    .contract.loadTests[sv[\"/\";(x;\"contract\")]];\n",
      "  [18] /home/qenv/qenv/engine/init.q:11: loadTests:\n",
      "    system[sv[\"\";(\"l \";x;\"/engineTest.q\")]];\n",
      "    .logic.loadTests[sv[\"/\";(x;\"logic\")]];\n",
      "    ^\n",
      "    .valid.loadTests[sv[\"/\";(x;\"valid\")]];\n",
      "  [17] /home/qenv/qenv/engine/init.q:15: if[TESTING;loadTests[system[\"pwd\"][0]]];\n",
      "                                                    ^\n",
      "  [14] \\l engine/init.q\n",
      "       ^\n",
      "  [13] /home/qenv/qenv/test.q:20: \n",
      "    / \\l config/init.q\n",
      "    system\"l engine/init.q\";\n",
      "    ^\n",
      "    system\"l state/init.q\";\n",
      "  [12] (.Q.trp)\n",
      "\n",
      "  [11] /home/qenv/qenv/test.q:12: .Q.trp[{\n",
      "                                  ^\n",
      "    // Load common dependencies\n",
      "  [8]  \\l test.q\n",
      "       ^\n",
      "  [7]  (.Q.trp)\n",
      "\n",
      "  [6]  /home/kx/.conda/envs/kx/q/jupyterq_execution.q:39: {krnsnd[`.qpk.srvres].Q.trp[(0;)@\"q\"@;x;ef]}\n",
      "                                                                               ^\n",
      "  [5]  /home/kx/.conda/envs/kx/q/jupyterq_execution.q:36: .qpk.l@:k){x y}\n",
      "                                                                     ^\n",
      "  [4]  /home/kx/.conda/envs/kx/q/jupyterq_execution.q:36: .qpk.l:k){r@&~(::)~'r:y{x y}'\"\\n\"/:'x(&|1^\\|0N 0 1\"/ \"?*:'x[i],'\"/\")_i:&~|':(b?-1)#b:+\\-/(x:$[@x;`\\:;]x)~\\:/:+,\"/\\\\\"}\n",
      "                                                                                      ^\n",
      "  [3]  (.Q.trp)\n",
      "\n",
      "  [2]  /home/kx/.conda/envs/kx/q/jupyterq_execution.q:38: .qpk.trp:{.Q.trp[(0;)@ev@;` vs x;ef]}\n",
      "                                                                    ^\n",
      "  [1]  /home/kx/.conda/envs/kx/q/jupyterq_execution.q:55: .qpk.h.execute:\n",
      " mcn:u 1; / updated commands if any\n",
      " err:first res:trp ..\n"
     ]
    }
   ],
   "source": [
    "\\l test.q"
   ]
  },
  {
   "cell_type": "code",
   "execution_count": 13,
   "metadata": {},
   "outputs": [],
   "source": [
    "iv:first flip .bam.x"
   ]
  },
  {
   "cell_type": "code",
   "execution_count": 27,
   "metadata": {},
   "outputs": [
    {
     "data": {
      "text/plain": [
       "aId side| ordQty ordVal ordLoss amt iw mm posVal rpnl avgPrice execCost totEnt upnl lev\n",
       "--------| -----------------------------------------------------------------------------\n",
       "0   -1  | 0             0       10     0                                10     0       \n",
       "0   1   | 0             0       10     0                                10     0       \n"
      ]
     },
     "execution_count": 27,
     "metadata": {},
     "output_type": "execute_result"
    }
   ],
   "source": [
    ".engine.model.inventory.Inventory"
   ]
  },
  {
   "cell_type": "code",
   "execution_count": 17,
   "metadata": {},
   "outputs": [],
   "source": [
    ".engine.logic.contract.UnrealizedPnl    :{[contractType;markPrice;faceValue;multiplier;amt;isignum;avgPrice] \n",
    "      7h$($[contractType=0;.engine.logic.contract.inverse.UnrealizedPnl[amt;isignum;avgPrice;markPrice;faceValue;multiplier]; \n",
    "            contractType=0;.engine.logic.contract.inverse.UnrealizedPnl[amt;isignum;avgPrice;markPrice;faceValue;multiplier]; \n",
    "          contractType=0;.engine.logic.contract.inverse.UnrealizedPnl[amt;isignum;avgPrice;markPrice;faceValue;multiplier]; \n",
    "      'nyi] | 0)\n",
    "    };"
   ]
  },
  {
   "cell_type": "code",
   "execution_count": 16,
   "metadata": {},
   "outputs": [],
   "source": [
    ".engine.logic.contract.RealizedPnl    :{[contractType;fillQty;fillPrice;isignum;avgPrice;faceValue;multiplier]\n",
    "    7h$($[contractType=0;.engine.logic.contract.inverse.RealizedPnl[fillQty;fillPrice;isignum;avgPrice;faceValue;multiplier];\n",
    "      contractType=1;.engine.logic.contract.linear.RealizedPnl[fillQty;fillPrice;isignum;avgPrice;faceValue;multiplier];\n",
    "      contractType=2;.engine.logic.contract.quanto.RealizedPnl[fillQty;fillPrice;isignum;avgPrice;faceValue;multiplier];\n",
    "      'nyi] | 0)\n",
    "    };"
   ]
  },
  {
   "cell_type": "code",
   "execution_count": null,
   "metadata": {},
   "outputs": [],
   "source": []
  },
  {
   "cell_type": "code",
   "execution_count": 47,
   "metadata": {},
   "outputs": [
    {
     "data": {
      "text/plain": [
       "ordVal|  \n"
      ]
     },
     "execution_count": 47,
     "metadata": {},
     "output_type": "execute_result"
    }
   ],
   "source": [
    "select ivId.ordVal from .bam.x"
   ]
  },
  {
   "cell_type": "code",
   "execution_count": null,
   "metadata": {},
   "outputs": [],
   "source": [
    ".engine.logic.contract.ExecCost    :{[contractType;price;qty;multiplier]"
   ]
  },
  {
   "cell_type": "code",
   "execution_count": 54,
   "metadata": {},
   "outputs": [
    {
     "data": {
      "text/plain": [
       "fId     | 0          1         \n",
       "price   | 1000       1000      \n",
       "qty     | 100        100       \n",
       "reduce  | 0          1         \n",
       "ismaker | 0          1         \n",
       "side    | 1          -1        \n",
       "iId     | 0          0         \n",
       "oId     | 0          1         \n",
       "ivId    | 1          0         \n",
       "aId     | 0          0         \n",
       "avgPrice| 0          0         \n",
       "execCost| 10000000   10000000  \n",
       "ordLoss | 0          0         \n",
       "ordVal  | -100000000 -100000000\n",
       "ordQty  | -100       -100      \n",
       "amt     | 110        110       \n",
       "totEnt  | 210        210       \n"
      ]
     },
     "execution_count": 54,
     "metadata": {},
     "output_type": "execute_result"
    }
   ],
   "source": []
  },
  {
   "cell_type": "code",
   "execution_count": 72,
   "metadata": {},
   "outputs": [
    {
     "ename": "\u001b[0;31mnyi\u001b[0m",
     "evalue": "\u001b[0;31mnyi\u001b[0m",
     "output_type": "error",
     "traceback": [
      "\u001b[0;31mevaluation error:\n\u001b[0m",
      "\u001b[0;31mnyi\u001b[0m",
      "\u001b[0;31m\u001b[0m",
      "\u001b[0;31m  [1]  /home/qenv/qenv/engine/logic/contract/contract.q:43: .engine.logic.contract.AvgPrice:\n      contractType=2;.engine.logic.contract.quanto.AvgPrice[isignum;execCost;totalEntry;multiplier];\n      'nyi] | 0)\n       ^\n    }\n\u001b[0m",
      "\u001b[0;31m  [0]  iv:![![.bam.x;();0b;`avgPrice`execCost`ordLoss`ordVal`ordQty`amt`totEnt!(\n            ^\n        ((';`.engine.logic.contract.AvgPrice);`iId.cntTyp;`side;`ivId.execCost;`ivId.totEnt;`iId.smul); // TODO dependent\n\u001b[0m"
     ]
    }
   ],
   "source": [
    "iv:![![.bam.x;();0b;`avgPrice`execCost`ordLoss`ordVal`ordQty`amt`totEnt!(\n",
    "        ((';`.engine.logic.contract.AvgPrice);`iId.cntTyp;`side;`ivId.execCost;`ivId.totEnt;`iId.smul); // TODO dependent\n",
    "        ((';`.engine.logic.contract.ExecCost);`iId.cntTyp;`price;`qty;`iId.smul);\n",
    "        (-;`ivId.ordLoss;(`.engine.logic.contract.Loss;`iId.mkprice;`qty;((+/);`qty;`price)));\n",
    "        (-;`ivId.ordVal;((*/);`qty;`price));\n",
    "        (-;`ivId.ordQty;`qty);\n",
    "        (+;`ivId.amt;`qty);\n",
    "        ((+/);`ivId.totEnt;`qty)\n",
    "    )];\n",
    "    ();0b;`upnl`rpnl!(\n",
    "    ((';`.engine.logic.contract.UnrealizedPnl);`iId.cntTyp;`iId.mkprice;`iId.faceValue;`iId.smul;`ivId.amt;`side;`ivId.avgPrice);\n",
    "    ((';`.engine.logic.contract.RealizedPnl);`iId.cntTyp;`qty;`price;`side;`ivId.avgPrice;`iId.faceValue;`iId.smul))]"
   ]
  },
  {
   "cell_type": "code",
   "execution_count": 59,
   "metadata": {},
   "outputs": [],
   "source": [
    ".q.cl:{x!y[x]}"
   ]
  },
  {
   "cell_type": "code",
   "execution_count": 67,
   "metadata": {},
   "outputs": [
    {
     "data": {
      "text/plain": [
       "aId side| ordQty ordVal     ordLoss amt iw mm posVal rpnl avgPrice execCost totEnt upnl lev\n",
       "--------| ---------------------------------------------------------------------------------\n",
       "0   -1  | -100   -100000000 0       110    0         0    0        10000000 210    0       \n",
       "0   1   | -100   -100000000 0       110    0         0    0        10000000 210    0       \n"
      ]
     },
     "execution_count": 67,
     "metadata": {},
     "output_type": "execute_result"
    }
   ],
   "source": [
    ".engine.model.inventory.Inventory upsert flip "
   ]
  },
  {
   "cell_type": "code",
   "execution_count": 68,
   "metadata": {},
   "outputs": [
    {
     "data": {
      "text/plain": [
       "fId    | 0    1   \n",
       "price  | 1000 1000\n",
       "qty    | 100  100 \n",
       "reduce | 0    1   \n",
       "ismaker| 0    1   \n",
       "side   | 1    -1  \n",
       "iId    | 0    0   \n",
       "oId    | 0    1   \n",
       "ivId   | 1    0   \n",
       "aId    | 0    0   \n"
      ]
     },
     "execution_count": 68,
     "metadata": {},
     "output_type": "execute_result"
    }
   ],
   "source": [
    ".bam.x"
   ]
  },
  {
   "cell_type": "code",
   "execution_count": null,
   "metadata": {},
   "outputs": [],
   "source": [
    ".engine.logic.inventory.Fill:{ // TODO simple select\n",
    "\n",
    "    iv:?[?[x;();0b;(\n",
    "                (`.engine.logic.contract.UnrealizedPnl;`cntTyp;`mkprice;`faceValue;`smul;`amt;`side;`avgPrice);\n",
    "                (`.engine.logic.contract.RealizedPnl;`iId.cntTyp;`qty;`price;`side;`ivId.avgPrice;`iId.faceValue;`iId.smul)\n",
    "        )];();0b;(\n",
    "        (`.engine.logic.contract.AvgPrice);\n",
    "        (`.engine.logic.contract.ExecCost);\n",
    "        (-;`ivId.ordLoss;(`.engine.logic.contract.Loss;));\n",
    "        (-;`ivId.ordVal;(`.engine.logic.contract.Value;));\n",
    "        (-;`ivId.ordQty;qty);\n",
    "        (+;`amt;`dlt);\n",
    "        (sum;`ivId.totalEntry;(max;`dlt;0))\n",
    "        )];\n",
    "\n",
    "    .engine.model.inventory.Update iv;\n",
    "    .engine.EmitA[`inventory;];\n",
    "\n",
    "    \t\t/if[abs[iv[`amt]]=0;iv[`avgPrice`execCost`totalEntry]:0];\n",
    "\n",
    "    };\n",
    "\n"
   ]
  },
  {
   "cell_type": "code",
   "execution_count": 70,
   "metadata": {},
   "outputs": [
    {
     "data": {
      "text/plain": [
       "`inventory\n",
       "`long$()\n",
       "(`.engine.model.account.Account$0 0;1 -1;`long$();110 110;0 0;0 0;0 0)\n",
       "`.engine.model.account.Account$0 0\n"
      ]
     },
     "execution_count": 70,
     "metadata": {},
     "output_type": "execute_result"
    }
   ],
   "source": [
    "[(iv`kind;iv`time;iv`aId`side`time`amt`rpnl`avgPrice`upnl;iv`aId)]"
   ]
  },
  {
   "cell_type": "code",
   "execution_count": 68,
   "metadata": {},
   "outputs": [
    {
     "ename": "\u001b[0;31mlength\u001b[0m",
     "evalue": "\u001b[0;31mlength\u001b[0m",
     "output_type": "error",
     "traceback": [
      "\u001b[0;31mevaluation error:\n\u001b[0m",
      "\u001b[0;31mlength\u001b[0m",
      "\u001b[0;31m\u001b[0m",
      "\u001b[0;31m  [0]  show [(iv`kind;iv`time;flip iv`aId`side`time`amt`rpnl`avgPrice`upnl;iv`aId)];\n                              ^\n\u001b[0m"
     ]
    }
   ],
   "source": [
    "iv[`kind]:`inventory;\n",
    "show ;\n",
    ".engine.EmitA[iv`kind;s`time;flip s`aId`side`time`amt`rpnl`avgPrice`upnl;iv`aId];\n"
   ]
  },
  {
   "cell_type": "code",
   "execution_count": null,
   "metadata": {},
   "outputs": [],
   "source": []
  },
  {
   "cell_type": "code",
   "execution_count": null,
   "metadata": {},
   "outputs": [],
   "source": []
  },
  {
   "cell_type": "code",
   "execution_count": null,
   "metadata": {},
   "outputs": [],
   "source": []
  },
  {
   "cell_type": "code",
   "execution_count": null,
   "metadata": {},
   "outputs": [],
   "source": []
  }
 ],
 "metadata": {
  "kernelspec": {
   "display_name": "Q (kdb+)",
   "language": "q",
   "name": "qpk"
  },
  "language_info": {
   "file_extension": ".q",
   "mimetype": "text/x-q",
   "name": "q",
   "version": "4.0"
  }
 },
 "nbformat": 4,
 "nbformat_minor": 4
}
