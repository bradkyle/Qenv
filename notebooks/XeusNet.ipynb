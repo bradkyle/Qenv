{
 "cells": [
  {
   "cell_type": "code",
   "execution_count": 1,
   "metadata": {},
   "outputs": [],
   "source": []
  },
  {
   "cell_type": "code",
   "execution_count": 1,
   "metadata": {
    "run_control": {
     "marked": true
    }
   },
   "outputs": [],
   "source": [
    "#pragma cling add_include_path(\"./thirdparty/libtorch/include\")\n",
    "#pragma cling add_include_path(\"./thirdparty/libtorch/include/torch/csrc/api/include\")\n",
    "#pragma cling add_library_path(\"./thirdparty/libtorch/lib\")\n",
    "#pragma cling load(\"libtorch\")\n",
    "\n",
    "\n",
    "#include <torch/torch.h>\n",
    "#include <torch/csrc/autograd/variable.h>\n",
    "#include <torch/csrc/autograd/function.h>"
   ]
  },
  {
   "cell_type": "code",
   "execution_count": 7,
   "metadata": {},
   "outputs": [
    {
     "name": "stderr",
     "output_type": "stream",
     "text": [
      "\u001b[1minput_line_19:1:10: \u001b[0m\u001b[0;1;31mfatal error: \u001b[0m\u001b[1m'nest/nest.h' file not found\u001b[0m\n",
      "#include <nest/nest.h>\n",
      "\u001b[0;1;32m         ^~~~~~~~~~~~~\n",
      "\u001b[0m"
     ]
    },
    {
     "ename": "Interpreter Error",
     "evalue": "",
     "output_type": "error",
     "traceback": [
      "Interpreter Error: "
     ]
    }
   ],
   "source": [
    "#pragma cling add_include_path(\"./thirdparty/nest/include\")\n",
    "#include <nest/nest.h>"
   ]
  },
  {
   "cell_type": "code",
   "execution_count": 2,
   "metadata": {},
   "outputs": [],
   "source": [
    "torch::Tensor t;\n",
    "t = torch::rand({5,5}).to(torch::kFloat64)/255;"
   ]
  },
  {
   "cell_type": "code",
   "execution_count": 3,
   "metadata": {},
   "outputs": [],
   "source": [
    "torch::Tensor t1 = torch::multinomial(torch::softmax(t,1),1).view({-1, 1}).neg()"
   ]
  },
  {
   "cell_type": "code",
   "execution_count": 4,
   "metadata": {},
   "outputs": [
    {
     "name": "stdout",
     "output_type": "stream",
     "text": [
      "[5, 1]\n"
     ]
    },
    {
     "data": {
      "text/plain": [
       "@0x7fb5c4d37b60"
      ]
     },
     "execution_count": 4,
     "metadata": {},
     "output_type": "execute_result"
    }
   ],
   "source": [
    "std::cout << t1.sizes() << std::endl"
   ]
  },
  {
   "cell_type": "code",
   "execution_count": null,
   "metadata": {},
   "outputs": [],
   "source": []
  },
  {
   "cell_type": "code",
   "execution_count": 10,
   "metadata": {},
   "outputs": [],
   "source": [
    "\n",
    "struct NetInput {\n",
    "    torch::Tensor \n",
    "};\n",
    "\n",
    "// Define a new Module.\n",
    "struct Net : torch::nn::Module {\n",
    "  Net(int64_t num_actions, observation_shape, bool_t use_lstm) { // TODO\n",
    "    // Construct and register two Linear submodules.\n",
    "    fc1 = register_module(\"fc1\", torch::nn::Linear(784, 64));\n",
    "    fc2 = register_module(\"fc2\", torch::nn::Linear(64, 32));\n",
    "    fc3 = register_module(\"fc3\", torch::nn::Linear(32, 10));\n",
    "  }\n",
    "\n",
    "  // Implement the Net's algorithm.\n",
    "  torch::Tensor forward(NetInput inputs, torch::Tensor& core_state) {\n",
    "      \n",
    "        torch::Tensor x;\n",
    "        x = inputs.frame; // TODO check\n",
    "        T = x.sizes()[0];\n",
    "        B = x.sizes()[1];\n",
    "        x = x.flatten(0,1);\n",
    "        x = x.to(torch::kFloat64);\n",
    "\n",
    "        x = torch::relu(fc1); // TODO\n",
    "\n",
    "        x = x.view({T*B,-1});\n",
    "        x = torch::relu(fc(x)); // TODO\n",
    "\n",
    "        torch::Tensor one_hot_last_action = torch::one_hot(\n",
    "            inputs.last_action.view({T*B}),\n",
    "            num_actions\n",
    "        );\n",
    "      \n",
    "        torch::Tensor clipped_reward = inputs.reward\n",
    "                .clamp(-1,1)\n",
    "                .view({T*B,1});\n",
    "      \n",
    "        torch::Tensor core_input = torch::cat({\n",
    "            x,\n",
    "            clipped_reward,\n",
    "            one_hot_last_action\n",
    "        },-10);\n",
    "      \n",
    "        torch::Tensor core_output;\n",
    "        if (use_lstm){\n",
    "            core_output = core_input.view({T,B,-10});\n",
    "            core_output_list = ();\n",
    "            torch::Tensor not_done = inputs.\n",
    "                                     done.\n",
    "                                     neg().\n",
    "                                     to(torch::kFloat64);\n",
    "            \n",
    "            \n",
    "            for () {\n",
    "                // Reset core state to zero whenever an episode ended.\n",
    "                // Make `done` broadcastable with (num_layers, B, hidden_size)\n",
    "                // states:\n",
    "                core_state = \n",
    "            };            \n",
    "            \n",
    "            core_output = torch::cat(core_output).view({0,1}); //TODO\n",
    "        } else {\n",
    "            core_output = core_input;\n",
    "        };\n",
    "      \n",
    "        torch::Tensor policy_logits = (); // TODO\n",
    "        torch::Tensor baseline = (); // TODO\n",
    "      \n",
    "        torch::Tensor action;\n",
    "        if (self.is_training()) {\n",
    "            action = torch::multinomial(\n",
    "                torch::softmax(policy_logits, 1),\n",
    "                1);\n",
    "        } else {\n",
    "            action = torch.argmax(policy_logits,1);\n",
    "        };\n",
    "   \n",
    "        policy_logits = policy_logits.view({T,B,num_actions});\n",
    "        baseline = baseline.view({T,B});\n",
    "        action = action.view({T,B});\n",
    "\n",
    "        return x; // TODO return tuple\n",
    "  }\n",
    "\n",
    "  // Use one of many \"standard library\" modules.\n",
    "  torch::nn::Linear fc1{nullptr}, fc2{nullptr}, fc3{nullptr};\n",
    "};\n",
    "\n"
   ]
  },
  {
   "cell_type": "code",
   "execution_count": null,
   "metadata": {},
   "outputs": [],
   "source": []
  },
  {
   "cell_type": "code",
   "execution_count": 11,
   "metadata": {},
   "outputs": [],
   "source": [
    "int main() {\n",
    "  // Create a new Net.\n",
    "  auto net = std::make_shared<Net>();\n",
    "\n",
    "  // Create a multi-threaded data loader for the MNIST dataset.\n",
    "  auto data_loader = torch::data::make_data_loader(\n",
    "      torch::data::datasets::MNIST(\"./data\").map(\n",
    "          torch::data::transforms::Stack<>()),\n",
    "      /*batch_size=*/64);\n",
    "\n",
    "  // Instantiate an SGD optimization algorithm to update our Net's parameters.\n",
    "  torch::optim::SGD optimizer(net->parameters(), /*lr=*/0.01);\n",
    "\n",
    "  for (size_t epoch = 1; epoch <= 10; ++epoch) {\n",
    "    size_t batch_index = 0;\n",
    "    // Iterate the data loader to yield batches from the dataset.\n",
    "    for (auto& batch : *data_loader) {\n",
    "      // Reset gradients.\n",
    "      optimizer.zero_grad();\n",
    "      // Execute the model on the input data.\n",
    "      torch::Tensor prediction = net->forward(batch.data);\n",
    "      // Compute a loss value to judge the prediction of our model.\n",
    "      torch::Tensor loss = torch::nll_loss(prediction, batch.target);\n",
    "      // Compute gradients of the loss w.r.t. the parameters of our model.\n",
    "      loss.backward();\n",
    "      // Update the parameters based on the calculated gradients.\n",
    "      optimizer.step();\n",
    "      // Output the loss and checkpoint every 100 batches.\n",
    "      if (++batch_index % 100 == 0) {\n",
    "        std::cout << \"Epoch: \" << epoch << \" | Batch: \" << batch_index\n",
    "                  << \" | Loss: \" << loss.item<float>() << std::endl;\n",
    "        // Serialize your model periodically as a checkpoint.\n",
    "        torch::save(net, \"net.pt\");\n",
    "      }\n",
    "    }\n",
    "  }\n",
    "}"
   ]
  },
  {
   "cell_type": "code",
   "execution_count": 12,
   "metadata": {},
   "outputs": [
    {
     "ename": "Standard Exception",
     "evalue": "Error opening images file at ./data/train-images-idx3-ubyte\nException raised from read_images at ../torch/csrc/api/src/data/datasets/mnist.cpp:66 (most recent call first):\nframe #0: c10::Error::Error(c10::SourceLocation, std::__cxx11::basic_string<char, std::char_traits<char>, std::allocator<char> >) + 0x69 (0x7fbac1801569 in /home/thorad/Core/Projects/Qenv/notebooks/thirdparty/libtorch/lib/libc10.so)\nframe #1: <unknown function> + 0x33615cc (0x7fbaa668c5cc in /home/thorad/Core/Projects/Qenv/notebooks/thirdparty/libtorch/lib/libtorch_cpu.so)\nframe #2: torch::data::datasets::MNIST::MNIST(std::__cxx11::basic_string<char, std::char_traits<char>, std::allocator<char> > const&, torch::data::datasets::MNIST::Mode) + 0x46 (0x7fbaa668e136 in /home/thorad/Core/Projects/Qenv/notebooks/thirdparty/libtorch/lib/libtorch_cpu.so)\nframe #3: [0x7fbac9585075]\nframe #4: [0x7fbac95bc031]\nframe #5: cling::IncrementalExecutor::executeWrapper(llvm::StringRef, cling::Value*) const + 0x38a (0x7fbacbc4e4fa in /opt/anaconda3/envs/cling/bin/../lib/libxeus-cling.so.0)\nframe #6: cling::Interpreter::RunFunction(clang::FunctionDecl const*, cling::Value*) + 0x9a (0x7fbacbbb987a in /opt/anaconda3/envs/cling/bin/../lib/libxeus-cling.so.0)\nframe #7: cling::Interpreter::EvaluateInternal(std::__cxx11::basic_string<char, std::char_traits<char>, std::allocator<char> > const&, cling::CompilationOptions, cling::Value*, cling::Transaction**, unsigned long) + 0x21a (0x7fbacbbbab2a in /opt/anaconda3/envs/cling/bin/../lib/libxeus-cling.so.0)\nframe #8: cling::Interpreter::process(std::__cxx11::basic_string<char, std::char_traits<char>, std::allocator<char> > const&, cling::Value*, cling::Transaction**, bool) + 0x10f (0x7fbacbbbadbf in /opt/anaconda3/envs/cling/bin/../lib/libxeus-cling.so.0)\nframe #9: cling::MetaProcessor::process(llvm::StringRef, cling::Interpreter::CompilationResult&, cling::Value*, bool) + 0x1ef (0x7fbacbcb414f in /opt/anaconda3/envs/cling/bin/../lib/libxeus-cling.so.0)\nframe #10: xcpp::interpreter::execute_request_impl(int, std::__cxx11::basic_string<char, std::char_traits<char>, std::allocator<char> > const&, bool, bool, nlohmann::basic_json<std::map, std::vector, std::__cxx11::basic_string<char, std::char_traits<char>, std::allocator<char> >, bool, long, unsigned long, double, std::allocator, nlohmann::adl_serializer>, bool) + 0x31b (0x7fbacbb693cb in /opt/anaconda3/envs/cling/bin/../lib/libxeus-cling.so.0)\nframe #11: xeus::xinterpreter::execute_request(std::__cxx11::basic_string<char, std::char_traits<char>, std::allocator<char> > const&, bool, bool, nlohmann::basic_json<std::map, std::vector, std::__cxx11::basic_string<char, std::char_traits<char>, std::allocator<char> >, bool, long, unsigned long, double, std::allocator, nlohmann::adl_serializer>, bool) + 0x141 (0x7fbacb11be81 in /opt/anaconda3/envs/cling/bin/../lib/libxeus.so.1)\nframe #12: xeus::xkernel_core::execute_request(xeus::xmessage const&, xeus::channel) + 0x326 (0x7fbacb102f86 in /opt/anaconda3/envs/cling/bin/../lib/libxeus.so.1)\nframe #13: xeus::xkernel_core::dispatch(zmq::multipart_t&, xeus::channel) + 0x1a0 (0x7fbacb104680 in /opt/anaconda3/envs/cling/bin/../lib/libxeus.so.1)\nframe #14: xeus::xserver_zmq::poll(long) + 0x1ec (0x7fbacb12966c in /opt/anaconda3/envs/cling/bin/../lib/libxeus.so.1)\nframe #15: xeus::xserver_zmq::start_impl(zmq::multipart_t&) + 0x4c (0x7fbacb12972c in /opt/anaconda3/envs/cling/bin/../lib/libxeus.so.1)\nframe #16: xeus::xkernel::start() + 0x3c (0x7fbacb11a27c in /opt/anaconda3/envs/cling/bin/../lib/libxeus.so.1)\nframe #17: main + 0x204 (0x56116fe2c734 in /opt/anaconda3/envs/cling/bin/xcpp)\nframe #18: __libc_start_main + 0xf3 (0x7fbacfc6eee3 in /usr/lib/libc.so.6)\nframe #19: <unknown function> + 0x13199 (0x56116fe2d199 in /opt/anaconda3/envs/cling/bin/xcpp)\n",
     "output_type": "error",
     "traceback": [
      "Standard Exception: Error opening images file at ./data/train-images-idx3-ubyte\nException raised from read_images at ../torch/csrc/api/src/data/datasets/mnist.cpp:66 (most recent call first):\nframe #0: c10::Error::Error(c10::SourceLocation, std::__cxx11::basic_string<char, std::char_traits<char>, std::allocator<char> >) + 0x69 (0x7fbac1801569 in /home/thorad/Core/Projects/Qenv/notebooks/thirdparty/libtorch/lib/libc10.so)\nframe #1: <unknown function> + 0x33615cc (0x7fbaa668c5cc in /home/thorad/Core/Projects/Qenv/notebooks/thirdparty/libtorch/lib/libtorch_cpu.so)\nframe #2: torch::data::datasets::MNIST::MNIST(std::__cxx11::basic_string<char, std::char_traits<char>, std::allocator<char> > const&, torch::data::datasets::MNIST::Mode) + 0x46 (0x7fbaa668e136 in /home/thorad/Core/Projects/Qenv/notebooks/thirdparty/libtorch/lib/libtorch_cpu.so)\nframe #3: [0x7fbac9585075]\nframe #4: [0x7fbac95bc031]\nframe #5: cling::IncrementalExecutor::executeWrapper(llvm::StringRef, cling::Value*) const + 0x38a (0x7fbacbc4e4fa in /opt/anaconda3/envs/cling/bin/../lib/libxeus-cling.so.0)\nframe #6: cling::Interpreter::RunFunction(clang::FunctionDecl const*, cling::Value*) + 0x9a (0x7fbacbbb987a in /opt/anaconda3/envs/cling/bin/../lib/libxeus-cling.so.0)\nframe #7: cling::Interpreter::EvaluateInternal(std::__cxx11::basic_string<char, std::char_traits<char>, std::allocator<char> > const&, cling::CompilationOptions, cling::Value*, cling::Transaction**, unsigned long) + 0x21a (0x7fbacbbbab2a in /opt/anaconda3/envs/cling/bin/../lib/libxeus-cling.so.0)\nframe #8: cling::Interpreter::process(std::__cxx11::basic_string<char, std::char_traits<char>, std::allocator<char> > const&, cling::Value*, cling::Transaction**, bool) + 0x10f (0x7fbacbbbadbf in /opt/anaconda3/envs/cling/bin/../lib/libxeus-cling.so.0)\nframe #9: cling::MetaProcessor::process(llvm::StringRef, cling::Interpreter::CompilationResult&, cling::Value*, bool) + 0x1ef (0x7fbacbcb414f in /opt/anaconda3/envs/cling/bin/../lib/libxeus-cling.so.0)\nframe #10: xcpp::interpreter::execute_request_impl(int, std::__cxx11::basic_string<char, std::char_traits<char>, std::allocator<char> > const&, bool, bool, nlohmann::basic_json<std::map, std::vector, std::__cxx11::basic_string<char, std::char_traits<char>, std::allocator<char> >, bool, long, unsigned long, double, std::allocator, nlohmann::adl_serializer>, bool) + 0x31b (0x7fbacbb693cb in /opt/anaconda3/envs/cling/bin/../lib/libxeus-cling.so.0)\nframe #11: xeus::xinterpreter::execute_request(std::__cxx11::basic_string<char, std::char_traits<char>, std::allocator<char> > const&, bool, bool, nlohmann::basic_json<std::map, std::vector, std::__cxx11::basic_string<char, std::char_traits<char>, std::allocator<char> >, bool, long, unsigned long, double, std::allocator, nlohmann::adl_serializer>, bool) + 0x141 (0x7fbacb11be81 in /opt/anaconda3/envs/cling/bin/../lib/libxeus.so.1)\nframe #12: xeus::xkernel_core::execute_request(xeus::xmessage const&, xeus::channel) + 0x326 (0x7fbacb102f86 in /opt/anaconda3/envs/cling/bin/../lib/libxeus.so.1)\nframe #13: xeus::xkernel_core::dispatch(zmq::multipart_t&, xeus::channel) + 0x1a0 (0x7fbacb104680 in /opt/anaconda3/envs/cling/bin/../lib/libxeus.so.1)\nframe #14: xeus::xserver_zmq::poll(long) + 0x1ec (0x7fbacb12966c in /opt/anaconda3/envs/cling/bin/../lib/libxeus.so.1)\nframe #15: xeus::xserver_zmq::start_impl(zmq::multipart_t&) + 0x4c (0x7fbacb12972c in /opt/anaconda3/envs/cling/bin/../lib/libxeus.so.1)\nframe #16: xeus::xkernel::start() + 0x3c (0x7fbacb11a27c in /opt/anaconda3/envs/cling/bin/../lib/libxeus.so.1)\nframe #17: main + 0x204 (0x56116fe2c734 in /opt/anaconda3/envs/cling/bin/xcpp)\nframe #18: __libc_start_main + 0xf3 (0x7fbacfc6eee3 in /usr/lib/libc.so.6)\nframe #19: <unknown function> + 0x13199 (0x56116fe2d199 in /opt/anaconda3/envs/cling/bin/xcpp)\n"
     ]
    }
   ],
   "source": [
    "main()"
   ]
  },
  {
   "cell_type": "code",
   "execution_count": null,
   "metadata": {},
   "outputs": [],
   "source": []
  },
  {
   "cell_type": "code",
   "execution_count": null,
   "metadata": {},
   "outputs": [],
   "source": []
  },
  {
   "cell_type": "code",
   "execution_count": null,
   "metadata": {},
   "outputs": [],
   "source": []
  },
  {
   "cell_type": "code",
   "execution_count": null,
   "metadata": {},
   "outputs": [],
   "source": []
  }
 ],
 "metadata": {
  "kernelspec": {
   "display_name": "C++17",
   "language": "C++17",
   "name": "xcpp17"
  },
  "language_info": {
   "codemirror_mode": "text/x-c++src",
   "file_extension": ".cpp",
   "mimetype": "text/x-c++src",
   "name": "c++",
   "version": "17"
  },
  "latex_envs": {
   "LaTeX_envs_menu_present": true,
   "autoclose": false,
   "autocomplete": true,
   "bibliofile": "biblio.bib",
   "cite_by": "apalike",
   "current_citInitial": 1,
   "eqLabelWithNumbers": true,
   "eqNumInitial": 1,
   "hotkeys": {
    "equation": "Ctrl-E",
    "itemize": "Ctrl-I"
   },
   "labels_anchors": false,
   "latex_user_defs": false,
   "report_style_numbering": false,
   "user_envs_cfg": false
  },
  "varInspector": {
   "cols": {
    "lenName": 16,
    "lenType": 16,
    "lenVar": 40
   },
   "kernels_config": {
    "python": {
     "delete_cmd_postfix": "",
     "delete_cmd_prefix": "del ",
     "library": "var_list.py",
     "varRefreshCmd": "print(var_dic_list())"
    },
    "r": {
     "delete_cmd_postfix": ") ",
     "delete_cmd_prefix": "rm(",
     "library": "var_list.r",
     "varRefreshCmd": "cat(var_dic_list()) "
    }
   },
   "types_to_exclude": [
    "module",
    "function",
    "builtin_function_or_method",
    "instance",
    "_Feature"
   ],
   "window_display": false
  }
 },
 "nbformat": 4,
 "nbformat_minor": 4
}
