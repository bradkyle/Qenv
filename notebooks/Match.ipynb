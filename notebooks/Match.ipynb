{
 "cells": [
  {
   "cell_type": "code",
   "execution_count": 1,
   "metadata": {},
   "outputs": [],
   "source": [
    "\\cd ../qenv"
   ]
  },
  {
   "cell_type": "code",
   "execution_count": 46,
   "metadata": {},
   "outputs": [
    {
     "name": "stdout",
     "output_type": "stream",
     "text": [
      "\"###################################################################################################\"\n",
      "\"                                             TEST\"\n",
      "\"###################################################################################################\"\n",
      "\"===================================================================================================\"\n",
      "\"31) .engine.logic.order.New (UNIT) :READY\"\n",
      "`Global function for processing new orders, amending orders and cancelling orders (amending to 0)\n",
      "\"---------------------------------------------------------------------------------------------------\"\n",
      "caseId state dscr                                                                                                    \n",
      "---------------------------------------------------------------------------------------------------------------------\n",
      "212    ERROR Place new buy post only limit order at best price, no previous depth or agent orders should update depth\n",
      "213    ERROR Place new buy post only limit order, previous depth, no agent orders should update depth                \n",
      "\"===================================================================================================\"\n",
      "\"34) .engine.logic.order.CancelAll (UNIT) :READY\"\n",
      "`Global function for processing new orders, amending orders and cancelling orders (amending to 0)\n",
      "\"---------------------------------------------------------------------------------------------------\"\n",
      "caseId state dscr                                                                                        \n",
      "---------------------------------------------------------------------------------------------------------\n",
      "216    ERROR Amend limit order (first in queue), smaller than previous, should update offsets, depth etc.\n",
      "\"===================================================================================================\"\n",
      "\"35) .engine.logic.orderbook.Level (UNIT) :READY\"\n",
      "`Given a depth update which consists of a table of time,side,pricesize update the orderbook and the individual order offsets/icebergorders where necessary\n",
      "\"---------------------------------------------------------------------------------------------------\"\n",
      "caseId state dscr                                            \n",
      "-------------------------------------------------------------\n",
      "217    ERROR No change occurs and thus no update is triggered\n",
      "\"===================================================================================================\"\n",
      "\"36) .engine.logic.match.Match (UNIT) :READY\"\n",
      "`Global function for creating a new account\n",
      "\"---------------------------------------------------------------------------------------------------\"\n",
      "caseId state dscr                                                                                                                                                                          \n",
      "-------------------------------------------------------------------------------------------------------------------------------------------------------------------------------------------\n",
      "218    ERROR 1a) Prj;essTrade SELL: has agent hidden jxders, lvl1 size > qty, trade djpsn't fill agentjider, trade executijy <= agent jrder jwfset, fill is agent (partial hidden qty fill)\n",
      "219    ERROR 1a) Prj;essTrade SELL: has agent hidden jxders, lvl1 size > qty, trade djpsn't fill agentjider, trade executijy <= agent jrder jwfset, fill is agent (partial hidden qty fill)\n",
      "\"                                                                                                                                                                                                                                                                                                                                                                                                                \"\n",
      "\"###################################################################################################\"\n",
      "\"                                      TESTS COMPLETED\"\n",
      "\"###################################################################################################\"\n",
      "state| x  \n",
      "-----| ---\n",
      "ERROR| 6  \n",
      "SKIP | 367\n",
      "\"                                                                                                                                                                                                                                                                                                                                                                                                                \"\n"
     ]
    }
   ],
   "source": [
    "\\l test.q"
   ]
  },
  {
   "cell_type": "code",
   "execution_count": 140,
   "metadata": {},
   "outputs": [],
   "source": [
    "s:((!) . flip(\n",
    "                (`instrument;(`iId`cntTyp`faceValue`mkprice`smul;enlist(0;0;1;1000;1))); \n",
    "                (`account;(`aId`avail`bal`lng`srt`ft`rt`wit`time`froz;enlist(0;0;0;(0 1);(0 -1);0;0;0;z;0))); \n",
    "                (`inventory;(`aId`side`mm`upnl`ordQty`ordLoss`amt;flip(0 0;-1 1;0 0;0 0;0 0;0 0;10 10))); \n",
    "                (`feetier;(`ftId`vol`bal`ref;flip(0 1;0 0;0 0;0 0))); // Update Account\n",
    "                (`orderbook;(`price`side`qty`hqty`iqty`vqty`time;flip(1000 1001;2#1;2#100;2#100;2#0;2#0;2#z)));\n",
    "                (`order;(`oId`aId`iId`ivId`side`oqty`price`reduce`dqty`okind`state`offset;flip(1 2;0 0;0 0;((0 1);(0 1));1 1;200 200;1000 1000;11b;1 1;1 1;0 0;0 210)));\n",
    "                (`risktier;(`rtId`amt`lev;flip(0 1;50000 250000;125 100))) // Update Account\n",
    "            ));"
   ]
  },
  {
   "cell_type": "code",
   "execution_count": 49,
   "metadata": {},
   "outputs": [
    {
     "data": {
      "text/plain": [
       "aId side ordQty ordVal ordLoss amt iw mm posVal rpnl avgPrice execCost totEnt upnl lev time\n",
       "-------------------------------------------------------------------------------------------\n",
       "0   -1   0             0       10     0                                       0            \n",
       "0   1    0             0       10     0                                       0            \n"
      ]
     },
     "execution_count": 49,
     "metadata": {},
     "output_type": "execute_result"
    }
   ],
   "source": [
    ".model.Inventory . s[`inventory]"
   ]
  },
  {
   "cell_type": "code",
   "execution_count": 44,
   "metadata": {},
   "outputs": [
    {
     "data": {
      "text/plain": [
       "price iId side qty hqty iqty vqty time                   \n",
       "---------------------------------------------------------\n",
       "1000      1    100 100  0    0    2020.12.18T22:08:51.278\n",
       "1001      1    100 100  0    0    2020.12.18T22:08:51.278\n"
      ]
     },
     "execution_count": 44,
     "metadata": {},
     "output_type": "execute_result"
    }
   ],
   "source": [
    ".model.Level . (`price`side`qty`hqty`iqty`vqty`time;flip(1000 1001;2#1;2#100;2#100;2#0;2#0;2#z))"
   ]
  },
  {
   "cell_type": "code",
   "execution_count": 141,
   "metadata": {},
   "outputs": [],
   "source": [
    ".engine.testutils.SwitchSetupModels[s];"
   ]
  },
  {
   "cell_type": "code",
   "execution_count": 96,
   "metadata": {},
   "outputs": [
    {
     "data": {
      "text/plain": [
       "price| iId side qty hqty iqty vqty time                   \n",
       "-----| ---------------------------------------------------\n",
       "1000 |     1    100 100  0    0    2020.12.18T22:10:21.721\n",
       "1001 |     1    100 100  0    0    2020.12.18T22:10:21.721\n"
      ]
     },
     "execution_count": 96,
     "metadata": {},
     "output_type": "execute_result"
    }
   ],
   "source": [
    ".engine.model.orderbook.Orderbook"
   ]
  },
  {
   "cell_type": "code",
   "execution_count": 114,
   "metadata": {},
   "outputs": [
    {
     "data": {
      "text/plain": [
       "oId aId iId ivId price lprice side sprice trig tif okind oskind reduce state oqty dqty lqty offset einst time\n",
       "-------------------------------------------------------------------------------------------------------------\n",
       "1   0   0   1    1000         1                    1            1      0     200  1                          \n",
       "2   0   0   1    1000         1                    1            1      0     200  1                          \n"
      ]
     },
     "execution_count": 114,
     "metadata": {},
     "output_type": "execute_result"
    }
   ],
   "source": [
    ".model.Order . s[`order]"
   ]
  },
  {
   "cell_type": "code",
   "execution_count": 142,
   "metadata": {},
   "outputs": [],
   "source": [
    "l:0!?[`.engine.modtel.orderbook.Orderbook;(\n",
    "        (in;`side;x`side);\n",
    "        (>;(+;`qty;(+;`hqty;(+;`iqty;`vqty)));0);\n",
    "        (|;(<;(+\\;`qty);sum[x`oqty]);\n",
    "        (=;`i;(*:;`i))));0b;()]"
   ]
  },
  {
   "cell_type": "code",
   "execution_count": 143,
   "metadata": {},
   "outputs": [
    {
     "data": {
      "text/plain": [
       "price iId side qty hqty iqty vqty time                   \n",
       "---------------------------------------------------------\n",
       "1000      1    100 100  0    0    2020.12.18T22:10:21.721\n",
       "1001      1    100 100  0    0    2020.12.18T22:10:21.721\n"
      ]
     },
     "execution_count": 143,
     "metadata": {},
     "output_type": "execute_result"
    }
   ],
   "source": [
    "l"
   ]
  },
  {
   "cell_type": "code",
   "execution_count": 74,
   "metadata": {},
   "outputs": [],
   "source": [
    "aqty:sum[l[`qty`iqty`hqty`vqty]]\n",
    "t"
   ]
  },
  {
   "cell_type": "code",
   "execution_count": 144,
   "metadata": {},
   "outputs": [],
   "source": [
    "rp:min[(sum x`oqty;first[aqty])]^((thresh-prev[thresh])-(thresh-sum x`oqty));"
   ]
  },
  {
   "cell_type": "code",
   "execution_count": 145,
   "metadata": {},
   "outputs": [],
   "source": [
    "l[`rp]:rp"
   ]
  },
  {
   "cell_type": "code",
   "execution_count": 146,
   "metadata": {},
   "outputs": [],
   "source": [
    "o:?[`.engine.model.order.Order;(\n",
    "            (=;`okind;1);\n",
    "            (in;`price;l[`price] where (l[`rp]>0));\n",
    "            (in;`state;(0 1));(>;`oqty;0));0b;()];"
   ]
  },
  {
   "cell_type": "code",
   "execution_count": 147,
   "metadata": {},
   "outputs": [
    {
     "data": {
      "text/plain": [
       "1000 1001\n"
      ]
     },
     "execution_count": 147,
     "metadata": {},
     "output_type": "execute_result"
    }
   ],
   "source": [
    "l[`price] where (l[`rp]>0)"
   ]
  },
  {
   "cell_type": "code",
   "execution_count": 148,
   "metadata": {},
   "outputs": [
    {
     "data": {
      "text/plain": [
       "oId| aId iId ivId price lprice side sprice trig tif okind oskind reduce state oqty dqty lqty offset einst time\n",
       "---| ---------------------------------------------------------------------------------------------------------\n",
       "0  | 0   0   1    1000         1                                 1            1    1                          \n",
       "1  | 0   0   1    1000         1                    1            1      0     200  1         0                \n",
       "2  | 0   0   1    1000         1                    1            1      0     200  1         210              \n"
      ]
     },
     "execution_count": 148,
     "metadata": {},
     "output_type": "execute_result"
    }
   ],
   "source": [
    ".engine.model.order.Order"
   ]
  },
  {
   "cell_type": "code",
   "execution_count": 149,
   "metadata": {},
   "outputs": [
    {
     "data": {
      "text/plain": [
       "price iId side qty hqty iqty vqty time                    rp \n",
       "-------------------------------------------------------------\n",
       "1000      1    100 100  0    0    2020.12.18T22:10:21.721 200\n",
       "1001      1    100 100  0    0    2020.12.18T22:10:21.721 400\n"
      ]
     },
     "execution_count": 149,
     "metadata": {},
     "output_type": "execute_result"
    }
   ],
   "source": [
    "l"
   ]
  },
  {
   "cell_type": "code",
   "execution_count": 150,
   "metadata": {},
   "outputs": [],
   "source": [
    "s:0!((`price`side xkey l) ij (`price`side xgroup o))"
   ]
  },
  {
   "cell_type": "code",
   "execution_count": 151,
   "metadata": {},
   "outputs": [
    {
     "data": {
      "text/plain": [
       "oId   | 1 2    \n",
       "side  | 1      \n",
       "price | 1000   \n",
       "offset| 0 210  \n",
       "oqty  | 200 200\n",
       "lqty  |        \n",
       "reduce| 11b    \n",
       "aId   | 0 0    \n",
       "state | 0 0    \n"
      ]
     },
     "execution_count": 151,
     "metadata": {},
     "output_type": "execute_result"
    }
   ],
   "source": [
    "pdcl!s pdcl"
   ]
  },
  {
   "cell_type": "code",
   "execution_count": 152,
   "metadata": {},
   "outputs": [],
   "source": [
    "msk:raze[.util.PadM[{x#1}'[count'[s`oId]]]];"
   ]
  },
  {
   "cell_type": "code",
   "execution_count": 153,
   "metadata": {},
   "outputs": [],
   "source": [
    "pdcl:`oId`side`price`offset`oqty`lqty`reduce`aId`state;\n",
    "(s pdcl):.util.PadM'[s pdcl];"
   ]
  },
  {
   "cell_type": "code",
   "execution_count": 169,
   "metadata": {},
   "outputs": [
    {
     "data": {
      "text/plain": [
       "1 1\n"
      ]
     },
     "execution_count": 169,
     "metadata": {},
     "output_type": "execute_result"
    }
   ],
   "source": [
    "s`dqty"
   ]
  },
  {
   "cell_type": "code",
   "execution_count": 154,
   "metadata": {},
   "outputs": [],
   "source": [
    "// Useful counts \n",
    "maxN:max count'[s`offset];\n",
    "tmaxN:til maxN;\n",
    "numLvls:count[s`offset];"
   ]
  },
  {
   "cell_type": "code",
   "execution_count": 157,
   "metadata": {},
   "outputs": [],
   "source": [
    "// TODO new display qty\n",
    "// Calculate new shifts and max shifts\n",
    "shft:sum[s`offset`oqty]; // the sum of the order offsets and lqty\n",
    "mxshft:{$[x>1;max[y];x=1;y;0]}'[maxN;shft]; // the max shft for each price"
   ]
  },
  {
   "cell_type": "code",
   "execution_count": 173,
   "metadata": {},
   "outputs": [],
   "source": [
    "            nhqty:          .util.Clip[(-/)s`hqty`rp]; // Derive the new hidden qty\n",
    "            nlqty:          .util.Clip[{?[x>z;(y+z)-x;y]}'[s`rp;s`lqty;s`offset]]; // TODO faster/fix\n",
    "            ndqty:          .util.Clip[{?[((x<y) and (y>0));x;y]}'[s[`dqty];nlqty]]; // TODO faster/fix\n",
    "            niqty:          sum'[nlqty-ndqty]; // The new order invisible qty = lqty - display qty\n",
    "            displaydlt:     (ndqty-s[`dqty]); // Derive the change in the order display qty\n",
    "            lqtydlt:        (nlqty-s[`lqty]); // Derive the change in the order lqty\n",
    "            hqtydlt:        (nhqty-s[`hqty]); // Derive the change in hidden order qty\n",
    "            noffset:        .util.Clip[((-/)s`offset`rp)]; // Subtract the replaced amount and clip<0 (offset includes hqty)\n",
    "            nqty:           .util.Clip[((-/)s`qty`rp)-(sum'[lqtydlt]+hqtydlt)]; // qty -rp - qty attributed to other qtys\n",
    "            nvqty:          nqty+sum'[ndqty]; // Derive the new visible qty as order display qty + the new qty from above\n",
    "            nshft:          nlqty+noffset; // \n",
    "            nmxshft:        {$[x>1;max[y];x=1;y;0]}'[maxN;nshft]; // the max shft for each price TODO make faster\n",
    "            nfilled:        s[`oqty] - nlqty; // New amount that is filled (in total)\n",
    "            accdlts:        s[`lqty] - nlqty; // The new amounts that will attribute to fills.\n",
    "            nobupd:         count[nhqty];"
   ]
  },
  {
   "cell_type": "code",
   "execution_count": 175,
   "metadata": {},
   "outputs": [],
   "source": [
    "// Derived the boolean representation of partially and \n",
    "// fully filled orders within the matrix of orders referenced\n",
    "// above. They should not overlap.f\n",
    "// get fully filled and then set all others that dont conform to \n",
    "// partially filled, by simple exclusion conditional.\n",
    "nstatus:1*((s[`offset]<=s[`rp])and(nshft<=s[`rp])); // todo mask\n",
    "nstatus+:2*((sums[s[`offset]]<=s[`rp])and not nstatus); // todo mask"
   ]
  },
  {
   "cell_type": "code",
   "execution_count": 176,
   "metadata": {},
   "outputs": [
    {
     "data": {
      "text/plain": [
       "0 200\n"
      ]
     },
     "execution_count": 176,
     "metadata": {},
     "output_type": "execute_result"
    }
   ],
   "source": [
    "noqty"
   ]
  },
  {
   "cell_type": "code",
   "execution_count": 177,
   "metadata": {},
   "outputs": [],
   "source": [
    "// Derive the non agent qty's from the s such that quantities\n",
    "// such as the visible resultant trades can be derived etc.\n",
    "notAgentQty: .util.PadM[raze'[flip(\n",
    "        0^s[`hqty]; // hidden qty\n",
    "        0^(s[`offset][;0] - 0^s[`hqty]); // first offset\n",
    "        .util.Clip[0^s[`offset][;1_(tmaxN)] - 0^shft[;-1_(tmaxN)]]; // middle offset + shft\n",
    "        .util.Clip[s[`vqty]-mxshft] // last qty - maximum shift\n",
    "    )]];\n",
    "\n",
    "// Derive the splt which is the combination of the lqty of all orders at \n",
    "// a level with the interspaced display qty etc. which is used to derive the\n",
    "// disparate quantities of trades that occur at a given price level.\n",
    "splt:{$[count[x];1_(raze raze'[(2#0),(0^x);y]);y]}'[s`lqty;notAgentQty];\n",
    "\n",
    "// Derives the non-zero trade qtys that occur as a result of the replaced amount \n",
    "// returns the quantities by price level.\n",
    "tqty:{s:sums[y];q:.util.Clip[?[(x-s)>=0;y;x-(s-y)]];q where[q>0]}'[s`rp;splt]; \n",
    "numtds:count[raze[tqty]];\n",
    "numtdslvl:count'[tqty];"
   ]
  },
  {
   "cell_type": "code",
   "execution_count": 187,
   "metadata": {},
   "outputs": [],
   "source": [
    "o:raze'[(s`oId;s`price;noffset;noqty;ndqty;nstatus)][;where[msk]];\n",
    ".engine.model.order.Update[flip `oId`price`offset`oqty`dqty`state!o];"
   ]
  },
  {
   "cell_type": "code",
   "execution_count": 195,
   "metadata": {},
   "outputs": [
    {
     "data": {
      "text/plain": [
       "oId price offset oqty dqty state\n",
       "--------------------------------\n",
       "1   1000  0      0    0    1    \n",
       "2   1000  10     200  1    0    \n"
      ]
     },
     "execution_count": 195,
     "metadata": {},
     "output_type": "execute_result"
    }
   ],
   "source": [
    "fills flip `oId`price`offset`oqty`dqty`state!o"
   ]
  },
  {
   "cell_type": "code",
   "execution_count": null,
   "metadata": {},
   "outputs": [],
   "source": []
  },
  {
   "cell_type": "code",
   "execution_count": null,
   "metadata": {},
   "outputs": [],
   "source": []
  },
  {
   "cell_type": "code",
   "execution_count": null,
   "metadata": {},
   "outputs": [],
   "source": []
  }
 ],
 "metadata": {
  "kernelspec": {
   "display_name": "Q (kdb+)",
   "language": "q",
   "name": "qpk"
  },
  "language_info": {
   "file_extension": ".q",
   "mimetype": "text/x-q",
   "name": "q",
   "version": "4.0"
  }
 },
 "nbformat": 4,
 "nbformat_minor": 4
}
