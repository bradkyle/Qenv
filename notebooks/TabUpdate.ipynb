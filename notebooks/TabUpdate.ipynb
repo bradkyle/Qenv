{
 "cells": [
  {
   "cell_type": "code",
   "execution_count": 39,
   "metadata": {},
   "outputs": [],
   "source": [
    ".engine.model.instrument.Instrument:([iId:`long$()] \n",
    "   cntTyp:`long$();state:`long$();faceValue:`long$();mkprice:`long$();\n",
    "   plmts:`long$();plmtb:`long$();lotSize:`long$();tickSize:`long$();mnSize:`long$();\n",
    "   mxSize:`long$();mnPrice:`long$();mxPrice:`long$();smul:`long$();\n",
    "   bestBid:`long$();bestAsk:`long$();liqb:`boolean$();liqs:`boolean$());"
   ]
  },
  {
   "cell_type": "code",
   "execution_count": 34,
   "metadata": {},
   "outputs": [],
   "source": [
    ".engine.model.inventory.Inventory:([aId:`long$();side:`long$()] iId:`.engine.model.instrument.Instrument$();\n",
    "   ordQty:`long$();ordVal:`long$();ordLoss:`long$();amt:`long$();iw:`long$();mm:`long$();\n",
    "   posVal:`long$();rpnl:`long$();avgPrice:`long$();execCost:`long$();upnl:`long$();lev:`long$());"
   ]
  },
  {
   "cell_type": "code",
   "execution_count": 50,
   "metadata": {},
   "outputs": [],
   "source": [
    ".engine.model.risktier.Risktier:([rtId:`long$()] amt:`long$();mmtr:`float$();imr:`float$();lev:`long$());"
   ]
  },
  {
   "cell_type": "code",
   "execution_count": 51,
   "metadata": {},
   "outputs": [],
   "source": [
    ".engine.model.feetier.Feetier:([ftId:`long$()] \n",
    "    bal:`long$();ref:`long$();vol:`long$();mkrfee:`float$();tkrfee:`float$();wdrawfee:`float$();\n",
    "    dpstfee:`float$();wdlim:`long$());"
   ]
  },
  {
   "cell_type": "code",
   "execution_count": 139,
   "metadata": {},
   "outputs": [],
   "source": [
    ".engine.model.account.Account:([aId:`long$()] \n",
    "  iId:`.engine.model.instrument.Instrument$();\n",
    "  lng:`.engine.model.inventory.Inventory$();srt:`.engine.model.inventory.Inventory$();\n",
    "  rt:`.engine.model.risktier.Risktier$();ft:`.engine.model.feetier.Feetier$();\n",
    "  dep:`long$();wit:`long$();mrgTyp:`long$();avail:`long$();vol:`long$();bal:`long$());"
   ]
  },
  {
   "cell_type": "code",
   "execution_count": 1,
   "metadata": {},
   "outputs": [],
   "source": [
    "\\cd qenv"
   ]
  },
  {
   "cell_type": "code",
   "execution_count": 3,
   "metadata": {},
   "outputs": [],
   "source": [
    "\\cd ../../qenv"
   ]
  },
  {
   "cell_type": "code",
   "execution_count": null,
   "metadata": {},
   "outputs": [],
   "source": []
  },
  {
   "cell_type": "code",
   "execution_count": 5,
   "metadata": {},
   "outputs": [
    {
     "name": "stdout",
     "output_type": "stream",
     "text": [
      "`aId`side`mm`upnl`ordQty`ordLoss`ordVal`amt`totEnt\n",
      "(0 -1 0 0 0 0 0 10 10;0 1 0 0 0 0 0 10 10)\n",
      "`fId`price`side`qty`reduce`ismaker`oId`aId`iId`time`ivId\n",
      "((0;1000;1;100;0b;0b;0;0;0;2020.12.14T14:35:30.252;0 -1);(1;1000;-1;100;1b;1b;0;0;0;2020.12.14T14:35:30.252;0 1))\n",
      "0 -1\n",
      "0 1 \n",
      "`.engine.model.inventory.Inventory!0 1\n",
      "\"###################################################################################################\"\n",
      "\"                                             TEST\"\n",
      "\"###################################################################################################\"\n",
      "\"===================================================================================================\"\n",
      "\"36) .engine.logic.inventory.Fill (UNIT) :READY\"\n",
      "`Function for deriving the exec cost from the qty and the price\n",
      "\"---------------------------------------------------------------------------------------------------\"\n",
      "caseId state dscr                                            \n",
      "-------------------------------------------------------------\n",
      "228    ERROR INVERSE:flat to long: UPL: 0, RPL:0 ONE POSITION\n",
      "\"                                                                                                                                                                                                                                                                                                                                                                                                                \"\n",
      "\"###################################################################################################\"\n",
      "\"                                      TESTS COMPLETED\"\n",
      "\"###################################################################################################\"\n",
      "state| x  \n",
      "-----| ---\n",
      "ERROR| 1  \n",
      "SKIP | 379\n",
      "\"                                                                                                                                                                                                                                                                                                                                                                                                                \"\n"
     ]
    }
   ],
   "source": [
    "\\l test.q"
   ]
  },
  {
   "cell_type": "code",
   "execution_count": 6,
   "metadata": {},
   "outputs": [],
   "source": [
    ".util.testutils.makeDefaultsRecords  :{[tab;cl;vl] // TODO inter with actual cols\n",
    "    r:.util.NullRowDict[tab];\n",
    "    cvl:count[vl]; \n",
    "    :$[cvl>1;[rx:(cvl#enlist[r]);rx[cl]:flip[vl];:rx];[r[cl]:first[vl];:r]]};"
   ]
  },
  {
   "cell_type": "code",
   "execution_count": 7,
   "metadata": {},
   "outputs": [],
   "source": [
    ".util.testutils.makeInstrument     :{[cl;vl]\n",
    "    .util.testutils.makeDefaultsRecords[`.engine.model.instrument.Instrument;cl;vl]\n",
    "    };"
   ]
  },
  {
   "cell_type": "code",
   "execution_count": 12,
   "metadata": {},
   "outputs": [],
   "source": [
    "// Checks that the .engine.model.order.Order table matches the orders\n",
    "// that are provided.\n",
    "/  @param x (Order/List) The orders that are to be checked\n",
    "/  @param y (Case) The case that the assertions belong to\n",
    "/  @param z (List[String]) The params that are being checked \n",
    ".util.testutils.makeInventory     :{[cl;vl]\n",
    "    .util.testutils.makeDefaultsRecords[`.engine.model.inventory.Inventory;cl;vl]\n",
    "    };"
   ]
  },
  {
   "cell_type": "code",
   "execution_count": 9,
   "metadata": {},
   "outputs": [],
   "source": [
    ".engine.model.instrument.Instrument,:.util.testutils.makeInstrument[`mkprice`tickSize`mnSize;enlist(1000;5;1)]"
   ]
  },
  {
   "cell_type": "code",
   "execution_count": 71,
   "metadata": {},
   "outputs": [],
   "source": [
    "/  @param x (Order/List) The orders that are to be checked\n",
    "/  @param y (Case) The case that the assertions belong to\n",
    "/  @param z (List[String]) The params that are being checked \n",
    ".util.testutils.makeRisktier       :{[cl;vl]\n",
    "    .util.testutils.makeDefaultsRecords[`.engine.model.risktier.Risktier;cl;vl]\n",
    "    };\n",
    "\n",
    "/  @param x (Order/List) The orders that are to be checked\n",
    "/  @param y (Case) The case that the assertions belong to\n",
    "/  @param z (List[String]) The params that are being checked \n",
    ".util.testutils.makeFeetier        :{[cl;vl]\n",
    "    .util.testutils.makeDefaultsRecords[`.engine.model.feetier.Feetier;cl;vl]\n",
    "    };"
   ]
  },
  {
   "cell_type": "code",
   "execution_count": 70,
   "metadata": {},
   "outputs": [],
   "source": [
    ".engine.model.risktier.Risktier:([rtId:`long$()] amt:`long$();mmr:`float$();imr:`float$();lev:`long$());\n",
    ".engine.model.risktier.Risktier,:.util.testutils.makeRisktier[`rtId`amt`mmr`imr`lev;(\n",
    "        (0; 50000;       0.004;    0.008;    125);\n",
    "        (1; 250000;      0.005;    0.01;     100);\n",
    "        (2; 1000000;     0.01;     0.02;     50);\n",
    "        (3; 5000000;     0.025;    0.05;     20);\n",
    "        (4; 20000000;    0.05;     0.1;      10);\n",
    "        (5; 50000000;    0.1;      0.20;     5);\n",
    "        (6; 100000000;   0.125;    0.25;     4);\n",
    "        (7; 200000000;   0.15;     0.333;    3);\n",
    "        (8; 500000000;   0.25;     0.50;     2);\n",
    "        (9; 500000000;   0.25;     1.0;      1))]; "
   ]
  },
  {
   "cell_type": "code",
   "execution_count": 72,
   "metadata": {},
   "outputs": [],
   "source": [
    ".engine.model.feetier.Feetier:([ftId:`long$()] \n",
    "    bal:`long$();ref:`long$();vol:`long$();mkrfee:`float$();tkrfee:`float$();wdrawfee:`float$();\n",
    "    dpstfee:`float$();wdlim:`long$());\n",
    ".engine.model.feetier.Feetier,:.util.testutils.makeFeetier[`ftId`vol`mkrfee`tkrfee`wdrawfee`dpstfee`wdlim;(\n",
    "        (0; 50;      0.0006;    0.0006;    0f;  0f; 600);\n",
    "        (1; 500;     0.00054;   0.0006;    0f;  0f; 600);\n",
    "        (2; 1500;    0.00048;   0.0006;    0f;  0f; 600);\n",
    "        (3; 4500;    0.00042;   0.0006;    0f;  0f; 600);\n",
    "        (4; 10000;   0.00042;   0.00054;   0f;  0f; 600);\n",
    "        (5; 20000;   0.00036;   0.00048;   0f;  0f; 600);\n",
    "        (6; 40000;   0.00024;   0.00036;   0f;  0f; 600);\n",
    "        (7; 80000;   0.00018;   0.000300;  0f;  0f; 600);\n",
    "        (8; 150000;  0.00012;   0.00024;   0f;  0f; 600))];                "
   ]
  },
  {
   "cell_type": "code",
   "execution_count": 40,
   "metadata": {},
   "outputs": [],
   "source": [
    ".engine.model.instrument.Instrument,:((!) . flip(\n",
    "        (`iId                      ; 0);                                           \n",
    "        (`cntTyp                   ; 0);\n",
    "        (`state                    ; 0);\n",
    "        (`faceValue                ; 0);\n",
    "        (`mkprice                  ; 0);\n",
    "        (`mxSize                   ; 0);\n",
    "        (`mnPrice                  ; 0);\n",
    "        (`smul                     ; 0);\n",
    "        (`mxPrice                  ; 0) \n",
    "        ));"
   ]
  },
  {
   "cell_type": "code",
   "execution_count": 156,
   "metadata": {},
   "outputs": [],
   "source": [
    "n:count[aIds];\n",
    "dn:n*2;\n",
    ".engine.model.inventory.Inventory,:ivn:flip[(!) . flip(\n",
    "    (`aId              ; floor[til[dn]%2]); \n",
    "    (`iId              ; `.engine.model.instrument.Instrument$(dn#0)); \n",
    "    (`side             ; dn#(1 -1));                                            \n",
    "    (`ordQty           ; dn#0);\n",
    "    (`ordVal           ; dn#0);\n",
    "    (`ordLoss          ; dn#0);\n",
    "    (`amt              ; dn#10);\n",
    "    (`iw               ; dn#0); // isolated wallet\n",
    "    (`mm               ; dn#0);\n",
    "    (`posVal           ; dn#9999);\n",
    "    (`rpnl             ; dn#0);  \n",
    "    (`avgPrice         ; dn#0);  \n",
    "    (`execCost         ; dn#0);  \n",
    "    (`upnl             ; dn#0);  \n",
    "    (`lev              ; dn#0)  \n",
    "    )];"
   ]
  },
  {
   "cell_type": "code",
   "execution_count": 140,
   "metadata": {},
   "outputs": [],
   "source": [
    "// Checks that the .engine.model.order.Order table matches the orders\n",
    "// that are provided.\n",
    "/  @param x (Order/List) The orders that are to be checked\n",
    "/  @param y (Case) The case that the assertions belong to\n",
    "/  @param z (List[String]) The params that are being checked \n",
    ".util.testutils.makeAccount        :{[cl;vl]\n",
    "    .util.testutils.makeDefaultsRecords[`.engine.model.account.Account;cl;vl]\n",
    "    };\n",
    "c:`aId`lng`srt`dep`wit`rt`ft`posTyp`mrgTyp`avail`bal;\n",
    "acc:flip((!) . flip(\n",
    "        (`aId              ; aIds); \n",
    "        (`iId              ; `.engine.model.instrument.Instrument$(n#0)); \n",
    "        (`lng              ; `.engine.model.inventory.Inventory$(flip(aIds;n#1)));\n",
    "        (`srt              ; `.engine.model.inventory.Inventory$(flip(aIds;n#-1)));\n",
    "        (`dep              ; n#0);  \n",
    "        (`wit              ; n#0);  \n",
    "        (`rt               ; n#`.engine.model.risktier.Risktier$0);  \n",
    "        (`ft               ; n#`.engine.model.feetier.Feetier$0);  \n",
    "        (`mrgTyp           ; n#0);  \n",
    "        (`avail            ; n?10);  \n",
    "        (`vol              ; n?10);  \n",
    "        (`bal              ; n?10)  \n",
    "        ));\n",
    ".engine.model.account.Account,:acc;"
   ]
  },
  {
   "cell_type": "code",
   "execution_count": 25,
   "metadata": {},
   "outputs": [],
   "source": [
    "update \n",
    " mkprice:1000\n",
    " from `.engine.model.instrument.Instrument\n",
    " where iId=0;"
   ]
  },
  {
   "cell_type": "code",
   "execution_count": 79,
   "metadata": {},
   "outputs": [
    {
     "data": {
      "text/plain": [
       "`.engine.model.inventory.Inventory\n"
      ]
     },
     "execution_count": 79,
     "metadata": {},
     "output_type": "execute_result"
    }
   ],
   "source": [
    "update \n",
    " upl:.engine.logic.contract.UnrealizedPnl[\n",
    "     iId.cntTyp,\n",
    "     iId.mkprice,\n",
    "     iId.faceValue,\n",
    "     iId.smul,\n",
    "     amt,\n",
    "     side,\n",
    "     avgPrice]\n",
    "    from `.engine.model.inventory.Inventory \n",
    "    where (iId=0) and (amt>0)"
   ]
  },
  {
   "cell_type": "code",
   "execution_count": 113,
   "metadata": {},
   "outputs": [
    {
     "data": {
      "text/plain": [
       "rtId| amt       mmr   imr   lev\n",
       "----| -------------------------\n",
       "0   | 50000     0.004 0.008 125\n",
       "1   | 250000    0.005 0.01  100\n",
       "2   | 1000000   0.01  0.02  50 \n",
       "3   | 5000000   0.025 0.05  20 \n",
       "4   | 20000000  0.05  0.1   10 \n",
       "5   | 50000000  0.1   0.2   5  \n",
       "6   | 100000000 0.125 0.25  4  \n",
       "7   | 200000000 0.15  0.333 3  \n",
       "8   | 500000000 0.25  0.5   2  \n",
       "9   | 500000000 0.25  1     1  \n"
      ]
     },
     "execution_count": 113,
     "metadata": {},
     "output_type": "execute_result"
    }
   ],
   "source": [
    ".engine.model.risktier.Risktier"
   ]
  },
  {
   "cell_type": "code",
   "execution_count": 125,
   "metadata": {},
   "outputs": [
    {
     "data": {
      "text/plain": [
       "rtId| amt   mmr   imr   lev\n",
       "----| ---------------------\n",
       "0   | 50000 0.004 0.008 125\n"
      ]
     },
     "execution_count": 125,
     "metadata": {},
     "output_type": "execute_result"
    }
   ],
   "source": [
    "a:20000;\n",
    "l:10;\n"
   ]
  },
  {
   "cell_type": "code",
   "execution_count": 142,
   "metadata": {},
   "outputs": [],
   "source": [
    ".engine.logic.account.GetFeetier:{[avol]\n",
    "   ft:select[1;<vol] from .engine.model.feetier.Feetier where (vol>a) or ((i=0) and (vol>a));\n",
    "   `.engine.model.feetier.Feetier$((0!ft)`ftId)\n",
    "   };\n",
    "\n",
    ".engine.logic.account.GetRisktier:{[ivnamt;ivlev]\n",
    "   rt:select[1;<amt] from .engine.model.risktier.Risktier where (amt>a) or ((i=0) and (amt>a));\n",
    "   `.engine.model.risktier.Risktier$((0!rt)`rtId)\n",
    "   };"
   ]
  },
  {
   "cell_type": "code",
   "execution_count": 128,
   "metadata": {},
   "outputs": [],
   "source": [
    ".engine.logic.account.GetAvailable:{[bal;mm;upnl;oqty;oloss]\n",
    "      bal-(mm+upnl)+(oqty-oloss)\n",
    "    };"
   ]
  },
  {
   "cell_type": "code",
   "execution_count": 143,
   "metadata": {},
   "outputs": [
    {
     "data": {
      "text/plain": [
       "aId| iId lng srt rt ft dep wit mrgTyp avail vol bal\n",
       "---| ----------------------------------------------\n",
       "0  | 0   0   1   0  0  0   0   0      9     0   9  \n",
       "1  | 0   2   3   0  0  0   0   0      9     3   8  \n"
      ]
     },
     "execution_count": 143,
     "metadata": {},
     "output_type": "execute_result"
    }
   ],
   "source": [
    ".engine.model.account.Account"
   ]
  },
  {
   "cell_type": "code",
   "execution_count": 145,
   "metadata": {},
   "outputs": [
    {
     "data": {
      "text/plain": [
       "aId side| iId ordQty ordVal ordLoss amt iw mm posVal rpnl avgPrice execCost upnl lev upl\n",
       "--------| ------------------------------------------------------------------------------\n",
       "0   1   | 0   0      0      0       0   0  0  0      0    0        0        0    0      \n",
       "0   -1  | 0   0      0      0       0   0  0  0      0    0        0        0    0      \n",
       "1   1   | 0   0      0      0       0   0  0  0      0    0        0        0    0      \n",
       "1   -1  | 0   0      0      0       0   0  0  0      0    0        0        0    0      \n"
      ]
     },
     "execution_count": 145,
     "metadata": {},
     "output_type": "execute_result"
    }
   ],
   "source": [
    ".engine.model.inventory.Inventory"
   ]
  },
  {
   "cell_type": "code",
   "execution_count": 149,
   "metadata": {},
   "outputs": [
    {
     "data": {
      "text/plain": [
       "`.engine.model.account.Account\n"
      ]
     },
     "execution_count": 149,
     "metadata": {},
     "output_type": "execute_result"
    }
   ],
   "source": [
    "update\n",
    "  ft:.engine.logic.account.GetFeetier'[vol],\n",
    "  rt:.engine.logic.account.GetRisktier'[lng.amt+srt.amt;bal%(lng.amt+srt.amt)],\n",
    "  avail:.engine.logic.account.GetAvailable'[\n",
    "  bal;lng.mm+srt.mm;lng.upnl+srt.upnl;\n",
    "  lng.ordQty+srt.ordQty;lng.ordLoss+srt.ordLoss]\n",
    "      from `.engine.model.account.Account \n",
    "      where (iId=0) and ((lng.amt>0) or (srt.amt>0))"
   ]
  },
  {
   "cell_type": "code",
   "execution_count": 157,
   "metadata": {},
   "outputs": [
    {
     "data": {
      "text/plain": [
       "rpnl  \n",
       "------\n",
       "9.999 \n",
       "-9.999\n",
       "9.999 \n",
       "-9.999\n"
      ]
     },
     "execution_count": 157,
     "metadata": {},
     "output_type": "execute_result"
    }
   ],
   "source": [
    "select\n",
    "    rpnl:rpnl+(posVal * 0.001 * side) // TODO roundup\n",
    "    from .engine.model.inventory.Inventory\n",
    "    where (iId=0) and (amt>0)"
   ]
  },
  {
   "cell_type": "code",
   "execution_count": null,
   "metadata": {},
   "outputs": [],
   "source": []
  },
  {
   "cell_type": "code",
   "execution_count": null,
   "metadata": {},
   "outputs": [],
   "source": [
    "iv:.engine.model.inventory.Get[enlist(<;`amt;0)];\n",
    "fnd:0!select \n",
    "        amtInMarket: sum[amt],\n",
    "        fundingCost:((min[(fundingrate;0)]*(amt*side)) + (max[(fundingrate;0)]*(amt*side)))\n",
    "        by aId from enlist iv;  \n",
    "\n",
    "a:.engine.model.account.Get[fnd`aId];\n",
    "a:.engine.logic.account.Remargin[i;a];\n",
    "\n",
    ".engine.model.account.Update a;\n",
    ".engine.model.inventory.Update iv;\n",
    ".engine.Emit[`account;t;a];\n",
    ".engine.Emit[`inventory;t;iv];"
   ]
  },
  {
   "cell_type": "code",
   "execution_count": null,
   "metadata": {},
   "outputs": [],
   "source": [
    ".engine.logic.instrument.Settlement:{\n",
    "                update \n",
    "                    bal:bal+(lng.rpnl+srt.rpnl)\n",
    "                    from `.engine.model.account.Account;\n",
    "\n",
    "                update\n",
    "                rpnl:0\n",
    "                from `.engine.model.inventory.Inventory;\n",
    "\n",
    "                .engine.Emit[`account;t;a];\n",
    "                .engine.Emit[`inventory;t;iv];\n",
    "                .engine.Emit[`settlement;t;x];\n",
    "\t};"
   ]
  },
  {
   "cell_type": "code",
   "execution_count": 7,
   "metadata": {},
   "outputs": [
    {
     "name": "stdout",
     "output_type": "stream",
     "text": [
      "`aId`side`mm`upnl`ordQty`ordLoss`ordVal`amt`totEnt\n",
      "(0 -1 0 0 0 0 0 10 10;0 1 0 0 0 0 0 10 10)\n",
      "`fId`price`side`qty`reduce`ismaker`oId`aId`iId`time`ivId\n",
      "((0;1000;1;100;0b;0b;0;0;0;2020.12.14T14:36:11.963;0 -1);(1;1000;-1;100;1b;1b;0;0;0;2020.12.14T14:36:11.963;0 1))\n",
      "0 -1\n",
      "0 1 \n",
      "`.engine.model.inventory.Inventory!0 1\n",
      "\"###################################################################################################\"\n",
      "\"                                             TEST\"\n",
      "\"###################################################################################################\"\n",
      "\"===================================================================================================\"\n",
      "\"36) .engine.logic.inventory.Fill (UNIT) :READY\"\n",
      "`Function for deriving the exec cost from the qty and the price\n",
      "\"---------------------------------------------------------------------------------------------------\"\n",
      "caseId state dscr                                            \n",
      "-------------------------------------------------------------\n",
      "228    ERROR INVERSE:flat to long: UPL: 0, RPL:0 ONE POSITION\n",
      "\"                                                                                                                                                                                                                                                                                                                                                                                                                \"\n",
      "\"###################################################################################################\"\n",
      "\"                                      TESTS COMPLETED\"\n",
      "\"###################################################################################################\"\n",
      "state| x  \n",
      "-----| ---\n",
      "ERROR| 1  \n",
      "SKIP | 379\n",
      "\"                                                                                                                                                                                                                                                                                                                                                                                                                \"\n"
     ]
    }
   ],
   "source": [
    "\\l test.q"
   ]
  },
  {
   "cell_type": "code",
   "execution_count": 8,
   "metadata": {},
   "outputs": [
    {
     "data": {
      "text/plain": [
       "{[cl;vl]\n",
       "    //if[null cl;cl:key .fill.r]; // TODO check\n",
       "    x:flip .model.Model[.engine.model.inventory.r;cl;vl];\n",
       "    / x[`iId]:`.engine.model.instrument.Instrument$x[`iId];\n",
       "    x\n",
       "    }[+`fId`time`price`qty`reduce`ismaker`side`iId`oId`ivId`aId`kind`avgPrice`execCost`ordLoss`ordVal`ordQty`amt`totEnt`upnl`rpnl!(0 1;2020.12.14T14:36:11.963 2020.12.14T14:36:11.963;1000 1000;100 100;01b;01b;1 -1;`.engine.model.instrument.Instrument$0 0;`.engine.model.order.Order$0 0;`.engine.model.inventory.Inventory!0 1;`.engine.model.account.Account$0 0;`inventory`inventory;0 0;10000000 10000000;0 0;-100000000 -100000000;-100 -100;110 110;210 210;0 0;0 0)]\n"
      ]
     },
     "execution_count": 8,
     "metadata": {},
     "output_type": "execute_result"
    }
   ],
   "source": [
    ".bam.iv"
   ]
  },
  {
   "cell_type": "code",
   "execution_count": null,
   "metadata": {},
   "outputs": [],
   "source": []
  },
  {
   "cell_type": "code",
   "execution_count": null,
   "metadata": {},
   "outputs": [],
   "source": []
  },
  {
   "cell_type": "code",
   "execution_count": 159,
   "metadata": {},
   "outputs": [
    {
     "data": {
      "text/plain": [
       "aId side| iId ordQty ordVal ordLoss amt iw mm posVal rpnl avgPrice execCost upnl lev upl\n",
       "--------| ------------------------------------------------------------------------------\n",
       "0   1   | 0   0      0      0       15  0  0  9999   0    0        0        0    0      \n",
       "0   -1  | 0   0      0      0       15  0  0  9999   0    0        0        0    0      \n",
       "1   1   | 0   0      0      0       15  0  0  9999   0    0        0        0    0      \n",
       "1   -1  | 0   0      0      0       15  0  0  9999   0    0        0        0    0      \n"
      ]
     },
     "execution_count": 159,
     "metadata": {},
     "output_type": "execute_result"
    }
   ],
   "source": [
    "update amt:sums[] by aId from .engine.model.inventory.Inventory"
   ]
  },
  {
   "cell_type": "code",
   "execution_count": 161,
   "metadata": {},
   "outputs": [
    {
     "ename": "\u001b[0;31mtype\u001b[0m",
     "evalue": "\u001b[0;31mtype\u001b[0m",
     "output_type": "error",
     "traceback": [
      "\u001b[0;31mevaluation error:\n\u001b[0m",
      "\u001b[0;31mtype\u001b[0m",
      "\u001b[0;31m\u001b[0m",
      "\u001b[0;31m  [0]  iv:?[?[.bam.x;();0b;\n            ^\n  (\n\u001b[0m"
     ]
    }
   ],
   "source": [
    "iv:?[;();0b;(\n",
    "    (`.engine.logic.contract.AvgPrice);\n",
    "    (`.engine.logic.contract.ExecCost);\n",
    "    (`.engine.logic.contract.Loss);\n",
    "    (`.engine.logic.contract.Value);\n",
    "    (`ordLoss);\n",
    "    (`ordQty);\n",
    "    (`ordVal);\n",
    "    (`amt);\n",
    "    (sum;`ivId.totalEntry;(max;`dlt;0))\n",
    "    )];\n",
    "\n"
   ]
  },
  {
   "cell_type": "code",
   "execution_count": null,
   "metadata": {},
   "outputs": [],
   "source": []
  },
  {
   "cell_type": "code",
   "execution_count": 176,
   "metadata": {},
   "outputs": [
    {
     "ename": "\u001b[0;31mtype\u001b[0m",
     "evalue": "\u001b[0;31mtype\u001b[0m",
     "output_type": "error",
     "traceback": [
      "\u001b[0;31mevaluation error:\n\u001b[0m",
      "\u001b[0;31mtype\u001b[0m",
      "\u001b[0;31m\u001b[0m",
      "\u001b[0;31m  [1]  /home/qenv/qenv/engine/logic/contract/contract.q:68: .engine.logic.contract.RealizedPnl:{[contractType;fillQty;fillPrice;isignum;avgPrice;faceValue;multiplier]\n    7h$($[contractType=0;.engine.logic.contract.inverse.RealizedPnl[fillQty;fillPrice;isignum;avgPrice;faceValue;multiplier];\n                      ^\n      contractType=1;.engine.logic.contract.linear.RealizedPnl[fillQty;fillPrice;isignum;avgPrice;faceValue;multiplier];\n\u001b[0m",
      "\u001b[0;31m  [0]  ?[flip .bam.x;();0b;(\n       ^\n     (`.engine.logic.contract.UnrealizedPnl;`iId.cntTyp;`iId.mkprice;`iId.faceValue;`iId.smul;`amt;`side;`avgPrice);\n\u001b[0m"
     ]
    }
   ],
   "source": [
    "?[flip .bam.x;();0b;(\n",
    "     (`.engine.logic.contract.UnrealizedPnl;`iId.cntTyp;`iId.mkprice;`iId.faceValue;`iId.smul;`amt;`side;`avgPrice);\n",
    "     (`.engine.logic.contract.RealizedPnl;`iId.cntTyp;`qty;`price;`side;`ivId.avgPrice;`iId.faceValue;`iId.smul)\n",
    "     )]"
   ]
  },
  {
   "cell_type": "code",
   "execution_count": 176,
   "metadata": {},
   "outputs": [
    {
     "data": {
      "text/plain": [
       "cntTyp\n",
       "------\n",
       "0     \n",
       "0     \n"
      ]
     },
     "execution_count": 176,
     "metadata": {},
     "output_type": "execute_result"
    }
   ],
   "source": [
    "select iId.cntTyp from .bam.x"
   ]
  },
  {
   "cell_type": "code",
   "execution_count": 170,
   "metadata": {},
   "outputs": [
    {
     "data": {
      "text/plain": [
       "fId    | 0\n",
       "price  | 1000\n",
       "qty    | 100\n",
       "reduce | 0b\n",
       "ismaker| 0b\n",
       "side   | 1\n",
       "iId    | `.engine.model.account.Account$0\n",
       "oId    | 0\n",
       "ivId   | `.engine.model.inventory.Inventory!1\n",
       "aId    | `.engine.model.account.Account$0\n"
      ]
     },
     "execution_count": 170,
     "metadata": {},
     "output_type": "execute_result"
    }
   ],
   "source": [
    "first .bam.x"
   ]
  },
  {
   "cell_type": "code",
   "execution_count": null,
   "metadata": {},
   "outputs": [],
   "source": []
  },
  {
   "cell_type": "code",
   "execution_count": null,
   "metadata": {},
   "outputs": [],
   "source": []
  },
  {
   "cell_type": "code",
   "execution_count": null,
   "metadata": {},
   "outputs": [],
   "source": []
  },
  {
   "cell_type": "code",
   "execution_count": null,
   "metadata": {},
   "outputs": [],
   "source": []
  }
 ],
 "metadata": {
  "kernelspec": {
   "display_name": "Q (kdb+)",
   "language": "q",
   "name": "qpk"
  },
  "language_info": {
   "file_extension": ".q",
   "mimetype": "text/x-q",
   "name": "q",
   "version": "4.0"
  }
 },
 "nbformat": 4,
 "nbformat_minor": 4
}
