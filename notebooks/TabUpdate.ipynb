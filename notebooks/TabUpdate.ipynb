{
 "cells": [
  {
   "cell_type": "code",
   "execution_count": 39,
   "metadata": {},
   "outputs": [],
   "source": [
    ".engine.model.instrument.Instrument:([iId:`long$()] cntTyp:`long$();state:`long$();faceValue:`long$();mkprice:`long$();\n",
    "   plmts:`long$();plmtb:`long$();lotSize:`long$();tickSize:`long$();mnSize:`long$();\n",
    "   mxSize:`long$();mnPrice:`long$();mxPrice:`long$();smul:`long$();\n",
    "   bestBid:`long$();bestAsk:`long$();liqb:`boolean$();liqs:`boolean$());"
   ]
  },
  {
   "cell_type": "code",
   "execution_count": 34,
   "metadata": {},
   "outputs": [],
   "source": [
    ".engine.model.inventory.Inventory:([aId:`long$();side:`long$()] iId:`.engine.model.instrument.Instrument$();\n",
    "   ordQty:`long$();ordVal:`long$();ordLoss:`long$();amt:`long$();iw:`long$();mm:`long$();\n",
    "   posVal:`long$();rpnl:`long$();avgPrice:`long$();execCost:`long$();upnl:`long$();lev:`long$());"
   ]
  },
  {
   "cell_type": "code",
   "execution_count": 5,
   "metadata": {},
   "outputs": [
    {
     "name": "stdout",
     "output_type": "stream",
     "text": [
      "\"###################################################################################################\"\n",
      "\"                                             TEST\"\n",
      "\"###################################################################################################\"\n",
      "\"===================================================================================================\"\n",
      "\"35) .engine.logic.orderbook.Level (UNIT) :READY\"\n",
      "`Given a depth update which consists of a table of time,side,pricesize update the orderbook and the individual order offsets/icebergorders where necessary\n",
      "\"---------------------------------------------------------------------------------------------------\"\n",
      "caseId state dscr                                            \n",
      "-------------------------------------------------------------\n",
      "262    PASS  No change occurs and thus no update is triggered\n",
      "\"                                                                                                                                                                                                                                                                                                                                                                                                                \"\n",
      "\"###################################################################################################\"\n",
      "\"                                      TESTS COMPLETED\"\n",
      "\"###################################################################################################\"\n",
      "state| x  \n",
      "-----| ---\n",
      "PASS | 1  \n",
      "SKIP | 398\n",
      "\"                                                                                                                                                                                                                                                                                                                                                                                                                \"\n"
     ]
    }
   ],
   "source": [
    "\\l test.q"
   ]
  },
  {
   "cell_type": "code",
   "execution_count": 6,
   "metadata": {},
   "outputs": [],
   "source": [
    ".util.testutils.makeDefaultsRecords  :{[tab;cl;vl] // TODO inter with actual cols\n",
    "    r:.util.NullRowDict[tab];\n",
    "    cvl:count[vl]; \n",
    "    :$[cvl>1;[rx:(cvl#enlist[r]);rx[cl]:flip[vl];:rx];[r[cl]:first[vl];:r]]};"
   ]
  },
  {
   "cell_type": "code",
   "execution_count": 7,
   "metadata": {},
   "outputs": [],
   "source": [
    ".util.testutils.makeInstrument     :{[cl;vl]\n",
    "    .util.testutils.makeDefaultsRecords[`.engine.model.instrument.Instrument;cl;vl]\n",
    "    };"
   ]
  },
  {
   "cell_type": "code",
   "execution_count": 12,
   "metadata": {},
   "outputs": [],
   "source": [
    "// Checks that the .engine.model.order.Order table matches the orders\n",
    "// that are provided.\n",
    "/  @param x (Order/List) The orders that are to be checked\n",
    "/  @param y (Case) The case that the assertions belong to\n",
    "/  @param z (List[String]) The params that are being checked \n",
    ".util.testutils.makeInventory     :{[cl;vl]\n",
    "    .util.testutils.makeDefaultsRecords[`.engine.model.inventory.Inventory;cl;vl]\n",
    "    };"
   ]
  },
  {
   "cell_type": "code",
   "execution_count": 9,
   "metadata": {},
   "outputs": [],
   "source": [
    ".engine.model.instrument.Instrument,:.util.testutils.makeInstrument[`mkprice`tickSize`mnSize;enlist(1000;5;1)]"
   ]
  },
  {
   "cell_type": "code",
   "execution_count": 18,
   "metadata": {},
   "outputs": [],
   "source": [
    "aIds:(0 1);"
   ]
  },
  {
   "cell_type": "code",
   "execution_count": 22,
   "metadata": {},
   "outputs": [],
   "source": [
    ".engine.model.risktier.RiskTier,:flip `rtid`mxamt`mmr`imr`maxlev!flip[(\n",
    "        (0; 50000;       0.004;    0.008;    125);\n",
    "        (1; 250000;      0.005;    0.01;     100);\n",
    "        (2; 1000000;     0.01;     0.02;     50);\n",
    "        (3; 5000000;     0.025;    0.05;     20);\n",
    "        (4; 20000000;    0.05;     0.1;      10);\n",
    "        (5; 50000000;    0.1;      0.20;     5);\n",
    "        (6; 100000000;   0.125;    0.25;     4);\n",
    "        (7; 200000000;   0.15;     0.333;    3);\n",
    "        (8; 500000000;   0.25;     0.50;     2);\n",
    "        (9; 500000000;   0.25;     1.0;      1))]; \n",
    "\n",
    "     .engine.model.feetier.FeeTier,:flip `ftid`vol`mkrfee`tkrfee`wdrawfee`dpstfee`wdlim!flip[(\n",
    "        (0; 50;      0.0006;    0.0006;    0f;  0f; 600);\n",
    "        (1; 500;     0.00054;   0.0006;    0f;  0f; 600);\n",
    "        (2; 1500;    0.00048;   0.0006;    0f;  0f; 600);\n",
    "        (3; 4500;    0.00042;   0.0006;    0f;  0f; 600);\n",
    "        (4; 10000;   0.00042;   0.00054;   0f;  0f; 600);\n",
    "        (5; 20000;   0.00036;   0.00048;   0f;  0f; 600);\n",
    "        (6; 40000;   0.00024;   0.00036;   0f;  0f; 600);\n",
    "        (7; 80000;   0.00018;   0.000300;  0f;  0f; 600);\n",
    "        (8; 150000;  0.00012;   0.00024;   0f;  0f; 600))];                             //  "
   ]
  },
  {
   "cell_type": "code",
   "execution_count": 40,
   "metadata": {},
   "outputs": [],
   "source": [
    ".engine.model.instrument.Instrument,:((!) . flip(\n",
    "        (`iId                      ; 0);                                           \n",
    "        (`cntTyp                   ; 0);\n",
    "        (`state                    ; 0);\n",
    "        (`faceValue                ; 0);\n",
    "        (`mkprice                  ; 0);\n",
    "        (`mxSize                   ; 0);\n",
    "        (`mnPrice                  ; 0);\n",
    "        (`smul                     ; 0);\n",
    "        (`mxPrice                  ; 0) \n",
    "        ));"
   ]
  },
  {
   "cell_type": "code",
   "execution_count": 36,
   "metadata": {},
   "outputs": [],
   "source": [
    "n:count[aIds];\n",
    "dn:n*2;\n",
    ".engine.model.inventory.Inventory,:ivn:flip[(!) . flip(\n",
    "    (`aId              ; floor[til[dn]%2]); \n",
    "    (`iId              ; `.engine.model.instrument.Instrument$(dn#0)); \n",
    "    (`side             ; dn#(1 -1));                                            \n",
    "    (`ordQty           ; dn#0);\n",
    "    (`ordVal           ; dn#0);\n",
    "    (`ordLoss          ; dn#0);\n",
    "    (`amt              ; dn#0);\n",
    "    (`iw               ; dn#0); // isolated wallet\n",
    "    (`mm               ; dn#0);\n",
    "    (`posVal           ; dn#0);\n",
    "    (`rpnl             ; dn#0);  \n",
    "    (`avgPrice         ; dn#0);  \n",
    "    (`execCost         ; dn#0);  \n",
    "    (`upnl             ; dn#0);  \n",
    "    (`lev              ; dn#0)  \n",
    "    )];"
   ]
  },
  {
   "cell_type": "code",
   "execution_count": 24,
   "metadata": {},
   "outputs": [],
   "source": [
    ".engine.model.account.Account,:acc:flip((!) . flip(\n",
    "        (`aId              ; aIds);                                            \n",
    "        (`lng              ; `.engine.model.inventory.Inventory$(flip(aIds;n#1)));\n",
    "        (`srt              ; `.engine.model.inventory.Inventory$(flip(aIds;n#-1)));\n",
    "        (`dep              ; n#0);  \n",
    "        (`wit              ; n#0);  \n",
    "        (`rt               ; n#`.engine.model.risktier.RiskTier$0);  \n",
    "        (`ft               ; n#`.engine.model.feetier.FeeTier$0);  \n",
    "        (`posTyp           ; n#0);  \n",
    "        (`mrgTyp           ; n#0);  \n",
    "        (`avail            ; n?10);  \n",
    "        (`bal              ; n?10)  \n",
    "        ));"
   ]
  },
  {
   "cell_type": "code",
   "execution_count": 25,
   "metadata": {},
   "outputs": [],
   "source": [
    "update \n",
    " mkprice:1000\n",
    " from `.engine.model.instrument.Instrument\n",
    " where iId=0;"
   ]
  },
  {
   "cell_type": "code",
   "execution_count": 47,
   "metadata": {},
   "outputs": [
    {
     "data": {
      "text/plain": [
       "`.engine.model.inventory.Inventory\n"
      ]
     },
     "execution_count": 47,
     "metadata": {},
     "output_type": "execute_result"
    }
   ],
   "source": [
    "update \n",
    " upl:.engine.logic.contract.UnrealizedPnl[\n",
    "     iId.cntTyp,\n",
    "     iId.mkprice,\n",
    "     iId.faceValue,\n",
    "     iId.smul,\n",
    "     amt,\n",
    "     side,\n",
    "     avgPrice]\n",
    "    from `.engine.model.inventory.Inventory \n",
    "    where (iId=0) and (amt>0)"
   ]
  },
  {
   "cell_type": "code",
   "execution_count": null,
   "metadata": {},
   "outputs": [],
   "source": []
  },
  {
   "cell_type": "code",
   "execution_count": null,
   "metadata": {},
   "outputs": [],
   "source": []
  },
  {
   "cell_type": "code",
   "execution_count": null,
   "metadata": {},
   "outputs": [],
   "source": []
  },
  {
   "cell_type": "code",
   "execution_count": null,
   "metadata": {},
   "outputs": [],
   "source": [
    "// Apply mark price update \n",
    ".engine.logic.instrument.MarkPrice:{\n",
    "\t\t\t\tupdate \n",
    "\t\t\t\t  \tmkprice:x[`markprice] \n",
    "\t\t\t\t  \tfrom `.engine.model.instrument.Instrument\n",
    "\t\t\t\t\t\twhere iId=x[`iId];\n",
    "\n",
    "\t\t\t\tupdate \n",
    "\t\t\t\t\t  upl:.engine.logic.contract.UnrealizedPnl[\n",
    "\t\t\t\t\t\t\t\tiId.cntTyp,\t\n",
    "\t\t\t\t\t\t\t\tiId.mkprice,\n",
    "\t\t\t\t\t\t\t\tiId.faceValue,\n",
    "\t\t\t\t\t\t\t\tiId.smul,\n",
    "\t\t\t\t\t\t\t\tamt,\n",
    "\t\t\t\t\t\t\t\tside,\n",
    "\t\t\t\t\t\t\t\tavgPrice]\n",
    "\t\t\t\t\t\tfrom `.engine.model.inventory.Inventory \n",
    "\t\t\t\t\t\twhere (iId=x`iId) and (amt>0);\n",
    "\n",
    "\t\t\t\tupdate\n",
    "\t\t\t\t\tft:.engine.logic.account.GetFeetier[vol],\n",
    "\t\t\t\t\trt:.engine.logic.account.GetRisktier[lng.amt+srt.amt],\n",
    "\t\t\t\t\tavail:.engine.logic.account.GetAvailable[\n",
    "\t\t\t\t\t\t\tbal;lng.mm+srt.mm;lng.upnl+srt.upnl;\n",
    "\t\t\t\t\t\t\tlng.ordQty+srt.ordQty;lng.ordLoss+srt.ordLoss]\n",
    "\t\t\t\t\tfrom `.engine.model.account.Account \n",
    "\t\t\t\t\twhere iId=x[`iId] and ((lng.amt>0) or (srt.amt>0));\n",
    "\n",
    "\t\t\t\t.engine.EmitA[`account;last t;last x];\n",
    "\t\t\t\t.engine.EmitA[`inventory;last t;last x];\n",
    "\t\t\t\t.engine.Emit[`mark;last t;last x];\n",
    "\t};\n"
   ]
  },
  {
   "cell_type": "code",
   "execution_count": null,
   "metadata": {},
   "outputs": [],
   "source": []
  },
  {
   "cell_type": "code",
   "execution_count": null,
   "metadata": {},
   "outputs": [],
   "source": []
  },
  {
   "cell_type": "code",
   "execution_count": null,
   "metadata": {},
   "outputs": [],
   "source": []
  }
 ],
 "metadata": {
  "kernelspec": {
   "display_name": "Q (kdb+)",
   "language": "q",
   "name": "qpk"
  },
  "language_info": {
   "file_extension": ".q",
   "mimetype": "text/x-q",
   "name": "q",
   "version": "4.0"
  }
 },
 "nbformat": 4,
 "nbformat_minor": 4
}
