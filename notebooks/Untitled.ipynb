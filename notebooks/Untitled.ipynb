{
 "cells": [
  {
   "cell_type": "code",
   "execution_count": 1,
   "metadata": {},
   "outputs": [],
   "source": [
    "\\cd /home/qenv/"
   ]
  },
  {
   "cell_type": "code",
   "execution_count": 1,
   "metadata": {},
   "outputs": [
    {
     "ename": "\u001b[0;31mmodel/init.q. OS reports: No such file or directory\u001b[0m",
     "evalue": "\u001b[0;31mmodel/init.q. OS reports: No such file or directory\u001b[0m",
     "output_type": "error",
     "traceback": [
      "\u001b[0;31mevaluation error:\n\u001b[0m",
      "\u001b[0;31mmodel/init.q. OS reports: No such file or directory\u001b[0m",
      "\u001b[0;31m\u001b[0m",
      "\u001b[0;31m  [0]  \\l model/init.q\n       ^\n\u001b[0m"
     ]
    }
   ],
   "source": [
    "\\l model/init.q"
   ]
  },
  {
   "cell_type": "code",
   "execution_count": 2,
   "metadata": {},
   "outputs": [
    {
     "data": {
      "text/plain": [
       "\"Dockerfile\"\n",
       "\"README.md\"\n",
       "\"TODO.md\"\n",
       "\"__init__.py\"\n",
       "\"atari.sh\"\n",
       "\"binance.q\"\n",
       "\"common\"\n",
       "\"config\"\n",
       "\"engine\"\n",
       "\"env.q\"\n",
       "\"envTest.q\"\n",
       "\"ingest\"\n",
       "\"kdb.sh\"\n",
       "\"kdbj.sh\"\n",
       "\"notebooks\"\n",
       "\"pipeline.q\"\n",
       "\"qenv_cluster.sh\"\n",
       "\"quantest\"\n",
       "\"research\"\n",
       "\"server.q\"\n",
       "\"serverTest.q\"\n",
       "\"state\"\n",
       "..\n"
      ]
     },
     "execution_count": 2,
     "metadata": {},
     "output_type": "execute_result"
    }
   ],
   "source": [
    "\\ls"
   ]
  },
  {
   "cell_type": "code",
   "execution_count": null,
   "metadata": {},
   "outputs": [],
   "source": []
  },
  {
   "cell_type": "code",
   "execution_count": null,
   "metadata": {},
   "outputs": [],
   "source": []
  },
  {
   "cell_type": "code",
   "execution_count": null,
   "metadata": {},
   "outputs": [],
   "source": []
  }
 ],
 "metadata": {
  "kernelspec": {
   "display_name": "Q (kdb+)",
   "language": "q",
   "name": "qpk"
  },
  "language_info": {
   "file_extension": ".q",
   "mimetype": "text/x-q",
   "name": "q",
   "version": "4.0"
  }
 },
 "nbformat": 4,
 "nbformat_minor": 4
}
