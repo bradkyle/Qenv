{
 "cells": [
  {
   "cell_type": "code",
   "execution_count": 2,
   "metadata": {},
   "outputs": [
    {
     "data": {
      "text/html": [
       "<style>.container { width:100% !important; }</style>"
      ],
      "text/plain": [
       "<IPython.core.display.HTML object>"
      ]
     },
     "metadata": {},
     "output_type": "display_data"
    }
   ],
   "source": [
    "from IPython.core.display import display, HTML\n",
    "display(HTML(\"<style>.container { width:100% !important; }</style>\"))"
   ]
  },
  {
   "cell_type": "code",
   "execution_count": 3,
   "metadata": {},
   "outputs": [],
   "source": [
    "from gym import Env, spaces\n",
    "from qpython import qconnection\n",
    "import numpy as np\n",
    "import json"
   ]
  },
  {
   "cell_type": "code",
   "execution_count": 9,
   "metadata": {},
   "outputs": [],
   "source": [
    "def _exec(qry, pandas=False):\n",
    "        with qconnection.QConnection(\n",
    "            host=\"localhost\", \n",
    "            port=5050, \n",
    "            pandas=pandas) as q:\n",
    "            return q.sendSync(qry) "
   ]
  },
  {
   "cell_type": "code",
   "execution_count": 17,
   "metadata": {},
   "outputs": [],
   "source": [
    "data = _exec(\"getdata[`events;30]\", pandas=True)"
   ]
  },
  {
   "cell_type": "code",
   "execution_count": 20,
   "metadata": {},
   "outputs": [],
   "source": [
    "data[\"cmd\"]=(data[\"cmd\"]).apply(lambda x:x.decode(\"utf-8\"))\n",
    "data[\"kind\"]=(data[\"kind\"]).apply(lambda x:x.decode(\"utf-8\"))"
   ]
  },
  {
   "cell_type": "code",
   "execution_count": 21,
   "metadata": {},
   "outputs": [
    {
     "data": {
      "text/html": [
       "<div>\n",
       "<style scoped>\n",
       "    .dataframe tbody tr th:only-of-type {\n",
       "        vertical-align: middle;\n",
       "    }\n",
       "\n",
       "    .dataframe tbody tr th {\n",
       "        vertical-align: top;\n",
       "    }\n",
       "\n",
       "    .dataframe thead th {\n",
       "        text-align: right;\n",
       "    }\n",
       "</style>\n",
       "<table border=\"1\" class=\"dataframe\">\n",
       "  <thead>\n",
       "    <tr style=\"text-align: right;\">\n",
       "      <th></th>\n",
       "      <th>date</th>\n",
       "      <th>time</th>\n",
       "      <th>intime</th>\n",
       "      <th>kind</th>\n",
       "      <th>cmd</th>\n",
       "      <th>datum</th>\n",
       "    </tr>\n",
       "  </thead>\n",
       "  <tbody>\n",
       "    <tr>\n",
       "      <th>0</th>\n",
       "      <td>2020-07-26</td>\n",
       "      <td>2020-07-26 23:54:24.490</td>\n",
       "      <td>2020-07-26 23:54:24.547</td>\n",
       "      <td>TRADE</td>\n",
       "      <td>NEW</td>\n",
       "      <td>[b'SELL', 993500, 1]</td>\n",
       "    </tr>\n",
       "    <tr>\n",
       "      <th>1</th>\n",
       "      <td>2020-07-26</td>\n",
       "      <td>2020-07-26 23:54:44.650</td>\n",
       "      <td>2020-07-26 23:54:44.708</td>\n",
       "      <td>TRADE</td>\n",
       "      <td>NEW</td>\n",
       "      <td>[b'BUY', 993550, 92]</td>\n",
       "    </tr>\n",
       "    <tr>\n",
       "      <th>2</th>\n",
       "      <td>2020-07-26</td>\n",
       "      <td>2020-07-26 23:54:44.650</td>\n",
       "      <td>2020-07-26 23:54:44.708</td>\n",
       "      <td>TRADE</td>\n",
       "      <td>NEW</td>\n",
       "      <td>[b'BUY', 993550, 110]</td>\n",
       "    </tr>\n",
       "    <tr>\n",
       "      <th>3</th>\n",
       "      <td>2020-07-26</td>\n",
       "      <td>2020-07-26 23:54:44.650</td>\n",
       "      <td>2020-07-26 23:54:44.708</td>\n",
       "      <td>TRADE</td>\n",
       "      <td>NEW</td>\n",
       "      <td>[b'BUY', 993550, 200]</td>\n",
       "    </tr>\n",
       "    <tr>\n",
       "      <th>4</th>\n",
       "      <td>2020-07-26</td>\n",
       "      <td>2020-07-26 23:54:44.650</td>\n",
       "      <td>2020-07-26 23:54:44.708</td>\n",
       "      <td>TRADE</td>\n",
       "      <td>NEW</td>\n",
       "      <td>[b'BUY', 993550, 4]</td>\n",
       "    </tr>\n",
       "    <tr>\n",
       "      <th>...</th>\n",
       "      <td>...</td>\n",
       "      <td>...</td>\n",
       "      <td>...</td>\n",
       "      <td>...</td>\n",
       "      <td>...</td>\n",
       "      <td>...</td>\n",
       "    </tr>\n",
       "    <tr>\n",
       "      <th>180239</th>\n",
       "      <td>2020-07-27</td>\n",
       "      <td>2020-07-27 00:08:00.000</td>\n",
       "      <td>2020-07-27 00:08:00.771</td>\n",
       "      <td>MARK</td>\n",
       "      <td>UPDATE</td>\n",
       "      <td>[[995552]]</td>\n",
       "    </tr>\n",
       "    <tr>\n",
       "      <th>180240</th>\n",
       "      <td>2020-07-27</td>\n",
       "      <td>2020-07-27 00:08:05.132</td>\n",
       "      <td>2020-07-27 00:08:05.786</td>\n",
       "      <td>MARK</td>\n",
       "      <td>UPDATE</td>\n",
       "      <td>[[995562]]</td>\n",
       "    </tr>\n",
       "    <tr>\n",
       "      <th>180241</th>\n",
       "      <td>2020-07-27</td>\n",
       "      <td>2020-07-27 00:08:15.360</td>\n",
       "      <td>2020-07-27 00:08:15.759</td>\n",
       "      <td>MARK</td>\n",
       "      <td>UPDATE</td>\n",
       "      <td>[[995484]]</td>\n",
       "    </tr>\n",
       "    <tr>\n",
       "      <th>180242</th>\n",
       "      <td>2020-07-27</td>\n",
       "      <td>2020-07-27 00:08:30.080</td>\n",
       "      <td>2020-07-27 00:08:30.736</td>\n",
       "      <td>MARK</td>\n",
       "      <td>UPDATE</td>\n",
       "      <td>[[995349]]</td>\n",
       "    </tr>\n",
       "    <tr>\n",
       "      <th>180243</th>\n",
       "      <td>2020-07-27</td>\n",
       "      <td>2020-07-27 00:09:05.053</td>\n",
       "      <td>2020-07-27 00:09:05.712</td>\n",
       "      <td>MARK</td>\n",
       "      <td>UPDATE</td>\n",
       "      <td>[[995015]]</td>\n",
       "    </tr>\n",
       "  </tbody>\n",
       "</table>\n",
       "<p>180244 rows × 6 columns</p>\n",
       "</div>"
      ],
      "text/plain": [
       "             date                    time                  intime   kind  \\\n",
       "0      2020-07-26 2020-07-26 23:54:24.490 2020-07-26 23:54:24.547  TRADE   \n",
       "1      2020-07-26 2020-07-26 23:54:44.650 2020-07-26 23:54:44.708  TRADE   \n",
       "2      2020-07-26 2020-07-26 23:54:44.650 2020-07-26 23:54:44.708  TRADE   \n",
       "3      2020-07-26 2020-07-26 23:54:44.650 2020-07-26 23:54:44.708  TRADE   \n",
       "4      2020-07-26 2020-07-26 23:54:44.650 2020-07-26 23:54:44.708  TRADE   \n",
       "...           ...                     ...                     ...    ...   \n",
       "180239 2020-07-27 2020-07-27 00:08:00.000 2020-07-27 00:08:00.771   MARK   \n",
       "180240 2020-07-27 2020-07-27 00:08:05.132 2020-07-27 00:08:05.786   MARK   \n",
       "180241 2020-07-27 2020-07-27 00:08:15.360 2020-07-27 00:08:15.759   MARK   \n",
       "180242 2020-07-27 2020-07-27 00:08:30.080 2020-07-27 00:08:30.736   MARK   \n",
       "180243 2020-07-27 2020-07-27 00:09:05.053 2020-07-27 00:09:05.712   MARK   \n",
       "\n",
       "           cmd                  datum  \n",
       "0          NEW   [b'SELL', 993500, 1]  \n",
       "1          NEW   [b'BUY', 993550, 92]  \n",
       "2          NEW  [b'BUY', 993550, 110]  \n",
       "3          NEW  [b'BUY', 993550, 200]  \n",
       "4          NEW    [b'BUY', 993550, 4]  \n",
       "...        ...                    ...  \n",
       "180239  UPDATE             [[995552]]  \n",
       "180240  UPDATE             [[995562]]  \n",
       "180241  UPDATE             [[995484]]  \n",
       "180242  UPDATE             [[995349]]  \n",
       "180243  UPDATE             [[995015]]  \n",
       "\n",
       "[180244 rows x 6 columns]"
      ]
     },
     "execution_count": 21,
     "metadata": {},
     "output_type": "execute_result"
    }
   ],
   "source": [
    "data"
   ]
  }
 ],
 "metadata": {
  "kernelspec": {
   "display_name": "Python (bitcoin)",
   "language": "python",
   "name": "bitcoin"
  },
  "language_info": {
   "codemirror_mode": {
    "name": "ipython",
    "version": 3
   },
   "file_extension": ".py",
   "mimetype": "text/x-python",
   "name": "python",
   "nbconvert_exporter": "python",
   "pygments_lexer": "ipython3",
   "version": "3.6.8"
  },
  "latex_envs": {
   "LaTeX_envs_menu_present": true,
   "autoclose": false,
   "autocomplete": true,
   "bibliofile": "biblio.bib",
   "cite_by": "apalike",
   "current_citInitial": 1,
   "eqLabelWithNumbers": true,
   "eqNumInitial": 1,
   "hotkeys": {
    "equation": "Ctrl-E",
    "itemize": "Ctrl-I"
   },
   "labels_anchors": false,
   "latex_user_defs": false,
   "report_style_numbering": false,
   "user_envs_cfg": false
  },
  "varInspector": {
   "cols": {
    "lenName": 16,
    "lenType": 16,
    "lenVar": 40
   },
   "kernels_config": {
    "python": {
     "delete_cmd_postfix": "",
     "delete_cmd_prefix": "del ",
     "library": "var_list.py",
     "varRefreshCmd": "print(var_dic_list())"
    },
    "r": {
     "delete_cmd_postfix": ") ",
     "delete_cmd_prefix": "rm(",
     "library": "var_list.r",
     "varRefreshCmd": "cat(var_dic_list()) "
    }
   },
   "types_to_exclude": [
    "module",
    "function",
    "builtin_function_or_method",
    "instance",
    "_Feature"
   ],
   "window_display": false
  }
 },
 "nbformat": 4,
 "nbformat_minor": 2
}
