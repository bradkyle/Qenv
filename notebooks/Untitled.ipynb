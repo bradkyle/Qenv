{
 "cells": [
  {
   "cell_type": "code",
   "execution_count": 1,
   "metadata": {},
   "outputs": [],
   "source": [
    "\\cd /home/qenv/"
   ]
  },
  {
   "cell_type": "code",
   "execution_count": 1,
   "metadata": {},
   "outputs": [
    {
     "ename": "\u001b[0;31mmodel/init.q. OS reports: No such file or directory\u001b[0m",
     "evalue": "\u001b[0;31mmodel/init.q. OS reports: No such file or directory\u001b[0m",
     "output_type": "error",
     "traceback": [
      "\u001b[0;31mevaluation error:\n\u001b[0m",
      "\u001b[0;31mmodel/init.q. OS reports: No such file or directory\u001b[0m",
      "\u001b[0;31m\u001b[0m",
      "\u001b[0;31m  [0]  \\l model/init.q\n       ^\n\u001b[0m"
     ]
    }
   ],
   "source": [
    "\\l model/init.q"
   ]
  },
  {
   "cell_type": "code",
   "execution_count": 2,
   "metadata": {},
   "outputs": [
    {
     "data": {
      "text/plain": [
       "\"Dockerfile\"\n",
       "\"README.md\"\n",
       "\"TODO.md\"\n",
       "\"__init__.py\"\n",
       "\"atari.sh\"\n",
       "\"binance.q\"\n",
       "\"common\"\n",
       "\"config\"\n",
       "\"engine\"\n",
       "\"env.q\"\n",
       "\"envTest.q\"\n",
       "\"ingest\"\n",
       "\"kdb.sh\"\n",
       "\"kdbj.sh\"\n",
       "\"notebooks\"\n",
       "\"pipeline.q\"\n",
       "\"qenv_cluster.sh\"\n",
       "\"quantest\"\n",
       "\"research\"\n",
       "\"server.q\"\n",
       "\"serverTest.q\"\n",
       "\"state\"\n",
       "..\n"
      ]
     },
     "execution_count": 2,
     "metadata": {},
     "output_type": "execute_result"
    }
   ],
   "source": [
    "\\ls"
   ]
  },
  {
   "cell_type": "code",
   "execution_count": 5,
   "metadata": {},
   "outputs": [],
   "source": [
    "a:(1b;1;();(\n",
    "  `oId`acc`ivn`price`okind`state`oqty`dqty`einst!(0;0;0;1000;0;0;100;100;0);\n",
    "  `oId`acc`ivn`price`okind`state`oqty`dqty`einst!(1;0;0;1000;0;0;100;100;0);\n",
    "  `oId`acc`ivn`price`okind`state`oqty`dqty`einst!(2;0;0;1000;0;0;100;100;0)\n",
    "    ))"
   ]
  },
  {
   "cell_type": "code",
   "execution_count": 15,
   "metadata": {},
   "outputs": [],
   "source": [
    "a:(1b;1;();(\n",
    "                  `price`side`qty`hqty`iqty`vqty!(1000;1;1000;1000;1000;1000);\n",
    "                  `price`side`qty`hqty`iqty`vqty!(1000;1;1000;1000;1000;1000);\n",
    "                  `price`side`qty`hqty`iqty`vqty!(1000;1;1000;1000;1000;1000)\n",
    "                )); // GetLevel \n",
    "b:(1b;1;();(\n",
    "                  `oId`side`acc`ivn`price`okind`state`oqty`dqty`einst!(0;-1;0;0;1000;0;0;100;100;0);\n",
    "                  `oId`side`acc`ivn`price`okind`state`oqty`dqty`einst!(1;-1;0;0;1000;0;0;100;100;0);\n",
    "                  `oId`side`acc`ivn`price`okind`state`oqty`dqty`einst!(2;-1;0;0;1000;0;0;100;100;0)\n",
    "                )); // GetOrder \n"
   ]
  },
  {
   "cell_type": "code",
   "execution_count": 16,
   "metadata": {},
   "outputs": [
    {
     "data": {
      "text/plain": [
       "oId side acc ivn price okind state oqty dqty einst\n",
       "--------------------------------------------------\n",
       "0   -1   0   0   1000  0     0     100  100  0    \n",
       "1   -1   0   0   1000  0     0     100  100  0    \n",
       "2   -1   0   0   1000  0     0     100  100  0    \n"
      ]
     },
     "execution_count": 16,
     "metadata": {},
     "output_type": "execute_result"
    }
   ],
   "source": [
    "b[3]"
   ]
  },
  {
   "cell_type": "code",
   "execution_count": 17,
   "metadata": {},
   "outputs": [
    {
     "data": {
      "text/plain": [
       "oId side acc ivn price okind state oqty dqty einst oprice oside\n",
       "---------------------------------------------------------------\n",
       "0   -1   0   0   1000  0     0     100  100  0     1000   -1   \n",
       "1   -1   0   0   1000  0     0     100  100  0     1000   -1   \n",
       "2   -1   0   0   1000  0     0     100  100  0     1000   -1   \n"
      ]
     },
     "execution_count": 17,
     "metadata": {},
     "output_type": "execute_result"
    }
   ],
   "source": [
    "update oprice:price, oside:side from b[3]"
   ]
  },
  {
   "cell_type": "code",
   "execution_count": null,
   "metadata": {},
   "outputs": [],
   "source": []
  },
  {
   "cell_type": "code",
   "execution_count": null,
   "metadata": {},
   "outputs": [],
   "source": []
  },
  {
   "cell_type": "code",
   "execution_count": 18,
   "metadata": {},
   "outputs": [
    {
     "data": {
      "text/plain": [
       "price| side     qty  hqty iqty vqty oId   acc   ivn   okind state oqty       ..\n",
       "-----| ----------------------------------------------------------------------..\n",
       "1000 | -1 -1 -1 1000 1000 1000 1000 0 1 2 0 0 0 0 0 0 0 0 0 0 0 0 100 100 100..\n",
       "1000 | -1 -1 -1 1000 1000 1000 1000 0 1 2 0 0 0 0 0 0 0 0 0 0 0 0 100 100 100..\n",
       "1000 | -1 -1 -1 1000 1000 1000 1000 0 1 2 0 0 0 0 0 0 0 0 0 0 0 0 100 100 100..\n"
      ]
     },
     "execution_count": 18,
     "metadata": {},
     "output_type": "execute_result"
    }
   ],
   "source": [
    "ij[`price xkey a[3];`price xgroup (update oprice:price, oside:side from b[3])]"
   ]
  },
  {
   "cell_type": "code",
   "execution_count": null,
   "metadata": {},
   "outputs": [],
   "source": [
    "s:0!{$[x>0;desc[y];asc[y]]}[neg[side];]; "
   ]
  }
 ],
 "metadata": {
  "kernelspec": {
   "display_name": "Q (kdb+)",
   "language": "q",
   "name": "qpk"
  },
  "language_info": {
   "file_extension": ".q",
   "mimetype": "text/x-q",
   "name": "q",
   "version": "4.0"
  }
 },
 "nbformat": 4,
 "nbformat_minor": 4
}
