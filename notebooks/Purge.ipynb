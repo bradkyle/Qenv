{
 "cells": [
  {
   "cell_type": "code",
   "execution_count": 1,
   "metadata": {},
   "outputs": [],
   "source": [
    "\\cd ../qenv"
   ]
  },
  {
   "cell_type": "code",
   "execution_count": 2,
   "metadata": {},
   "outputs": [
    {
     "name": "stdout",
     "output_type": "stream",
     "text": [
      "\"###################################################################################################\"\n",
      "\"                                             TEST\"\n",
      "\"###################################################################################################\"\n",
      "\"===================================================================================================\"\n",
      "\"47) .engine.GetIngressEvents (UNIT) :READY\"\n",
      "`Path finder action set (made for binance exchange)\n",
      "\"---------------------------------------------------------------------------------------------------\"\n",
      "caseId state dscr                                                              \n",
      "-------------------------------------------------------------------------------\n",
      "250    ERROR min price 1000 (asks) price distribution 0.01 tick size: 10 levels\n",
      "251    ERROR min price 1000 (bids) price distribution 0.01 tick size: 10 levels\n",
      "252    ERROR min price 1000 (asks) price distribution 0.5 tick size: 10 levels \n",
      "253    ERROR min price 1000 (bids) price distribution 0.5 tick size: 10 levels \n",
      "\"===================================================================================================\"\n",
      "\"48) .engine.GetEgressEvents (UNIT) :READY\"\n",
      "`Path finder action set (made for binance exchange)\n",
      "\"---------------------------------------------------------------------------------------------------\"\n",
      "caseId state dscr                                                              \n",
      "-------------------------------------------------------------------------------\n",
      "254    ERROR min price 1000 (asks) price distribution 0.01 tick size: 10 levels\n",
      "255    ERROR min price 1000 (bids) price distribution 0.01 tick size: 10 levels\n",
      "256    ERROR min price 1000 (asks) price distribution 0.5 tick size: 10 levels \n",
      "257    ERROR min price 1000 (bids) price distribution 0.5 tick size: 10 levels \n",
      "\"===================================================================================================\"\n",
      "\"49) .engine.E (UNIT) :READY\"\n",
      "`Path finder action set (made for binance exchange)\n",
      "\"---------------------------------------------------------------------------------------------------\"\n",
      "caseId state dscr                                                              \n",
      "-------------------------------------------------------------------------------\n",
      "258    ERROR min price 1000 (asks) price distribution 0.01 tick size: 10 levels\n",
      "259    ERROR min price 1000 (bids) price distribution 0.01 tick size: 10 levels\n",
      "260    ERROR min price 1000 (asks) price distribution 0.5 tick size: 10 levels \n",
      "261    ERROR min price 1000 (bids) price distribution 0.5 tick size: 10 levels \n",
      "\"===================================================================================================\"\n",
      "\"50) .engine.Purge (UNIT) :READY\"\n",
      "`Path finder action set (made for binance exchange)\n",
      "\"---------------------------------------------------------------------------------------------------\"\n",
      "caseId state dscr                                                              \n",
      "-------------------------------------------------------------------------------\n",
      "262    ERROR min price 1000 (asks) price distribution 0.01 tick size: 10 levels\n",
      "263    ERROR min price 1000 (bids) price distribution 0.01 tick size: 10 levels\n",
      "264    ERROR min price 1000 (asks) price distribution 0.5 tick size: 10 levels \n",
      "265    ERROR min price 1000 (bids) price distribution 0.5 tick size: 10 levels \n",
      "\"===================================================================================================\"\n",
      "\"51) .engine.process (UNIT) :READY\"\n",
      "`Path finder action set (made for binance exchange)\n",
      "\"---------------------------------------------------------------------------------------------------\"\n",
      "caseId state dscr                     \n",
      "--------------------------------------\n",
      "266    FAIL  Process trade event      \n",
      "267    FAIL  Process depth event      \n",
      "268    FAIL  Process funding event    \n",
      "269    ERROR Process mark event       \n",
      "270    FAIL  Process settlement event \n",
      "271    FAIL  Process pricerange event \n",
      "272    FAIL  Process withdraw event   \n",
      "273    FAIL  Process deposit event    \n",
      "274    FAIL  Process leverage event   \n",
      "275    FAIL  Process neworder event   \n",
      "276    FAIL  Process amendorder event \n",
      "277    FAIL  Process cancelorder event\n",
      "278    FAIL  Process cancelall event  \n",
      "\"===================================================================================================\"\n",
      "\"52) .engine.Advance (UNIT) :READY\"\n",
      "`Path finder action set (made for binance exchange)\n",
      "\"---------------------------------------------------------------------------------------------------\"\n",
      "caseId state dscr                                                              \n",
      "-------------------------------------------------------------------------------\n",
      "279    FAIL  min price 1000 (asks) price distribution 0.01 tick size: 10 levels\n",
      "280    FAIL  min price 1000 (bids) price distribution 0.01 tick size: 10 levels\n",
      "281    FAIL  min price 1000 (asks) price distribution 0.5 tick size: 10 levels \n",
      "282    FAIL  min price 1000 (bids) price distribution 0.5 tick size: 10 levels \n",
      "\"===================================================================================================\"\n",
      "\"53) .engine.Reset (UNIT) :READY\"\n",
      "`Path finder action set (made for binance exchange)\n",
      "\"---------------------------------------------------------------------------------------------------\"\n",
      "caseId state dscr                                                              \n",
      "-------------------------------------------------------------------------------\n",
      "283    FAIL  min price 1000 (asks) price distribution 0.01 tick size: 10 levels\n",
      "284    FAIL  min price 1000 (bids) price distribution 0.01 tick size: 10 levels\n",
      "285    FAIL  min price 1000 (asks) price distribution 0.5 tick size: 10 levels \n",
      "286    FAIL  min price 1000 (bids) price distribution 0.5 tick size: 10 levels \n",
      "\"                                                                                                                                                                                                                                                                                                                                                                                                                \"\n",
      "\"###################################################################################################\"\n",
      "\"                                      TESTS COMPLETED\"\n",
      "\"###################################################################################################\"\n",
      "state| x  \n",
      "-----| ---\n",
      "ERROR| 17 \n",
      "FAIL | 20 \n",
      "SKIP | 384\n",
      "\"                                                                                                                                                                                                                                                                                                                                                                                                                \"\n"
     ]
    }
   ],
   "source": [
    "\\l test.q"
   ]
  },
  {
   "cell_type": "code",
   "execution_count": null,
   "metadata": {},
   "outputs": [],
   "source": []
  },
  {
   "cell_type": "code",
   "execution_count": null,
   "metadata": {},
   "outputs": [],
   "source": [
    ".engine.Purge   :{[e;cond;tag;msg] \n",
    "    if[count[e]=0;:e];\n",
    "    / .bam.e:e;\n",
    "    / .bam.cond:cond;\n",
    "    / .bam.msg:msg;\n",
    "    / .engine.E .event.Failure[?[e;cond;0b;()]];\n",
    "    / .engine.E ([]time:e[`time];datum:();kind:`failure) // .event.Failure[?[events;cond;0b;()]]; // TODO add reason\n",
    "    ![e;cond;0b;`symbol$()]\n",
    "    };"
   ]
  },
  {
   "cell_type": "code",
   "execution_count": 3,
   "metadata": {},
   "outputs": [],
   "source": [
    "e:([]time:enlist z;kind:enlist `trade;datum:enlist `side`price`size!(0;1;0)); // Events"
   ]
  },
  {
   "cell_type": "code",
   "execution_count": 9,
   "metadata": {},
   "outputs": [
    {
     "data": {
      "text/plain": [
       "side price size\n",
       "---------------\n",
       "0    1     0   \n"
      ]
     },
     "execution_count": 9,
     "metadata": {},
     "output_type": "execute_result"
    }
   ],
   "source": [
    "e[1]`datum"
   ]
  },
  {
   "cell_type": "code",
   "execution_count": 3,
   "metadata": {},
   "outputs": [
    {
     "ename": "\u001b[0;31mtype\u001b[0m",
     "evalue": "\u001b[0;31mtype\u001b[0m",
     "output_type": "error",
     "traceback": [
      "\u001b[0;31mevaluation error:\n\u001b[0m",
      "\u001b[0;31mtype\u001b[0m",
      "\u001b[0;31m\u001b[0m",
      "\u001b[0;31m  [1]  /home/qenv/qenv/engine/engine.q:40: .engine.Purge:\n    / .engine.E ([]time:e[`time];datum:();kind:`failure) // .event.Failure[?[events;cond;0b;()]]; // TODO add reason\n    ![e;cond;0b;`symbol$()]\n    ^\n    }\n\u001b[0m",
      "\u001b[0;31m  [0]  .engine.Purge[e[;1];enlist();0;\"Invanlid\"]\n       ^\n\u001b[0m"
     ]
    }
   ],
   "source": [
    ".engine.Purge[e[;1];enlist();0;\"Invanlid\"]"
   ]
  }
 ],
 "metadata": {
  "kernelspec": {
   "display_name": "Q (kdb+)",
   "language": "q",
   "name": "qpk"
  },
  "language_info": {
   "file_extension": ".q",
   "mimetype": "text/x-q",
   "name": "q",
   "version": "4.0"
  }
 },
 "nbformat": 4,
 "nbformat_minor": 4
}
