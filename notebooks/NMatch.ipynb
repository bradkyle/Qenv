{
 "cells": [
  {
   "cell_type": "code",
   "execution_count": 4,
   "metadata": {},
   "outputs": [],
   "source": [
    "\\cd ../qenv"
   ]
  },
  {
   "cell_type": "code",
   "execution_count": 5,
   "metadata": {},
   "outputs": [
    {
     "name": "stdout",
     "output_type": "stream",
     "text": [
      "oId price offset lqty dqty state\n",
      "--------------------------------\n",
      "1         0                1    \n",
      "2         208              0    \n",
      "oId price offset lqty dqty state\n",
      "--------------------------------\n",
      "1         0                1    \n",
      "2         208              0    \n",
      "\"###################################################################################################\"\n",
      "\"                                             TEST\"\n",
      "\"###################################################################################################\"\n",
      "\"===================================================================================================\"\n",
      "\"31) .engine.logic.order.New (UNIT) :READY\"\n",
      "`Global function for processing new orders, amending orders and cancelling orders (amending to 0)\n",
      "\"---------------------------------------------------------------------------------------------------\"\n",
      "caseId state dscr                                                                                                    \n",
      "---------------------------------------------------------------------------------------------------------------------\n",
      "212    ERROR Place new buy post only limit order at best price, no previous depth or agent orders should update depth\n",
      "213    ERROR Place new buy post only limit order, previous depth, no agent orders should update depth                \n",
      "\"===================================================================================================\"\n",
      "\"34) .engine.logic.order.CancelAll (UNIT) :READY\"\n",
      "`Global function for processing new orders, amending orders and cancelling orders (amending to 0)\n",
      "\"---------------------------------------------------------------------------------------------------\"\n",
      "caseId state dscr                                                                                        \n",
      "---------------------------------------------------------------------------------------------------------\n",
      "216    ERROR Amend limit order (first in queue), smaller than previous, should update offsets, depth etc.\n",
      "\"===================================================================================================\"\n",
      "\"35) .engine.logic.orderbook.Level (UNIT) :READY\"\n",
      "`Given a depth update which consists of a table of time,side,pricesize update the orderbook and the individual order offsets/icebergorders where necessary\n",
      "\"---------------------------------------------------------------------------------------------------\"\n",
      "caseId state dscr                                            \n",
      "-------------------------------------------------------------\n",
      "217    ERROR No change occurs and thus no update is triggered\n",
      "\"===================================================================================================\"\n",
      "\"36) .engine.logic.match.Match (UNIT) :READY\"\n",
      "`Global function for creating a new account\n",
      "\"---------------------------------------------------------------------------------------------------\"\n",
      "caseId state dscr                                                                                                                                                                          \n",
      "-------------------------------------------------------------------------------------------------------------------------------------------------------------------------------------------\n",
      "218    ERROR 1a) Prj;essTrade SELL: has agent hidden jxders, lvl1 size > qty, trade djpsn't fill agentjider, trade executijy <= agent jrder jwfset, fill is agent (partial hidden qty fill)\n",
      "219    ERROR 1a) Prj;essTrade SELL: has agent hidden jxders, lvl1 size > qty, trade djpsn't fill agentjider, trade executijy <= agent jrder jwfset, fill is agent (partial hidden qty fill)\n",
      "\"                                                                                                                                                                                                                                                                                                                                                                                                                \"\n",
      "\"###################################################################################################\"\n",
      "\"                                      TESTS COMPLETED\"\n",
      "\"###################################################################################################\"\n",
      "state| x  \n",
      "-----| ---\n",
      "ERROR| 6  \n",
      "SKIP | 367\n",
      "\"                                                                                                                                                                                                                                                                                                                                                                                                                \"\n"
     ]
    }
   ],
   "source": [
    "\\l test.q"
   ]
  },
  {
   "cell_type": "code",
   "execution_count": 6,
   "metadata": {},
   "outputs": [],
   "source": [
    "setup:((!) . flip(\n",
    "                (`instrument;(`iId`cntTyp`faceValue`mkprice`smul;enlist(0;0;1;1000;1))); \n",
    "                (`account;(`aId`avail`bal`lng`srt`ft`rt`wit`time`froz;enlist(0;0;0;(0 1);(0 -1);0;0;0;z;0))); \n",
    "                (`inventory;(`aId`side`mm`upnl`ordQty`ordLoss`amt;flip(0 0;-1 1;0 0;0 0;0 0;0 0;10 10))); \n",
    "                (`feetier;(`ftId`vol`bal`ref;flip(0 1;0 0;0 0;0 0))); // Update Account\n",
    "                (`orderbook;(\n",
    "                        `iId`price`side`qty`hqty`iqty`vqty`time;\n",
    "                        flip(0 0;1000 1001;2#1;2#1000;2#0;2#0;2#200;2#z)));\n",
    "                (`order;(\n",
    "                        `oId`aId`iId`ivId`side`lqty`oqty`price`reduce`dqty`okind`state`offset;\n",
    "                        flip(1 2;0 0;0 0;((0 1);(0 1));1 1;200 200;200 200;1000 1000;11b;1 1;1 1;0 0;0 210))\n",
    "                );\n",
    "                (`risktier;(`rtId`amt`lev;flip(0 1;50000 250000;125 100))) // Update Account\n",
    "            ));"
   ]
  },
  {
   "cell_type": "code",
   "execution_count": 7,
   "metadata": {},
   "outputs": [],
   "source": [
    ".engine.testutils.SwitchSetupModels[setup];"
   ]
  },
  {
   "cell_type": "code",
   "execution_count": 8,
   "metadata": {},
   "outputs": [],
   "source": [
    "x:.model.Order . (`oId`aId`iId`ivId`side`oqty`lqty`price`reduce`dqty;flip(4 5;0 0;0 0;((0 1);(0 1));1 1;300 100;300 100;1000 1000;11b;300 100));"
   ]
  },
  {
   "cell_type": "code",
   "execution_count": 9,
   "metadata": {},
   "outputs": [],
   "source": [
    "l:0!?[`.engine.model.orderbook.Orderbook;(\n",
    "        (in;`side;x`side);\n",
    "        (>;(+;`qty;(+;`hqty;(+;`iqty;`vqty)));0);\n",
    "        (|;(<;(+\\;`qty);sum[x`oqty]);\n",
    "        (=;`i;(*:;`i))));0b;()];"
   ]
  },
  {
   "cell_type": "code",
   "execution_count": 10,
   "metadata": {},
   "outputs": [],
   "source": [
    "aqty:sum[l[`qty`iqty`hqty`vqty]];\n",
    "thresh:sums[aqty];\n",
    "rp:min[(sum x`oqty;first[aqty])]^((thresh-prev[thresh])-(thresh-sum x`oqty));"
   ]
  },
  {
   "cell_type": "code",
   "execution_count": 11,
   "metadata": {},
   "outputs": [],
   "source": [
    "o:?[`.engine.model.order.Order;(\n",
    "            (=;`okind;1);\n",
    "            (in;`price;l[`price] where (rp>0));\n",
    "            (in;`state;(0 1));(>;`oqty;0));0b;()];"
   ]
  },
  {
   "cell_type": "code",
   "execution_count": 12,
   "metadata": {},
   "outputs": [
    {
     "data": {
      "text/plain": [
       "oId| aId iId ivId price slprice side sprice trig tif okind oskind reduce state oqty dqty lqty slqty offset einst time\n",
       "---| ----------------------------------------------------------------------------------------------------------------\n",
       "1  | 0   0   1    1000          1                    1            1      0     200  1    200        0                \n",
       "2  | 0   0   1    1000          1                    1            1      0     200  1    200        210              \n"
      ]
     },
     "execution_count": 12,
     "metadata": {},
     "output_type": "execute_result"
    }
   ],
   "source": []
  },
  {
   "cell_type": "code",
   "execution_count": 13,
   "metadata": {},
   "outputs": [],
   "source": [
    "s:0!((`price`side`iId xkey l) lj (`price`side`iId xgroup o));\n",
    "msk:raze[.util.PadM[{x#1}'[count'[s`oId]]]];\n",
    "\n",
    "s[`aqty]:aqty;\n",
    "s[`thresh]:thresh;\n",
    "s[`rp]:rp;\n",
    "// Pad s into a matrix\n",
    "// for faster operations\n",
    "//pdcl:`oId`side`price`offset`oqty`lqty`reduce`aId`state;\n",
    "//(s pdcl):.util.PadM'[s pdcl];\n",
    "\n",
    "// Useful counts \n",
    "s[`maxN]:max count'[s`offset];\n",
    "s[`tmaxN]:til'[s`maxN];\n",
    "s[`numLvls]:count[s`offset];"
   ]
  },
  {
   "cell_type": "code",
   "execution_count": null,
   "metadata": {},
   "outputs": [],
   "source": []
  },
  {
   "cell_type": "code",
   "execution_count": 14,
   "metadata": {},
   "outputs": [
    {
     "data": {
      "text/plain": [
       "price  | 1000   \n",
       "side   | 1      \n",
       "iId    | 0      \n",
       "qty    | 1000   \n",
       "hqty   | 0      \n",
       "iqty   | 0      \n",
       "vqty   | 200    \n",
       "time   |        \n",
       "oId    | 1 2    \n",
       "aId    | 0 0    \n",
       "ivId   | 1 1    \n",
       "slprice|        \n",
       "sprice |        \n",
       "trig   |        \n",
       "tif    |        \n",
       "okind  | 1 1    \n",
       "oskind |        \n",
       "reduce | 11b    \n",
       "state  | 0 0    \n",
       "oqty   | 200 200\n",
       "dqty   | 1 1    \n",
       "lqty   | 200 200\n",
       "slqty  |        \n",
       "offset | 0 210  \n",
       "einst  |        \n",
       "aqty   | 1200   \n",
       "thresh | 1200   \n",
       "rp     | 400    \n",
       "maxN   | 2      \n",
       "tmaxN  | 0 1    \n",
       "numLvls| 1      \n"
      ]
     },
     "execution_count": 14,
     "metadata": {},
     "output_type": "execute_result"
    }
   ],
   "source": [
    "flip s"
   ]
  },
  {
   "cell_type": "code",
   "execution_count": null,
   "metadata": {},
   "outputs": [],
   "source": []
  },
  {
   "cell_type": "code",
   "execution_count": 151,
   "metadata": {},
   "outputs": [],
   "source": []
  },
  {
   "cell_type": "code",
   "execution_count": null,
   "metadata": {},
   "outputs": [],
   "source": []
  },
  {
   "cell_type": "code",
   "execution_count": 51,
   "metadata": {},
   "outputs": [],
   "source": [
    "/ hqty:.util.Clip[(-/)(hqty,rp)]\n",
    "/ nlqty:.util.Clip[{?[x>z;(y+z)-x;y]}'[rp;lqty;offset]]"
   ]
  },
  {
   "cell_type": "code",
   "execution_count": 15,
   "metadata": {},
   "outputs": [],
   "source": [
    "so:ungroup s"
   ]
  },
  {
   "cell_type": "code",
   "execution_count": null,
   "metadata": {},
   "outputs": [],
   "source": []
  },
  {
   "cell_type": "code",
   "execution_count": null,
   "metadata": {},
   "outputs": [],
   "source": []
  },
  {
   "cell_type": "code",
   "execution_count": null,
   "metadata": {},
   "outputs": [],
   "source": [
    "//agent fills is set to orders?\n",
    ".engine.model.order.Order:([oId:`long$()] \n",
    "        aId:`.engine.model.account.Account$();iId:`.engine.model.instrument.Instrument$();\n",
    "        ivId:`.engine.model.inventory.Inventory$();price:`long$();slprice:`long$();side:`long$();\n",
    "        sprice:`long$();trig:`long$();tif:`long$();okind:`long$();oskind:`long$();reduce:`boolean$();\n",
    "        state:`long$();oqty:`long$();dqty:`long$();lqty:`long$();slqty:`long$();offset:`long$();\n",
    "        einst:`long$();time:`datetime$());"
   ]
  },
  {
   "cell_type": "code",
   "execution_count": 16,
   "metadata": {},
   "outputs": [],
   "source": [
    ".event.Order:{x:.event.prep[x];([]kind:`order;time:x`time;datum:flip x`oId`time`aId`side`okind`price`slqty`lprice`slprice`state`reduce`trig`einst;aId:7h$x`aId)}"
   ]
  },
  {
   "cell_type": "code",
   "execution_count": 2,
   "metadata": {},
   "outputs": [],
   "source": [
    "\\c 600 600"
   ]
  },
  {
   "cell_type": "code",
   "execution_count": 3,
   "metadata": {},
   "outputs": [
    {
     "data": {
      "text/plain": [
       "!\n",
       "`so\n",
       "()\n",
       "0b\n",
       "`iId`oId`time`aId`side`okind`price`lqty`dqty`offset`shft`nh`reduce`slprice`slqty`state`reduce1`trig`einst!(`iId;`oId;`time;`aId;`side;`okind;`price;(max;(enlist;(?;(>;`rp;`lqty);(-;(+;`lqty;`offset);`rp);`lqty);0));(max;(?;(&;(<;`dqty;`lqty);(>;`lqty;0));`dqty;`lqty));(max;(enlist;(-;`offset;`rp);0));(+;`lqty;`offset);((&;((';~:;>);`offset;`rp);((';~:;>);(+;`lqty;`offset);`rp));(:;`state;(?;(&;((';~:;>);`offset;`rp);((';~:;>);(+;`lqty;`offset);`rp));1;(?;((';~:;>);(+\\;`offset);`rp);2;`state))));`reduce;`slprice;`slqty;`state;`reduce;`trig;`einst)\n"
      ]
     },
     "execution_count": 3,
     "metadata": {},
     "output_type": "execute_result"
    }
   ],
   "source": [
    "parse\"update \n",
    "    iId:iId,\n",
    "    oId:oId,\n",
    "    time:time,\n",
    "    aId:aId,\n",
    "    side:side,\n",
    "    okind:okind,\n",
    "    price:price,\n",
    "    lqty:max[(?[rp>lqty;(lqty+offset)-rp;lqty];0)],\n",
    "    dqty:max[(?[((dqty<lqty) and (lqty>0));dqty;lqty])], // todo dependent\n",
    "    offset:max[(offset-rp;0)],  // todo dependent\n",
    "    shft:lqty+offset,  // todo dependent\n",
    "    nh:((offset<=rp)and((lqty+offset)<=rp))\n",
    "    state:?[((offset<=rp)and((lqty+offset)<=rp));1;?[(sums[offset]<=rp);2;state]],  // todo dependent\n",
    "    reduce:reduce,\n",
    "    slprice:slprice,\n",
    "    slqty:slqty,\n",
    "    state:state,\n",
    "    reduce:reduce,\n",
    "    trig:trig,\n",
    "    einst:einst\n",
    "    from so\""
   ]
  },
  {
   "cell_type": "code",
   "execution_count": 17,
   "metadata": {},
   "outputs": [],
   "source": [
    "no:flip update \n",
    "    iId:iId,\n",
    "    oId:oId,\n",
    "    time:time,\n",
    "    aId:aId,\n",
    "    side:side,\n",
    "    okind:okind,\n",
    "    price:price,\n",
    "    lqty:max[(?[rp>lqty;(lqty+offset)-rp;lqty];0)],\n",
    "    dqty:max[(?[((dqty<lqty) and (lqty>0));dqty;lqty])], // todo dependent\n",
    "    offset:max[(offset-rp;0)],  // todo dependent\n",
    "    shft:lqty+offset,  // todo dependent\n",
    "    nh:((offset<=rp)and((lqty+offset)<=rp))\n",
    "    state:?[((offset<=rp)and((lqty+offset)<=rp));1;?[(sums[offset]<=rp);2;state]],  // todo dependent\n",
    "    reduce:reduce,\n",
    "    slprice:slprice,\n",
    "    slqty:slqty,\n",
    "    state:state,\n",
    "    reduce:reduce,\n",
    "    trig:trig,\n",
    "    einst:einst\n",
    "    from so"
   ]
  },
  {
   "cell_type": "code",
   "execution_count": 18,
   "metadata": {},
   "outputs": [
    {
     "data": {
      "text/plain": [
       "price  | 1000 1000\n",
       "side   | 1    1   \n",
       "iId    | 0    0   \n",
       "qty    | 1000 1000\n",
       "hqty   | 0    0   \n",
       "iqty   | 0    0   \n",
       "vqty   | 200  200 \n",
       "time   |          \n",
       "oId    | 1    2   \n",
       "aId    | 0    0   \n",
       "ivId   | 1    1   \n",
       "slprice|          \n",
       "sprice |          \n",
       "trig   |          \n",
       "tif    |          \n",
       "okind  | 1    1   \n",
       "oskind |          \n",
       "reduce | 1    1   \n",
       "state  | 0    0   \n",
       "oqty   | 200  200 \n",
       "dqty   | 1    1   \n",
       "lqty   | 0    10  \n",
       "slqty  |          \n",
       "offset | 0    0   \n",
       "einst  |          \n",
       "aqty   | 1200 1200\n",
       "thresh | 1200 1200\n",
       "rp     | 400  400 \n",
       "maxN   | 2    2   \n",
       "tmaxN  | 0    1   \n",
       "numLvls| 1    1   \n",
       "shft   | 200  410 \n",
       "nh     | 0    0   \n",
       "reduce1| 1    1   \n"
      ]
     },
     "execution_count": 18,
     "metadata": {},
     "output_type": "execute_result"
    }
   ],
   "source": [
    "no"
   ]
  },
  {
   "cell_type": "code",
   "execution_count": null,
   "metadata": {},
   "outputs": [],
   "source": []
  },
  {
   "cell_type": "code",
   "execution_count": 20,
   "metadata": {},
   "outputs": [],
   "source": [
    "nl:flip select\n",
    "   hqty:max[(hqty-rp;0)],\n",
    "   iqty:lqty-dqty,\n",
    "   vqty:0,\n",
    "   qty:0,\n",
    "   iId:iId,\n",
    "   time:time,\n",
    "   price:price\n",
    "   from s"
   ]
  },
  {
   "cell_type": "code",
   "execution_count": 21,
   "metadata": {},
   "outputs": [
    {
     "data": {
      "text/plain": [
       "hqty | 0      \n",
       "iqty | 199 199\n",
       "vqty | 0      \n",
       "qty  | 0      \n",
       "iId  | 0      \n",
       "time |        \n",
       "price| 1000   \n"
      ]
     },
     "execution_count": 21,
     "metadata": {},
     "output_type": "execute_result"
    }
   ],
   "source": [
    "nl"
   ]
  },
  {
   "cell_type": "code",
   "execution_count": null,
   "metadata": {},
   "outputs": [],
   "source": [
    "f:?[`]"
   ]
  },
  {
   "cell_type": "code",
   "execution_count": 22,
   "metadata": {},
   "outputs": [],
   "source": [
    "f:select //book fills\n",
    "    time:time,\n",
    "    price:price,\n",
    "    qty:lqty - lqty, // todo dependency\n",
    "    reduce:reduce,\n",
    "    ismaker:okind=1,\n",
    "    side:side,\n",
    "    iId:iId,\n",
    "    oId:oId,\n",
    "    ivId:ivId,\n",
    "    aId:aId\n",
    "    from so"
   ]
  },
  {
   "cell_type": "code",
   "execution_count": 23,
   "metadata": {},
   "outputs": [
    {
     "data": {
      "text/plain": [
       "time price qty reduce ismaker side iId oId ivId aId\n",
       "---------------------------------------------------\n",
       "     1000  0   1      1       1    0   1   1    0  \n",
       "     1000  0   1      1       1    0   2   1    0  \n"
      ]
     },
     "execution_count": 23,
     "metadata": {},
     "output_type": "execute_result"
    }
   ],
   "source": [
    "f"
   ]
  },
  {
   "cell_type": "code",
   "execution_count": null,
   "metadata": {},
   "outputs": [],
   "source": []
  },
  {
   "cell_type": "code",
   "execution_count": 31,
   "metadata": {},
   "outputs": [],
   "source": [
    "t:select from (ungroup select \n",
    "    price:price,\n",
    "    side:side,\n",
    "    bqty:qty,\n",
    "    qty:flip(offset[;0]-hqty;oqty[;0];(0^(offset[;1]));oqty[;1];qty) // todo fix\n",
    "    from s) where qty>0"
   ]
  },
  {
   "cell_type": "code",
   "execution_count": 34,
   "metadata": {},
   "outputs": [
    {
     "data": {
      "text/plain": [
       "price side bqty qty \n",
       "--------------------\n",
       "1000  1    1000 200 \n",
       "1000  1    1000 210 \n",
       "1000  1    1000 200 \n",
       "1000  1    1000 1000\n"
      ]
     },
     "execution_count": 34,
     "metadata": {},
     "output_type": "execute_result"
    }
   ],
   "source": [
    "t"
   ]
  },
  {
   "cell_type": "code",
   "execution_count": null,
   "metadata": {},
   "outputs": [],
   "source": [
    "nhqty:          .util.Clip[(-/)s`hqty`rp]; // Derive the new hidden qty\n",
    "nlqty:          .util.Clip[{?[x>z;(y+z)-x;y]}'[s`rp;s`lqty;s`offset]]; // TODO faster/fix\n",
    "ndqty:          .util.Clip[{?[((x<y) and (y>0));x;y]}'[s[`dqty];nlqty]]; // TODO faster/fix\n",
    "niqty:          sum'[nlqty-ndqty]; // The new order invisible qty = lqty - display qty\n",
    "displaydlt:     (ndqty-s[`dqty]); // Derive the change in the order display qty\n",
    "lqtydlt:        (nlqty-s[`lqty]); // Derive the change in the order lqty\n",
    "hqtydlt:        (nhqty-s[`hqty]); // Derive the change in hidden order qty\n",
    "noffset:        .util.Clip[((-/)s`offset`rp)]; // Subtract the replaced amount and clip<0 (offset includes hqty)\n",
    "nqty:           .util.Clip[((-/)s`qty`rp)-(sum'[lqtydlt]+hqtydlt)]; // qty -rp - qty attributed to other qtys\n",
    "nvqty:          nqty+sum'[ndqty]; // Derive the new visible qty as order display qty + the new qty from above\n",
    "nshft:          nlqty+noffset; // \n",
    "nmxshft:        {$[x>1;max[y];x=1;y;0]}'[maxN;nshft]; // the max shft for each price TODO make faster\n",
    "nfilled:        s[`oqty] - nlqty; // New amount that is filled (in total)\n",
    "accdlts:        s[`lqty] - nlqty; // The new amounts that will attribute to fills.\n",
    "nobupd:         count[nhqty];"
   ]
  },
  {
   "cell_type": "code",
   "execution_count": null,
   "metadata": {},
   "outputs": [],
   "source": []
  },
  {
   "cell_type": "code",
   "execution_count": null,
   "metadata": {},
   "outputs": [],
   "source": []
  },
  {
   "cell_type": "code",
   "execution_count": null,
   "metadata": {},
   "outputs": [],
   "source": []
  },
  {
   "cell_type": "code",
   "execution_count": null,
   "metadata": {},
   "outputs": [],
   "source": []
  }
 ],
 "metadata": {
  "kernelspec": {
   "display_name": "Q (kdb+)",
   "language": "q",
   "name": "qpk"
  },
  "language_info": {
   "file_extension": ".q",
   "mimetype": "text/x-q",
   "name": "q",
   "version": "4.0"
  }
 },
 "nbformat": 4,
 "nbformat_minor": 4
}
