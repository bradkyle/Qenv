{
 "cells": [
  {
   "cell_type": "code",
   "execution_count": 1,
   "metadata": {},
   "outputs": [],
   "source": [
    "\\cd ../qenv"
   ]
  },
  {
   "cell_type": "code",
   "execution_count": 2,
   "metadata": {},
   "outputs": [
    {
     "name": "stdout",
     "output_type": "stream",
     "text": [
      "oId price offset lqty dqty state\n",
      "--------------------------------\n",
      "1         0                1    \n",
      "2         208              0    \n",
      "oId price offset lqty dqty state\n",
      "--------------------------------\n",
      "1         0                1    \n",
      "2         208              0    \n",
      "\"###################################################################################################\"\n",
      "\"                                             TEST\"\n",
      "\"###################################################################################################\"\n",
      "\"===================================================================================================\"\n",
      "\"31) .engine.logic.order.New (UNIT) :READY\"\n",
      "`Global function for processing new orders, amending orders and cancelling orders (amending to 0)\n",
      "\"---------------------------------------------------------------------------------------------------\"\n",
      "caseId state dscr                                                                                                    \n",
      "---------------------------------------------------------------------------------------------------------------------\n",
      "212    ERROR Place new buy post only limit order at best price, no previous depth or agent orders should update depth\n",
      "213    ERROR Place new buy post only limit order, previous depth, no agent orders should update depth                \n",
      "\"===================================================================================================\"\n",
      "\"34) .engine.logic.order.CancelAll (UNIT) :READY\"\n",
      "`Global function for processing new orders, amending orders and cancelling orders (amending to 0)\n",
      "\"---------------------------------------------------------------------------------------------------\"\n",
      "caseId state dscr                                                                                        \n",
      "---------------------------------------------------------------------------------------------------------\n",
      "216    ERROR Amend limit order (first in queue), smaller than previous, should update offsets, depth etc.\n",
      "\"===================================================================================================\"\n",
      "\"35) .engine.logic.orderbook.Level (UNIT) :READY\"\n",
      "`Given a depth update which consists of a table of time,side,pricesize update the orderbook and the individual order offsets/icebergorders where necessary\n",
      "\"---------------------------------------------------------------------------------------------------\"\n",
      "caseId state dscr                                            \n",
      "-------------------------------------------------------------\n",
      "217    ERROR No change occurs and thus no update is triggered\n",
      "\"===================================================================================================\"\n",
      "\"36) .engine.logic.match.Match (UNIT) :READY\"\n",
      "`Global function for creating a new account\n",
      "\"---------------------------------------------------------------------------------------------------\"\n",
      "caseId state dscr                                                                                                                                                                          \n",
      "-------------------------------------------------------------------------------------------------------------------------------------------------------------------------------------------\n",
      "218    ERROR 1a) Prj;essTrade SELL: has agent hidden jxders, lvl1 size > qty, trade djpsn't fill agentjider, trade executijy <= agent jrder jwfset, fill is agent (partial hidden qty fill)\n",
      "219    ERROR 1a) Prj;essTrade SELL: has agent hidden jxders, lvl1 size > qty, trade djpsn't fill agentjider, trade executijy <= agent jrder jwfset, fill is agent (partial hidden qty fill)\n",
      "\"                                                                                                                                                                                                                                                                                                                                                                                                                \"\n",
      "\"###################################################################################################\"\n",
      "\"                                      TESTS COMPLETED\"\n",
      "\"###################################################################################################\"\n",
      "state| x  \n",
      "-----| ---\n",
      "ERROR| 6  \n",
      "SKIP | 367\n",
      "\"                                                                                                                                                                                                                                                                                                                                                                                                                \"\n"
     ]
    }
   ],
   "source": [
    "\\l test.q"
   ]
  },
  {
   "cell_type": "code",
   "execution_count": null,
   "metadata": {},
   "outputs": [],
   "source": []
  },
  {
   "cell_type": "code",
   "execution_count": 3,
   "metadata": {},
   "outputs": [],
   "source": [
    "setup:((!) . flip(\n",
    "                (`instrument;(`iId`cntTyp`faceValue`mkprice`smul;enlist(0;0;1;1000;1))); \n",
    "                (`account;(`aId`avail`bal`lng`srt`ft`rt`wit`time`froz;enlist(0;0;0;(0 1);(0 -1);0;0;0;z;0))); \n",
    "                (`inventory;(`aId`side`mm`upnl`ordQty`ordLoss`amt;flip(0 0;-1 1;0 0;0 0;0 0;0 0;10 10))); \n",
    "                (`feetier;(`ftId`vol`bal`ref;flip(0 1;0 0;0 0;0 0))); // Update Account\n",
    "                (`orderbook;(\n",
    "                        `iId`price`side`qty`hqty`iqty`vqty`time;\n",
    "                        flip(0 0;1000 1001;2#1;2#1000;2#0;2#0;2#400;2#z)));\n",
    "                (`order;(\n",
    "                        `oId`aId`iId`ivId`side`lqty`oqty`price`reduce`dqty`okind`state`offset;\n",
    "                        flip(til 4;4#0;4#0;4#enlist(0 1);4#1;4#100;4#100;4#1000;4#1b;4#1;4#1;4#0;0 110 220 330))\n",
    "                );\n",
    "                (`risktier;(`rtId`amt`lev;flip(0 1;50000 250000;125 100))) // Update Account\n",
    "            ));"
   ]
  },
  {
   "cell_type": "code",
   "execution_count": 4,
   "metadata": {},
   "outputs": [],
   "source": [
    ".engine.testutils.SwitchSetupModels[setup];"
   ]
  },
  {
   "cell_type": "code",
   "execution_count": 5,
   "metadata": {},
   "outputs": [],
   "source": [
    "x:.model.Order . (`oId`aId`iId`ivId`side`oqty`lqty`price`reduce`dqty;flip(4 5;0 0;0 0;((0 1);(0 1));1 1;300 100;300 100;1000 1000;11b;300 100));"
   ]
  },
  {
   "cell_type": "code",
   "execution_count": 6,
   "metadata": {},
   "outputs": [],
   "source": [
    "l:0!?[`.engine.model.orderbook.Orderbook;(\n",
    "        (in;`side;x`side);\n",
    "        (>;(+;`qty;(+;`hqty;(+;`iqty;`vqty)));0);\n",
    "        (|;(<;(+\\;`qty);sum[x`oqty]);\n",
    "        (=;`i;(*:;`i))));0b;()];"
   ]
  },
  {
   "cell_type": "code",
   "execution_count": 7,
   "metadata": {},
   "outputs": [],
   "source": [
    "aqty:sum[l[`qty`iqty`hqty`vqty]];\n",
    "thresh:sums[aqty];\n",
    "rp:min[(sum x`oqty;first[aqty])]^((thresh-prev[thresh])-(thresh-sum x`oqty));"
   ]
  },
  {
   "cell_type": "code",
   "execution_count": 8,
   "metadata": {},
   "outputs": [],
   "source": [
    "o:?[`.engine.model.order.Order;(\n",
    "            (=;`okind;1);\n",
    "            (in;`price;l[`price] where (rp>0));\n",
    "            (in;`state;(0 1));(>;`oqty;0));0b;()];"
   ]
  },
  {
   "cell_type": "code",
   "execution_count": 44,
   "metadata": {},
   "outputs": [
    {
     "data": {
      "text/plain": [
       "?\n",
       "(&;((';~:;>);`offset;`rp);((';~:;>);(+;`lqty;`offset);`rp))\n",
       "1\n",
       "(?;((';~:;>);(+\\;`offset);`rp);2;`state)\n"
      ]
     },
     "execution_count": 44,
     "metadata": {},
     "output_type": "execute_result"
    }
   ],
   "source": [
    "parse\"?[((offset<=rp)and((lqty+offset)<=rp));1;?[(sums[offset]<=rp);2;state]]\""
   ]
  },
  {
   "cell_type": "code",
   "execution_count": 9,
   "metadata": {},
   "outputs": [],
   "source": [
    "s:0!((`price`side xkey l) ij (`price`side xgroup o));\n",
    "s[`rp]:rp;\n",
    "msk:raze[.util.PadM[{x#1}'[count'[s`oId]]]];"
   ]
  },
  {
   "cell_type": "code",
   "execution_count": 10,
   "metadata": {},
   "outputs": [],
   "source": [
    "so:ungroup s"
   ]
  },
  {
   "cell_type": "code",
   "execution_count": 43,
   "metadata": {},
   "outputs": [
    {
     "data": {
      "text/plain": [
       "300 100\n"
      ]
     },
     "execution_count": 43,
     "metadata": {},
     "output_type": "execute_result"
    }
   ],
   "source": [
    "x`oqty"
   ]
  },
  {
   "cell_type": "code",
   "execution_count": 74,
   "metadata": {},
   "outputs": [
    {
     "ename": "\u001b[0;31mlength\u001b[0m",
     "evalue": "\u001b[0;31mlength\u001b[0m",
     "output_type": "error",
     "traceback": [
      "\u001b[0;31mevaluation error:\n\u001b[0m",
      "\u001b[0;31mlength\u001b[0m",
      "\u001b[0;31m\u001b[0m",
      "\u001b[0;31m  [0]  so[`rp]:raze'[s[`rp]]\n              ^\n\u001b[0m"
     ]
    }
   ],
   "source": [
    "so[`rp]:raze'[s[`rp]]"
   ]
  },
  {
   "cell_type": "code",
   "execution_count": 46,
   "metadata": {},
   "outputs": [
    {
     "data": {
      "text/plain": [
       "400 400 400 400\n"
      ]
     },
     "execution_count": 46,
     "metadata": {},
     "output_type": "execute_result"
    }
   ],
   "source": [
    "so`rp"
   ]
  },
  {
   "cell_type": "code",
   "execution_count": 56,
   "metadata": {},
   "outputs": [
    {
     "data": {
      "text/plain": [
       "13\n"
      ]
     },
     "execution_count": 56,
     "metadata": {},
     "output_type": "execute_result"
    }
   ],
   "source": [
    "count `iId`oId`time`aId`side`okind`price`dqty`shft`state`reduce`lqty`offset"
   ]
  },
  {
   "cell_type": "code",
   "execution_count": null,
   "metadata": {},
   "outputs": [],
   "source": []
  },
  {
   "cell_type": "code",
   "execution_count": 60,
   "metadata": {},
   "outputs": [
    {
     "data": {
      "text/plain": [
       "`.engine.model.instrument.Instrument$0 0 0 0\n",
       "1 2 0 3\n",
       "0N 0N 0N 0Nz\n",
       "`.engine.model.account.Account$0 0 0 0\n",
       "1 1 1 1\n",
       "1 1 1 1\n",
       "1000 1000 1000 1000\n",
       "1 1 1 1\n",
       "`long$()\n",
       "0 0 0 0\n",
       "1111b\n",
       "100 100 100 100\n",
       "110 220 0 330\n"
      ]
     },
     "execution_count": 60,
     "metadata": {},
     "output_type": "execute_result"
    }
   ],
   "source": [
    "so`iId`oId`time`aId`side`okind`price`dqty`shft`state`reduce`lqty`offset"
   ]
  },
  {
   "cell_type": "code",
   "execution_count": 71,
   "metadata": {},
   "outputs": [
    {
     "data": {
      "text/plain": [
       "400\n"
      ]
     },
     "execution_count": 71,
     "metadata": {},
     "output_type": "execute_result"
    }
   ],
   "source": [
    "raze '[rp]"
   ]
  },
  {
   "cell_type": "code",
   "execution_count": 14,
   "metadata": {},
   "outputs": [],
   "source": [
    "newstate:{[state;offset;rp;lqty]rp:first rp;?[((offset<=rp)and((lqty+offset)<=rp));1;?[(sums[offset]<=rp);2;state]]};"
   ]
  },
  {
   "cell_type": "code",
   "execution_count": 32,
   "metadata": {},
   "outputs": [],
   "source": [
    "//(?;(&;((';~:;>);`offset;`rp);((';~:;>);(+;`lqty;`offset);`rp));1;(?;((';~:;>);(+\\;`offset);`rp);2;`state))\n",
    "\n",
    "// Update Orders\n",
    "// Derive the new orders from the ungrouped \n",
    "// state. //TODO check new state\n",
    "no:![?[so;();0b;`iId`oId`time`aId`ivId`side`okind`price`dqty`state`reduce`lqty`offset`shft!(\n",
    "        `iId;`oId;`time;`aId;`ivId;`side;`okind;`price;`dqty;`state;`reduce;\n",
    "        (max;(enlist;(?;(>;`rp;`lqty);(-;(+;`lqty;`offset);`rp);`lqty);0)); // lqty\n",
    "        (.util.Clip;(-;`offset;`rp)); // offset\n",
    "        (.util.Clip;(+;(-;`offset;`rp);`lqty)) // shft // todo test\n",
    "    )];();0b;`dqty`shft`state!(\n",
    "        (.util.Clip;(?;(&;(<;`dqty;`lqty);(>;`lqty;0));`dqty;`lqty));\n",
    "        (+;`lqty;`offset);\n",
    "        (newstate;`state;`offset;`rp;`lqty) // TODO update state\n",
    "    )]"
   ]
  },
  {
   "cell_type": "code",
   "execution_count": 33,
   "metadata": {},
   "outputs": [
    {
     "data": {
      "text/plain": [
       "iId oId time aId ivId side okind price dqty state reduce lqty offset shft\n",
       "-------------------------------------------------------------------------\n",
       "0   1        0   1    1    1     1000  0    1     1      0    0      0   \n",
       "0   2        0   1    1    1     1000  0    1     1      0    0      0   \n",
       "0   0        0   1    1    1     1000  0    1     1      0    0      0   \n",
       "0   3        0   1    1    1     1000  1    1     1      30   0      30  \n"
      ]
     },
     "execution_count": 33,
     "metadata": {},
     "output_type": "execute_result"
    }
   ],
   "source": [
    "no"
   ]
  },
  {
   "cell_type": "code",
   "execution_count": 38,
   "metadata": {},
   "outputs": [],
   "source": [
    "nl:flip select\n",
    "   hqty:max[(hqty-rp;0)],\n",
    "   iqty:lqty-dqty,\n",
    "   vqty:qty,\n",
    "   qty:min[((qty-rp)-(sum[so[`lqty] - no[`lqty]]);0)],\n",
    "   iId:iId,\n",
    "   time:time,\n",
    "   price:price\n",
    "   from s"
   ]
  },
  {
   "cell_type": "code",
   "execution_count": 40,
   "metadata": {},
   "outputs": [
    {
     "data": {
      "text/plain": [
       "qty \n",
       "----\n",
       "1000\n"
      ]
     },
     "execution_count": 40,
     "metadata": {},
     "output_type": "execute_result"
    }
   ],
   "source": [
    "select qty from s"
   ]
  },
  {
   "cell_type": "code",
   "execution_count": 98,
   "metadata": {},
   "outputs": [
    {
     "data": {
      "text/plain": [
       "price side iId     qty  hqty iqty vqty time oId     aId     ivId    slprice sprice trig tif okind   oskind reduce state   oqty            dqty    lqty     slqty offset  einst rp  shft    \n",
       "-------------------------------------------------------------------------------------------------------------------------------------------------------------------------------------------\n",
       "1000  1    0 0 0 0 1000 0    0    400       1 2 0 3 0 0 0 0 1 1 1 1                         1 1 1 1        1111b  0 0 0 0 100 100 100 100 0 0 0 1 0 0 0 30       0 0 0 0       400 0 0 0 30\n"
      ]
     },
     "execution_count": 98,
     "metadata": {},
     "output_type": "execute_result"
    }
   ],
   "source": [
    "s ij (`price`side xgroup no)"
   ]
  },
  {
   "cell_type": "code",
   "execution_count": 48,
   "metadata": {},
   "outputs": [
    {
     "data": {
      "text/plain": [
       "price side hqty iqty vqty qty time\n",
       "----------------------------------\n",
       "1000  1    0    29   30   230 -0w \n"
      ]
     },
     "execution_count": 48,
     "metadata": {},
     "output_type": "execute_result"
    }
   ],
   "source": [
    "?[s ij (`price`side xgroup no);();0b;`price`side`hqty`iqty`vqty`qty`time!(\n",
    "    `price;`side;\n",
    "    (.util.Clip;(-;`hqty;`rp));\n",
    "    ((';sum);(-;`lqty;`dqty));\n",
    "    ((';sum);`lqty);\n",
    "    (.util.Clip;(-;(-;`qty;`rp);(sum;(-;so[`lqty];no[`lqty])))); // TODO\n",
    "    (max;x`time)\n",
    "    )]"
   ]
  },
  {
   "cell_type": "code",
   "execution_count": 24,
   "metadata": {},
   "outputs": [
    {
     "data": {
      "text/plain": [
       "100 100 100 100\n"
      ]
     },
     "execution_count": 24,
     "metadata": {},
     "output_type": "execute_result"
    }
   ],
   "source": [
    "so`lqty"
   ]
  },
  {
   "cell_type": "code",
   "execution_count": 37,
   "metadata": {},
   "outputs": [
    {
     "data": {
      "text/plain": [
       "time price qty reduce ismaker side iId oId ivId aId\n",
       "---------------------------------------------------\n",
       "     1000  100 1      1       1    0   1   1    0  \n",
       "     1000  100 1      1       1    0   2   1    0  \n",
       "     1000  100 1      1       1    0   0   1    0  \n",
       "     1000  70  1      1       1    0   3   1    0  \n"
      ]
     },
     "execution_count": 37,
     "metadata": {},
     "output_type": "execute_result"
    }
   ],
   "source": [
    "?[no;();0b;`time`price`qty`reduce`ismaker`side`iId`oId`ivId`aId!(\n",
    "    `time;`price;so[`lqty] - no[`lqty];\n",
    "    `reduce;(=;`okind;1);`side;`iId;`oId;`ivId;`aId)]"
   ]
  },
  {
   "cell_type": "code",
   "execution_count": 35,
   "metadata": {},
   "outputs": [
    {
     "data": {
      "text/plain": [
       "time price qty reduce ismaker side iId oId ivId aId\n",
       "---------------------------------------------------\n",
       "     1000  100 1      1       1    0   1   1    0  \n",
       "     1000  100 1      1       1    0   2   1    0  \n",
       "     1000  100 1      1       1    0   0   1    0  \n",
       "     1000  70  1      1       1    0   3   1    0  \n"
      ]
     },
     "execution_count": 35,
     "metadata": {},
     "output_type": "execute_result"
    }
   ],
   "source": [
    "ft"
   ]
  },
  {
   "cell_type": "code",
   "execution_count": 37,
   "metadata": {},
   "outputs": [],
   "source": [
    "s:0!((`price`side xkey l) ij (`price`side xgroup o));\n",
    "s[`rp]:rp;\n",
    "msk:raze[.util.PadM[{x#1}'[count'[s`oId]]]];\n",
    "\n",
    "// Pad s into a matrix\n",
    "// for faster operations\n",
    "pdcl:`oId`side`price`offset`oqty`lqty`reduce`aId`state;\n",
    "(s pdcl):.util.PadM'[s pdcl];\n",
    "\n",
    "// Useful counts \n",
    "maxN:max count'[s`offset];\n",
    "tmaxN:til maxN;\n",
    "numLvls:count[s`offset];\n",
    "\n",
    "// TODO new display qty\n",
    "// Calculate new shifts and max shifts\n",
    "shft:sum[s`offset`lqty]; // the sum of the order offsets and lqty\n",
    "mxshft:{$[x>1;max[y];x=1;y;0]}'[maxN;shft]; // the max shft for each price\n",
    "\n",
    "// TOOD update comments\n",
    "// The delta in the visual qty is equal to sum of the change in the open display qty\n",
    "// and the total fill qty that isnt used to fill the hqty or iqty of the previous\n",
    "// queue instantiation.\n",
    "// The qty on the other hand is equal to the sum of the amount of the visual qty\n",
    "// that isn't made up of the new dqty. \n",
    "// Derive the new quantitites that are representative of the change in the s\n",
    "// of the orders and orderbook when the given trade occurs.\n",
    "nhqty:          .util.Clip[(-/)s`hqty`rp]; // Derive the new hidden qty\n",
    "nlqty:          .util.Clip[{?[x>z;(y+z)-x;y]}'[s`rp;s`lqty;s`offset]]; // TODO faster/fix\n",
    "ndqty:          .util.Clip[{?[((x<y) and (y>0));x;y]}'[s[`dqty];nlqty]]; // TODO faster/fix\n",
    "niqty:          sum'[nlqty-ndqty]; // The new order invisible qty = lqty - display qty\n",
    "displaydlt:     (ndqty-s[`dqty]); // Derive the change in the order display qty\n",
    "lqtydlt:        (nlqty-s[`lqty]); // Derive the change in the order lqty\n",
    "hqtydlt:        (nhqty-s[`hqty]); // Derive the change in hidden order qty\n",
    "noffset:        .util.Clip[((-/)s`offset`rp)]; // Subtract the replaced amount and clip<0 (offset includes hqty)\n",
    "nqty:           .util.Clip[((-/)s`qty`rp)-(sum'[lqtydlt]+hqtydlt)]; // qty -rp - qty attributed to other qtys\n",
    "nvqty:          nqty+sum'[ndqty]; // Derive the new visible qty as order display qty + the new qty from above\n",
    "nshft:          nlqty+noffset; // \n",
    "nmxshft:        {$[x>1;max[y];x=1;y;0]}'[maxN;nshft]; // the max shft for each price TODO make faster\n",
    "nfilled:        s[`oqty] - nlqty; // New amount that is filled (in total)\n",
    "accdlts:        s[`lqty] - nlqty; // The new amounts that will attribute to fills.\n",
    "nobupd:         count[nhqty];\n",
    "\n",
    "// Derive the non agent qty's from the s such that quantities\n",
    "// such as the visible resultant trades can be derived etc.\n",
    "notAgentQty: .util.PadM[raze'[flip(\n",
    "        0^s[`hqty]; // hidden qty\n",
    "        0^(asc'[s[`offset]][;0] - 0^s[`hqty]); // first offset\n",
    "        .util.Clip[0^s[`offset][;1_(tmaxN)] - 0^shft[;-1_(tmaxN)]]; // middle offset + shft\n",
    "        .util.Clip[s[`vqty]-mxshft] // last qty - maximum shift\n",
    "    )]];\n",
    "\n",
    "// Derive the splt which is the combination of the lqty of all orders at \n",
    "// a level with the interspaced display qty etc. which is used to derive the\n",
    "// disparate quantities of trades that occur at a given price level.\n",
    "splt:{$[count[x];1_(raze raze'[(2#0),(0^x);y]);y]}'[s`lqty;notAgentQty];\n",
    "\n",
    "// Derives the non-zero trade qtys that occur as a result of the replaced amount \n",
    "// returns the quantities by price level.\n",
    "tqty:{s:sums[y];q:.util.Clip[?[(x-s)>=0;y;x-(s-y)]];q where[q>0]}'[s`rp;splt]; "
   ]
  },
  {
   "cell_type": "code",
   "execution_count": 36,
   "metadata": {},
   "outputs": [
    {
     "data": {
      "text/plain": [
       "100 10 100 100 90\n"
      ]
     },
     "execution_count": 36,
     "metadata": {},
     "output_type": "execute_result"
    }
   ],
   "source": [
    "tqty"
   ]
  },
  {
   "cell_type": "code",
   "execution_count": 38,
   "metadata": {},
   "outputs": [
    {
     "data": {
      "text/plain": [
       "0 0 0 0 230 0\n"
      ]
     },
     "execution_count": 38,
     "metadata": {},
     "output_type": "execute_result"
    }
   ],
   "source": [
    "notAgentQty"
   ]
  },
  {
   "cell_type": "code",
   "execution_count": 35,
   "metadata": {},
   "outputs": [
    {
     "data": {
      "text/plain": [
       "0 0 10 0 230 0\n"
      ]
     },
     "execution_count": 35,
     "metadata": {},
     "output_type": "execute_result"
    }
   ],
   "source": [
    "notAgentQty"
   ]
  },
  {
   "cell_type": "code",
   "execution_count": 13,
   "metadata": {},
   "outputs": [],
   "source": [
    "s:0!((`price`side`iId xkey l) lj (`price`side`iId xgroup o));\n",
    "msk:raze[.util.PadM[{x#1}'[count'[s`oId]]]];\n",
    "\n",
    "s[`aqty]:aqty;\n",
    "s[`thresh]:thresh;\n",
    "s[`rp]:rp;\n",
    "// Pad s into a matrix\n",
    "// for faster operations\n",
    "//pdcl:`oId`side`price`offset`oqty`lqty`reduce`aId`state;\n",
    "//(s pdcl):.util.PadM'[s pdcl];\n",
    "\n",
    "// Useful counts \n",
    "s[`maxN]:max count'[s`offset];\n",
    "s[`tmaxN]:til'[s`maxN];\n",
    "s[`numLvls]:count[s`offset];"
   ]
  },
  {
   "cell_type": "code",
   "execution_count": null,
   "metadata": {},
   "outputs": [],
   "source": []
  },
  {
   "cell_type": "code",
   "execution_count": 14,
   "metadata": {},
   "outputs": [
    {
     "data": {
      "text/plain": [
       "price  | 1000   \n",
       "side   | 1      \n",
       "iId    | 0      \n",
       "qty    | 1000   \n",
       "hqty   | 0      \n",
       "iqty   | 0      \n",
       "vqty   | 200    \n",
       "time   |        \n",
       "oId    | 1 2    \n",
       "aId    | 0 0    \n",
       "ivId   | 1 1    \n",
       "slprice|        \n",
       "sprice |        \n",
       "trig   |        \n",
       "tif    |        \n",
       "okind  | 1 1    \n",
       "oskind |        \n",
       "reduce | 11b    \n",
       "state  | 0 0    \n",
       "oqty   | 200 200\n",
       "dqty   | 1 1    \n",
       "lqty   | 200 200\n",
       "slqty  |        \n",
       "offset | 0 210  \n",
       "einst  |        \n",
       "aqty   | 1200   \n",
       "thresh | 1200   \n",
       "rp     | 400    \n",
       "maxN   | 2      \n",
       "tmaxN  | 0 1    \n",
       "numLvls| 1      \n"
      ]
     },
     "execution_count": 14,
     "metadata": {},
     "output_type": "execute_result"
    }
   ],
   "source": [
    "flip s"
   ]
  },
  {
   "cell_type": "code",
   "execution_count": null,
   "metadata": {},
   "outputs": [],
   "source": []
  },
  {
   "cell_type": "code",
   "execution_count": 151,
   "metadata": {},
   "outputs": [],
   "source": []
  },
  {
   "cell_type": "code",
   "execution_count": null,
   "metadata": {},
   "outputs": [],
   "source": []
  },
  {
   "cell_type": "code",
   "execution_count": 51,
   "metadata": {},
   "outputs": [],
   "source": [
    "/ hqty:.util.Clip[(-/)(hqty,rp)]\n",
    "/ nlqty:.util.Clip[{?[x>z;(y+z)-x;y]}'[rp;lqty;offset]]"
   ]
  },
  {
   "cell_type": "code",
   "execution_count": 15,
   "metadata": {},
   "outputs": [],
   "source": [
    "so:ungroup s"
   ]
  },
  {
   "cell_type": "code",
   "execution_count": null,
   "metadata": {},
   "outputs": [],
   "source": []
  },
  {
   "cell_type": "code",
   "execution_count": null,
   "metadata": {},
   "outputs": [],
   "source": []
  },
  {
   "cell_type": "code",
   "execution_count": null,
   "metadata": {},
   "outputs": [],
   "source": [
    "//agent fills is set to orders?\n",
    ".engine.model.order.Order:([oId:`long$()] \n",
    "        aId:`.engine.model.account.Account$();iId:`.engine.model.instrument.Instrument$();\n",
    "        ivId:`.engine.model.inventory.Inventory$();price:`long$();slprice:`long$();side:`long$();\n",
    "        sprice:`long$();trig:`long$();tif:`long$();okind:`long$();oskind:`long$();reduce:`boolean$();\n",
    "        state:`long$();oqty:`long$();dqty:`long$();lqty:`long$();slqty:`long$();offset:`long$();\n",
    "        einst:`long$();time:`datetime$());"
   ]
  },
  {
   "cell_type": "code",
   "execution_count": 16,
   "metadata": {},
   "outputs": [],
   "source": [
    ".event.Order:{x:.event.prep[x];([]kind:`order;time:x`time;datum:flip x`oId`time`aId`side`okind`price`slqty`lprice`slprice`state`reduce`trig`einst;aId:7h$x`aId)}"
   ]
  },
  {
   "cell_type": "code",
   "execution_count": 2,
   "metadata": {},
   "outputs": [],
   "source": [
    "\\c 600 600"
   ]
  },
  {
   "cell_type": "code",
   "execution_count": null,
   "metadata": {},
   "outputs": [],
   "source": []
  },
  {
   "cell_type": "code",
   "execution_count": 24,
   "metadata": {},
   "outputs": [],
   "source": [
    "no:flip\n",
    "    update\n",
    "    dqty:max[(?[((dqty<lqty) and (lqty>0));dqty;lqty])],\n",
    "    shft:lqty+offset,\n",
    "    state:?[((offset<=rp)and((lqty+offset)<=rp));1;?[(sums[offset]<=rp);2;state]]\n",
    "    from update \n",
    "    iId:iId,\n",
    "    oId:oId,\n",
    "    time:time,\n",
    "    aId:aId,\n",
    "    side:side,\n",
    "    okind:okind,\n",
    "    price:price,\n",
    "    offset:max[(offset-rp;0)], // todo non functional\n",
    "    lqty:max[(?[rp>lqty;(lqty+offset)-rp;lqty];0)], \n",
    "    reduce:reduce,\n",
    "    slprice:slprice,\n",
    "    slqty:slqty,\n",
    "    state:state,\n",
    "    reduce:reduce,\n",
    "    trig:trig,\n",
    "    einst:einst\n",
    "    from so"
   ]
  },
  {
   "cell_type": "code",
   "execution_count": 22,
   "metadata": {},
   "outputs": [
    {
     "data": {
      "text/plain": [
       "iId oId time aId side okind price dqty state reduce lqty offset shft\n",
       "--------------------------------------------------------------------\n",
       "0   1        0   1    1     1000  0    1     1      0    0      0   \n",
       "0   2        0   1    1     1000  0    1     1      0    0      0   \n",
       "0   0        0   1    1     1000  0    1     1      0    0      0   \n",
       "0   3        0   1    1     1000  1    1     1      30   0      30  \n"
      ]
     },
     "execution_count": 22,
     "metadata": {},
     "output_type": "execute_result"
    }
   ],
   "source": []
  },
  {
   "cell_type": "code",
   "execution_count": null,
   "metadata": {},
   "outputs": [],
   "source": [
    "nqty:           .util.Clip[((-/)s`qty`rp)-(sum'[lqtydlt]+hqtydlt)]; // qty -rp - qty attributed to other qtys\n",
    "nvqty:          nqty+sum'[ndqty]; // Derive the new visible qty as order display qty + the new qty from above"
   ]
  },
  {
   "cell_type": "code",
   "execution_count": 20,
   "metadata": {},
   "outputs": [],
   "source": [
    "nl:flip select\n",
    "   hqty:max[(hqty-rp;0)],\n",
    "   iqty:lqty-dqty,\n",
    "   vqty:qty,\n",
    "   qty:min[((qty-rp)-(sum[lqtydlt]+hqtydlt);0)],\n",
    "   iId:iId,\n",
    "   time:time,\n",
    "   price:price\n",
    "   from s"
   ]
  },
  {
   "cell_type": "code",
   "execution_count": 21,
   "metadata": {},
   "outputs": [
    {
     "data": {
      "text/plain": [
       "hqty | 0      \n",
       "iqty | 199 199\n",
       "vqty | 0      \n",
       "qty  | 0      \n",
       "iId  | 0      \n",
       "time |        \n",
       "price| 1000   \n"
      ]
     },
     "execution_count": 21,
     "metadata": {},
     "output_type": "execute_result"
    }
   ],
   "source": [
    "nl"
   ]
  },
  {
   "cell_type": "code",
   "execution_count": null,
   "metadata": {},
   "outputs": [],
   "source": [
    "f:?[`]"
   ]
  },
  {
   "cell_type": "code",
   "execution_count": 22,
   "metadata": {},
   "outputs": [],
   "source": [
    "f:select //book fills\n",
    "    time:time,\n",
    "    price:price,\n",
    "    qty:lqty - lqty, // todo dependency\n",
    "    reduce:reduce,\n",
    "    ismaker:okind=1,\n",
    "    side:side,\n",
    "    iId:iId,\n",
    "    oId:oId,\n",
    "    ivId:ivId,\n",
    "    aId:aId\n",
    "    from so"
   ]
  },
  {
   "cell_type": "code",
   "execution_count": 29,
   "metadata": {},
   "outputs": [
    {
     "data": {
      "text/plain": [
       "time price qty reduce ismaker side iId oId ivId aId\n",
       "---------------------------------------------------\n",
       "     1000  0   1      1       1    0   1   1    0  \n",
       "     1000  0   1      1       1    0   2   1    0  \n"
      ]
     },
     "execution_count": 29,
     "metadata": {},
     "output_type": "execute_result"
    }
   ],
   "source": [
    "f"
   ]
  },
  {
   "cell_type": "code",
   "execution_count": 31,
   "metadata": {},
   "outputs": [],
   "source": [
    "// Derive the non agent qty's from the s such that quantities\n",
    "// such as the visible resultant trades can be derived etc.\n",
    "notAgentQty: .util.PadM[raze'[flip(\n",
    "        0^s[`hqty]; // hidden qty\n",
    "        0^(s[`offset][;0] - 0^s[`hqty]); // first offset\n",
    "        .util.Clip[0^s[`offset][;1_(tmaxN)] - 0^shft[;-1_(tmaxN)]]; // middle offset + shft\n",
    "        .util.Clip[s[`vqty]-mxshft] // last qty - maximum shift\n",
    "    )]];\n",
    "\n",
    "// Derive the splt which is the combination of the lqty of all orders at \n",
    "// a level with the interspaced display qty etc. which is used to derive the\n",
    "// disparate quantities of trades that occur at a given price level.\n",
    "splt:{$[count[x];1_(raze raze'[(2#0),(0^x);y]);y]}'[s`lqty;notAgentQty];\n",
    "\n",
    "// Derives the non-zero trade qtys that occur as a result of the replaced amount \n",
    "// returns the quantities by price level.\n",
    "tqty:{s:sums[y];q:.util.Clip[?[(x-s)>=0;y;x-(s-y)]];q where[q>0]}'[s`rp;splt]; "
   ]
  },
  {
   "cell_type": "code",
   "execution_count": 32,
   "metadata": {},
   "outputs": [
    {
     "data": {
      "text/plain": [
       "200 10 190\n"
      ]
     },
     "execution_count": 32,
     "metadata": {},
     "output_type": "execute_result"
    }
   ],
   "source": [
    "tqty"
   ]
  },
  {
   "cell_type": "code",
   "execution_count": null,
   "metadata": {},
   "outputs": [],
   "source": []
  },
  {
   "cell_type": "code",
   "execution_count": null,
   "metadata": {},
   "outputs": [],
   "source": []
  },
  {
   "cell_type": "code",
   "execution_count": 31,
   "metadata": {},
   "outputs": [],
   "source": [
    "t:select from (ungroup select \n",
    "    price:price,\n",
    "    side:side,\n",
    "    bqty:qty,\n",
    "    qty:flip(offset[;0]-hqty;oqty[;0];(0^(offset[;1]));oqty[;1];qty) // todo fix\n",
    "    from s) where qty>0"
   ]
  },
  {
   "cell_type": "code",
   "execution_count": 34,
   "metadata": {},
   "outputs": [
    {
     "data": {
      "text/plain": [
       "price side bqty qty \n",
       "--------------------\n",
       "1000  1    1000 200 \n",
       "1000  1    1000 210 \n",
       "1000  1    1000 200 \n",
       "1000  1    1000 1000\n"
      ]
     },
     "execution_count": 34,
     "metadata": {},
     "output_type": "execute_result"
    }
   ],
   "source": [
    "t"
   ]
  },
  {
   "cell_type": "code",
   "execution_count": null,
   "metadata": {},
   "outputs": [],
   "source": [
    "nhqty:          .util.Clip[(-/)s`hqty`rp]; // Derive the new hidden qty\n",
    "nlqty:          .util.Clip[{?[x>z;(y+z)-x;y]}'[s`rp;s`lqty;s`offset]]; // TODO faster/fix\n",
    "ndqty:          .util.Clip[{?[((x<y) and (y>0));x;y]}'[s[`dqty];nlqty]]; // TODO faster/fix\n",
    "niqty:          sum'[nlqty-ndqty]; // The new order invisible qty = lqty - display qty\n",
    "displaydlt:     (ndqty-s[`dqty]); // Derive the change in the order display qty\n",
    "lqtydlt:        (nlqty-s[`lqty]); // Derive the change in the order lqty\n",
    "hqtydlt:        (nhqty-s[`hqty]); // Derive the change in hidden order qty\n",
    "noffset:        .util.Clip[((-/)s`offset`rp)]; // Subtract the replaced amount and clip<0 (offset includes hqty)\n",
    "nqty:           .util.Clip[((-/)s`qty`rp)-(sum'[lqtydlt]+hqtydlt)]; // qty -rp - qty attributed to other qtys\n",
    "nvqty:          nqty+sum'[ndqty]; // Derive the new visible qty as order display qty + the new qty from above\n",
    "nshft:          nlqty+noffset; // \n",
    "nmxshft:        {$[x>1;max[y];x=1;y;0]}'[maxN;nshft]; // the max shft for each price TODO make faster\n",
    "nfilled:        s[`oqty] - nlqty; // New amount that is filled (in total)\n",
    "accdlts:        s[`lqty] - nlqty; // The new amounts that will attribute to fills.\n",
    "nobupd:         count[nhqty];"
   ]
  },
  {
   "cell_type": "code",
   "execution_count": null,
   "metadata": {},
   "outputs": [],
   "source": []
  },
  {
   "cell_type": "code",
   "execution_count": null,
   "metadata": {},
   "outputs": [],
   "source": []
  },
  {
   "cell_type": "code",
   "execution_count": null,
   "metadata": {},
   "outputs": [],
   "source": []
  },
  {
   "cell_type": "code",
   "execution_count": null,
   "metadata": {},
   "outputs": [],
   "source": []
  }
 ],
 "metadata": {
  "kernelspec": {
   "display_name": "Q (kdb+)",
   "language": "q",
   "name": "qpk"
  },
  "language_info": {
   "file_extension": ".q",
   "mimetype": "text/x-q",
   "name": "q",
   "version": "4.0"
  }
 },
 "nbformat": 4,
 "nbformat_minor": 4
}
