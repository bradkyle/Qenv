{
 "cells": [
  {
   "cell_type": "code",
   "execution_count": 1,
   "metadata": {},
   "outputs": [],
   "source": [
    "\\cd ../qenv"
   ]
  },
  {
   "cell_type": "code",
   "execution_count": null,
   "metadata": {},
   "outputs": [],
   "source": [
    "\\l test.q"
   ]
  },
  {
   "cell_type": "code",
   "execution_count": 224,
   "metadata": {},
   "outputs": [],
   "source": [
    "setup:((!) . flip(\n",
    "                (`instrument;(`iId`cntTyp`faceValue`mkprice`smul;enlist(0;0;1;1000;1))); \n",
    "                (`account;(`aId`avail`bal`lng`srt`ft`rt`wit`time`froz;enlist(0;0;0;(0 1);(0 -1);0;0;0;z;0))); \n",
    "                (`inventory;(`aId`side`mm`upnl`ordQty`ordLoss`amt;flip(0 0;-1 1;0 0;0 0;0 0;0 0;10 10))); \n",
    "                (`feetier;(`ftId`vol`bal`ref;flip(0 1;0 0;0 0;0 0))); // Update Account\n",
    "                (`orderbook;(\n",
    "                        `price`side`qty`hqty`iqty`vqty`time;\n",
    "                        flip(1000 1001;2#1;2#1000;2#0;2#0;2#200;2#z)));\n",
    "                (`order;(\n",
    "                        `oId`aId`iId`ivId`side`lqty`oqty`price`reduce`dqty`okind`state`offset;\n",
    "                        flip(1 2;0 0;0 0;((0 1);(0 1));1 1;200 200;200 200;1000 1000;11b;1 1;1 1;0 0;0 210))\n",
    "                );\n",
    "                (`risktier;(`rtId`amt`lev;flip(0 1;50000 250000;125 100))) // Update Account\n",
    "            ));"
   ]
  },
  {
   "cell_type": "code",
   "execution_count": 225,
   "metadata": {},
   "outputs": [],
   "source": [
    ".engine.testutils.SwitchSetupModels[setup];"
   ]
  },
  {
   "cell_type": "code",
   "execution_count": 179,
   "metadata": {},
   "outputs": [],
   "source": [
    "x:.model.Order . (`oId`aId`iId`ivId`side`oqty`lqty`price`reduce`dqty;flip(4 5;0 0;0 0;((0 1);(0 1));1 1;300 100;300 100;1000 1000;11b;300 100));"
   ]
  },
  {
   "cell_type": "code",
   "execution_count": 180,
   "metadata": {},
   "outputs": [],
   "source": [
    "l:0!?[`.engine.model.orderbook.Orderbook;(\n",
    "        (in;`side;x`side);\n",
    "        (>;(+;`qty;(+;`hqty;(+;`iqty;`vqty)));0);\n",
    "        (|;(<;(+\\;`qty);sum[x`oqty]);\n",
    "        (=;`i;(*:;`i))));0b;()];"
   ]
  },
  {
   "cell_type": "code",
   "execution_count": 181,
   "metadata": {},
   "outputs": [],
   "source": [
    "aqty:sum[l[`qty`iqty`hqty`vqty]];\n",
    "thresh:sums[aqty];\n",
    "rp:min[(sum x`oqty;first[aqty])]^((thresh-prev[thresh])-(thresh-sum x`oqty));"
   ]
  },
  {
   "cell_type": "code",
   "execution_count": 182,
   "metadata": {},
   "outputs": [],
   "source": [
    "o:?[`.engine.model.order.Order;(\n",
    "            (=;`okind;1);\n",
    "            (in;`price;l[`price] where (rp>0));\n",
    "            (in;`state;(0 1));(>;`oqty;0));0b;()];"
   ]
  },
  {
   "cell_type": "code",
   "execution_count": null,
   "metadata": {},
   "outputs": [],
   "source": []
  },
  {
   "cell_type": "code",
   "execution_count": 226,
   "metadata": {},
   "outputs": [],
   "source": [
    "s:0!((`price`side xkey l) lj (`price`side xgroup o));\n",
    "msk:raze[.util.PadM[{x#1}'[count'[s`oId]]]];\n",
    "\n",
    "s[`aqty]:aqty;\n",
    "s[`thresh]:thresh;\n",
    "s[`rp]:rp;\n",
    "// Pad s into a matrix\n",
    "// for faster operations\n",
    "//pdcl:`oId`side`price`offset`oqty`lqty`reduce`aId`state;\n",
    "//(s pdcl):.util.PadM'[s pdcl];\n",
    "\n",
    "// Useful counts \n",
    "s[`maxN]:max count'[s`offset];\n",
    "s[`tmaxN]:til'[s`maxN];\n",
    "s[`numLvls]:count[s`offset];"
   ]
  },
  {
   "cell_type": "code",
   "execution_count": 161,
   "metadata": {},
   "outputs": [],
   "source": []
  },
  {
   "cell_type": "code",
   "execution_count": 227,
   "metadata": {},
   "outputs": [
    {
     "data": {
      "text/plain": [
       "price  | 1000   \n",
       "side   | 1      \n",
       "iId    | 0 0    \n",
       "qty    | 1000   \n",
       "hqty   | 0      \n",
       "iqty   | 0      \n",
       "vqty   | 200    \n",
       "time   |        \n",
       "oId    | 1 2    \n",
       "aId    | 0 0    \n",
       "ivId   | 1 1    \n",
       "slprice|        \n",
       "sprice |        \n",
       "trig   |        \n",
       "tif    |        \n",
       "okind  | 1 1    \n",
       "oskind |        \n",
       "reduce | 11b    \n",
       "state  | 0 0    \n",
       "oqty   | 200 200\n",
       "dqty   | 1 1    \n",
       "lqty   | 200 200\n",
       "slqty  |        \n",
       "offset | 0 210  \n",
       "einst  |        \n",
       "aqty   | 1200   \n",
       "thresh | 1200   \n",
       "rp     | 400    \n",
       "maxN   | 2      \n",
       "tmaxN  | 0 1    \n",
       "numLvls| 1      \n"
      ]
     },
     "execution_count": 227,
     "metadata": {},
     "output_type": "execute_result"
    }
   ],
   "source": [
    "flip s"
   ]
  },
  {
   "cell_type": "code",
   "execution_count": null,
   "metadata": {},
   "outputs": [],
   "source": []
  },
  {
   "cell_type": "code",
   "execution_count": 151,
   "metadata": {},
   "outputs": [],
   "source": []
  },
  {
   "cell_type": "code",
   "execution_count": 152,
   "metadata": {},
   "outputs": [
    {
     "data": {
      "text/plain": [
       ",400\n"
      ]
     },
     "execution_count": 152,
     "metadata": {},
     "output_type": "execute_result"
    }
   ],
   "source": []
  },
  {
   "cell_type": "code",
   "execution_count": 51,
   "metadata": {},
   "outputs": [],
   "source": [
    "/hqty:.util.Clip[(-/)(hqty,rp)]\n",
    "/nlqty:.util.Clip[{?[x>z;(y+z)-x;y]}'[rp;lqty;offset]]"
   ]
  },
  {
   "cell_type": "code",
   "execution_count": 185,
   "metadata": {},
   "outputs": [],
   "source": [
    "so:ungroup s"
   ]
  },
  {
   "cell_type": "code",
   "execution_count": null,
   "metadata": {},
   "outputs": [],
   "source": []
  },
  {
   "cell_type": "code",
   "execution_count": null,
   "metadata": {},
   "outputs": [],
   "source": []
  },
  {
   "cell_type": "code",
   "execution_count": 199,
   "metadata": {},
   "outputs": [
    {
     "ename": "\u001b[0;31m.bam.nh\u001b[0m",
     "evalue": "\u001b[0;31m.bam.nh\u001b[0m",
     "output_type": "error",
     "traceback": [
      "\u001b[0;31mevaluation error:\n\u001b[0m",
      "\u001b[0;31m.bam.nh\u001b[0m",
      "\u001b[0;31m\u001b[0m",
      "\u001b[0;31m  [0]  .bam.nh\n       ^\n\u001b[0m"
     ]
    }
   ],
   "source": []
  },
  {
   "cell_type": "code",
   "execution_count": 220,
   "metadata": {},
   "outputs": [],
   "source": [
    "no:flip update \n",
    "    lqty:max[(?[rp>lqty;(lqty+offset)-rp;lqty];0)],\n",
    "    dqty:max[(?[((dqty<lqty) and (lqty>0));dqty;lqty])], // todo dependent\n",
    "    offset:max[(offset-rp;0)],  // todo dependent\n",
    "    shft:lqty+offset,  // todo dependent\n",
    "    nh:((offset<=rp)and((lqty+offset)<=rp))\n",
    "    state:?[((offset<=rp)and((lqty+offset)<=rp));1;\n",
    "             ?[(sums[offset]<=rp);2;state]]  // todo dependent\n",
    "    from so"
   ]
  },
  {
   "cell_type": "code",
   "execution_count": null,
   "metadata": {},
   "outputs": [],
   "source": []
  },
  {
   "cell_type": "code",
   "execution_count": null,
   "metadata": {},
   "outputs": [],
   "source": [
    ".engine.model.fill.Fill:([fId:`long$()];time:`datetime$();price:`long$();qty:`long$();reduce:`boolean$();\n",
    "\tismaker:`boolean$();side:`long$();iId:`.engine.model.instrument.Instrument$();\n",
    "  oId:`.engine.model.order.Order$();ivId:`.engine.model.inventory.Inventory$();\n",
    "  aId:`.engine.model.account.Account$());"
   ]
  },
  {
   "cell_type": "code",
   "execution_count": 272,
   "metadata": {},
   "outputs": [],
   "source": [
    "nl:flip update\n",
    "   hqty:max[(hqty-rp;0)],\n",
    "   iqty:lqty-dqty,\n",
    "   time:time,\n",
    "   price:price\n",
    "   from s"
   ]
  },
  {
   "cell_type": "code",
   "execution_count": 274,
   "metadata": {},
   "outputs": [],
   "source": [
    "f:select\n",
    "    time:time,\n",
    "    price:price,\n",
    "    qty:lqty - lqty, // todo dependency\n",
    "    reduce:reduce,\n",
    "    ismaker:okind=1,\n",
    "    side:side,\n",
    "    iId:iId,\n",
    "    oId:oId,\n",
    "    ivId:ivId,\n",
    "    aId:aId\n",
    "    from so"
   ]
  },
  {
   "cell_type": "code",
   "execution_count": 298,
   "metadata": {},
   "outputs": [
    {
     "data": {
      "text/plain": [
       "time price qty reduce ismaker side iId oId ivId aId\n",
       "---------------------------------------------------\n",
       "     1000  0   1      1       1    0   1   1    0  \n",
       "     1000  0   1      1       1    0   2   1    0  \n"
      ]
     },
     "execution_count": 298,
     "metadata": {},
     "output_type": "execute_result"
    }
   ],
   "source": [
    "f"
   ]
  },
  {
   "cell_type": "code",
   "execution_count": 292,
   "metadata": {},
   "outputs": [
    {
     "data": {
      "text/plain": [
       "0N\n"
      ]
     },
     "execution_count": 292,
     "metadata": {},
     "output_type": "execute_result"
    }
   ],
   "source": [
    "((+/)((0 10);(0 0)))[-1]"
   ]
  },
  {
   "cell_type": "code",
   "execution_count": 297,
   "metadata": {},
   "outputs": [
    {
     "data": {
      "text/plain": [
       "price side bqty qty \n",
       "--------------------\n",
       "1000  1    1000 ,0  \n",
       "1000  1    1000 ,200\n",
       "1000  1    1000 ,210\n",
       "1000  1    1000 ,200\n",
       "1000  1    1000 1000\n"
      ]
     },
     "execution_count": 297,
     "metadata": {},
     "output_type": "execute_result"
    }
   ],
   "source": [
    "ungroup select \n",
    "    price:price,\n",
    "    side:side,\n",
    "    bqty:qty,\n",
    "    qty:enlist(offset[;0]-hqty;oqty[;0];(0^(offset[;1]));oqty[;1];sum qtyt)\n",
    "    from s"
   ]
  },
  {
   "cell_type": "code",
   "execution_count": null,
   "metadata": {},
   "outputs": [],
   "source": []
  },
  {
   "cell_type": "code",
   "execution_count": null,
   "metadata": {},
   "outputs": [],
   "source": [
    "nhqty:          .util.Clip[(-/)s`hqty`rp]; // Derive the new hidden qty\n",
    "nlqty:          .util.Clip[{?[x>z;(y+z)-x;y]}'[s`rp;s`lqty;s`offset]]; // TODO faster/fix\n",
    "ndqty:          .util.Clip[{?[((x<y) and (y>0));x;y]}'[s[`dqty];nlqty]]; // TODO faster/fix\n",
    "niqty:          sum'[nlqty-ndqty]; // The new order invisible qty = lqty - display qty\n",
    "displaydlt:     (ndqty-s[`dqty]); // Derive the change in the order display qty\n",
    "lqtydlt:        (nlqty-s[`lqty]); // Derive the change in the order lqty\n",
    "hqtydlt:        (nhqty-s[`hqty]); // Derive the change in hidden order qty\n",
    "noffset:        .util.Clip[((-/)s`offset`rp)]; // Subtract the replaced amount and clip<0 (offset includes hqty)\n",
    "nqty:           .util.Clip[((-/)s`qty`rp)-(sum'[lqtydlt]+hqtydlt)]; // qty -rp - qty attributed to other qtys\n",
    "nvqty:          nqty+sum'[ndqty]; // Derive the new visible qty as order display qty + the new qty from above\n",
    "nshft:          nlqty+noffset; // \n",
    "nmxshft:        {$[x>1;max[y];x=1;y;0]}'[maxN;nshft]; // the max shft for each price TODO make faster\n",
    "nfilled:        s[`oqty] - nlqty; // New amount that is filled (in total)\n",
    "accdlts:        s[`lqty] - nlqty; // The new amounts that will attribute to fills.\n",
    "nobupd:         count[nhqty];"
   ]
  }
 ],
 "metadata": {
  "kernelspec": {
   "display_name": "Q (kdb+)",
   "language": "q",
   "name": "qpk"
  },
  "language_info": {
   "file_extension": ".q",
   "mimetype": "text/x-q",
   "name": "q",
   "version": "4.0"
  }
 },
 "nbformat": 4,
 "nbformat_minor": 4
}
