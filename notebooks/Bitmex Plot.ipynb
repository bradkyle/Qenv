{
 "cells": [
  {
   "cell_type": "code",
   "execution_count": 1,
   "metadata": {},
   "outputs": [
    {
     "data": {
      "text/html": [
       "<style>.container { width:100% !important; }</style>"
      ],
      "text/plain": [
       "<IPython.core.display.HTML object>"
      ]
     },
     "metadata": {},
     "output_type": "display_data"
    }
   ],
   "source": [
    "from IPython.core.display import display, HTML\n",
    "display(HTML(\"<style>.container { width:100% !important; }</style>\"))"
   ]
  },
  {
   "cell_type": "code",
   "execution_count": 25,
   "metadata": {},
   "outputs": [],
   "source": [
    "from gym import Env, spaces\n",
    "from qpython import qconnection\n",
    "import numpy as np\n",
    "import json\n",
    "import pandas as pd \n",
    "pd.set_option('display.max_rows', 500)\n",
    "pd.set_option('display.max_columns', 500)\n",
    "pd.set_option('display.width', 1000)"
   ]
  },
  {
   "cell_type": "code",
   "execution_count": 3,
   "metadata": {},
   "outputs": [],
   "source": [
    "def _exec(qry, pandas=False):\n",
    "        with qconnection.QConnection(\n",
    "            host=\"localhost\", \n",
    "            port=5050, \n",
    "            pandas=pandas) as q:\n",
    "            return q.sendSync(qry) "
   ]
  },
  {
   "cell_type": "code",
   "execution_count": null,
   "metadata": {},
   "outputs": [],
   "source": [
    "data = _exec(\".Q.ind[`events;30]\", pandas=True)"
   ]
  },
  {
   "cell_type": "code",
   "execution_count": 20,
   "metadata": {},
   "outputs": [],
   "source": []
  },
  {
   "cell_type": "code",
   "execution_count": 130,
   "metadata": {},
   "outputs": [],
   "source": [
    "q=\"\"\"\n",
    "derive:{[u]\n",
    "    time:u[`resp][`data][`timestamp]; // should use this as ingress time\n",
    "    a:flip u[`resp][`data][`asks][0];\n",
    "    b:flip u[`resp][`data][`bids][0]; // should use utctime as egress time.\n",
    "    :(20#\"Z\"$time;20#u[`utc_time];((10#`SELL),(10#`BUY));((reverse til 10),(til 10));`int$((a[0],b[0])*100);`int$(a[1],b[1]));\n",
    "};\n",
    "x:derive each .Q.ind[orderbook;til 15000];\n",
    "x:flip `time`intime`side`level`price`size!raze each flip x; \n",
    "x\n",
    "\"\"\"\n",
    "orderbook = _exec(q,pandas=True)\n",
    "# orderbook[\"cmd\"]=(orderbook[\"cmd\"]).apply(lambda x:x.decode(\"utf-8\"))\n",
    "# orderbook[\"kind\"]=(orderbook[\"kind\"]).apply(lambda x:x.decode(\"utf-8\"))"
   ]
  },
  {
   "cell_type": "code",
   "execution_count": null,
   "metadata": {},
   "outputs": [],
   "source": [
    "q=\"\"\"\n",
    "derive:{[u]\n",
    "    time:u[`resp][`data][`timestamp]; // should use this as ingress time\n",
    "    a:flip u[`resp][`data][`asks][0];\n",
    "    b:flip u[`resp][`data][`bids][0]; // should use utctime as egress time.\n",
    "    :(20#\"Z\"$time;20#u[`utc_time];((10#`SELL),(10#`BUY));`int$((a[0],b[0])*100);`int$(a[1],b[1]));\n",
    "};\n",
    "x:derive each .Q.ind[orderbookl;til 5000];\n",
    "x:flip `time`intime`side`price`size!raze each flip x; \n",
    "x\n",
    "\"\"\"\n",
    "orderbookl = _exec(q,pandas=True)"
   ]
  },
  {
   "cell_type": "code",
   "execution_count": 13,
   "metadata": {},
   "outputs": [],
   "source": [
    "q:\"\"\"\n",
    "derive:{d:x[`resp][`data];:(\"Z\"$d[`timestamp]; count[d]#x[`utc_time]; upper `$d[`side]; `int$(d[`price]*100); `int$d[`size])};\n",
    "x: derive each .Q.ind[trade;til 5000];\n",
    "x:flip raze each flip x;\n",
    "x\n",
    "\"\"\"\n",
    "trades = _exec(q,pandas=True)\n",
    "# trades[\"cmd\"]=(trades[\"cmd\"]).apply(lambda x:x.decode(\"utf-8\"))\n",
    "# trades[\"kind\"]=(trades[\"kind\"]).apply(lambda x:x.decode(\"utf-8\"))# \n",
    "trades[\"side\"]=(trades[\"side\"]).apply(lambda x:x.decode(\"utf-8\"))"
   ]
  },
  {
   "cell_type": "code",
   "execution_count": 20,
   "metadata": {},
   "outputs": [
    {
     "data": {
      "text/html": [
       "<div>\n",
       "<style scoped>\n",
       "    .dataframe tbody tr th:only-of-type {\n",
       "        vertical-align: middle;\n",
       "    }\n",
       "\n",
       "    .dataframe tbody tr th {\n",
       "        vertical-align: top;\n",
       "    }\n",
       "\n",
       "    .dataframe thead th {\n",
       "        text-align: right;\n",
       "    }\n",
       "</style>\n",
       "<table border=\"1\" class=\"dataframe\">\n",
       "  <thead>\n",
       "    <tr style=\"text-align: right;\">\n",
       "      <th></th>\n",
       "      <th>time</th>\n",
       "      <th>intime</th>\n",
       "      <th>side</th>\n",
       "      <th>price</th>\n",
       "      <th>size</th>\n",
       "    </tr>\n",
       "  </thead>\n",
       "  <tbody>\n",
       "    <tr>\n",
       "      <th>0</th>\n",
       "      <td>2020-07-26 23:51:10.731</td>\n",
       "      <td>2020-07-26 23:51:10.790</td>\n",
       "      <td>b'SELL'</td>\n",
       "      <td>993200</td>\n",
       "      <td>1067431</td>\n",
       "    </tr>\n",
       "    <tr>\n",
       "      <th>1</th>\n",
       "      <td>2020-07-26 23:51:10.731</td>\n",
       "      <td>2020-07-26 23:51:10.790</td>\n",
       "      <td>b'SELL'</td>\n",
       "      <td>993250</td>\n",
       "      <td>876</td>\n",
       "    </tr>\n",
       "    <tr>\n",
       "      <th>2</th>\n",
       "      <td>2020-07-26 23:51:10.731</td>\n",
       "      <td>2020-07-26 23:51:10.790</td>\n",
       "      <td>b'SELL'</td>\n",
       "      <td>993300</td>\n",
       "      <td>412</td>\n",
       "    </tr>\n",
       "    <tr>\n",
       "      <th>3</th>\n",
       "      <td>2020-07-26 23:51:10.731</td>\n",
       "      <td>2020-07-26 23:51:10.790</td>\n",
       "      <td>b'SELL'</td>\n",
       "      <td>993350</td>\n",
       "      <td>206</td>\n",
       "    </tr>\n",
       "    <tr>\n",
       "      <th>4</th>\n",
       "      <td>2020-07-26 23:51:10.731</td>\n",
       "      <td>2020-07-26 23:51:10.790</td>\n",
       "      <td>b'SELL'</td>\n",
       "      <td>993400</td>\n",
       "      <td>233</td>\n",
       "    </tr>\n",
       "    <tr>\n",
       "      <th>...</th>\n",
       "      <td>...</td>\n",
       "      <td>...</td>\n",
       "      <td>...</td>\n",
       "      <td>...</td>\n",
       "      <td>...</td>\n",
       "    </tr>\n",
       "    <tr>\n",
       "      <th>99995</th>\n",
       "      <td>2020-07-26 23:53:45.696</td>\n",
       "      <td>2020-07-26 23:53:45.756</td>\n",
       "      <td>b'BUY'</td>\n",
       "      <td>993000</td>\n",
       "      <td>372291</td>\n",
       "    </tr>\n",
       "    <tr>\n",
       "      <th>99996</th>\n",
       "      <td>2020-07-26 23:53:45.696</td>\n",
       "      <td>2020-07-26 23:53:45.756</td>\n",
       "      <td>b'BUY'</td>\n",
       "      <td>992950</td>\n",
       "      <td>146917</td>\n",
       "    </tr>\n",
       "    <tr>\n",
       "      <th>99997</th>\n",
       "      <td>2020-07-26 23:53:45.696</td>\n",
       "      <td>2020-07-26 23:53:45.756</td>\n",
       "      <td>b'BUY'</td>\n",
       "      <td>992900</td>\n",
       "      <td>194093</td>\n",
       "    </tr>\n",
       "    <tr>\n",
       "      <th>99998</th>\n",
       "      <td>2020-07-26 23:53:45.696</td>\n",
       "      <td>2020-07-26 23:53:45.756</td>\n",
       "      <td>b'BUY'</td>\n",
       "      <td>992850</td>\n",
       "      <td>98286</td>\n",
       "    </tr>\n",
       "    <tr>\n",
       "      <th>99999</th>\n",
       "      <td>2020-07-26 23:53:45.696</td>\n",
       "      <td>2020-07-26 23:53:45.756</td>\n",
       "      <td>b'BUY'</td>\n",
       "      <td>992800</td>\n",
       "      <td>177514</td>\n",
       "    </tr>\n",
       "  </tbody>\n",
       "</table>\n",
       "<p>100000 rows × 5 columns</p>\n",
       "</div>"
      ],
      "text/plain": [
       "                         time                  intime     side   price  \\\n",
       "0     2020-07-26 23:51:10.731 2020-07-26 23:51:10.790  b'SELL'  993200   \n",
       "1     2020-07-26 23:51:10.731 2020-07-26 23:51:10.790  b'SELL'  993250   \n",
       "2     2020-07-26 23:51:10.731 2020-07-26 23:51:10.790  b'SELL'  993300   \n",
       "3     2020-07-26 23:51:10.731 2020-07-26 23:51:10.790  b'SELL'  993350   \n",
       "4     2020-07-26 23:51:10.731 2020-07-26 23:51:10.790  b'SELL'  993400   \n",
       "...                       ...                     ...      ...     ...   \n",
       "99995 2020-07-26 23:53:45.696 2020-07-26 23:53:45.756   b'BUY'  993000   \n",
       "99996 2020-07-26 23:53:45.696 2020-07-26 23:53:45.756   b'BUY'  992950   \n",
       "99997 2020-07-26 23:53:45.696 2020-07-26 23:53:45.756   b'BUY'  992900   \n",
       "99998 2020-07-26 23:53:45.696 2020-07-26 23:53:45.756   b'BUY'  992850   \n",
       "99999 2020-07-26 23:53:45.696 2020-07-26 23:53:45.756   b'BUY'  992800   \n",
       "\n",
       "          size  \n",
       "0      1067431  \n",
       "1          876  \n",
       "2          412  \n",
       "3          206  \n",
       "4          233  \n",
       "...        ...  \n",
       "99995   372291  \n",
       "99996   146917  \n",
       "99997   194093  \n",
       "99998    98286  \n",
       "99999   177514  \n",
       "\n",
       "[100000 rows x 5 columns]"
      ]
     },
     "execution_count": 20,
     "metadata": {},
     "output_type": "execute_result"
    }
   ],
   "source": [
    "orderbook"
   ]
  },
  {
   "cell_type": "code",
   "execution_count": 131,
   "metadata": {},
   "outputs": [],
   "source": [
    "grd=pd.pivot_table(orderbook, values =[\"size\",\"price\"], index=['time'], columns = [\"side\",\"level\"]).reset_index()"
   ]
  },
  {
   "cell_type": "code",
   "execution_count": null,
   "metadata": {},
   "outputs": [],
   "source": []
  },
  {
   "cell_type": "code",
   "execution_count": 132,
   "metadata": {},
   "outputs": [],
   "source": [
    "grd=grd[\"size\"][:14000]"
   ]
  },
  {
   "cell_type": "code",
   "execution_count": 133,
   "metadata": {},
   "outputs": [],
   "source": [
    "def fr(c): \n",
    "    try:\n",
    "        return \"_\".join([c[0].decode(\"utf-8\"),str(c[1])])\n",
    "    except (UnicodeDecodeError, AttributeError):\n",
    "        return str(c)"
   ]
  },
  {
   "cell_type": "code",
   "execution_count": 134,
   "metadata": {},
   "outputs": [],
   "source": [
    "grd.columns = [fr(x) for x in grd.columns.tolist()]"
   ]
  },
  {
   "cell_type": "code",
   "execution_count": 135,
   "metadata": {},
   "outputs": [],
   "source": [
    "mx=np.array(grd.transpose())"
   ]
  },
  {
   "cell_type": "code",
   "execution_count": 136,
   "metadata": {},
   "outputs": [],
   "source": [
    "mxfrac=mx/np.sum(mx,axis=0)"
   ]
  },
  {
   "cell_type": "code",
   "execution_count": 137,
   "metadata": {},
   "outputs": [
    {
     "data": {
      "text/plain": [
       "(10, 14000)"
      ]
     },
     "execution_count": 137,
     "metadata": {},
     "output_type": "execute_result"
    }
   ],
   "source": [
    "mxfrac[10:].shape"
   ]
  },
  {
   "cell_type": "code",
   "execution_count": 33,
   "metadata": {},
   "outputs": [],
   "source": [
    "import matplotlib\n",
    "import matplotlib.pyplot as plt\n",
    "from matplotlib.colors import BoundaryNorm\n",
    "from matplotlib.ticker import MaxNLocator\n",
    "import numpy as np"
   ]
  },
  {
   "cell_type": "code",
   "execution_count": null,
   "metadata": {},
   "outputs": [],
   "source": []
  },
  {
   "cell_type": "code",
   "execution_count": 138,
   "metadata": {},
   "outputs": [
    {
     "data": {
      "text/plain": [
       "<matplotlib.collections.QuadMesh at 0x7f8c9fbc8898>"
      ]
     },
     "execution_count": 138,
     "metadata": {},
     "output_type": "execute_result"
    },
    {
     "data": {
      "image/png": "[encoded data removed]",
      "text/plain": [
       "<Figure size 3240x1080 with 2 Axes>"
      ]
     },
     "metadata": {
      "needs_background": "light"
     },
     "output_type": "display_data"
    }
   ],
   "source": [
    "np.random.seed(19680801)\n",
    "x = np.arange(14001)  # len = 11\n",
    "y = np.arange(11)  # len = 7\n",
    "\n",
    "fig, axs = plt.subplots(2, 1, sharex=True, sharey=True, figsize=(45,15))\n",
    "axs[0].pcolormesh(x, y, mxfrac[10:])\n",
    "axs[1].pcolormesh(x, y, mxfrac[:10])"
   ]
  },
  {
   "cell_type": "code",
   "execution_count": 41,
   "metadata": {},
   "outputs": [
    {
     "data": {
      "text/plain": [
       "array([ 4.5,  5.5,  6.5,  7.5,  8.5,  9.5, 10.5])"
      ]
     },
     "execution_count": 41,
     "metadata": {},
     "output_type": "execute_result"
    }
   ],
   "source": [
    "np.arange(4.5, 11, 1)"
   ]
  },
  {
   "cell_type": "code",
   "execution_count": 42,
   "metadata": {},
   "outputs": [
    {
     "data": {
      "text/plain": [
       "array([-0.5,  0.5,  1.5,  2.5,  3.5,  4.5,  5.5,  6.5,  7.5,  8.5,  9.5])"
      ]
     },
     "execution_count": 42,
     "metadata": {},
     "output_type": "execute_result"
    }
   ],
   "source": [
    "np.arange(-0.5, 10, 1)"
   ]
  }
 ],
 "metadata": {
  "kernelspec": {
   "display_name": "Python (bitcoin)",
   "language": "python",
   "name": "bitcoin"
  },
  "latex_envs": {
   "LaTeX_envs_menu_present": true,
   "autoclose": false,
   "autocomplete": true,
   "bibliofile": "biblio.bib",
   "cite_by": "apalike",
   "current_citInitial": 1,
   "eqLabelWithNumbers": true,
   "eqNumInitial": 1,
   "hotkeys": {
    "equation": "Ctrl-E",
    "itemize": "Ctrl-I"
   },
   "labels_anchors": false,
   "latex_user_defs": false,
   "report_style_numbering": false,
   "user_envs_cfg": false
  },
  "varInspector": {
   "cols": {
    "lenName": 16,
    "lenType": 16,
    "lenVar": 40
   },
   "kernels_config": {
    "python": {
     "delete_cmd_postfix": "",
     "delete_cmd_prefix": "del ",
     "library": "var_list.py",
     "varRefreshCmd": "print(var_dic_list())"
    },
    "r": {
     "delete_cmd_postfix": ") ",
     "delete_cmd_prefix": "rm(",
     "library": "var_list.r",
     "varRefreshCmd": "cat(var_dic_list()) "
    }
   },
   "types_to_exclude": [
    "module",
    "function",
    "builtin_function_or_method",
    "instance",
    "_Feature"
   ],
   "window_display": false
  }
 },
 "nbformat": 4,
 "nbformat_minor": 2
}
