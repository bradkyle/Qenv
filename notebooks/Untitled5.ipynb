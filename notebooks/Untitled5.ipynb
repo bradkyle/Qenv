{
 "cells": [
  {
   "cell_type": "code",
   "execution_count": 4,
   "metadata": {},
   "outputs": [
    {
     "data": {
      "text/plain": [
       "1052632\n"
      ]
     },
     "execution_count": 4,
     "metadata": {},
     "output_type": "execute_result"
    }
   ],
   "source": [
    "7h$(((-200000*10000*1)%((-200000*1)+(10000 * 1)))*100) "
   ]
  },
  {
   "cell_type": "code",
   "execution_count": null,
   "metadata": {},
   "outputs": [],
   "source": []
  },
  {
   "cell_type": "code",
   "execution_count": null,
   "metadata": {},
   "outputs": [],
   "source": []
  },
  {
   "cell_type": "code",
   "execution_count": 10,
   "metadata": {},
   "outputs": [
    {
     "data": {
      "text/plain": [
       "max iface                                                                    ..\n",
       "-----------------------------------------------------------------------------..\n",
       "9   77 154 95 65 0 128 153 126 60 49 77 154 95 65 0 128 153 126 60 49 77 154 ..\n"
      ]
     },
     "execution_count": 10,
     "metadata": {},
     "output_type": "execute_result"
    }
   ],
   "source": [
    "\n",
    ".iface.a.fun:{x*y+z}\n",
    ".iface.b.fun:{x*x+y+z}\n",
    "\n",
    "ifaces:`a`b; // for demonstration perposes\n",
    "\n",
    "tab:([]time:`datetime$();kind:`ifaces$();x:`long$();y:`long$();z:`long$());\n",
    "n:10;\n",
    "tab,:flip(n#.z.z;n?ifaces;n?10;n?10;n?10)\n",
    "?[`tab;();0b;`mx`iface!((max;`x);(`.iface;`kind;enlist`fun;`x;`y;`z))]"
   ]
  },
  {
   "cell_type": "code",
   "execution_count": 13,
   "metadata": {},
   "outputs": [
    {
     "data": {
      "text/plain": [
       "mx ifaceval                                                                  ..\n",
       "-----------------------------------------------------------------------------..\n",
       "9  `.iface `kind `fun 7 7 5 5 0 8 9 7 4 7 1 7 8 3 2 1 8 7 6 0 3 8 6 5 7 7 0 4..\n"
      ]
     },
     "execution_count": 13,
     "metadata": {},
     "output_type": "execute_result"
    }
   ],
   "source": [
    "select mx:max x, ifaceval:.iface.a[] from tab"
   ]
  }
 ],
 "metadata": {
  "kernelspec": {
   "display_name": "Q (kdb+)",
   "language": "q",
   "name": "qpk"
  },
  "language_info": {
   "file_extension": ".q",
   "mimetype": "text/x-q",
   "name": "q",
   "version": "4.0"
  }
 },
 "nbformat": 4,
 "nbformat_minor": 4
}
