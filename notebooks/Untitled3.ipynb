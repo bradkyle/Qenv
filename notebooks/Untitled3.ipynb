{
 "cells": [
  {
   "cell_type": "code",
   "execution_count": 0,
   "metadata": {},
   "outputs": [
    {
     "name": "stderr",
     "output_type": "stream",
     "text": [
      "sh: 1: wget: not found\n"
     ]
    },
    {
     "ename": "\u001b[0;31mos\u001b[0m",
     "evalue": "\u001b[0;31mos\u001b[0m",
     "output_type": "error",
     "traceback": [
      "\u001b[0;31mevaluation error:\n\u001b[0m",
      "\u001b[0;31mos\u001b[0m",
      "\u001b[0;31m\u001b[0m",
      "\u001b[0;31m  [1]  \\wget https://github.com/KxSystems/protobufkdb/archive/1.0.0-rc.zip\n       ^\n\u001b[0m",
      "\u001b[0;31m  [0]  system\"wget https://github.com/KxSystems/protobufkdb/archive/1.0.0-rc.zip\"\n       ^\n\u001b[0m"
     ]
    }
   ],
   "source": [
    "\n",
    "system\"wget https://github.com/KxSystems/protobufkdb/archive/1.0.0-rc.zip\""
   ]
  }
 ],
 "metadata": {
  "kernelspec": {
   "display_name": "Q (kdb+)",
   "language": "q",
   "name": "qpk"
  },
  "language_info": {
   "file_extension": ".q",
   "mimetype": "text/x-q",
   "name": "q",
   "version": "4.0"
  }
 },
 "nbformat": 4,
 "nbformat_minor": 4
}
