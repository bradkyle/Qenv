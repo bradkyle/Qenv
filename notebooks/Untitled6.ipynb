{
 "cells": [
  {
   "cell_type": "code",
   "execution_count": 7,
   "metadata": {},
   "outputs": [],
   "source": [
    "h:hopen`::5000"
   ]
  },
  {
   "cell_type": "code",
   "execution_count": 9,
   "metadata": {},
   "outputs": [
    {
     "data": {
      "text/plain": [
       "2 1024 1025\n"
      ]
     },
     "execution_count": 9,
     "metadata": {},
     "output_type": "execute_result"
    }
   ],
   "source": [
    "h\".env.Reset[(0;1;2)]\""
   ]
  },
  {
   "cell_type": "code",
   "execution_count": null,
   "metadata": {},
   "outputs": [],
   "source": [
    ".ingest.h:hopen`:gate:5000\n",
    ".ingest.watermark:0n;\n",
    ".ingest.Reset \t :{.ingest.h\"reset[]\"}; // TODO change watermark\n",
    ".ingest.GetFirst :{.ingest.h\"getfirst[]\"};\n",
    ".ingest.GetLast  :{.ingest.h\"getlast[]\"};\n",
    ".ingest.Advance  :{hr:hour x;$[(hr>(.ingest.watermark-1));\n",
    "    [\n",
    "    e:.ingest.h\"request[\",string[hr+1],\"]\";\n",
    "    .ingest.watermark:hour[max e`time];\n",
    "    ];()]};\n"
   ]
  }
 ],
 "metadata": {
  "kernelspec": {
   "display_name": "Q (kdb+)",
   "language": "q",
   "name": "qpk"
  },
  "language_info": {
   "file_extension": ".q",
   "mimetype": "text/x-q",
   "name": "q",
   "version": "4.0"
  }
 },
 "nbformat": 4,
 "nbformat_minor": 4
}
