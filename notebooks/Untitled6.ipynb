{
 "cells": [
  {
   "cell_type": "code",
   "execution_count": 14,
   "metadata": {},
   "outputs": [],
   "source": [
    "h:hopen`::5000"
   ]
  },
  {
   "cell_type": "code",
   "execution_count": 9,
   "metadata": {},
   "outputs": [
    {
     "data": {
      "text/plain": [
       "2 1024 1025\n"
      ]
     },
     "execution_count": 9,
     "metadata": {},
     "output_type": "execute_result"
    }
   ],
   "source": [
    "h\".env.Reset[(0;1;2)]\""
   ]
  },
  {
   "cell_type": "code",
   "execution_count": 16,
   "metadata": {},
   "outputs": [],
   "source": [
    ".ingest.h:hopen`::5000\n",
    ".ingest.watermark:0n;\n",
    ".ingest.Reset \t :{.ingest.h\"reset[]\"}; // TODO change watermark\n",
    ".ingest.GetFirst :{.ingest.h\"getfirst[]\"};\n",
    ".ingest.GetLast  :{.ingest.h\"getlast[]\"};\n",
    ".ingest.Advance  :{hr:hour x;$[(hr>(.ingest.watermark-1));[\n",
    "    e:.ingest.h\"request[\",string[hr+1],\"]\";\n",
    "    .ingest.watermark:hour[max e`time];\n",
    "    ];()]};\n"
   ]
  },
  {
   "cell_type": "code",
   "execution_count": 17,
   "metadata": {},
   "outputs": [
    {
     "data": {
      "text/plain": [
       "time                    kind       datum         \n",
       "-------------------------------------------------\n",
       "2020.05.23T11:00:00.031 pricerange 923110 904820 \n",
       "2020.05.23T11:00:00.043 depth      -1 913980 1936\n",
       "2020.05.23T11:00:00.043 depth      -1 914000 1   \n",
       "2020.05.23T11:00:00.043 depth      -1 914040 11  \n",
       "2020.05.23T11:00:00.043 depth      -1 914060 2   \n",
       "2020.05.23T11:00:00.043 depth      -1 914070 1   \n",
       "2020.05.23T11:00:00.043 depth      -1 914110 268 \n",
       "2020.05.23T11:00:00.043 depth      -1 914530 57  \n",
       "2020.05.23T11:00:00.043 depth      -1 914600 55  \n",
       "2020.05.23T11:00:00.043 depth      -1 914630 101 \n",
       "2020.05.23T11:00:00.043 depth      -1 914650 21  \n",
       "2020.05.23T11:00:00.043 depth      -1 915080 0   \n",
       "2020.05.23T11:00:00.043 depth      -1 915320 15  \n",
       "2020.05.23T11:00:00.043 depth      -1 915540 35  \n",
       "2020.05.23T11:00:00.043 depth      -1 915640 64  \n",
       "2020.05.23T11:00:00.043 depth      -1 915750 66  \n",
       "2020.05.23T11:00:00.043 depth      -1 915760 31  \n",
       "2020.05.23T11:00:00.043 depth      -1 916450 0   \n",
       "2020.05.23T11:00:00.043 depth      1 883990 0    \n",
       "2020.05.23T11:00:00.043 depth      1 911410 11   \n",
       "..\n"
      ]
     },
     "execution_count": 17,
     "metadata": {},
     "output_type": "execute_result"
    }
   ],
   "source": [
    ".ingest.Reset[]"
   ]
  },
  {
   "cell_type": "code",
   "execution_count": 15,
   "metadata": {},
   "outputs": [
    {
     "data": {
      "text/plain": [
       "sId| host     port start  end   \n",
       "---| ---------------------------\n",
       "0  | ingest-0 5000 441731 441735\n"
      ]
     },
     "execution_count": 15,
     "metadata": {},
     "output_type": "execute_result"
    }
   ],
   "source": [
    ".ingest.h\"slave\""
   ]
  }
 ],
 "metadata": {
  "kernelspec": {
   "display_name": "Q (kdb+)",
   "language": "q",
   "name": "qpk"
  },
  "language_info": {
   "file_extension": ".q",
   "mimetype": "text/x-q",
   "name": "q",
   "version": "4.0"
  }
 },
 "nbformat": 4,
 "nbformat_minor": 4
}
