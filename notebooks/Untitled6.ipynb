{
 "cells": [
  {
   "cell_type": "code",
   "execution_count": 27,
   "metadata": {},
   "outputs": [],
   "source": [
    "h:hopen`::5000"
   ]
  },
  {
   "cell_type": "code",
   "execution_count": 28,
   "metadata": {},
   "outputs": [
    {
     "data": {
      "text/plain": [
       "2 1024 1025\n"
      ]
     },
     "execution_count": 28,
     "metadata": {},
     "output_type": "execute_result"
    }
   ],
   "source": [
    "h\".env.Reset[(0;1;2)]\""
   ]
  },
  {
   "cell_type": "code",
   "execution_count": 22,
   "metadata": {},
   "outputs": [],
   "source": [
    ".ingest.h:hopen`::5000\n",
    ".ingest.watermark:0n;\n",
    ".ingest.Reset \t :{.ingest.h\"reset[]\"}; // TODO change watermark\n",
    ".ingest.GetFirst :{.ingest.h\"getfirst[]\"};\n",
    ".ingest.GetLast  :{.ingest.h\"getlast[]\"};\n",
    ".ingest.Advance  :{hr:hour x;$[(hr>(.ingest.watermark-1));[\n",
    "    e:.ingest.h\"request[\",string[hr+1],\"]\";\n",
    "    .ingest.watermark:hour[max e`time];\n",
    "    ];()]};\n"
   ]
  },
  {
   "cell_type": "code",
   "execution_count": 23,
   "metadata": {},
   "outputs": [],
   "source": [
    "x:.ingest.Reset[]"
   ]
  },
  {
   "cell_type": "code",
   "execution_count": 29,
   "metadata": {},
   "outputs": [
    {
     "data": {
      "text/plain": [
       "time                    kind       datum         \n",
       "-------------------------------------------------\n",
       "2020.05.23T11:00:00.031 pricerange 923110 904820 \n",
       "2020.05.23T11:00:00.043 depth      -1 913980 1936\n",
       "2020.05.23T11:00:00.043 depth      -1 914000 1   \n",
       "2020.05.23T11:00:00.043 depth      -1 914040 11  \n",
       "2020.05.23T11:00:00.043 depth      -1 914060 2   \n",
       "2020.05.23T11:00:00.043 depth      -1 914070 1   \n",
       "2020.05.23T11:00:00.043 depth      -1 914110 268 \n",
       "2020.05.23T11:00:00.043 depth      -1 914530 57  \n",
       "2020.05.23T11:00:00.043 depth      -1 914600 55  \n",
       "2020.05.23T11:00:00.043 depth      -1 914630 101 \n",
       "2020.05.23T11:00:00.043 depth      -1 914650 21  \n",
       "2020.05.23T11:00:00.043 depth      -1 915080 0   \n",
       "2020.05.23T11:00:00.043 depth      -1 915320 15  \n",
       "2020.05.23T11:00:00.043 depth      -1 915540 35  \n",
       "2020.05.23T11:00:00.043 depth      -1 915640 64  \n",
       "2020.05.23T11:00:00.043 depth      -1 915750 66  \n",
       "2020.05.23T11:00:00.043 depth      -1 915760 31  \n",
       "2020.05.23T11:00:00.043 depth      -1 916450 0   \n",
       "2020.05.23T11:00:00.043 depth      1 883990 0    \n",
       "2020.05.23T11:00:00.043 depth      1 911410 11   \n",
       "..\n"
      ]
     },
     "execution_count": 29,
     "metadata": {},
     "output_type": "execute_result"
    }
   ],
   "source": [
    "x"
   ]
  },
  {
   "cell_type": "code",
   "execution_count": 30,
   "metadata": {},
   "outputs": [
    {
     "data": {
      "text/plain": [
       "\"/home/qenv/notebooks\"\n"
      ]
     },
     "execution_count": 30,
     "metadata": {},
     "output_type": "execute_result"
    }
   ],
   "source": [
    "\\pwd"
   ]
  },
  {
   "cell_type": "code",
   "execution_count": 31,
   "metadata": {},
   "outputs": [],
   "source": [
    "\\cd ../qenv/"
   ]
  },
  {
   "cell_type": "code",
   "execution_count": 35,
   "metadata": {},
   "outputs": [],
   "source": []
  },
  {
   "cell_type": "code",
   "execution_count": 36,
   "metadata": {},
   "outputs": [
    {
     "name": "stdout",
     "output_type": "stream",
     "text": [
      "\"###################################################################################################\"\n",
      "\"                                             TEST\"\n",
      "\"###################################################################################################\"\n",
      "\"===================================================================================================\"\n",
      "\"47) .engine.GetIngressEvents (UNIT) :READY\"\n",
      "`Path finder action set (made for binance exchange)\n",
      "\"---------------------------------------------------------------------------------------------------\"\n",
      "caseId state dscr                                                              \n",
      "-------------------------------------------------------------------------------\n",
      "250    ERROR min price 1000 (asks) price distribution 0.01 tick size: 10 levels\n",
      "251    ERROR min price 1000 (bids) price distribution 0.01 tick size: 10 levels\n",
      "252    ERROR min price 1000 (asks) price distribution 0.5 tick size: 10 levels \n",
      "253    ERROR min price 1000 (bids) price distribution 0.5 tick size: 10 levels \n",
      "\"===================================================================================================\"\n",
      "\"48) .engine.GetEgressEvents (UNIT) :READY\"\n",
      "`Path finder action set (made for binance exchange)\n",
      "\"---------------------------------------------------------------------------------------------------\"\n",
      "caseId state dscr                                                              \n",
      "-------------------------------------------------------------------------------\n",
      "254    ERROR min price 1000 (asks) price distribution 0.01 tick size: 10 levels\n",
      "255    ERROR min price 1000 (bids) price distribution 0.01 tick size: 10 levels\n",
      "256    ERROR min price 1000 (asks) price distribution 0.5 tick size: 10 levels \n",
      "257    ERROR min price 1000 (bids) price distribution 0.5 tick size: 10 levels \n",
      "\"===================================================================================================\"\n",
      "\"49) .engine.E (UNIT) :READY\"\n",
      "`Path finder action set (made for binance exchange)\n",
      "\"---------------------------------------------------------------------------------------------------\"\n",
      "caseId state dscr                                                              \n",
      "-------------------------------------------------------------------------------\n",
      "258    ERROR min price 1000 (asks) price distribution 0.01 tick size: 10 levels\n",
      "259    ERROR min price 1000 (bids) price distribution 0.01 tick size: 10 levels\n",
      "260    ERROR min price 1000 (asks) price distribution 0.5 tick size: 10 levels \n",
      "261    ERROR min price 1000 (bids) price distribution 0.5 tick size: 10 levels \n",
      "\"===================================================================================================\"\n",
      "\"50) .engine.Purge (UNIT) :READY\"\n",
      "`Path finder action set (made for binance exchange)\n",
      "\"---------------------------------------------------------------------------------------------------\"\n",
      "caseId state dscr                                                              \n",
      "-------------------------------------------------------------------------------\n",
      "262    ERROR min price 1000 (asks) price distribution 0.01 tick size: 10 levels\n",
      "263    ERROR min price 1000 (bids) price distribution 0.01 tick size: 10 levels\n",
      "264    ERROR min price 1000 (asks) price distribution 0.5 tick size: 10 levels \n",
      "265    ERROR min price 1000 (bids) price distribution 0.5 tick size: 10 levels \n",
      "\"===================================================================================================\"\n",
      "\"51) .engine.process (UNIT) :READY\"\n",
      "`Path finder action set (made for binance exchange)\n",
      "\"---------------------------------------------------------------------------------------------------\"\n",
      "caseId state dscr                     \n",
      "--------------------------------------\n",
      "266    FAIL  Process trade event      \n",
      "267    FAIL  Process depth event      \n",
      "268    FAIL  Process funding event    \n",
      "269    ERROR Process mark event       \n",
      "270    FAIL  Process settlement event \n",
      "271    FAIL  Process pricerange event \n",
      "272    FAIL  Process withdraw event   \n",
      "273    FAIL  Process deposit event    \n",
      "274    FAIL  Process leverage event   \n",
      "275    FAIL  Process neworder event   \n",
      "276    FAIL  Process amendorder event \n",
      "277    FAIL  Process cancelorder event\n",
      "278    FAIL  Process cancelall event  \n",
      "\"===================================================================================================\"\n",
      "\"52) .engine.Advance (UNIT) :READY\"\n",
      "`Path finder action set (made for binance exchange)\n",
      "\"---------------------------------------------------------------------------------------------------\"\n",
      "caseId state dscr                                                              \n",
      "-------------------------------------------------------------------------------\n",
      "279    FAIL  min price 1000 (asks) price distribution 0.01 tick size: 10 levels\n",
      "280    FAIL  min price 1000 (bids) price distribution 0.01 tick size: 10 levels\n",
      "281    FAIL  min price 1000 (asks) price distribution 0.5 tick size: 10 levels \n",
      "282    FAIL  min price 1000 (bids) price distribution 0.5 tick size: 10 levels \n",
      "\"===================================================================================================\"\n",
      "\"53) .engine.Reset (UNIT) :READY\"\n",
      "`Path finder action set (made for binance exchange)\n",
      "\"---------------------------------------------------------------------------------------------------\"\n",
      "caseId state dscr                                                              \n",
      "-------------------------------------------------------------------------------\n",
      "283    FAIL  min price 1000 (asks) price distribution 0.01 tick size: 10 levels\n",
      "284    FAIL  min price 1000 (bids) price distribution 0.01 tick size: 10 levels\n",
      "285    FAIL  min price 1000 (asks) price distribution 0.5 tick size: 10 levels \n",
      "286    FAIL  min price 1000 (bids) price distribution 0.5 tick size: 10 levels \n",
      "\"                                                                                                                                                                                                                                                                                                                                                                                                                \"\n",
      "\"###################################################################################################\"\n",
      "\"                                      TESTS COMPLETED\"\n",
      "\"###################################################################################################\"\n",
      "state| x  \n",
      "-----| ---\n",
      "ERROR| 17 \n",
      "FAIL | 20 \n",
      "SKIP | 384\n",
      "\"                                                                                                                                                                                                                                                                                                                                                                                                                \"\n"
     ]
    }
   ],
   "source": [
    "\\l test.q"
   ]
  },
  {
   "cell_type": "code",
   "execution_count": 38,
   "metadata": {},
   "outputs": [],
   "source": [
    "y:.bam.yd"
   ]
  },
  {
   "cell_type": "code",
   "execution_count": 39,
   "metadata": {},
   "outputs": [],
   "source": [
    "e:(,\\)y`datum;"
   ]
  },
  {
   "cell_type": "code",
   "execution_count": 42,
   "metadata": {},
   "outputs": [
    {
     "data": {
      "text/plain": [
       "923110 904820\n"
      ]
     },
     "execution_count": 42,
     "metadata": {},
     "output_type": "execute_result"
    }
   ],
   "source": []
  },
  {
   "cell_type": "code",
   "execution_count": 36,
   "metadata": {},
   "outputs": [
    {
     "ename": "\u001b[0;31mtype\u001b[0m",
     "evalue": "\u001b[0;31mtype\u001b[0m",
     "output_type": "error",
     "traceback": [
      "\u001b[0;31mevaluation error:\n\u001b[0m",
      "\u001b[0;31mtype\u001b[0m",
      "\u001b[0;31m\u001b[0m",
      "\u001b[0;31m  [3]  /home/qenv/qenv/engine/engine.q:50: .engine.publicWrapper:\n    e:(,\\)y`datum;\n    e[`time]:y[`time];\n            ^\n    e[`iId]:`.engine.model.instrument.Instrument$0;\n\u001b[0m",
      "\u001b[0;31m  [2]  /home/qenv/qenv/engine/engine.q:87: .engine.multiplex:{.engine.map[first x[`kind];x]}\n                                                              ^\n\u001b[0m",
      "\u001b[0;31m  [1]  /home/qenv/qenv/engine/engine.q:97: .engine.process:\n            $[count[distinct[x`kind]]>1;\n                .engine.multiplex'[0!(`f xgroup update f:{sums((<>) prior x)}kind from `time xasc x)];\n                                 ^\n                .engine.multiplex[first 0!(`f xgroup update f:first'[kind] from x)]];\n\u001b[0m",
      "\u001b[0;31m  [0]  .engine.process[x]\n       ^\n\u001b[0m"
     ]
    }
   ],
   "source": [
    ".engine.watermark:0n;\n",
    ".engine.process[x]"
   ]
  },
  {
   "cell_type": "code",
   "execution_count": 15,
   "metadata": {},
   "outputs": [
    {
     "data": {
      "text/plain": [
       "sId| host     port start  end   \n",
       "---| ---------------------------\n",
       "0  | ingest-0 5000 441731 441735\n"
      ]
     },
     "execution_count": 15,
     "metadata": {},
     "output_type": "execute_result"
    }
   ],
   "source": [
    ".ingest.h\"slave\""
   ]
  }
 ],
 "metadata": {
  "kernelspec": {
   "display_name": "Q (kdb+)",
   "language": "q",
   "name": "qpk"
  },
  "language_info": {
   "file_extension": ".q",
   "mimetype": "text/x-q",
   "name": "q",
   "version": "4.0"
  }
 },
 "nbformat": 4,
 "nbformat_minor": 4
}
