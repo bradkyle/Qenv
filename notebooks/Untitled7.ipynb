{
 "cells": [
  {
   "cell_type": "code",
   "execution_count": 13,
   "metadata": {},
   "outputs": [
    {
     "data": {
      "text/plain": [
       "\"/home/qenv/ingest/testdata/events\"\n"
      ]
     },
     "execution_count": 13,
     "metadata": {},
     "output_type": "execute_result"
    }
   ],
   "source": [
    "\\pwd"
   ]
  },
  {
   "cell_type": "code",
   "execution_count": 2,
   "metadata": {},
   "outputs": [],
   "source": [
    "\\cd ../"
   ]
  },
  {
   "cell_type": "code",
   "execution_count": 4,
   "metadata": {},
   "outputs": [],
   "source": [
    "\\cd ingest"
   ]
  },
  {
   "cell_type": "code",
   "execution_count": 5,
   "metadata": {},
   "outputs": [],
   "source": [
    "\\l testdata/events"
   ]
  },
  {
   "cell_type": "code",
   "execution_count": 14,
   "metadata": {},
   "outputs": [],
   "source": [
    "\\l ev"
   ]
  },
  {
   "cell_type": "code",
   "execution_count": 7,
   "metadata": {},
   "outputs": [
    {
     "data": {
      "text/plain": [
       "`s#`depth`funding`mark`pricerange`settlement`trades\n"
      ]
     },
     "execution_count": 7,
     "metadata": {},
     "output_type": "execute_result"
    }
   ],
   "source": [
    "\\a"
   ]
  },
  {
   "cell_type": "code",
   "execution_count": 8,
   "metadata": {},
   "outputs": [],
   "source": [
    "tbls:`depth`trades`settlement`pricerange`mark`funding;\n",
    "/ chr:.ingest.ordinals[i];\n",
    "x: xasc[`time;raze{?[x;();0b;`time`kind`datum!`time`kind`datum]}'[tbls]]"
   ]
  },
  {
   "cell_type": "code",
   "execution_count": 16,
   "metadata": {},
   "outputs": [
    {
     "data": {
      "text/plain": [
       "time                    kind  datum        \n",
       "-------------------------------------------\n",
       "2020.05.23T10:00:00.069 trade 1  914110 50 \n",
       "2020.05.23T10:00:01.303 trade -1 914100 100\n",
       "2020.05.23T10:00:01.435 trade -1 914100 2  \n",
       "2020.05.23T10:00:01.701 trade -1 914100 48 \n",
       "2020.05.23T10:00:01.704 trade -1 914100 23 \n",
       "2020.05.23T10:00:01.704 trade -1 914100 1  \n",
       "2020.05.23T10:00:01.704 trade -1 914100 1  \n",
       "2020.05.23T10:00:01.704 trade -1 914100 1  \n",
       "2020.05.23T10:00:01.767 trade -1 914000 1  \n",
       "2020.05.23T10:00:01.767 trade -1 913990 17 \n",
       "2020.05.23T10:00:02.121 trade -1 913990 74 \n",
       "2020.05.23T10:00:02.121 trade -1 913990 26 \n",
       "2020.05.23T10:00:02.403 trade -1 913990 3  \n",
       "2020.05.23T10:00:02.757 trade -1 913990 1  \n",
       "2020.05.23T10:00:02.757 trade -1 913990 2  \n",
       "2020.05.23T10:00:02.757 trade -1 913990 1  \n",
       "2020.05.23T10:00:02.757 trade -1 913980 5  \n",
       "2020.05.23T10:00:02.757 trade -1 913980 82 \n",
       "2020.05.23T10:00:03.023 trade -1 913980 1  \n",
       "2020.05.23T10:00:03.023 trade -1 913980 4  \n",
       "..\n"
      ]
     },
     "execution_count": 16,
     "metadata": {},
     "output_type": "execute_result"
    }
   ],
   "source": [
    "select from x where kind=`trade"
   ]
  },
  {
   "cell_type": "code",
   "execution_count": null,
   "metadata": {},
   "outputs": [],
   "source": []
  },
  {
   "cell_type": "code",
   "execution_count": null,
   "metadata": {},
   "outputs": [],
   "source": []
  },
  {
   "cell_type": "code",
   "execution_count": null,
   "metadata": {},
   "outputs": [],
   "source": []
  },
  {
   "cell_type": "code",
   "execution_count": null,
   "metadata": {},
   "outputs": [],
   "source": []
  },
  {
   "cell_type": "code",
   "execution_count": null,
   "metadata": {},
   "outputs": [],
   "source": []
  },
  {
   "cell_type": "code",
   "execution_count": null,
   "metadata": {},
   "outputs": [],
   "source": []
  },
  {
   "cell_type": "code",
   "execution_count": null,
   "metadata": {},
   "outputs": [],
   "source": []
  },
  {
   "cell_type": "code",
   "execution_count": null,
   "metadata": {},
   "outputs": [],
   "source": []
  },
  {
   "cell_type": "code",
   "execution_count": null,
   "metadata": {},
   "outputs": [],
   "source": []
  },
  {
   "cell_type": "code",
   "execution_count": null,
   "metadata": {},
   "outputs": [],
   "source": []
  },
  {
   "cell_type": "code",
   "execution_count": null,
   "metadata": {},
   "outputs": [],
   "source": []
  },
  {
   "cell_type": "code",
   "execution_count": null,
   "metadata": {},
   "outputs": [],
   "source": []
  },
  {
   "cell_type": "code",
   "execution_count": null,
   "metadata": {},
   "outputs": [],
   "source": []
  },
  {
   "cell_type": "code",
   "execution_count": null,
   "metadata": {},
   "outputs": [],
   "source": []
  },
  {
   "cell_type": "code",
   "execution_count": null,
   "metadata": {},
   "outputs": [],
   "source": []
  },
  {
   "cell_type": "code",
   "execution_count": null,
   "metadata": {},
   "outputs": [],
   "source": []
  },
  {
   "cell_type": "code",
   "execution_count": null,
   "metadata": {},
   "outputs": [],
   "source": []
  },
  {
   "cell_type": "code",
   "execution_count": null,
   "metadata": {},
   "outputs": [],
   "source": []
  }
 ],
 "metadata": {
  "kernelspec": {
   "display_name": "Q (kdb+)",
   "language": "q",
   "name": "qpk"
  },
  "language_info": {
   "file_extension": ".q",
   "mimetype": "text/x-q",
   "name": "q",
   "version": "4.0"
  }
 },
 "nbformat": 4,
 "nbformat_minor": 4
}
