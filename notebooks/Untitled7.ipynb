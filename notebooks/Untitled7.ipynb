{
 "cells": [
  {
   "cell_type": "code",
   "execution_count": 1,
   "metadata": {},
   "outputs": [
    {
     "data": {
      "text/plain": [
       "\"/home/qenv/notebooks\"\n"
      ]
     },
     "execution_count": 1,
     "metadata": {},
     "output_type": "execute_result"
    }
   ],
   "source": [
    "\\pwd"
   ]
  },
  {
   "cell_type": "code",
   "execution_count": 2,
   "metadata": {},
   "outputs": [],
   "source": [
    "\\cd ../"
   ]
  },
  {
   "cell_type": "code",
   "execution_count": 4,
   "metadata": {},
   "outputs": [],
   "source": [
    "\\cd ingest"
   ]
  },
  {
   "cell_type": "code",
   "execution_count": 5,
   "metadata": {},
   "outputs": [],
   "source": [
    "\\l testdata/events"
   ]
  },
  {
   "cell_type": "code",
   "execution_count": 7,
   "metadata": {},
   "outputs": [
    {
     "data": {
      "text/plain": [
       "`s#`depth`funding`mark`pricerange`settlement`trades\n"
      ]
     },
     "execution_count": 7,
     "metadata": {},
     "output_type": "execute_result"
    }
   ],
   "source": [
    "\\a"
   ]
  },
  {
   "cell_type": "code",
   "execution_count": 8,
   "metadata": {},
   "outputs": [],
   "source": [
    "tbls:`depth`trades`settlement`pricerange`mark`funding;\n",
    "/ chr:.ingest.ordinals[i];\n",
    "x: xasc[`time;raze{?[x;();0b;`time`kind`datum!`time`kind`datum]}'[tbls]]"
   ]
  },
  {
   "cell_type": "code",
   "execution_count": 10,
   "metadata": {},
   "outputs": [
    {
     "data": {
      "text/plain": [
       "time                    kind datum         \n",
       "-------------------------------------------\n",
       "2020.05.23T10:00:00.030 3    923150 904870 \n",
       "2020.05.23T10:00:00.060 0    -1 914110 1271\n",
       "2020.05.23T10:00:00.060 0    -1 914190 46  \n",
       "2020.05.23T10:00:00.060 0    -1 914200 238 \n",
       "2020.05.23T10:00:00.060 0    -1 914210 14  \n",
       "2020.05.23T10:00:00.060 0    -1 914220 114 \n",
       "2020.05.23T10:00:00.060 0    -1 914410 12  \n",
       "2020.05.23T10:00:00.060 0    -1 914500 4641\n",
       "2020.05.23T10:00:00.060 0    -1 914560 100 \n",
       "2020.05.23T10:00:00.060 0    -1 914800 101 \n",
       "2020.05.23T10:00:00.060 0    -1 914910 127 \n",
       "2020.05.23T10:00:00.060 0    -1 915320 484 \n",
       "2020.05.23T10:00:00.060 0    -1 915590 74  \n",
       "2020.05.23T10:00:00.060 0    -1 915780 560 \n",
       "2020.05.23T10:00:00.060 0    -1 916630 11  \n",
       "2020.05.23T10:00:00.060 0    -1 921840 0   \n",
       "2020.05.23T10:00:00.060 0    -1 922060 1200\n",
       "2020.05.23T10:00:00.060 0    -1 945900 0   \n",
       "2020.05.23T10:00:00.060 0    1 881500 0    \n",
       "2020.05.23T10:00:00.060 0    1 906150 1200 \n",
       "..\n"
      ]
     },
     "execution_count": 10,
     "metadata": {},
     "output_type": "execute_result"
    }
   ],
   "source": [
    "x"
   ]
  },
  {
   "cell_type": "code",
   "execution_count": null,
   "metadata": {},
   "outputs": [],
   "source": []
  },
  {
   "cell_type": "code",
   "execution_count": null,
   "metadata": {},
   "outputs": [],
   "source": []
  },
  {
   "cell_type": "code",
   "execution_count": null,
   "metadata": {},
   "outputs": [],
   "source": []
  },
  {
   "cell_type": "code",
   "execution_count": null,
   "metadata": {},
   "outputs": [],
   "source": []
  },
  {
   "cell_type": "code",
   "execution_count": null,
   "metadata": {},
   "outputs": [],
   "source": []
  },
  {
   "cell_type": "code",
   "execution_count": null,
   "metadata": {},
   "outputs": [],
   "source": []
  },
  {
   "cell_type": "code",
   "execution_count": null,
   "metadata": {},
   "outputs": [],
   "source": []
  },
  {
   "cell_type": "code",
   "execution_count": null,
   "metadata": {},
   "outputs": [],
   "source": []
  },
  {
   "cell_type": "code",
   "execution_count": null,
   "metadata": {},
   "outputs": [],
   "source": []
  },
  {
   "cell_type": "code",
   "execution_count": null,
   "metadata": {},
   "outputs": [],
   "source": []
  },
  {
   "cell_type": "code",
   "execution_count": null,
   "metadata": {},
   "outputs": [],
   "source": []
  },
  {
   "cell_type": "code",
   "execution_count": null,
   "metadata": {},
   "outputs": [],
   "source": []
  },
  {
   "cell_type": "code",
   "execution_count": null,
   "metadata": {},
   "outputs": [],
   "source": []
  },
  {
   "cell_type": "code",
   "execution_count": null,
   "metadata": {},
   "outputs": [],
   "source": []
  },
  {
   "cell_type": "code",
   "execution_count": null,
   "metadata": {},
   "outputs": [],
   "source": []
  },
  {
   "cell_type": "code",
   "execution_count": null,
   "metadata": {},
   "outputs": [],
   "source": []
  },
  {
   "cell_type": "code",
   "execution_count": null,
   "metadata": {},
   "outputs": [],
   "source": []
  },
  {
   "cell_type": "code",
   "execution_count": null,
   "metadata": {},
   "outputs": [],
   "source": []
  }
 ],
 "metadata": {
  "kernelspec": {
   "display_name": "Q (kdb+)",
   "language": "q",
   "name": "qpk"
  },
  "language_info": {
   "file_extension": ".q",
   "mimetype": "text/x-q",
   "name": "q",
   "version": "4.0"
  }
 },
 "nbformat": 4,
 "nbformat_minor": 4
}
