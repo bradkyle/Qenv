{
 "cells": [
  {
   "cell_type": "code",
   "execution_count": 1,
   "metadata": {},
   "outputs": [
    {
     "data": {
      "text/plain": [
       "\"/home/qenv/notebooks\"\n"
      ]
     },
     "execution_count": 1,
     "metadata": {},
     "output_type": "execute_result"
    }
   ],
   "source": [
    "\\pwd"
   ]
  },
  {
   "cell_type": "code",
   "execution_count": 2,
   "metadata": {},
   "outputs": [],
   "source": [
    "\\cd ../"
   ]
  },
  {
   "cell_type": "code",
   "execution_count": 3,
   "metadata": {},
   "outputs": [],
   "source": [
    "\\cd ingest"
   ]
  },
  {
   "cell_type": "code",
   "execution_count": 7,
   "metadata": {},
   "outputs": [],
   "source": [
    "\\cd testdata"
   ]
  },
  {
   "cell_type": "code",
   "execution_count": 8,
   "metadata": {},
   "outputs": [],
   "source": [
    "\\l events/ev"
   ]
  },
  {
   "cell_type": "code",
   "execution_count": 11,
   "metadata": {},
   "outputs": [],
   "source": [
    "\\cd ../"
   ]
  },
  {
   "cell_type": "code",
   "execution_count": 12,
   "metadata": {},
   "outputs": [],
   "source": [
    "\\l events"
   ]
  },
  {
   "cell_type": "code",
   "execution_count": 4,
   "metadata": {},
   "outputs": [],
   "source": [
    "\\l events"
   ]
  },
  {
   "cell_type": "code",
   "execution_count": 5,
   "metadata": {},
   "outputs": [],
   "source": []
  },
  {
   "cell_type": "code",
   "execution_count": 13,
   "metadata": {},
   "outputs": [
    {
     "data": {
      "text/plain": [
       "`s#`depth`funding`mark`pricerange`settlement`trades\n"
      ]
     },
     "execution_count": 13,
     "metadata": {},
     "output_type": "execute_result"
    }
   ],
   "source": [
    "\\a"
   ]
  },
  {
   "cell_type": "code",
   "execution_count": null,
   "metadata": {},
   "outputs": [],
   "source": []
  },
  {
   "cell_type": "code",
   "execution_count": 8,
   "metadata": {},
   "outputs": [],
   "source": [
    "tbls:`depth`trades`settlement`pricerange`mark`funding;\n",
    "/ chr:.ingest.ordinals[i];\n",
    "x: xasc[`time;raze{?[x;();0b;`time`kind`datum!`time`kind`datum]}'[tbls]]"
   ]
  },
  {
   "cell_type": "code",
   "execution_count": 14,
   "metadata": {},
   "outputs": [
    {
     "ename": "\u001b[0;31mx\u001b[0m",
     "evalue": "\u001b[0;31mx\u001b[0m",
     "output_type": "error",
     "traceback": [
      "\u001b[0;31mevaluation error:\n\u001b[0m",
      "\u001b[0;31mx\u001b[0m",
      "\u001b[0;31m\u001b[0m",
      "\u001b[0;31m  [0]  select from x where kind=`funding\n                   ^\n\u001b[0m"
     ]
    }
   ],
   "source": [
    "select from x where kind=`funding"
   ]
  },
  {
   "cell_type": "code",
   "execution_count": 21,
   "metadata": {},
   "outputs": [
    {
     "data": {
      "text/plain": [
       "int    hr     time                    kind       datum                       ..\n",
       "-----------------------------------------------------------------------------..\n",
       "445801 445801 2020.11.09T01:00:00.647 pricerange `highest`lowest!1587790 1525..\n",
       "445801 445801 2020.11.09T01:00:01.730 pricerange `highest`lowest!1587810 1525..\n",
       "445801 445801 2020.11.09T01:00:04.968 pricerange `highest`lowest!1587720 1525..\n",
       "445801 445801 2020.11.09T01:00:06.016 pricerange `highest`lowest!1587890 1525..\n",
       "445801 445801 2020.11.09T01:00:07.050 pricerange `highest`lowest!1588040 1525..\n",
       "445801 445801 2020.11.09T01:00:09.171 pricerange `highest`lowest!1588050 1525..\n",
       "445801 445801 2020.11.09T01:00:11.236 pricerange `highest`lowest!1587960 1525..\n",
       "445801 445801 2020.11.09T01:00:15.363 pricerange `highest`lowest!1588170 1525..\n",
       "445801 445801 2020.11.09T01:00:16.401 pricerange `highest`lowest!1588390 1526..\n",
       "445801 445801 2020.11.09T01:00:17.434 pricerange `highest`lowest!1588420 1526..\n",
       "445801 445801 2020.11.09T01:00:19.499 pricerange `highest`lowest!1588500 1526..\n",
       "445801 445801 2020.11.09T01:00:21.560 pricerange `highest`lowest!1588520 1526..\n",
       "445801 445801 2020.11.09T01:00:22.592 pricerange `highest`lowest!1588540 1526..\n",
       "445801 445801 2020.11.09T01:00:24.648 pricerange `highest`lowest!1588550 1526..\n",
       "445801 445801 2020.11.09T01:00:25.680 pricerange `highest`lowest!1588720 1526..\n",
       "445801 445801 2020.11.09T01:00:27.747 pricerange `highest`lowest!1588740 1526..\n",
       "445801 445801 2020.11.09T01:00:28.777 pricerange `highest`lowest!1588580 1526..\n",
       "445801 445801 2020.11.09T01:00:29.809 pricerange `highest`lowest!1588590 1526..\n",
       "445801 445801 2020.11.09T01:00:34.975 pricerange `highest`lowest!1588570 1526..\n",
       "445801 445801 2020.11.09T01:00:36.005 pricerange `highest`lowest!1588540 1526..\n",
       "..\n"
      ]
     },
     "execution_count": 21,
     "metadata": {},
     "output_type": "execute_result"
    }
   ],
   "source": [
    ".ingest.prep: {update datum:{[kind;datum;time]$[\n",
    "    kind=`pricerange;`highest`lowest!datum;\n",
    "    kind=`depth;`side`price`size!datum;\n",
    "    kind=`mark;enlist[`mkprice]!enlist datum;\n",
    "    kind=`trade;`side`price`size!datum;\n",
    "    kind=`funding;enlist[`fundingrate]!enlist datum;\n",
    "    kind=`settlement;enlist[`lastsettled]!enlist[time];\n",
    "    datum]}'[kind;datum;time] from x\n",
    "    };\n",
    ".ingest.prep select from "
   ]
  },
  {
   "cell_type": "code",
   "execution_count": null,
   "metadata": {},
   "outputs": [],
   "source": []
  },
  {
   "cell_type": "code",
   "execution_count": null,
   "metadata": {},
   "outputs": [],
   "source": []
  },
  {
   "cell_type": "code",
   "execution_count": null,
   "metadata": {},
   "outputs": [],
   "source": []
  },
  {
   "cell_type": "code",
   "execution_count": null,
   "metadata": {},
   "outputs": [],
   "source": []
  },
  {
   "cell_type": "code",
   "execution_count": null,
   "metadata": {},
   "outputs": [],
   "source": []
  },
  {
   "cell_type": "code",
   "execution_count": null,
   "metadata": {},
   "outputs": [],
   "source": []
  },
  {
   "cell_type": "code",
   "execution_count": null,
   "metadata": {},
   "outputs": [],
   "source": []
  },
  {
   "cell_type": "code",
   "execution_count": null,
   "metadata": {},
   "outputs": [],
   "source": []
  },
  {
   "cell_type": "code",
   "execution_count": null,
   "metadata": {},
   "outputs": [],
   "source": []
  },
  {
   "cell_type": "code",
   "execution_count": null,
   "metadata": {},
   "outputs": [],
   "source": []
  },
  {
   "cell_type": "code",
   "execution_count": null,
   "metadata": {},
   "outputs": [],
   "source": []
  },
  {
   "cell_type": "code",
   "execution_count": null,
   "metadata": {},
   "outputs": [],
   "source": []
  },
  {
   "cell_type": "code",
   "execution_count": null,
   "metadata": {},
   "outputs": [],
   "source": []
  },
  {
   "cell_type": "code",
   "execution_count": null,
   "metadata": {},
   "outputs": [],
   "source": []
  },
  {
   "cell_type": "code",
   "execution_count": null,
   "metadata": {},
   "outputs": [],
   "source": []
  },
  {
   "cell_type": "code",
   "execution_count": null,
   "metadata": {},
   "outputs": [],
   "source": []
  },
  {
   "cell_type": "code",
   "execution_count": null,
   "metadata": {},
   "outputs": [],
   "source": []
  }
 ],
 "metadata": {
  "kernelspec": {
   "display_name": "Q (kdb+)",
   "language": "q",
   "name": "qpk"
  },
  "language_info": {
   "file_extension": ".q",
   "mimetype": "text/x-q",
   "name": "q",
   "version": "4.0"
  }
 },
 "nbformat": 4,
 "nbformat_minor": 4
}
