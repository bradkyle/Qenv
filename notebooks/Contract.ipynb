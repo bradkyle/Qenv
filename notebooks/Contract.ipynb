{
 "cells": [
  {
   "cell_type": "code",
   "execution_count": null,
   "metadata": {},
   "outputs": [],
   "source": []
  },
  {
   "cell_type": "code",
   "execution_count": null,
   "metadata": {},
   "outputs": [],
   "source": []
  },
  {
   "cell_type": "code",
   "execution_count": null,
   "metadata": {},
   "outputs": [],
   "source": []
  },
  {
   "cell_type": "code",
   "execution_count": null,
   "metadata": {},
   "outputs": [],
   "source": []
  },
  {
   "cell_type": "code",
   "execution_count": null,
   "metadata": {},
   "outputs": [],
   "source": []
  },
  {
   "cell_type": "code",
   "execution_count": 1,
   "metadata": {},
   "outputs": [],
   "source": [
    ".engine.logic.contract.inverse.Value :{[qty;price]\n",
    "    qty*price         \n",
    "    };\n",
    "\n",
    ".engine.logic.contract.inverse.Loss  :{[markprice;qty;price]\n",
    "    val:.engine.logic.contract.inverse.Value[qty;price];\n",
    "    min[(prd[(markprice;qty)]-val;0)]  \n",
    "  };\n",
    "\n",
    "// Derives the execCost which is the cumulative sum of the product of\n",
    "// the fillQty and price of entering into a position.\n",
    ".engine.logic.contract.inverse.ExecCost               :{[price;qty;multiplier]\n",
    "    :(floor[1e8%price]*abs[qty]);\n",
    "    };\n",
    "\n",
    "// Given the total entry and the exec cost of the given Inventory\n",
    "// this function will derive the average price at which the inventory\n",
    "// was opened at/ entered into.\n",
    ".engine.logic.contract.inverse.AvgPriceDeriv               :{[isignum;price;qty;totalEntry;multiplier]\n",
    "    execCost:.engine.logic.contract.inverse.ExecCost[price;qty;multiplier];\n",
    "    p:execCost%totalEntry;\n",
    "    ?[isignum>0;1e8%floor[p];1e8%ceiling[p]] // TODO change 1e8 to multiplier?\n",
    "    };\n",
    "\n",
    "// Given the total entry and the exec cost of the given Inventory\n",
    "// this function will derive the average price at which the inventory\n",
    "// was opened at/ entered into.\n",
    ".engine.logic.contract.inverse.AvgPrice               :{[isignum;execCost;totalEntry;multiplier]\n",
    "    p:execCost%totalEntry;\n",
    "    ?[isignum>0;1e8%floor[p];1e8%ceiling[p]] // TODO change 1e8 to multiplier?\n",
    "    };\n",
    "\n",
    "// Given the current Inventory state, this function will derive the\n",
    "// unrealized pnl that the inventory has incurred.\n",
    ".engine.logic.contract.inverse.UnrealizedPnl          :{[amt;isignum;avgPrice;markPrice;faceValue;multiplier] \n",
    "    7h$((((faceValue%avgPrice)-(faceValue%markPrice))*(amt*isignum))*multiplier)\n",
    "    };\n",
    "\n",
    "// Given the current Inventory state, this function will derive the\n",
    "// resultant pnl that will be realized when a given amount is added\n",
    "// back to the balance. // TODO check multiplier is working?\n",
    ".engine.logic.contract.inverse.RealizedPnl            :{[fillQty;fillPrice;isignum;avgPrice;faceValue;multiplier]\n",
    "    7h$((((faceValue%fillPrice)-(faceValue%avgPrice))*(fillQty*isignum))*multiplier)\n",
    "    };"
   ]
  },
  {
   "cell_type": "code",
   "execution_count": 6,
   "metadata": {},
   "outputs": [
    {
     "data": {
      "text/plain": [
       "-5 -5\n"
      ]
     },
     "execution_count": 6,
     "metadata": {},
     "output_type": "execute_result"
    }
   ],
   "source": [
    ".engine.logic.contract.inverse.RealizedPnl[2#100;2#2000;2#1;2#1001;2#1;2#100]"
   ]
  },
  {
   "cell_type": "code",
   "execution_count": 8,
   "metadata": {},
   "outputs": [
    {
     "data": {
      "text/plain": [
       "-5002499 -5002499\n"
      ]
     },
     "execution_count": 8,
     "metadata": {},
     "output_type": "execute_result"
    }
   ],
   "source": [
    ".engine.logic.contract.inverse.UnrealizedPnl[2#100;2#1;2#2001;2#1000;2#1;2#1e8]"
   ]
  },
  {
   "cell_type": "code",
   "execution_count": null,
   "metadata": {},
   "outputs": [],
   "source": []
  },
  {
   "cell_type": "code",
   "execution_count": null,
   "metadata": {},
   "outputs": [],
   "source": []
  },
  {
   "cell_type": "code",
   "execution_count": null,
   "metadata": {},
   "outputs": [],
   "source": []
  },
  {
   "cell_type": "code",
   "execution_count": null,
   "metadata": {},
   "outputs": [],
   "source": []
  }
 ],
 "metadata": {
  "kernelspec": {
   "display_name": "Q (kdb+)",
   "language": "q",
   "name": "qpk"
  },
  "language_info": {
   "file_extension": ".q",
   "mimetype": "text/x-q",
   "name": "q",
   "version": "4.0"
  }
 },
 "nbformat": 4,
 "nbformat_minor": 4
}
