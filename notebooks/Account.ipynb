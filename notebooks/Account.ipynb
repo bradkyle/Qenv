{
 "cells": [
  {
   "cell_type": "code",
   "execution_count": null,
   "metadata": {},
   "outputs": [],
   "source": []
  },
  {
   "cell_type": "code",
   "execution_count": null,
   "metadata": {},
   "outputs": [],
   "source": []
  },
  {
   "cell_type": "code",
   "execution_count": null,
   "metadata": {},
   "outputs": [],
   "source": []
  },
  {
   "cell_type": "code",
   "execution_count": null,
   "metadata": {},
   "outputs": [],
   "source": []
  },
  {
   "cell_type": "code",
   "execution_count": null,
   "metadata": {},
   "outputs": [],
   "source": []
  },
  {
   "cell_type": "code",
   "execution_count": 1,
   "metadata": {},
   "outputs": [],
   "source": [
    ".engine.logic.account.GetFeetier:{[avol]\n",
    " avol:first avol;\n",
    " ft:select[1;<vol] from .engine.model.feetier.Feetier where (vol>avol) or ((i=0) and (vol>avol));\n",
    "   `.engine.model.feetier.Feetier$((first 0!ft)`ftId)\n",
    "   };\n",
    "\n",
    "// TODO allow for multiple args\n",
    ".engine.logic.account.GetRisktier:{[ivamt;ivlev]\n",
    " ivamt:first ivamt;\n",
    " rt:select[1;<amt] from .engine.model.risktier.Risktier where (amt>ivamt) or ((i=0) and (amt>ivamt));\n",
    "   `.engine.model.risktier.Risktier$((first 0!rt)`rtId)\n",
    "   };\n",
    "\n",
    "// TODO allow for multiple args\n",
    ".engine.logic.account.GetAvailable:{[bal;mm;upnl;oqty;oloss]\n",
    "      bal-(mm+upnl)+(oqty-oloss)\n",
    "    };"
   ]
  },
  {
   "cell_type": "code",
   "execution_count": 3,
   "metadata": {},
   "outputs": [],
   "source": [
    ".engine.logic.account.Liquidate:{\n",
    "     x[`status]:1;\n",
    "     // derive bankruptch price\n",
    "     .engine.logic.order.New[];\n",
    "     .engine.model.account.Update x;\n",
    "     x\n",
    "    };"
   ]
  },
  {
   "cell_type": "code",
   "execution_count": null,
   "metadata": {},
   "outputs": [],
   "source": []
  },
  {
   "cell_type": "code",
   "execution_count": null,
   "metadata": {},
   "outputs": [],
   "source": []
  },
  {
   "cell_type": "code",
   "execution_count": null,
   "metadata": {},
   "outputs": [],
   "source": []
  },
  {
   "cell_type": "code",
   "execution_count": null,
   "metadata": {},
   "outputs": [],
   "source": []
  },
  {
   "cell_type": "code",
   "execution_count": null,
   "metadata": {},
   "outputs": [],
   "source": []
  }
 ],
 "metadata": {
  "kernelspec": {
   "display_name": "Q (kdb+)",
   "language": "q",
   "name": "qpk"
  },
  "language_info": {
   "file_extension": ".q",
   "mimetype": "text/x-q",
   "name": "q",
   "version": "4.0"
  }
 },
 "nbformat": 4,
 "nbformat_minor": 4
}
