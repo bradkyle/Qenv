{
 "cells": [
  {
   "cell_type": "code",
   "execution_count": 2,
   "metadata": {},
   "outputs": [
    {
     "name": "stdout",
     "output_type": "stream",
     "text": [
      "`quantest/init.q. OS reports: No such file or directory\n",
      "`[14] \\l quantest/init.q\n",
      "       ^\n",
      "  [13] /home/qenv/qenv/test.q:14: \n",
      "    // L..\n"
     ]
    }
   ],
   "source": [
    "\\l ../qenv/test.q"
   ]
  },
  {
   "cell_type": "code",
   "execution_count": 3,
   "metadata": {},
   "outputs": [],
   "source": [
    "\\cd ../qenv"
   ]
  },
  {
   "cell_type": "code",
   "execution_count": 43,
   "metadata": {},
   "outputs": [
    {
     "name": "stdout",
     "output_type": "stream",
     "text": [
      "\"###################################################################################################\"\n",
      "\"                                             TEST\"\n",
      "\"###################################################################################################\"\n",
      "\"===================================================================================================\"\n",
      "\"47) .engine.GetIngressEvents (UNIT) :READY\"\n",
      "`Path finder action set (made for binance exchange)\n",
      "\"---------------------------------------------------------------------------------------------------\"\n",
      "caseId state dscr                                                              \n",
      "-------------------------------------------------------------------------------\n",
      "250    ERROR min price 1000 (asks) price distribution 0.01 tick size: 10 levels\n",
      "251    ERROR min price 1000 (bids) price distribution 0.01 tick size: 10 levels\n",
      "252    ERROR min price 1000 (asks) price distribution 0.5 tick size: 10 levels \n",
      "253    ERROR min price 1000 (bids) price distribution 0.5 tick size: 10 levels \n",
      "\"===================================================================================================\"\n",
      "\"48) .engine.GetEgressEvents (UNIT) :READY\"\n",
      "`Path finder action set (made for binance exchange)\n",
      "\"---------------------------------------------------------------------------------------------------\"\n",
      "caseId state dscr                                                              \n",
      "-------------------------------------------------------------------------------\n",
      "254    ERROR min price 1000 (asks) price distribution 0.01 tick size: 10 levels\n",
      "255    ERROR min price 1000 (bids) price distribution 0.01 tick size: 10 levels\n",
      "256    ERROR min price 1000 (asks) price distribution 0.5 tick size: 10 levels \n",
      "257    ERROR min price 1000 (bids) price distribution 0.5 tick size: 10 levels \n",
      "\"===================================================================================================\"\n",
      "\"49) .engine.E (UNIT) :READY\"\n",
      "`Path finder action set (made for binance exchange)\n",
      "\"---------------------------------------------------------------------------------------------------\"\n",
      "caseId state dscr                                                              \n",
      "-------------------------------------------------------------------------------\n",
      "258    ERROR min price 1000 (asks) price distribution 0.01 tick size: 10 levels\n",
      "259    ERROR min price 1000 (bids) price distribution 0.01 tick size: 10 levels\n",
      "260    ERROR min price 1000 (asks) price distribution 0.5 tick size: 10 levels \n",
      "261    ERROR min price 1000 (bids) price distribution 0.5 tick size: 10 levels \n",
      "\"===================================================================================================\"\n",
      "\"50) .engine.Purge (UNIT) :READY\"\n",
      "`Path finder action set (made for binance exchange)\n",
      "\"---------------------------------------------------------------------------------------------------\"\n",
      "caseId state dscr                                                              \n",
      "-------------------------------------------------------------------------------\n",
      "262    ERROR min price 1000 (asks) price distribution 0.01 tick size: 10 levels\n",
      "263    ERROR min price 1000 (bids) price distribution 0.01 tick size: 10 levels\n",
      "264    ERROR min price 1000 (asks) price distribution 0.5 tick size: 10 levels \n",
      "265    ERROR min price 1000 (bids) price distribution 0.5 tick size: 10 levels \n",
      "\"===================================================================================================\"\n",
      "\"51) .engine.process (UNIT) :READY\"\n",
      "`Path finder action set (made for binance exchange)\n",
      "\"---------------------------------------------------------------------------------------------------\"\n",
      "caseId state dscr                     \n",
      "--------------------------------------\n",
      "266    FAIL  Process trade event      \n",
      "267    FAIL  Process depth event      \n",
      "268    FAIL  Process funding event    \n",
      "269    ERROR Process mark event       \n",
      "270    FAIL  Process settlement event \n",
      "271    FAIL  Process pricerange event \n",
      "272    FAIL  Process withdraw event   \n",
      "273    FAIL  Process deposit event    \n",
      "274    FAIL  Process leverage event   \n",
      "275    FAIL  Process neworder event   \n",
      "276    FAIL  Process amendorder event \n",
      "277    FAIL  Process cancelorder event\n",
      "278    FAIL  Process cancelall event  \n",
      "\"===================================================================================================\"\n",
      "\"52) .engine.Advance (UNIT) :READY\"\n",
      "`Path finder action set (made for binance exchange)\n",
      "\"---------------------------------------------------------------------------------------------------\"\n",
      "caseId state dscr                                                              \n",
      "-------------------------------------------------------------------------------\n",
      "279    FAIL  min price 1000 (asks) price distribution 0.01 tick size: 10 levels\n",
      "280    FAIL  min price 1000 (bids) price distribution 0.01 tick size: 10 levels\n",
      "281    FAIL  min price 1000 (asks) price distribution 0.5 tick size: 10 levels \n",
      "282    FAIL  min price 1000 (bids) price distribution 0.5 tick size: 10 levels \n",
      "\"===================================================================================================\"\n",
      "\"53) .engine.Reset (UNIT) :READY\"\n",
      "`Path finder action set (made for binance exchange)\n",
      "\"---------------------------------------------------------------------------------------------------\"\n",
      "caseId state dscr                                                              \n",
      "-------------------------------------------------------------------------------\n",
      "283    ERROR min price 1000 (asks) price distribution 0.01 tick size: 10 levels\n",
      "284    ERROR min price 1000 (bids) price distribution 0.01 tick size: 10 levels\n",
      "285    ERROR min price 1000 (asks) price distribution 0.5 tick size: 10 levels \n",
      "286    ERROR min price 1000 (bids) price distribution 0.5 tick size: 10 levels \n",
      "\"                                                                                                                                                                                                                                                                                                                                                                                                                \"\n",
      "\"###################################################################################################\"\n",
      "\"                                      TESTS COMPLETED\"\n",
      "\"###################################################################################################\"\n",
      "state| x  \n",
      "-----| ---\n",
      "ERROR| 21 \n",
      "FAIL | 16 \n",
      "SKIP | 384\n",
      "\"                                                                                                                                                                                                                                                                                                                                                                                                                \"\n"
     ]
    }
   ],
   "source": [
    "\\l test.q"
   ]
  },
  {
   "cell_type": "code",
   "execution_count": 44,
   "metadata": {},
   "outputs": [],
   "source": [
    ".engine.model.risktier.Risktier,:flip `rtId`amt`mmr`imr`lev!flip[(\n",
    "        (0; 50000;       0.004;    0.008;    125);\n",
    "        (1; 250000;      0.005;    0.01;     100);\n",
    "        (2; 1000000;     0.01;     0.02;     50);\n",
    "        (3; 5000000;     0.025;    0.05;     20);\n",
    "        (4; 20000000;    0.05;     0.1;      10);\n",
    "        (5; 50000000;    0.1;      0.20;     5);\n",
    "        (6; 100000000;   0.125;    0.25;     4);\n",
    "        (7; 200000000;   0.15;     0.333;    3);\n",
    "        (8; 500000000;   0.25;     0.50;     2);\n",
    "        (9; 500000000;   0.25;     1.0;      1))] "
   ]
  },
  {
   "cell_type": "code",
   "execution_count": 9,
   "metadata": {},
   "outputs": [
    {
     "data": {
      "text/plain": [
       "rtId| -7\n",
       "amt | -7\n",
       "mmr | -9\n",
       "imr | -9\n",
       "lev | -7\n"
      ]
     },
     "execution_count": 9,
     "metadata": {},
     "output_type": "execute_result"
    }
   ],
   "source": [
    "type each first flip `rtId`amt`mmr`imr`lev!flip[(\n",
    "        (0; 50000;       0.004;    0.008;    125);\n",
    "        (1; 250000;      0.005;    0.01;     100);\n",
    "        (2; 1000000;     0.01;     0.02;     50);\n",
    "        (3; 5000000;     0.025;    0.05;     20);\n",
    "        (4; 20000000;    0.05;     0.1;      10);\n",
    "        (5; 50000000;    0.1;      0.20;     5);\n",
    "        (6; 100000000;   0.125;    0.25;     4);\n",
    "        (7; 200000000;   0.15;     0.333;    3);\n",
    "        (8; 500000000;   0.25;     0.50;     2);\n",
    "        (9; 500000000;   0.25;     1.0;      1))] "
   ]
  },
  {
   "cell_type": "code",
   "execution_count": 11,
   "metadata": {},
   "outputs": [
    {
     "data": {
      "text/plain": [
       "iId| cntTyp state faceValue mkprice highest lowest lotSize tickSize mnSize mxSize mnPrice mxPrice smul fudingrate bestBid bestAsk liqb liqs fundingrate lastsettled time\n",
       "---| -------------------------------------------------------------------------------------------------------------------------------------------------------------------\n"
      ]
     },
     "execution_count": 11,
     "metadata": {},
     "output_type": "execute_result"
    }
   ],
   "source": [
    ".engine.model.instrument.Instrument"
   ]
  },
  {
   "cell_type": "code",
   "execution_count": 45,
   "metadata": {},
   "outputs": [],
   "source": [
    ".engine.model.instrument.Instrument,:  ((!) . flip(\n",
    "        (`iId                      ; 0);                                           \n",
    "        (`cntTyp                   ; `inverse);\n",
    "        (`state                    ; 0);\n",
    "        (`faceValue                ; 0);\n",
    "        (`mkprice                  ; 0);\n",
    "        (`mxSize                   ; 0);\n",
    "        (`mnPrice                  ; 0);\n",
    "        (`mxPrice                  ; 0) \n",
    "        ))"
   ]
  },
  {
   "cell_type": "code",
   "execution_count": 17,
   "metadata": {},
   "outputs": [],
   "source": [
    "aIds:til 3"
   ]
  },
  {
   "cell_type": "code",
   "execution_count": 46,
   "metadata": {},
   "outputs": [],
   "source": [
    ".engine.model.risktier.Risktier,:flip `rtId`amt`mmr`imr`lev!flip[(\n",
    "    (0; 50000;       0.004;    0.008;    125);\n",
    "    (1; 250000;      0.005;    0.01;     100);\n",
    "    (2; 1000000;     0.01;     0.02;     50);\n",
    "    (3; 5000000;     0.025;    0.05;     20);\n",
    "    (4; 20000000;    0.05;     0.1;      10);\n",
    "    (5; 50000000;    0.1;      0.20;     5);\n",
    "    (6; 100000000;   0.125;    0.25;     4);\n",
    "    (7; 200000000;   0.15;     0.333;    3);\n",
    "    (8; 500000000;   0.25;     0.50;     2);\n",
    "    (9; 500000000;   0.25;     1.0;      1))]; \n",
    "\n",
    ".engine.model.feetier.Feetier,:flip `ftId`vol`mkrfee`tkrfee`wdrawfee`dpstfee`wdlim!flip[(\n",
    "    (0; 50;      0.0006;    0.0006;    0f;  0f; 600);\n",
    "    (1; 500;     0.00054;   0.0006;    0f;  0f; 600);\n",
    "    (2; 1500;    0.00048;   0.0006;    0f;  0f; 600);\n",
    "    (3; 4500;    0.00042;   0.0006;    0f;  0f; 600);\n",
    "    (4; 10000;   0.00042;   0.00054;   0f;  0f; 600);\n",
    "    (5; 20000;   0.00036;   0.00048;   0f;  0f; 600);\n",
    "    (6; 40000;   0.00024;   0.00036;   0f;  0f; 600);\n",
    "    (7; 80000;   0.00018;   0.000300;  0f;  0f; 600);\n",
    "    (8; 150000;  0.00012;   0.00024;   0f;  0f; 600))];                             //  \n"
   ]
  },
  {
   "cell_type": "code",
   "execution_count": 48,
   "metadata": {},
   "outputs": [],
   "source": [
    "n:count[aIds];\n",
    "dn:n*2;\n",
    ".engine.model.inventory.Inventory,:ivn:flip((!) . flip(\n",
    "    (`aId              ; floor[til[dn]%2]);                                            \n",
    "    (`side             ; dn#(1 -1));                                            \n",
    "    (`ordQty           ; dn#0);\n",
    "    (`ordVal           ; dn#0);\n",
    "    (`ordLoss          ; dn#0);\n",
    "    (`amt              ; dn#0);\n",
    "    (`iw               ; dn#0); // isolated wallet\n",
    "    (`mm               ; dn#0);\n",
    "    (`posVal           ; dn#0);\n",
    "    (`rpnl             ; dn#0);  \n",
    "    (`avgPrice         ; dn#0);  \n",
    "    (`execCost         ; dn#0);  \n",
    "    (`upnl             ; dn#0);  \n",
    "    (`lev              ; dn#0)  \n",
    "    ));\n",
    "\n",
    ".engine.model.account.Account,:acc:flip((!) . flip(\n",
    "    (`aId              ; aIds);                                            \n",
    "    (`iId              ; n#`.engine.model.instrument.Instrument$0);                                            \n",
    "    (`done             ; n#0b);                                            \n",
    "    (`lng              ; `.engine.model.inventory.Inventory$(flip(aIds;n#1)));\n",
    "    (`srt              ; `.engine.model.inventory.Inventory$(flip(aIds;n#-1)));\n",
    "    (`dep              ; n#0);  \n",
    "    (`wit              ; n#0);  \n",
    "    (`vol              ; n#0);  \n",
    "    (`rt               ; n#`.engine.model.risktier.Risktier$0);  \n",
    "    (`ft               ; n#`.engine.model.feetier.Feetier$0);  \n",
    "    (`mrgTyp           ; n#0);  \n",
    "    (`time             ; n#z);  \n",
    "    (`avail            ; n?10);  \n",
    "    (`bal              ; n?10)  \n",
    "    ));"
   ]
  },
  {
   "cell_type": "code",
   "execution_count": 49,
   "metadata": {},
   "outputs": [
    {
     "data": {
      "text/plain": [
       "`.engine.model.inventory.Inventory!0 2 4\n"
      ]
     },
     "execution_count": 49,
     "metadata": {},
     "output_type": "execute_result"
    }
   ],
   "source": [
    "`.engine.model.inventory.Inventory$(flip(aIds;n#1))"
   ]
  },
  {
   "cell_type": "code",
   "execution_count": 22,
   "metadata": {},
   "outputs": [
    {
     "ename": "\u001b[0;31mmismatch\u001b[0m",
     "evalue": "\u001b[0;31mmismatch\u001b[0m",
     "output_type": "error",
     "traceback": [
      "\u001b[0;31mevaluation error:\n\u001b[0m",
      "\u001b[0;31mmismatch\u001b[0m",
      "\u001b[0;31m\u001b[0m",
      "\u001b[0;31m  [0]  .engine.model.account.Account,:acc\n                                    ^\n\u001b[0m"
     ]
    }
   ],
   "source": [
    ".engine.model.account.Account,:facc"
   ]
  },
  {
   "cell_type": "code",
   "execution_count": 38,
   "metadata": {},
   "outputs": [
    {
     "data": {
      "text/plain": [
       "aId iId done lng srt dep wit vol rt ft posTyp mrgTyp time                    avail bal\n",
       "--------------------------------------------------------------------------------------\n",
       "0   0   0    0   1   0   0   0   0  0  0      0      2020.12.25T13:12:35.973 8     8  \n",
       "1   0   0    2   3   0   0   0   0  0  0      0      2020.12.25T13:12:35.973 5     0  \n",
       "2   0   0    4   5   0   0   0   0  0  0      0      2020.12.25T13:12:35.973 2     5  \n"
      ]
     },
     "execution_count": 38,
     "metadata": {},
     "output_type": "execute_result"
    }
   ],
   "source": [
    "acc"
   ]
  },
  {
   "cell_type": "code",
   "execution_count": null,
   "metadata": {},
   "outputs": [],
   "source": []
  },
  {
   "cell_type": "code",
   "execution_count": 39,
   "metadata": {},
   "outputs": [
    {
     "ename": "\u001b[0;31mmismatch\u001b[0m",
     "evalue": "\u001b[0;31mmismatch\u001b[0m",
     "output_type": "error",
     "traceback": [
      "\u001b[0;31mevaluation error:\n\u001b[0m",
      "\u001b[0;31mmismatch\u001b[0m",
      "\u001b[0;31m\u001b[0m",
      "\u001b[0;31m  [0]  .engine.model.account.Account,:first acc\n                                    ^\n\u001b[0m"
     ]
    }
   ],
   "source": [
    ".engine.model.account.Account,:first acc"
   ]
  },
  {
   "cell_type": "code",
   "execution_count": 39,
   "metadata": {},
   "outputs": [
    {
     "data": {
      "text/plain": [
       "aId   | -7 \n",
       "iId   | -20\n",
       "done  | -1 \n",
       "lng   | -20\n",
       "srt   | -20\n",
       "dep   | -7 \n",
       "wit   | -7 \n",
       "vol   | -7 \n",
       "rt    | -20\n",
       "ft    | -20\n",
       "posTyp| -7 \n",
       "mrgTyp| -7 \n",
       "time  | -15\n",
       "avail | -7 \n",
       "bal   | -7 \n"
      ]
     },
     "execution_count": 39,
     "metadata": {},
     "output_type": "execute_result"
    }
   ],
   "source": [
    "(flip enlist type each first acc)"
   ]
  },
  {
   "cell_type": "code",
   "execution_count": 41,
   "metadata": {},
   "outputs": [
    {
     "data": {
      "text/plain": [
       "aId   | 0 \n",
       "iId   | 0 \n",
       "lng   | 0 \n",
       "srt   | 0 \n",
       "rt    | 0 \n",
       "ft    | 0 \n",
       "froz  | -7\n",
       "vol   | 0 \n",
       "dep   | 0 \n",
       "wit   | 0 \n",
       "mrgTyp| 0 \n",
       "avail | 0 \n",
       "done  | 0 \n",
       "bal   | 0 \n",
       "time  | 0 \n",
       "posTyp| 7 \n"
      ]
     },
     "execution_count": 41,
     "metadata": {},
     "output_type": "execute_result"
    }
   ],
   "source": [
    "(flip enlist type each first 0!.engine.model.account.Account)-(flip enlist type each first acc)"
   ]
  },
  {
   "cell_type": "code",
   "execution_count": null,
   "metadata": {},
   "outputs": [],
   "source": []
  },
  {
   "cell_type": "code",
   "execution_count": null,
   "metadata": {},
   "outputs": [],
   "source": []
  },
  {
   "cell_type": "code",
   "execution_count": null,
   "metadata": {},
   "outputs": [],
   "source": []
  },
  {
   "cell_type": "code",
   "execution_count": 8,
   "metadata": {},
   "outputs": [
    {
     "data": {
      "text/plain": [
       "amt| -7\n",
       "mmr| -9\n",
       "imr| -9\n",
       "lev| -7\n"
      ]
     },
     "execution_count": 8,
     "metadata": {},
     "output_type": "execute_result"
    }
   ],
   "source": [
    "type each first .engine.model.risktier.Risktier"
   ]
  },
  {
   "cell_type": "code",
   "execution_count": 1,
   "metadata": {},
   "outputs": [],
   "source": [
    ".engine.logic.account.GetFeetier:{[avol]\n",
    " avol:first avol;\n",
    " ft:select[1;<vol] from .engine.model.feetier.Feetier where (vol>avol) or ((i=0) and (vol>avol));\n",
    "   `.engine.model.feetier.Feetier$((first 0!ft)`ftId)\n",
    "   };\n",
    "\n",
    "// TODO allow for multiple args\n",
    ".engine.logic.account.GetRisktier:{[ivamt;ivlev]\n",
    " ivamt:first ivamt;\n",
    " rt:select[1;<amt] from .engine.model.risktier.Risktier where (amt>ivamt) or ((i=0) and (amt>ivamt));\n",
    "   `.engine.model.risktier.Risktier$((first 0!rt)`rtId)\n",
    "   };\n",
    "\n",
    "// TODO allow for multiple args\n",
    ".engine.logic.account.GetAvailable:{[bal;mm;upnl;oqty;oloss]\n",
    "      bal-(mm+upnl)+(oqty-oloss)\n",
    "    };"
   ]
  },
  {
   "cell_type": "code",
   "execution_count": 3,
   "metadata": {},
   "outputs": [],
   "source": [
    ".engine.logic.account.Liquidate:{\n",
    "     x[`status]:1;\n",
    "     // derive bankruptch price\n",
    "     .engine.logic.order.New[];\n",
    "     .engine.model.account.Update x;\n",
    "     x\n",
    "    };"
   ]
  },
  {
   "cell_type": "code",
   "execution_count": null,
   "metadata": {},
   "outputs": [],
   "source": []
  },
  {
   "cell_type": "code",
   "execution_count": null,
   "metadata": {},
   "outputs": [],
   "source": []
  },
  {
   "cell_type": "code",
   "execution_count": null,
   "metadata": {},
   "outputs": [],
   "source": []
  },
  {
   "cell_type": "code",
   "execution_count": null,
   "metadata": {},
   "outputs": [],
   "source": []
  },
  {
   "cell_type": "code",
   "execution_count": null,
   "metadata": {},
   "outputs": [],
   "source": []
  }
 ],
 "metadata": {
  "kernelspec": {
   "display_name": "Q (kdb+)",
   "language": "q",
   "name": "qpk"
  },
  "language_info": {
   "file_extension": ".q",
   "mimetype": "text/x-q",
   "name": "q",
   "version": "4.0"
  }
 },
 "nbformat": 4,
 "nbformat_minor": 4
}
