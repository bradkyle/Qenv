{
 "cells": [
  {
   "cell_type": "code",
   "execution_count": 4,
   "metadata": {},
   "outputs": [],
   "source": [
    "\\cd ../qenv"
   ]
  },
  {
   "cell_type": "code",
   "execution_count": 5,
   "metadata": {},
   "outputs": [
    {
     "name": "stdout",
     "output_type": "stream",
     "text": [
      "\"###################################################################################################\"\n",
      "\"                                             TEST\"\n",
      "\"###################################################################################################\"\n",
      "\"===================================================================================================\"\n",
      "\"31) .engine.logic.order.New (UNIT) :READY\"\n",
      "`Global function for processing new orders, amending orders and cancelling orders (amending to 0)\n",
      "\"---------------------------------------------------------------------------------------------------\"\n",
      "caseId state dscr                                                                                                    \n",
      "---------------------------------------------------------------------------------------------------------------------\n",
      "212    FAIL  Place new buy post only limit order at best price, no previous depth or agent orders should update depth\n",
      "213    FAIL  Place new buy post only limit order, previous depth, no agent orders should update depth                \n",
      "\"===================================================================================================\"\n",
      "\"34) .engine.logic.order.CancelAll (UNIT) :READY\"\n",
      "`Global function for processing new orders, amending orders and cancelling orders (amending to 0)\n",
      "\"---------------------------------------------------------------------------------------------------\"\n",
      "caseId state dscr                                                                                        \n",
      "---------------------------------------------------------------------------------------------------------\n",
      "216    ERROR Amend limit order (first in queue), smaller than previous, should update offsets, depth etc.\n",
      "\"===================================================================================================\"\n",
      "\"35) .engine.logic.orderbook.Level (UNIT) :READY\"\n",
      "`Given a depth update which consists of a table of time,side,pricesize update the orderbook and the individual order offsets/icebergorders where necessary\n",
      "\"---------------------------------------------------------------------------------------------------\"\n",
      "caseId state dscr                                            \n",
      "-------------------------------------------------------------\n",
      "217    FAIL  No change occurs and thus no update is triggered\n",
      "\"===================================================================================================\"\n",
      "\"36) .engine.logic.trade.Take (UNIT) :READY\"\n",
      "`Global function for creating a new account\n",
      "\"---------------------------------------------------------------------------------------------------\"\n",
      "caseId state dscr                                                                                                                                                                          \n",
      "-------------------------------------------------------------------------------------------------------------------------------------------------------------------------------------------\n",
      "218    ERROR 1a) Prj;essTrade SELL: has agent hidden jxders, lvl1 size > qty, trade djpsn't fill agentjider, trade executijy <= agent jrder jwfset, fill is agent (partial hidden qty fill)\n",
      "219    ERROR 1a) Prj;essTrade SELL: has agent hidden jxders, lvl1 size > qty, trade djpsn't fill agentjider, trade executijy <= agent jrder jwfset, fill is agent (partial hidden qty fill)\n",
      "\"                                                                                                                                                                                                                                                                                                                                                                                                                \"\n",
      "\"###################################################################################################\"\n",
      "\"                                      TESTS COMPLETED\"\n",
      "\"###################################################################################################\"\n",
      "state| x  \n",
      "-----| ---\n",
      "ERROR| 3  \n",
      "FAIL | 3  \n",
      "SKIP | 367\n",
      "\"                                                                                                                                                                                                                                                                                                                                                                                                                \"\n"
     ]
    }
   ],
   "source": [
    "\\l test.q"
   ]
  },
  {
   "cell_type": "code",
   "execution_count": 25,
   "metadata": {},
   "outputs": [],
   "source": [
    "c:((!) . flip(\n",
    "    (`instrument;(`iId`cntTyp`faceValue`mkprice`smul;enlist(0;0;1;1000;1))); \n",
    "    (`account;(`aId`avail`bal`lng`srt`ft`rt`wit`time`froz;enlist(0;0;0;(0 1);(0 -1);0;0;0;z;0))); \n",
    "    (`inventory;(`aId`side`mm`upnl`ordQty`ordLoss`amt;flip(0 0;-1 1;0 0;0 0;0 0;0 0;10 10))); \n",
    "    (`feetier;(`ftId`vol`bal`ref;flip(0 1;0 0;0 0;0 0))); // Update Account\n",
    "    (`orderbook;(`price`side`qty`hqty`iqty`vqty`time;enlist(1000 999 998 997;-1 -1 1 1;4#100;4#100;4#0;4#0;4#z)));\n",
    "    (`order;(`oId`aId`iId`ivId`side`oqty`price`reduce`dqty;enlist(0;0;0;(0 1);1;1;1000;1b;1)));\n",
    "    (`risktier;(`rtId`amt`lev;flip(0 1;50000 250000;125 100))) // Update Account\n",
    "    ));"
   ]
  },
  {
   "cell_type": "code",
   "execution_count": 25,
   "metadata": {},
   "outputs": [
    {
     "ename": "\u001b[0;31mrank\u001b[0m",
     "evalue": "\u001b[0;31mrank\u001b[0m",
     "output_type": "error",
     "traceback": [
      "\u001b[0;31mevaluation error:\n\u001b[0m",
      "\u001b[0;31mrank\u001b[0m",
      "\u001b[0;31m\u001b[0m",
      "\u001b[0;31m  [1]  /home/qenv/qenv/engine/logic/testutils.q:543: .engine.testutils.SwitchSetupModels:\n    if[`fill in k;.engine.model.fill.Fill,:.model.Fill . x[`fill]];\n    if[`orderbook in k;.engine.model.orderbook.Orderbook,:.model.Level . x[`orderbook]];\n                                                        ^\n    / if[`withdraw in k;.engine.model.fill.Fill,:.model.Fill . x[`fill]];\n\u001b[0m",
      "\u001b[0;31m  [0]  .engine.testutils.SwitchSetupModels[c];\n       ^\n\u001b[0m"
     ]
    }
   ],
   "source": [
    ".engine.testutils.SwitchSetupModels[c];"
   ]
  },
  {
   "cell_type": "code",
   "execution_count": 15,
   "metadata": {},
   "outputs": [
    {
     "data": {
      "text/plain": [
       "price| iId side qty hqty iqty vqty time                   \n",
       "-----| ---------------------------------------------------\n",
       "1000 |     1    100 100  0    0    2020.12.17T02:54:34.812\n"
      ]
     },
     "execution_count": 15,
     "metadata": {},
     "output_type": "execute_result"
    }
   ],
   "source": [
    ".engine.model.orderbook.Orderbook"
   ]
  },
  {
   "cell_type": "code",
   "execution_count": null,
   "metadata": {},
   "outputs": [],
   "source": []
  },
  {
   "cell_type": "code",
   "execution_count": 22,
   "metadata": {},
   "outputs": [],
   "source": [
    ".engine.model.orderbook.Orderbook,:flip .model.Level . (`price`side`qty`hqty`iqty`vqty`time;flip(1000 999 998 997;-1 -1 1 1;4#100;4#100;4#0;4#0;4#z))"
   ]
  },
  {
   "cell_type": "code",
   "execution_count": null,
   "metadata": {},
   "outputs": [],
   "source": []
  },
  {
   "cell_type": "code",
   "execution_count": null,
   "metadata": {},
   "outputs": [],
   "source": []
  },
  {
   "cell_type": "code",
   "execution_count": null,
   "metadata": {},
   "outputs": [],
   "source": []
  },
  {
   "cell_type": "code",
   "execution_count": null,
   "metadata": {},
   "outputs": [],
   "source": []
  },
  {
   "cell_type": "code",
   "execution_count": null,
   "metadata": {},
   "outputs": [],
   "source": []
  },
  {
   "cell_type": "code",
   "execution_count": null,
   "metadata": {},
   "outputs": [],
   "source": []
  },
  {
   "cell_type": "code",
   "execution_count": null,
   "metadata": {},
   "outputs": [],
   "source": []
  },
  {
   "cell_type": "code",
   "execution_count": null,
   "metadata": {},
   "outputs": [],
   "source": []
  }
 ],
 "metadata": {
  "kernelspec": {
   "display_name": "Q (kdb+)",
   "language": "q",
   "name": "qpk"
  },
  "language_info": {
   "file_extension": ".q",
   "mimetype": "text/x-q",
   "name": "q",
   "version": "4.0"
  }
 },
 "nbformat": 4,
 "nbformat_minor": 4
}
