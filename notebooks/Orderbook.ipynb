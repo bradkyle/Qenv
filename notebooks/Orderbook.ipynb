{
 "cells": [
  {
   "cell_type": "code",
   "execution_count": null,
   "metadata": {},
   "outputs": [],
   "source": []
  },
  {
   "cell_type": "code",
   "execution_count": 0,
   "metadata": {},
   "outputs": [
    {
     "ename": "\u001b[0;31mcl\u001b[0m",
     "evalue": "\u001b[0;31mcl\u001b[0m",
     "output_type": "error",
     "traceback": [
      "\u001b[0;31mevaluation error:\n\u001b[0m",
      "\u001b[0;31mcl\u001b[0m",
      "\u001b[0;31m\u001b[0m",
      "\u001b[0;31m  [13] /home/qenv/engine/logic/orderbook.q:104: \n                                // todo remove if o\n                                cl:`price`time`side`qty;\n                                ^\n                                .engine.Emit[`depth;l[`time];cl!ld[cl]];\n\u001b[0m",
      "\u001b[0;31m  [10] /home/qenv/engine/logic/init.q:8: \\l orderbook.q\n                                         ^\n\u001b[0m",
      "\u001b[0;31m  [7]  /home/qenv/engine/init.q:4: \\l logic/init.q\n                                   ^\n\u001b[0m",
      "\u001b[0;31m  [4]  \\l engine/init.q\n       ^\n\u001b[0m",
      "\u001b[0;31m  [3]  /home/qenv/init.q:10: system\"l engine/init.q\";\n                             ^\n\u001b[0m",
      "\u001b[0;31m  [0]  \\l /home/qenv/init.q\n       ^\n\u001b[0m"
     ]
    }
   ],
   "source": [
    "\\cd /home/qenv\n",
    "\\c 5000 5000\n",
    "\\l /home/qenv/init.q"
   ]
  },
  {
   "cell_type": "code",
   "execution_count": null,
   "metadata": {},
   "outputs": [],
   "source": []
  },
  {
   "cell_type": "code",
   "execution_count": null,
   "metadata": {},
   "outputs": [],
   "source": []
  },
  {
   "cell_type": "code",
   "execution_count": null,
   "metadata": {},
   "outputs": [],
   "source": []
  },
  {
   "cell_type": "code",
   "execution_count": null,
   "metadata": {},
   "outputs": [],
   "source": []
  },
  {
   "cell_type": "code",
   "execution_count": null,
   "metadata": {},
   "outputs": [],
   "source": []
  },
  {
   "cell_type": "code",
   "execution_count": null,
   "metadata": {},
   "outputs": [],
   "source": []
  },
  {
   "cell_type": "code",
   "execution_count": null,
   "metadata": {},
   "outputs": [],
   "source": []
  },
  {
   "cell_type": "code",
   "execution_count": null,
   "metadata": {},
   "outputs": [],
   "source": []
  },
  {
   "cell_type": "code",
   "execution_count": null,
   "metadata": {},
   "outputs": [],
   "source": []
  }
 ],
 "metadata": {
  "kernelspec": {
   "display_name": "Q (kdb+)",
   "language": "q",
   "name": "qpk"
  },
  "language_info": {
   "file_extension": ".q",
   "mimetype": "text/x-q",
   "name": "q",
   "version": "4.0"
  }
 },
 "nbformat": 4,
 "nbformat_minor": 4
}
