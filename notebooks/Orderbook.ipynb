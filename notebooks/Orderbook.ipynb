{
 "cells": [
  {
   "cell_type": "code",
   "execution_count": null,
   "metadata": {},
   "outputs": [],
   "source": []
  },
  {
   "cell_type": "code",
   "execution_count": 92,
   "metadata": {},
   "outputs": [],
   "source": [
    "\\cd /home/qenv\n",
    "\\c 5000 5000\n",
    "\\l /home/qenv/init.q"
   ]
  },
  {
   "cell_type": "code",
   "execution_count": 93,
   "metadata": {},
   "outputs": [],
   "source": [
    "\\l /home/qenv/ingest/client.q"
   ]
  },
  {
   "cell_type": "code",
   "execution_count": 94,
   "metadata": {},
   "outputs": [
    {
     "name": "stdout",
     "output_type": "stream",
     "text": [
      "`depth\n",
      "`mark\n",
      "`depth\n",
      "`pricerange\n",
      "`depth\n",
      "`mark\n",
      "`depth\n",
      "`pricerange\n",
      "`depth\n",
      "`mark\n",
      "`depth\n",
      "0 1\n"
     ]
    },
    {
     "data": {
      "text/plain": [
       "accountId| balance available frozen maintMargin 1_amt -1_amt 1_realizedPnl -1_realizedPnl 1_avgPrice -1_avgPrice 1_unrealizedPnl -1_unrealizedPnl 0_-1_0_leaves 1_-1_0_leaves 2_-1_0_leaves 3_-1_0_leaves 4_-1_0_leaves 5_-1_0_leaves 6_-1_0_leaves 7_-1_0_leaves 8_-1_0_leaves 9_-1_0_leaves 10_-1_0_leaves 0_1_0_leaves 1_1_0_leaves 2_1_0_leaves 3_1_0_leaves 4_1_0_leaves 5_1_0_leaves 6_1_0_leaves 7_1_0_leaves 8_1_0_leaves 9_1_0_leaves 10_1_0_leaves 0_-1_1_leaves 1_-1_1_leaves 2_-1_1_leaves 3_-1_1_leaves 4_-1_1_leaves 5_-1_1_leaves 6_-1_1_leaves 7_-1_1_leaves 8_-1_1_leaves 9_-1_1_leaves 10_-1_1_leaves 0_1_1_leaves 1_1_1_leaves 2_1_1_leaves 3_1_1_leaves 4_1_1_leaves 5_1_1_leaves 6_1_1_leaves 7_1_1_leaves 8_1_1_leaves 9_1_1_leaves 10_1_1_leaves 0 1 2 3 4 5 6 7 8 9 10 11 12 13 14 15 16 17 18 19 20 21 22 23 24 25 26 27 28            29            30            31            32           33           34           35           36 37 38 39 40 41            42            43            44            45           46           47           48           49 50 51 52 53 54            55            56            57            58           59           60           61           62 63 64 65 66 67 68            69            70            71            72           73           74           75           76 77 78 79 80 81      \n",
       "---------| --------------------------------------------------------------------------------------------------------------------------------------------------------------------------------------------------------------------------------------------------------------------------------------------------------------------------------------------------------------------------------------------------------------------------------------------------------------------------------------------------------------------------------------------------------------------------------------------------------------------------------------------------------------------------------------------------------------------------------------------------------------------------------------------------------------------------------------------------------------------------------------------------------------------------------------------------------------------------------------------------------------------------------------------------------------------------------------------------------------------------------------------------------------------------------------------------------------------------------------------------------------------------------------------------------------------------------------------------------------\n",
       "0        | 7       7         0      0           0     0      0             0              0          0           0               0                0             0             0             0             0             0             0             0             0             0             0              0            0            0            0            0            0            0            0            0            0            0             0             0             0             0             0             0             0             0             0             0             0              0            0            0            0            0            0            0            0            0            0            0             0 0 0 0 0 0 0 0 0 0 0  0  0  0  0  0  0  0  0  0  0  0  0  0  0  0  0  0  -9.223372e+18 -9.223372e+18 -9.223372e+18 -9.223372e+18 9.223372e+18 9.223372e+18 9.223372e+18 9.223372e+18 0  0  0  0  0  -9.223372e+18 -9.223372e+18 -9.223372e+18 -9.223372e+18 9.223372e+18 9.223372e+18 9.223372e+18 9.223372e+18 0  0  0  0  0  -9.223372e+18 -9.223372e+18 -9.223372e+18 -9.223372e+18 9.223372e+18 9.223372e+18 9.223372e+18 9.223372e+18 0  0  0  0  0  0  -9.223372e+18 -9.223372e+18 -9.223372e+18 -9.223372e+18 9.223372e+18 9.223372e+18 9.223372e+18 9.223372e+18 0  0  0  0  0  7645.154\n",
       "1        | 7       6         0      0           0     0      0             0              0          0           0               0                0             0             0             0             0             0             0             0             0             0             0              0            0            0            0            0            0            0            0            0            0            0             0             0             0             0             0             0             0             0             0             0             0              0            0            0            0            0            0            0            0            0            0            0             0 0 0 0 0 0 0 0 0 0 0  0  0  0  0  0  0  0  0  0  0  0  0  0  0  0  0  0  -9.223372e+18 -9.223372e+18 -9.223372e+18 -9.223372e+18 9.223372e+18 9.223372e+18 9.223372e+18 9.223372e+18 0  0  0  0  0  -9.223372e+18 -9.223372e+18 -9.223372e+18 -9.223372e+18 9.223372e+18 9.223372e+18 9.223372e+18 9.223372e+18 0  0  0  0  0  -9.223372e+18 -9.223372e+18 -9.223372e+18 -9.223372e+18 9.223372e+18 9.223372e+18 9.223372e+18 9.223372e+18 0  0  0  0  0  0  -9.223372e+18 -9.223372e+18 -9.223372e+18 -9.223372e+18 9.223372e+18 9.223372e+18 9.223372e+18 9.223372e+18 0  0  0  0  0  7645.154\n"
      ]
     },
     "execution_count": 94,
     "metadata": {},
     "output_type": "execute_result"
    }
   ],
   "source": [
    ".env.Reset[til 2]"
   ]
  },
  {
   "cell_type": "code",
   "execution_count": null,
   "metadata": {},
   "outputs": [],
   "source": []
  },
  {
   "cell_type": "code",
   "execution_count": 95,
   "metadata": {},
   "outputs": [
    {
     "name": "stdout",
     "output_type": "stream",
     "text": [
      "\"xevent count:3\"\n",
      "`depth\n",
      "`pricerange\n",
      "`mark\n",
      "`depth\n",
      "`mark\n",
      "`trade\n",
      "`depth\n",
      "`mark\n",
      "`depth\n",
      "0 1\n",
      "\"---------------------------------------------------------------------------------------------------\"\n",
      "0 1\n"
     ]
    },
    {
     "data": {
      "text/plain": [
       "(+(,`accountId)!,0 1)!+`balance`available`frozen`maintMargin`1_amt`-1_amt`1_realizedPnl`-1_realizedPnl`1_avgPrice`-1_avgPrice`1_unrealizedPnl`-1_unrealizedPnl`0_-1_0_leaves`1_-1_0_leaves`2_-1_0_leaves`3_-1_0_leaves`4_-1_0_leaves`5_-1_0_leaves`6_-1_0_leaves`7_-1_0_leaves`8_-1_0_leaves`9_-1_0_leaves`10_-1_0_leaves`0_1_0_leaves`1_1_0_leaves`2_1_0_leaves`3_1_0_leaves`4_1_0_leaves`5_1_0_leaves`6_1_0_leaves`7_1_0_leaves`8_1_0_leaves`9_1_0_leaves`10_1_0_leaves`0_-1_1_leaves`1_-1_1_leaves`2_-1_1_leaves`3_-1_1_leaves`4_-1_1_leaves`5_-1_1_leaves`6_-1_1_leaves`7_-1_1_leaves`8_-1_1_leaves`9_-1_1_leaves`10_-1_1_leaves`0_1_1_leaves`1_1_1_leaves`2_1_1_leaves`3_1_1_leaves`4_1_1_leaves`5_1_1_leaves`6_1_1_leaves`7_1_1_leaves`8_1_1_leaves`9_1_1_leaves`10_1_1_leaves`0`1`2`3`4`5`6`7`8`9`10`11`12`13`14`15`16`17`18`19`20`21`22`23`24`25`26`27`28`29`30`31`32`33`34`35`36`37`38`39`40`41`42`43`44`45`46`47`48`49`50`51`52`53`54`55`56`57`58`59`60`61`62`63`64`65`66`67`68`69`70`71`72`73`74`75`76`77`78`79`80`81!(7 7f;7 6f;0 0f;0 0f;0 0f;0 0f;0 0f;0 0f;0 0f;0 0f;0 0f;0 0f;0 0f;0 0f;0 0f;0 0f;0 0f;0 0f;0 0f;0 0f;0 0f;0 0f;0 0f;0 0f;0 0f;0 0f;0 0f;0 0f;0 0f;0 0f;0 0f;0 0f;0 0f;0 0f;0 0f;0 0f;0 0f;0 0f;0 0f;0 0f;0 0f;0 0f;0 0f;0 0f;0 0f;0 0f;0 0f;0 0f;0 0f;0 0f;0 0f;0 0f;0 0f;0 0f;0 0f;0 0f;0 0f;0 0f;0 0f;0 0f;0 0f;0 0f;0 0f;0 0f;0 0f;0 0f;0 0f;0 0f;0 0f;0 0f;0 0f;0 0f;0 0f;0 0f;0 0f;0 0f;0 0f;0 0f;0 0f;0 0f;0 0f;0 0f;0 0f;0 0f;-9.223372e+18 -9.223372e+18;-9.223372e+18 -9.223372e+18;-9.223372e+18 -9.223372e+18;-9.223372e+18 -9.223372e+18;9.223372e+18 9.223372e+18;9.223372e+18 9.223372e+18;9.223372e+18 9.223372e+18;9.223372e+18 9.223372e+18;0 0f;0 0f;0 0f;0 0f;0 0f;-9.223372e+18 -9.223372e+18;-9.223372e+18 -9.223372e+18;-9.223372e+18 -9.223372e+18;-9.223372e+18 -9.223372e+18;9.223372e+18 9.223372e+18;9.223372e+18 9.223372e+18;9.223372e+18 9.223372e+18;9.223372e+18 9.223372e+18;0 0f;0 0f;0 0f;0 0f;0 0f;-9.223372e+18 -9.223372e+18;-9.223372e+18 -9.223372e+18;-9.223372e+18 -9.223372e+18;-9.223372e+18 -9...\n",
       "(+(,`accountId)!,0 1)!+(,`reward)!,0 0f\n",
       "00b\n"
      ]
     },
     "execution_count": 95,
     "metadata": {},
     "output_type": "execute_result"
    }
   ],
   "source": [
    ".env.Step[((0;2);(1;3))]"
   ]
  },
  {
   "cell_type": "code",
   "execution_count": 82,
   "metadata": {},
   "outputs": [
    {
     "data": {
      "text/plain": [
       "1 76\n",
       "1 76\n",
       "1 2 \n",
       "1 1 \n"
      ]
     },
     "execution_count": 82,
     "metadata": {},
     "output_type": "execute_result"
    }
   ],
   "source": [
    ".bam.x"
   ]
  },
  {
   "cell_type": "code",
   "execution_count": 34,
   "metadata": {},
   "outputs": [
    {
     "ename": "\u001b[0;31mtype\u001b[0m",
     "evalue": "\u001b[0;31mtype\u001b[0m",
     "output_type": "error",
     "traceback": [
      "\u001b[0;31mevaluation error:\n\u001b[0m",
      "\u001b[0;31mtype\u001b[0m",
      "\u001b[0;31m\u001b[0m",
      "\u001b[0;31m  [1]  /home/qenv/engine/logic/trade.q:183: .engine.logic.trade.Trade:\n        a:x where not s;\n        if[count[b]>0;.engine.logic.trade.Take[1;t where b;i;x where b]];\n                                                               ^\n        if[count[a]>0;.engine.logic.trade.Take[-1;t where a;i;x where a]];\n\u001b[0m",
      "\u001b[0;31m  [0]  .engine.logic.trade.Trade[.bam.t;.bam.i;.bam.x]\n       ^\n\u001b[0m"
     ]
    }
   ],
   "source": [
    ".engine.logic.trade.Trade[.bam.t;.bam.i;.bam.x]"
   ]
  },
  {
   "cell_type": "code",
   "execution_count": 35,
   "metadata": {},
   "outputs": [],
   "source": [
    "s:(.bam.x[;0]>0)"
   ]
  },
  {
   "cell_type": "code",
   "execution_count": 44,
   "metadata": {},
   "outputs": [],
   "source": [
    "o:.engine.model.orderbook.GetLevel[()]"
   ]
  },
  {
   "cell_type": "code",
   "execution_count": 55,
   "metadata": {},
   "outputs": [],
   "source": [
    "o,: flip`price`side`qty`hqty`iqty`vqty!(1000 1001;1 1;1000 1000;1000 1000;1000 1000;1000 1000)"
   ]
  },
  {
   "cell_type": "code",
   "execution_count": 56,
   "metadata": {},
   "outputs": [],
   "source": [
    ".engine.model.orderbook.GetLevel:{[x;y] x}[o]"
   ]
  },
  {
   "cell_type": "code",
   "execution_count": 113,
   "metadata": {},
   "outputs": [],
   "source": [
    "\\l /home/qenv/engine/logic/trade.q\n",
    "\\l /home/qenv/engine/model/order.q"
   ]
  },
  {
   "cell_type": "code",
   "execution_count": 103,
   "metadata": {},
   "outputs": [],
   "source": [
    "s:(.bam.x[;0]>0);\n",
    "b:where s;\n",
    "a:where not s;\n",
    "if[count[b]>0;.engine.logic.trade.Take[1;.bam.t b;.bam.i;.bam.x b]];\n",
    "if[count[a]>0;.engine.logic.trade.Take[-1;.bam.t a;.bam.i;.bam.x a]];"
   ]
  },
  {
   "cell_type": "code",
   "execution_count": 109,
   "metadata": {},
   "outputs": [
    {
     "data": {
      "text/plain": [
       "oId| side acc invn price lprice sprice trig tif okind oskind reduce state oqty dqty lqty offset einst status\n",
       "---| -------------------------------------------------------------------------------------------------------\n",
       "0  |                                                         0                                              \n"
      ]
     },
     "execution_count": 109,
     "metadata": {},
     "output_type": "execute_result"
    }
   ],
   "source": [
    ".engine.model.order.Order"
   ]
  },
  {
   "cell_type": "code",
   "execution_count": 115,
   "metadata": {},
   "outputs": [
    {
     "ename": "\u001b[0;31m.engine.model.inventory.Inventory\u001b[0m",
     "evalue": "\u001b[0;31m.engine.model.inventory.Inventory\u001b[0m",
     "output_type": "error",
     "traceback": [
      "\u001b[0;31mevaluation error:\n\u001b[0m",
      "\u001b[0;31m.engine.model.inventory.Inventory\u001b[0m",
      "\u001b[0;31m\u001b[0m",
      "\u001b[0;31m  [0]  .engine.model.order.Order,:(1;-1;0;0;1000;0;0;0;0;1;0;0b;0;100;100;100;0;0);\n                                ^\n\u001b[0m"
     ]
    }
   ],
   "source": [
    ".engine.model.order.Order,:(1;-1;0;1000;0;0;0;0;1;0;0b;0;100;100;100;0;0);"
   ]
  },
  {
   "cell_type": "code",
   "execution_count": 116,
   "metadata": {},
   "outputs": [
    {
     "data": {
      "text/plain": [
       "aId side| ordQty ordVal ordLoss amt iw mm posVal rpnl avgPrice execCost upnl lev\n",
       "--------| ----------------------------------------------------------------------\n",
       "0   1   | 0      0      0       0   0  0  0      0    0        0        0    0  \n",
       "0   -1  | 0      0      0       0   0  0  0      0    0        0        0    0  \n",
       "1   1   | 0      0      0       0   0  0  0      0    0        0        0    0  \n",
       "1   -1  | 0      0      0       0   0  0  0      0    0        0        0    0  \n"
      ]
     },
     "execution_count": 116,
     "metadata": {},
     "output_type": "execute_result"
    }
   ],
   "source": [
    ".engine.model.inventory.Inventory"
   ]
  },
  {
   "cell_type": "code",
   "execution_count": null,
   "metadata": {},
   "outputs": [],
   "source": []
  },
  {
   "cell_type": "code",
   "execution_count": null,
   "metadata": {},
   "outputs": [],
   "source": []
  },
  {
   "cell_type": "code",
   "execution_count": null,
   "metadata": {},
   "outputs": [],
   "source": []
  },
  {
   "cell_type": "code",
   "execution_count": null,
   "metadata": {},
   "outputs": [],
   "source": []
  },
  {
   "cell_type": "code",
   "execution_count": null,
   "metadata": {},
   "outputs": [],
   "source": []
  },
  {
   "cell_type": "code",
   "execution_count": null,
   "metadata": {},
   "outputs": [],
   "source": []
  },
  {
   "cell_type": "code",
   "execution_count": null,
   "metadata": {},
   "outputs": [],
   "source": []
  }
 ],
 "metadata": {
  "kernelspec": {
   "display_name": "Q (kdb+)",
   "language": "q",
   "name": "qpk"
  },
  "language_info": {
   "file_extension": ".q",
   "mimetype": "text/x-q",
   "name": "q",
   "version": "4.0"
  }
 },
 "nbformat": 4,
 "nbformat_minor": 4
}
