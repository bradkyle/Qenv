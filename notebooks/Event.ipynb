{
 "cells": [
  {
   "cell_type": "code",
   "execution_count": 2,
   "metadata": {},
   "outputs": [],
   "source": [
    "\\cd ../qenv"
   ]
  },
  {
   "cell_type": "code",
   "execution_count": 3,
   "metadata": {},
   "outputs": [
    {
     "name": "stdout",
     "output_type": "stream",
     "text": [
      "`aId`side`mm`upnl`ordQty`ordLoss`ordVal`amt`totEnt\n",
      "(0 -1 0 0 0 0 0 10 10;0 1 0 0 0 0 0 10 10)\n",
      "`fId`price`side`qty`reduce`ismaker`oId`aId`iId`time`ivId\n",
      "((0;1000;1;100;0b;0b;0;0;0;2020.12.14T14:40:26.191;0 -1);(1;1000;-1;100;1b;1b;0;0;0;2020.12.14T14:40:26.191;0 1))\n",
      "0 -1\n",
      "0 1 \n",
      "`.engine.model.inventory.Inventory!0 1\n",
      "\"###################################################################################################\"\n",
      "\"                                             TEST\"\n",
      "\"###################################################################################################\"\n",
      "\"===================================================================================================\"\n",
      "\"36) .engine.logic.inventory.Fill (UNIT) :READY\"\n",
      "`Function for deriving the exec cost from the qty and the price\n",
      "\"---------------------------------------------------------------------------------------------------\"\n",
      "caseId state dscr                                            \n",
      "-------------------------------------------------------------\n",
      "228    ERROR INVERSE:flat to long: UPL: 0, RPL:0 ONE POSITION\n",
      "\"                                                                                                                                                                                                                                                                                                                                                                                                                \"\n",
      "\"###################################################################################################\"\n",
      "\"                                      TESTS COMPLETED\"\n",
      "\"###################################################################################################\"\n",
      "state| x  \n",
      "-----| ---\n",
      "ERROR| 1  \n",
      "SKIP | 379\n",
      "\"                                                                                                                                                                                                                                                                                                                                                                                                                \"\n"
     ]
    }
   ],
   "source": [
    "\\l test.q"
   ]
  },
  {
   "cell_type": "code",
   "execution_count": 5,
   "metadata": {},
   "outputs": [
    {
     "data": {
      "text/plain": [
       "fId time                    price qty reduce ismaker side iId oId ivId aId kind      avgPrice execCost ordLoss ordVal     ordQty amt totEnt upnl rpnl\n",
       "-----------------------------------------------------------------------------------------------------------------------------------------------------\n",
       "0   2020.12.14T14:40:26.191 1000  100 0      0       1    0   0   0    0   inventory 0        10000000 0       -100000000 -100   110 210    0    0   \n",
       "1   2020.12.14T14:40:26.191 1000  100 1      1       -1   0   0   1    0   inventory 0        10000000 0       -100000000 -100   110 210    0    0   \n"
      ]
     },
     "execution_count": 5,
     "metadata": {},
     "output_type": "execute_result"
    }
   ],
   "source": [
    ".bam.iv"
   ]
  },
  {
   "cell_type": "code",
   "execution_count": null,
   "metadata": {},
   "outputs": [],
   "source": [
    ".engine.model.fill.Fill:([fId:`long$()];time:`datetime$();price:`long$();qty:`long$();reduce:`boolean$();\n",
    "\tismaker:`boolean$();side:`long$();iId:`.engine.model.instrument.Instrument$();\n",
    "  oId:`.engine.model.order.Order$();ivId:`.engine.model.inventory.Inventory$();\n",
    "  aId:`.engine.model.account.Account$());"
   ]
  },
  {
   "cell_type": "code",
   "execution_count": 15,
   "metadata": {},
   "outputs": [],
   "source": [
    ".event.RmFk : {fk:key fkeys x;x[fk]:7h$x[fk];x};\n",
    ".event.Event: {e:flip `time`datum`aId!y;e[`kind]:x;e};\n",
    ".event.Failure :{()}\n",
    ".event.Account : {.event.Event[`account;((flip .event.RmFk[flip x]`time;flipx`aId`time`bal`avail`froz);7h$x`aId)]}\n",
    ".event.Inventory :{.event.Event[`inventory;(x`time;(flip .event.RmFk[flip x]`aId`side`time`amt`rpnl`avgPrice`upnl);7h$x`aId)]}\n",
    ".event.Order     :{.event.Event[`order;(x`time;(flip .event.RmFk[flip x]`oId`time`aId`amt`rpnl`avgPrice`upnl);7h$x`aId)]}\n",
    ".event.Deposit :{}\n",
    ".event.Withdraw :{}\n",
    ".event.Funding :{}\n",
    ".event.Mark:{}\n",
    ".event.Settlement:{}\n",
    ".event.PriceLimit :{}\n",
    ".event.Level:{}\n",
    ".event.Trade:{}\n",
    ".event.Order:{}\n",
    ".event.Instrument:{}\n",
    ".event.Fill:{.event.Event[`order;(x`time;(flip .event.RmFk[flip x]`oId`time`aId`qty`price);7h$x`aId)]}\n",
    ".event.Liquidation:{}"
   ]
  },
  {
   "cell_type": "code",
   "execution_count": 21,
   "metadata": {},
   "outputs": [
    {
     "data": {
      "text/plain": [
       "fId     | 0\n",
       "time    | 2020.12.14T14:40:26.191\n",
       "price   | 1000\n",
       "qty     | 100\n",
       "reduce  | 0b\n",
       "ismaker | 0b\n",
       "side    | 1\n",
       "iId     | `.engine.model.instrument.Instrument$0\n",
       "oId     | `.engine.model.order.Order$0\n",
       "ivId    | `.engine.model.inventory.Inventory!0\n",
       "aId     | `.engine.model.account.Account$0\n",
       "kind    | `inventory\n",
       "avgPrice| 0\n",
       "execCost| 10000000\n",
       "ordLoss | 0\n",
       "ordVal  | -100000000\n",
       "ordQty  | -100\n",
       "amt     | 110\n",
       "totEnt  | 210\n",
       "upnl    | 0\n",
       "rpnl    | 0\n"
      ]
     },
     "execution_count": 21,
     "metadata": {},
     "output_type": "execute_result"
    }
   ],
   "source": [
    "first .bam.iv"
   ]
  },
  {
   "cell_type": "code",
   "execution_count": 22,
   "metadata": {},
   "outputs": [
    {
     "data": {
      "text/plain": [
       "time                    datum                                 aId kind     \n",
       "---------------------------------------------------------------------------\n",
       "2020.12.14T14:40:26.191 0 1 2020.12.14T14:40:26.191 110 0 0 0 0   inventory\n"
      ]
     },
     "execution_count": 22,
     "metadata": {},
     "output_type": "execute_result"
    }
   ],
   "source": [
    ".event.Inventory[flip enlist first .bam.iv]"
   ]
  },
  {
   "cell_type": "code",
   "execution_count": null,
   "metadata": {},
   "outputs": [],
   "source": []
  },
  {
   "cell_type": "code",
   "execution_count": 26,
   "metadata": {},
   "outputs": [
    {
     "name": "stdout",
     "output_type": "stream",
     "text": [
      "\"###################################################################################################\"\n",
      "\"                                             TEST\"\n",
      "\"###################################################################################################\"\n",
      "\"===================================================================================================\"\n",
      "\"27) .engine.logic.instrument.Funding (UNIT) :READY\"\n",
      "`Global function for creating a new account\n",
      "\"---------------------------------------------------------------------------------------------------\"\n",
      "caseId state dscr                         \n",
      "------------------------------------------\n",
      "204    ERROR Positive Funding: no accounts\n",
      "205    ERROR Negative Funding: No accounts\n",
      "\"                                                                                                                                                                                                                                                                                                                                                                                                                \"\n",
      "\"###################################################################################################\"\n",
      "\"                                      TESTS COMPLETED\"\n",
      "\"###################################################################################################\"\n",
      "state| x  \n",
      "-----| ---\n",
      "ERROR| 2  \n",
      "SKIP | 384\n",
      "\"                                                                                                                                                                                                                                                                                                                                                                                                                \"\n"
     ]
    }
   ],
   "source": [
    "\\l test.q"
   ]
  },
  {
   "cell_type": "code",
   "execution_count": 36,
   "metadata": {},
   "outputs": [],
   "source": [
    " `time`datum`aId!.bam.e"
   ]
  },
  {
   "cell_type": "code",
   "execution_count": null,
   "metadata": {},
   "outputs": [],
   "source": []
  },
  {
   "cell_type": "code",
   "execution_count": null,
   "metadata": {},
   "outputs": [],
   "source": []
  },
  {
   "cell_type": "code",
   "execution_count": null,
   "metadata": {},
   "outputs": [],
   "source": []
  },
  {
   "cell_type": "code",
   "execution_count": 1,
   "metadata": {},
   "outputs": [],
   "source": [
    ".event.Event\t\t\t\t:{(time:x[])};\n",
    ".event.Failure \t\t\t:{()}\n",
    ".event.Account \t\t\t:{.event.Event[`account;(x`time;(x`aId`time`bal`avail`froz);7h$x`aId)]}\n",
    ".event.Inventory\t\t:{.event.Event[`inventory;(x`time;(x`aId`side`time`amt`rpnl`avgPrice`upnl);7h$x`aId)]}\n",
    ".event.Order     \t\t:{.event.Event[`order;(x`time;(flip .event.RmFk[flip x]`oId`time`aId`amt`rpnl`avgPrice`upnl);7h$x`aId)]}\n",
    ".event.Deposit \t\t\t:{.event.Event[`deposit;(x`time;(x`aId`time`dep);7h$x`aId)]}\n",
    ".event.Withdraw \t\t:{.event.Event[`withdraw;(x`time;(x`aId`time`wit);7h$x`aId)]}\n",
    ".event.Funding \t\t\t:{}\n",
    ".event.Mark\t\t\t\t\t:{}\n",
    ".event.Settlement\t\t:{}\n",
    ".event.PriceLimit \t:{}\n",
    ".event.Level        :{}\n",
    ".event.Trade\t\t\t\t:{}\n",
    ".event.Order\t\t\t\t:{}\n",
    ".event.Instrument   :{}\n",
    ".event.Fill\t\t\t\t\t:{.event.Event[`fill;(x`time;(flip .event.RmFk[flip x]`oId`time`aId`qty`price);7h$x`aId)]}\n",
    ".event.Liquidation\t:{}"
   ]
  },
  {
   "cell_type": "code",
   "execution_count": 3,
   "metadata": {},
   "outputs": [],
   "source": [
    ".event.Account \t\t\t:{(kind:`account;time:x`time;datum:(x`aId`time`bal`avail`froz);aId:7h$x`aId)}\n",
    ".event.Inventory\t\t:{(kind:`inventory;time:x`time;datum:x`aId`side`time`amt`rpnl`avgPrice`upnl;aId:7h$x`aId)}\n",
    ".event.Order     \t\t:{(kind:`order;time:x`time;datum:x`oId`time`aId`amt`rpnl`avgPrice`upnl;aId:7h$x`aId)}\n",
    ".event.Deposit \t\t\t:{(kind:`deposit;time:x`time;datum:x`aId`time`dep;aId:7h$x`aId)}"
   ]
  },
  {
   "cell_type": "code",
   "execution_count": 4,
   "metadata": {},
   "outputs": [
    {
     "data": {
      "text/plain": [
       "{(kind:`account;time:x`time;datum:(x`aId`time`bal`avail`froz);aId:7h$x`aId)}\n"
      ]
     },
     "execution_count": 4,
     "metadata": {},
     "output_type": "execute_result"
    }
   ],
   "source": [
    ".event.Account"
   ]
  },
  {
   "cell_type": "code",
   "execution_count": 6,
   "metadata": {},
   "outputs": [],
   "source": [
    "\\cd ../qenv"
   ]
  },
  {
   "cell_type": "code",
   "execution_count": 7,
   "metadata": {},
   "outputs": [
    {
     "name": "stdout",
     "output_type": "stream",
     "text": [
      "\"###################################################################################################\"\n",
      "\"                                             TEST\"\n",
      "\"###################################################################################################\"\n",
      "\"===================================================================================================\"\n",
      "\"35) .engine.logic.orderbook.Level (UNIT) :READY\"\n",
      "`Given a depth update which consists of a table of time,side,pricesize update the orderbook and the individual order offsets/icebergorders where necessary\n",
      "\"---------------------------------------------------------------------------------------------------\"\n",
      "caseId state dscr                                            \n",
      "-------------------------------------------------------------\n",
      "217    ERROR No change occurs and thus no update is triggered\n",
      "\"                                                                                                                                                                                                                                                                                                                                                                                                                \"\n",
      "\"###################################################################################################\"\n",
      "\"                                      TESTS COMPLETED\"\n",
      "\"###################################################################################################\"\n",
      "state| x  \n",
      "-----| ---\n",
      "ERROR| 1  \n",
      "SKIP | 372\n",
      "\"                                                                                                                                                                                                                                                                                                                                                                                                                \"\n"
     ]
    }
   ],
   "source": [
    "\\l test.q"
   ]
  },
  {
   "cell_type": "code",
   "execution_count": 8,
   "metadata": {},
   "outputs": [
    {
     "data": {
      "text/plain": [
       "testId| `.qt.Test$35\n",
       "state | `.qt.TESTSTATE$`ERROR\n",
       "dscr  | `No change occurs and thus no update is triggered\n",
       "msg   | `error: type\n",
       "backtrace:\n",
       "  [24] (.q.xgroup)\n",
       "\n",
       "  [23] /home/qenv/qenv/engine/logic/orderbook.q:12: .engine.logic.orderbook.Level:\n",
       "                x[`nqty]:x`qty;\n",
       "                s:lj[`side`price xgroup x;`side`price xkey c];\n",
       "                                 ^\n",
       "                dlts:(-/)(0!s)[`qty`nqty];\n",
       "  [22] /home/qenv/qenv/engine/logic/orderbookTest.q:66: \n",
       "        a:.model.Level . p`args;\n",
       "        res:.engine.logic.orderbook.Level[a];\n",
       "            ^\n",
       "\n",
       "  [21] (.Q.trp)\n",
       "\n",
       "  [20] /home/qenv/qenv/quantest/quantest.q:149: .qt.runCase:\n",
       "    test[`beforeEach][];\n",
       "    res: .Q.trp[test[`func];case;{(`ERROR;\"error: \",x,\"\\nbacktrace:\\n\",.Q.sbt y)}];\n",
       "         ^\n",
       "    / show res;\n",
       "  [19] /home/qenv/qenv/quantest/quantest.q:178: .qt.runTest@:{runCase[x[0];x[1]]}\n",
       "                                                              ^\n",
       "  [18] (.q.each)\n",
       "\n",
       "  [17] /home/qenv/qenv/quantest/quantest.q:178: .qt.runTest:\n",
       "    test[`start]:.z.z;\n",
       "    {runCase[x[0];x[1]]} each flip[(count[cases]#enlist test;cases)]; // TODO fix messy\n",
       "                         ^\n",
       "    test[`end]:.z.z;\n",
       "  [16] (.q.each)\n",
       "\n",
       "  [15] /home/qenv/qenv/quantest/quantest.q:196: .qt._RunTests:{[vbs]\n",
       "    runTest each select from 0!.qt.Test where state in `READY`SILENT;\n",
       "            ^\n",
       "    show 99#\"#\";show (45#\" \"),\"TEST\";show 99#\"#\";\n",
       "  [14] /home/qenv/qenv/quantest/quantest.q:210: .qt.RunTests:{.qt._RunTests[0b]}\n",
       "                                                              ^\n",
       "  [13] /home/qenv/qenv/test.q:47: \n",
       "\n",
       "    .qt.RunTests[];\n",
       "    ^\n",
       "    }\n",
       "  [12] (.Q.trp)\n",
       "\n",
       "  [11] /home/qenv/qenv/test.q:12: .Q.trp[{\n",
       "                                  ^\n",
       "    // Load common dependencies\n",
       "  [8]  \\l test.q\n",
       "       ^\n",
       "  [7]  (.Q.trp)\n",
       "\n",
       "  [6]  /home/kx/.conda/envs/kx/q/jupyterq_execution.q:39: {krnsnd[`.qpk.srvres].Q.trp[(0;)@\"q\"@;x;ef]}\n",
       "                                                                               ^\n",
       "  [5]  /home/kx/.conda/envs/kx/q/jupyterq_execution.q:36: .qpk.l@:k){x y}\n",
       "                                                                     ^\n",
       "  [4] ..\n",
       "params| `setup`args`eRes`mocks`err!(`instrument`account`inventory`feetier`orderbook`risktier!((`iId`cntTyp`faceValue`mkprice`smul;,0 0 1 1000 1);(`aId`avail`bal`lng`srt`ft`rt`wit`time`froz;,(0;0;0;0 1;0 -1;0;0;0;2020.12.14T22:23:09.563;0));(`aId`side`mm`upnl`ordQty`ordLoss`amt;(0 -1 0 0 0 0 10;0 1 0 0 0 0 10));(`ftId`vol`bal`ref;(0 0 0 0;1 0 0 0));(`price`side`qty`hqty`iqty`vqty`time;,(1000;1;100;100;0;0;2020.12.14T22:23:09.563));(`rtId`amt`lev;(0 50000 125;1 250000 100)));(`price`side`qty`hqty`iqty`vqty`time;,(1000;1;100;100;0;0;2020.12.14T22:23:09.563));();enlist[(1b;1;();());(1b;1;();());(1b;1;();());(1b;1;();());(1b;1;();());];())\n",
       "repeat| 0\n",
       "retry | 0\n",
       "start | 2020.12.14T22:23:09.571\n",
       "end   | 2020.12.14T22:23:09.571\n"
      ]
     },
     "execution_count": 8,
     "metadata": {},
     "output_type": "execute_result"
    }
   ],
   "source": [
    "ca 217"
   ]
  },
  {
   "cell_type": "code",
   "execution_count": null,
   "metadata": {},
   "outputs": [],
   "source": []
  },
  {
   "cell_type": "code",
   "execution_count": null,
   "metadata": {},
   "outputs": [],
   "source": []
  },
  {
   "cell_type": "code",
   "execution_count": null,
   "metadata": {},
   "outputs": [],
   "source": []
  },
  {
   "cell_type": "code",
   "execution_count": null,
   "metadata": {},
   "outputs": [],
   "source": []
  }
 ],
 "metadata": {
  "kernelspec": {
   "display_name": "Q (kdb+)",
   "language": "q",
   "name": "qpk"
  },
  "language_info": {
   "file_extension": ".q",
   "mimetype": "text/x-q",
   "name": "q",
   "version": "4.0"
  }
 },
 "nbformat": 4,
 "nbformat_minor": 4
}
