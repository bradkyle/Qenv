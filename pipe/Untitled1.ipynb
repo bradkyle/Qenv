{
 "cells": [
  {
   "cell_type": "code",
   "execution_count": 1,
   "metadata": {},
   "outputs": [
    {
     "data": {
      "text/html": [
       "<style>.container { width:100% !important; }</style>"
      ],
      "text/plain": [
       "<IPython.core.display.HTML object>"
      ]
     },
     "metadata": {},
     "output_type": "display_data"
    }
   ],
   "source": [
    "from IPython.core.display import display, HTML\n",
    "display(HTML(\"<style>.container { width:100% !important; }</style>\"))\n",
    "import numpy as np \n",
    "from fastparquet import ParquetFile, write\n",
    "import pandas as pd\n",
    "pd.set_option(\"display.max_rows\", 1001)\n",
    "pd.set_option(\"display.max_columns\", 1001)\n",
    "pd.set_option('display.max_colwidth', -1)\n",
    "\n",
    "from fastparquet import ParquetFile, write\n",
    "from functools import reduce \n",
    "import time\n",
    "import pyarrow as pa \n",
    "import pyarrow.parquet as pq \n",
    "import pandas as pd \n",
    "import numpy as np\n",
    "from datetime import datetime\n",
    "from fastparquet import write\n",
    "import argparse\n",
    "from qpython import qconnection\n",
    "import pprint\n",
    "import preprocessor as p"
   ]
  },
  {
   "cell_type": "code",
   "execution_count": 2,
   "metadata": {},
   "outputs": [],
   "source": [
    "PATH = \"/home/thorad/Core/Projects/Coll/lcl/mnt/lcl/d634d2dbc8304100ba94d278c77ec00f/utc_day=20200526/sid=bitmexagentxbtusd\""
   ]
  },
  {
   "cell_type": "code",
   "execution_count": null,
   "metadata": {},
   "outputs": [],
   "source": [
    "dataset = pq.ParquetDataset(PATH)\n",
    "table = dataset.read()"
   ]
  },
  {
   "cell_type": "code",
   "execution_count": null,
   "metadata": {},
   "outputs": [],
   "source": [
    "def insert_instrument(df):        \n",
    "    return \"`instrument insert(\"+\"\".join([\n",
    "        '[]time:\"Z\"$('+\"; \".join('\"'+str(i)+'\"' for i in df[\"timestamp\"].tolist()) + \");\",\n",
    "#         \"symbol:\"+\"\".join('`'+str(\"XBTUSD\").lower() for i in df[\"symbol\"].tolist())+\";\",\n",
    "        \"volume24h:\"+\" \".join(str(i) for i in df[\"volume24h\"].tolist())+\"f;\", #\n",
    "        \"impactBidPrice:\"+\" \".join(str(i) for i in df['impactBidPrice'].tolist()) + \"f;\",\n",
    "        \"bidPrice:\"+\" \".join(str(i) for i in df['bidPrice'].tolist()) + \"f;\",\n",
    "        \"markPrice:\"+\" \".join(str(i) for i in df['markPrice'].tolist()) + \"f;\",\n",
    "        \"openInterest:\"+\" \".join(str(i) for i in df['openInterest'].tolist()) + \"f;\",\n",
    "        \"askPrice:\"+\" \".join(str(i) for i in df['askPrice'].tolist()) + \"f;\",\n",
    "        \"homeNotional24h:\"+\" \".join(str(i) for i in df['homeNotional24h'].tolist()) + \"f;\",\n",
    "        \"totalTurnover:\"+\" \".join(str(i) for i in df['totalTurnover'].tolist()) + \"f;\",\n",
    "        \"fairPrice:\"+\" \".join(str(i) for i in df['fairPrice'].tolist()) + \"f;\",\n",
    "        \"prevTotalVolume:\"+\" \".join(str(i) for i in df['prevTotalVolume'].tolist()) + \"f;\",\n",
    "        \"volume:\"+\" \".join(str(i) for i in df['volume'].tolist()) + \"f;\",\n",
    "        \"indicativeSettlePrice:\"+\" \".join(str(i) for i in df['indicativeSettlePrice'].tolist()) + \"f;\",\n",
    "        \"turnover24h:\"+\" \".join(str(i) for i in df['turnover24h'].tolist()) + \"f;\",\n",
    "        \"vwap:\"+\" \".join(str(i) for i in df['vwap'].tolist()) + \"f;\",\n",
    "        \"prevPrice24h:\"+\" \".join(str(i) for i in df['prevPrice24h'].tolist()) + \"f;\",\n",
    "        \"fairBasis:\"+\" \".join(str(i) for i in df['fairBasis'].tolist()) + \"f;\",\n",
    "        \"prevTotalTurnover:\"+\" \".join(str(i) for i in df['prevTotalTurnover'].tolist()) + \"f;\",\n",
    "        \"turnover:\"+\" \".join(str(i) for i in df['turnover'].tolist()) + \"f;\",\n",
    "        \"lastPrice:\"+\" \".join(str(i) for i in df['lastPrice'].tolist()) + \"f;\",\n",
    "        \"totalVolume:\"+\" \".join(str(i) for i in df['totalVolume'].tolist()) + \"f;\",\n",
    "        \"lastPriceProtected:\"+\" \".join(str(i) for i in df['lastPriceProtected'].tolist()) + \"f;\",\n",
    "        \"openValue:\"+\" \".join(str(i) for i in df['openValue'].tolist()) + \"f;\",\n",
    "        \"lastChangePcnt:\"+\" \".join(str(i) for i in df['lastChangePcnt'].tolist()) + \"f;\",\n",
    "        \"midPrice:\"+\" \".join(str(i) for i in df['midPrice'].tolist()) + \"f;\",\n",
    "        \"foreignNotional24h:\"+\" \".join(str(i) for i in df['foreignNotional24h'].tolist()) + \"f;\",\n",
    "        \"impactAskPrice:\"+\" \".join(str(i) for i in df['impactAskPrice'].tolist()) + \"f;\",\n",
    "        \"impactMidPrice:\"+\" \".join(str(i) for i in df['impactMidPrice'].tolist()) + \"f\",\n",
    "    ]) + \")\""
   ]
  },
  {
   "cell_type": "code",
   "execution_count": null,
   "metadata": {},
   "outputs": [],
   "source": []
  },
  {
   "cell_type": "code",
   "execution_count": null,
   "metadata": {},
   "outputs": [],
   "source": []
  },
  {
   "cell_type": "code",
   "execution_count": null,
   "metadata": {},
   "outputs": [],
   "source": []
  },
  {
   "cell_type": "code",
   "execution_count": null,
   "metadata": {},
   "outputs": [],
   "source": []
  }
 ],
 "metadata": {
  "kernelspec": {
   "display_name": "Python (bitcoin)",
   "language": "python",
   "name": "bitcoin"
  },
  "language_info": {
   "codemirror_mode": {
    "name": "ipython",
    "version": 3
   },
   "file_extension": ".py",
   "mimetype": "text/x-python",
   "name": "python",
   "nbconvert_exporter": "python",
   "pygments_lexer": "ipython3",
   "version": "3.6.8"
  },
  "latex_envs": {
   "LaTeX_envs_menu_present": true,
   "autoclose": false,
   "autocomplete": true,
   "bibliofile": "biblio.bib",
   "cite_by": "apalike",
   "current_citInitial": 1,
   "eqLabelWithNumbers": true,
   "eqNumInitial": 1,
   "hotkeys": {
    "equation": "Ctrl-E",
    "itemize": "Ctrl-I"
   },
   "labels_anchors": false,
   "latex_user_defs": false,
   "report_style_numbering": false,
   "user_envs_cfg": false
  },
  "varInspector": {
   "cols": {
    "lenName": 16,
    "lenType": 16,
    "lenVar": 40
   },
   "kernels_config": {
    "python": {
     "delete_cmd_postfix": "",
     "delete_cmd_prefix": "del ",
     "library": "var_list.py",
     "varRefreshCmd": "print(var_dic_list())"
    },
    "r": {
     "delete_cmd_postfix": ") ",
     "delete_cmd_prefix": "rm(",
     "library": "var_list.r",
     "varRefreshCmd": "cat(var_dic_list()) "
    }
   },
   "types_to_exclude": [
    "module",
    "function",
    "builtin_function_or_method",
    "instance",
    "_Feature"
   ],
   "window_display": false
  }
 },
 "nbformat": 4,
 "nbformat_minor": 2
}
