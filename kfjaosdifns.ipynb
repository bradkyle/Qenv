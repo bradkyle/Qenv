{
 "cells": [
  {
   "cell_type": "code",
   "execution_count": 1,
   "metadata": {},
   "outputs": [],
   "source": [
    "\\l q/protobufkdb.q"
   ]
  },
  {
   "cell_type": "code",
   "execution_count": 2,
   "metadata": {},
   "outputs": [],
   "source": [
    ".protobufkdb.addProtoImportPath[\"proto\"]"
   ]
  },
  {
   "cell_type": "code",
   "execution_count": 3,
   "metadata": {},
   "outputs": [],
   "source": [
    "protos:{ssr[x;\"./proto/\";\"\"]}'[system\"find ./proto -name *.proto\"]"
   ]
  },
  {
   "cell_type": "code",
   "execution_count": 4,
   "metadata": {},
   "outputs": [],
   "source": [
    "\\c 500 500"
   ]
  },
  {
   "cell_type": "code",
   "execution_count": 1,
   "metadata": {},
   "outputs": [
    {
     "data": {
      "text/plain": [
       "\"/home/qenv/notebooks\"\n"
      ]
     },
     "execution_count": 1,
     "metadata": {},
     "output_type": "execute_result"
    }
   ],
   "source": [
    "\\pwd"
   ]
  },
  {
   "cell_type": "code",
   "execution_count": 5,
   "metadata": {},
   "outputs": [
    {
     "data": {
      "text/plain": [
       "::\n",
       "::\n",
       "::\n",
       "::\n",
       "::\n",
       "::\n",
       "::\n",
       "::\n",
       "::\n",
       "::\n",
       "::\n",
       "::\n",
       "::\n",
       "::\n",
       "::\n",
       "::\n",
       "::\n",
       "::\n",
       "::\n",
       "::\n",
       "::\n",
       "::\n",
       "::\n",
       "::\n",
       "::\n",
       "::\n",
       "::\n",
       "::\n",
       "::\n",
       "::\n",
       "::\n",
       "::\n",
       "::\n",
       "::\n",
       "::\n",
       "::\n",
       "::\n",
       "::\n",
       "::\n",
       "::\n",
       "::\n",
       "::\n",
       "::\n",
       "::\n",
       "::\n",
       "::\n",
       "::\n",
       "::\n",
       "::\n",
       "::\n",
       "::\n",
       "::\n",
       "::\n",
       "::\n",
       "::\n",
       "::\n"
      ]
     },
     "execution_count": 5,
     "metadata": {},
     "output_type": "execute_result"
    }
   ],
   "source": [
    ".protobufkdb.importProtoFile'[protos]"
   ]
  },
  {
   "cell_type": "code",
   "execution_count": 6,
   "metadata": {},
   "outputs": [
    {
     "data": {
      "text/plain": [
       "`services.insurance.v1.GetInsuranceRequest`services.insurance.v1.GetInsuranceResponse`services.liquidation.v1.GetLiquidationsRequest`services.liquidation.v1.GetLiquidationsResponse`services.account.v1.GetAccountRequest`services.account.v1.GetAccountResponse`services.account.v1.GetSettingsRequest`services.account.v1.GetSettingsResponse`services.account.v1.UpdateSettingsRequest`services.account.v1.UpdateSettingsResponse`services.order.v1.GetOrderRequest`services.order.v1.GetOrderResponse`servic..\n"
      ]
     },
     "execution_count": 6,
     "metadata": {},
     "output_type": "execute_result"
    }
   ],
   "source": [
    ".protobufkdb.listImportedMessageTypes[]"
   ]
  },
  {
   "cell_type": "code",
   "execution_count": 7,
   "metadata": {},
   "outputs": [
    {
     "name": "stdout",
     "output_type": "stream",
     "text": [
      "message Order {\n",
      "  string symbol = 1;\n",
      "  string order_id = 2;\n",
      "  string client_order_id = 3;\n",
      "  string account_id = 4;\n",
      "  int32 side = 5;\n",
      "  double price = 6;\n",
      "  double qty = 7;\n",
      "  double display_qty = 8;\n",
      "  double stop_price = 9;\n",
      "  double order_kind = 10;\n",
      "  double order_status = 11;\n",
      "  double display_kind = 12;\n",
      "  double outstanding = 13;\n",
      "  double last_funding_rate = 14;\n",
      "  double interest_rate = 15;\n",
      "  double exec_inst = 16;\n",
      "  double average_price = 17;\n",
      "  double time_in_force = 18;\n",
      "  .google.protobuf.Timestamp exec_time = 19;\n",
      "  .google.protobuf.Timestamp timestamp = 20;\n",
      "}\n",
      "\n"
     ]
    }
   ],
   "source": [
    ".protobufkdb.displayMessageSchema[`model.order.v1.Order]"
   ]
  },
  {
   "cell_type": "code",
   "execution_count": 7,
   "metadata": {},
   "outputs": [
    {
     "ename": "\u001b[0;31mFailed to parse serialized message\u001b[0m",
     "evalue": "\u001b[0;31mFailed to parse serialized message\u001b[0m",
     "output_type": "error",
     "traceback": [
      "\u001b[0;31mevaluation error:\n\u001b[0m",
      "\u001b[0;31mFailed to parse serialized message\u001b[0m",
      "\u001b[0;31m\u001b[0m",
      "\u001b[0;31m  [0]  .protobufkdb.parseArray[`model.order.v1.Order;(\"hello\")]\n       ^\n\u001b[0m"
     ]
    }
   ],
   "source": [
    ".protobufkdb.parseArray[`model.order.v1.Order;(\"hello\")]"
   ]
  }
 ],
 "metadata": {
  "kernelspec": {
   "display_name": "Q (kdb+)",
   "language": "q",
   "name": "qpk"
  },
  "language_info": {
   "file_extension": ".q",
   "mimetype": "text/x-q",
   "name": "q",
   "version": "4.0"
  }
 },
 "nbformat": 4,
 "nbformat_minor": 4
}
