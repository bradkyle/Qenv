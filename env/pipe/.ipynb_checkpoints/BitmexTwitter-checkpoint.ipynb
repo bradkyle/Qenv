{
 "cells": [
  {
   "cell_type": "code",
   "execution_count": 2,
   "metadata": {},
   "outputs": [
    {
     "data": {
      "text/html": [
       "<style>.container { width:100% !important; }</style>"
      ],
      "text/plain": [
       "<IPython.core.display.HTML object>"
      ]
     },
     "metadata": {},
     "output_type": "display_data"
    }
   ],
   "source": [
    "from IPython.core.display import display, HTML\n",
    "display(HTML(\"<style>.container { width:100% !important; }</style>\"))\n",
    "import numpy as np \n",
    "from fastparquet import ParquetFile, write\n",
    "import pandas as pd\n",
    "pd.set_option(\"display.max_rows\", 1001)\n",
    "pd.set_option(\"display.max_columns\", 1001)\n",
    "pd.set_option('display.max_colwidth', -1)\n",
    "\n",
    "from fastparquet import ParquetFile, write\n",
    "from functools import reduce \n",
    "import time\n",
    "import pyarrow as pa \n",
    "import pyarrow.parquet as pq \n",
    "import pandas as pd \n",
    "import numpy as np\n",
    "from datetime import datetime"
   ]
  },
  {
   "cell_type": "code",
   "execution_count": 3,
   "metadata": {},
   "outputs": [],
   "source": [
    "from fastparquet import write\n",
    "import argparse\n",
    "from qpython import qconnection"
   ]
  },
  {
   "cell_type": "code",
   "execution_count": 29,
   "metadata": {},
   "outputs": [],
   "source": [
    "import pprint\n",
    "import preprocessor as p"
   ]
  },
  {
   "cell_type": "code",
   "execution_count": 7,
   "metadata": {},
   "outputs": [],
   "source": [
    "PATH = \"/home/thorad/Core/Projects/Coll/lcl/mnt/lcl/d634d2dbc8304100ba94d278c77ec00f/utc_day=20200526/sid=bitmexagentxbtusd\""
   ]
  },
  {
   "cell_type": "code",
   "execution_count": 8,
   "metadata": {},
   "outputs": [],
   "source": [
    "dataset = pq.ParquetDataset(PATH)\n",
    "table = dataset.read()"
   ]
  },
  {
   "cell_type": "code",
   "execution_count": 5,
   "metadata": {},
   "outputs": [],
   "source": [
    "df = table.to_pandas()"
   ]
  },
  {
   "cell_type": "code",
   "execution_count": 7,
   "metadata": {},
   "outputs": [
    {
     "data": {
      "text/plain": [
       "[chat, connected, instrument, liquidation, orderbook, orderbookl, trade]\n",
       "Categories (7, object): [chat, connected, instrument, liquidation, orderbook, orderbookl, trade]"
      ]
     },
     "execution_count": 7,
     "metadata": {},
     "output_type": "execute_result"
    }
   ],
   "source": [
    "df[\"cid\"].unique()"
   ]
  },
  {
   "cell_type": "code",
   "execution_count": 9,
   "metadata": {},
   "outputs": [],
   "source": [
    "TPATH =\"/home/thorad/Core/Projects/Coll/lcl/mnt/lcl/d634d2dbc8304100ba94d278c77ec00f/utc_day=20200526/sid=twitteragentbitcoin\""
   ]
  },
  {
   "cell_type": "code",
   "execution_count": 10,
   "metadata": {},
   "outputs": [],
   "source": [
    "dataset = pq.ParquetDataset(TPATH)\n",
    "table = dataset.read()\n",
    "tdf = table.to_pandas()"
   ]
  },
  {
   "cell_type": "code",
   "execution_count": 8,
   "metadata": {},
   "outputs": [],
   "source": [
    "trades = df[df[\"cid\"]==\"trade\"]\n",
    "ob = df[df[\"cid\"]==\"orderbook\"]\n",
    "ins = df[df[\"cid\"]==\"instrument\"]\n",
    "liq = df[df[\"cid\"]==\"liquidation\"]\n",
    "co = df[df[\"cid\"]==\"connected\"]"
   ]
  },
  {
   "cell_type": "code",
   "execution_count": 22,
   "metadata": {},
   "outputs": [],
   "source": [
    "cox = co[\"resp\"].apply(parse_and_return)"
   ]
  },
  {
   "cell_type": "code",
   "execution_count": 24,
   "metadata": {},
   "outputs": [],
   "source": [
    "cox = reduce(lambda x,y: x+y,cox)"
   ]
  },
  {
   "cell_type": "code",
   "execution_count": 89,
   "metadata": {},
   "outputs": [],
   "source": [
    "import re\n",
    "def processRow(row):\n",
    "    \n",
    "    \n",
    "    tweet = row\n",
    "    #Lower case\n",
    "    tweet = tweet.lower()\n",
    "    #convert any url to URL\n",
    "    tweet = re.sub('((www\\.[^\\s]+)|(https?://[^\\s]+))','URL',tweet)\n",
    "    #Convert any @Username to \"AT_USER\"\n",
    "    tweet = re.sub('@[^\\s]+','AT_USER',tweet)\n",
    "    #Remove additional white spaces\n",
    "    tweet = re.sub('[\\s]+', ' ', tweet)\n",
    "    tweet = re.sub('[\\n]+', ' ', tweet)\n",
    "    #Remove not alphanumeric symbols white spaces\n",
    "    tweet = re.sub(r'[^\\w]', ' ', tweet)\n",
    "    #Replace #word with word\n",
    "    tweet = re.sub(r'#([^\\s]+)', r'\\1', tweet)\n",
    "    #Remove :( or :)\n",
    "    tweet = tweet.replace(':)','')\n",
    "    tweet = tweet.replace(':(','')\n",
    "    tweet = tweet.replace('      ',' ')\n",
    "    tweet = tweet.replace('    ',' ')\n",
    "    tweet = tweet.replace('   ',' ')\n",
    "    tweet = tweet.replace('  ',' ')\n",
    "    #trim\n",
    "    tweet = tweet.strip('\\'\"')\n",
    "\n",
    "    return tweet"
   ]
  },
  {
   "cell_type": "code",
   "execution_count": 90,
   "metadata": {},
   "outputs": [],
   "source": [
    "def parse_tweet(r, thresh=1000):\n",
    "    try:\n",
    "        tweet_dict = json.loads(r)\n",
    "        tweet = Tweet(tweet_dict)\n",
    "    except (json.JSONDecodeError,NotATweetError):\n",
    "        pass\n",
    "    if tweet.follower_count > thresh:\n",
    "        return {\n",
    "            \"timestamp\": tweet.created_at_string,\n",
    "            \"text\": processRow(tweet.all_text).encode('utf-8').decode('latin-1'),\n",
    "            \"user_id\": tweet.user_id,\n",
    "            \"user_follower_count\": tweet.follower_count,\n",
    "            \"favorite_count\": tweet.favorite_count,\n",
    "            \"quote_count\": tweet.quote_count,\n",
    "            \"retweet_count\": tweet.retweet_count\n",
    "        }"
   ]
  },
  {
   "cell_type": "code",
   "execution_count": 31,
   "metadata": {},
   "outputs": [],
   "source": [
    "from tweet_parser.tweet import Tweet\n",
    "from tweet_parser.tweet_parser_errors import NotATweetError"
   ]
  },
  {
   "cell_type": "code",
   "execution_count": 32,
   "metadata": {},
   "outputs": [],
   "source": [
    "pp = pprint.PrettyPrinter(indent=4)"
   ]
  },
  {
   "cell_type": "code",
   "execution_count": 91,
   "metadata": {},
   "outputs": [],
   "source": [
    "twr = [x for x in [parse_tweet(t, thresh=0) for t in tdf[\"resp\"].tolist()] if x is not None]"
   ]
  },
  {
   "cell_type": "code",
   "execution_count": 92,
   "metadata": {},
   "outputs": [
    {
     "data": {
      "text/plain": [
       "{'timestamp': '2020-05-26T09:05:30.000Z',\n",
       " 'text': 'good project we are excited to announce the nydronia airdrop program earn up to 100 nia 80 for easy social tasks and 15 nia 12 for every valid referral more check here URL airdrop nydronia token cryptocurrency',\n",
       " 'user_id': '1247815452727730177',\n",
       " 'user_follower_count': 1,\n",
       " 'favorite_count': 0,\n",
       " 'quote_count': 0,\n",
       " 'retweet_count': 0}"
      ]
     },
     "execution_count": 92,
     "metadata": {},
     "output_type": "execute_result"
    }
   ],
   "source": [
    "twr[0]"
   ]
  },
  {
   "cell_type": "code",
   "execution_count": 104,
   "metadata": {},
   "outputs": [],
   "source": [
    "twtrins = \"tweets:([]time:`datetime$();text:`char$();userId:`symbol$();userFollowerCount:`long$();favoriteCount:`long$();quoteCount:`long$();retweetCount:`long$())\"\n",
    "with qconnection.QConnection(host = \"localhost\", port=5050, pandas=True) as q:\n",
    "        data = q.sendSync(twtrins)"
   ]
  },
  {
   "cell_type": "code",
   "execution_count": 105,
   "metadata": {},
   "outputs": [],
   "source": [
    "def ins_twt(df):        \n",
    "    return \"`tweets insert(\"+\"\".join([\n",
    "        '[]time:\"Z\"$('+\"; \".join('\"'+str(i)+'\"' for i in df[\"timestamp\"].tolist()) + \");\",\n",
    "        \"text:\"+\" \".join('\"'+str(i)+'\"' for i in df[\"text\"].tolist())+\";\", #\n",
    "        \"userId:\"+\" \".join(str(i) for i in df['user_id'].tolist()) + \";\",\n",
    "        \"userFollowerCount:\"+\" \".join(str(i) for i in df[\"user_follower_count\"].tolist()) + \";\",\n",
    "        \"favoriteCount:\"+\" \".join(str(i) for i in df[\"favorite_count\"].tolist()) + \";\",\n",
    "        \"quoteCount:\"+\" \".join(str(i) for i in df[\"quote_count\"].tolist()) + \";\",\n",
    "        \"retweetCount:\"+\" \".join(str(i) for i in df[\"retweet_count\"].tolist()),\n",
    "    ]) + \")\""
   ]
  },
  {
   "cell_type": "code",
   "execution_count": 106,
   "metadata": {},
   "outputs": [],
   "source": [
    "isds = ins_twt(pd.DataFrame(twr[:2]))"
   ]
  },
  {
   "cell_type": "code",
   "execution_count": 103,
   "metadata": {},
   "outputs": [
    {
     "data": {
      "text/plain": [
       "'`tweets insert([]time:\"Z\"$(\"2020-05-26T09:05:30.000Z\"; \"2020-05-26T09:05:30.000Z\");text:\"good project we are excited to announce the nydronia airdrop program earn up to 100 nia 80 for easy social tasks and 15 nia 12 for every valid referral more check here URL airdrop nydronia token cryptocurrency\" \"we are excited to announce the nydronia airdrop program earn up to 100 nia 80 for easy social tasks and 15 nia 12 for every valid referral more check here URL airdrop nydronia token cryptocurrency\";userId:1247815452727730177 1236501587729592320;userFollowerCount:1 5;favoriteCount:0 0;quoteCount:0 0;retweetCount:0 0)'"
      ]
     },
     "execution_count": 103,
     "metadata": {},
     "output_type": "execute_result"
    }
   ],
   "source": [
    "isds"
   ]
  },
  {
   "cell_type": "code",
   "execution_count": 107,
   "metadata": {},
   "outputs": [
    {
     "ename": "QException",
     "evalue": "b'length'",
     "output_type": "error",
     "traceback": [
      "\u001b[0;31m---------------------------------------------------------------------------\u001b[0m",
      "\u001b[0;31mQException\u001b[0m                                Traceback (most recent call last)",
      "\u001b[0;32m<ipython-input-107-5f54d8806bbb>\u001b[0m in \u001b[0;36m<module>\u001b[0;34m\u001b[0m\n\u001b[1;32m      1\u001b[0m \u001b[0;32mwith\u001b[0m \u001b[0mqconnection\u001b[0m\u001b[0;34m.\u001b[0m\u001b[0mQConnection\u001b[0m\u001b[0;34m(\u001b[0m\u001b[0mhost\u001b[0m \u001b[0;34m=\u001b[0m \u001b[0;34m\"localhost\"\u001b[0m\u001b[0;34m,\u001b[0m \u001b[0mport\u001b[0m\u001b[0;34m=\u001b[0m\u001b[0;36m5050\u001b[0m\u001b[0;34m,\u001b[0m \u001b[0mpandas\u001b[0m\u001b[0;34m=\u001b[0m\u001b[0;32mTrue\u001b[0m\u001b[0;34m)\u001b[0m \u001b[0;32mas\u001b[0m \u001b[0mq\u001b[0m\u001b[0;34m:\u001b[0m\u001b[0;34m\u001b[0m\u001b[0;34m\u001b[0m\u001b[0m\n\u001b[0;32m----> 2\u001b[0;31m         \u001b[0mdata\u001b[0m \u001b[0;34m=\u001b[0m \u001b[0mq\u001b[0m\u001b[0;34m.\u001b[0m\u001b[0msendSync\u001b[0m\u001b[0;34m(\u001b[0m\u001b[0misds\u001b[0m\u001b[0;34m)\u001b[0m\u001b[0;34m\u001b[0m\u001b[0;34m\u001b[0m\u001b[0m\n\u001b[0m",
      "\u001b[0;32m~/.local/lib/python3.6/site-packages/qpython/qconnection.py\u001b[0m in \u001b[0;36msendSync\u001b[0;34m(self, query, *parameters, **options)\u001b[0m\n\u001b[1;32m    301\u001b[0m         '''\n\u001b[1;32m    302\u001b[0m         \u001b[0mself\u001b[0m\u001b[0;34m.\u001b[0m\u001b[0mquery\u001b[0m\u001b[0;34m(\u001b[0m\u001b[0mMessageType\u001b[0m\u001b[0;34m.\u001b[0m\u001b[0mSYNC\u001b[0m\u001b[0;34m,\u001b[0m \u001b[0mquery\u001b[0m\u001b[0;34m,\u001b[0m \u001b[0;34m*\u001b[0m\u001b[0mparameters\u001b[0m\u001b[0;34m,\u001b[0m \u001b[0;34m**\u001b[0m\u001b[0moptions\u001b[0m\u001b[0;34m)\u001b[0m\u001b[0;34m\u001b[0m\u001b[0;34m\u001b[0m\u001b[0m\n\u001b[0;32m--> 303\u001b[0;31m         \u001b[0mresponse\u001b[0m \u001b[0;34m=\u001b[0m \u001b[0mself\u001b[0m\u001b[0;34m.\u001b[0m\u001b[0mreceive\u001b[0m\u001b[0;34m(\u001b[0m\u001b[0mdata_only\u001b[0m \u001b[0;34m=\u001b[0m \u001b[0;32mFalse\u001b[0m\u001b[0;34m,\u001b[0m \u001b[0;34m**\u001b[0m\u001b[0moptions\u001b[0m\u001b[0;34m)\u001b[0m\u001b[0;34m\u001b[0m\u001b[0;34m\u001b[0m\u001b[0m\n\u001b[0m\u001b[1;32m    304\u001b[0m \u001b[0;34m\u001b[0m\u001b[0m\n\u001b[1;32m    305\u001b[0m         \u001b[0;32mif\u001b[0m \u001b[0mresponse\u001b[0m\u001b[0;34m.\u001b[0m\u001b[0mtype\u001b[0m \u001b[0;34m==\u001b[0m \u001b[0mMessageType\u001b[0m\u001b[0;34m.\u001b[0m\u001b[0mRESPONSE\u001b[0m\u001b[0;34m:\u001b[0m\u001b[0;34m\u001b[0m\u001b[0;34m\u001b[0m\u001b[0m\n",
      "\u001b[0;32m~/.local/lib/python3.6/site-packages/qpython/qconnection.py\u001b[0m in \u001b[0;36mreceive\u001b[0;34m(self, data_only, **options)\u001b[0m\n\u001b[1;32m    378\u001b[0m         \u001b[0;34m:\u001b[0m\u001b[0mraises\u001b[0m\u001b[0;34m:\u001b[0m \u001b[0;34m:\u001b[0m\u001b[0;32mclass\u001b[0m\u001b[0;34m:\u001b[0m\u001b[0;31m`\u001b[0m\u001b[0;34m.\u001b[0m\u001b[0mQReaderException\u001b[0m\u001b[0;31m`\u001b[0m\u001b[0;34m\u001b[0m\u001b[0;34m\u001b[0m\u001b[0m\n\u001b[1;32m    379\u001b[0m         '''\n\u001b[0;32m--> 380\u001b[0;31m         \u001b[0mresult\u001b[0m \u001b[0;34m=\u001b[0m \u001b[0mself\u001b[0m\u001b[0;34m.\u001b[0m\u001b[0m_reader\u001b[0m\u001b[0;34m.\u001b[0m\u001b[0mread\u001b[0m\u001b[0;34m(\u001b[0m\u001b[0;34m**\u001b[0m\u001b[0mself\u001b[0m\u001b[0;34m.\u001b[0m\u001b[0m_options\u001b[0m\u001b[0;34m.\u001b[0m\u001b[0munion_dict\u001b[0m\u001b[0;34m(\u001b[0m\u001b[0;34m**\u001b[0m\u001b[0moptions\u001b[0m\u001b[0;34m)\u001b[0m\u001b[0;34m)\u001b[0m\u001b[0;34m\u001b[0m\u001b[0;34m\u001b[0m\u001b[0m\n\u001b[0m\u001b[1;32m    381\u001b[0m         \u001b[0;32mreturn\u001b[0m \u001b[0mresult\u001b[0m\u001b[0;34m.\u001b[0m\u001b[0mdata\u001b[0m \u001b[0;32mif\u001b[0m \u001b[0mdata_only\u001b[0m \u001b[0;32melse\u001b[0m \u001b[0mresult\u001b[0m\u001b[0;34m\u001b[0m\u001b[0;34m\u001b[0m\u001b[0m\n\u001b[1;32m    382\u001b[0m \u001b[0;34m\u001b[0m\u001b[0m\n",
      "\u001b[0;32m~/.local/lib/python3.6/site-packages/qpython/qreader.py\u001b[0m in \u001b[0;36mread\u001b[0;34m(self, source, **options)\u001b[0m\n\u001b[1;32m    137\u001b[0m         '''\n\u001b[1;32m    138\u001b[0m         \u001b[0mmessage\u001b[0m \u001b[0;34m=\u001b[0m \u001b[0mself\u001b[0m\u001b[0;34m.\u001b[0m\u001b[0mread_header\u001b[0m\u001b[0;34m(\u001b[0m\u001b[0msource\u001b[0m\u001b[0;34m)\u001b[0m\u001b[0;34m\u001b[0m\u001b[0;34m\u001b[0m\u001b[0m\n\u001b[0;32m--> 139\u001b[0;31m         \u001b[0mmessage\u001b[0m\u001b[0;34m.\u001b[0m\u001b[0mdata\u001b[0m \u001b[0;34m=\u001b[0m \u001b[0mself\u001b[0m\u001b[0;34m.\u001b[0m\u001b[0mread_data\u001b[0m\u001b[0;34m(\u001b[0m\u001b[0mmessage\u001b[0m\u001b[0;34m.\u001b[0m\u001b[0msize\u001b[0m\u001b[0;34m,\u001b[0m \u001b[0mmessage\u001b[0m\u001b[0;34m.\u001b[0m\u001b[0mis_compressed\u001b[0m\u001b[0;34m,\u001b[0m \u001b[0;34m**\u001b[0m\u001b[0moptions\u001b[0m\u001b[0;34m)\u001b[0m\u001b[0;34m\u001b[0m\u001b[0;34m\u001b[0m\u001b[0m\n\u001b[0m\u001b[1;32m    140\u001b[0m \u001b[0;34m\u001b[0m\u001b[0m\n\u001b[1;32m    141\u001b[0m         \u001b[0;32mreturn\u001b[0m \u001b[0mmessage\u001b[0m\u001b[0;34m\u001b[0m\u001b[0;34m\u001b[0m\u001b[0m\n",
      "\u001b[0;32m~/.local/lib/python3.6/site-packages/qpython/qreader.py\u001b[0m in \u001b[0;36mread_data\u001b[0;34m(self, message_size, is_compressed, **options)\u001b[0m\n\u001b[1;32m    214\u001b[0m             \u001b[0mraw_data\u001b[0m \u001b[0;34m=\u001b[0m \u001b[0mself\u001b[0m\u001b[0;34m.\u001b[0m\u001b[0m_buffer\u001b[0m\u001b[0;34m.\u001b[0m\u001b[0mraw\u001b[0m\u001b[0;34m(\u001b[0m\u001b[0mmessage_size\u001b[0m \u001b[0;34m-\u001b[0m \u001b[0;36m8\u001b[0m\u001b[0;34m)\u001b[0m\u001b[0;34m\u001b[0m\u001b[0;34m\u001b[0m\u001b[0m\n\u001b[1;32m    215\u001b[0m \u001b[0;34m\u001b[0m\u001b[0m\n\u001b[0;32m--> 216\u001b[0;31m         \u001b[0;32mreturn\u001b[0m \u001b[0mraw_data\u001b[0m \u001b[0;32mif\u001b[0m \u001b[0mself\u001b[0m\u001b[0;34m.\u001b[0m\u001b[0m_options\u001b[0m\u001b[0;34m.\u001b[0m\u001b[0mraw\u001b[0m \u001b[0;32melse\u001b[0m \u001b[0mself\u001b[0m\u001b[0;34m.\u001b[0m\u001b[0m_read_object\u001b[0m\u001b[0;34m(\u001b[0m\u001b[0;34m)\u001b[0m\u001b[0;34m\u001b[0m\u001b[0;34m\u001b[0m\u001b[0m\n\u001b[0m\u001b[1;32m    217\u001b[0m \u001b[0;34m\u001b[0m\u001b[0m\n\u001b[1;32m    218\u001b[0m \u001b[0;34m\u001b[0m\u001b[0m\n",
      "\u001b[0;32m~/.local/lib/python3.6/site-packages/qpython/qreader.py\u001b[0m in \u001b[0;36m_read_object\u001b[0;34m(self)\u001b[0m\n\u001b[1;32m    223\u001b[0m \u001b[0;34m\u001b[0m\u001b[0m\n\u001b[1;32m    224\u001b[0m         \u001b[0;32mif\u001b[0m \u001b[0mreader\u001b[0m\u001b[0;34m:\u001b[0m\u001b[0;34m\u001b[0m\u001b[0;34m\u001b[0m\u001b[0m\n\u001b[0;32m--> 225\u001b[0;31m             \u001b[0;32mreturn\u001b[0m \u001b[0mreader\u001b[0m\u001b[0;34m(\u001b[0m\u001b[0mself\u001b[0m\u001b[0;34m,\u001b[0m \u001b[0mqtype\u001b[0m\u001b[0;34m)\u001b[0m\u001b[0;34m\u001b[0m\u001b[0;34m\u001b[0m\u001b[0m\n\u001b[0m\u001b[1;32m    226\u001b[0m         \u001b[0;32melif\u001b[0m \u001b[0mqtype\u001b[0m \u001b[0;34m>=\u001b[0m \u001b[0mQBOOL_LIST\u001b[0m \u001b[0;32mand\u001b[0m \u001b[0mqtype\u001b[0m \u001b[0;34m<=\u001b[0m \u001b[0mQTIME_LIST\u001b[0m\u001b[0;34m:\u001b[0m\u001b[0;34m\u001b[0m\u001b[0;34m\u001b[0m\u001b[0m\n\u001b[1;32m    227\u001b[0m             \u001b[0;32mreturn\u001b[0m \u001b[0mself\u001b[0m\u001b[0;34m.\u001b[0m\u001b[0m_read_list\u001b[0m\u001b[0;34m(\u001b[0m\u001b[0mqtype\u001b[0m\u001b[0;34m)\u001b[0m\u001b[0;34m\u001b[0m\u001b[0;34m\u001b[0m\u001b[0m\n",
      "\u001b[0;32m~/.local/lib/python3.6/site-packages/qpython/qreader.py\u001b[0m in \u001b[0;36m_read_error\u001b[0;34m(self, qtype)\u001b[0m\n\u001b[1;32m    238\u001b[0m     \u001b[0;34m@\u001b[0m\u001b[0mparse\u001b[0m\u001b[0;34m(\u001b[0m\u001b[0mQERROR\u001b[0m\u001b[0;34m)\u001b[0m\u001b[0;34m\u001b[0m\u001b[0;34m\u001b[0m\u001b[0m\n\u001b[1;32m    239\u001b[0m     \u001b[0;32mdef\u001b[0m \u001b[0m_read_error\u001b[0m\u001b[0;34m(\u001b[0m\u001b[0mself\u001b[0m\u001b[0;34m,\u001b[0m \u001b[0mqtype\u001b[0m \u001b[0;34m=\u001b[0m \u001b[0mQERROR\u001b[0m\u001b[0;34m)\u001b[0m\u001b[0;34m:\u001b[0m\u001b[0;34m\u001b[0m\u001b[0;34m\u001b[0m\u001b[0m\n\u001b[0;32m--> 240\u001b[0;31m         \u001b[0;32mraise\u001b[0m \u001b[0mQException\u001b[0m\u001b[0;34m(\u001b[0m\u001b[0mself\u001b[0m\u001b[0;34m.\u001b[0m\u001b[0m_read_symbol\u001b[0m\u001b[0;34m(\u001b[0m\u001b[0;34m)\u001b[0m\u001b[0;34m)\u001b[0m\u001b[0;34m\u001b[0m\u001b[0;34m\u001b[0m\u001b[0m\n\u001b[0m\u001b[1;32m    241\u001b[0m \u001b[0;34m\u001b[0m\u001b[0m\n\u001b[1;32m    242\u001b[0m \u001b[0;34m\u001b[0m\u001b[0m\n",
      "\u001b[0;31mQException\u001b[0m: b'length'"
     ]
    }
   ],
   "source": [
    "with qconnection.QConnection(host = \"localhost\", port=5050, pandas=True) as q:\n",
    "        data = q.sendSync(isds)"
   ]
  },
  {
   "cell_type": "code",
   "execution_count": 21,
   "metadata": {},
   "outputs": [],
   "source": [
    "def parse_and_return(r, ret_first=False):\n",
    "    x = json.loads(r)\n",
    "    if ret_first:\n",
    "        return x[\"data\"][0]\n",
    "    else:\n",
    "        return x[\"data\"]"
   ]
  },
  {
   "cell_type": "code",
   "execution_count": 10,
   "metadata": {},
   "outputs": [],
   "source": [
    "xy = trades[\"resp\"].apply(parse_and_return)"
   ]
  },
  {
   "cell_type": "code",
   "execution_count": 11,
   "metadata": {},
   "outputs": [],
   "source": [
    "xy = reduce(lambda x,y: x+y,xy)"
   ]
  },
  {
   "cell_type": "code",
   "execution_count": 14,
   "metadata": {},
   "outputs": [],
   "source": [
    "xb = ob[\"resp\"].apply(parse_and_return)"
   ]
  },
  {
   "cell_type": "code",
   "execution_count": 119,
   "metadata": {},
   "outputs": [],
   "source": [
    "ins = ins[\"resp\"].apply(parse_and_return, ret_first=True)"
   ]
  },
  {
   "cell_type": "code",
   "execution_count": 120,
   "metadata": {},
   "outputs": [],
   "source": [
    "k = []\n",
    "for i in ins: k += list(i.keys())\n",
    "default = dict(zip(list(set(k)), [None for _ in range(len(k))]))"
   ]
  },
  {
   "cell_type": "code",
   "execution_count": 121,
   "metadata": {},
   "outputs": [],
   "source": [
    "ds = []\n",
    "for i in range(len(ins)):\n",
    "    d = default.copy()\n",
    "    d.update(ins.iloc[i])\n",
    "    ds.append(d)"
   ]
  },
  {
   "cell_type": "code",
   "execution_count": 123,
   "metadata": {},
   "outputs": [],
   "source": [
    "dsinsdf = pd.DataFrame(ds)"
   ]
  },
  {
   "cell_type": "code",
   "execution_count": 125,
   "metadata": {},
   "outputs": [],
   "source": [
    "dsinsdf.fillna(method='ffill', inplace=True)"
   ]
  },
  {
   "cell_type": "code",
   "execution_count": 164,
   "metadata": {},
   "outputs": [
    {
     "data": {
      "text/html": [
       "<div>\n",
       "<style scoped>\n",
       "    .dataframe tbody tr th:only-of-type {\n",
       "        vertical-align: middle;\n",
       "    }\n",
       "\n",
       "    .dataframe tbody tr th {\n",
       "        vertical-align: top;\n",
       "    }\n",
       "\n",
       "    .dataframe thead th {\n",
       "        text-align: right;\n",
       "    }\n",
       "</style>\n",
       "<table border=\"1\" class=\"dataframe\">\n",
       "  <thead>\n",
       "    <tr style=\"text-align: right;\">\n",
       "      <th></th>\n",
       "      <th>volume24h</th>\n",
       "      <th>impactBidPrice</th>\n",
       "      <th>timestamp</th>\n",
       "      <th>bidPrice</th>\n",
       "      <th>markPrice</th>\n",
       "      <th>openInterest</th>\n",
       "      <th>askPrice</th>\n",
       "      <th>homeNotional24h</th>\n",
       "      <th>totalTurnover</th>\n",
       "      <th>fairPrice</th>\n",
       "      <th>prevTotalVolume</th>\n",
       "      <th>volume</th>\n",
       "      <th>indicativeSettlePrice</th>\n",
       "      <th>turnover24h</th>\n",
       "      <th>vwap</th>\n",
       "      <th>prevPrice24h</th>\n",
       "      <th>state</th>\n",
       "      <th>openingTimestamp</th>\n",
       "      <th>fairBasis</th>\n",
       "      <th>closingTimestamp</th>\n",
       "      <th>prevTotalTurnover</th>\n",
       "      <th>turnover</th>\n",
       "      <th>symbol</th>\n",
       "      <th>lastPrice</th>\n",
       "      <th>totalVolume</th>\n",
       "      <th>lastPriceProtected</th>\n",
       "      <th>lastTickDirection</th>\n",
       "      <th>openValue</th>\n",
       "      <th>lastChangePcnt</th>\n",
       "      <th>highPrice</th>\n",
       "      <th>midPrice</th>\n",
       "      <th>foreignNotional24h</th>\n",
       "      <th>impactAskPrice</th>\n",
       "      <th>impactMidPrice</th>\n",
       "    </tr>\n",
       "    <tr>\n",
       "      <th>time</th>\n",
       "      <th></th>\n",
       "      <th></th>\n",
       "      <th></th>\n",
       "      <th></th>\n",
       "      <th></th>\n",
       "      <th></th>\n",
       "      <th></th>\n",
       "      <th></th>\n",
       "      <th></th>\n",
       "      <th></th>\n",
       "      <th></th>\n",
       "      <th></th>\n",
       "      <th></th>\n",
       "      <th></th>\n",
       "      <th></th>\n",
       "      <th></th>\n",
       "      <th></th>\n",
       "      <th></th>\n",
       "      <th></th>\n",
       "      <th></th>\n",
       "      <th></th>\n",
       "      <th></th>\n",
       "      <th></th>\n",
       "      <th></th>\n",
       "      <th></th>\n",
       "      <th></th>\n",
       "      <th></th>\n",
       "      <th></th>\n",
       "      <th></th>\n",
       "      <th></th>\n",
       "      <th></th>\n",
       "      <th></th>\n",
       "      <th></th>\n",
       "      <th></th>\n",
       "    </tr>\n",
       "  </thead>\n",
       "  <tbody>\n",
       "    <tr>\n",
       "      <td>2020-05-26 10:10:25.115</td>\n",
       "      <td>1.693319e+09</td>\n",
       "      <td>8848.7744</td>\n",
       "      <td>2020-05-26T10:10:25.115Z</td>\n",
       "      <td>8849.0</td>\n",
       "      <td>8855.14</td>\n",
       "      <td>589717967.0</td>\n",
       "      <td>8849.5</td>\n",
       "      <td>191181.674588</td>\n",
       "      <td>3.179733e+16</td>\n",
       "      <td>8855.14</td>\n",
       "      <td>2.301912e+12</td>\n",
       "      <td>43083865.0</td>\n",
       "      <td>8854.94</td>\n",
       "      <td>1.911817e+13</td>\n",
       "      <td>8844.0789</td>\n",
       "      <td>8744.0</td>\n",
       "      <td>Closed</td>\n",
       "      <td>2020-05-26T10:00:00.000Z</td>\n",
       "      <td>0.2</td>\n",
       "      <td>2020-05-26T11:00:00.000Z</td>\n",
       "      <td>3.179685e+16</td>\n",
       "      <td>4.872321e+11</td>\n",
       "      <td>XBTUSD</td>\n",
       "      <td>8849.0</td>\n",
       "      <td>2.301955e+12</td>\n",
       "      <td>8849.5</td>\n",
       "      <td>MinusTick</td>\n",
       "      <td>6.659685e+12</td>\n",
       "      <td>0.0120</td>\n",
       "      <td>9002.5</td>\n",
       "      <td>8849.25</td>\n",
       "      <td>1.693319e+09</td>\n",
       "      <td>8849.5575</td>\n",
       "      <td>8849.25</td>\n",
       "    </tr>\n",
       "    <tr>\n",
       "      <td>2020-05-26 10:10:25.123</td>\n",
       "      <td>1.693319e+09</td>\n",
       "      <td>8848.7744</td>\n",
       "      <td>2020-05-26T10:10:25.123Z</td>\n",
       "      <td>8849.0</td>\n",
       "      <td>8855.14</td>\n",
       "      <td>589717967.0</td>\n",
       "      <td>8849.5</td>\n",
       "      <td>191181.674588</td>\n",
       "      <td>3.179733e+16</td>\n",
       "      <td>8855.14</td>\n",
       "      <td>2.301912e+12</td>\n",
       "      <td>43083865.0</td>\n",
       "      <td>8854.94</td>\n",
       "      <td>1.911817e+13</td>\n",
       "      <td>8844.0789</td>\n",
       "      <td>8744.0</td>\n",
       "      <td>Closed</td>\n",
       "      <td>2020-05-26T10:00:00.000Z</td>\n",
       "      <td>0.2</td>\n",
       "      <td>2020-05-26T11:00:00.000Z</td>\n",
       "      <td>3.179685e+16</td>\n",
       "      <td>4.872321e+11</td>\n",
       "      <td>XBTUSD</td>\n",
       "      <td>8849.0</td>\n",
       "      <td>2.301955e+12</td>\n",
       "      <td>8849.5</td>\n",
       "      <td>ZeroMinusTick</td>\n",
       "      <td>6.659685e+12</td>\n",
       "      <td>0.0120</td>\n",
       "      <td>9002.5</td>\n",
       "      <td>8849.25</td>\n",
       "      <td>1.693319e+09</td>\n",
       "      <td>8849.5575</td>\n",
       "      <td>8849.25</td>\n",
       "    </tr>\n",
       "    <tr>\n",
       "      <td>2020-05-26 10:10:25.123</td>\n",
       "      <td>1.693319e+09</td>\n",
       "      <td>8848.7744</td>\n",
       "      <td>2020-05-26T10:10:25.123Z</td>\n",
       "      <td>8849.0</td>\n",
       "      <td>8856.36</td>\n",
       "      <td>589717967.0</td>\n",
       "      <td>8849.5</td>\n",
       "      <td>191181.674588</td>\n",
       "      <td>3.179733e+16</td>\n",
       "      <td>8856.36</td>\n",
       "      <td>2.301912e+12</td>\n",
       "      <td>43083865.0</td>\n",
       "      <td>8856.16</td>\n",
       "      <td>1.911817e+13</td>\n",
       "      <td>8844.0789</td>\n",
       "      <td>8744.0</td>\n",
       "      <td>Closed</td>\n",
       "      <td>2020-05-26T10:00:00.000Z</td>\n",
       "      <td>0.2</td>\n",
       "      <td>2020-05-26T11:00:00.000Z</td>\n",
       "      <td>3.179685e+16</td>\n",
       "      <td>4.872321e+11</td>\n",
       "      <td>XBTUSD</td>\n",
       "      <td>8849.0</td>\n",
       "      <td>2.301955e+12</td>\n",
       "      <td>8849.5</td>\n",
       "      <td>ZeroMinusTick</td>\n",
       "      <td>6.658506e+12</td>\n",
       "      <td>0.0120</td>\n",
       "      <td>9002.5</td>\n",
       "      <td>8849.25</td>\n",
       "      <td>1.693319e+09</td>\n",
       "      <td>8849.5575</td>\n",
       "      <td>8849.25</td>\n",
       "    </tr>\n",
       "    <tr>\n",
       "      <td>2020-05-26 10:10:27.427</td>\n",
       "      <td>1.693319e+09</td>\n",
       "      <td>8848.7744</td>\n",
       "      <td>2020-05-26T10:10:27.427Z</td>\n",
       "      <td>8849.0</td>\n",
       "      <td>8856.36</td>\n",
       "      <td>589717967.0</td>\n",
       "      <td>8849.5</td>\n",
       "      <td>191181.674588</td>\n",
       "      <td>3.179733e+16</td>\n",
       "      <td>8856.36</td>\n",
       "      <td>2.301912e+12</td>\n",
       "      <td>43083865.0</td>\n",
       "      <td>8856.16</td>\n",
       "      <td>1.911817e+13</td>\n",
       "      <td>8844.0789</td>\n",
       "      <td>8744.0</td>\n",
       "      <td>Closed</td>\n",
       "      <td>2020-05-26T10:00:00.000Z</td>\n",
       "      <td>0.2</td>\n",
       "      <td>2020-05-26T11:00:00.000Z</td>\n",
       "      <td>3.179685e+16</td>\n",
       "      <td>4.872321e+11</td>\n",
       "      <td>XBTUSD</td>\n",
       "      <td>8849.5</td>\n",
       "      <td>2.301955e+12</td>\n",
       "      <td>8849.5</td>\n",
       "      <td>PlusTick</td>\n",
       "      <td>6.658506e+12</td>\n",
       "      <td>0.0121</td>\n",
       "      <td>9002.5</td>\n",
       "      <td>8849.25</td>\n",
       "      <td>1.693319e+09</td>\n",
       "      <td>8849.5575</td>\n",
       "      <td>8849.25</td>\n",
       "    </tr>\n",
       "    <tr>\n",
       "      <td>2020-05-26 10:10:27.856</td>\n",
       "      <td>1.693319e+09</td>\n",
       "      <td>8848.7744</td>\n",
       "      <td>2020-05-26T10:10:27.856Z</td>\n",
       "      <td>8849.0</td>\n",
       "      <td>8856.36</td>\n",
       "      <td>589717967.0</td>\n",
       "      <td>8849.5</td>\n",
       "      <td>191181.674588</td>\n",
       "      <td>3.179733e+16</td>\n",
       "      <td>8856.36</td>\n",
       "      <td>2.301912e+12</td>\n",
       "      <td>43083865.0</td>\n",
       "      <td>8856.16</td>\n",
       "      <td>1.911817e+13</td>\n",
       "      <td>8844.0789</td>\n",
       "      <td>8744.0</td>\n",
       "      <td>Closed</td>\n",
       "      <td>2020-05-26T10:00:00.000Z</td>\n",
       "      <td>0.2</td>\n",
       "      <td>2020-05-26T11:00:00.000Z</td>\n",
       "      <td>3.179685e+16</td>\n",
       "      <td>4.872321e+11</td>\n",
       "      <td>XBTUSD</td>\n",
       "      <td>8849.0</td>\n",
       "      <td>2.301955e+12</td>\n",
       "      <td>8849.5</td>\n",
       "      <td>MinusTick</td>\n",
       "      <td>6.658506e+12</td>\n",
       "      <td>0.0120</td>\n",
       "      <td>9002.5</td>\n",
       "      <td>8849.25</td>\n",
       "      <td>1.693319e+09</td>\n",
       "      <td>8849.5575</td>\n",
       "      <td>8849.25</td>\n",
       "    </tr>\n",
       "  </tbody>\n",
       "</table>\n",
       "</div>"
      ],
      "text/plain": [
       "                            volume24h  impactBidPrice  \\\n",
       "time                                                    \n",
       "2020-05-26 10:10:25.115  1.693319e+09  8848.7744        \n",
       "2020-05-26 10:10:25.123  1.693319e+09  8848.7744        \n",
       "2020-05-26 10:10:25.123  1.693319e+09  8848.7744        \n",
       "2020-05-26 10:10:27.427  1.693319e+09  8848.7744        \n",
       "2020-05-26 10:10:27.856  1.693319e+09  8848.7744        \n",
       "\n",
       "                                        timestamp  bidPrice  markPrice  \\\n",
       "time                                                                     \n",
       "2020-05-26 10:10:25.115  2020-05-26T10:10:25.115Z  8849.0    8855.14     \n",
       "2020-05-26 10:10:25.123  2020-05-26T10:10:25.123Z  8849.0    8855.14     \n",
       "2020-05-26 10:10:25.123  2020-05-26T10:10:25.123Z  8849.0    8856.36     \n",
       "2020-05-26 10:10:27.427  2020-05-26T10:10:27.427Z  8849.0    8856.36     \n",
       "2020-05-26 10:10:27.856  2020-05-26T10:10:27.856Z  8849.0    8856.36     \n",
       "\n",
       "                         openInterest  askPrice  homeNotional24h  \\\n",
       "time                                                               \n",
       "2020-05-26 10:10:25.115  589717967.0   8849.5    191181.674588     \n",
       "2020-05-26 10:10:25.123  589717967.0   8849.5    191181.674588     \n",
       "2020-05-26 10:10:25.123  589717967.0   8849.5    191181.674588     \n",
       "2020-05-26 10:10:27.427  589717967.0   8849.5    191181.674588     \n",
       "2020-05-26 10:10:27.856  589717967.0   8849.5    191181.674588     \n",
       "\n",
       "                         totalTurnover  fairPrice  prevTotalVolume  \\\n",
       "time                                                                 \n",
       "2020-05-26 10:10:25.115  3.179733e+16   8855.14    2.301912e+12      \n",
       "2020-05-26 10:10:25.123  3.179733e+16   8855.14    2.301912e+12      \n",
       "2020-05-26 10:10:25.123  3.179733e+16   8856.36    2.301912e+12      \n",
       "2020-05-26 10:10:27.427  3.179733e+16   8856.36    2.301912e+12      \n",
       "2020-05-26 10:10:27.856  3.179733e+16   8856.36    2.301912e+12      \n",
       "\n",
       "                             volume  indicativeSettlePrice   turnover24h  \\\n",
       "time                                                                       \n",
       "2020-05-26 10:10:25.115  43083865.0  8854.94                1.911817e+13   \n",
       "2020-05-26 10:10:25.123  43083865.0  8854.94                1.911817e+13   \n",
       "2020-05-26 10:10:25.123  43083865.0  8856.16                1.911817e+13   \n",
       "2020-05-26 10:10:27.427  43083865.0  8856.16                1.911817e+13   \n",
       "2020-05-26 10:10:27.856  43083865.0  8856.16                1.911817e+13   \n",
       "\n",
       "                              vwap  prevPrice24h   state  \\\n",
       "time                                                       \n",
       "2020-05-26 10:10:25.115  8844.0789  8744.0        Closed   \n",
       "2020-05-26 10:10:25.123  8844.0789  8744.0        Closed   \n",
       "2020-05-26 10:10:25.123  8844.0789  8744.0        Closed   \n",
       "2020-05-26 10:10:27.427  8844.0789  8744.0        Closed   \n",
       "2020-05-26 10:10:27.856  8844.0789  8744.0        Closed   \n",
       "\n",
       "                                 openingTimestamp  fairBasis  \\\n",
       "time                                                           \n",
       "2020-05-26 10:10:25.115  2020-05-26T10:00:00.000Z  0.2         \n",
       "2020-05-26 10:10:25.123  2020-05-26T10:00:00.000Z  0.2         \n",
       "2020-05-26 10:10:25.123  2020-05-26T10:00:00.000Z  0.2         \n",
       "2020-05-26 10:10:27.427  2020-05-26T10:00:00.000Z  0.2         \n",
       "2020-05-26 10:10:27.856  2020-05-26T10:00:00.000Z  0.2         \n",
       "\n",
       "                                 closingTimestamp  prevTotalTurnover  \\\n",
       "time                                                                   \n",
       "2020-05-26 10:10:25.115  2020-05-26T11:00:00.000Z  3.179685e+16        \n",
       "2020-05-26 10:10:25.123  2020-05-26T11:00:00.000Z  3.179685e+16        \n",
       "2020-05-26 10:10:25.123  2020-05-26T11:00:00.000Z  3.179685e+16        \n",
       "2020-05-26 10:10:27.427  2020-05-26T11:00:00.000Z  3.179685e+16        \n",
       "2020-05-26 10:10:27.856  2020-05-26T11:00:00.000Z  3.179685e+16        \n",
       "\n",
       "                             turnover  symbol  lastPrice   totalVolume  \\\n",
       "time                                                                     \n",
       "2020-05-26 10:10:25.115  4.872321e+11  XBTUSD  8849.0     2.301955e+12   \n",
       "2020-05-26 10:10:25.123  4.872321e+11  XBTUSD  8849.0     2.301955e+12   \n",
       "2020-05-26 10:10:25.123  4.872321e+11  XBTUSD  8849.0     2.301955e+12   \n",
       "2020-05-26 10:10:27.427  4.872321e+11  XBTUSD  8849.5     2.301955e+12   \n",
       "2020-05-26 10:10:27.856  4.872321e+11  XBTUSD  8849.0     2.301955e+12   \n",
       "\n",
       "                         lastPriceProtected lastTickDirection     openValue  \\\n",
       "time                                                                          \n",
       "2020-05-26 10:10:25.115  8849.5              MinusTick         6.659685e+12   \n",
       "2020-05-26 10:10:25.123  8849.5              ZeroMinusTick     6.659685e+12   \n",
       "2020-05-26 10:10:25.123  8849.5              ZeroMinusTick     6.658506e+12   \n",
       "2020-05-26 10:10:27.427  8849.5              PlusTick          6.658506e+12   \n",
       "2020-05-26 10:10:27.856  8849.5              MinusTick         6.658506e+12   \n",
       "\n",
       "                         lastChangePcnt  highPrice  midPrice  \\\n",
       "time                                                           \n",
       "2020-05-26 10:10:25.115  0.0120          9002.5     8849.25    \n",
       "2020-05-26 10:10:25.123  0.0120          9002.5     8849.25    \n",
       "2020-05-26 10:10:25.123  0.0120          9002.5     8849.25    \n",
       "2020-05-26 10:10:27.427  0.0121          9002.5     8849.25    \n",
       "2020-05-26 10:10:27.856  0.0120          9002.5     8849.25    \n",
       "\n",
       "                         foreignNotional24h  impactAskPrice  impactMidPrice  \n",
       "time                                                                         \n",
       "2020-05-26 10:10:25.115  1.693319e+09        8849.5575       8849.25         \n",
       "2020-05-26 10:10:25.123  1.693319e+09        8849.5575       8849.25         \n",
       "2020-05-26 10:10:25.123  1.693319e+09        8849.5575       8849.25         \n",
       "2020-05-26 10:10:27.427  1.693319e+09        8849.5575       8849.25         \n",
       "2020-05-26 10:10:27.856  1.693319e+09        8849.5575       8849.25         "
      ]
     },
     "execution_count": 164,
     "metadata": {},
     "output_type": "execute_result"
    }
   ],
   "source": [
    "dsinsdf.tail()"
   ]
  },
  {
   "cell_type": "code",
   "execution_count": 166,
   "metadata": {},
   "outputs": [
    {
     "data": {
      "text/plain": [
       "1625225398.0"
      ]
     },
     "execution_count": 166,
     "metadata": {},
     "output_type": "execute_result"
    }
   ],
   "source": [
    "dsinsdf[\"volume24h\"][0]"
   ]
  },
  {
   "cell_type": "code",
   "execution_count": 165,
   "metadata": {},
   "outputs": [
    {
     "data": {
      "text/plain": [
       "volume24h                float64\n",
       "impactBidPrice           float64\n",
       "timestamp                object \n",
       "bidPrice                 float64\n",
       "markPrice                float64\n",
       "openInterest             float64\n",
       "askPrice                 float64\n",
       "homeNotional24h          float64\n",
       "totalTurnover            float64\n",
       "fairPrice                float64\n",
       "prevTotalVolume          float64\n",
       "volume                   float64\n",
       "indicativeSettlePrice    float64\n",
       "turnover24h              float64\n",
       "vwap                     float64\n",
       "prevPrice24h             float64\n",
       "state                    object \n",
       "openingTimestamp         object \n",
       "fairBasis                float64\n",
       "closingTimestamp         object \n",
       "prevTotalTurnover        float64\n",
       "turnover                 float64\n",
       "symbol                   object \n",
       "lastPrice                float64\n",
       "totalVolume              float64\n",
       "lastPriceProtected       float64\n",
       "lastTickDirection        object \n",
       "openValue                float64\n",
       "lastChangePcnt           float64\n",
       "highPrice                float64\n",
       "midPrice                 float64\n",
       "foreignNotional24h       float64\n",
       "impactAskPrice           float64\n",
       "impactMidPrice           float64\n",
       "dtype: object"
      ]
     },
     "execution_count": 165,
     "metadata": {},
     "output_type": "execute_result"
    }
   ],
   "source": [
    "dsinsdf.dtypes"
   ]
  },
  {
   "cell_type": "code",
   "execution_count": 167,
   "metadata": {},
   "outputs": [],
   "source": [
    "tblins = \"instrument:([]time:`datetime$();volume24h:`float$();impactBidPrice:`float$();bidPrice:`float$();markPrice:`float$();openInterest:`float$();askPrice:`float$();homeNotional24h:`float$();totalTurnover:`float$();fairPrice:`float$();prevTotalVolume:`float$();volume:`float$();indicativeSettlePrice:`float$();turnover24h:`float$();vwap:`float$();prevPrice24h:`float$();fairBasis:`float$();prevTotalTurnover:`float$();turnover:`float$();lastPrice:`float$();totalVolume:`float$();lastPriceProtected:`float$();openValue:`float$();lastChangePcnt:`float$();midPrice:`float$();foreignNotional24h:`float$();impactAskPrice:`float$();impactMidPrice:`float$())\""
   ]
  },
  {
   "cell_type": "code",
   "execution_count": 168,
   "metadata": {},
   "outputs": [],
   "source": [
    "with qconnection.QConnection(host = \"localhost\", port=5050, pandas=True) as q:\n",
    "        data = q.sendSync(tblins) "
   ]
  },
  {
   "cell_type": "code",
   "execution_count": 130,
   "metadata": {},
   "outputs": [],
   "source": [
    "dsinsdf[\"time\"] = pd.to_datetime(dsinsdf[\"timestamp\"], format=\"%Y-%m-%dT%H:%M:%S.%fZ\")"
   ]
  },
  {
   "cell_type": "code",
   "execution_count": 132,
   "metadata": {},
   "outputs": [],
   "source": [
    "dsinsdf.set_index(['time'], inplace=True)"
   ]
  },
  {
   "cell_type": "code",
   "execution_count": 133,
   "metadata": {},
   "outputs": [],
   "source": [
    "dsinsdf.sort_index(inplace=True)"
   ]
  },
  {
   "cell_type": "code",
   "execution_count": 151,
   "metadata": {},
   "outputs": [],
   "source": [
    "dsinsdf.fillna(method='ffill', inplace=True)\n",
    "dsinsdf.fillna(method='bfill', inplace=True)"
   ]
  },
  {
   "cell_type": "code",
   "execution_count": 138,
   "metadata": {
    "cell_style": "split"
   },
   "outputs": [
    {
     "data": {
      "text/plain": [
       "<matplotlib.axes._subplots.AxesSubplot at 0x7f6c2948ab70>"
      ]
     },
     "execution_count": 138,
     "metadata": {},
     "output_type": "execute_result"
    },
    {
     "data": {
      "image/png": "[encoded data removed]",
      "text/plain": [
       "<Figure size 720x720 with 1 Axes>"
      ]
     },
     "metadata": {
      "needs_background": "light"
     },
     "output_type": "display_data"
    }
   ],
   "source": [
    "dsinsdf[[\"openInterest\"]].plot(figsize=(10, 10))"
   ]
  },
  {
   "cell_type": "code",
   "execution_count": 144,
   "metadata": {
    "cell_style": "split",
    "scrolled": true
   },
   "outputs": [
    {
     "data": {
      "text/plain": [
       "<matplotlib.axes._subplots.AxesSubplot at 0x7f6c28d3dc50>"
      ]
     },
     "execution_count": 144,
     "metadata": {},
     "output_type": "execute_result"
    },
    {
     "data": {
      "image/png": "[encoded data removed]",
      "text/plain": [
       "<Figure size 720x720 with 1 Axes>"
      ]
     },
     "metadata": {
      "needs_background": "light"
     },
     "output_type": "display_data"
    }
   ],
   "source": [
    "dsinsdf[[\"openValue\"]].plot(figsize=(10, 10))"
   ]
  },
  {
   "cell_type": "code",
   "execution_count": null,
   "metadata": {},
   "outputs": [],
   "source": [
    "tblins = \"instrument:impactAskPrice:`float$();impactMidPrice:`float$())\""
   ]
  },
  {
   "cell_type": "code",
   "execution_count": 172,
   "metadata": {},
   "outputs": [],
   "source": [
    "def ins_ins(df):        \n",
    "    return \"`instrument insert(\"+\"\".join([\n",
    "        '[]time:\"Z\"$('+\"; \".join('\"'+str(i)+'\"' for i in df[\"timestamp\"].tolist()) + \");\",\n",
    "#         \"symbol:\"+\"\".join('`'+str(\"XBTUSD\").lower() for i in df[\"symbol\"].tolist())+\";\",\n",
    "        \"volume24h:\"+\" \".join(str(i) for i in df[\"volume24h\"].tolist())+\"f;\", #\n",
    "        \"impactBidPrice:\"+\" \".join(str(i) for i in df['impactBidPrice'].tolist()) + \"f;\",\n",
    "        \"bidPrice:\"+\" \".join(str(i) for i in df['bidPrice'].tolist()) + \"f;\",\n",
    "        \"markPrice:\"+\" \".join(str(i) for i in df['markPrice'].tolist()) + \"f;\",\n",
    "        \"openInterest:\"+\" \".join(str(i) for i in df['openInterest'].tolist()) + \"f;\",\n",
    "        \"askPrice:\"+\" \".join(str(i) for i in df['askPrice'].tolist()) + \"f;\",\n",
    "        \"homeNotional24h:\"+\" \".join(str(i) for i in df['homeNotional24h'].tolist()) + \"f;\",\n",
    "        \"totalTurnover:\"+\" \".join(str(i) for i in df['totalTurnover'].tolist()) + \"f;\",\n",
    "        \"fairPrice:\"+\" \".join(str(i) for i in df['fairPrice'].tolist()) + \"f;\",\n",
    "        \"prevTotalVolume:\"+\" \".join(str(i) for i in df['prevTotalVolume'].tolist()) + \"f;\",\n",
    "        \"volume:\"+\" \".join(str(i) for i in df['volume'].tolist()) + \"f;\",\n",
    "        \"indicativeSettlePrice:\"+\" \".join(str(i) for i in df['indicativeSettlePrice'].tolist()) + \"f;\",\n",
    "        \"turnover24h:\"+\" \".join(str(i) for i in df['turnover24h'].tolist()) + \"f;\",\n",
    "        \"vwap:\"+\" \".join(str(i) for i in df['vwap'].tolist()) + \"f;\",\n",
    "        \"prevPrice24h:\"+\" \".join(str(i) for i in df['prevPrice24h'].tolist()) + \"f;\",\n",
    "        \"fairBasis:\"+\" \".join(str(i) for i in df['fairBasis'].tolist()) + \"f;\",\n",
    "        \"prevTotalTurnover:\"+\" \".join(str(i) for i in df['prevTotalTurnover'].tolist()) + \"f;\",\n",
    "        \"turnover:\"+\" \".join(str(i) for i in df['turnover'].tolist()) + \"f;\",\n",
    "        \"lastPrice:\"+\" \".join(str(i) for i in df['lastPrice'].tolist()) + \"f;\",\n",
    "        \"totalVolume:\"+\" \".join(str(i) for i in df['totalVolume'].tolist()) + \"f;\",\n",
    "        \"lastPriceProtected:\"+\" \".join(str(i) for i in df['lastPriceProtected'].tolist()) + \"f;\",\n",
    "        \"openValue:\"+\" \".join(str(i) for i in df['openValue'].tolist()) + \"f;\",\n",
    "        \"lastChangePcnt:\"+\" \".join(str(i) for i in df['lastChangePcnt'].tolist()) + \"f;\",\n",
    "        \"midPrice:\"+\" \".join(str(i) for i in df['midPrice'].tolist()) + \"f;\",\n",
    "        \"foreignNotional24h:\"+\" \".join(str(i) for i in df['foreignNotional24h'].tolist()) + \"f;\",\n",
    "        \"impactAskPrice:\"+\" \".join(str(i) for i in df['impactAskPrice'].tolist()) + \"f;\",\n",
    "        \"impactMidPrice:\"+\" \".join(str(i) for i in df['impactMidPrice'].tolist()) + \"f\",\n",
    "    ]) + \")\""
   ]
  },
  {
   "cell_type": "code",
   "execution_count": 173,
   "metadata": {},
   "outputs": [],
   "source": [
    "insins = ins_ins(dsinsdf) "
   ]
  },
  {
   "cell_type": "code",
   "execution_count": null,
   "metadata": {},
   "outputs": [],
   "source": []
  },
  {
   "cell_type": "code",
   "execution_count": 174,
   "metadata": {},
   "outputs": [
    {
     "name": "stdout",
     "output_type": "stream",
     "text": [
      "0        0    \n",
      "1        1    \n",
      "2        2    \n",
      "3        3    \n",
      "4        4    \n",
      "        ..    \n",
      "18367    18367\n",
      "18368    18368\n",
      "18369    18369\n",
      "18370    18370\n",
      "18371    18371\n",
      "Length: 18372, dtype: int64\n"
     ]
    }
   ],
   "source": [
    "with qconnection.QConnection(host = \"localhost\", port=5050, pandas=True) as q:\n",
    "        data = q.sendSync(insins)\n",
    "        print(data)"
   ]
  },
  {
   "cell_type": "code",
   "execution_count": null,
   "metadata": {},
   "outputs": [],
   "source": []
  },
  {
   "cell_type": "code",
   "execution_count": null,
   "metadata": {},
   "outputs": [],
   "source": []
  },
  {
   "cell_type": "code",
   "execution_count": 15,
   "metadata": {},
   "outputs": [],
   "source": [
    "def derive_ins(x):\n",
    "    return {\n",
    "        'symbol':x['symbol'],\n",
    "        'timestamp': x['timestamp'],\n",
    "        'ask0_price': x['asks'][0][0],\n",
    "        'ask1_price': x['asks'][1][0],\n",
    "        'ask2_price': x['asks'][2][0],\n",
    "        'ask3_price': x['asks'][3][0],\n",
    "        'ask4_price': x['asks'][4][0],\n",
    "        'ask5_price': x['asks'][5][0],\n",
    "        'ask6_price': x['asks'][6][0],\n",
    "        'ask7_price': x['asks'][7][0],\n",
    "        'ask8_price': x['asks'][8][0],\n",
    "        'ask9_price': x['asks'][9][0],\n",
    "        'ask0_size': x['asks'][0][1],\n",
    "        'ask1_size': x['asks'][1][1],\n",
    "        'ask2_size': x['asks'][2][1],\n",
    "        'ask3_size': x['asks'][3][1],\n",
    "        'ask4_size': x['asks'][4][1],\n",
    "        'ask5_size': x['asks'][5][1],\n",
    "        'ask6_size': x['asks'][6][1],\n",
    "        'ask7_size': x['asks'][7][1],\n",
    "        'ask8_size': x['asks'][8][1],\n",
    "        'ask9_size': x['asks'][9][1],\n",
    "        'bid0_price': x['bids'][0][0],\n",
    "        'bid1_price': x['bids'][1][0],\n",
    "        'bid2_price': x['bids'][2][0],\n",
    "        'bid3_price': x['bids'][3][0],\n",
    "        'bid4_price': x['bids'][4][0],\n",
    "        'bid5_price': x['bids'][5][0],\n",
    "        'bid6_price': x['bids'][6][0],\n",
    "        'bid7_price': x['bids'][7][0],\n",
    "        'bid8_price': x['bids'][8][0],\n",
    "        'bid9_price': x['bids'][9][0],\n",
    "        'bid0_size': x['bids'][0][1],\n",
    "        'bid1_size': x['bids'][1][1],\n",
    "        'bid2_size': x['bids'][2][1],\n",
    "        'bid3_size': x['bids'][3][1],\n",
    "        'bid4_size': x['bids'][4][1],\n",
    "        'bid5_size': x['bids'][5][1],\n",
    "        'bid6_size': x['bids'][6][1],\n",
    "        'bid7_size': x['bids'][7][1],\n",
    "        'bid8_size': x['bids'][8][1],\n",
    "        'bid9_size': x['bids'][9][1],\n",
    "    }\n",
    "obd=[[derive_ins(m)for m in xb.iloc[x]] for x in range(len(xb))]"
   ]
  },
  {
   "cell_type": "code",
   "execution_count": 17,
   "metadata": {},
   "outputs": [],
   "source": [
    "del obd"
   ]
  },
  {
   "cell_type": "code",
   "execution_count": 16,
   "metadata": {},
   "outputs": [],
   "source": [
    "flat_list = []\n",
    "for sublist in obd:\n",
    "    for item in sublist:\n",
    "        flat_list.append(item)"
   ]
  },
  {
   "cell_type": "code",
   "execution_count": 19,
   "metadata": {},
   "outputs": [],
   "source": [
    "del flat_list"
   ]
  },
  {
   "cell_type": "code",
   "execution_count": 18,
   "metadata": {},
   "outputs": [],
   "source": [
    "odf = pd.DataFrame(flat_list)"
   ]
  },
  {
   "cell_type": "code",
   "execution_count": 20,
   "metadata": {},
   "outputs": [
    {
     "data": {
      "text/plain": [
       "808636"
      ]
     },
     "execution_count": 20,
     "metadata": {},
     "output_type": "execute_result"
    }
   ],
   "source": [
    "len(odf)"
   ]
  },
  {
   "cell_type": "code",
   "execution_count": 32,
   "metadata": {},
   "outputs": [],
   "source": [
    "def derive_insert(df):\n",
    "    return \"`orderbook insert(\"+\"\".join([\n",
    "        '[]time:\"Z\"$('+\"; \".join('\"'+str(i)+'\"' for i in df[\"timestamp\"].tolist()) + \");\",\n",
    "        \"symbol:\"+\"\".join('`'+str(i).lower() for i in df[\"symbol\"].tolist())+\";\",\n",
    "        \"ask0_price:\"+\" \".join(str(i) for i in df['ask0_price'].tolist()) + \"f;\",\n",
    "        \"ask1_price:\"+\" \".join(str(i) for i in df['ask1_price'].tolist()) + \"f;\",\n",
    "        \"ask2_price:\"+\" \".join(str(i) for i in df['ask2_price'].tolist()) + \"f;\",\n",
    "        \"ask3_price:\"+\" \".join(str(i) for i in df['ask3_price'].tolist()) + \"f;\",\n",
    "        \"ask4_price:\"+\" \".join(str(i) for i in df['ask4_price'].tolist()) + \"f;\",\n",
    "        \"ask5_price:\"+\" \".join(str(i) for i in df['ask5_price'].tolist()) + \"f;\",\n",
    "        \"ask6_price:\"+\" \".join(str(i) for i in df['ask6_price'].tolist()) + \"f;\",\n",
    "        \"ask7_price:\"+\" \".join(str(i) for i in df['ask7_price'].tolist()) + \"f;\",\n",
    "        \"ask8_price:\"+\" \".join(str(i) for i in df['ask8_price'].tolist()) + \"f;\",\n",
    "        \"ask9_price:\"+\" \".join(str(i) for i in df['ask9_price'].tolist()) + \"f;\",\n",
    "        \"ask0_size:\"+\" \".join(str(i) for i in df[\"ask0_size\"].tolist()) + \";\",\n",
    "        \"ask1_size:\"+\" \".join(str(i) for i in df[\"ask1_size\"].tolist()) + \";\",\n",
    "        \"ask2_size:\"+\" \".join(str(i) for i in df[\"ask2_size\"].tolist()) + \";\",\n",
    "        \"ask3_size:\"+\" \".join(str(i) for i in df[\"ask3_size\"].tolist()) + \";\",\n",
    "        \"ask4_size:\"+\" \".join(str(i) for i in df[\"ask4_size\"].tolist()) + \";\",\n",
    "        \"ask5_size:\"+\" \".join(str(i) for i in df[\"ask5_size\"].tolist()) + \";\",\n",
    "        \"ask6_size:\"+\" \".join(str(i) for i in df[\"ask6_size\"].tolist()) + \";\",\n",
    "        \"ask7_size:\"+\" \".join(str(i) for i in df[\"ask7_size\"].tolist()) + \";\",\n",
    "        \"ask8_size:\"+\" \".join(str(i) for i in df[\"ask8_size\"].tolist()) + \";\",\n",
    "        \"ask9_size:\"+\" \".join(str(i) for i in df[\"ask9_size\"].tolist()) + \";\",\n",
    "        \"bid0_price:\"+\" \".join(str(i) for i in df['bid0_price'].tolist()) + \"f;\",\n",
    "        \"bid1_price:\"+\" \".join(str(i) for i in df['bid1_price'].tolist()) + \"f;\",\n",
    "        \"bid2_price:\"+\" \".join(str(i) for i in df['bid2_price'].tolist()) + \"f;\",\n",
    "        \"bid3_price:\"+\" \".join(str(i) for i in df['bid3_price'].tolist()) + \"f;\",\n",
    "        \"bid4_price:\"+\" \".join(str(i) for i in df['bid4_price'].tolist()) + \"f;\",\n",
    "        \"bid5_price:\"+\" \".join(str(i) for i in df['bid5_price'].tolist()) + \"f;\",\n",
    "        \"bid6_price:\"+\" \".join(str(i) for i in df['bid6_price'].tolist()) + \"f;\",\n",
    "        \"bid7_price:\"+\" \".join(str(i) for i in df['bid7_price'].tolist()) + \"f;\",\n",
    "        \"bid8_price:\"+\" \".join(str(i) for i in df['bid8_price'].tolist()) + \"f;\",\n",
    "        \"bid9_price:\"+\" \".join(str(i) for i in df['bid9_price'].tolist()) + \"f;\",\n",
    "        \"bid0_size:\"+\" \".join(str(i) for i in df[\"bid0_size\"].tolist()) + \";\",\n",
    "        \"bid1_size:\"+\" \".join(str(i) for i in df[\"bid1_size\"].tolist()) + \";\",\n",
    "        \"bid2_size:\"+\" \".join(str(i) for i in df[\"bid2_size\"].tolist()) + \";\",\n",
    "        \"bid3_size:\"+\" \".join(str(i) for i in df[\"bid3_size\"].tolist()) + \";\",\n",
    "        \"bid4_size:\"+\" \".join(str(i) for i in df[\"bid4_size\"].tolist()) + \";\",\n",
    "        \"bid5_size:\"+\" \".join(str(i) for i in df[\"bid5_size\"].tolist()) + \";\",\n",
    "        \"bid6_size:\"+\" \".join(str(i) for i in df[\"bid6_size\"].tolist()) + \";\",\n",
    "        \"bid7_size:\"+\" \".join(str(i) for i in df[\"bid7_size\"].tolist()) + \";\",\n",
    "        \"bid8_size:\"+\" \".join(str(i) for i in df[\"bid8_size\"].tolist()) + \";\",\n",
    "        \"bid9_size:\"+\" \".join(str(i) for i in df[\"bid9_size\"].tolist()),\n",
    "    ]) + \")\""
   ]
  },
  {
   "cell_type": "code",
   "execution_count": 50,
   "metadata": {},
   "outputs": [],
   "source": [
    "oins = derive_insert(odf[650000:])"
   ]
  },
  {
   "cell_type": "code",
   "execution_count": 34,
   "metadata": {},
   "outputs": [
    {
     "data": {
      "text/plain": [
       "'`orderbook insert([]time:\"Z\"$(\"2020-05-26T08:00:41.308Z\"; \"2020-05-26T08:00:41.309Z\"; \"2020-05-26T08:00:41.311Z\"; \"2020-05-26T08:00:41.313Z\"; \"2020-05-26T08:00:41.314Z\");symbol:`xbtusd`xbtusd`xbtusd`xbtusd`xbtusd;ask0_price:8961.5 8961.5 8961.5 8961.5 8961.5f;ask1_price:8962.0 8962.0 8962.0 8962.0 8962.0f;ask2_price:8962.5 8962.5 8962.5 8962.5 8962.5f;ask3_price:8963.0 8963.0 8963.0 8963.0 8963.0f;ask4_price:8963.5 8963.5 8963.5 8963.5 8963.5f;ask5_price:8964.0 8964.0 8964.0 8964.0 8964.0f;ask6_price:8964.5 8964.5 8964.5 8964.5 8964.5f;ask7_price:8965.0 8965.0 8965.0 8965.0 8965.0f;ask8_price:8965.5 8965.5 8965.5 8965.5 8965.5f;ask9_price:8966.0 8966.0 8966.0 8966.0 8966.0f;ask0_size:1456693 1546328 1546328 1556535 1556535;ask1_size:5100 5100 5100 5100 5100;ask2_size:9581 9581 9581 9581 9581;ask3_size:4600 4600 4600 4600 4600;ask4_size:350221 350221 350221 350221 350221;ask5_size:388489 388489 388489 378280 374280;ask6_size:299514 299514 299514 299514 299514;ask7_size:222132 222132 222132 222132 222132;ask8_size:31249 31249 31249 31249 31249;ask9_size:112835 112835 112835 112835 112835;bid0_price:8961.0 8961.0 8961.0 8961.0 8961.0f;bid1_price:8960.5 8960.5 8960.5 8960.5 8960.5f;bid2_price:8960.0 8960.0 8960.0 8960.0 8960.0f;bid3_price:8959.5 8959.5 8959.5 8959.5 8959.5f;bid4_price:8959.0 8959.0 8959.0 8959.0 8959.0f;bid5_price:8958.5 8958.5 8958.5 8958.5 8958.5f;bid6_price:8958.0 8958.0 8958.0 8958.0 8958.0f;bid7_price:8957.5 8957.5 8957.5 8957.5 8957.5f;bid8_price:8957.0 8957.0 8957.0 8957.0 8957.0f;bid9_price:8956.5 8956.5 8956.5 8956.5 8956.5f;bid0_size:455469 455469 555469 555469 555469;bid1_size:12747 12747 12747 12747 12747;bid2_size:17975 17975 17975 17975 17975;bid3_size:1000 1000 1000 1000 1000;bid4_size:43657 43657 43657 43657 43657;bid5_size:34932 34932 34932 34932 34932;bid6_size:44545 44545 44545 44545 44545;bid7_size:148358 148358 148358 148358 148358;bid8_size:148757 148757 148757 148757 148757;bid9_size:136435 136435 136435 136435 136435)'"
      ]
     },
     "execution_count": 34,
     "metadata": {},
     "output_type": "execute_result"
    }
   ],
   "source": [
    "oins"
   ]
  },
  {
   "cell_type": "code",
   "execution_count": 51,
   "metadata": {},
   "outputs": [
    {
     "name": "stdout",
     "output_type": "stream",
     "text": [
      "0         650005\n",
      "1         650006\n",
      "2         650007\n",
      "3         650008\n",
      "4         650009\n",
      "           ...  \n",
      "158631    808636\n",
      "158632    808637\n",
      "158633    808638\n",
      "158634    808639\n",
      "158635    808640\n",
      "Length: 158636, dtype: int64\n"
     ]
    }
   ],
   "source": [
    "with qconnection.QConnection(host = \"localhost\", port=5050, pandas=True) as q:\n",
    "        data = q.sendSync(oins)\n",
    "        print(data)"
   ]
  },
  {
   "cell_type": "code",
   "execution_count": 20,
   "metadata": {},
   "outputs": [
    {
     "data": {
      "text/plain": [
       "'2020-05-26T08:00:41.308Z'"
      ]
     },
     "execution_count": 20,
     "metadata": {},
     "output_type": "execute_result"
    }
   ],
   "source": [
    "\n",
    "for x in xb:\n",
    "    datetime.strptime( xb.iloc[0][0]['timestamp']"
   ]
  },
  {
   "cell_type": "code",
   "execution_count": null,
   "metadata": {},
   "outputs": [],
   "source": [
    "ins = \"`trades insert(\"+\"\".join([\n",
    "'[]time:\"Z\"$('+\"; \".join('\"'+str(i)+'\"' for i in dx[\"timestamp\"].tolist()) + \");\",\n",
    "\"side:\"+\"\".join('`'+str(i) for i in dx[\"side\"].tolist()) + \";\",\n",
    "\"size: \"+\" \".join(str(i) for i in dx[\"size\"].tolist()) + \";\",\n",
    "\"grossValue:\"+\" \".join(str(i) for i in dx[\"grossValue\"].tolist()) + \";\",\n",
    "\"homeNotional:\"+\" \".join(str(i) for i in dx[\"homeNotional\"].tolist()) + \"f;\",\n",
    "\"foreignNotional:\"+\" \".join(str(i) for i in dx[\"foreignNotional\"].tolist()) + \";\",\n",
    "]) + \")\""
   ]
  },
  {
   "cell_type": "code",
   "execution_count": 185,
   "metadata": {},
   "outputs": [],
   "source": [
    "o = []\n",
    "for s in ['ask', 'bid']:\n",
    "    for i in range(10):\n",
    "        for ps, t in [['price', 'float'],['size', 'long']]:\n",
    "            o.append(s+str(i)+\"_\"+ps+\":`\"+t+\"$()\")"
   ]
  },
  {
   "cell_type": "code",
   "execution_count": 188,
   "metadata": {},
   "outputs": [],
   "source": [
    "otbl = \"orderbook:([]time:`datetime$();symbol:`symbol$();\"+\";\".join(o)+\")\"\n",
    "with qconnection.QConnection(host = \"localhost\", port=5050, pandas=True) as q:\n",
    "        data = q.sendSync(otbl) "
   ]
  },
  {
   "cell_type": "code",
   "execution_count": 29,
   "metadata": {},
   "outputs": [],
   "source": [
    "d = pd.DataFrame(xy)"
   ]
  },
  {
   "cell_type": "code",
   "execution_count": null,
   "metadata": {},
   "outputs": [],
   "source": []
  },
  {
   "cell_type": "code",
   "execution_count": null,
   "metadata": {},
   "outputs": [],
   "source": []
  },
  {
   "cell_type": "code",
   "execution_count": 146,
   "metadata": {},
   "outputs": [],
   "source": [
    "tbl = \"trades:([]time:`datetime$();side:`symbol$();size:`long$();price:`float$();grossValue:`long$();homeNotional:`float$();foreignNotional:`long$();symbol:`symbol$())\""
   ]
  },
  {
   "cell_type": "code",
   "execution_count": 23,
   "metadata": {},
   "outputs": [],
   "source": [
    "from qpython import qconnection"
   ]
  },
  {
   "cell_type": "code",
   "execution_count": 189,
   "metadata": {},
   "outputs": [],
   "source": [
    "with qconnection.QConnection(host = \"localhost\", port=5050, pandas=True) as q:\n",
    "        data = q.sendSync(tbl) "
   ]
  },
  {
   "cell_type": "code",
   "execution_count": null,
   "metadata": {},
   "outputs": [],
   "source": [
    "2020.05.27T12:25:01.530"
   ]
  },
  {
   "cell_type": "code",
   "execution_count": 162,
   "metadata": {},
   "outputs": [],
   "source": [
    "dx = d.copy()"
   ]
  },
  {
   "cell_type": "code",
   "execution_count": 163,
   "metadata": {},
   "outputs": [],
   "source": [
    "ins = \"`trades insert(\"+\"\".join([\n",
    "'[]time:\"Z\"$('+\"; \".join('\"'+str(i)+'\"' for i in dx[\"timestamp\"].tolist()) + \");\",\n",
    "\"side:\"+\"\".join('`'+str(i) for i in dx[\"side\"].tolist()) + \";\",\n",
    "\"size: \"+\" \".join(str(i) for i in dx[\"size\"].tolist()) + \";\",\n",
    "\"price: \"+\" \".join(str(i) for i in dx[\"price\"].tolist()) + \"f;\",\n",
    "\"grossValue:\"+\" \".join(str(i) for i in dx[\"grossValue\"].tolist()) + \";\",\n",
    "\"homeNotional:\"+\" \".join(str(i) for i in dx[\"homeNotional\"].tolist()) + \"f;\",\n",
    "\"foreignNotional:\"+\" \".join(str(i) for i in dx[\"foreignNotional\"].tolist()) + \";\",\n",
    "\"symbol:\"+\"\".join('`'+str(i).lower() for i in dx[\"symbol\"].tolist()) \n",
    "]) + \")\""
   ]
  },
  {
   "cell_type": "code",
   "execution_count": 153,
   "metadata": {},
   "outputs": [],
   "source": []
  },
  {
   "cell_type": "code",
   "execution_count": 159,
   "metadata": {},
   "outputs": [
    {
     "data": {
      "text/plain": [
       "'`trades insert([]time:\"Z\"$(\"2020-05-26T09:23:08.830Z\"; \"2020-05-26T09:23:09.018Z\");side:`Buy`Buy;size: 10000 20;price: 8950.5 8950.5f;grossValue:111730000 223460;homeNotional:1.1173 0.0022346f;foreignNotional:10000 20;symbol:`xbtusd`xbtusd)'"
      ]
     },
     "execution_count": 159,
     "metadata": {},
     "output_type": "execute_result"
    }
   ],
   "source": [
    "ins"
   ]
  },
  {
   "cell_type": "code",
   "execution_count": 164,
   "metadata": {},
   "outputs": [
    {
     "name": "stdout",
     "output_type": "stream",
     "text": [
      "0        0    \n",
      "1        1    \n",
      "2        2    \n",
      "3        3    \n",
      "4        4    \n",
      "        ..    \n",
      "45371    45371\n",
      "45372    45372\n",
      "45373    45373\n",
      "45374    45374\n",
      "45375    45375\n",
      "Length: 45376, dtype: int64\n"
     ]
    }
   ],
   "source": [
    "with qconnection.QConnection(host = \"localhost\", port=5050, pandas=True) as q:\n",
    "        data = q.sendSync(ins)\n",
    "        print(data)"
   ]
  },
  {
   "cell_type": "code",
   "execution_count": null,
   "metadata": {},
   "outputs": [],
   "source": [
    "with qconnection.QConnection(host = \"localhost\", port=5050, pandas=True) as q:\n",
    "        data = q.sendSync(tbl) "
   ]
  },
  {
   "cell_type": "code",
   "execution_count": null,
   "metadata": {},
   "outputs": [],
   "source": []
  },
  {
   "cell_type": "code",
   "execution_count": null,
   "metadata": {},
   "outputs": [],
   "source": []
  },
  {
   "cell_type": "code",
   "execution_count": null,
   "metadata": {},
   "outputs": [],
   "source": []
  },
  {
   "cell_type": "code",
   "execution_count": null,
   "metadata": {},
   "outputs": [],
   "source": []
  },
  {
   "cell_type": "code",
   "execution_count": 15,
   "metadata": {},
   "outputs": [],
   "source": [
    "ob = []\n",
    "for i in xb:\n",
    "    for x in i:\n",
    "        ob.append(x)"
   ]
  },
  {
   "cell_type": "code",
   "execution_count": 17,
   "metadata": {},
   "outputs": [
    {
     "data": {
      "text/plain": [
       "{'symbol': 'XBTUSD',\n",
       " 'bids': [[8961, 455469],\n",
       "  [8960.5, 12747],\n",
       "  [8960, 17975],\n",
       "  [8959.5, 1000],\n",
       "  [8959, 43657],\n",
       "  [8958.5, 34932],\n",
       "  [8958, 44545],\n",
       "  [8957.5, 148358],\n",
       "  [8957, 148757],\n",
       "  [8956.5, 136435]],\n",
       " 'timestamp': '2020-05-26T08:00:41.308Z',\n",
       " 'asks': [[8961.5, 1456693],\n",
       "  [8962, 5100],\n",
       "  [8962.5, 9581],\n",
       "  [8963, 4600],\n",
       "  [8963.5, 350221],\n",
       "  [8964, 388489],\n",
       "  [8964.5, 299514],\n",
       "  [8965, 222132],\n",
       "  [8965.5, 31249],\n",
       "  [8966, 112835]]}"
      ]
     },
     "execution_count": 17,
     "metadata": {},
     "output_type": "execute_result"
    }
   ],
   "source": [
    "ob[0]"
   ]
  },
  {
   "cell_type": "code",
   "execution_count": 61,
   "metadata": {},
   "outputs": [
    {
     "data": {
      "text/plain": [
       "datetime.datetime(2020, 5, 26, 9, 23, 8, 830000)"
      ]
     },
     "execution_count": 61,
     "metadata": {},
     "output_type": "execute_result"
    }
   ],
   "source": [
    "datetime.strptime('2020-05-26T09:23:08.830Z', '%Y-%m-%dT%H:%M:%S.%fZ').strftime()"
   ]
  },
  {
   "cell_type": "code",
   "execution_count": null,
   "metadata": {},
   "outputs": [],
   "source": [
    "2020.05.27T12:25:01.530"
   ]
  },
  {
   "cell_type": "code",
   "execution_count": 60,
   "metadata": {},
   "outputs": [
    {
     "name": "stdout",
     "output_type": "stream",
     "text": [
      "<class 'datetime.datetime'>\n",
      "2018-09-19 13:55:26\n"
     ]
    }
   ],
   "source": [
    "datetime_str = '09/19/18 13:55:26'\n",
    "\n",
    "datetime_object = datetime.strptime(datetime_str, '%m/%d/%y %H:%M:%S')\n",
    "\n",
    "print(type(datetime_object))\n",
    "print(datetime_object) "
   ]
  },
  {
   "cell_type": "code",
   "execution_count": 62,
   "metadata": {},
   "outputs": [
    {
     "data": {
      "text/plain": [
       "808636"
      ]
     },
     "execution_count": 62,
     "metadata": {},
     "output_type": "execute_result"
    }
   ],
   "source": [
    "len(xb)"
   ]
  },
  {
   "cell_type": "code",
   "execution_count": 10,
   "metadata": {},
   "outputs": [
    {
     "name": "stdout",
     "output_type": "stream",
     "text": [
      "0    0\n",
      "1    1\n",
      "2    2\n",
      "3    3\n",
      "4    4\n",
      "dtype: int64\n"
     ]
    }
   ],
   "source": [
    "with qconnection.QConnection(host = \"localhost\", port=5050, pandas=True) as q:\n",
    "    data = q.sendSync(\"til 5\") \n",
    "    print(data.head())"
   ]
  }
 ],
 "metadata": {
  "kernelspec": {
   "display_name": "Python (bitcoin)",
   "language": "python",
   "name": "bitcoin"
  },
  "language_info": {
   "codemirror_mode": {
    "name": "ipython",
    "version": 3
   },
   "file_extension": ".py",
   "mimetype": "text/x-python",
   "name": "python",
   "nbconvert_exporter": "python",
   "pygments_lexer": "ipython3",
   "version": "3.6.8"
  },
  "latex_envs": {
   "LaTeX_envs_menu_present": true,
   "autoclose": false,
   "autocomplete": true,
   "bibliofile": "biblio.bib",
   "cite_by": "apalike",
   "current_citInitial": 1,
   "eqLabelWithNumbers": true,
   "eqNumInitial": 1,
   "hotkeys": {
    "equation": "Ctrl-E",
    "itemize": "Ctrl-I"
   },
   "labels_anchors": false,
   "latex_user_defs": false,
   "report_style_numbering": false,
   "user_envs_cfg": false
  },
  "varInspector": {
   "cols": {
    "lenName": 16,
    "lenType": 16,
    "lenVar": 40
   },
   "kernels_config": {
    "python": {
     "delete_cmd_postfix": "",
     "delete_cmd_prefix": "del ",
     "library": "var_list.py",
     "varRefreshCmd": "print(var_dic_list())"
    },
    "r": {
     "delete_cmd_postfix": ") ",
     "delete_cmd_prefix": "rm(",
     "library": "var_list.r",
     "varRefreshCmd": "cat(var_dic_list()) "
    }
   },
   "types_to_exclude": [
    "module",
    "function",
    "builtin_function_or_method",
    "instance",
    "_Feature"
   ],
   "window_display": false
  }
 },
 "nbformat": 4,
 "nbformat_minor": 2
}
